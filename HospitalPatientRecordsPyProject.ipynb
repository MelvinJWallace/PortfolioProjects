{
 "cells": [
  {
   "cell_type": "markdown",
   "metadata": {},
   "source": [
    "I will be playing the role of an Analytics Consultant for Massachusetts General Hospital (MGH). I have been asked to build a high-level KPI report for the executive team, based on a subset of patient records. The purpose of the report is to give stakeholders visibility into the hospital's recent performance, and answer the following questions:\n",
    "\n",
    "- How many patients have been admitted or readmitted over time?\n",
    "- How long are patients staying in the hospital, on average?\n",
    "- How much is the average cost per visit?\n",
    "- How many procedures are covered by insurance?\n",
    "\n",
    "The CEO has asked me to summarize any insights that I can derive from the sample provided.\n",
    "\n",
    "###### The dataset for this project has been retrieved from the mavenanalytics.io website. This is synthetic data on roughly 1000 patients of Massachussets General Hospital from the years of 2011 through 2022, which includes information on patient demographics, insurance coverage, and medical encounter and procedures.\n",
    "\n",
    "**Importing Necessary Libraries**"
   ]
  },
  {
   "cell_type": "code",
   "execution_count": 3,
   "metadata": {},
   "outputs": [],
   "source": [
    "import numpy as np\n",
    "import pandas as pd \n",
    "pd.set_option(\"display.max_rows\", None)\n",
    "pd.set_option(\"display.max_columns\", None)\n",
    "import matplotlib.pyplot as plt\n",
    "%matplotlib inline\n",
    "from matplotlib import style \n",
    "style.use(\"ggplot\")\n",
    "import seaborn as sns\n",
    "sns.set_style(\"darkgrid\")\n"
   ]
  },
  {
   "cell_type": "markdown",
   "metadata": {},
   "source": [
    "**Loading Data Into a DataFrame**"
   ]
  },
  {
   "cell_type": "code",
   "execution_count": 4,
   "metadata": {},
   "outputs": [],
   "source": [
    "encounters = pd.read_csv(r\"C:\\Users\\mjaso\\Downloads\\Hospital+Patient+Records\\Hospital_Patient_Record_Folder\\encounters.csv\")\n",
    "organizations = pd.read_csv(r\"C:\\Users\\mjaso\\Downloads\\Hospital+Patient+Records\\Hospital_Patient_Record_Folder\\organizations.csv\")\n",
    "patients = pd.read_csv(r\"C:\\Users\\mjaso\\Downloads\\Hospital+Patient+Records\\Hospital_Patient_Record_Folder\\patients.csv\")\n",
    "payers = pd.read_csv(r\"C:\\Users\\mjaso\\Downloads\\Hospital+Patient+Records\\Hospital_Patient_Record_Folder\\payers.csv\")\n",
    "procedures = pd.read_csv(r\"C:\\Users\\mjaso\\Downloads\\Hospital+Patient+Records\\Hospital_Patient_Record_Folder\\procedures.csv\")\n",
    "\n"
   ]
  },
  {
   "cell_type": "code",
   "execution_count": 5,
   "metadata": {},
   "outputs": [
    {
     "data": {
      "text/html": [
       "<div>\n",
       "<style scoped>\n",
       "    .dataframe tbody tr th:only-of-type {\n",
       "        vertical-align: middle;\n",
       "    }\n",
       "\n",
       "    .dataframe tbody tr th {\n",
       "        vertical-align: top;\n",
       "    }\n",
       "\n",
       "    .dataframe thead th {\n",
       "        text-align: right;\n",
       "    }\n",
       "</style>\n",
       "<table border=\"1\" class=\"dataframe\">\n",
       "  <thead>\n",
       "    <tr style=\"text-align: right;\">\n",
       "      <th></th>\n",
       "      <th>Id</th>\n",
       "      <th>START</th>\n",
       "      <th>STOP</th>\n",
       "      <th>PATIENT</th>\n",
       "      <th>ORGANIZATION</th>\n",
       "      <th>PAYER</th>\n",
       "      <th>ENCOUNTERCLASS</th>\n",
       "      <th>CODE</th>\n",
       "      <th>DESCRIPTION</th>\n",
       "      <th>BASE_ENCOUNTER_COST</th>\n",
       "      <th>TOTAL_CLAIM_COST</th>\n",
       "      <th>PAYER_COVERAGE</th>\n",
       "      <th>REASONCODE</th>\n",
       "      <th>REASONDESCRIPTION</th>\n",
       "    </tr>\n",
       "  </thead>\n",
       "  <tbody>\n",
       "    <tr>\n",
       "      <th>0</th>\n",
       "      <td>32c84703-2481-49cd-d571-3899d5820253</td>\n",
       "      <td>2011-01-02T09:26:36Z</td>\n",
       "      <td>2011-01-02T12:58:36Z</td>\n",
       "      <td>3de74169-7f67-9304-91d4-757e0f3a14d2</td>\n",
       "      <td>d78e84ec-30aa-3bba-a33a-f29a3a454662</td>\n",
       "      <td>b1c428d6-4f07-31e0-90f0-68ffa6ff8c76</td>\n",
       "      <td>ambulatory</td>\n",
       "      <td>185347001</td>\n",
       "      <td>Encounter for problem (procedure)</td>\n",
       "      <td>85.55</td>\n",
       "      <td>1018.02</td>\n",
       "      <td>0.00</td>\n",
       "      <td>NaN</td>\n",
       "      <td>NaN</td>\n",
       "    </tr>\n",
       "    <tr>\n",
       "      <th>1</th>\n",
       "      <td>c98059da-320a-c0a6-fced-c8815f3e3f39</td>\n",
       "      <td>2011-01-03T05:44:39Z</td>\n",
       "      <td>2011-01-03T06:01:42Z</td>\n",
       "      <td>d9ec2e44-32e9-9148-179a-1653348cc4e2</td>\n",
       "      <td>d78e84ec-30aa-3bba-a33a-f29a3a454662</td>\n",
       "      <td>b1c428d6-4f07-31e0-90f0-68ffa6ff8c76</td>\n",
       "      <td>outpatient</td>\n",
       "      <td>308335008</td>\n",
       "      <td>Patient encounter procedure</td>\n",
       "      <td>142.58</td>\n",
       "      <td>2619.36</td>\n",
       "      <td>0.00</td>\n",
       "      <td>NaN</td>\n",
       "      <td>NaN</td>\n",
       "    </tr>\n",
       "    <tr>\n",
       "      <th>2</th>\n",
       "      <td>4ad28a3a-2479-782b-f29c-d5b3f41a001e</td>\n",
       "      <td>2011-01-03T14:32:11Z</td>\n",
       "      <td>2011-01-03T14:47:11Z</td>\n",
       "      <td>73babadf-5b2b-fee7-189e-6f41ff213e01</td>\n",
       "      <td>d78e84ec-30aa-3bba-a33a-f29a3a454662</td>\n",
       "      <td>7caa7254-5050-3b5e-9eae-bd5ea30e809c</td>\n",
       "      <td>outpatient</td>\n",
       "      <td>185349003</td>\n",
       "      <td>Encounter for check up (procedure)</td>\n",
       "      <td>85.55</td>\n",
       "      <td>461.59</td>\n",
       "      <td>305.27</td>\n",
       "      <td>NaN</td>\n",
       "      <td>NaN</td>\n",
       "    </tr>\n",
       "    <tr>\n",
       "      <th>3</th>\n",
       "      <td>c3f4da61-e4b4-21d5-587a-fbc89943bc19</td>\n",
       "      <td>2011-01-03T16:24:45Z</td>\n",
       "      <td>2011-01-03T16:39:45Z</td>\n",
       "      <td>3b46a0b7-0f34-9b9a-c319-ace4a1f58c0b</td>\n",
       "      <td>d78e84ec-30aa-3bba-a33a-f29a3a454662</td>\n",
       "      <td>b1c428d6-4f07-31e0-90f0-68ffa6ff8c76</td>\n",
       "      <td>wellness</td>\n",
       "      <td>162673000</td>\n",
       "      <td>General examination of patient (procedure)</td>\n",
       "      <td>136.80</td>\n",
       "      <td>1784.24</td>\n",
       "      <td>0.00</td>\n",
       "      <td>NaN</td>\n",
       "      <td>NaN</td>\n",
       "    </tr>\n",
       "    <tr>\n",
       "      <th>4</th>\n",
       "      <td>a9183b4f-2572-72ea-54c2-b3cd038b4be7</td>\n",
       "      <td>2011-01-03T17:36:53Z</td>\n",
       "      <td>2011-01-03T17:51:53Z</td>\n",
       "      <td>fa006887-d93c-d302-8b89-f3c25f88c0e1</td>\n",
       "      <td>d78e84ec-30aa-3bba-a33a-f29a3a454662</td>\n",
       "      <td>42c4fca7-f8a9-3cd1-982a-dd9751bf3e2a</td>\n",
       "      <td>ambulatory</td>\n",
       "      <td>390906007</td>\n",
       "      <td>Follow-up encounter</td>\n",
       "      <td>85.55</td>\n",
       "      <td>234.72</td>\n",
       "      <td>0.00</td>\n",
       "      <td>55822004.0</td>\n",
       "      <td>Hyperlipidemia</td>\n",
       "    </tr>\n",
       "  </tbody>\n",
       "</table>\n",
       "</div>"
      ],
      "text/plain": [
       "                                     Id                 START  \\\n",
       "0  32c84703-2481-49cd-d571-3899d5820253  2011-01-02T09:26:36Z   \n",
       "1  c98059da-320a-c0a6-fced-c8815f3e3f39  2011-01-03T05:44:39Z   \n",
       "2  4ad28a3a-2479-782b-f29c-d5b3f41a001e  2011-01-03T14:32:11Z   \n",
       "3  c3f4da61-e4b4-21d5-587a-fbc89943bc19  2011-01-03T16:24:45Z   \n",
       "4  a9183b4f-2572-72ea-54c2-b3cd038b4be7  2011-01-03T17:36:53Z   \n",
       "\n",
       "                   STOP                               PATIENT  \\\n",
       "0  2011-01-02T12:58:36Z  3de74169-7f67-9304-91d4-757e0f3a14d2   \n",
       "1  2011-01-03T06:01:42Z  d9ec2e44-32e9-9148-179a-1653348cc4e2   \n",
       "2  2011-01-03T14:47:11Z  73babadf-5b2b-fee7-189e-6f41ff213e01   \n",
       "3  2011-01-03T16:39:45Z  3b46a0b7-0f34-9b9a-c319-ace4a1f58c0b   \n",
       "4  2011-01-03T17:51:53Z  fa006887-d93c-d302-8b89-f3c25f88c0e1   \n",
       "\n",
       "                           ORGANIZATION                                 PAYER  \\\n",
       "0  d78e84ec-30aa-3bba-a33a-f29a3a454662  b1c428d6-4f07-31e0-90f0-68ffa6ff8c76   \n",
       "1  d78e84ec-30aa-3bba-a33a-f29a3a454662  b1c428d6-4f07-31e0-90f0-68ffa6ff8c76   \n",
       "2  d78e84ec-30aa-3bba-a33a-f29a3a454662  7caa7254-5050-3b5e-9eae-bd5ea30e809c   \n",
       "3  d78e84ec-30aa-3bba-a33a-f29a3a454662  b1c428d6-4f07-31e0-90f0-68ffa6ff8c76   \n",
       "4  d78e84ec-30aa-3bba-a33a-f29a3a454662  42c4fca7-f8a9-3cd1-982a-dd9751bf3e2a   \n",
       "\n",
       "  ENCOUNTERCLASS       CODE                                 DESCRIPTION  \\\n",
       "0     ambulatory  185347001           Encounter for problem (procedure)   \n",
       "1     outpatient  308335008                 Patient encounter procedure   \n",
       "2     outpatient  185349003          Encounter for check up (procedure)   \n",
       "3       wellness  162673000  General examination of patient (procedure)   \n",
       "4     ambulatory  390906007                         Follow-up encounter   \n",
       "\n",
       "   BASE_ENCOUNTER_COST  TOTAL_CLAIM_COST  PAYER_COVERAGE  REASONCODE  \\\n",
       "0                85.55           1018.02            0.00         NaN   \n",
       "1               142.58           2619.36            0.00         NaN   \n",
       "2                85.55            461.59          305.27         NaN   \n",
       "3               136.80           1784.24            0.00         NaN   \n",
       "4                85.55            234.72            0.00  55822004.0   \n",
       "\n",
       "  REASONDESCRIPTION  \n",
       "0               NaN  \n",
       "1               NaN  \n",
       "2               NaN  \n",
       "3               NaN  \n",
       "4    Hyperlipidemia  "
      ]
     },
     "execution_count": 5,
     "metadata": {},
     "output_type": "execute_result"
    }
   ],
   "source": [
    "encounters.head()"
   ]
  },
  {
   "cell_type": "code",
   "execution_count": 6,
   "metadata": {},
   "outputs": [
    {
     "data": {
      "text/html": [
       "<div>\n",
       "<style scoped>\n",
       "    .dataframe tbody tr th:only-of-type {\n",
       "        vertical-align: middle;\n",
       "    }\n",
       "\n",
       "    .dataframe tbody tr th {\n",
       "        vertical-align: top;\n",
       "    }\n",
       "\n",
       "    .dataframe thead th {\n",
       "        text-align: right;\n",
       "    }\n",
       "</style>\n",
       "<table border=\"1\" class=\"dataframe\">\n",
       "  <thead>\n",
       "    <tr style=\"text-align: right;\">\n",
       "      <th></th>\n",
       "      <th>Id</th>\n",
       "      <th>START</th>\n",
       "      <th>STOP</th>\n",
       "      <th>PATIENT</th>\n",
       "      <th>ORGANIZATION</th>\n",
       "      <th>PAYER</th>\n",
       "      <th>ENCOUNTERCLASS</th>\n",
       "      <th>CODE</th>\n",
       "      <th>DESCRIPTION</th>\n",
       "      <th>BASE_ENCOUNTER_COST</th>\n",
       "      <th>TOTAL_CLAIM_COST</th>\n",
       "      <th>PAYER_COVERAGE</th>\n",
       "      <th>REASONCODE</th>\n",
       "      <th>REASONDESCRIPTION</th>\n",
       "    </tr>\n",
       "  </thead>\n",
       "  <tbody>\n",
       "    <tr>\n",
       "      <th>27886</th>\n",
       "      <td>917bb534-2ed3-e1f5-ac27-74f314d19c63</td>\n",
       "      <td>2022-01-29T11:42:06Z</td>\n",
       "      <td>2022-01-29T11:57:06Z</td>\n",
       "      <td>0c122290-8c15-77ac-b418-2fea4e8a8e6a</td>\n",
       "      <td>d78e84ec-30aa-3bba-a33a-f29a3a454662</td>\n",
       "      <td>7c4411ce-02f1-39b5-b9ec-dfbea9ad3c1a</td>\n",
       "      <td>outpatient</td>\n",
       "      <td>185349003</td>\n",
       "      <td>Encounter for check up (procedure)</td>\n",
       "      <td>85.55</td>\n",
       "      <td>85.55</td>\n",
       "      <td>24.27</td>\n",
       "      <td>NaN</td>\n",
       "      <td>NaN</td>\n",
       "    </tr>\n",
       "    <tr>\n",
       "      <th>27887</th>\n",
       "      <td>07710480-9d6b-9c9b-87c3-c1d54df4069d</td>\n",
       "      <td>2022-01-29T20:12:53Z</td>\n",
       "      <td>2022-01-29T20:27:53Z</td>\n",
       "      <td>20a4bc24-6b69-2f5c-dc74-1df390cae25b</td>\n",
       "      <td>d78e84ec-30aa-3bba-a33a-f29a3a454662</td>\n",
       "      <td>7caa7254-5050-3b5e-9eae-bd5ea30e809c</td>\n",
       "      <td>urgentcare</td>\n",
       "      <td>702927004</td>\n",
       "      <td>Urgent care clinic (procedure)</td>\n",
       "      <td>142.58</td>\n",
       "      <td>10588.34</td>\n",
       "      <td>8438.67</td>\n",
       "      <td>NaN</td>\n",
       "      <td>NaN</td>\n",
       "    </tr>\n",
       "    <tr>\n",
       "      <th>27888</th>\n",
       "      <td>01b57f06-cebe-a3e4-4423-a796ffb0c35d</td>\n",
       "      <td>2022-01-29T20:35:37Z</td>\n",
       "      <td>2022-01-29T20:50:37Z</td>\n",
       "      <td>ff1b3c26-53a6-4590-ce79-a3f7269274ea</td>\n",
       "      <td>d78e84ec-30aa-3bba-a33a-f29a3a454662</td>\n",
       "      <td>b1c428d6-4f07-31e0-90f0-68ffa6ff8c76</td>\n",
       "      <td>ambulatory</td>\n",
       "      <td>424619006</td>\n",
       "      <td>Prenatal visit</td>\n",
       "      <td>142.58</td>\n",
       "      <td>11984.29</td>\n",
       "      <td>0.00</td>\n",
       "      <td>72892002.0</td>\n",
       "      <td>Normal pregnancy</td>\n",
       "    </tr>\n",
       "    <tr>\n",
       "      <th>27889</th>\n",
       "      <td>7d435668-0813-eb3b-0f26-cb741fb39561</td>\n",
       "      <td>2022-01-29T20:35:37Z</td>\n",
       "      <td>2022-01-29T20:50:37Z</td>\n",
       "      <td>ff1b3c26-53a6-4590-ce79-a3f7269274ea</td>\n",
       "      <td>d78e84ec-30aa-3bba-a33a-f29a3a454662</td>\n",
       "      <td>b1c428d6-4f07-31e0-90f0-68ffa6ff8c76</td>\n",
       "      <td>wellness</td>\n",
       "      <td>162673000</td>\n",
       "      <td>General examination of patient (procedure)</td>\n",
       "      <td>136.80</td>\n",
       "      <td>408.80</td>\n",
       "      <td>0.00</td>\n",
       "      <td>NaN</td>\n",
       "      <td>NaN</td>\n",
       "    </tr>\n",
       "    <tr>\n",
       "      <th>27890</th>\n",
       "      <td>64dfd3ce-7123-fa23-ec24-f74b492553e2</td>\n",
       "      <td>2022-02-05T20:27:36Z</td>\n",
       "      <td>2022-02-05T20:42:36Z</td>\n",
       "      <td>e2d8e1ed-6f63-54e2-d14e-8346799e92ef</td>\n",
       "      <td>d78e84ec-30aa-3bba-a33a-f29a3a454662</td>\n",
       "      <td>7caa7254-5050-3b5e-9eae-bd5ea30e809c</td>\n",
       "      <td>wellness</td>\n",
       "      <td>308646001</td>\n",
       "      <td>Death Certification</td>\n",
       "      <td>136.80</td>\n",
       "      <td>0.00</td>\n",
       "      <td>0.00</td>\n",
       "      <td>88805009.0</td>\n",
       "      <td>Chronic congestive heart failure (disorder)</td>\n",
       "    </tr>\n",
       "  </tbody>\n",
       "</table>\n",
       "</div>"
      ],
      "text/plain": [
       "                                         Id                 START  \\\n",
       "27886  917bb534-2ed3-e1f5-ac27-74f314d19c63  2022-01-29T11:42:06Z   \n",
       "27887  07710480-9d6b-9c9b-87c3-c1d54df4069d  2022-01-29T20:12:53Z   \n",
       "27888  01b57f06-cebe-a3e4-4423-a796ffb0c35d  2022-01-29T20:35:37Z   \n",
       "27889  7d435668-0813-eb3b-0f26-cb741fb39561  2022-01-29T20:35:37Z   \n",
       "27890  64dfd3ce-7123-fa23-ec24-f74b492553e2  2022-02-05T20:27:36Z   \n",
       "\n",
       "                       STOP                               PATIENT  \\\n",
       "27886  2022-01-29T11:57:06Z  0c122290-8c15-77ac-b418-2fea4e8a8e6a   \n",
       "27887  2022-01-29T20:27:53Z  20a4bc24-6b69-2f5c-dc74-1df390cae25b   \n",
       "27888  2022-01-29T20:50:37Z  ff1b3c26-53a6-4590-ce79-a3f7269274ea   \n",
       "27889  2022-01-29T20:50:37Z  ff1b3c26-53a6-4590-ce79-a3f7269274ea   \n",
       "27890  2022-02-05T20:42:36Z  e2d8e1ed-6f63-54e2-d14e-8346799e92ef   \n",
       "\n",
       "                               ORGANIZATION  \\\n",
       "27886  d78e84ec-30aa-3bba-a33a-f29a3a454662   \n",
       "27887  d78e84ec-30aa-3bba-a33a-f29a3a454662   \n",
       "27888  d78e84ec-30aa-3bba-a33a-f29a3a454662   \n",
       "27889  d78e84ec-30aa-3bba-a33a-f29a3a454662   \n",
       "27890  d78e84ec-30aa-3bba-a33a-f29a3a454662   \n",
       "\n",
       "                                      PAYER ENCOUNTERCLASS       CODE  \\\n",
       "27886  7c4411ce-02f1-39b5-b9ec-dfbea9ad3c1a     outpatient  185349003   \n",
       "27887  7caa7254-5050-3b5e-9eae-bd5ea30e809c     urgentcare  702927004   \n",
       "27888  b1c428d6-4f07-31e0-90f0-68ffa6ff8c76     ambulatory  424619006   \n",
       "27889  b1c428d6-4f07-31e0-90f0-68ffa6ff8c76       wellness  162673000   \n",
       "27890  7caa7254-5050-3b5e-9eae-bd5ea30e809c       wellness  308646001   \n",
       "\n",
       "                                      DESCRIPTION  BASE_ENCOUNTER_COST  \\\n",
       "27886          Encounter for check up (procedure)                85.55   \n",
       "27887              Urgent care clinic (procedure)               142.58   \n",
       "27888                              Prenatal visit               142.58   \n",
       "27889  General examination of patient (procedure)               136.80   \n",
       "27890                         Death Certification               136.80   \n",
       "\n",
       "       TOTAL_CLAIM_COST  PAYER_COVERAGE  REASONCODE  \\\n",
       "27886             85.55           24.27         NaN   \n",
       "27887          10588.34         8438.67         NaN   \n",
       "27888          11984.29            0.00  72892002.0   \n",
       "27889            408.80            0.00         NaN   \n",
       "27890              0.00            0.00  88805009.0   \n",
       "\n",
       "                                 REASONDESCRIPTION  \n",
       "27886                                          NaN  \n",
       "27887                                          NaN  \n",
       "27888                             Normal pregnancy  \n",
       "27889                                          NaN  \n",
       "27890  Chronic congestive heart failure (disorder)  "
      ]
     },
     "execution_count": 6,
     "metadata": {},
     "output_type": "execute_result"
    }
   ],
   "source": [
    "encounters.tail()"
   ]
  },
  {
   "cell_type": "code",
   "execution_count": 7,
   "metadata": {},
   "outputs": [
    {
     "data": {
      "text/html": [
       "<div>\n",
       "<style scoped>\n",
       "    .dataframe tbody tr th:only-of-type {\n",
       "        vertical-align: middle;\n",
       "    }\n",
       "\n",
       "    .dataframe tbody tr th {\n",
       "        vertical-align: top;\n",
       "    }\n",
       "\n",
       "    .dataframe thead th {\n",
       "        text-align: right;\n",
       "    }\n",
       "</style>\n",
       "<table border=\"1\" class=\"dataframe\">\n",
       "  <thead>\n",
       "    <tr style=\"text-align: right;\">\n",
       "      <th></th>\n",
       "      <th>Id</th>\n",
       "      <th>NAME</th>\n",
       "      <th>ADDRESS</th>\n",
       "      <th>CITY</th>\n",
       "      <th>STATE</th>\n",
       "      <th>ZIP</th>\n",
       "      <th>LAT</th>\n",
       "      <th>LON</th>\n",
       "    </tr>\n",
       "  </thead>\n",
       "  <tbody>\n",
       "    <tr>\n",
       "      <th>0</th>\n",
       "      <td>d78e84ec-30aa-3bba-a33a-f29a3a454662</td>\n",
       "      <td>MASSACHUSETTS GENERAL HOSPITAL</td>\n",
       "      <td>55 FRUIT STREET</td>\n",
       "      <td>BOSTON</td>\n",
       "      <td>MA</td>\n",
       "      <td>2114</td>\n",
       "      <td>42.362813</td>\n",
       "      <td>-71.069187</td>\n",
       "    </tr>\n",
       "  </tbody>\n",
       "</table>\n",
       "</div>"
      ],
      "text/plain": [
       "                                     Id                            NAME  \\\n",
       "0  d78e84ec-30aa-3bba-a33a-f29a3a454662  MASSACHUSETTS GENERAL HOSPITAL   \n",
       "\n",
       "           ADDRESS    CITY STATE   ZIP        LAT        LON  \n",
       "0  55 FRUIT STREET  BOSTON    MA  2114  42.362813 -71.069187  "
      ]
     },
     "execution_count": 7,
     "metadata": {},
     "output_type": "execute_result"
    }
   ],
   "source": [
    "organizations.head()"
   ]
  },
  {
   "cell_type": "code",
   "execution_count": 8,
   "metadata": {},
   "outputs": [
    {
     "data": {
      "text/html": [
       "<div>\n",
       "<style scoped>\n",
       "    .dataframe tbody tr th:only-of-type {\n",
       "        vertical-align: middle;\n",
       "    }\n",
       "\n",
       "    .dataframe tbody tr th {\n",
       "        vertical-align: top;\n",
       "    }\n",
       "\n",
       "    .dataframe thead th {\n",
       "        text-align: right;\n",
       "    }\n",
       "</style>\n",
       "<table border=\"1\" class=\"dataframe\">\n",
       "  <thead>\n",
       "    <tr style=\"text-align: right;\">\n",
       "      <th></th>\n",
       "      <th>Id</th>\n",
       "      <th>BIRTHDATE</th>\n",
       "      <th>DEATHDATE</th>\n",
       "      <th>PREFIX</th>\n",
       "      <th>FIRST</th>\n",
       "      <th>LAST</th>\n",
       "      <th>SUFFIX</th>\n",
       "      <th>MAIDEN</th>\n",
       "      <th>MARITAL</th>\n",
       "      <th>RACE</th>\n",
       "      <th>ETHNICITY</th>\n",
       "      <th>GENDER</th>\n",
       "      <th>BIRTHPLACE</th>\n",
       "      <th>ADDRESS</th>\n",
       "      <th>CITY</th>\n",
       "      <th>STATE</th>\n",
       "      <th>COUNTY</th>\n",
       "      <th>ZIP</th>\n",
       "      <th>LAT</th>\n",
       "      <th>LON</th>\n",
       "    </tr>\n",
       "  </thead>\n",
       "  <tbody>\n",
       "    <tr>\n",
       "      <th>0</th>\n",
       "      <td>5605b66b-e92d-c16c-1b83-b8bf7040d51f</td>\n",
       "      <td>1977-03-19</td>\n",
       "      <td>NaN</td>\n",
       "      <td>Mrs.</td>\n",
       "      <td>Nikita578</td>\n",
       "      <td>Erdman779</td>\n",
       "      <td>NaN</td>\n",
       "      <td>Leannon79</td>\n",
       "      <td>M</td>\n",
       "      <td>white</td>\n",
       "      <td>nonhispanic</td>\n",
       "      <td>F</td>\n",
       "      <td>Wakefield  Massachusetts  US</td>\n",
       "      <td>510 Little Station Unit 69</td>\n",
       "      <td>Quincy</td>\n",
       "      <td>Massachusetts</td>\n",
       "      <td>Norfolk County</td>\n",
       "      <td>2186.0</td>\n",
       "      <td>42.290937</td>\n",
       "      <td>-70.975503</td>\n",
       "    </tr>\n",
       "    <tr>\n",
       "      <th>1</th>\n",
       "      <td>6e5ae27c-8038-7988-e2c0-25a103f01bfa</td>\n",
       "      <td>1940-02-19</td>\n",
       "      <td>NaN</td>\n",
       "      <td>Mr.</td>\n",
       "      <td>Zane918</td>\n",
       "      <td>Hodkiewicz467</td>\n",
       "      <td>NaN</td>\n",
       "      <td>NaN</td>\n",
       "      <td>M</td>\n",
       "      <td>white</td>\n",
       "      <td>nonhispanic</td>\n",
       "      <td>M</td>\n",
       "      <td>Brookline  Massachusetts  US</td>\n",
       "      <td>747 Conn Throughway</td>\n",
       "      <td>Boston</td>\n",
       "      <td>Massachusetts</td>\n",
       "      <td>Suffolk County</td>\n",
       "      <td>2135.0</td>\n",
       "      <td>42.308831</td>\n",
       "      <td>-71.063162</td>\n",
       "    </tr>\n",
       "    <tr>\n",
       "      <th>2</th>\n",
       "      <td>8123d076-0886-9007-e956-d5864aa121a7</td>\n",
       "      <td>1958-06-04</td>\n",
       "      <td>NaN</td>\n",
       "      <td>Mr.</td>\n",
       "      <td>Quinn173</td>\n",
       "      <td>Marquardt819</td>\n",
       "      <td>NaN</td>\n",
       "      <td>NaN</td>\n",
       "      <td>M</td>\n",
       "      <td>white</td>\n",
       "      <td>nonhispanic</td>\n",
       "      <td>M</td>\n",
       "      <td>Gardner  Massachusetts  US</td>\n",
       "      <td>816 Okuneva Extension Apt 91</td>\n",
       "      <td>Quincy</td>\n",
       "      <td>Massachusetts</td>\n",
       "      <td>Norfolk County</td>\n",
       "      <td>2170.0</td>\n",
       "      <td>42.265177</td>\n",
       "      <td>-70.967085</td>\n",
       "    </tr>\n",
       "    <tr>\n",
       "      <th>3</th>\n",
       "      <td>770518e4-6133-648e-60c9-071eb2f0e2ce</td>\n",
       "      <td>1928-12-25</td>\n",
       "      <td>2017-09-29</td>\n",
       "      <td>Mr.</td>\n",
       "      <td>Abel832</td>\n",
       "      <td>Smitham825</td>\n",
       "      <td>NaN</td>\n",
       "      <td>NaN</td>\n",
       "      <td>M</td>\n",
       "      <td>white</td>\n",
       "      <td>hispanic</td>\n",
       "      <td>M</td>\n",
       "      <td>Randolph  Massachusetts  US</td>\n",
       "      <td>127 Cole Way Unit 95</td>\n",
       "      <td>Boston</td>\n",
       "      <td>Massachusetts</td>\n",
       "      <td>Suffolk County</td>\n",
       "      <td>2118.0</td>\n",
       "      <td>42.334304</td>\n",
       "      <td>-71.066801</td>\n",
       "    </tr>\n",
       "    <tr>\n",
       "      <th>4</th>\n",
       "      <td>f96addf5-81b9-0aab-7855-d208d3d352c5</td>\n",
       "      <td>1928-12-25</td>\n",
       "      <td>2014-02-23</td>\n",
       "      <td>Mr.</td>\n",
       "      <td>Edwin773</td>\n",
       "      <td>Labadie908</td>\n",
       "      <td>NaN</td>\n",
       "      <td>NaN</td>\n",
       "      <td>M</td>\n",
       "      <td>white</td>\n",
       "      <td>hispanic</td>\n",
       "      <td>M</td>\n",
       "      <td>Stow  Massachusetts  US</td>\n",
       "      <td>976 Ziemann Gateway</td>\n",
       "      <td>Boston</td>\n",
       "      <td>Massachusetts</td>\n",
       "      <td>Suffolk County</td>\n",
       "      <td>2125.0</td>\n",
       "      <td>42.346771</td>\n",
       "      <td>-71.058813</td>\n",
       "    </tr>\n",
       "  </tbody>\n",
       "</table>\n",
       "</div>"
      ],
      "text/plain": [
       "                                     Id   BIRTHDATE   DEATHDATE PREFIX  \\\n",
       "0  5605b66b-e92d-c16c-1b83-b8bf7040d51f  1977-03-19         NaN   Mrs.   \n",
       "1  6e5ae27c-8038-7988-e2c0-25a103f01bfa  1940-02-19         NaN    Mr.   \n",
       "2  8123d076-0886-9007-e956-d5864aa121a7  1958-06-04         NaN    Mr.   \n",
       "3  770518e4-6133-648e-60c9-071eb2f0e2ce  1928-12-25  2017-09-29    Mr.   \n",
       "4  f96addf5-81b9-0aab-7855-d208d3d352c5  1928-12-25  2014-02-23    Mr.   \n",
       "\n",
       "       FIRST           LAST SUFFIX     MAIDEN MARITAL   RACE    ETHNICITY  \\\n",
       "0  Nikita578      Erdman779    NaN  Leannon79       M  white  nonhispanic   \n",
       "1    Zane918  Hodkiewicz467    NaN        NaN       M  white  nonhispanic   \n",
       "2   Quinn173   Marquardt819    NaN        NaN       M  white  nonhispanic   \n",
       "3    Abel832     Smitham825    NaN        NaN       M  white     hispanic   \n",
       "4   Edwin773     Labadie908    NaN        NaN       M  white     hispanic   \n",
       "\n",
       "  GENDER                    BIRTHPLACE                       ADDRESS    CITY  \\\n",
       "0      F  Wakefield  Massachusetts  US    510 Little Station Unit 69  Quincy   \n",
       "1      M  Brookline  Massachusetts  US           747 Conn Throughway  Boston   \n",
       "2      M    Gardner  Massachusetts  US  816 Okuneva Extension Apt 91  Quincy   \n",
       "3      M   Randolph  Massachusetts  US          127 Cole Way Unit 95  Boston   \n",
       "4      M       Stow  Massachusetts  US           976 Ziemann Gateway  Boston   \n",
       "\n",
       "           STATE          COUNTY     ZIP        LAT        LON  \n",
       "0  Massachusetts  Norfolk County  2186.0  42.290937 -70.975503  \n",
       "1  Massachusetts  Suffolk County  2135.0  42.308831 -71.063162  \n",
       "2  Massachusetts  Norfolk County  2170.0  42.265177 -70.967085  \n",
       "3  Massachusetts  Suffolk County  2118.0  42.334304 -71.066801  \n",
       "4  Massachusetts  Suffolk County  2125.0  42.346771 -71.058813  "
      ]
     },
     "execution_count": 8,
     "metadata": {},
     "output_type": "execute_result"
    }
   ],
   "source": [
    "patients.head()"
   ]
  },
  {
   "cell_type": "code",
   "execution_count": 9,
   "metadata": {},
   "outputs": [
    {
     "data": {
      "text/html": [
       "<div>\n",
       "<style scoped>\n",
       "    .dataframe tbody tr th:only-of-type {\n",
       "        vertical-align: middle;\n",
       "    }\n",
       "\n",
       "    .dataframe tbody tr th {\n",
       "        vertical-align: top;\n",
       "    }\n",
       "\n",
       "    .dataframe thead th {\n",
       "        text-align: right;\n",
       "    }\n",
       "</style>\n",
       "<table border=\"1\" class=\"dataframe\">\n",
       "  <thead>\n",
       "    <tr style=\"text-align: right;\">\n",
       "      <th></th>\n",
       "      <th>Id</th>\n",
       "      <th>NAME</th>\n",
       "      <th>ADDRESS</th>\n",
       "      <th>CITY</th>\n",
       "      <th>STATE_HEADQUARTERED</th>\n",
       "      <th>ZIP</th>\n",
       "      <th>PHONE</th>\n",
       "    </tr>\n",
       "  </thead>\n",
       "  <tbody>\n",
       "    <tr>\n",
       "      <th>0</th>\n",
       "      <td>b3221cfc-24fb-339e-823d-bc4136cbc4ed</td>\n",
       "      <td>Dual Eligible</td>\n",
       "      <td>7500 Security Blvd</td>\n",
       "      <td>Baltimore</td>\n",
       "      <td>MD</td>\n",
       "      <td>21244.0</td>\n",
       "      <td>1-877-267-2323</td>\n",
       "    </tr>\n",
       "    <tr>\n",
       "      <th>1</th>\n",
       "      <td>7caa7254-5050-3b5e-9eae-bd5ea30e809c</td>\n",
       "      <td>Medicare</td>\n",
       "      <td>7500 Security Blvd</td>\n",
       "      <td>Baltimore</td>\n",
       "      <td>MD</td>\n",
       "      <td>21244.0</td>\n",
       "      <td>1-800-633-4227</td>\n",
       "    </tr>\n",
       "    <tr>\n",
       "      <th>2</th>\n",
       "      <td>7c4411ce-02f1-39b5-b9ec-dfbea9ad3c1a</td>\n",
       "      <td>Medicaid</td>\n",
       "      <td>7500 Security Blvd</td>\n",
       "      <td>Baltimore</td>\n",
       "      <td>MD</td>\n",
       "      <td>21244.0</td>\n",
       "      <td>1-877-267-2323</td>\n",
       "    </tr>\n",
       "    <tr>\n",
       "      <th>3</th>\n",
       "      <td>d47b3510-2895-3b70-9897-342d681c769d</td>\n",
       "      <td>Humana</td>\n",
       "      <td>500 West Main St</td>\n",
       "      <td>Louisville</td>\n",
       "      <td>KY</td>\n",
       "      <td>40018.0</td>\n",
       "      <td>1-844-330-7799</td>\n",
       "    </tr>\n",
       "    <tr>\n",
       "      <th>4</th>\n",
       "      <td>6e2f1a2d-27bd-3701-8d08-dae202c58632</td>\n",
       "      <td>Blue Cross Blue Shield</td>\n",
       "      <td>Michigan Plaza</td>\n",
       "      <td>Chicago</td>\n",
       "      <td>IL</td>\n",
       "      <td>60007.0</td>\n",
       "      <td>1-800-262-2583</td>\n",
       "    </tr>\n",
       "  </tbody>\n",
       "</table>\n",
       "</div>"
      ],
      "text/plain": [
       "                                     Id                    NAME  \\\n",
       "0  b3221cfc-24fb-339e-823d-bc4136cbc4ed           Dual Eligible   \n",
       "1  7caa7254-5050-3b5e-9eae-bd5ea30e809c                Medicare   \n",
       "2  7c4411ce-02f1-39b5-b9ec-dfbea9ad3c1a                Medicaid   \n",
       "3  d47b3510-2895-3b70-9897-342d681c769d                  Humana   \n",
       "4  6e2f1a2d-27bd-3701-8d08-dae202c58632  Blue Cross Blue Shield   \n",
       "\n",
       "              ADDRESS        CITY STATE_HEADQUARTERED      ZIP           PHONE  \n",
       "0  7500 Security Blvd   Baltimore                  MD  21244.0  1-877-267-2323  \n",
       "1  7500 Security Blvd   Baltimore                  MD  21244.0  1-800-633-4227  \n",
       "2  7500 Security Blvd   Baltimore                  MD  21244.0  1-877-267-2323  \n",
       "3    500 West Main St  Louisville                  KY  40018.0  1-844-330-7799  \n",
       "4      Michigan Plaza     Chicago                  IL  60007.0  1-800-262-2583  "
      ]
     },
     "execution_count": 9,
     "metadata": {},
     "output_type": "execute_result"
    }
   ],
   "source": [
    "payers.head()"
   ]
  },
  {
   "cell_type": "code",
   "execution_count": 10,
   "metadata": {},
   "outputs": [
    {
     "data": {
      "text/html": [
       "<div>\n",
       "<style scoped>\n",
       "    .dataframe tbody tr th:only-of-type {\n",
       "        vertical-align: middle;\n",
       "    }\n",
       "\n",
       "    .dataframe tbody tr th {\n",
       "        vertical-align: top;\n",
       "    }\n",
       "\n",
       "    .dataframe thead th {\n",
       "        text-align: right;\n",
       "    }\n",
       "</style>\n",
       "<table border=\"1\" class=\"dataframe\">\n",
       "  <thead>\n",
       "    <tr style=\"text-align: right;\">\n",
       "      <th></th>\n",
       "      <th>START</th>\n",
       "      <th>STOP</th>\n",
       "      <th>PATIENT</th>\n",
       "      <th>ENCOUNTER</th>\n",
       "      <th>CODE</th>\n",
       "      <th>DESCRIPTION</th>\n",
       "      <th>BASE_COST</th>\n",
       "      <th>REASONCODE</th>\n",
       "      <th>REASONDESCRIPTION</th>\n",
       "    </tr>\n",
       "  </thead>\n",
       "  <tbody>\n",
       "    <tr>\n",
       "      <th>0</th>\n",
       "      <td>2011-01-02T09:26:36Z</td>\n",
       "      <td>2011-01-02T12:58:36Z</td>\n",
       "      <td>3de74169-7f67-9304-91d4-757e0f3a14d2</td>\n",
       "      <td>32c84703-2481-49cd-d571-3899d5820253</td>\n",
       "      <td>265764009</td>\n",
       "      <td>Renal dialysis (procedure)</td>\n",
       "      <td>903</td>\n",
       "      <td>NaN</td>\n",
       "      <td>NaN</td>\n",
       "    </tr>\n",
       "    <tr>\n",
       "      <th>1</th>\n",
       "      <td>2011-01-03T05:44:39Z</td>\n",
       "      <td>2011-01-03T06:01:42Z</td>\n",
       "      <td>d9ec2e44-32e9-9148-179a-1653348cc4e2</td>\n",
       "      <td>c98059da-320a-c0a6-fced-c8815f3e3f39</td>\n",
       "      <td>76601001</td>\n",
       "      <td>Intramuscular injection</td>\n",
       "      <td>2477</td>\n",
       "      <td>NaN</td>\n",
       "      <td>NaN</td>\n",
       "    </tr>\n",
       "    <tr>\n",
       "      <th>2</th>\n",
       "      <td>2011-01-04T14:49:55Z</td>\n",
       "      <td>2011-01-04T15:04:55Z</td>\n",
       "      <td>d856d6e6-4c98-e7a2-129b-44076c63d008</td>\n",
       "      <td>2cfd4ddd-ad13-fe1e-528b-15051cea2ec3</td>\n",
       "      <td>703423002</td>\n",
       "      <td>Combined chemotherapy and radiation therapy (p...</td>\n",
       "      <td>11620</td>\n",
       "      <td>363406005.0</td>\n",
       "      <td>Malignant tumor of colon</td>\n",
       "    </tr>\n",
       "    <tr>\n",
       "      <th>3</th>\n",
       "      <td>2011-01-05T04:02:09Z</td>\n",
       "      <td>2011-01-05T04:17:09Z</td>\n",
       "      <td>bc9d59c3-0a30-6e3b-f47d-022e4f03c8de</td>\n",
       "      <td>17966936-0878-f4db-128b-a43ae10d0878</td>\n",
       "      <td>173160006</td>\n",
       "      <td>Diagnostic fiberoptic bronchoscopy (procedure)</td>\n",
       "      <td>9796</td>\n",
       "      <td>162573006.0</td>\n",
       "      <td>Suspected lung cancer (situation)</td>\n",
       "    </tr>\n",
       "    <tr>\n",
       "      <th>4</th>\n",
       "      <td>2011-01-05T12:58:36Z</td>\n",
       "      <td>2011-01-05T16:42:36Z</td>\n",
       "      <td>3de74169-7f67-9304-91d4-757e0f3a14d2</td>\n",
       "      <td>9de5f0b0-4ba4-ce6f-45fb-b55c202f31a5</td>\n",
       "      <td>265764009</td>\n",
       "      <td>Renal dialysis (procedure)</td>\n",
       "      <td>1255</td>\n",
       "      <td>NaN</td>\n",
       "      <td>NaN</td>\n",
       "    </tr>\n",
       "  </tbody>\n",
       "</table>\n",
       "</div>"
      ],
      "text/plain": [
       "                  START                  STOP  \\\n",
       "0  2011-01-02T09:26:36Z  2011-01-02T12:58:36Z   \n",
       "1  2011-01-03T05:44:39Z  2011-01-03T06:01:42Z   \n",
       "2  2011-01-04T14:49:55Z  2011-01-04T15:04:55Z   \n",
       "3  2011-01-05T04:02:09Z  2011-01-05T04:17:09Z   \n",
       "4  2011-01-05T12:58:36Z  2011-01-05T16:42:36Z   \n",
       "\n",
       "                                PATIENT                             ENCOUNTER  \\\n",
       "0  3de74169-7f67-9304-91d4-757e0f3a14d2  32c84703-2481-49cd-d571-3899d5820253   \n",
       "1  d9ec2e44-32e9-9148-179a-1653348cc4e2  c98059da-320a-c0a6-fced-c8815f3e3f39   \n",
       "2  d856d6e6-4c98-e7a2-129b-44076c63d008  2cfd4ddd-ad13-fe1e-528b-15051cea2ec3   \n",
       "3  bc9d59c3-0a30-6e3b-f47d-022e4f03c8de  17966936-0878-f4db-128b-a43ae10d0878   \n",
       "4  3de74169-7f67-9304-91d4-757e0f3a14d2  9de5f0b0-4ba4-ce6f-45fb-b55c202f31a5   \n",
       "\n",
       "        CODE                                        DESCRIPTION  BASE_COST  \\\n",
       "0  265764009                         Renal dialysis (procedure)        903   \n",
       "1   76601001                            Intramuscular injection       2477   \n",
       "2  703423002  Combined chemotherapy and radiation therapy (p...      11620   \n",
       "3  173160006     Diagnostic fiberoptic bronchoscopy (procedure)       9796   \n",
       "4  265764009                         Renal dialysis (procedure)       1255   \n",
       "\n",
       "    REASONCODE                  REASONDESCRIPTION  \n",
       "0          NaN                                NaN  \n",
       "1          NaN                                NaN  \n",
       "2  363406005.0           Malignant tumor of colon  \n",
       "3  162573006.0  Suspected lung cancer (situation)  \n",
       "4          NaN                                NaN  "
      ]
     },
     "execution_count": 10,
     "metadata": {},
     "output_type": "execute_result"
    }
   ],
   "source": [
    "procedures.head()"
   ]
  },
  {
   "cell_type": "markdown",
   "metadata": {},
   "source": [
    "For a few of the dataframes that were imported, I will need to perform some data cleaning. For the 'encouters' dataframe, I will need to remove the non numeric characters from the 'START' and 'STOP' columns so I can extract the date and time values and store them in thier own dedicated columns. For the 'patients' dataframe, I will need to remove the numeric characters from the 'FIRST', 'LAST', and 'MAIDEN' columns, and extract the country from the 'BIRTHPLACE' column, and then store them in thier own seperate columns. I will also need to convert the 'BIRTHDATE' and 'DEATHDATE' columns into datetime datatypes. The last dataframe that I need to perform data cleaning on is the 'procedures' dataframe. I will also remove any non numeric characters from the 'START' and 'STOP' columns and extract the date and time values from those columns to store them in new columns.\n",
    "\n",
    "### DATA CLEANING\n",
    "\n",
    "**Removing The Non-Numeric Characters From The 'START' and 'Stop' Columns Of The 'encounters' Dataframe, and Storing The Values In New Columns Named \"Encounters_Start' and 'Encounters_Stop'**"
   ]
  },
  {
   "cell_type": "code",
   "execution_count": 11,
   "metadata": {},
   "outputs": [
    {
     "data": {
      "text/html": [
       "<div>\n",
       "<style scoped>\n",
       "    .dataframe tbody tr th:only-of-type {\n",
       "        vertical-align: middle;\n",
       "    }\n",
       "\n",
       "    .dataframe tbody tr th {\n",
       "        vertical-align: top;\n",
       "    }\n",
       "\n",
       "    .dataframe thead th {\n",
       "        text-align: right;\n",
       "    }\n",
       "</style>\n",
       "<table border=\"1\" class=\"dataframe\">\n",
       "  <thead>\n",
       "    <tr style=\"text-align: right;\">\n",
       "      <th></th>\n",
       "      <th>index</th>\n",
       "      <th>Encounters_Start</th>\n",
       "    </tr>\n",
       "  </thead>\n",
       "  <tbody>\n",
       "    <tr>\n",
       "      <th>0</th>\n",
       "      <td>0</td>\n",
       "      <td>2011-01-02 09:26:36</td>\n",
       "    </tr>\n",
       "    <tr>\n",
       "      <th>1</th>\n",
       "      <td>1</td>\n",
       "      <td>2011-01-03 05:44:39</td>\n",
       "    </tr>\n",
       "    <tr>\n",
       "      <th>2</th>\n",
       "      <td>2</td>\n",
       "      <td>2011-01-03 14:32:11</td>\n",
       "    </tr>\n",
       "    <tr>\n",
       "      <th>3</th>\n",
       "      <td>3</td>\n",
       "      <td>2011-01-03 16:24:45</td>\n",
       "    </tr>\n",
       "    <tr>\n",
       "      <th>4</th>\n",
       "      <td>4</td>\n",
       "      <td>2011-01-03 17:36:53</td>\n",
       "    </tr>\n",
       "  </tbody>\n",
       "</table>\n",
       "</div>"
      ],
      "text/plain": [
       "   index      Encounters_Start\n",
       "0      0  2011-01-02 09:26:36 \n",
       "1      1  2011-01-03 05:44:39 \n",
       "2      2  2011-01-03 14:32:11 \n",
       "3      3  2011-01-03 16:24:45 \n",
       "4      4  2011-01-03 17:36:53 "
      ]
     },
     "execution_count": 11,
     "metadata": {},
     "output_type": "execute_result"
    }
   ],
   "source": [
    "encounters[\"Encounters_Start\"] = encounters[\"START\"].replace({\"[T]\": \" \"}, regex=True)\n",
    "encounters[\"Encounters_Start\"] = encounters[\"Encounters_Start\"].replace({\"[Z]\": \" \"}, regex=True)\n",
    "encounters[\"Encounters_Start\"][:5].reset_index()"
   ]
  },
  {
   "cell_type": "code",
   "execution_count": 12,
   "metadata": {},
   "outputs": [
    {
     "data": {
      "text/html": [
       "<div>\n",
       "<style scoped>\n",
       "    .dataframe tbody tr th:only-of-type {\n",
       "        vertical-align: middle;\n",
       "    }\n",
       "\n",
       "    .dataframe tbody tr th {\n",
       "        vertical-align: top;\n",
       "    }\n",
       "\n",
       "    .dataframe thead th {\n",
       "        text-align: right;\n",
       "    }\n",
       "</style>\n",
       "<table border=\"1\" class=\"dataframe\">\n",
       "  <thead>\n",
       "    <tr style=\"text-align: right;\">\n",
       "      <th></th>\n",
       "      <th>index</th>\n",
       "      <th>Encounters_Stop</th>\n",
       "    </tr>\n",
       "  </thead>\n",
       "  <tbody>\n",
       "    <tr>\n",
       "      <th>0</th>\n",
       "      <td>0</td>\n",
       "      <td>2011-01-02 12:58:36</td>\n",
       "    </tr>\n",
       "    <tr>\n",
       "      <th>1</th>\n",
       "      <td>1</td>\n",
       "      <td>2011-01-03 06:01:42</td>\n",
       "    </tr>\n",
       "    <tr>\n",
       "      <th>2</th>\n",
       "      <td>2</td>\n",
       "      <td>2011-01-03 14:47:11</td>\n",
       "    </tr>\n",
       "    <tr>\n",
       "      <th>3</th>\n",
       "      <td>3</td>\n",
       "      <td>2011-01-03 16:39:45</td>\n",
       "    </tr>\n",
       "    <tr>\n",
       "      <th>4</th>\n",
       "      <td>4</td>\n",
       "      <td>2011-01-03 17:51:53</td>\n",
       "    </tr>\n",
       "  </tbody>\n",
       "</table>\n",
       "</div>"
      ],
      "text/plain": [
       "   index       Encounters_Stop\n",
       "0      0  2011-01-02 12:58:36 \n",
       "1      1  2011-01-03 06:01:42 \n",
       "2      2  2011-01-03 14:47:11 \n",
       "3      3  2011-01-03 16:39:45 \n",
       "4      4  2011-01-03 17:51:53 "
      ]
     },
     "execution_count": 12,
     "metadata": {},
     "output_type": "execute_result"
    }
   ],
   "source": [
    "encounters[\"Encounters_Stop\"] = encounters[\"STOP\"].replace({\"[T]\": \" \"}, regex=True)\n",
    "encounters[\"Encounters_Stop\"] = encounters[\"Encounters_Stop\"].replace({\"[Z]\": \" \"}, regex=True)\n",
    "encounters[\"Encounters_Stop\"][:5].reset_index()"
   ]
  },
  {
   "cell_type": "markdown",
   "metadata": {},
   "source": [
    "**Converting The 'Encounters_Start' and 'Encounters_Stop' Columns To Datetime Format**"
   ]
  },
  {
   "cell_type": "code",
   "execution_count": 13,
   "metadata": {},
   "outputs": [],
   "source": [
    "encounters[\"Encounters_Start\"] = pd.to_datetime(encounters[\"Encounters_Start\"])\n",
    "encounters[\"Encounters_Stop\"] = pd.to_datetime(encounters[\"Encounters_Stop\"])"
   ]
  },
  {
   "cell_type": "markdown",
   "metadata": {},
   "source": [
    "**Checking That The New Columns Datatypes Have Been Converted**"
   ]
  },
  {
   "cell_type": "code",
   "execution_count": 14,
   "metadata": {},
   "outputs": [
    {
     "name": "stdout",
     "output_type": "stream",
     "text": [
      "<class 'pandas.core.frame.DataFrame'>\n",
      "RangeIndex: 27891 entries, 0 to 27890\n",
      "Data columns (total 16 columns):\n",
      " #   Column               Non-Null Count  Dtype         \n",
      "---  ------               --------------  -----         \n",
      " 0   Id                   27891 non-null  object        \n",
      " 1   START                27891 non-null  object        \n",
      " 2   STOP                 27891 non-null  object        \n",
      " 3   PATIENT              27891 non-null  object        \n",
      " 4   ORGANIZATION         27891 non-null  object        \n",
      " 5   PAYER                27891 non-null  object        \n",
      " 6   ENCOUNTERCLASS       27891 non-null  object        \n",
      " 7   CODE                 27891 non-null  int64         \n",
      " 8   DESCRIPTION          27891 non-null  object        \n",
      " 9   BASE_ENCOUNTER_COST  27891 non-null  float64       \n",
      " 10  TOTAL_CLAIM_COST     27891 non-null  float64       \n",
      " 11  PAYER_COVERAGE       27891 non-null  float64       \n",
      " 12  REASONCODE           8350 non-null   float64       \n",
      " 13  REASONDESCRIPTION    8350 non-null   object        \n",
      " 14  Encounters_Start     27891 non-null  datetime64[ns]\n",
      " 15  Encounters_Stop      27891 non-null  datetime64[ns]\n",
      "dtypes: datetime64[ns](2), float64(4), int64(1), object(9)\n",
      "memory usage: 3.4+ MB\n"
     ]
    }
   ],
   "source": [
    "encounters.info()"
   ]
  },
  {
   "cell_type": "markdown",
   "metadata": {},
   "source": [
    "I will create 4 new columns, 'Start_Date', 'Start_Time', 'Stop_Date', and 'Stop_Time' to seperate the start and stop date and times into sepearte columns and verify the changes."
   ]
  },
  {
   "cell_type": "code",
   "execution_count": 15,
   "metadata": {},
   "outputs": [],
   "source": [
    "encounters[\"Start_Date\"] = encounters[\"Encounters_Start\"].dt.date\n",
    "encounters[\"Start_Time\"] = encounters[\"Encounters_Start\"].dt.time\n",
    "encounters[\"Stop_Date\"] = encounters[\"Encounters_Stop\"].dt.date\n",
    "encounters[\"Stop_Time\"] = encounters[\"Encounters_Stop\"].dt.time"
   ]
  },
  {
   "cell_type": "code",
   "execution_count": 16,
   "metadata": {},
   "outputs": [
    {
     "data": {
      "text/plain": [
       "Index(['Id', 'START', 'STOP', 'PATIENT', 'ORGANIZATION', 'PAYER',\n",
       "       'ENCOUNTERCLASS', 'CODE', 'DESCRIPTION', 'BASE_ENCOUNTER_COST',\n",
       "       'TOTAL_CLAIM_COST', 'PAYER_COVERAGE', 'REASONCODE', 'REASONDESCRIPTION',\n",
       "       'Encounters_Start', 'Encounters_Stop', 'Start_Date', 'Start_Time',\n",
       "       'Stop_Date', 'Stop_Time'],\n",
       "      dtype='object')"
      ]
     },
     "execution_count": 16,
     "metadata": {},
     "output_type": "execute_result"
    }
   ],
   "source": [
    "encounters.columns"
   ]
  },
  {
   "cell_type": "markdown",
   "metadata": {},
   "source": [
    "Perfect, the new columns have been added to the dataframe. \n",
    "\n",
    "Now I will move on to the 'patients' dataframe and remove the numeric characters from the 'FIRST', 'LAST', and 'MAIDEN' columns, as well as extract the country from the 'BIRTHPLACE' column.\n",
    "\n",
    "To begin, I will need to convert the new columns into string datatypes so I can manipulate the characters within that string."
   ]
  },
  {
   "cell_type": "code",
   "execution_count": 17,
   "metadata": {},
   "outputs": [],
   "source": [
    "patients[\"First_Name\"] = patients[\"FIRST\"].astype(str)\n",
    "patients[\"Last_Name\"] = patients[\"LAST\"].astype(str)\n",
    "patients[\"Maiden_Name\"] = patients[\"MAIDEN\"].astype(str)\n",
    "patients[\"Birth_Country\"] = patients[\"BIRTHPLACE\"].astype(str)"
   ]
  },
  {
   "cell_type": "markdown",
   "metadata": {},
   "source": [
    "Now that those new columns have been created, I will now move on to removing all of the numeric characters from those columns, as well as extract the country from the 'BIRTHPLACE' column and place the values into their own column."
   ]
  },
  {
   "cell_type": "code",
   "execution_count": 18,
   "metadata": {},
   "outputs": [],
   "source": [
    "patients[\"First_Name\"] = patients[\"First_Name\"].replace({\"[0-9]\": \" \"}, regex=True)\n",
    "patients[\"Last_Name\"] = patients[\"Last_Name\"].replace({\"[0-9]\": \" \"}, regex=True)\n",
    "patients[\"Maiden_Name\"] = patients[\"Maiden_Name\"].replace({\"[0-9]\": \" \"}, regex=True)\n",
    "patients[\"Birth_Country\"] = patients[\"Birth_Country\"].str[-2:]"
   ]
  },
  {
   "cell_type": "markdown",
   "metadata": {},
   "source": [
    "**Viewing The First Few Rows Of The 'Birth_Country' Column To Make Sure Changes Were Made**"
   ]
  },
  {
   "cell_type": "code",
   "execution_count": 19,
   "metadata": {},
   "outputs": [
    {
     "data": {
      "text/plain": [
       "0    US\n",
       "1    US\n",
       "2    US\n",
       "Name: Birth_Country, dtype: object"
      ]
     },
     "execution_count": 19,
     "metadata": {},
     "output_type": "execute_result"
    }
   ],
   "source": [
    "patients[\"Birth_Country\"][:3]"
   ]
  },
  {
   "cell_type": "markdown",
   "metadata": {},
   "source": [
    "Perfect, now I will preview a few rows of the 'First_Name', 'Last_Name', and 'Maiden_Name' columns to verify that the changes were sucessfully made."
   ]
  },
  {
   "cell_type": "code",
   "execution_count": 20,
   "metadata": {},
   "outputs": [
    {
     "data": {
      "text/plain": [
       "0    Nikita   \n",
       "1      Zane   \n",
       "2     Quinn   \n",
       "Name: First_Name, dtype: object"
      ]
     },
     "execution_count": 20,
     "metadata": {},
     "output_type": "execute_result"
    }
   ],
   "source": [
    "patients[\"First_Name\"][:3]"
   ]
  },
  {
   "cell_type": "code",
   "execution_count": 21,
   "metadata": {},
   "outputs": [
    {
     "data": {
      "text/plain": [
       "0        Erdman   \n",
       "1    Hodkiewicz   \n",
       "2     Marquardt   \n",
       "Name: Last_Name, dtype: object"
      ]
     },
     "execution_count": 21,
     "metadata": {},
     "output_type": "execute_result"
    }
   ],
   "source": [
    "patients[\"Last_Name\"][:3]"
   ]
  },
  {
   "cell_type": "code",
   "execution_count": 22,
   "metadata": {},
   "outputs": [
    {
     "data": {
      "text/plain": [
       "0    Leannon  \n",
       "1          nan\n",
       "2          nan\n",
       "Name: Maiden_Name, dtype: object"
      ]
     },
     "execution_count": 22,
     "metadata": {},
     "output_type": "execute_result"
    }
   ],
   "source": [
    "patients[\"Maiden_Name\"][:3]"
   ]
  },
  {
   "cell_type": "markdown",
   "metadata": {},
   "source": [
    "I will convert the columns 'BIRTHDATE' and 'DEATHDATE' into datetime datatypes now."
   ]
  },
  {
   "cell_type": "code",
   "execution_count": 23,
   "metadata": {},
   "outputs": [],
   "source": [
    "patients[\"BIRTHDATE\"] = pd.to_datetime(patients[\"BIRTHDATE\"])\n",
    "patients[\"DEATHDATE\"] = pd.to_datetime(patients[\"DEATHDATE\"])"
   ]
  },
  {
   "cell_type": "markdown",
   "metadata": {},
   "source": [
    "**Checking The Datatypes Of The 'patients' Dataframe To Verify That Datatypes Have Been Converted Correctly**"
   ]
  },
  {
   "cell_type": "code",
   "execution_count": 24,
   "metadata": {},
   "outputs": [
    {
     "name": "stdout",
     "output_type": "stream",
     "text": [
      "<class 'pandas.core.frame.DataFrame'>\n",
      "RangeIndex: 974 entries, 0 to 973\n",
      "Data columns (total 24 columns):\n",
      " #   Column         Non-Null Count  Dtype         \n",
      "---  ------         --------------  -----         \n",
      " 0   Id             974 non-null    object        \n",
      " 1   BIRTHDATE      974 non-null    datetime64[ns]\n",
      " 2   DEATHDATE      154 non-null    datetime64[ns]\n",
      " 3   PREFIX         974 non-null    object        \n",
      " 4   FIRST          974 non-null    object        \n",
      " 5   LAST           974 non-null    object        \n",
      " 6   SUFFIX         21 non-null     object        \n",
      " 7   MAIDEN         386 non-null    object        \n",
      " 8   MARITAL        973 non-null    object        \n",
      " 9   RACE           974 non-null    object        \n",
      " 10  ETHNICITY      974 non-null    object        \n",
      " 11  GENDER         974 non-null    object        \n",
      " 12  BIRTHPLACE     974 non-null    object        \n",
      " 13  ADDRESS        974 non-null    object        \n",
      " 14  CITY           974 non-null    object        \n",
      " 15  STATE          974 non-null    object        \n",
      " 16  COUNTY         974 non-null    object        \n",
      " 17  ZIP            832 non-null    float64       \n",
      " 18  LAT            974 non-null    float64       \n",
      " 19  LON            974 non-null    float64       \n",
      " 20  First_Name     974 non-null    object        \n",
      " 21  Last_Name      974 non-null    object        \n",
      " 22  Maiden_Name    974 non-null    object        \n",
      " 23  Birth_Country  974 non-null    object        \n",
      "dtypes: datetime64[ns](2), float64(3), object(19)\n",
      "memory usage: 182.8+ KB\n"
     ]
    }
   ],
   "source": [
    "patients.info()"
   ]
  },
  {
   "cell_type": "markdown",
   "metadata": {},
   "source": [
    "Perfect!\n",
    "\n",
    "The last dataframe that needs to be cleaned is the 'procedures' dataframe. First I will remove any non numeric characters from the values in the 'START' and 'STOP' columns, and then I will convert those columns into datetime datatypes. Finally, I will extract the date and time from those columns and store them in their own new columns named 'Procedure_Start_Date', 'Procedure_Stop_Date', 'Procedure_Start_Time', and 'Procedure_Stop_Time'.\n",
    "\n",
    "**Removing Non Numeric Characters From Original Columns and Assigning The Results To New Columns**"
   ]
  },
  {
   "cell_type": "code",
   "execution_count": 25,
   "metadata": {},
   "outputs": [
    {
     "data": {
      "text/html": [
       "<div>\n",
       "<style scoped>\n",
       "    .dataframe tbody tr th:only-of-type {\n",
       "        vertical-align: middle;\n",
       "    }\n",
       "\n",
       "    .dataframe tbody tr th {\n",
       "        vertical-align: top;\n",
       "    }\n",
       "\n",
       "    .dataframe thead th {\n",
       "        text-align: right;\n",
       "    }\n",
       "</style>\n",
       "<table border=\"1\" class=\"dataframe\">\n",
       "  <thead>\n",
       "    <tr style=\"text-align: right;\">\n",
       "      <th></th>\n",
       "      <th>index</th>\n",
       "      <th>Procedures_Start</th>\n",
       "    </tr>\n",
       "  </thead>\n",
       "  <tbody>\n",
       "    <tr>\n",
       "      <th>0</th>\n",
       "      <td>0</td>\n",
       "      <td>2011-01-02 09:26:36</td>\n",
       "    </tr>\n",
       "    <tr>\n",
       "      <th>1</th>\n",
       "      <td>1</td>\n",
       "      <td>2011-01-03 05:44:39</td>\n",
       "    </tr>\n",
       "    <tr>\n",
       "      <th>2</th>\n",
       "      <td>2</td>\n",
       "      <td>2011-01-04 14:49:55</td>\n",
       "    </tr>\n",
       "    <tr>\n",
       "      <th>3</th>\n",
       "      <td>3</td>\n",
       "      <td>2011-01-05 04:02:09</td>\n",
       "    </tr>\n",
       "    <tr>\n",
       "      <th>4</th>\n",
       "      <td>4</td>\n",
       "      <td>2011-01-05 12:58:36</td>\n",
       "    </tr>\n",
       "  </tbody>\n",
       "</table>\n",
       "</div>"
      ],
      "text/plain": [
       "   index      Procedures_Start\n",
       "0      0  2011-01-02 09:26:36 \n",
       "1      1  2011-01-03 05:44:39 \n",
       "2      2  2011-01-04 14:49:55 \n",
       "3      3  2011-01-05 04:02:09 \n",
       "4      4  2011-01-05 12:58:36 "
      ]
     },
     "execution_count": 25,
     "metadata": {},
     "output_type": "execute_result"
    }
   ],
   "source": [
    "procedures[\"Procedures_Start\"] = procedures[\"START\"].replace({\"[T]\": \" \"}, regex=True)\n",
    "procedures[\"Procedures_Start\"] = procedures[\"Procedures_Start\"].replace({\"[Z]\": \" \"}, regex=True)\n",
    "procedures[\"Procedures_Start\"][:5].reset_index()"
   ]
  },
  {
   "cell_type": "code",
   "execution_count": 26,
   "metadata": {},
   "outputs": [
    {
     "data": {
      "text/html": [
       "<div>\n",
       "<style scoped>\n",
       "    .dataframe tbody tr th:only-of-type {\n",
       "        vertical-align: middle;\n",
       "    }\n",
       "\n",
       "    .dataframe tbody tr th {\n",
       "        vertical-align: top;\n",
       "    }\n",
       "\n",
       "    .dataframe thead th {\n",
       "        text-align: right;\n",
       "    }\n",
       "</style>\n",
       "<table border=\"1\" class=\"dataframe\">\n",
       "  <thead>\n",
       "    <tr style=\"text-align: right;\">\n",
       "      <th></th>\n",
       "      <th>index</th>\n",
       "      <th>Procedures_Stop</th>\n",
       "    </tr>\n",
       "  </thead>\n",
       "  <tbody>\n",
       "    <tr>\n",
       "      <th>0</th>\n",
       "      <td>0</td>\n",
       "      <td>2011-01-02 12:58:36</td>\n",
       "    </tr>\n",
       "    <tr>\n",
       "      <th>1</th>\n",
       "      <td>1</td>\n",
       "      <td>2011-01-03 06:01:42</td>\n",
       "    </tr>\n",
       "    <tr>\n",
       "      <th>2</th>\n",
       "      <td>2</td>\n",
       "      <td>2011-01-04 15:04:55</td>\n",
       "    </tr>\n",
       "    <tr>\n",
       "      <th>3</th>\n",
       "      <td>3</td>\n",
       "      <td>2011-01-05 04:17:09</td>\n",
       "    </tr>\n",
       "    <tr>\n",
       "      <th>4</th>\n",
       "      <td>4</td>\n",
       "      <td>2011-01-05 16:42:36</td>\n",
       "    </tr>\n",
       "  </tbody>\n",
       "</table>\n",
       "</div>"
      ],
      "text/plain": [
       "   index       Procedures_Stop\n",
       "0      0  2011-01-02 12:58:36 \n",
       "1      1  2011-01-03 06:01:42 \n",
       "2      2  2011-01-04 15:04:55 \n",
       "3      3  2011-01-05 04:17:09 \n",
       "4      4  2011-01-05 16:42:36 "
      ]
     },
     "execution_count": 26,
     "metadata": {},
     "output_type": "execute_result"
    }
   ],
   "source": [
    "procedures[\"Procedures_Stop\"] = procedures[\"STOP\"].replace({\"[T]\": \" \"}, regex=True)\n",
    "procedures[\"Procedures_Stop\"] = procedures[\"Procedures_Stop\"].replace({\"[Z]\": \" \"}, regex=True)\n",
    "procedures[\"Procedures_Stop\"][:5].reset_index()"
   ]
  },
  {
   "cell_type": "markdown",
   "metadata": {},
   "source": [
    "**Converting 'Procedures_Start' and 'Procedures_Stop' Columns Into Datetime Datatypes**"
   ]
  },
  {
   "cell_type": "code",
   "execution_count": 27,
   "metadata": {},
   "outputs": [],
   "source": [
    "procedures[\"Procedures_Start\"] = pd.to_datetime(procedures[\"Procedures_Start\"])\n",
    "procedures[\"Procedures_Stop\"] = pd.to_datetime(procedures[\"Procedures_Stop\"])"
   ]
  },
  {
   "cell_type": "markdown",
   "metadata": {},
   "source": [
    "**Verifying That The Changes Were Made**"
   ]
  },
  {
   "cell_type": "code",
   "execution_count": 28,
   "metadata": {},
   "outputs": [
    {
     "name": "stdout",
     "output_type": "stream",
     "text": [
      "<class 'pandas.core.frame.DataFrame'>\n",
      "RangeIndex: 47701 entries, 0 to 47700\n",
      "Data columns (total 11 columns):\n",
      " #   Column             Non-Null Count  Dtype         \n",
      "---  ------             --------------  -----         \n",
      " 0   START              47701 non-null  object        \n",
      " 1   STOP               47701 non-null  object        \n",
      " 2   PATIENT            47701 non-null  object        \n",
      " 3   ENCOUNTER          47701 non-null  object        \n",
      " 4   CODE               47701 non-null  int64         \n",
      " 5   DESCRIPTION        47701 non-null  object        \n",
      " 6   BASE_COST          47701 non-null  int64         \n",
      " 7   REASONCODE         10756 non-null  float64       \n",
      " 8   REASONDESCRIPTION  10756 non-null  object        \n",
      " 9   Procedures_Start   47701 non-null  datetime64[ns]\n",
      " 10  Procedures_Stop    47701 non-null  datetime64[ns]\n",
      "dtypes: datetime64[ns](2), float64(1), int64(2), object(6)\n",
      "memory usage: 4.0+ MB\n"
     ]
    }
   ],
   "source": [
    "procedures.info()"
   ]
  },
  {
   "cell_type": "markdown",
   "metadata": {},
   "source": [
    "As we can see, the 'Procedures_Start' and 'Procedures_Stop' columns have been converted to the correct datatypes.\n",
    "\n",
    "Now I will seperate the date and time values from those columns into their own seperate columns."
   ]
  },
  {
   "cell_type": "code",
   "execution_count": 29,
   "metadata": {},
   "outputs": [],
   "source": [
    "procedures[\"Procedures_Start_Date\"] = procedures[\"Procedures_Start\"].dt.date\n",
    "procedures[\"Procedures_Start_Time\"] = procedures[\"Procedures_Start\"].dt.time\n",
    "procedures[\"Procedures_Stop_Date\"] = procedures[\"Procedures_Stop\"].dt.date \n",
    "procedures[\"Procedures_Stop_Time\"] = procedures[\"Procedures_Stop\"].dt.time \n"
   ]
  },
  {
   "cell_type": "markdown",
   "metadata": {},
   "source": [
    "**Verifying The Columns Have Been Added**"
   ]
  },
  {
   "cell_type": "code",
   "execution_count": 30,
   "metadata": {},
   "outputs": [
    {
     "data": {
      "text/plain": [
       "0    2011-01-02\n",
       "1    2011-01-03\n",
       "2    2011-01-04\n",
       "Name: Procedures_Start_Date, dtype: object"
      ]
     },
     "execution_count": 30,
     "metadata": {},
     "output_type": "execute_result"
    }
   ],
   "source": [
    "procedures[\"Procedures_Start_Date\"][:3]"
   ]
  },
  {
   "cell_type": "code",
   "execution_count": 31,
   "metadata": {},
   "outputs": [
    {
     "data": {
      "text/plain": [
       "0    09:26:36\n",
       "1    05:44:39\n",
       "2    14:49:55\n",
       "Name: Procedures_Start_Time, dtype: object"
      ]
     },
     "execution_count": 31,
     "metadata": {},
     "output_type": "execute_result"
    }
   ],
   "source": [
    "procedures[\"Procedures_Start_Time\"][:3]"
   ]
  },
  {
   "cell_type": "code",
   "execution_count": 32,
   "metadata": {},
   "outputs": [
    {
     "data": {
      "text/plain": [
       "0    2011-01-02\n",
       "1    2011-01-03\n",
       "2    2011-01-04\n",
       "Name: Procedures_Stop_Date, dtype: object"
      ]
     },
     "execution_count": 32,
     "metadata": {},
     "output_type": "execute_result"
    }
   ],
   "source": [
    "procedures[\"Procedures_Stop_Date\"][:3]"
   ]
  },
  {
   "cell_type": "code",
   "execution_count": 33,
   "metadata": {},
   "outputs": [
    {
     "data": {
      "text/plain": [
       "0    12:58:36\n",
       "1    06:01:42\n",
       "2    15:04:55\n",
       "Name: Procedures_Stop_Time, dtype: object"
      ]
     },
     "execution_count": 33,
     "metadata": {},
     "output_type": "execute_result"
    }
   ],
   "source": [
    "procedures[\"Procedures_Stop_Time\"][:3]"
   ]
  },
  {
   "cell_type": "markdown",
   "metadata": {},
   "source": [
    "### DATA EXAMINATION\n",
    "\n",
    "I will also examine each dataframe a little further by checking for duplicate rows of data, the number of null values, and the number of unique values. It will be helpful to get a better understanding of the data by looking at the statistical information of the numerical and categorical columns also.\n",
    "\n",
    "**Checking Each Dataframe for Duplicate Values**"
   ]
  },
  {
   "cell_type": "code",
   "execution_count": 34,
   "metadata": {},
   "outputs": [],
   "source": [
    "encounters_duplicated = encounters.duplicated().sum()\n",
    "organizations_duplicated = organizations.duplicated().sum()\n",
    "patients_duplicated = patients.duplicated().sum()\n",
    "payers_duplicated = payers.duplicated().sum()\n",
    "procedures_duplicated = procedures.duplicated().sum()"
   ]
  },
  {
   "cell_type": "code",
   "execution_count": 35,
   "metadata": {},
   "outputs": [
    {
     "name": "stdout",
     "output_type": "stream",
     "text": [
      "The dataframe 'encounters' has 0 rows of duplicated data.\n",
      "The dataframe 'organizations' has 0 rows of duplicated data.\n",
      "The dataframe 'patients' has 0 rows of duplicated data.\n",
      "The dataframe 'payers' has 0 rows of duplicated data.\n",
      "The dataframe 'procedures' has 0 rows of duplicated data.\n"
     ]
    }
   ],
   "source": [
    "print(f\"The dataframe 'encounters' has {encounters_duplicated} rows of duplicated data.\") \n",
    "print(f\"The dataframe 'organizations' has {organizations_duplicated} rows of duplicated data.\") \n",
    "print(f\"The dataframe 'patients' has {patients_duplicated} rows of duplicated data.\") \n",
    "print(f\"The dataframe 'payers' has {payers_duplicated} rows of duplicated data.\") \n",
    "print(f\"The dataframe 'procedures' has {procedures_duplicated} rows of duplicated data.\") "
   ]
  },
  {
   "cell_type": "markdown",
   "metadata": {},
   "source": [
    "There are no duplicate rows of data in any of the dataframes.\n",
    "\n",
    "I will now use a loop to iterate through each column of each dataframe to count how many null values each dataframe has.\n",
    "\n",
    "**Checking for Null Values**\n",
    "\n",
    "###### **'encounters' dataframe**"
   ]
  },
  {
   "cell_type": "code",
   "execution_count": 36,
   "metadata": {},
   "outputs": [
    {
     "name": "stdout",
     "output_type": "stream",
     "text": [
      "There are 0 Nulls in the column Id.\n",
      "There are 0 Nulls in the column START.\n",
      "There are 0 Nulls in the column STOP.\n",
      "There are 0 Nulls in the column PATIENT.\n",
      "There are 0 Nulls in the column ORGANIZATION.\n",
      "There are 0 Nulls in the column PAYER.\n",
      "There are 0 Nulls in the column ENCOUNTERCLASS.\n",
      "There are 0 Nulls in the column CODE.\n",
      "There are 0 Nulls in the column DESCRIPTION.\n",
      "There are 0 Nulls in the column BASE_ENCOUNTER_COST.\n",
      "There are 0 Nulls in the column TOTAL_CLAIM_COST.\n",
      "There are 0 Nulls in the column PAYER_COVERAGE.\n",
      "There are 19541 Nulls in the column REASONCODE.\n",
      "There are 19541 Nulls in the column REASONDESCRIPTION.\n",
      "There are 0 Nulls in the column Encounters_Start.\n",
      "There are 0 Nulls in the column Encounters_Stop.\n",
      "There are 0 Nulls in the column Start_Date.\n",
      "There are 0 Nulls in the column Start_Time.\n",
      "There are 0 Nulls in the column Stop_Date.\n",
      "There are 0 Nulls in the column Stop_Time.\n"
     ]
    }
   ],
   "source": [
    "for na in encounters.columns:\n",
    "    null_val = encounters[na].isnull().sum()\n",
    "    print(f\"There are {null_val} Nulls in the column {na}.\") "
   ]
  },
  {
   "cell_type": "markdown",
   "metadata": {},
   "source": [
    "###### **'organizations' dataframe**"
   ]
  },
  {
   "cell_type": "code",
   "execution_count": 37,
   "metadata": {},
   "outputs": [
    {
     "name": "stdout",
     "output_type": "stream",
     "text": [
      "There are 0 Nulls in the column Id.\n",
      "There are 0 Nulls in the column NAME.\n",
      "There are 0 Nulls in the column ADDRESS.\n",
      "There are 0 Nulls in the column CITY.\n",
      "There are 0 Nulls in the column STATE.\n",
      "There are 0 Nulls in the column ZIP.\n",
      "There are 0 Nulls in the column LAT.\n",
      "There are 0 Nulls in the column LON.\n"
     ]
    }
   ],
   "source": [
    "for na in organizations.columns:\n",
    "    na_value = organizations[na].isnull().sum()\n",
    "    print(f\"There are {na_value} Nulls in the column {na}.\") "
   ]
  },
  {
   "cell_type": "markdown",
   "metadata": {},
   "source": [
    "###### **'patients' dataframe**"
   ]
  },
  {
   "cell_type": "code",
   "execution_count": 38,
   "metadata": {},
   "outputs": [
    {
     "name": "stdout",
     "output_type": "stream",
     "text": [
      "There are 0 Nulls in the column Id.\n",
      "There are 0 Nulls in the column BIRTHDATE.\n",
      "There are 820 Nulls in the column DEATHDATE.\n",
      "There are 0 Nulls in the column PREFIX.\n",
      "There are 0 Nulls in the column FIRST.\n",
      "There are 0 Nulls in the column LAST.\n",
      "There are 953 Nulls in the column SUFFIX.\n",
      "There are 588 Nulls in the column MAIDEN.\n",
      "There are 1 Nulls in the column MARITAL.\n",
      "There are 0 Nulls in the column RACE.\n",
      "There are 0 Nulls in the column ETHNICITY.\n",
      "There are 0 Nulls in the column GENDER.\n",
      "There are 0 Nulls in the column BIRTHPLACE.\n",
      "There are 0 Nulls in the column ADDRESS.\n",
      "There are 0 Nulls in the column CITY.\n",
      "There are 0 Nulls in the column STATE.\n",
      "There are 0 Nulls in the column COUNTY.\n",
      "There are 142 Nulls in the column ZIP.\n",
      "There are 0 Nulls in the column LAT.\n",
      "There are 0 Nulls in the column LON.\n",
      "There are 0 Nulls in the column First_Name.\n",
      "There are 0 Nulls in the column Last_Name.\n",
      "There are 0 Nulls in the column Maiden_Name.\n",
      "There are 0 Nulls in the column Birth_Country.\n"
     ]
    }
   ],
   "source": [
    "for na in patients.columns:\n",
    "    na_value = patients[na].isna().sum()\n",
    "    print(f\"There are {na_value} Nulls in the column {na}.\") "
   ]
  },
  {
   "cell_type": "markdown",
   "metadata": {},
   "source": [
    "###### **'payers' dataframe**"
   ]
  },
  {
   "cell_type": "code",
   "execution_count": 39,
   "metadata": {},
   "outputs": [
    {
     "name": "stdout",
     "output_type": "stream",
     "text": [
      "There are 0 Nulls in the column Id.\n",
      "There are 0 Nulls in the column NAME.\n",
      "There are 1 Nulls in the column ADDRESS.\n",
      "There are 1 Nulls in the column CITY.\n",
      "There are 1 Nulls in the column STATE_HEADQUARTERED.\n",
      "There are 1 Nulls in the column ZIP.\n",
      "There are 1 Nulls in the column PHONE.\n"
     ]
    }
   ],
   "source": [
    "for na in payers.columns:\n",
    "    na_value = payers[na].isna().sum()\n",
    "    print(f\"There are {na_value} Nulls in the column {na}.\") "
   ]
  },
  {
   "cell_type": "markdown",
   "metadata": {},
   "source": [
    "###### **'procedures' dataframe**"
   ]
  },
  {
   "cell_type": "code",
   "execution_count": 40,
   "metadata": {},
   "outputs": [
    {
     "name": "stdout",
     "output_type": "stream",
     "text": [
      "There are 0 Nulls in the column START.\n",
      "There are 0 Nulls in the column STOP.\n",
      "There are 0 Nulls in the column PATIENT.\n",
      "There are 0 Nulls in the column ENCOUNTER.\n",
      "There are 0 Nulls in the column CODE.\n",
      "There are 0 Nulls in the column DESCRIPTION.\n",
      "There are 0 Nulls in the column BASE_COST.\n",
      "There are 36945 Nulls in the column REASONCODE.\n",
      "There are 36945 Nulls in the column REASONDESCRIPTION.\n",
      "There are 0 Nulls in the column Procedures_Start.\n",
      "There are 0 Nulls in the column Procedures_Stop.\n",
      "There are 0 Nulls in the column Procedures_Start_Date.\n",
      "There are 0 Nulls in the column Procedures_Start_Time.\n",
      "There are 0 Nulls in the column Procedures_Stop_Date.\n",
      "There are 0 Nulls in the column Procedures_Stop_Time.\n"
     ]
    }
   ],
   "source": [
    "for na in procedures.columns:\n",
    "    na_value = procedures[na].isnull().sum()\n",
    "    print(f\"There are {na_value} Nulls in the column {na}.\") "
   ]
  },
  {
   "cell_type": "markdown",
   "metadata": {},
   "source": [
    "I will also iterate through the columns in each dataframe to check for the number of unique values each column has.\n",
    "\n",
    "**Checking Unique Values**\n",
    "\n",
    "###### **'encounters' dataframe**"
   ]
  },
  {
   "cell_type": "code",
   "execution_count": 41,
   "metadata": {},
   "outputs": [
    {
     "name": "stdout",
     "output_type": "stream",
     "text": [
      "The column Id has 27891 Unique values.\n",
      "The column START has 27541 Unique values.\n",
      "The column STOP has 27765 Unique values.\n",
      "The column PATIENT has 974 Unique values.\n",
      "The column ORGANIZATION has 1 Unique values.\n",
      "The column PAYER has 10 Unique values.\n",
      "The column ENCOUNTERCLASS has 6 Unique values.\n",
      "The column CODE has 45 Unique values.\n",
      "The column DESCRIPTION has 53 Unique values.\n",
      "The column BASE_ENCOUNTER_COST has 5 Unique values.\n",
      "The column TOTAL_CLAIM_COST has 13529 Unique values.\n",
      "The column PAYER_COVERAGE has 5606 Unique values.\n",
      "The column REASONCODE has 73 Unique values.\n",
      "The column REASONDESCRIPTION has 73 Unique values.\n",
      "The column Encounters_Start has 27541 Unique values.\n",
      "The column Encounters_Stop has 27765 Unique values.\n",
      "The column Start_Date has 4032 Unique values.\n",
      "The column Start_Time has 7710 Unique values.\n",
      "The column Stop_Date has 4032 Unique values.\n",
      "The column Stop_Time has 9015 Unique values.\n"
     ]
    }
   ],
   "source": [
    "for uni in encounters.columns:\n",
    "    uni_val = encounters[uni].nunique()\n",
    "    print(f\"The column {uni} has {uni_val} Unique values.\") "
   ]
  },
  {
   "cell_type": "markdown",
   "metadata": {},
   "source": [
    "###### **'organizations' dataframe**"
   ]
  },
  {
   "cell_type": "code",
   "execution_count": 42,
   "metadata": {},
   "outputs": [
    {
     "name": "stdout",
     "output_type": "stream",
     "text": [
      "The column Id has 1 Unique values.\n",
      "The column NAME has 1 Unique values.\n",
      "The column ADDRESS has 1 Unique values.\n",
      "The column CITY has 1 Unique values.\n",
      "The column STATE has 1 Unique values.\n",
      "The column ZIP has 1 Unique values.\n",
      "The column LAT has 1 Unique values.\n",
      "The column LON has 1 Unique values.\n"
     ]
    }
   ],
   "source": [
    "for uni in organizations.columns:\n",
    "    uni_val = organizations[uni].nunique()\n",
    "    print(f\"The column {uni} has {uni_val} Unique values.\") "
   ]
  },
  {
   "cell_type": "markdown",
   "metadata": {},
   "source": [
    "###### **'patients' dataframe**"
   ]
  },
  {
   "cell_type": "code",
   "execution_count": 43,
   "metadata": {},
   "outputs": [
    {
     "name": "stdout",
     "output_type": "stream",
     "text": [
      "The column Id has 974 Unique values.\n",
      "The column BIRTHDATE has 880 Unique values.\n",
      "The column DEATHDATE has 148 Unique values.\n",
      "The column PREFIX has 3 Unique values.\n",
      "The column FIRST has 842 Unique values.\n",
      "The column LAST has 498 Unique values.\n",
      "The column SUFFIX has 3 Unique values.\n",
      "The column MAIDEN has 279 Unique values.\n",
      "The column MARITAL has 2 Unique values.\n",
      "The column RACE has 6 Unique values.\n",
      "The column ETHNICITY has 2 Unique values.\n",
      "The column GENDER has 2 Unique values.\n",
      "The column BIRTHPLACE has 297 Unique values.\n",
      "The column ADDRESS has 974 Unique values.\n",
      "The column CITY has 29 Unique values.\n",
      "The column STATE has 1 Unique values.\n",
      "The column COUNTY has 5 Unique values.\n",
      "The column ZIP has 70 Unique values.\n",
      "The column LAT has 974 Unique values.\n",
      "The column LON has 974 Unique values.\n",
      "The column First_Name has 842 Unique values.\n",
      "The column Last_Name has 498 Unique values.\n",
      "The column Maiden_Name has 280 Unique values.\n",
      "The column Birth_Country has 29 Unique values.\n"
     ]
    }
   ],
   "source": [
    "for uni in patients.columns:\n",
    "    uni_val = patients[uni].nunique()\n",
    "    print(f\"The column {uni} has {uni_val} Unique values.\") "
   ]
  },
  {
   "cell_type": "markdown",
   "metadata": {},
   "source": [
    "###### **'payers' dataframe"
   ]
  },
  {
   "cell_type": "code",
   "execution_count": 44,
   "metadata": {},
   "outputs": [
    {
     "name": "stdout",
     "output_type": "stream",
     "text": [
      "The column Id has 10 Unique values.\n",
      "The column NAME has 10 Unique values.\n",
      "The column ADDRESS has 7 Unique values.\n",
      "The column CITY has 7 Unique values.\n",
      "The column STATE_HEADQUARTERED has 6 Unique values.\n",
      "The column ZIP has 7 Unique values.\n",
      "The column PHONE has 8 Unique values.\n"
     ]
    }
   ],
   "source": [
    "for uni in payers.columns:\n",
    "    uni_val = payers[uni].nunique()\n",
    "    print(f\"The column {uni} has {uni_val} Unique values.\")"
   ]
  },
  {
   "cell_type": "markdown",
   "metadata": {},
   "source": [
    "###### **'procedures' dataframe**"
   ]
  },
  {
   "cell_type": "code",
   "execution_count": 45,
   "metadata": {},
   "outputs": [
    {
     "name": "stdout",
     "output_type": "stream",
     "text": [
      "The column START has 39251 Unique values.\n",
      "The column STOP has 42263 Unique values.\n",
      "The column PATIENT has 793 Unique values.\n",
      "The column ENCOUNTER has 14670 Unique values.\n",
      "The column CODE has 157 Unique values.\n",
      "The column DESCRIPTION has 163 Unique values.\n",
      "The column BASE_COST has 8268 Unique values.\n",
      "The column REASONCODE has 46 Unique values.\n",
      "The column REASONDESCRIPTION has 46 Unique values.\n",
      "The column Procedures_Start has 39251 Unique values.\n",
      "The column Procedures_Stop has 42263 Unique values.\n",
      "The column Procedures_Start_Date has 3951 Unique values.\n",
      "The column Procedures_Start_Time has 22701 Unique values.\n",
      "The column Procedures_Stop_Date has 3952 Unique values.\n",
      "The column Procedures_Stop_Time has 26965 Unique values.\n"
     ]
    }
   ],
   "source": [
    "for uni in procedures.columns:\n",
    "    uni_val = procedures[uni].nunique()\n",
    "    print(f\"The column {uni} has {uni_val} Unique values.\")"
   ]
  },
  {
   "cell_type": "markdown",
   "metadata": {},
   "source": [
    "Lastly, regarding the examination of the data, I will take a look at some statistical information relating to the numeric and categorical values of the columns in each dataframe.\n",
    "\n",
    "**Checking Statistic Information**\n",
    "\n",
    "###### **'encounters' dataframe**"
   ]
  },
  {
   "cell_type": "code",
   "execution_count": 46,
   "metadata": {},
   "outputs": [
    {
     "data": {
      "text/html": [
       "<div>\n",
       "<style scoped>\n",
       "    .dataframe tbody tr th:only-of-type {\n",
       "        vertical-align: middle;\n",
       "    }\n",
       "\n",
       "    .dataframe tbody tr th {\n",
       "        vertical-align: top;\n",
       "    }\n",
       "\n",
       "    .dataframe thead th {\n",
       "        text-align: right;\n",
       "    }\n",
       "</style>\n",
       "<table border=\"1\" class=\"dataframe\">\n",
       "  <thead>\n",
       "    <tr style=\"text-align: right;\">\n",
       "      <th></th>\n",
       "      <th>CODE</th>\n",
       "      <th>BASE_ENCOUNTER_COST</th>\n",
       "      <th>TOTAL_CLAIM_COST</th>\n",
       "      <th>PAYER_COVERAGE</th>\n",
       "      <th>REASONCODE</th>\n",
       "    </tr>\n",
       "  </thead>\n",
       "  <tbody>\n",
       "    <tr>\n",
       "      <th>count</th>\n",
       "      <td>2.789100e+04</td>\n",
       "      <td>27891.000000</td>\n",
       "      <td>27891.000000</td>\n",
       "      <td>27891.000000</td>\n",
       "      <td>8.350000e+03</td>\n",
       "    </tr>\n",
       "    <tr>\n",
       "      <th>mean</th>\n",
       "      <td>2.972670e+08</td>\n",
       "      <td>116.181614</td>\n",
       "      <td>3639.682174</td>\n",
       "      <td>1114.965652</td>\n",
       "      <td>4.751643e+11</td>\n",
       "    </tr>\n",
       "    <tr>\n",
       "      <th>std</th>\n",
       "      <td>2.017839e+08</td>\n",
       "      <td>28.410082</td>\n",
       "      <td>9205.595748</td>\n",
       "      <td>4768.615576</td>\n",
       "      <td>5.874089e+12</td>\n",
       "    </tr>\n",
       "    <tr>\n",
       "      <th>min</th>\n",
       "      <td>1.505002e+06</td>\n",
       "      <td>85.550000</td>\n",
       "      <td>0.000000</td>\n",
       "      <td>0.000000</td>\n",
       "      <td>5.602001e+06</td>\n",
       "    </tr>\n",
       "    <tr>\n",
       "      <th>25%</th>\n",
       "      <td>1.853450e+08</td>\n",
       "      <td>85.550000</td>\n",
       "      <td>142.580000</td>\n",
       "      <td>0.000000</td>\n",
       "      <td>5.582200e+07</td>\n",
       "    </tr>\n",
       "    <tr>\n",
       "      <th>50%</th>\n",
       "      <td>1.853490e+08</td>\n",
       "      <td>136.800000</td>\n",
       "      <td>278.580000</td>\n",
       "      <td>28.440000</td>\n",
       "      <td>8.880501e+07</td>\n",
       "    </tr>\n",
       "    <tr>\n",
       "      <th>75%</th>\n",
       "      <td>4.244410e+08</td>\n",
       "      <td>142.580000</td>\n",
       "      <td>1412.530000</td>\n",
       "      <td>155.770000</td>\n",
       "      <td>1.956620e+08</td>\n",
       "    </tr>\n",
       "    <tr>\n",
       "      <th>max</th>\n",
       "      <td>7.029270e+08</td>\n",
       "      <td>146.180000</td>\n",
       "      <td>641882.700000</td>\n",
       "      <td>247751.420000</td>\n",
       "      <td>1.241710e+14</td>\n",
       "    </tr>\n",
       "  </tbody>\n",
       "</table>\n",
       "</div>"
      ],
      "text/plain": [
       "               CODE  BASE_ENCOUNTER_COST  TOTAL_CLAIM_COST  PAYER_COVERAGE  \\\n",
       "count  2.789100e+04         27891.000000      27891.000000    27891.000000   \n",
       "mean   2.972670e+08           116.181614       3639.682174     1114.965652   \n",
       "std    2.017839e+08            28.410082       9205.595748     4768.615576   \n",
       "min    1.505002e+06            85.550000          0.000000        0.000000   \n",
       "25%    1.853450e+08            85.550000        142.580000        0.000000   \n",
       "50%    1.853490e+08           136.800000        278.580000       28.440000   \n",
       "75%    4.244410e+08           142.580000       1412.530000      155.770000   \n",
       "max    7.029270e+08           146.180000     641882.700000   247751.420000   \n",
       "\n",
       "         REASONCODE  \n",
       "count  8.350000e+03  \n",
       "mean   4.751643e+11  \n",
       "std    5.874089e+12  \n",
       "min    5.602001e+06  \n",
       "25%    5.582200e+07  \n",
       "50%    8.880501e+07  \n",
       "75%    1.956620e+08  \n",
       "max    1.241710e+14  "
      ]
     },
     "execution_count": 46,
     "metadata": {},
     "output_type": "execute_result"
    }
   ],
   "source": [
    "encounters.describe()"
   ]
  },
  {
   "cell_type": "code",
   "execution_count": 47,
   "metadata": {},
   "outputs": [
    {
     "data": {
      "text/html": [
       "<div>\n",
       "<style scoped>\n",
       "    .dataframe tbody tr th:only-of-type {\n",
       "        vertical-align: middle;\n",
       "    }\n",
       "\n",
       "    .dataframe tbody tr th {\n",
       "        vertical-align: top;\n",
       "    }\n",
       "\n",
       "    .dataframe thead th {\n",
       "        text-align: right;\n",
       "    }\n",
       "</style>\n",
       "<table border=\"1\" class=\"dataframe\">\n",
       "  <thead>\n",
       "    <tr style=\"text-align: right;\">\n",
       "      <th></th>\n",
       "      <th>Id</th>\n",
       "      <th>START</th>\n",
       "      <th>STOP</th>\n",
       "      <th>PATIENT</th>\n",
       "      <th>ORGANIZATION</th>\n",
       "      <th>PAYER</th>\n",
       "      <th>ENCOUNTERCLASS</th>\n",
       "      <th>DESCRIPTION</th>\n",
       "      <th>REASONDESCRIPTION</th>\n",
       "      <th>Start_Date</th>\n",
       "      <th>Start_Time</th>\n",
       "      <th>Stop_Date</th>\n",
       "      <th>Stop_Time</th>\n",
       "    </tr>\n",
       "  </thead>\n",
       "  <tbody>\n",
       "    <tr>\n",
       "      <th>count</th>\n",
       "      <td>27891</td>\n",
       "      <td>27891</td>\n",
       "      <td>27891</td>\n",
       "      <td>27891</td>\n",
       "      <td>27891</td>\n",
       "      <td>27891</td>\n",
       "      <td>27891</td>\n",
       "      <td>27891</td>\n",
       "      <td>8350</td>\n",
       "      <td>27891</td>\n",
       "      <td>27891</td>\n",
       "      <td>27891</td>\n",
       "      <td>27891</td>\n",
       "    </tr>\n",
       "    <tr>\n",
       "      <th>unique</th>\n",
       "      <td>27891</td>\n",
       "      <td>27541</td>\n",
       "      <td>27765</td>\n",
       "      <td>974</td>\n",
       "      <td>1</td>\n",
       "      <td>10</td>\n",
       "      <td>6</td>\n",
       "      <td>53</td>\n",
       "      <td>73</td>\n",
       "      <td>4032</td>\n",
       "      <td>7710</td>\n",
       "      <td>4032</td>\n",
       "      <td>9015</td>\n",
       "    </tr>\n",
       "    <tr>\n",
       "      <th>top</th>\n",
       "      <td>32c84703-2481-49cd-d571-3899d5820253</td>\n",
       "      <td>2016-12-08T10:00:40Z</td>\n",
       "      <td>2016-12-08T10:15:40Z</td>\n",
       "      <td>1712d26d-822d-1e3a-2267-0a9dba31d7c8</td>\n",
       "      <td>d78e84ec-30aa-3bba-a33a-f29a3a454662</td>\n",
       "      <td>7caa7254-5050-3b5e-9eae-bd5ea30e809c</td>\n",
       "      <td>ambulatory</td>\n",
       "      <td>Encounter for problem (procedure)</td>\n",
       "      <td>Chronic congestive heart failure (disorder)</td>\n",
       "      <td>2014-02-06</td>\n",
       "      <td>16:58:48</td>\n",
       "      <td>2014-02-06</td>\n",
       "      <td>02:35:30</td>\n",
       "    </tr>\n",
       "    <tr>\n",
       "      <th>freq</th>\n",
       "      <td>1</td>\n",
       "      <td>3</td>\n",
       "      <td>3</td>\n",
       "      <td>1381</td>\n",
       "      <td>27891</td>\n",
       "      <td>11371</td>\n",
       "      <td>12537</td>\n",
       "      <td>4308</td>\n",
       "      <td>1738</td>\n",
       "      <td>57</td>\n",
       "      <td>444</td>\n",
       "      <td>55</td>\n",
       "      <td>327</td>\n",
       "    </tr>\n",
       "  </tbody>\n",
       "</table>\n",
       "</div>"
      ],
      "text/plain": [
       "                                          Id                 START  \\\n",
       "count                                  27891                 27891   \n",
       "unique                                 27891                 27541   \n",
       "top     32c84703-2481-49cd-d571-3899d5820253  2016-12-08T10:00:40Z   \n",
       "freq                                       1                     3   \n",
       "\n",
       "                        STOP                               PATIENT  \\\n",
       "count                  27891                                 27891   \n",
       "unique                 27765                                   974   \n",
       "top     2016-12-08T10:15:40Z  1712d26d-822d-1e3a-2267-0a9dba31d7c8   \n",
       "freq                       3                                  1381   \n",
       "\n",
       "                                ORGANIZATION  \\\n",
       "count                                  27891   \n",
       "unique                                     1   \n",
       "top     d78e84ec-30aa-3bba-a33a-f29a3a454662   \n",
       "freq                                   27891   \n",
       "\n",
       "                                       PAYER ENCOUNTERCLASS  \\\n",
       "count                                  27891          27891   \n",
       "unique                                    10              6   \n",
       "top     7caa7254-5050-3b5e-9eae-bd5ea30e809c     ambulatory   \n",
       "freq                                   11371          12537   \n",
       "\n",
       "                              DESCRIPTION  \\\n",
       "count                               27891   \n",
       "unique                                 53   \n",
       "top     Encounter for problem (procedure)   \n",
       "freq                                 4308   \n",
       "\n",
       "                                  REASONDESCRIPTION  Start_Date Start_Time  \\\n",
       "count                                          8350       27891      27891   \n",
       "unique                                           73        4032       7710   \n",
       "top     Chronic congestive heart failure (disorder)  2014-02-06   16:58:48   \n",
       "freq                                           1738          57        444   \n",
       "\n",
       "         Stop_Date Stop_Time  \n",
       "count        27891     27891  \n",
       "unique        4032      9015  \n",
       "top     2014-02-06  02:35:30  \n",
       "freq            55       327  "
      ]
     },
     "execution_count": 47,
     "metadata": {},
     "output_type": "execute_result"
    }
   ],
   "source": [
    "encounters.describe(include=\"object\") "
   ]
  },
  {
   "cell_type": "markdown",
   "metadata": {},
   "source": [
    "###### **'organizations' dataframe**"
   ]
  },
  {
   "cell_type": "code",
   "execution_count": 48,
   "metadata": {},
   "outputs": [
    {
     "data": {
      "text/html": [
       "<div>\n",
       "<style scoped>\n",
       "    .dataframe tbody tr th:only-of-type {\n",
       "        vertical-align: middle;\n",
       "    }\n",
       "\n",
       "    .dataframe tbody tr th {\n",
       "        vertical-align: top;\n",
       "    }\n",
       "\n",
       "    .dataframe thead th {\n",
       "        text-align: right;\n",
       "    }\n",
       "</style>\n",
       "<table border=\"1\" class=\"dataframe\">\n",
       "  <thead>\n",
       "    <tr style=\"text-align: right;\">\n",
       "      <th></th>\n",
       "      <th>ZIP</th>\n",
       "      <th>LAT</th>\n",
       "      <th>LON</th>\n",
       "    </tr>\n",
       "  </thead>\n",
       "  <tbody>\n",
       "    <tr>\n",
       "      <th>count</th>\n",
       "      <td>1.0</td>\n",
       "      <td>1.000000</td>\n",
       "      <td>1.000000</td>\n",
       "    </tr>\n",
       "    <tr>\n",
       "      <th>mean</th>\n",
       "      <td>2114.0</td>\n",
       "      <td>42.362813</td>\n",
       "      <td>-71.069187</td>\n",
       "    </tr>\n",
       "    <tr>\n",
       "      <th>std</th>\n",
       "      <td>NaN</td>\n",
       "      <td>NaN</td>\n",
       "      <td>NaN</td>\n",
       "    </tr>\n",
       "    <tr>\n",
       "      <th>min</th>\n",
       "      <td>2114.0</td>\n",
       "      <td>42.362813</td>\n",
       "      <td>-71.069187</td>\n",
       "    </tr>\n",
       "    <tr>\n",
       "      <th>25%</th>\n",
       "      <td>2114.0</td>\n",
       "      <td>42.362813</td>\n",
       "      <td>-71.069187</td>\n",
       "    </tr>\n",
       "    <tr>\n",
       "      <th>50%</th>\n",
       "      <td>2114.0</td>\n",
       "      <td>42.362813</td>\n",
       "      <td>-71.069187</td>\n",
       "    </tr>\n",
       "    <tr>\n",
       "      <th>75%</th>\n",
       "      <td>2114.0</td>\n",
       "      <td>42.362813</td>\n",
       "      <td>-71.069187</td>\n",
       "    </tr>\n",
       "    <tr>\n",
       "      <th>max</th>\n",
       "      <td>2114.0</td>\n",
       "      <td>42.362813</td>\n",
       "      <td>-71.069187</td>\n",
       "    </tr>\n",
       "  </tbody>\n",
       "</table>\n",
       "</div>"
      ],
      "text/plain": [
       "          ZIP        LAT        LON\n",
       "count     1.0   1.000000   1.000000\n",
       "mean   2114.0  42.362813 -71.069187\n",
       "std       NaN        NaN        NaN\n",
       "min    2114.0  42.362813 -71.069187\n",
       "25%    2114.0  42.362813 -71.069187\n",
       "50%    2114.0  42.362813 -71.069187\n",
       "75%    2114.0  42.362813 -71.069187\n",
       "max    2114.0  42.362813 -71.069187"
      ]
     },
     "execution_count": 48,
     "metadata": {},
     "output_type": "execute_result"
    }
   ],
   "source": [
    "organizations.describe()"
   ]
  },
  {
   "cell_type": "code",
   "execution_count": 49,
   "metadata": {},
   "outputs": [
    {
     "data": {
      "text/html": [
       "<div>\n",
       "<style scoped>\n",
       "    .dataframe tbody tr th:only-of-type {\n",
       "        vertical-align: middle;\n",
       "    }\n",
       "\n",
       "    .dataframe tbody tr th {\n",
       "        vertical-align: top;\n",
       "    }\n",
       "\n",
       "    .dataframe thead th {\n",
       "        text-align: right;\n",
       "    }\n",
       "</style>\n",
       "<table border=\"1\" class=\"dataframe\">\n",
       "  <thead>\n",
       "    <tr style=\"text-align: right;\">\n",
       "      <th></th>\n",
       "      <th>Id</th>\n",
       "      <th>NAME</th>\n",
       "      <th>ADDRESS</th>\n",
       "      <th>CITY</th>\n",
       "      <th>STATE</th>\n",
       "    </tr>\n",
       "  </thead>\n",
       "  <tbody>\n",
       "    <tr>\n",
       "      <th>count</th>\n",
       "      <td>1</td>\n",
       "      <td>1</td>\n",
       "      <td>1</td>\n",
       "      <td>1</td>\n",
       "      <td>1</td>\n",
       "    </tr>\n",
       "    <tr>\n",
       "      <th>unique</th>\n",
       "      <td>1</td>\n",
       "      <td>1</td>\n",
       "      <td>1</td>\n",
       "      <td>1</td>\n",
       "      <td>1</td>\n",
       "    </tr>\n",
       "    <tr>\n",
       "      <th>top</th>\n",
       "      <td>d78e84ec-30aa-3bba-a33a-f29a3a454662</td>\n",
       "      <td>MASSACHUSETTS GENERAL HOSPITAL</td>\n",
       "      <td>55 FRUIT STREET</td>\n",
       "      <td>BOSTON</td>\n",
       "      <td>MA</td>\n",
       "    </tr>\n",
       "    <tr>\n",
       "      <th>freq</th>\n",
       "      <td>1</td>\n",
       "      <td>1</td>\n",
       "      <td>1</td>\n",
       "      <td>1</td>\n",
       "      <td>1</td>\n",
       "    </tr>\n",
       "  </tbody>\n",
       "</table>\n",
       "</div>"
      ],
      "text/plain": [
       "                                          Id                            NAME  \\\n",
       "count                                      1                               1   \n",
       "unique                                     1                               1   \n",
       "top     d78e84ec-30aa-3bba-a33a-f29a3a454662  MASSACHUSETTS GENERAL HOSPITAL   \n",
       "freq                                       1                               1   \n",
       "\n",
       "                ADDRESS    CITY STATE  \n",
       "count                 1       1     1  \n",
       "unique                1       1     1  \n",
       "top     55 FRUIT STREET  BOSTON    MA  \n",
       "freq                  1       1     1  "
      ]
     },
     "execution_count": 49,
     "metadata": {},
     "output_type": "execute_result"
    }
   ],
   "source": [
    "organizations.describe(include=\"object\") "
   ]
  },
  {
   "cell_type": "markdown",
   "metadata": {},
   "source": [
    "###### **'patients' dataframe**"
   ]
  },
  {
   "cell_type": "code",
   "execution_count": 50,
   "metadata": {},
   "outputs": [
    {
     "data": {
      "text/html": [
       "<div>\n",
       "<style scoped>\n",
       "    .dataframe tbody tr th:only-of-type {\n",
       "        vertical-align: middle;\n",
       "    }\n",
       "\n",
       "    .dataframe tbody tr th {\n",
       "        vertical-align: top;\n",
       "    }\n",
       "\n",
       "    .dataframe thead th {\n",
       "        text-align: right;\n",
       "    }\n",
       "</style>\n",
       "<table border=\"1\" class=\"dataframe\">\n",
       "  <thead>\n",
       "    <tr style=\"text-align: right;\">\n",
       "      <th></th>\n",
       "      <th>ZIP</th>\n",
       "      <th>LAT</th>\n",
       "      <th>LON</th>\n",
       "    </tr>\n",
       "  </thead>\n",
       "  <tbody>\n",
       "    <tr>\n",
       "      <th>count</th>\n",
       "      <td>832.000000</td>\n",
       "      <td>974.000000</td>\n",
       "      <td>974.000000</td>\n",
       "    </tr>\n",
       "    <tr>\n",
       "      <th>mean</th>\n",
       "      <td>2152.421875</td>\n",
       "      <td>42.337359</td>\n",
       "      <td>-71.027524</td>\n",
       "    </tr>\n",
       "    <tr>\n",
       "      <th>std</th>\n",
       "      <td>75.462146</td>\n",
       "      <td>0.047594</td>\n",
       "      <td>0.069375</td>\n",
       "    </tr>\n",
       "    <tr>\n",
       "      <th>min</th>\n",
       "      <td>1801.000000</td>\n",
       "      <td>42.204921</td>\n",
       "      <td>-71.165648</td>\n",
       "    </tr>\n",
       "    <tr>\n",
       "      <th>25%</th>\n",
       "      <td>2121.000000</td>\n",
       "      <td>42.313366</td>\n",
       "      <td>-71.068002</td>\n",
       "    </tr>\n",
       "    <tr>\n",
       "      <th>50%</th>\n",
       "      <td>2135.000000</td>\n",
       "      <td>42.343794</td>\n",
       "      <td>-71.038397</td>\n",
       "    </tr>\n",
       "    <tr>\n",
       "      <th>75%</th>\n",
       "      <td>2163.000000</td>\n",
       "      <td>42.371594</td>\n",
       "      <td>-70.999202</td>\n",
       "    </tr>\n",
       "    <tr>\n",
       "      <th>max</th>\n",
       "      <td>2472.000000</td>\n",
       "      <td>42.495464</td>\n",
       "      <td>-70.730824</td>\n",
       "    </tr>\n",
       "  </tbody>\n",
       "</table>\n",
       "</div>"
      ],
      "text/plain": [
       "               ZIP         LAT         LON\n",
       "count   832.000000  974.000000  974.000000\n",
       "mean   2152.421875   42.337359  -71.027524\n",
       "std      75.462146    0.047594    0.069375\n",
       "min    1801.000000   42.204921  -71.165648\n",
       "25%    2121.000000   42.313366  -71.068002\n",
       "50%    2135.000000   42.343794  -71.038397\n",
       "75%    2163.000000   42.371594  -70.999202\n",
       "max    2472.000000   42.495464  -70.730824"
      ]
     },
     "execution_count": 50,
     "metadata": {},
     "output_type": "execute_result"
    }
   ],
   "source": [
    "patients.describe()"
   ]
  },
  {
   "cell_type": "code",
   "execution_count": 51,
   "metadata": {},
   "outputs": [
    {
     "data": {
      "text/html": [
       "<div>\n",
       "<style scoped>\n",
       "    .dataframe tbody tr th:only-of-type {\n",
       "        vertical-align: middle;\n",
       "    }\n",
       "\n",
       "    .dataframe tbody tr th {\n",
       "        vertical-align: top;\n",
       "    }\n",
       "\n",
       "    .dataframe thead th {\n",
       "        text-align: right;\n",
       "    }\n",
       "</style>\n",
       "<table border=\"1\" class=\"dataframe\">\n",
       "  <thead>\n",
       "    <tr style=\"text-align: right;\">\n",
       "      <th></th>\n",
       "      <th>Id</th>\n",
       "      <th>PREFIX</th>\n",
       "      <th>FIRST</th>\n",
       "      <th>LAST</th>\n",
       "      <th>SUFFIX</th>\n",
       "      <th>MAIDEN</th>\n",
       "      <th>MARITAL</th>\n",
       "      <th>RACE</th>\n",
       "      <th>ETHNICITY</th>\n",
       "      <th>GENDER</th>\n",
       "      <th>BIRTHPLACE</th>\n",
       "      <th>ADDRESS</th>\n",
       "      <th>CITY</th>\n",
       "      <th>STATE</th>\n",
       "      <th>COUNTY</th>\n",
       "      <th>First_Name</th>\n",
       "      <th>Last_Name</th>\n",
       "      <th>Maiden_Name</th>\n",
       "      <th>Birth_Country</th>\n",
       "    </tr>\n",
       "  </thead>\n",
       "  <tbody>\n",
       "    <tr>\n",
       "      <th>count</th>\n",
       "      <td>974</td>\n",
       "      <td>974</td>\n",
       "      <td>974</td>\n",
       "      <td>974</td>\n",
       "      <td>21</td>\n",
       "      <td>386</td>\n",
       "      <td>973</td>\n",
       "      <td>974</td>\n",
       "      <td>974</td>\n",
       "      <td>974</td>\n",
       "      <td>974</td>\n",
       "      <td>974</td>\n",
       "      <td>974</td>\n",
       "      <td>974</td>\n",
       "      <td>974</td>\n",
       "      <td>974</td>\n",
       "      <td>974</td>\n",
       "      <td>974</td>\n",
       "      <td>974</td>\n",
       "    </tr>\n",
       "    <tr>\n",
       "      <th>unique</th>\n",
       "      <td>974</td>\n",
       "      <td>3</td>\n",
       "      <td>842</td>\n",
       "      <td>498</td>\n",
       "      <td>3</td>\n",
       "      <td>279</td>\n",
       "      <td>2</td>\n",
       "      <td>6</td>\n",
       "      <td>2</td>\n",
       "      <td>2</td>\n",
       "      <td>297</td>\n",
       "      <td>974</td>\n",
       "      <td>29</td>\n",
       "      <td>1</td>\n",
       "      <td>5</td>\n",
       "      <td>842</td>\n",
       "      <td>498</td>\n",
       "      <td>280</td>\n",
       "      <td>29</td>\n",
       "    </tr>\n",
       "    <tr>\n",
       "      <th>top</th>\n",
       "      <td>5605b66b-e92d-c16c-1b83-b8bf7040d51f</td>\n",
       "      <td>Mr.</td>\n",
       "      <td>Domenic627</td>\n",
       "      <td>Heaney114</td>\n",
       "      <td>PhD</td>\n",
       "      <td>Jerde200</td>\n",
       "      <td>M</td>\n",
       "      <td>white</td>\n",
       "      <td>nonhispanic</td>\n",
       "      <td>M</td>\n",
       "      <td>Boston  Massachusetts  US</td>\n",
       "      <td>510 Little Station Unit 69</td>\n",
       "      <td>Boston</td>\n",
       "      <td>Massachusetts</td>\n",
       "      <td>Suffolk County</td>\n",
       "      <td>Domenic</td>\n",
       "      <td>Heaney</td>\n",
       "      <td>nan</td>\n",
       "      <td>US</td>\n",
       "    </tr>\n",
       "    <tr>\n",
       "      <th>freq</th>\n",
       "      <td>1</td>\n",
       "      <td>494</td>\n",
       "      <td>3</td>\n",
       "      <td>6</td>\n",
       "      <td>10</td>\n",
       "      <td>5</td>\n",
       "      <td>784</td>\n",
       "      <td>680</td>\n",
       "      <td>783</td>\n",
       "      <td>494</td>\n",
       "      <td>79</td>\n",
       "      <td>1</td>\n",
       "      <td>541</td>\n",
       "      <td>974</td>\n",
       "      <td>644</td>\n",
       "      <td>3</td>\n",
       "      <td>6</td>\n",
       "      <td>588</td>\n",
       "      <td>845</td>\n",
       "    </tr>\n",
       "  </tbody>\n",
       "</table>\n",
       "</div>"
      ],
      "text/plain": [
       "                                          Id PREFIX       FIRST       LAST  \\\n",
       "count                                    974    974         974        974   \n",
       "unique                                   974      3         842        498   \n",
       "top     5605b66b-e92d-c16c-1b83-b8bf7040d51f    Mr.  Domenic627  Heaney114   \n",
       "freq                                       1    494           3          6   \n",
       "\n",
       "       SUFFIX    MAIDEN MARITAL   RACE    ETHNICITY GENDER  \\\n",
       "count      21       386     973    974          974    974   \n",
       "unique      3       279       2      6            2      2   \n",
       "top       PhD  Jerde200       M  white  nonhispanic      M   \n",
       "freq       10         5     784    680          783    494   \n",
       "\n",
       "                       BIRTHPLACE                     ADDRESS    CITY  \\\n",
       "count                         974                         974     974   \n",
       "unique                        297                         974      29   \n",
       "top     Boston  Massachusetts  US  510 Little Station Unit 69  Boston   \n",
       "freq                           79                           1     541   \n",
       "\n",
       "                STATE          COUNTY  First_Name  Last_Name Maiden_Name  \\\n",
       "count             974             974         974        974         974   \n",
       "unique              1               5         842        498         280   \n",
       "top     Massachusetts  Suffolk County  Domenic     Heaney            nan   \n",
       "freq              974             644           3          6         588   \n",
       "\n",
       "       Birth_Country  \n",
       "count            974  \n",
       "unique            29  \n",
       "top               US  \n",
       "freq             845  "
      ]
     },
     "execution_count": 51,
     "metadata": {},
     "output_type": "execute_result"
    }
   ],
   "source": [
    "patients.describe(include=\"object\") "
   ]
  },
  {
   "cell_type": "markdown",
   "metadata": {},
   "source": [
    "###### **'payers' dataframe**"
   ]
  },
  {
   "cell_type": "code",
   "execution_count": 52,
   "metadata": {},
   "outputs": [
    {
     "data": {
      "text/html": [
       "<div>\n",
       "<style scoped>\n",
       "    .dataframe tbody tr th:only-of-type {\n",
       "        vertical-align: middle;\n",
       "    }\n",
       "\n",
       "    .dataframe tbody tr th {\n",
       "        vertical-align: top;\n",
       "    }\n",
       "\n",
       "    .dataframe thead th {\n",
       "        text-align: right;\n",
       "    }\n",
       "</style>\n",
       "<table border=\"1\" class=\"dataframe\">\n",
       "  <thead>\n",
       "    <tr style=\"text-align: right;\">\n",
       "      <th></th>\n",
       "      <th>ZIP</th>\n",
       "    </tr>\n",
       "  </thead>\n",
       "  <tbody>\n",
       "    <tr>\n",
       "      <th>count</th>\n",
       "      <td>9.000000</td>\n",
       "    </tr>\n",
       "    <tr>\n",
       "      <th>mean</th>\n",
       "      <td>30839.444444</td>\n",
       "    </tr>\n",
       "    <tr>\n",
       "      <th>std</th>\n",
       "      <td>20243.644158</td>\n",
       "    </tr>\n",
       "    <tr>\n",
       "      <th>min</th>\n",
       "      <td>6002.000000</td>\n",
       "    </tr>\n",
       "    <tr>\n",
       "      <th>25%</th>\n",
       "      <td>21244.000000</td>\n",
       "    </tr>\n",
       "    <tr>\n",
       "      <th>50%</th>\n",
       "      <td>21244.000000</td>\n",
       "    </tr>\n",
       "    <tr>\n",
       "      <th>75%</th>\n",
       "      <td>46204.000000</td>\n",
       "    </tr>\n",
       "    <tr>\n",
       "      <th>max</th>\n",
       "      <td>60007.000000</td>\n",
       "    </tr>\n",
       "  </tbody>\n",
       "</table>\n",
       "</div>"
      ],
      "text/plain": [
       "                ZIP\n",
       "count      9.000000\n",
       "mean   30839.444444\n",
       "std    20243.644158\n",
       "min     6002.000000\n",
       "25%    21244.000000\n",
       "50%    21244.000000\n",
       "75%    46204.000000\n",
       "max    60007.000000"
      ]
     },
     "execution_count": 52,
     "metadata": {},
     "output_type": "execute_result"
    }
   ],
   "source": [
    "payers.describe()"
   ]
  },
  {
   "cell_type": "code",
   "execution_count": 53,
   "metadata": {},
   "outputs": [
    {
     "data": {
      "text/html": [
       "<div>\n",
       "<style scoped>\n",
       "    .dataframe tbody tr th:only-of-type {\n",
       "        vertical-align: middle;\n",
       "    }\n",
       "\n",
       "    .dataframe tbody tr th {\n",
       "        vertical-align: top;\n",
       "    }\n",
       "\n",
       "    .dataframe thead th {\n",
       "        text-align: right;\n",
       "    }\n",
       "</style>\n",
       "<table border=\"1\" class=\"dataframe\">\n",
       "  <thead>\n",
       "    <tr style=\"text-align: right;\">\n",
       "      <th></th>\n",
       "      <th>Id</th>\n",
       "      <th>NAME</th>\n",
       "      <th>ADDRESS</th>\n",
       "      <th>CITY</th>\n",
       "      <th>STATE_HEADQUARTERED</th>\n",
       "      <th>PHONE</th>\n",
       "    </tr>\n",
       "  </thead>\n",
       "  <tbody>\n",
       "    <tr>\n",
       "      <th>count</th>\n",
       "      <td>10</td>\n",
       "      <td>10</td>\n",
       "      <td>9</td>\n",
       "      <td>9</td>\n",
       "      <td>9</td>\n",
       "      <td>9</td>\n",
       "    </tr>\n",
       "    <tr>\n",
       "      <th>unique</th>\n",
       "      <td>10</td>\n",
       "      <td>10</td>\n",
       "      <td>7</td>\n",
       "      <td>7</td>\n",
       "      <td>6</td>\n",
       "      <td>8</td>\n",
       "    </tr>\n",
       "    <tr>\n",
       "      <th>top</th>\n",
       "      <td>b3221cfc-24fb-339e-823d-bc4136cbc4ed</td>\n",
       "      <td>Dual Eligible</td>\n",
       "      <td>7500 Security Blvd</td>\n",
       "      <td>Baltimore</td>\n",
       "      <td>MD</td>\n",
       "      <td>1-877-267-2323</td>\n",
       "    </tr>\n",
       "    <tr>\n",
       "      <th>freq</th>\n",
       "      <td>1</td>\n",
       "      <td>1</td>\n",
       "      <td>3</td>\n",
       "      <td>3</td>\n",
       "      <td>3</td>\n",
       "      <td>2</td>\n",
       "    </tr>\n",
       "  </tbody>\n",
       "</table>\n",
       "</div>"
      ],
      "text/plain": [
       "                                          Id           NAME  \\\n",
       "count                                     10             10   \n",
       "unique                                    10             10   \n",
       "top     b3221cfc-24fb-339e-823d-bc4136cbc4ed  Dual Eligible   \n",
       "freq                                       1              1   \n",
       "\n",
       "                   ADDRESS       CITY STATE_HEADQUARTERED           PHONE  \n",
       "count                    9          9                   9               9  \n",
       "unique                   7          7                   6               8  \n",
       "top     7500 Security Blvd  Baltimore                  MD  1-877-267-2323  \n",
       "freq                     3          3                   3               2  "
      ]
     },
     "execution_count": 53,
     "metadata": {},
     "output_type": "execute_result"
    }
   ],
   "source": [
    "payers.describe(include=\"object\") "
   ]
  },
  {
   "cell_type": "markdown",
   "metadata": {},
   "source": [
    "###### **'procedures' dataframe**"
   ]
  },
  {
   "cell_type": "code",
   "execution_count": 54,
   "metadata": {},
   "outputs": [
    {
     "data": {
      "text/html": [
       "<div>\n",
       "<style scoped>\n",
       "    .dataframe tbody tr th:only-of-type {\n",
       "        vertical-align: middle;\n",
       "    }\n",
       "\n",
       "    .dataframe tbody tr th {\n",
       "        vertical-align: top;\n",
       "    }\n",
       "\n",
       "    .dataframe thead th {\n",
       "        text-align: right;\n",
       "    }\n",
       "</style>\n",
       "<table border=\"1\" class=\"dataframe\">\n",
       "  <thead>\n",
       "    <tr style=\"text-align: right;\">\n",
       "      <th></th>\n",
       "      <th>CODE</th>\n",
       "      <th>BASE_COST</th>\n",
       "      <th>REASONCODE</th>\n",
       "    </tr>\n",
       "  </thead>\n",
       "  <tbody>\n",
       "    <tr>\n",
       "      <th>count</th>\n",
       "      <td>4.770100e+04</td>\n",
       "      <td>47701.000000</td>\n",
       "      <td>1.075600e+04</td>\n",
       "    </tr>\n",
       "    <tr>\n",
       "      <th>mean</th>\n",
       "      <td>1.098683e+14</td>\n",
       "      <td>2212.064967</td>\n",
       "      <td>3.342532e+11</td>\n",
       "    </tr>\n",
       "    <tr>\n",
       "      <th>std</th>\n",
       "      <td>9.057080e+14</td>\n",
       "      <td>5572.978748</td>\n",
       "      <td>4.748533e+12</td>\n",
       "    </tr>\n",
       "    <tr>\n",
       "      <th>min</th>\n",
       "      <td>1.225002e+06</td>\n",
       "      <td>1.000000</td>\n",
       "      <td>5.602001e+06</td>\n",
       "    </tr>\n",
       "    <tr>\n",
       "      <th>25%</th>\n",
       "      <td>2.251580e+08</td>\n",
       "      <td>431.000000</td>\n",
       "      <td>7.289200e+07</td>\n",
       "    </tr>\n",
       "    <tr>\n",
       "      <th>50%</th>\n",
       "      <td>4.153000e+08</td>\n",
       "      <td>431.000000</td>\n",
       "      <td>7.289200e+07</td>\n",
       "    </tr>\n",
       "    <tr>\n",
       "      <th>75%</th>\n",
       "      <td>7.629930e+08</td>\n",
       "      <td>966.000000</td>\n",
       "      <td>7.289200e+07</td>\n",
       "    </tr>\n",
       "    <tr>\n",
       "      <th>max</th>\n",
       "      <td>1.633503e+16</td>\n",
       "      <td>289531.000000</td>\n",
       "      <td>6.781100e+13</td>\n",
       "    </tr>\n",
       "  </tbody>\n",
       "</table>\n",
       "</div>"
      ],
      "text/plain": [
       "               CODE      BASE_COST    REASONCODE\n",
       "count  4.770100e+04   47701.000000  1.075600e+04\n",
       "mean   1.098683e+14    2212.064967  3.342532e+11\n",
       "std    9.057080e+14    5572.978748  4.748533e+12\n",
       "min    1.225002e+06       1.000000  5.602001e+06\n",
       "25%    2.251580e+08     431.000000  7.289200e+07\n",
       "50%    4.153000e+08     431.000000  7.289200e+07\n",
       "75%    7.629930e+08     966.000000  7.289200e+07\n",
       "max    1.633503e+16  289531.000000  6.781100e+13"
      ]
     },
     "execution_count": 54,
     "metadata": {},
     "output_type": "execute_result"
    }
   ],
   "source": [
    "procedures.describe()"
   ]
  },
  {
   "cell_type": "code",
   "execution_count": 55,
   "metadata": {},
   "outputs": [
    {
     "data": {
      "text/html": [
       "<div>\n",
       "<style scoped>\n",
       "    .dataframe tbody tr th:only-of-type {\n",
       "        vertical-align: middle;\n",
       "    }\n",
       "\n",
       "    .dataframe tbody tr th {\n",
       "        vertical-align: top;\n",
       "    }\n",
       "\n",
       "    .dataframe thead th {\n",
       "        text-align: right;\n",
       "    }\n",
       "</style>\n",
       "<table border=\"1\" class=\"dataframe\">\n",
       "  <thead>\n",
       "    <tr style=\"text-align: right;\">\n",
       "      <th></th>\n",
       "      <th>START</th>\n",
       "      <th>STOP</th>\n",
       "      <th>PATIENT</th>\n",
       "      <th>ENCOUNTER</th>\n",
       "      <th>DESCRIPTION</th>\n",
       "      <th>REASONDESCRIPTION</th>\n",
       "      <th>Procedures_Start_Date</th>\n",
       "      <th>Procedures_Start_Time</th>\n",
       "      <th>Procedures_Stop_Date</th>\n",
       "      <th>Procedures_Stop_Time</th>\n",
       "    </tr>\n",
       "  </thead>\n",
       "  <tbody>\n",
       "    <tr>\n",
       "      <th>count</th>\n",
       "      <td>47701</td>\n",
       "      <td>47701</td>\n",
       "      <td>47701</td>\n",
       "      <td>47701</td>\n",
       "      <td>47701</td>\n",
       "      <td>10756</td>\n",
       "      <td>47701</td>\n",
       "      <td>47701</td>\n",
       "      <td>47701</td>\n",
       "      <td>47701</td>\n",
       "    </tr>\n",
       "    <tr>\n",
       "      <th>unique</th>\n",
       "      <td>39251</td>\n",
       "      <td>42263</td>\n",
       "      <td>793</td>\n",
       "      <td>14670</td>\n",
       "      <td>163</td>\n",
       "      <td>46</td>\n",
       "      <td>3951</td>\n",
       "      <td>22701</td>\n",
       "      <td>3952</td>\n",
       "      <td>26965</td>\n",
       "    </tr>\n",
       "    <tr>\n",
       "      <th>top</th>\n",
       "      <td>2013-09-30T22:31:23Z</td>\n",
       "      <td>2019-03-12T08:27:16Z</td>\n",
       "      <td>1712d26d-822d-1e3a-2267-0a9dba31d7c8</td>\n",
       "      <td>66b2ab44-a2cc-8053-8f4e-c5be57e50cc4</td>\n",
       "      <td>Assessment of health and social care needs (pr...</td>\n",
       "      <td>Normal pregnancy</td>\n",
       "      <td>2014-02-26</td>\n",
       "      <td>16:58:48</td>\n",
       "      <td>2014-02-26</td>\n",
       "      <td>17:13:48</td>\n",
       "    </tr>\n",
       "    <tr>\n",
       "      <th>freq</th>\n",
       "      <td>21</td>\n",
       "      <td>20</td>\n",
       "      <td>1783</td>\n",
       "      <td>186</td>\n",
       "      <td>4596</td>\n",
       "      <td>5718</td>\n",
       "      <td>67</td>\n",
       "      <td>521</td>\n",
       "      <td>66</td>\n",
       "      <td>468</td>\n",
       "    </tr>\n",
       "  </tbody>\n",
       "</table>\n",
       "</div>"
      ],
      "text/plain": [
       "                       START                  STOP  \\\n",
       "count                  47701                 47701   \n",
       "unique                 39251                 42263   \n",
       "top     2013-09-30T22:31:23Z  2019-03-12T08:27:16Z   \n",
       "freq                      21                    20   \n",
       "\n",
       "                                     PATIENT  \\\n",
       "count                                  47701   \n",
       "unique                                   793   \n",
       "top     1712d26d-822d-1e3a-2267-0a9dba31d7c8   \n",
       "freq                                    1783   \n",
       "\n",
       "                                   ENCOUNTER  \\\n",
       "count                                  47701   \n",
       "unique                                 14670   \n",
       "top     66b2ab44-a2cc-8053-8f4e-c5be57e50cc4   \n",
       "freq                                     186   \n",
       "\n",
       "                                              DESCRIPTION REASONDESCRIPTION  \\\n",
       "count                                               47701             10756   \n",
       "unique                                                163                46   \n",
       "top     Assessment of health and social care needs (pr...  Normal pregnancy   \n",
       "freq                                                 4596              5718   \n",
       "\n",
       "       Procedures_Start_Date Procedures_Start_Time Procedures_Stop_Date  \\\n",
       "count                  47701                 47701                47701   \n",
       "unique                  3951                 22701                 3952   \n",
       "top               2014-02-26              16:58:48           2014-02-26   \n",
       "freq                      67                   521                   66   \n",
       "\n",
       "       Procedures_Stop_Time  \n",
       "count                 47701  \n",
       "unique                26965  \n",
       "top                17:13:48  \n",
       "freq                    468  "
      ]
     },
     "execution_count": 55,
     "metadata": {},
     "output_type": "execute_result"
    }
   ],
   "source": [
    "procedures.describe(include=\"object\") "
   ]
  },
  {
   "cell_type": "markdown",
   "metadata": {},
   "source": [
    "Now that all of the dataframes have been cleaned and examined, I can now move on to answering the questions inquired by the stakeholders.\n",
    "\n",
    "### QUESTIONS:\n",
    "1) How many patients have been admitted or readmitted over time?"
   ]
  },
  {
   "cell_type": "code",
   "execution_count": 266,
   "metadata": {},
   "outputs": [
    {
     "name": "stdout",
     "output_type": "stream",
     "text": [
      "There have been 27,891 patients admitted or readmitted overtime.\n"
     ]
    }
   ],
   "source": [
    "num_of_patients = encounters[\"Id\"].nunique()\n",
    "print(f\"There have been {num_of_patients:,} patients admitted or readmitted overtime.\") "
   ]
  },
  {
   "cell_type": "markdown",
   "metadata": {},
   "source": [
    "2. How long are patients staying in the hospital, on average?\n",
    "\n",
    "###### Avg Minutes Stayed in Hospital by Patients"
   ]
  },
  {
   "cell_type": "code",
   "execution_count": 57,
   "metadata": {},
   "outputs": [
    {
     "name": "stdout",
     "output_type": "stream",
     "text": [
      "The average patients stay in the hospital is 435.96 minutes.\n"
     ]
    }
   ],
   "source": [
    "avg_hospital_stay_mins = (encounters[\"Encounters_Stop\"] - encounters[\"Encounters_Start\"]) / pd.Timedelta(minutes=1)\n",
    "avg_hospital_stay_mins = avg_hospital_stay_mins.mean()\n",
    "print(f\"The average patients stay in the hospital is {round(avg_hospital_stay_mins, 2)} minutes.\")\n",
    "\n",
    "\n"
   ]
  },
  {
   "cell_type": "markdown",
   "metadata": {},
   "source": [
    "###### Avg Hours Stayed in Hospital by Patients"
   ]
  },
  {
   "cell_type": "code",
   "execution_count": 58,
   "metadata": {},
   "outputs": [
    {
     "name": "stdout",
     "output_type": "stream",
     "text": [
      "The average patients stay in the hospital is 7.27 hours.\n"
     ]
    }
   ],
   "source": [
    "avg_hospital_stay_hrs = (encounters.Encounters_Stop - encounters.Encounters_Start) / pd.Timedelta(hours=1)\n",
    "avg_hospital_stay_hrs = avg_hospital_stay_hrs.mean()\n",
    "print(f\"The average patients stay in the hospital is {round(avg_hospital_stay_hrs, 2)} hours.\") "
   ]
  },
  {
   "cell_type": "markdown",
   "metadata": {},
   "source": [
    "3) How much is the average cost per visit?\n",
    "\n",
    "###### Avg Base Cost Per Visit"
   ]
  },
  {
   "cell_type": "code",
   "execution_count": 59,
   "metadata": {},
   "outputs": [
    {
     "name": "stdout",
     "output_type": "stream",
     "text": [
      "The average base cost per visit for patients is $116.18.\n"
     ]
    }
   ],
   "source": [
    "avg_base_cost = encounters[\"BASE_ENCOUNTER_COST\"]\n",
    "avg_base_cost = avg_base_cost.mean()\n",
    "avg_base_cost\n",
    "print(f\"The average base cost per visit for patients is ${round(avg_base_cost, 2)}.\")"
   ]
  },
  {
   "cell_type": "markdown",
   "metadata": {},
   "source": [
    "###### Avg Total Claim Cost Per Visit"
   ]
  },
  {
   "cell_type": "code",
   "execution_count": 261,
   "metadata": {},
   "outputs": [
    {
     "name": "stdout",
     "output_type": "stream",
     "text": [
      "The average total claim cost per visit for patients is $3,639.68.\n"
     ]
    }
   ],
   "source": [
    "avg_total_claim_cost = encounters[\"TOTAL_CLAIM_COST\"]\n",
    "avg_total_claim_cost = avg_total_claim_cost.mean()\n",
    "avg_total_claim_cost\n",
    "print(f\"The average total claim cost per visit for patients is ${round(avg_total_claim_cost, 2):,}.\") "
   ]
  },
  {
   "cell_type": "markdown",
   "metadata": {},
   "source": [
    "4. How many procedures are covered by insurance?"
   ]
  },
  {
   "cell_type": "code",
   "execution_count": 264,
   "metadata": {},
   "outputs": [
    {
     "name": "stdout",
     "output_type": "stream",
     "text": [
      "There has been 32,599 procedures that have been covered by insurance.\n"
     ]
    }
   ],
   "source": [
    "encounters[\"ENCOUNTER\"] = encounters[\"Id\"]\n",
    "payers[\"PAYER\"] = payers[\"Id\"]\n",
    "encounters_procedures = pd.merge(encounters, procedures, how=\"inner\", on=\"ENCOUNTER\") \n",
    "encounters_procedures_payers = pd.merge(encounters_procedures, payers, how=\"inner\", on=\"PAYER\") \n",
    "insurance_covered_procedures = encounters_procedures_payers[encounters_procedures_payers[\"NAME\"] != \"NO_INSURANCE\"].NAME.count()\n",
    "print(f\"There has been {insurance_covered_procedures:,} procedures that have been covered by insurance.\") "
   ]
  },
  {
   "cell_type": "markdown",
   "metadata": {},
   "source": [
    "### EXPLORATORY DATA ANALYSIS with VISUALIZATIONS\n",
    "\n",
    "###### Total Patients Admitted by Year"
   ]
  },
  {
   "cell_type": "code",
   "execution_count": 111,
   "metadata": {},
   "outputs": [
    {
     "data": {
      "text/plain": [
       "Encounters_Start\n",
       "2011    1336\n",
       "2012    2106\n",
       "2013    2495\n",
       "2014    3885\n",
       "2015    2469\n",
       "2016    2451\n",
       "2017    2360\n",
       "2018    2292\n",
       "2019    2228\n",
       "2020    2519\n",
       "2021    3530\n",
       "2022     220\n",
       "Name: Id, dtype: int64"
      ]
     },
     "execution_count": 111,
     "metadata": {},
     "output_type": "execute_result"
    }
   ],
   "source": [
    "year = encounters[\"Encounters_Start\"].dt.year\n",
    "patients_admitted_by_year = encounters.groupby(year)[\"Id\"].count()\n",
    "patients_admitted_by_year"
   ]
  },
  {
   "cell_type": "code",
   "execution_count": 375,
   "metadata": {},
   "outputs": [
    {
     "name": "stdout",
     "output_type": "stream",
     "text": [
      "The total patients admitted or readmitted by year represented by a line graph.\n"
     ]
    },
    {
     "data": {
      "image/png": "[encoded data removed]",
      "text/plain": [
       "<Figure size 640x480 with 1 Axes>"
      ]
     },
     "metadata": {},
     "output_type": "display_data"
    }
   ],
   "source": [
    "patients_admitted_by_year.plot(kind=\"line\",\n",
    "                               linestyle=\"--\",\n",
    "                               marker=\"o\",\n",
    "                               label=\"line with marker\")\n",
    "plt.title(\"PATIENTS ADMITTED BY YEAR\",\n",
    "          color=\"black\")\n",
    "plt.ylabel(\"Number of Patients\",\n",
    "           color=\"black\")\n",
    "plt.xlabel(\"\") \n",
    "print(\"The total patients admitted or readmitted by year represented by a line graph.\") \n"
   ]
  },
  {
   "cell_type": "markdown",
   "metadata": {},
   "source": [
    "###### Total Patients Admitted by Month"
   ]
  },
  {
   "cell_type": "code",
   "execution_count": 128,
   "metadata": {},
   "outputs": [
    {
     "data": {
      "text/plain": [
       "Encounters_Start\n",
       "1     2217\n",
       "2     3028\n",
       "3     2688\n",
       "4     2312\n",
       "5     2374\n",
       "6     2181\n",
       "7     2182\n",
       "8     2129\n",
       "9     2113\n",
       "10    2087\n",
       "11    2333\n",
       "12    2247\n",
       "Name: Id, dtype: int64"
      ]
     },
     "execution_count": 128,
     "metadata": {},
     "output_type": "execute_result"
    }
   ],
   "source": [
    "month = encounters[\"Encounters_Start\"].dt.month\n",
    "patients_admitted_by_month = encounters.groupby(month)[\"Id\"].count()\n",
    "patients_admitted_by_month"
   ]
  },
  {
   "cell_type": "code",
   "execution_count": 376,
   "metadata": {},
   "outputs": [
    {
     "name": "stdout",
     "output_type": "stream",
     "text": [
      "The total patients admitted or readmitted by month represented by a line graph.\n"
     ]
    },
    {
     "data": {
      "image/png": "[encoded data removed]",
      "text/plain": [
       "<Figure size 640x480 with 1 Axes>"
      ]
     },
     "metadata": {},
     "output_type": "display_data"
    }
   ],
   "source": [
    "patients_admitted_by_month.plot(kind=\"line\", \n",
    "                                linestyle=\"--\",\n",
    "                                marker=\"*\",\n",
    "                                label=\"line with marker\") \n",
    "plt.title(\"PATIENTS ADMITTED BY MONTH\",\n",
    "          color=\"black\")\n",
    "plt.ylabel(\"Number of Patients\",\n",
    "           color=\"black\") \n",
    "plt.xlabel(\"\") \n",
    "plt.xticks([1,2,3,4,5,6,7,8,9,10,11,12], \n",
    "           [\"Jan\", \"Feb\", \"Mar\", \"Apr\", \"May\", \"Jun\", \"Jul\", \"Aug\", \"Sep\", \"Oct\", \"Nov\", \"Dec\"])\n",
    "print(f\"The total patients admitted or readmitted by month represented by a line graph.\")\n"
   ]
  },
  {
   "cell_type": "markdown",
   "metadata": {},
   "source": [
    "###### Total Patients Admitted by Day"
   ]
  },
  {
   "cell_type": "code",
   "execution_count": 100,
   "metadata": {},
   "outputs": [
    {
     "data": {
      "text/html": [
       "<div>\n",
       "<style scoped>\n",
       "    .dataframe tbody tr th:only-of-type {\n",
       "        vertical-align: middle;\n",
       "    }\n",
       "\n",
       "    .dataframe tbody tr th {\n",
       "        vertical-align: top;\n",
       "    }\n",
       "\n",
       "    .dataframe thead th {\n",
       "        text-align: right;\n",
       "    }\n",
       "</style>\n",
       "<table border=\"1\" class=\"dataframe\">\n",
       "  <thead>\n",
       "    <tr style=\"text-align: right;\">\n",
       "      <th></th>\n",
       "      <th>Encounters_Start</th>\n",
       "      <th>Id</th>\n",
       "    </tr>\n",
       "  </thead>\n",
       "  <tbody>\n",
       "    <tr>\n",
       "      <th>0</th>\n",
       "      <td>Monday</td>\n",
       "      <td>4405</td>\n",
       "    </tr>\n",
       "    <tr>\n",
       "      <th>1</th>\n",
       "      <td>Wednesday</td>\n",
       "      <td>4370</td>\n",
       "    </tr>\n",
       "    <tr>\n",
       "      <th>2</th>\n",
       "      <td>Friday</td>\n",
       "      <td>4059</td>\n",
       "    </tr>\n",
       "    <tr>\n",
       "      <th>3</th>\n",
       "      <td>Sunday</td>\n",
       "      <td>3973</td>\n",
       "    </tr>\n",
       "    <tr>\n",
       "      <th>4</th>\n",
       "      <td>Saturday</td>\n",
       "      <td>3963</td>\n",
       "    </tr>\n",
       "    <tr>\n",
       "      <th>5</th>\n",
       "      <td>Tuesday</td>\n",
       "      <td>3644</td>\n",
       "    </tr>\n",
       "    <tr>\n",
       "      <th>6</th>\n",
       "      <td>Thursday</td>\n",
       "      <td>3477</td>\n",
       "    </tr>\n",
       "  </tbody>\n",
       "</table>\n",
       "</div>"
      ],
      "text/plain": [
       "  Encounters_Start    Id\n",
       "0           Monday  4405\n",
       "1        Wednesday  4370\n",
       "2           Friday  4059\n",
       "3           Sunday  3973\n",
       "4         Saturday  3963\n",
       "5          Tuesday  3644\n",
       "6         Thursday  3477"
      ]
     },
     "execution_count": 100,
     "metadata": {},
     "output_type": "execute_result"
    }
   ],
   "source": [
    "day = encounters[\"Encounters_Start\"].dt.day_name()\n",
    "patients_admitted_by_day = encounters.groupby(day)[\"Id\"].count().sort_values(ascending=False).reset_index()\n",
    "patients_admitted_by_day"
   ]
  },
  {
   "cell_type": "code",
   "execution_count": 378,
   "metadata": {},
   "outputs": [
    {
     "name": "stdout",
     "output_type": "stream",
     "text": [
      "The total patients admitted or readmitted by day represented by a bar graph.\n"
     ]
    },
    {
     "data": {
      "image/png": "[encoded data removed]",
      "text/plain": [
       "<Figure size 640x480 with 1 Axes>"
      ]
     },
     "metadata": {},
     "output_type": "display_data"
    }
   ],
   "source": [
    "patients_admitted_by_day.sort_values(by=\"Id\", ascending=True).plot(kind=\"barh\")\n",
    "plt.title(\"PATIENTS ADMITTED BY DAY\",\n",
    "          color=\"black\")\n",
    "plt.legend(\"\") \n",
    "plt.ylabel(\"\") \n",
    "plt.yticks([6,5,4,3,2,1,0],\n",
    "           [\"Monday\", \"Wednesday\", \"Friday\", \"Sunday\", \"Saturday\", \"Tuesday\", \"Thursday\"])\n",
    "plt.xlabel(\"Number of Patients\",\n",
    "           color=\"black\") \n",
    "print(\"The total patients admitted or readmitted by day represented by a bar graph.\")"
   ]
  },
  {
   "cell_type": "markdown",
   "metadata": {},
   "source": [
    "###### Min Stay in Hospital in Minutes"
   ]
  },
  {
   "cell_type": "code",
   "execution_count": 87,
   "metadata": {},
   "outputs": [
    {
     "name": "stdout",
     "output_type": "stream",
     "text": [
      "The minimum patients stay in the hospital was 15 minutes.\n"
     ]
    }
   ],
   "source": [
    "min_hospital_stay_mins = (encounters[\"Encounters_Stop\"] - encounters[\"Encounters_Start\"]) / pd.Timedelta(minutes=1)\n",
    "min_hospital_stay_mins = min_hospital_stay_mins.min()\n",
    "min_hospital_stay_mins\n",
    "print(f\"The minimum patients stay in the hospital was {int(min_hospital_stay_mins)} minutes.\") "
   ]
  },
  {
   "cell_type": "markdown",
   "metadata": {},
   "source": [
    "###### Max Stay in Hospital in Hours"
   ]
  },
  {
   "cell_type": "code",
   "execution_count": 267,
   "metadata": {},
   "outputs": [
    {
     "name": "stdout",
     "output_type": "stream",
     "text": [
      "The maximum patients stay in the hospital was 44,930 hours, which is 5 years.\n"
     ]
    }
   ],
   "source": [
    "max_hospital_stay_hrs = (encounters.Encounters_Stop - encounters.Encounters_Start) / pd.Timedelta(hours=1)\n",
    "max_hospital_stay_hrs = max_hospital_stay_hrs.max()\n",
    "max_hospital_stay_hrs\n",
    "print(f\"The maximum patients stay in the hospital was {int(max_hospital_stay_hrs):,} hours, which is 5 years.\") "
   ]
  },
  {
   "cell_type": "markdown",
   "metadata": {},
   "source": [
    "###### Max Base Cost Per Visit"
   ]
  },
  {
   "cell_type": "code",
   "execution_count": 94,
   "metadata": {},
   "outputs": [
    {
     "name": "stdout",
     "output_type": "stream",
     "text": [
      "The maximum base cost per visit for patients is $146.18.\n"
     ]
    }
   ],
   "source": [
    "max_base_cost = encounters.BASE_ENCOUNTER_COST.max()\n",
    "max_base_cost\n",
    "print(f\"The maximum base cost per visit for patients is ${max_base_cost}.\") "
   ]
  },
  {
   "cell_type": "markdown",
   "metadata": {},
   "source": [
    "###### Min Base Cost Per Visit"
   ]
  },
  {
   "cell_type": "code",
   "execution_count": 95,
   "metadata": {},
   "outputs": [
    {
     "name": "stdout",
     "output_type": "stream",
     "text": [
      "The minimum base cost per visit for patients is $85.55.\n"
     ]
    }
   ],
   "source": [
    "min_base_cost = encounters.BASE_ENCOUNTER_COST.min()\n",
    "min_base_cost\n",
    "print(f\"The minimum base cost per visit for patients is ${min_base_cost}.\")"
   ]
  },
  {
   "cell_type": "markdown",
   "metadata": {},
   "source": [
    "###### Avg Base Cost Per Visit by Encounter Class"
   ]
  },
  {
   "cell_type": "code",
   "execution_count": 157,
   "metadata": {},
   "outputs": [
    {
     "data": {
      "text/html": [
       "<div>\n",
       "<style scoped>\n",
       "    .dataframe tbody tr th:only-of-type {\n",
       "        vertical-align: middle;\n",
       "    }\n",
       "\n",
       "    .dataframe tbody tr th {\n",
       "        vertical-align: top;\n",
       "    }\n",
       "\n",
       "    .dataframe thead th {\n",
       "        text-align: right;\n",
       "    }\n",
       "</style>\n",
       "<table border=\"1\" class=\"dataframe\">\n",
       "  <thead>\n",
       "    <tr style=\"text-align: right;\">\n",
       "      <th></th>\n",
       "      <th>BASE_ENCOUNTER_COST</th>\n",
       "    </tr>\n",
       "    <tr>\n",
       "      <th>ENCOUNTERCLASS</th>\n",
       "      <th></th>\n",
       "    </tr>\n",
       "  </thead>\n",
       "  <tbody>\n",
       "    <tr>\n",
       "      <th>emergency</th>\n",
       "      <td>145.25</td>\n",
       "    </tr>\n",
       "    <tr>\n",
       "      <th>urgentcare</th>\n",
       "      <td>142.58</td>\n",
       "    </tr>\n",
       "    <tr>\n",
       "      <th>wellness</th>\n",
       "      <td>136.80</td>\n",
       "    </tr>\n",
       "    <tr>\n",
       "      <th>inpatient</th>\n",
       "      <td>113.67</td>\n",
       "    </tr>\n",
       "    <tr>\n",
       "      <th>ambulatory</th>\n",
       "      <td>105.73</td>\n",
       "    </tr>\n",
       "    <tr>\n",
       "      <th>outpatient</th>\n",
       "      <td>105.04</td>\n",
       "    </tr>\n",
       "  </tbody>\n",
       "</table>\n",
       "</div>"
      ],
      "text/plain": [
       "                BASE_ENCOUNTER_COST\n",
       "ENCOUNTERCLASS                     \n",
       "emergency                    145.25\n",
       "urgentcare                   142.58\n",
       "wellness                     136.80\n",
       "inpatient                    113.67\n",
       "ambulatory                   105.73\n",
       "outpatient                   105.04"
      ]
     },
     "execution_count": 157,
     "metadata": {},
     "output_type": "execute_result"
    }
   ],
   "source": [
    "avg_base_cost_by_eclass = encounters.groupby(\"ENCOUNTERCLASS\")[\"BASE_ENCOUNTER_COST\"].mean().sort_values(ascending=False)\n",
    "avg_base_cost_by_eclass = avg_base_cost_by_eclass.reset_index().set_index(\"ENCOUNTERCLASS\") \n",
    "avg_base_cost_by_eclass = round(avg_base_cost_by_eclass, 2)\n",
    "avg_base_cost_by_eclass\n"
   ]
  },
  {
   "cell_type": "code",
   "execution_count": 379,
   "metadata": {},
   "outputs": [
    {
     "name": "stdout",
     "output_type": "stream",
     "text": [
      "The average base cost per visit by encounter class represented by a bar graph.\n"
     ]
    },
    {
     "data": {
      "image/png": "[encoded data removed]",
      "text/plain": [
       "<Figure size 640x480 with 1 Axes>"
      ]
     },
     "metadata": {},
     "output_type": "display_data"
    }
   ],
   "source": [
    "avg_base_cost_by_eclass.plot(kind=\"bar\",\n",
    "                             rot=0)\n",
    "plt.title(\"AVG BASE COST PER VISIT BY CLASS\",\n",
    "          color=\"black\")\n",
    "plt.legend(\"\") \n",
    "cost = list(range(0,160,20))\n",
    "plt.yticks(cost, [f\"${c}\" for c in cost],\n",
    "           color='green')\n",
    "plt.ylabel(\"Avg Cost\",\n",
    "           color=\"black\")\n",
    "plt.xlabel(\"Class\",\n",
    "           color=\"black\")\n",
    "print(f\"The average base cost per visit by encounter class represented by a bar graph.\") "
   ]
  },
  {
   "cell_type": "markdown",
   "metadata": {},
   "source": [
    "###### Avg Base Cost Per Visit by Gender"
   ]
  },
  {
   "cell_type": "code",
   "execution_count": 187,
   "metadata": {},
   "outputs": [
    {
     "data": {
      "text/html": [
       "<div>\n",
       "<style scoped>\n",
       "    .dataframe tbody tr th:only-of-type {\n",
       "        vertical-align: middle;\n",
       "    }\n",
       "\n",
       "    .dataframe tbody tr th {\n",
       "        vertical-align: top;\n",
       "    }\n",
       "\n",
       "    .dataframe thead th {\n",
       "        text-align: right;\n",
       "    }\n",
       "</style>\n",
       "<table border=\"1\" class=\"dataframe\">\n",
       "  <thead>\n",
       "    <tr style=\"text-align: right;\">\n",
       "      <th></th>\n",
       "      <th>BASE_ENCOUNTER_COST</th>\n",
       "    </tr>\n",
       "    <tr>\n",
       "      <th>GENDER</th>\n",
       "      <th></th>\n",
       "    </tr>\n",
       "  </thead>\n",
       "  <tbody>\n",
       "    <tr>\n",
       "      <th>M</th>\n",
       "      <td>117.21</td>\n",
       "    </tr>\n",
       "    <tr>\n",
       "      <th>F</th>\n",
       "      <td>115.29</td>\n",
       "    </tr>\n",
       "  </tbody>\n",
       "</table>\n",
       "</div>"
      ],
      "text/plain": [
       "        BASE_ENCOUNTER_COST\n",
       "GENDER                     \n",
       "M                    117.21\n",
       "F                    115.29"
      ]
     },
     "execution_count": 187,
     "metadata": {},
     "output_type": "execute_result"
    }
   ],
   "source": [
    "encounters[\"Key\"] = encounters[\"PATIENT\"]\n",
    "patients[\"Key\"] = patients[\"Id\"]\n",
    "encounters_patients = pd.merge(encounters, patients, how=\"inner\", on=\"Key\")\n",
    "encounters_patients.head()\n",
    "avg_base_cost_by_gender = encounters_patients.groupby(\"GENDER\")[\"BASE_ENCOUNTER_COST\"].mean().sort_values(ascending=False)\n",
    "avg_base_cost_by_gender = round(avg_base_cost_by_gender, 2).reset_index().set_index(\"GENDER\")\n",
    "avg_base_cost_by_gender\n"
   ]
  },
  {
   "cell_type": "code",
   "execution_count": 230,
   "metadata": {},
   "outputs": [
    {
     "name": "stdout",
     "output_type": "stream",
     "text": [
      "The pecentages of the avgerage base cost per visit by gender represented by this pie chart.\n"
     ]
    },
    {
     "data": {
      "image/png": "[encoded data removed]",
      "text/plain": [
       "<Figure size 640x480 with 1 Axes>"
      ]
     },
     "metadata": {},
     "output_type": "display_data"
    }
   ],
   "source": [
    "e = (0.05, 0)\n",
    "avg_base_cost_by_gender[\"BASE_ENCOUNTER_COST\"].plot(kind=\"pie\",\n",
    "                                                    autopct=\"%1.1f%%\",\n",
    "                                                    shadow=True,\n",
    "                                                    explode=e,\n",
    "                                                    pctdistance=.5)\n",
    "plt.title(\"\"\"PERCENTAGE OF \n",
    "          AVG BASE COST PER VISIT BY GENDER\"\"\",\n",
    "          color=\"black\")\n",
    "plt.ylabel(\"\")\n",
    "print(f\"The pecentages of the avgerage base cost per visit by gender represented by this pie chart.\") \n"
   ]
  },
  {
   "cell_type": "markdown",
   "metadata": {},
   "source": [
    "###### Avg Base Cost Per Visit by Race"
   ]
  },
  {
   "cell_type": "code",
   "execution_count": 151,
   "metadata": {},
   "outputs": [
    {
     "data": {
      "text/html": [
       "<div>\n",
       "<style scoped>\n",
       "    .dataframe tbody tr th:only-of-type {\n",
       "        vertical-align: middle;\n",
       "    }\n",
       "\n",
       "    .dataframe tbody tr th {\n",
       "        vertical-align: top;\n",
       "    }\n",
       "\n",
       "    .dataframe thead th {\n",
       "        text-align: right;\n",
       "    }\n",
       "</style>\n",
       "<table border=\"1\" class=\"dataframe\">\n",
       "  <thead>\n",
       "    <tr style=\"text-align: right;\">\n",
       "      <th></th>\n",
       "      <th>BASE_ENCOUNTER_COST</th>\n",
       "    </tr>\n",
       "    <tr>\n",
       "      <th>RACE</th>\n",
       "      <th></th>\n",
       "    </tr>\n",
       "  </thead>\n",
       "  <tbody>\n",
       "    <tr>\n",
       "      <th>native</th>\n",
       "      <td>123.92</td>\n",
       "    </tr>\n",
       "    <tr>\n",
       "      <th>hawaiian</th>\n",
       "      <td>123.69</td>\n",
       "    </tr>\n",
       "    <tr>\n",
       "      <th>asian</th>\n",
       "      <td>121.53</td>\n",
       "    </tr>\n",
       "    <tr>\n",
       "      <th>black</th>\n",
       "      <td>121.16</td>\n",
       "    </tr>\n",
       "    <tr>\n",
       "      <th>other</th>\n",
       "      <td>120.93</td>\n",
       "    </tr>\n",
       "    <tr>\n",
       "      <th>white</th>\n",
       "      <td>113.81</td>\n",
       "    </tr>\n",
       "  </tbody>\n",
       "</table>\n",
       "</div>"
      ],
      "text/plain": [
       "          BASE_ENCOUNTER_COST\n",
       "RACE                         \n",
       "native                 123.92\n",
       "hawaiian               123.69\n",
       "asian                  121.53\n",
       "black                  121.16\n",
       "other                  120.93\n",
       "white                  113.81"
      ]
     },
     "execution_count": 151,
     "metadata": {},
     "output_type": "execute_result"
    }
   ],
   "source": [
    "avg_base_cost_by_race = encounters_patients.groupby(\"RACE\")[\"BASE_ENCOUNTER_COST\"].mean().sort_values(ascending=False)\n",
    "avg_base_cost_by_race = round(avg_base_cost_by_race, 2).reset_index().set_index(\"RACE\")\n",
    "avg_base_cost_by_race\n"
   ]
  },
  {
   "cell_type": "code",
   "execution_count": 229,
   "metadata": {},
   "outputs": [
    {
     "name": "stdout",
     "output_type": "stream",
     "text": [
      "The percentages of the average base cost per visit by gender is represented by this pie chart.\n"
     ]
    },
    {
     "data": {
      "image/png": "[encoded data removed]",
      "text/plain": [
       "<Figure size 640x480 with 1 Axes>"
      ]
     },
     "metadata": {},
     "output_type": "display_data"
    }
   ],
   "source": [
    "e = (0.08, 0, 0, 0, 0, 0)\n",
    "avg_base_cost_by_race[\"BASE_ENCOUNTER_COST\"].plot(kind=\"pie\",\n",
    "                                                  autopct=\"%.2f%%\",\n",
    "                                                  explode=e,\n",
    "                                                  shadow=True,\n",
    "                                                  pctdistance=.5)\n",
    "plt.title(\"\"\"PERCENTAGE OF \n",
    "          AVG BASE COST PER VISIT BY GENDER\"\"\",\n",
    "          color=\"black\")\n",
    "plt.ylabel(\"\")\n",
    "print(f\"The percentages of the average base cost per visit by gender is represented by this pie chart.\")"
   ]
  },
  {
   "cell_type": "markdown",
   "metadata": {},
   "source": [
    "###### Avg Base Cost Per Visit by Marital Status"
   ]
  },
  {
   "cell_type": "code",
   "execution_count": 232,
   "metadata": {},
   "outputs": [
    {
     "data": {
      "text/html": [
       "<div>\n",
       "<style scoped>\n",
       "    .dataframe tbody tr th:only-of-type {\n",
       "        vertical-align: middle;\n",
       "    }\n",
       "\n",
       "    .dataframe tbody tr th {\n",
       "        vertical-align: top;\n",
       "    }\n",
       "\n",
       "    .dataframe thead th {\n",
       "        text-align: right;\n",
       "    }\n",
       "</style>\n",
       "<table border=\"1\" class=\"dataframe\">\n",
       "  <thead>\n",
       "    <tr style=\"text-align: right;\">\n",
       "      <th></th>\n",
       "      <th>BASE_ENCOUNTER_COST</th>\n",
       "    </tr>\n",
       "    <tr>\n",
       "      <th>MARITAL</th>\n",
       "      <th></th>\n",
       "    </tr>\n",
       "  </thead>\n",
       "  <tbody>\n",
       "    <tr>\n",
       "      <th>M</th>\n",
       "      <td>116.44</td>\n",
       "    </tr>\n",
       "    <tr>\n",
       "      <th>S</th>\n",
       "      <td>114.77</td>\n",
       "    </tr>\n",
       "  </tbody>\n",
       "</table>\n",
       "</div>"
      ],
      "text/plain": [
       "         BASE_ENCOUNTER_COST\n",
       "MARITAL                     \n",
       "M                     116.44\n",
       "S                     114.77"
      ]
     },
     "execution_count": 232,
     "metadata": {},
     "output_type": "execute_result"
    }
   ],
   "source": [
    "avg_base_cost_by_marital = encounters_patients.groupby(\"MARITAL\")[\"BASE_ENCOUNTER_COST\"].mean()\n",
    "avg_base_cost_by_marital = round(avg_base_cost_by_marital, 2).reset_index().set_index(\"MARITAL\") \n",
    "avg_base_cost_by_marital"
   ]
  },
  {
   "cell_type": "code",
   "execution_count": 381,
   "metadata": {},
   "outputs": [
    {
     "name": "stdout",
     "output_type": "stream",
     "text": [
      "The average base cost per visit by marital status is represented in the bar graph.\n"
     ]
    },
    {
     "data": {
      "image/png": "[encoded data removed]",
      "text/plain": [
       "<Figure size 640x480 with 1 Axes>"
      ]
     },
     "metadata": {},
     "output_type": "display_data"
    }
   ],
   "source": [
    "avg_base_cost_by_marital.plot(kind=\"bar\",\n",
    "                              rot=0)\n",
    "plt.title(\"AVG BASE COST PER VISIT BY MARITAL STATUS\",\n",
    "          color=\"black\")\n",
    "plt.legend(\"\") \n",
    "cost = list(range(0,140,20))\n",
    "plt.yticks(cost, [f\"${c}\" for c in cost],\n",
    "           color=\"green\") \n",
    "plt.ylabel(\"Avg Base Cost\") \n",
    "plt.xlabel(\"Marital Status\") \n",
    "print(f\"The average base cost per visit by marital status is represented in the bar graph.\") "
   ]
  },
  {
   "cell_type": "markdown",
   "metadata": {},
   "source": [
    "###### Avg Base Cost Per Visit by City"
   ]
  },
  {
   "cell_type": "code",
   "execution_count": 250,
   "metadata": {},
   "outputs": [
    {
     "data": {
      "text/html": [
       "<div>\n",
       "<style scoped>\n",
       "    .dataframe tbody tr th:only-of-type {\n",
       "        vertical-align: middle;\n",
       "    }\n",
       "\n",
       "    .dataframe tbody tr th {\n",
       "        vertical-align: top;\n",
       "    }\n",
       "\n",
       "    .dataframe thead th {\n",
       "        text-align: right;\n",
       "    }\n",
       "</style>\n",
       "<table border=\"1\" class=\"dataframe\">\n",
       "  <thead>\n",
       "    <tr style=\"text-align: right;\">\n",
       "      <th></th>\n",
       "      <th>BASE_ENCOUNTER_COST</th>\n",
       "    </tr>\n",
       "    <tr>\n",
       "      <th>CITY</th>\n",
       "      <th></th>\n",
       "    </tr>\n",
       "  </thead>\n",
       "  <tbody>\n",
       "    <tr>\n",
       "      <th>Milton</th>\n",
       "      <td>143.78</td>\n",
       "    </tr>\n",
       "    <tr>\n",
       "      <th>Newton</th>\n",
       "      <td>142.58</td>\n",
       "    </tr>\n",
       "    <tr>\n",
       "      <th>Watertown</th>\n",
       "      <td>142.58</td>\n",
       "    </tr>\n",
       "    <tr>\n",
       "      <th>Waltham</th>\n",
       "      <td>142.58</td>\n",
       "    </tr>\n",
       "    <tr>\n",
       "      <th>Belmont</th>\n",
       "      <td>142.58</td>\n",
       "    </tr>\n",
       "    <tr>\n",
       "      <th>Norwell</th>\n",
       "      <td>135.68</td>\n",
       "    </tr>\n",
       "    <tr>\n",
       "      <th>Brookline</th>\n",
       "      <td>130.93</td>\n",
       "    </tr>\n",
       "    <tr>\n",
       "      <th>Cohasset</th>\n",
       "      <td>130.26</td>\n",
       "    </tr>\n",
       "    <tr>\n",
       "      <th>Cambridge</th>\n",
       "      <td>129.89</td>\n",
       "    </tr>\n",
       "    <tr>\n",
       "      <th>Everett</th>\n",
       "      <td>128.01</td>\n",
       "    </tr>\n",
       "    <tr>\n",
       "      <th>Lynnfield</th>\n",
       "      <td>127.74</td>\n",
       "    </tr>\n",
       "    <tr>\n",
       "      <th>Malden</th>\n",
       "      <td>123.80</td>\n",
       "    </tr>\n",
       "    <tr>\n",
       "      <th>Chelsea</th>\n",
       "      <td>122.83</td>\n",
       "    </tr>\n",
       "    <tr>\n",
       "      <th>Hingham</th>\n",
       "      <td>121.35</td>\n",
       "    </tr>\n",
       "    <tr>\n",
       "      <th>Somerville</th>\n",
       "      <td>120.08</td>\n",
       "    </tr>\n",
       "    <tr>\n",
       "      <th>Medford</th>\n",
       "      <td>117.89</td>\n",
       "    </tr>\n",
       "    <tr>\n",
       "      <th>Boston</th>\n",
       "      <td>117.69</td>\n",
       "    </tr>\n",
       "    <tr>\n",
       "      <th>Winthrop</th>\n",
       "      <td>117.19</td>\n",
       "    </tr>\n",
       "    <tr>\n",
       "      <th>Quincy</th>\n",
       "      <td>114.32</td>\n",
       "    </tr>\n",
       "    <tr>\n",
       "      <th>Braintree</th>\n",
       "      <td>113.23</td>\n",
       "    </tr>\n",
       "    <tr>\n",
       "      <th>Winchester</th>\n",
       "      <td>110.65</td>\n",
       "    </tr>\n",
       "    <tr>\n",
       "      <th>Revere</th>\n",
       "      <td>108.43</td>\n",
       "    </tr>\n",
       "    <tr>\n",
       "      <th>Weymouth</th>\n",
       "      <td>107.96</td>\n",
       "    </tr>\n",
       "    <tr>\n",
       "      <th>Stoneham</th>\n",
       "      <td>106.13</td>\n",
       "    </tr>\n",
       "    <tr>\n",
       "      <th>Reading</th>\n",
       "      <td>104.90</td>\n",
       "    </tr>\n",
       "    <tr>\n",
       "      <th>Scituate</th>\n",
       "      <td>102.25</td>\n",
       "    </tr>\n",
       "    <tr>\n",
       "      <th>North Scituate</th>\n",
       "      <td>100.82</td>\n",
       "    </tr>\n",
       "    <tr>\n",
       "      <th>Melrose</th>\n",
       "      <td>96.66</td>\n",
       "    </tr>\n",
       "    <tr>\n",
       "      <th>Hull</th>\n",
       "      <td>90.19</td>\n",
       "    </tr>\n",
       "  </tbody>\n",
       "</table>\n",
       "</div>"
      ],
      "text/plain": [
       "                BASE_ENCOUNTER_COST\n",
       "CITY                               \n",
       "Milton                       143.78\n",
       "Newton                       142.58\n",
       "Watertown                    142.58\n",
       "Waltham                      142.58\n",
       "Belmont                      142.58\n",
       "Norwell                      135.68\n",
       "Brookline                    130.93\n",
       "Cohasset                     130.26\n",
       "Cambridge                    129.89\n",
       "Everett                      128.01\n",
       "Lynnfield                    127.74\n",
       "Malden                       123.80\n",
       "Chelsea                      122.83\n",
       "Hingham                      121.35\n",
       "Somerville                   120.08\n",
       "Medford                      117.89\n",
       "Boston                       117.69\n",
       "Winthrop                     117.19\n",
       "Quincy                       114.32\n",
       "Braintree                    113.23\n",
       "Winchester                   110.65\n",
       "Revere                       108.43\n",
       "Weymouth                     107.96\n",
       "Stoneham                     106.13\n",
       "Reading                      104.90\n",
       "Scituate                     102.25\n",
       "North Scituate               100.82\n",
       "Melrose                       96.66\n",
       "Hull                          90.19"
      ]
     },
     "execution_count": 250,
     "metadata": {},
     "output_type": "execute_result"
    }
   ],
   "source": [
    "avg_base_cost_by_city = encounters_patients.groupby(\"CITY\")[\"BASE_ENCOUNTER_COST\"].mean()\n",
    "avg_base_cost_by_city = round(avg_base_cost_by_city, 2).sort_values(ascending=False).reset_index().set_index(\"CITY\") \n",
    "avg_base_cost_by_city"
   ]
  },
  {
   "cell_type": "code",
   "execution_count": 382,
   "metadata": {},
   "outputs": [
    {
     "name": "stdout",
     "output_type": "stream",
     "text": [
      "The average base cost per visit by city is represented in a bar graph.\n"
     ]
    },
    {
     "data": {
      "image/png": "[encoded data removed]",
      "text/plain": [
       "<Figure size 640x480 with 1 Axes>"
      ]
     },
     "metadata": {},
     "output_type": "display_data"
    }
   ],
   "source": [
    "avg_base_cost_by_city.sort_values(by=\"BASE_ENCOUNTER_COST\", ascending=True).plot(kind=\"barh\") \n",
    "plt.title(\"AVG BASE COST PER VISIT BY CITY\",\n",
    "          color=\"black\") \n",
    "plt.legend(\"\") \n",
    "plt.ylabel(\"\") \n",
    "cost = list(range(0,160,20))\n",
    "plt.xticks(cost, [f\"${c}\" for c in cost],\n",
    "           color=\"green\") \n",
    "plt.xlabel(\"Avg Base Cost\",\n",
    "           color=\"black\") \n",
    "print(f\"The average base cost per visit by city is represented in a bar graph.\")                 \n"
   ]
  },
  {
   "cell_type": "markdown",
   "metadata": {},
   "source": [
    "###### Max Total Claim Cost Per Visit"
   ]
  },
  {
   "cell_type": "code",
   "execution_count": 260,
   "metadata": {},
   "outputs": [
    {
     "name": "stdout",
     "output_type": "stream",
     "text": [
      "The maximum total claim cost per visit for patients is $641,882.7.\n"
     ]
    }
   ],
   "source": [
    "max_total_claim_cost = encounters[\"TOTAL_CLAIM_COST\"].max()\n",
    "max_total_claim_cost \n",
    "print(f\"The maximum total claim cost per visit for patients is ${max_total_claim_cost:,}.\") "
   ]
  },
  {
   "cell_type": "markdown",
   "metadata": {},
   "source": [
    "###### Min Total Claim Cost Per Visit"
   ]
  },
  {
   "cell_type": "code",
   "execution_count": 269,
   "metadata": {},
   "outputs": [
    {
     "name": "stdout",
     "output_type": "stream",
     "text": [
      "The minimum total claim cost per visit for patients is $0.0.\n"
     ]
    }
   ],
   "source": [
    "min_total_claim_cost = encounters[\"TOTAL_CLAIM_COST\"].min()\n",
    "print(f\"The minimum total claim cost per visit for patients is ${min_total_claim_cost}.\") "
   ]
  },
  {
   "cell_type": "markdown",
   "metadata": {},
   "source": [
    "###### Avg Total Claim Cost Per Visit by Encounter Class"
   ]
  },
  {
   "cell_type": "code",
   "execution_count": 272,
   "metadata": {},
   "outputs": [
    {
     "data": {
      "text/html": [
       "<div>\n",
       "<style scoped>\n",
       "    .dataframe tbody tr th:only-of-type {\n",
       "        vertical-align: middle;\n",
       "    }\n",
       "\n",
       "    .dataframe tbody tr th {\n",
       "        vertical-align: top;\n",
       "    }\n",
       "\n",
       "    .dataframe thead th {\n",
       "        text-align: right;\n",
       "    }\n",
       "</style>\n",
       "<table border=\"1\" class=\"dataframe\">\n",
       "  <thead>\n",
       "    <tr style=\"text-align: right;\">\n",
       "      <th></th>\n",
       "      <th>TOTAL_CLAIM_COST</th>\n",
       "    </tr>\n",
       "    <tr>\n",
       "      <th>ENCOUNTERCLASS</th>\n",
       "      <th></th>\n",
       "    </tr>\n",
       "  </thead>\n",
       "  <tbody>\n",
       "    <tr>\n",
       "      <th>inpatient</th>\n",
       "      <td>7761.35</td>\n",
       "    </tr>\n",
       "    <tr>\n",
       "      <th>urgentcare</th>\n",
       "      <td>6369.16</td>\n",
       "    </tr>\n",
       "    <tr>\n",
       "      <th>emergency</th>\n",
       "      <td>4629.65</td>\n",
       "    </tr>\n",
       "    <tr>\n",
       "      <th>wellness</th>\n",
       "      <td>4260.71</td>\n",
       "    </tr>\n",
       "    <tr>\n",
       "      <th>ambulatory</th>\n",
       "      <td>2894.11</td>\n",
       "    </tr>\n",
       "    <tr>\n",
       "      <th>outpatient</th>\n",
       "      <td>2237.30</td>\n",
       "    </tr>\n",
       "  </tbody>\n",
       "</table>\n",
       "</div>"
      ],
      "text/plain": [
       "                TOTAL_CLAIM_COST\n",
       "ENCOUNTERCLASS                  \n",
       "inpatient                7761.35\n",
       "urgentcare               6369.16\n",
       "emergency                4629.65\n",
       "wellness                 4260.71\n",
       "ambulatory               2894.11\n",
       "outpatient               2237.30"
      ]
     },
     "execution_count": 272,
     "metadata": {},
     "output_type": "execute_result"
    }
   ],
   "source": [
    "avg_total_claim_cost_by_class = encounters.groupby(\"ENCOUNTERCLASS\")[\"TOTAL_CLAIM_COST\"].mean()\n",
    "avg_total_claim_cost_by_class = round(avg_total_claim_cost_by_class, 2).sort_values(ascending=False).reset_index().set_index(\"ENCOUNTERCLASS\")\n",
    "avg_total_claim_cost_by_class "
   ]
  },
  {
   "cell_type": "code",
   "execution_count": 383,
   "metadata": {},
   "outputs": [
    {
     "name": "stdout",
     "output_type": "stream",
     "text": [
      "The average total claim cost per hospital visit by encounter class represented in a bar graph.\n"
     ]
    },
    {
     "data": {
      "image/png": "[encoded data removed]",
      "text/plain": [
       "<Figure size 640x480 with 1 Axes>"
      ]
     },
     "metadata": {},
     "output_type": "display_data"
    }
   ],
   "source": [
    "avg_total_claim_cost_by_class.sort_values(by=\"TOTAL_CLAIM_COST\", ascending=True).plot(kind=\"barh\") \n",
    "plt.title(\"AVG TOTAL CLAIM COST PER VISIT BY CLASS\",\n",
    "          color=\"black\") \n",
    "plt.legend(\"\") \n",
    "plt.ylabel(\"Class\") \n",
    "cost = list(range(0,9000,1000))\n",
    "plt.xticks(cost, [f\"${c}\" for c in cost],\n",
    "           color=\"green\") \n",
    "plt.xlabel(\"Total Cost\") \n",
    "print(f\"The average total claim cost per hospital visit by encounter class represented in a bar graph.\")"
   ]
  },
  {
   "cell_type": "markdown",
   "metadata": {},
   "source": [
    "###### Avg Total Claim Cost Per Visit by Gender"
   ]
  },
  {
   "cell_type": "code",
   "execution_count": 289,
   "metadata": {},
   "outputs": [
    {
     "data": {
      "text/html": [
       "<div>\n",
       "<style scoped>\n",
       "    .dataframe tbody tr th:only-of-type {\n",
       "        vertical-align: middle;\n",
       "    }\n",
       "\n",
       "    .dataframe tbody tr th {\n",
       "        vertical-align: top;\n",
       "    }\n",
       "\n",
       "    .dataframe thead th {\n",
       "        text-align: right;\n",
       "    }\n",
       "</style>\n",
       "<table border=\"1\" class=\"dataframe\">\n",
       "  <thead>\n",
       "    <tr style=\"text-align: right;\">\n",
       "      <th></th>\n",
       "      <th>TOTAL_CLAIM_COST</th>\n",
       "    </tr>\n",
       "    <tr>\n",
       "      <th>GENDER</th>\n",
       "      <th></th>\n",
       "    </tr>\n",
       "  </thead>\n",
       "  <tbody>\n",
       "    <tr>\n",
       "      <th>F</th>\n",
       "      <td>3252.47</td>\n",
       "    </tr>\n",
       "    <tr>\n",
       "      <th>M</th>\n",
       "      <td>4085.33</td>\n",
       "    </tr>\n",
       "  </tbody>\n",
       "</table>\n",
       "</div>"
      ],
      "text/plain": [
       "        TOTAL_CLAIM_COST\n",
       "GENDER                  \n",
       "F                3252.47\n",
       "M                4085.33"
      ]
     },
     "execution_count": 289,
     "metadata": {},
     "output_type": "execute_result"
    }
   ],
   "source": [
    "avg_total_claim_cost_by_gender = encounters_patients.groupby(\"GENDER\")[\"TOTAL_CLAIM_COST\"].mean()\n",
    "avg_total_claim_cost_by_gender = round(avg_total_claim_cost_by_gender, 2).reset_index().set_index(\"GENDER\") \n",
    "avg_total_claim_cost_by_gender"
   ]
  },
  {
   "cell_type": "code",
   "execution_count": 298,
   "metadata": {},
   "outputs": [
    {
     "name": "stdout",
     "output_type": "stream",
     "text": [
      "The percentages of the average total claim cost per visit by gender is represented by this pie chart.\n"
     ]
    },
    {
     "data": {
      "image/png": "[encoded data removed]",
      "text/plain": [
       "<Figure size 640x480 with 1 Axes>"
      ]
     },
     "metadata": {},
     "output_type": "display_data"
    }
   ],
   "source": [
    "e = (0.06, 0)\n",
    "avg_total_claim_cost_by_gender[\"TOTAL_CLAIM_COST\"].plot(kind=\"pie\",\n",
    "                                                        autopct=\"%1.1f%%\",\n",
    "                                                        shadow=True,\n",
    "                                                        explode=e) \n",
    "plt.title(\"\"\"PERCENTAGE OF TOTAL CLAIM COST\n",
    "          PER VISIT BY GENDER\"\"\",\n",
    "          color=\"black\") \n",
    "plt.ylabel(\"\") \n",
    "print(f\"The percentages of the average total claim cost per visit by gender is represented by this pie chart.\") "
   ]
  },
  {
   "cell_type": "markdown",
   "metadata": {},
   "source": [
    "###### Avg Total Claim Cost Per Visit by Race"
   ]
  },
  {
   "cell_type": "code",
   "execution_count": 302,
   "metadata": {},
   "outputs": [
    {
     "data": {
      "text/html": [
       "<div>\n",
       "<style scoped>\n",
       "    .dataframe tbody tr th:only-of-type {\n",
       "        vertical-align: middle;\n",
       "    }\n",
       "\n",
       "    .dataframe tbody tr th {\n",
       "        vertical-align: top;\n",
       "    }\n",
       "\n",
       "    .dataframe thead th {\n",
       "        text-align: right;\n",
       "    }\n",
       "</style>\n",
       "<table border=\"1\" class=\"dataframe\">\n",
       "  <thead>\n",
       "    <tr style=\"text-align: right;\">\n",
       "      <th></th>\n",
       "      <th>TOTAL_CLAIM_COST</th>\n",
       "    </tr>\n",
       "    <tr>\n",
       "      <th>RACE</th>\n",
       "      <th></th>\n",
       "    </tr>\n",
       "  </thead>\n",
       "  <tbody>\n",
       "    <tr>\n",
       "      <th>native</th>\n",
       "      <td>7827.50</td>\n",
       "    </tr>\n",
       "    <tr>\n",
       "      <th>black</th>\n",
       "      <td>5193.19</td>\n",
       "    </tr>\n",
       "    <tr>\n",
       "      <th>hawaiian</th>\n",
       "      <td>4151.51</td>\n",
       "    </tr>\n",
       "    <tr>\n",
       "      <th>other</th>\n",
       "      <td>3600.21</td>\n",
       "    </tr>\n",
       "    <tr>\n",
       "      <th>white</th>\n",
       "      <td>3230.67</td>\n",
       "    </tr>\n",
       "    <tr>\n",
       "      <th>asian</th>\n",
       "      <td>2584.95</td>\n",
       "    </tr>\n",
       "  </tbody>\n",
       "</table>\n",
       "</div>"
      ],
      "text/plain": [
       "          TOTAL_CLAIM_COST\n",
       "RACE                      \n",
       "native             7827.50\n",
       "black              5193.19\n",
       "hawaiian           4151.51\n",
       "other              3600.21\n",
       "white              3230.67\n",
       "asian              2584.95"
      ]
     },
     "execution_count": 302,
     "metadata": {},
     "output_type": "execute_result"
    }
   ],
   "source": [
    "avg_total_claim_cost_by_race = encounters_patients.groupby(\"RACE\")[\"TOTAL_CLAIM_COST\"].mean()\n",
    "avg_total_claim_cost_by_race = round(avg_total_claim_cost_by_race, 2).sort_values(ascending=False).reset_index().set_index(\"RACE\") \n",
    "avg_total_claim_cost_by_race"
   ]
  },
  {
   "cell_type": "code",
   "execution_count": 305,
   "metadata": {},
   "outputs": [
    {
     "name": "stdout",
     "output_type": "stream",
     "text": [
      "The percentages of the total claim cost per visit by race is represented in this pie chart.\n"
     ]
    },
    {
     "data": {
      "image/png": "[encoded data removed]",
      "text/plain": [
       "<Figure size 640x480 with 1 Axes>"
      ]
     },
     "metadata": {},
     "output_type": "display_data"
    }
   ],
   "source": [
    "e = (0.06, 0, 0, 0, 0, 0)\n",
    "avg_total_claim_cost_by_race[\"TOTAL_CLAIM_COST\"].plot(kind=\"pie\",\n",
    "                                                      shadow=True,\n",
    "                                                      explode=e,\n",
    "                                                      autopct=\"%1.1f%%\")\n",
    "plt.title(\"\"\"PERCENTAGE OF TOTAL CLAIM COST \n",
    "          PER VISIT BY RACE\"\"\",\n",
    "          color=\"black\")\n",
    "plt.ylabel(\"\") \n",
    "print(f\"The percentages of the total claim cost per visit by race is represented in this pie chart.\") "
   ]
  },
  {
   "cell_type": "markdown",
   "metadata": {},
   "source": [
    "###### Avg Total Claim Cost Per Visit by Marital Status"
   ]
  },
  {
   "cell_type": "code",
   "execution_count": 307,
   "metadata": {},
   "outputs": [
    {
     "data": {
      "text/html": [
       "<div>\n",
       "<style scoped>\n",
       "    .dataframe tbody tr th:only-of-type {\n",
       "        vertical-align: middle;\n",
       "    }\n",
       "\n",
       "    .dataframe tbody tr th {\n",
       "        vertical-align: top;\n",
       "    }\n",
       "\n",
       "    .dataframe thead th {\n",
       "        text-align: right;\n",
       "    }\n",
       "</style>\n",
       "<table border=\"1\" class=\"dataframe\">\n",
       "  <thead>\n",
       "    <tr style=\"text-align: right;\">\n",
       "      <th></th>\n",
       "      <th>TOTAL_CLAIM_COST</th>\n",
       "    </tr>\n",
       "    <tr>\n",
       "      <th>MARITAL</th>\n",
       "      <th></th>\n",
       "    </tr>\n",
       "  </thead>\n",
       "  <tbody>\n",
       "    <tr>\n",
       "      <th>M</th>\n",
       "      <td>3760.56</td>\n",
       "    </tr>\n",
       "    <tr>\n",
       "      <th>S</th>\n",
       "      <td>2972.97</td>\n",
       "    </tr>\n",
       "  </tbody>\n",
       "</table>\n",
       "</div>"
      ],
      "text/plain": [
       "         TOTAL_CLAIM_COST\n",
       "MARITAL                  \n",
       "M                 3760.56\n",
       "S                 2972.97"
      ]
     },
     "execution_count": 307,
     "metadata": {},
     "output_type": "execute_result"
    }
   ],
   "source": [
    "avg_total_claim_cost_by_marital = encounters_patients.groupby(\"MARITAL\")[\"TOTAL_CLAIM_COST\"].mean()\n",
    "avg_total_claim_cost_by_marital = round(avg_total_claim_cost_by_marital, 2).reset_index().set_index(\"MARITAL\") \n",
    "avg_total_claim_cost_by_marital"
   ]
  },
  {
   "cell_type": "code",
   "execution_count": 385,
   "metadata": {},
   "outputs": [
    {
     "name": "stdout",
     "output_type": "stream",
     "text": [
      "The average total claim cost per visit by marital status is represented in the bar graph.\n"
     ]
    },
    {
     "data": {
      "image/png": "[encoded data removed]",
      "text/plain": [
       "<Figure size 640x480 with 1 Axes>"
      ]
     },
     "metadata": {},
     "output_type": "display_data"
    }
   ],
   "source": [
    "avg_total_claim_cost_by_marital.sort_values(by=\"TOTAL_CLAIM_COST\", ascending=True).plot(kind=\"barh\") \n",
    "plt.title(\"AVG TOTAL CLAIM COST PER VISIT BY MARITAL STATUS\",\n",
    "          color=\"black\")\n",
    "plt.legend(\"\") \n",
    "plt.ylabel(\"Marital Status\") \n",
    "cost = list(range(0,3600,500))\n",
    "plt.xticks(cost, [f\"${c}\" for c in cost],\n",
    "                  color=\"green\") \n",
    "print(f\"The average total claim cost per visit by marital status is represented in the bar graph.\") "
   ]
  },
  {
   "cell_type": "markdown",
   "metadata": {},
   "source": [
    "###### Avg Total Claim Cost Per Visit by City"
   ]
  },
  {
   "cell_type": "code",
   "execution_count": 326,
   "metadata": {},
   "outputs": [
    {
     "data": {
      "text/html": [
       "<div>\n",
       "<style scoped>\n",
       "    .dataframe tbody tr th:only-of-type {\n",
       "        vertical-align: middle;\n",
       "    }\n",
       "\n",
       "    .dataframe tbody tr th {\n",
       "        vertical-align: top;\n",
       "    }\n",
       "\n",
       "    .dataframe thead th {\n",
       "        text-align: right;\n",
       "    }\n",
       "</style>\n",
       "<table border=\"1\" class=\"dataframe\">\n",
       "  <thead>\n",
       "    <tr style=\"text-align: right;\">\n",
       "      <th></th>\n",
       "      <th>TOTAL_CLAIM_COST</th>\n",
       "    </tr>\n",
       "    <tr>\n",
       "      <th>CITY</th>\n",
       "      <th></th>\n",
       "    </tr>\n",
       "  </thead>\n",
       "  <tbody>\n",
       "    <tr>\n",
       "      <th>Melrose</th>\n",
       "      <td>16409.28</td>\n",
       "    </tr>\n",
       "    <tr>\n",
       "      <th>Norwell</th>\n",
       "      <td>11507.13</td>\n",
       "    </tr>\n",
       "    <tr>\n",
       "      <th>Cohasset</th>\n",
       "      <td>7388.09</td>\n",
       "    </tr>\n",
       "    <tr>\n",
       "      <th>Brookline</th>\n",
       "      <td>6982.40</td>\n",
       "    </tr>\n",
       "    <tr>\n",
       "      <th>Somerville</th>\n",
       "      <td>5604.49</td>\n",
       "    </tr>\n",
       "    <tr>\n",
       "      <th>Hingham</th>\n",
       "      <td>5236.94</td>\n",
       "    </tr>\n",
       "    <tr>\n",
       "      <th>Everett</th>\n",
       "      <td>5027.43</td>\n",
       "    </tr>\n",
       "    <tr>\n",
       "      <th>Boston</th>\n",
       "      <td>4113.87</td>\n",
       "    </tr>\n",
       "    <tr>\n",
       "      <th>Newton</th>\n",
       "      <td>4029.69</td>\n",
       "    </tr>\n",
       "    <tr>\n",
       "      <th>Revere</th>\n",
       "      <td>3622.94</td>\n",
       "    </tr>\n",
       "    <tr>\n",
       "      <th>Scituate</th>\n",
       "      <td>3435.73</td>\n",
       "    </tr>\n",
       "    <tr>\n",
       "      <th>Cambridge</th>\n",
       "      <td>3105.75</td>\n",
       "    </tr>\n",
       "    <tr>\n",
       "      <th>Quincy</th>\n",
       "      <td>3086.29</td>\n",
       "    </tr>\n",
       "    <tr>\n",
       "      <th>Braintree</th>\n",
       "      <td>3052.76</td>\n",
       "    </tr>\n",
       "    <tr>\n",
       "      <th>Milton</th>\n",
       "      <td>2631.42</td>\n",
       "    </tr>\n",
       "    <tr>\n",
       "      <th>Chelsea</th>\n",
       "      <td>2554.54</td>\n",
       "    </tr>\n",
       "    <tr>\n",
       "      <th>Hull</th>\n",
       "      <td>2142.62</td>\n",
       "    </tr>\n",
       "    <tr>\n",
       "      <th>Winthrop</th>\n",
       "      <td>1996.73</td>\n",
       "    </tr>\n",
       "    <tr>\n",
       "      <th>North Scituate</th>\n",
       "      <td>1914.16</td>\n",
       "    </tr>\n",
       "    <tr>\n",
       "      <th>Malden</th>\n",
       "      <td>1829.94</td>\n",
       "    </tr>\n",
       "    <tr>\n",
       "      <th>Medford</th>\n",
       "      <td>1766.01</td>\n",
       "    </tr>\n",
       "    <tr>\n",
       "      <th>Weymouth</th>\n",
       "      <td>1670.07</td>\n",
       "    </tr>\n",
       "    <tr>\n",
       "      <th>Reading</th>\n",
       "      <td>1410.30</td>\n",
       "    </tr>\n",
       "    <tr>\n",
       "      <th>Stoneham</th>\n",
       "      <td>1019.25</td>\n",
       "    </tr>\n",
       "    <tr>\n",
       "      <th>Winchester</th>\n",
       "      <td>600.68</td>\n",
       "    </tr>\n",
       "    <tr>\n",
       "      <th>Lynnfield</th>\n",
       "      <td>455.60</td>\n",
       "    </tr>\n",
       "    <tr>\n",
       "      <th>Belmont</th>\n",
       "      <td>181.44</td>\n",
       "    </tr>\n",
       "    <tr>\n",
       "      <th>Waltham</th>\n",
       "      <td>142.58</td>\n",
       "    </tr>\n",
       "    <tr>\n",
       "      <th>Watertown</th>\n",
       "      <td>142.58</td>\n",
       "    </tr>\n",
       "  </tbody>\n",
       "</table>\n",
       "</div>"
      ],
      "text/plain": [
       "                TOTAL_CLAIM_COST\n",
       "CITY                            \n",
       "Melrose                 16409.28\n",
       "Norwell                 11507.13\n",
       "Cohasset                 7388.09\n",
       "Brookline                6982.40\n",
       "Somerville               5604.49\n",
       "Hingham                  5236.94\n",
       "Everett                  5027.43\n",
       "Boston                   4113.87\n",
       "Newton                   4029.69\n",
       "Revere                   3622.94\n",
       "Scituate                 3435.73\n",
       "Cambridge                3105.75\n",
       "Quincy                   3086.29\n",
       "Braintree                3052.76\n",
       "Milton                   2631.42\n",
       "Chelsea                  2554.54\n",
       "Hull                     2142.62\n",
       "Winthrop                 1996.73\n",
       "North Scituate           1914.16\n",
       "Malden                   1829.94\n",
       "Medford                  1766.01\n",
       "Weymouth                 1670.07\n",
       "Reading                  1410.30\n",
       "Stoneham                 1019.25\n",
       "Winchester                600.68\n",
       "Lynnfield                 455.60\n",
       "Belmont                   181.44\n",
       "Waltham                   142.58\n",
       "Watertown                 142.58"
      ]
     },
     "execution_count": 326,
     "metadata": {},
     "output_type": "execute_result"
    }
   ],
   "source": [
    "avg_total_claim_cost_by_city = encounters_patients.groupby(\"CITY\")[\"TOTAL_CLAIM_COST\"].mean()\n",
    "avg_total_claim_cost_by_city = round(avg_total_claim_cost_by_city, 2).sort_values(ascending=False).reset_index().set_index(\"CITY\") \n",
    "avg_total_claim_cost_by_city"
   ]
  },
  {
   "cell_type": "code",
   "execution_count": 331,
   "metadata": {},
   "outputs": [
    {
     "name": "stdout",
     "output_type": "stream",
     "text": [
      "The average total claim cost per visit by city is represented in this horizontal bar graph.\n"
     ]
    },
    {
     "data": {
      "image/png": "[encoded data removed]",
      "text/plain": [
       "<Figure size 640x480 with 1 Axes>"
      ]
     },
     "metadata": {},
     "output_type": "display_data"
    }
   ],
   "source": [
    "avg_total_claim_cost_by_city.sort_values(by=\"TOTAL_CLAIM_COST\", ascending=True).plot(kind=\"barh\") \n",
    "plt.title(\"AVERAGE TOTAL CLAIM COST PER VISIT BY CITY\", \n",
    "          color=\"black\") \n",
    "plt.legend(\"\") \n",
    "plt.ylabel(\"\") \n",
    "cost = list(range(0,17000,2000))\n",
    "plt.xticks(cost, [f\"${c}\" for c in cost],\n",
    "           color=\"green\") \n",
    "print(f\"The average total claim cost per visit by city is represented in this horizontal bar graph.\") "
   ]
  },
  {
   "cell_type": "markdown",
   "metadata": {},
   "source": [
    "###### Number of Procedures Covered by Insurance Type"
   ]
  },
  {
   "cell_type": "code",
   "execution_count": 371,
   "metadata": {},
   "outputs": [
    {
     "data": {
      "text/html": [
       "<div>\n",
       "<style scoped>\n",
       "    .dataframe tbody tr th:only-of-type {\n",
       "        vertical-align: middle;\n",
       "    }\n",
       "\n",
       "    .dataframe tbody tr th {\n",
       "        vertical-align: top;\n",
       "    }\n",
       "\n",
       "    .dataframe thead th {\n",
       "        text-align: right;\n",
       "    }\n",
       "</style>\n",
       "<table border=\"1\" class=\"dataframe\">\n",
       "  <thead>\n",
       "    <tr style=\"text-align: right;\">\n",
       "      <th></th>\n",
       "      <th>Number or Procedures</th>\n",
       "    </tr>\n",
       "    <tr>\n",
       "      <th>InsuranceType</th>\n",
       "      <th></th>\n",
       "    </tr>\n",
       "  </thead>\n",
       "  <tbody>\n",
       "    <tr>\n",
       "      <th>Medicare</th>\n",
       "      <td>19512</td>\n",
       "    </tr>\n",
       "    <tr>\n",
       "      <th>Medicaid</th>\n",
       "      <td>2893</td>\n",
       "    </tr>\n",
       "    <tr>\n",
       "      <th>Humana</th>\n",
       "      <td>1999</td>\n",
       "    </tr>\n",
       "    <tr>\n",
       "      <th>Cigna Health</th>\n",
       "      <td>1599</td>\n",
       "    </tr>\n",
       "    <tr>\n",
       "      <th>Blue Cross Blue Shield</th>\n",
       "      <td>1512</td>\n",
       "    </tr>\n",
       "    <tr>\n",
       "      <th>Aetna</th>\n",
       "      <td>1457</td>\n",
       "    </tr>\n",
       "    <tr>\n",
       "      <th>UnitedHealthcare</th>\n",
       "      <td>1262</td>\n",
       "    </tr>\n",
       "    <tr>\n",
       "      <th>Anthem</th>\n",
       "      <td>1203</td>\n",
       "    </tr>\n",
       "    <tr>\n",
       "      <th>Dual Eligible</th>\n",
       "      <td>1162</td>\n",
       "    </tr>\n",
       "  </tbody>\n",
       "</table>\n",
       "</div>"
      ],
      "text/plain": [
       "                        Number or Procedures\n",
       "InsuranceType                               \n",
       "Medicare                               19512\n",
       "Medicaid                                2893\n",
       "Humana                                  1999\n",
       "Cigna Health                            1599\n",
       "Blue Cross Blue Shield                  1512\n",
       "Aetna                                   1457\n",
       "UnitedHealthcare                        1262\n",
       "Anthem                                  1203\n",
       "Dual Eligible                           1162"
      ]
     },
     "execution_count": 371,
     "metadata": {},
     "output_type": "execute_result"
    }
   ],
   "source": [
    "insurance_covered_procedures_by_type = encounters_procedures_payers[encounters_procedures_payers[\"NAME\"] != \"NO_INSURANCE\"].NAME.value_counts().reset_index()\n",
    "insurance_covered_procedures_by_type = insurance_covered_procedures_by_type.rename(columns={\"index\": \"InsuranceType\", \"NAME\": \"Number or Procedures\"}).set_index(\"InsuranceType\") \n",
    "insurance_covered_procedures_by_type"
   ]
  },
  {
   "cell_type": "markdown",
   "metadata": {},
   "source": [
    "Medicare insurance covers the most procedures under insurance, covering 19,512 procedures. While Medicaid covers the second most procedures under insurace, covering 2,893 procedures.\n",
    "\n",
    "###### Number of Procedures Covered by Insurance Type by Gender"
   ]
  },
  {
   "cell_type": "code",
   "execution_count": 372,
   "metadata": {},
   "outputs": [
    {
     "data": {
      "text/html": [
       "<div>\n",
       "<style scoped>\n",
       "    .dataframe tbody tr th:only-of-type {\n",
       "        vertical-align: middle;\n",
       "    }\n",
       "\n",
       "    .dataframe tbody tr th {\n",
       "        vertical-align: top;\n",
       "    }\n",
       "\n",
       "    .dataframe thead th {\n",
       "        text-align: right;\n",
       "    }\n",
       "</style>\n",
       "<table border=\"1\" class=\"dataframe\">\n",
       "  <thead>\n",
       "    <tr style=\"text-align: right;\">\n",
       "      <th></th>\n",
       "      <th>GENDER</th>\n",
       "      <th>ENCOUNTER</th>\n",
       "    </tr>\n",
       "    <tr>\n",
       "      <th>NAME</th>\n",
       "      <th></th>\n",
       "      <th></th>\n",
       "    </tr>\n",
       "  </thead>\n",
       "  <tbody>\n",
       "    <tr>\n",
       "      <th>Medicare</th>\n",
       "      <td>M</td>\n",
       "      <td>11487</td>\n",
       "    </tr>\n",
       "    <tr>\n",
       "      <th>Medicare</th>\n",
       "      <td>F</td>\n",
       "      <td>8025</td>\n",
       "    </tr>\n",
       "    <tr>\n",
       "      <th>Medicaid</th>\n",
       "      <td>F</td>\n",
       "      <td>2499</td>\n",
       "    </tr>\n",
       "    <tr>\n",
       "      <th>Humana</th>\n",
       "      <td>F</td>\n",
       "      <td>1149</td>\n",
       "    </tr>\n",
       "    <tr>\n",
       "      <th>Cigna Health</th>\n",
       "      <td>F</td>\n",
       "      <td>1034</td>\n",
       "    </tr>\n",
       "    <tr>\n",
       "      <th>Blue Cross Blue Shield</th>\n",
       "      <td>F</td>\n",
       "      <td>1013</td>\n",
       "    </tr>\n",
       "    <tr>\n",
       "      <th>UnitedHealthcare</th>\n",
       "      <td>F</td>\n",
       "      <td>857</td>\n",
       "    </tr>\n",
       "    <tr>\n",
       "      <th>Humana</th>\n",
       "      <td>M</td>\n",
       "      <td>850</td>\n",
       "    </tr>\n",
       "    <tr>\n",
       "      <th>Aetna</th>\n",
       "      <td>F</td>\n",
       "      <td>836</td>\n",
       "    </tr>\n",
       "    <tr>\n",
       "      <th>Anthem</th>\n",
       "      <td>F</td>\n",
       "      <td>753</td>\n",
       "    </tr>\n",
       "    <tr>\n",
       "      <th>Dual Eligible</th>\n",
       "      <td>F</td>\n",
       "      <td>636</td>\n",
       "    </tr>\n",
       "    <tr>\n",
       "      <th>Aetna</th>\n",
       "      <td>M</td>\n",
       "      <td>621</td>\n",
       "    </tr>\n",
       "    <tr>\n",
       "      <th>Cigna Health</th>\n",
       "      <td>M</td>\n",
       "      <td>565</td>\n",
       "    </tr>\n",
       "    <tr>\n",
       "      <th>Dual Eligible</th>\n",
       "      <td>M</td>\n",
       "      <td>526</td>\n",
       "    </tr>\n",
       "    <tr>\n",
       "      <th>Blue Cross Blue Shield</th>\n",
       "      <td>M</td>\n",
       "      <td>499</td>\n",
       "    </tr>\n",
       "    <tr>\n",
       "      <th>Anthem</th>\n",
       "      <td>M</td>\n",
       "      <td>450</td>\n",
       "    </tr>\n",
       "    <tr>\n",
       "      <th>UnitedHealthcare</th>\n",
       "      <td>M</td>\n",
       "      <td>405</td>\n",
       "    </tr>\n",
       "    <tr>\n",
       "      <th>Medicaid</th>\n",
       "      <td>M</td>\n",
       "      <td>394</td>\n",
       "    </tr>\n",
       "  </tbody>\n",
       "</table>\n",
       "</div>"
      ],
      "text/plain": [
       "                       GENDER  ENCOUNTER\n",
       "NAME                                    \n",
       "Medicare                    M      11487\n",
       "Medicare                    F       8025\n",
       "Medicaid                    F       2499\n",
       "Humana                      F       1149\n",
       "Cigna Health                F       1034\n",
       "Blue Cross Blue Shield      F       1013\n",
       "UnitedHealthcare            F        857\n",
       "Humana                      M        850\n",
       "Aetna                       F        836\n",
       "Anthem                      F        753\n",
       "Dual Eligible               F        636\n",
       "Aetna                       M        621\n",
       "Cigna Health                M        565\n",
       "Dual Eligible               M        526\n",
       "Blue Cross Blue Shield      M        499\n",
       "Anthem                      M        450\n",
       "UnitedHealthcare            M        405\n",
       "Medicaid                    M        394"
      ]
     },
     "execution_count": 372,
     "metadata": {},
     "output_type": "execute_result"
    }
   ],
   "source": [
    "patients[\"PATIENT_x\"] = patients[\"Id\"]\n",
    "encounters_procedures_payers_patients = pd.merge(encounters_procedures_payers, patients, how=\"inner\", on=\"PATIENT_x\") \n",
    "num_of_procedures_by_insurance_type = encounters_procedures_payers_patients[encounters_procedures_payers_patients[\"NAME\"] != \"NO_INSURANCE\"].groupby([\"NAME\", \"GENDER\"])[\"ENCOUNTER\"].count().sort_values(ascending=False).reset_index().set_index(\"NAME\")\n",
    "num_of_procedures_by_insurance_type\n"
   ]
  },
  {
   "cell_type": "markdown",
   "metadata": {},
   "source": [
    "###### Number of Procedures Covered by Insurance by Country"
   ]
  },
  {
   "cell_type": "code",
   "execution_count": 374,
   "metadata": {},
   "outputs": [
    {
     "data": {
      "text/html": [
       "<div>\n",
       "<style scoped>\n",
       "    .dataframe tbody tr th:only-of-type {\n",
       "        vertical-align: middle;\n",
       "    }\n",
       "\n",
       "    .dataframe tbody tr th {\n",
       "        vertical-align: top;\n",
       "    }\n",
       "\n",
       "    .dataframe thead th {\n",
       "        text-align: right;\n",
       "    }\n",
       "</style>\n",
       "<table border=\"1\" class=\"dataframe\">\n",
       "  <thead>\n",
       "    <tr style=\"text-align: right;\">\n",
       "      <th></th>\n",
       "      <th>ENCOUNTER</th>\n",
       "    </tr>\n",
       "    <tr>\n",
       "      <th>Birth_Country</th>\n",
       "      <th></th>\n",
       "    </tr>\n",
       "  </thead>\n",
       "  <tbody>\n",
       "    <tr>\n",
       "      <th>US</th>\n",
       "      <td>28786</td>\n",
       "    </tr>\n",
       "    <tr>\n",
       "      <th>MX</th>\n",
       "      <td>708</td>\n",
       "    </tr>\n",
       "    <tr>\n",
       "      <th>DE</th>\n",
       "      <td>486</td>\n",
       "    </tr>\n",
       "    <tr>\n",
       "      <th>HN</th>\n",
       "      <td>345</td>\n",
       "    </tr>\n",
       "    <tr>\n",
       "      <th>DM</th>\n",
       "      <td>297</td>\n",
       "    </tr>\n",
       "    <tr>\n",
       "      <th>PR</th>\n",
       "      <td>273</td>\n",
       "    </tr>\n",
       "    <tr>\n",
       "      <th>VN</th>\n",
       "      <td>243</td>\n",
       "    </tr>\n",
       "    <tr>\n",
       "      <th>CN</th>\n",
       "      <td>232</td>\n",
       "    </tr>\n",
       "    <tr>\n",
       "      <th>SA</th>\n",
       "      <td>195</td>\n",
       "    </tr>\n",
       "    <tr>\n",
       "      <th>CO</th>\n",
       "      <td>179</td>\n",
       "    </tr>\n",
       "    <tr>\n",
       "      <th>CL</th>\n",
       "      <td>109</td>\n",
       "    </tr>\n",
       "    <tr>\n",
       "      <th>PE</th>\n",
       "      <td>109</td>\n",
       "    </tr>\n",
       "    <tr>\n",
       "      <th>GT</th>\n",
       "      <td>107</td>\n",
       "    </tr>\n",
       "    <tr>\n",
       "      <th>SV</th>\n",
       "      <td>94</td>\n",
       "    </tr>\n",
       "    <tr>\n",
       "      <th>KR</th>\n",
       "      <td>73</td>\n",
       "    </tr>\n",
       "    <tr>\n",
       "      <th>JP</th>\n",
       "      <td>59</td>\n",
       "    </tr>\n",
       "    <tr>\n",
       "      <th>VE</th>\n",
       "      <td>55</td>\n",
       "    </tr>\n",
       "    <tr>\n",
       "      <th>HT</th>\n",
       "      <td>53</td>\n",
       "    </tr>\n",
       "    <tr>\n",
       "      <th>PA</th>\n",
       "      <td>50</td>\n",
       "    </tr>\n",
       "    <tr>\n",
       "      <th>FR</th>\n",
       "      <td>45</td>\n",
       "    </tr>\n",
       "    <tr>\n",
       "      <th>CU</th>\n",
       "      <td>25</td>\n",
       "    </tr>\n",
       "    <tr>\n",
       "      <th>AR</th>\n",
       "      <td>20</td>\n",
       "    </tr>\n",
       "    <tr>\n",
       "      <th>CR</th>\n",
       "      <td>16</td>\n",
       "    </tr>\n",
       "    <tr>\n",
       "      <th>DO</th>\n",
       "      <td>14</td>\n",
       "    </tr>\n",
       "    <tr>\n",
       "      <th>JM</th>\n",
       "      <td>11</td>\n",
       "    </tr>\n",
       "    <tr>\n",
       "      <th>IT</th>\n",
       "      <td>9</td>\n",
       "    </tr>\n",
       "    <tr>\n",
       "      <th>GR</th>\n",
       "      <td>3</td>\n",
       "    </tr>\n",
       "    <tr>\n",
       "      <th>IN</th>\n",
       "      <td>2</td>\n",
       "    </tr>\n",
       "    <tr>\n",
       "      <th>RU</th>\n",
       "      <td>1</td>\n",
       "    </tr>\n",
       "  </tbody>\n",
       "</table>\n",
       "</div>"
      ],
      "text/plain": [
       "               ENCOUNTER\n",
       "Birth_Country           \n",
       "US                 28786\n",
       "MX                   708\n",
       "DE                   486\n",
       "HN                   345\n",
       "DM                   297\n",
       "PR                   273\n",
       "VN                   243\n",
       "CN                   232\n",
       "SA                   195\n",
       "CO                   179\n",
       "CL                   109\n",
       "PE                   109\n",
       "GT                   107\n",
       "SV                    94\n",
       "KR                    73\n",
       "JP                    59\n",
       "VE                    55\n",
       "HT                    53\n",
       "PA                    50\n",
       "FR                    45\n",
       "CU                    25\n",
       "AR                    20\n",
       "CR                    16\n",
       "DO                    14\n",
       "JM                    11\n",
       "IT                     9\n",
       "GR                     3\n",
       "IN                     2\n",
       "RU                     1"
      ]
     },
     "execution_count": 374,
     "metadata": {},
     "output_type": "execute_result"
    }
   ],
   "source": [
    "num_of_procedures_by_country = encounters_procedures_payers_patients[encounters_procedures_payers_patients[\"NAME\"] != \"NO_INSURANCE\"].groupby(\"Birth_Country\")[\"ENCOUNTER\"].count().sort_values(ascending=False).reset_index().set_index(\"Birth_Country\") \n",
    "num_of_procedures_by_country\n"
   ]
  },
  {
   "cell_type": "markdown",
   "metadata": {},
   "source": [
    "This is the conclusion of my Python Hospital Patient Records project. In this project I have demonstrated how to read in multiple csv files and store them as pandas dataframes, I have demonstrated how to examine, clean, and manipulate data of various types, such as datetime data to extract the values necessary for analysis. I have demonstrated how to perform inner joins to combine data on multiple dataframes to find values and answer business questions. Lastly, I have demonstrated how to construct a variety of line and bar graphs, as well as pie charts to accurately represent data visuals."
   ]
  }
 ],
 "metadata": {
  "kernelspec": {
   "display_name": "base",
   "language": "python",
   "name": "python3"
  },
  "language_info": {
   "codemirror_mode": {
    "name": "ipython",
    "version": 3
   },
   "file_extension": ".py",
   "mimetype": "text/x-python",
   "name": "python",
   "nbconvert_exporter": "python",
   "pygments_lexer": "ipython3",
   "version": "3.9.13"
  }
 },
 "nbformat": 4,
 "nbformat_minor": 2
}

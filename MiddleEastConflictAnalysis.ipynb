{
 "cells": [
  {
   "cell_type": "markdown",
   "metadata": {},
   "source": [
    "IMPORTING VARIOUS PACKAGES THAT WILL BE USEFUL FOR ANALYSIS\n",
    "\n",
    "###### Numpy for numerical computations\n",
    "###### Pandas for data cleaning, manipulation, and transformation\n",
    "###### Matplotlib and Seaborn for creating visualizations\n",
    "###### D-tale to reproduce my analysis with more detail\n",
    "###### PyGWalker to produce interactive style graphs and charts"
   ]
  },
  {
   "cell_type": "code",
   "execution_count": 1,
   "metadata": {},
   "outputs": [],
   "source": [
    "import numpy as np\n",
    "import pandas as pd    \n",
    "pd.set_option(\"display.max_columns\", None)\n",
    "import pandas_profiling\n",
    "from pandas_profiling import ProfileReport\n",
    "import dtale\n",
    "import matplotlib.pyplot as plt   \n",
    "%matplotlib inline  \n",
    "import seaborn as sns  \n",
    "import sweetviz as sv  \n",
    "import pygwalker as pyg"
   ]
  },
  {
   "cell_type": "markdown",
   "metadata": {},
   "source": [
    "READING DATA INTO DATAFRAME"
   ]
  },
  {
   "cell_type": "code",
   "execution_count": 2,
   "metadata": {},
   "outputs": [],
   "source": [
    "conflict = pd.read_csv(r\"C:\\Users\\mjaso\\OneDrive\\fatalities_isr_pse_conflict_2000_to_2023.csv\")"
   ]
  },
  {
   "cell_type": "markdown",
   "metadata": {},
   "source": [
    "## PREPARING AND CLEANING DATA FOR ANALYSIS"
   ]
  },
  {
   "cell_type": "markdown",
   "metadata": {},
   "source": [
    "VIEWING THE FIRST 3 ROWS OF DATA"
   ]
  },
  {
   "cell_type": "code",
   "execution_count": 3,
   "metadata": {},
   "outputs": [
    {
     "data": {
      "text/html": [
       "<div>\n",
       "<style scoped>\n",
       "    .dataframe tbody tr th:only-of-type {\n",
       "        vertical-align: middle;\n",
       "    }\n",
       "\n",
       "    .dataframe tbody tr th {\n",
       "        vertical-align: top;\n",
       "    }\n",
       "\n",
       "    .dataframe thead th {\n",
       "        text-align: right;\n",
       "    }\n",
       "</style>\n",
       "<table border=\"1\" class=\"dataframe\">\n",
       "  <thead>\n",
       "    <tr style=\"text-align: right;\">\n",
       "      <th></th>\n",
       "      <th>name</th>\n",
       "      <th>date_of_event</th>\n",
       "      <th>age</th>\n",
       "      <th>citizenship</th>\n",
       "      <th>event_location</th>\n",
       "      <th>event_location_district</th>\n",
       "      <th>event_location_region</th>\n",
       "      <th>date_of_death</th>\n",
       "      <th>gender</th>\n",
       "      <th>took_part_in_the_hostilities</th>\n",
       "      <th>place_of_residence</th>\n",
       "      <th>place_of_residence_district</th>\n",
       "      <th>type_of_injury</th>\n",
       "      <th>ammunition</th>\n",
       "      <th>killed_by</th>\n",
       "      <th>notes</th>\n",
       "    </tr>\n",
       "  </thead>\n",
       "  <tbody>\n",
       "    <tr>\n",
       "      <th>0</th>\n",
       "      <td>'Abd a-Rahman Suleiman Muhammad Abu Daghash</td>\n",
       "      <td>2023-09-24</td>\n",
       "      <td>32.0</td>\n",
       "      <td>Palestinian</td>\n",
       "      <td>Nur Shams R.C.</td>\n",
       "      <td>Tulkarm</td>\n",
       "      <td>West Bank</td>\n",
       "      <td>2023-09-24</td>\n",
       "      <td>M</td>\n",
       "      <td>NaN</td>\n",
       "      <td>Nur Shams R.C.</td>\n",
       "      <td>Tulkarm</td>\n",
       "      <td>gunfire</td>\n",
       "      <td>live ammunition</td>\n",
       "      <td>Israeli security forces</td>\n",
       "      <td>Fatally shot by Israeli forces while standing ...</td>\n",
       "    </tr>\n",
       "    <tr>\n",
       "      <th>1</th>\n",
       "      <td>Usayed Farhan Muhammad 'Ali Abu 'Ali</td>\n",
       "      <td>2023-09-24</td>\n",
       "      <td>21.0</td>\n",
       "      <td>Palestinian</td>\n",
       "      <td>Nur Shams R.C.</td>\n",
       "      <td>Tulkarm</td>\n",
       "      <td>West Bank</td>\n",
       "      <td>2023-09-24</td>\n",
       "      <td>M</td>\n",
       "      <td>NaN</td>\n",
       "      <td>Nur Shams R.C.</td>\n",
       "      <td>Tulkarm</td>\n",
       "      <td>gunfire</td>\n",
       "      <td>live ammunition</td>\n",
       "      <td>Israeli security forces</td>\n",
       "      <td>Fatally shot by Israeli forces while trying to...</td>\n",
       "    </tr>\n",
       "    <tr>\n",
       "      <th>2</th>\n",
       "      <td>'Abdallah 'Imad Sa'ed Abu Hassan</td>\n",
       "      <td>2023-09-22</td>\n",
       "      <td>16.0</td>\n",
       "      <td>Palestinian</td>\n",
       "      <td>Kfar Dan</td>\n",
       "      <td>Jenin</td>\n",
       "      <td>West Bank</td>\n",
       "      <td>2023-09-22</td>\n",
       "      <td>M</td>\n",
       "      <td>NaN</td>\n",
       "      <td>al-Yamun</td>\n",
       "      <td>Jenin</td>\n",
       "      <td>gunfire</td>\n",
       "      <td>live ammunition</td>\n",
       "      <td>Israeli security forces</td>\n",
       "      <td>Fatally shot by soldiers while firing at them ...</td>\n",
       "    </tr>\n",
       "  </tbody>\n",
       "</table>\n",
       "</div>"
      ],
      "text/plain": [
       "                                          name date_of_event   age  \\\n",
       "0  'Abd a-Rahman Suleiman Muhammad Abu Daghash    2023-09-24  32.0   \n",
       "1         Usayed Farhan Muhammad 'Ali Abu 'Ali    2023-09-24  21.0   \n",
       "2             'Abdallah 'Imad Sa'ed Abu Hassan    2023-09-22  16.0   \n",
       "\n",
       "   citizenship  event_location event_location_district event_location_region  \\\n",
       "0  Palestinian  Nur Shams R.C.                 Tulkarm             West Bank   \n",
       "1  Palestinian  Nur Shams R.C.                 Tulkarm             West Bank   \n",
       "2  Palestinian        Kfar Dan                   Jenin             West Bank   \n",
       "\n",
       "  date_of_death gender took_part_in_the_hostilities place_of_residence  \\\n",
       "0    2023-09-24      M                          NaN     Nur Shams R.C.   \n",
       "1    2023-09-24      M                          NaN     Nur Shams R.C.   \n",
       "2    2023-09-22      M                          NaN           al-Yamun   \n",
       "\n",
       "  place_of_residence_district type_of_injury       ammunition  \\\n",
       "0                     Tulkarm        gunfire  live ammunition   \n",
       "1                     Tulkarm        gunfire  live ammunition   \n",
       "2                       Jenin        gunfire  live ammunition   \n",
       "\n",
       "                 killed_by                                              notes  \n",
       "0  Israeli security forces  Fatally shot by Israeli forces while standing ...  \n",
       "1  Israeli security forces  Fatally shot by Israeli forces while trying to...  \n",
       "2  Israeli security forces  Fatally shot by soldiers while firing at them ...  "
      ]
     },
     "execution_count": 3,
     "metadata": {},
     "output_type": "execute_result"
    }
   ],
   "source": [
    "conflict.head(3)"
   ]
  },
  {
   "cell_type": "markdown",
   "metadata": {},
   "source": [
    "VIEWING THE LAST 3 ROWS OF DATA"
   ]
  },
  {
   "cell_type": "code",
   "execution_count": 4,
   "metadata": {},
   "outputs": [
    {
     "data": {
      "text/html": [
       "<div>\n",
       "<style scoped>\n",
       "    .dataframe tbody tr th:only-of-type {\n",
       "        vertical-align: middle;\n",
       "    }\n",
       "\n",
       "    .dataframe tbody tr th {\n",
       "        vertical-align: top;\n",
       "    }\n",
       "\n",
       "    .dataframe thead th {\n",
       "        text-align: right;\n",
       "    }\n",
       "</style>\n",
       "<table border=\"1\" class=\"dataframe\">\n",
       "  <thead>\n",
       "    <tr style=\"text-align: right;\">\n",
       "      <th></th>\n",
       "      <th>name</th>\n",
       "      <th>date_of_event</th>\n",
       "      <th>age</th>\n",
       "      <th>citizenship</th>\n",
       "      <th>event_location</th>\n",
       "      <th>event_location_district</th>\n",
       "      <th>event_location_region</th>\n",
       "      <th>date_of_death</th>\n",
       "      <th>gender</th>\n",
       "      <th>took_part_in_the_hostilities</th>\n",
       "      <th>place_of_residence</th>\n",
       "      <th>place_of_residence_district</th>\n",
       "      <th>type_of_injury</th>\n",
       "      <th>ammunition</th>\n",
       "      <th>killed_by</th>\n",
       "      <th>notes</th>\n",
       "    </tr>\n",
       "  </thead>\n",
       "  <tbody>\n",
       "    <tr>\n",
       "      <th>11121</th>\n",
       "      <td>Hillel Lieberman</td>\n",
       "      <td>2000-10-07</td>\n",
       "      <td>36.0</td>\n",
       "      <td>Israeli</td>\n",
       "      <td>Nablus</td>\n",
       "      <td>Nablus</td>\n",
       "      <td>West Bank</td>\n",
       "      <td>2000-10-07</td>\n",
       "      <td>M</td>\n",
       "      <td>Israelis</td>\n",
       "      <td>Elon Moreh</td>\n",
       "      <td>Nablus</td>\n",
       "      <td>gunfire</td>\n",
       "      <td>live ammunition</td>\n",
       "      <td>Palestinian civilians</td>\n",
       "      <td>His body was found a day after he disappeared.</td>\n",
       "    </tr>\n",
       "    <tr>\n",
       "      <th>11122</th>\n",
       "      <td>Fahed Mustafa 'Odeh Baker</td>\n",
       "      <td>2000-10-07</td>\n",
       "      <td>21.0</td>\n",
       "      <td>Palestinian</td>\n",
       "      <td>Bidya</td>\n",
       "      <td>Salfit</td>\n",
       "      <td>West Bank</td>\n",
       "      <td>2000-10-07</td>\n",
       "      <td>M</td>\n",
       "      <td>No</td>\n",
       "      <td>Bidya</td>\n",
       "      <td>Salfit</td>\n",
       "      <td>gunfire</td>\n",
       "      <td>NaN</td>\n",
       "      <td>Israeli civilians</td>\n",
       "      <td>Killed by settlers who rioted in Biddya village.</td>\n",
       "    </tr>\n",
       "    <tr>\n",
       "      <th>11123</th>\n",
       "      <td>Wichlav Zalsevsky</td>\n",
       "      <td>2000-10-02</td>\n",
       "      <td>24.0</td>\n",
       "      <td>Israeli</td>\n",
       "      <td>Masha</td>\n",
       "      <td>Salfit</td>\n",
       "      <td>West Bank</td>\n",
       "      <td>2000-10-02</td>\n",
       "      <td>M</td>\n",
       "      <td>Israelis</td>\n",
       "      <td>Ashdod</td>\n",
       "      <td>Israel</td>\n",
       "      <td>gunfire</td>\n",
       "      <td>live ammunition</td>\n",
       "      <td>Palestinian civilians</td>\n",
       "      <td>NaN</td>\n",
       "    </tr>\n",
       "  </tbody>\n",
       "</table>\n",
       "</div>"
      ],
      "text/plain": [
       "                            name date_of_event   age  citizenship  \\\n",
       "11121           Hillel Lieberman    2000-10-07  36.0      Israeli   \n",
       "11122  Fahed Mustafa 'Odeh Baker    2000-10-07  21.0  Palestinian   \n",
       "11123          Wichlav Zalsevsky    2000-10-02  24.0      Israeli   \n",
       "\n",
       "      event_location event_location_district event_location_region  \\\n",
       "11121         Nablus                  Nablus             West Bank   \n",
       "11122          Bidya                  Salfit             West Bank   \n",
       "11123          Masha                  Salfit             West Bank   \n",
       "\n",
       "      date_of_death gender took_part_in_the_hostilities place_of_residence  \\\n",
       "11121    2000-10-07      M                     Israelis         Elon Moreh   \n",
       "11122    2000-10-07      M                           No              Bidya   \n",
       "11123    2000-10-02      M                     Israelis             Ashdod   \n",
       "\n",
       "      place_of_residence_district type_of_injury       ammunition  \\\n",
       "11121                      Nablus        gunfire  live ammunition   \n",
       "11122                      Salfit        gunfire              NaN   \n",
       "11123                      Israel        gunfire  live ammunition   \n",
       "\n",
       "                   killed_by                                             notes  \n",
       "11121  Palestinian civilians    His body was found a day after he disappeared.  \n",
       "11122      Israeli civilians  Killed by settlers who rioted in Biddya village.  \n",
       "11123  Palestinian civilians                                               NaN  "
      ]
     },
     "execution_count": 4,
     "metadata": {},
     "output_type": "execute_result"
    }
   ],
   "source": [
    "conflict.tail(3)"
   ]
  },
  {
   "cell_type": "markdown",
   "metadata": {},
   "source": [
    "VIEWING THE SIZE OF THE DATASET"
   ]
  },
  {
   "cell_type": "code",
   "execution_count": 5,
   "metadata": {},
   "outputs": [
    {
     "name": "stdout",
     "output_type": "stream",
     "text": [
      "The size of this data set is (11124, 16) \n"
     ]
    }
   ],
   "source": [
    "conflict.shape\n",
    "print(f\"The size of this data set is {conflict.shape} \")"
   ]
  },
  {
   "cell_type": "markdown",
   "metadata": {},
   "source": [
    "CHECKING FOR DUPLICATED DATA"
   ]
  },
  {
   "cell_type": "code",
   "execution_count": 6,
   "metadata": {},
   "outputs": [
    {
     "name": "stdout",
     "output_type": "stream",
     "text": [
      "there are 7 rows of duplicated data in this dataset\n"
     ]
    }
   ],
   "source": [
    "conflict.duplicated().sum()\n",
    "print(f\"there are {conflict.duplicated().sum()} rows of duplicated data in this dataset\")"
   ]
  },
  {
   "cell_type": "markdown",
   "metadata": {},
   "source": [
    "VIEWING THE ROWS OF DUPLICATED DATA"
   ]
  },
  {
   "cell_type": "code",
   "execution_count": 7,
   "metadata": {},
   "outputs": [
    {
     "data": {
      "text/html": [
       "<div>\n",
       "<style scoped>\n",
       "    .dataframe tbody tr th:only-of-type {\n",
       "        vertical-align: middle;\n",
       "    }\n",
       "\n",
       "    .dataframe tbody tr th {\n",
       "        vertical-align: top;\n",
       "    }\n",
       "\n",
       "    .dataframe thead th {\n",
       "        text-align: right;\n",
       "    }\n",
       "</style>\n",
       "<table border=\"1\" class=\"dataframe\">\n",
       "  <thead>\n",
       "    <tr style=\"text-align: right;\">\n",
       "      <th></th>\n",
       "      <th>name</th>\n",
       "      <th>date_of_event</th>\n",
       "      <th>age</th>\n",
       "      <th>citizenship</th>\n",
       "      <th>event_location</th>\n",
       "      <th>event_location_district</th>\n",
       "      <th>event_location_region</th>\n",
       "      <th>date_of_death</th>\n",
       "      <th>gender</th>\n",
       "      <th>took_part_in_the_hostilities</th>\n",
       "      <th>place_of_residence</th>\n",
       "      <th>place_of_residence_district</th>\n",
       "      <th>type_of_injury</th>\n",
       "      <th>ammunition</th>\n",
       "      <th>killed_by</th>\n",
       "      <th>notes</th>\n",
       "    </tr>\n",
       "  </thead>\n",
       "  <tbody>\n",
       "    <tr>\n",
       "      <th>9373</th>\n",
       "      <td>Name unknown to B'Tselem</td>\n",
       "      <td>2003-01-13</td>\n",
       "      <td>NaN</td>\n",
       "      <td>Palestinian</td>\n",
       "      <td>Nitzana</td>\n",
       "      <td>Israel</td>\n",
       "      <td>Israel</td>\n",
       "      <td>2003-01-13</td>\n",
       "      <td>M</td>\n",
       "      <td>Yes</td>\n",
       "      <td>NaN</td>\n",
       "      <td>NaN</td>\n",
       "      <td>gunfire</td>\n",
       "      <td>NaN</td>\n",
       "      <td>Israeli security forces</td>\n",
       "      <td>Killed by IDF gunfire after he crossed into Is...</td>\n",
       "    </tr>\n",
       "    <tr>\n",
       "      <th>9985</th>\n",
       "      <td>Name unknown to B'Tselem</td>\n",
       "      <td>2002-05-05</td>\n",
       "      <td>NaN</td>\n",
       "      <td>Palestinian</td>\n",
       "      <td>Karni Checkpoint</td>\n",
       "      <td>Gaza</td>\n",
       "      <td>Gaza Strip</td>\n",
       "      <td>2002-05-05</td>\n",
       "      <td>NaN</td>\n",
       "      <td>Unknown</td>\n",
       "      <td>NaN</td>\n",
       "      <td>NaN</td>\n",
       "      <td>gunfire</td>\n",
       "      <td>NaN</td>\n",
       "      <td>Israeli security forces</td>\n",
       "      <td>Killed while trying to cross the Gaza perimete...</td>\n",
       "    </tr>\n",
       "    <tr>\n",
       "      <th>9986</th>\n",
       "      <td>Name unknown to B'Tselem</td>\n",
       "      <td>2002-05-05</td>\n",
       "      <td>NaN</td>\n",
       "      <td>Palestinian</td>\n",
       "      <td>Kissufim</td>\n",
       "      <td>Khan Yunis</td>\n",
       "      <td>Gaza Strip</td>\n",
       "      <td>2002-05-05</td>\n",
       "      <td>NaN</td>\n",
       "      <td>Yes</td>\n",
       "      <td>NaN</td>\n",
       "      <td>NaN</td>\n",
       "      <td>gunfire</td>\n",
       "      <td>NaN</td>\n",
       "      <td>Israeli security forces</td>\n",
       "      <td>Killed after opening fire at soldiers at the c...</td>\n",
       "    </tr>\n",
       "    <tr>\n",
       "      <th>10234</th>\n",
       "      <td>Name unknown to B'Tselem</td>\n",
       "      <td>2002-04-01</td>\n",
       "      <td>NaN</td>\n",
       "      <td>Palestinian</td>\n",
       "      <td>Jenin R.C.</td>\n",
       "      <td>Jenin</td>\n",
       "      <td>West Bank</td>\n",
       "      <td>2002-04-01</td>\n",
       "      <td>NaN</td>\n",
       "      <td>Unknown</td>\n",
       "      <td>NaN</td>\n",
       "      <td>NaN</td>\n",
       "      <td>NaN</td>\n",
       "      <td>NaN</td>\n",
       "      <td>Israeli security forces</td>\n",
       "      <td>Killed during \"Operation Defensive Shield.\"</td>\n",
       "    </tr>\n",
       "    <tr>\n",
       "      <th>10817</th>\n",
       "      <td>Name unknown to B'Tselem</td>\n",
       "      <td>2001-12-02</td>\n",
       "      <td>NaN</td>\n",
       "      <td>Palestinian</td>\n",
       "      <td>Jenin</td>\n",
       "      <td>Jenin</td>\n",
       "      <td>West Bank</td>\n",
       "      <td>2001-12-02</td>\n",
       "      <td>NaN</td>\n",
       "      <td>Unknown</td>\n",
       "      <td>NaN</td>\n",
       "      <td>NaN</td>\n",
       "      <td>gunfire</td>\n",
       "      <td>NaN</td>\n",
       "      <td>Israeli security forces</td>\n",
       "      <td>NaN</td>\n",
       "    </tr>\n",
       "    <tr>\n",
       "      <th>10818</th>\n",
       "      <td>Name unknown to B'Tselem</td>\n",
       "      <td>2001-12-02</td>\n",
       "      <td>NaN</td>\n",
       "      <td>Palestinian</td>\n",
       "      <td>Jenin</td>\n",
       "      <td>Jenin</td>\n",
       "      <td>West Bank</td>\n",
       "      <td>2001-12-02</td>\n",
       "      <td>NaN</td>\n",
       "      <td>Unknown</td>\n",
       "      <td>NaN</td>\n",
       "      <td>NaN</td>\n",
       "      <td>gunfire</td>\n",
       "      <td>NaN</td>\n",
       "      <td>Israeli security forces</td>\n",
       "      <td>NaN</td>\n",
       "    </tr>\n",
       "    <tr>\n",
       "      <th>10824</th>\n",
       "      <td>Name unknown to B'Tselem</td>\n",
       "      <td>2001-12-02</td>\n",
       "      <td>NaN</td>\n",
       "      <td>Palestinian</td>\n",
       "      <td>Jenin</td>\n",
       "      <td>Jenin</td>\n",
       "      <td>West Bank</td>\n",
       "      <td>2001-12-02</td>\n",
       "      <td>NaN</td>\n",
       "      <td>Unknown</td>\n",
       "      <td>NaN</td>\n",
       "      <td>NaN</td>\n",
       "      <td>gunfire</td>\n",
       "      <td>NaN</td>\n",
       "      <td>Israeli security forces</td>\n",
       "      <td>NaN</td>\n",
       "    </tr>\n",
       "  </tbody>\n",
       "</table>\n",
       "</div>"
      ],
      "text/plain": [
       "                           name date_of_event  age  citizenship  \\\n",
       "9373   Name unknown to B'Tselem    2003-01-13  NaN  Palestinian   \n",
       "9985   Name unknown to B'Tselem    2002-05-05  NaN  Palestinian   \n",
       "9986   Name unknown to B'Tselem    2002-05-05  NaN  Palestinian   \n",
       "10234  Name unknown to B'Tselem    2002-04-01  NaN  Palestinian   \n",
       "10817  Name unknown to B'Tselem    2001-12-02  NaN  Palestinian   \n",
       "10818  Name unknown to B'Tselem    2001-12-02  NaN  Palestinian   \n",
       "10824  Name unknown to B'Tselem    2001-12-02  NaN  Palestinian   \n",
       "\n",
       "         event_location event_location_district event_location_region  \\\n",
       "9373            Nitzana                  Israel                Israel   \n",
       "9985   Karni Checkpoint                    Gaza            Gaza Strip   \n",
       "9986           Kissufim              Khan Yunis            Gaza Strip   \n",
       "10234        Jenin R.C.                   Jenin             West Bank   \n",
       "10817             Jenin                   Jenin             West Bank   \n",
       "10818             Jenin                   Jenin             West Bank   \n",
       "10824             Jenin                   Jenin             West Bank   \n",
       "\n",
       "      date_of_death gender took_part_in_the_hostilities place_of_residence  \\\n",
       "9373     2003-01-13      M                          Yes                NaN   \n",
       "9985     2002-05-05    NaN                      Unknown                NaN   \n",
       "9986     2002-05-05    NaN                          Yes                NaN   \n",
       "10234    2002-04-01    NaN                      Unknown                NaN   \n",
       "10817    2001-12-02    NaN                      Unknown                NaN   \n",
       "10818    2001-12-02    NaN                      Unknown                NaN   \n",
       "10824    2001-12-02    NaN                      Unknown                NaN   \n",
       "\n",
       "      place_of_residence_district type_of_injury ammunition  \\\n",
       "9373                          NaN        gunfire        NaN   \n",
       "9985                          NaN        gunfire        NaN   \n",
       "9986                          NaN        gunfire        NaN   \n",
       "10234                         NaN            NaN        NaN   \n",
       "10817                         NaN        gunfire        NaN   \n",
       "10818                         NaN        gunfire        NaN   \n",
       "10824                         NaN        gunfire        NaN   \n",
       "\n",
       "                     killed_by  \\\n",
       "9373   Israeli security forces   \n",
       "9985   Israeli security forces   \n",
       "9986   Israeli security forces   \n",
       "10234  Israeli security forces   \n",
       "10817  Israeli security forces   \n",
       "10818  Israeli security forces   \n",
       "10824  Israeli security forces   \n",
       "\n",
       "                                                   notes  \n",
       "9373   Killed by IDF gunfire after he crossed into Is...  \n",
       "9985   Killed while trying to cross the Gaza perimete...  \n",
       "9986   Killed after opening fire at soldiers at the c...  \n",
       "10234        Killed during \"Operation Defensive Shield.\"  \n",
       "10817                                                NaN  \n",
       "10818                                                NaN  \n",
       "10824                                                NaN  "
      ]
     },
     "execution_count": 7,
     "metadata": {},
     "output_type": "execute_result"
    }
   ],
   "source": [
    "conflict[conflict.duplicated()]"
   ]
  },
  {
   "cell_type": "markdown",
   "metadata": {},
   "source": [
    "DROPPING DUPLICATED ROWS FROM DATASET"
   ]
  },
  {
   "cell_type": "code",
   "execution_count": 8,
   "metadata": {},
   "outputs": [],
   "source": [
    "conflict.drop_duplicates(inplace=True)"
   ]
  },
  {
   "cell_type": "markdown",
   "metadata": {},
   "source": [
    "VERIFYING THAT DUPLICATED DATA HAS BEEN REMOVED"
   ]
  },
  {
   "cell_type": "code",
   "execution_count": 9,
   "metadata": {},
   "outputs": [
    {
     "data": {
      "text/html": [
       "<div>\n",
       "<style scoped>\n",
       "    .dataframe tbody tr th:only-of-type {\n",
       "        vertical-align: middle;\n",
       "    }\n",
       "\n",
       "    .dataframe tbody tr th {\n",
       "        vertical-align: top;\n",
       "    }\n",
       "\n",
       "    .dataframe thead th {\n",
       "        text-align: right;\n",
       "    }\n",
       "</style>\n",
       "<table border=\"1\" class=\"dataframe\">\n",
       "  <thead>\n",
       "    <tr style=\"text-align: right;\">\n",
       "      <th></th>\n",
       "      <th>name</th>\n",
       "      <th>date_of_event</th>\n",
       "      <th>age</th>\n",
       "      <th>citizenship</th>\n",
       "      <th>event_location</th>\n",
       "      <th>event_location_district</th>\n",
       "      <th>event_location_region</th>\n",
       "      <th>date_of_death</th>\n",
       "      <th>gender</th>\n",
       "      <th>took_part_in_the_hostilities</th>\n",
       "      <th>place_of_residence</th>\n",
       "      <th>place_of_residence_district</th>\n",
       "      <th>type_of_injury</th>\n",
       "      <th>ammunition</th>\n",
       "      <th>killed_by</th>\n",
       "      <th>notes</th>\n",
       "    </tr>\n",
       "  </thead>\n",
       "  <tbody>\n",
       "  </tbody>\n",
       "</table>\n",
       "</div>"
      ],
      "text/plain": [
       "Empty DataFrame\n",
       "Columns: [name, date_of_event, age, citizenship, event_location, event_location_district, event_location_region, date_of_death, gender, took_part_in_the_hostilities, place_of_residence, place_of_residence_district, type_of_injury, ammunition, killed_by, notes]\n",
       "Index: []"
      ]
     },
     "execution_count": 9,
     "metadata": {},
     "output_type": "execute_result"
    }
   ],
   "source": [
    "conflict[conflict.duplicated()]"
   ]
  },
  {
   "cell_type": "markdown",
   "metadata": {},
   "source": [
    "CHECKING THE N/A VALUES IN DATASET"
   ]
  },
  {
   "cell_type": "code",
   "execution_count": 13,
   "metadata": {},
   "outputs": [
    {
     "name": "stdout",
     "output_type": "stream",
     "text": [
      "name has 0 N/A values\n",
      "date_of_event has 0 N/A values\n",
      "age has 122 N/A values\n",
      "citizenship has 0 N/A values\n",
      "event_location has 0 N/A values\n",
      "event_location_district has 0 N/A values\n",
      "event_location_region has 0 N/A values\n",
      "date_of_death has 0 N/A values\n",
      "gender has 14 N/A values\n",
      "took_part_in_the_hostilities has 1430 N/A values\n",
      "place_of_residence has 61 N/A values\n",
      "place_of_residence_district has 61 N/A values\n",
      "type_of_injury has 290 N/A values\n",
      "ammunition has 5246 N/A values\n",
      "killed_by has 0 N/A values\n",
      "notes has 277 N/A values\n"
     ]
    }
   ],
   "source": [
    "for na in conflict.columns:\n",
    "    na_values = conflict[na].isna().sum()\n",
    "    print(f\"{na} has {na_values} N/A values\")"
   ]
  },
  {
   "cell_type": "markdown",
   "metadata": {},
   "source": [
    "DECIDING TO REMOVE ALL N/A VALUES IN THIS DATASET FOR ANALYSIS PURPOSES"
   ]
  },
  {
   "cell_type": "code",
   "execution_count": 21,
   "metadata": {},
   "outputs": [
    {
     "data": {
      "text/html": [
       "<div>\n",
       "<style scoped>\n",
       "    .dataframe tbody tr th:only-of-type {\n",
       "        vertical-align: middle;\n",
       "    }\n",
       "\n",
       "    .dataframe tbody tr th {\n",
       "        vertical-align: top;\n",
       "    }\n",
       "\n",
       "    .dataframe thead th {\n",
       "        text-align: right;\n",
       "    }\n",
       "</style>\n",
       "<table border=\"1\" class=\"dataframe\">\n",
       "  <thead>\n",
       "    <tr style=\"text-align: right;\">\n",
       "      <th></th>\n",
       "      <th>name</th>\n",
       "      <th>date_of_event</th>\n",
       "      <th>age</th>\n",
       "      <th>citizenship</th>\n",
       "      <th>event_location</th>\n",
       "      <th>event_location_district</th>\n",
       "      <th>event_location_region</th>\n",
       "      <th>date_of_death</th>\n",
       "      <th>gender</th>\n",
       "      <th>took_part_in_the_hostilities</th>\n",
       "      <th>place_of_residence</th>\n",
       "      <th>place_of_residence_district</th>\n",
       "      <th>type_of_injury</th>\n",
       "      <th>ammunition</th>\n",
       "      <th>killed_by</th>\n",
       "      <th>notes</th>\n",
       "    </tr>\n",
       "  </thead>\n",
       "  <tbody>\n",
       "    <tr>\n",
       "      <th>6</th>\n",
       "      <td>Yusef Salem Yusef Radwan</td>\n",
       "      <td>2023-09-19</td>\n",
       "      <td>24.0</td>\n",
       "      <td>Palestinian</td>\n",
       "      <td>Gaza City</td>\n",
       "      <td>Gaza</td>\n",
       "      <td>Gaza Strip</td>\n",
       "      <td>2023-09-19</td>\n",
       "      <td>M</td>\n",
       "      <td>No</td>\n",
       "      <td>Khan Yunis</td>\n",
       "      <td>Khan Yunis</td>\n",
       "      <td>gunfire</td>\n",
       "      <td>live ammunition</td>\n",
       "      <td>Israeli security forces</td>\n",
       "      <td>Fatally shot by soldiers while participating i...</td>\n",
       "    </tr>\n",
       "    <tr>\n",
       "      <th>94</th>\n",
       "      <td>Iyad al-'Abed al-Hasani</td>\n",
       "      <td>2023-05-12</td>\n",
       "      <td>51.0</td>\n",
       "      <td>Palestinian</td>\n",
       "      <td>Gaza City</td>\n",
       "      <td>Gaza</td>\n",
       "      <td>Gaza Strip</td>\n",
       "      <td>2023-05-12</td>\n",
       "      <td>M</td>\n",
       "      <td>Yes</td>\n",
       "      <td>a-Shati' Camp</td>\n",
       "      <td>Gaza</td>\n",
       "      <td>gunfire</td>\n",
       "      <td>missile</td>\n",
       "      <td>Israeli security forces</td>\n",
       "      <td>Senior Islamic Jihad military wing operative. ...</td>\n",
       "    </tr>\n",
       "    <tr>\n",
       "      <th>95</th>\n",
       "      <td>Muhammad Walid Muhammad 'Abd al-'Aal</td>\n",
       "      <td>2023-05-12</td>\n",
       "      <td>33.0</td>\n",
       "      <td>Palestinian</td>\n",
       "      <td>Gaza City</td>\n",
       "      <td>Gaza</td>\n",
       "      <td>Gaza Strip</td>\n",
       "      <td>2023-05-12</td>\n",
       "      <td>M</td>\n",
       "      <td>Yes</td>\n",
       "      <td>a-Shati' Camp</td>\n",
       "      <td>Gaza</td>\n",
       "      <td>gunfire</td>\n",
       "      <td>missile</td>\n",
       "      <td>Israeli security forces</td>\n",
       "      <td>Killed together with another Islamic Jihad mil...</td>\n",
       "    </tr>\n",
       "    <tr>\n",
       "      <th>96</th>\n",
       "      <td>'Ali Hassan Muhammad Ghali</td>\n",
       "      <td>2023-05-11</td>\n",
       "      <td>49.0</td>\n",
       "      <td>Palestinian</td>\n",
       "      <td>Khan Yunis</td>\n",
       "      <td>Khan Yunis</td>\n",
       "      <td>Gaza Strip</td>\n",
       "      <td>2023-05-11</td>\n",
       "      <td>M</td>\n",
       "      <td>Yes</td>\n",
       "      <td>Khan Yunis</td>\n",
       "      <td>Khan Yunis</td>\n",
       "      <td>gunfire</td>\n",
       "      <td>missile</td>\n",
       "      <td>Israeli security forces</td>\n",
       "      <td>Senior Islamic Jihad military wing operative. ...</td>\n",
       "    </tr>\n",
       "    <tr>\n",
       "      <th>98</th>\n",
       "      <td>Mahmoud Walid Mahmoud 'Abd al-Jawad</td>\n",
       "      <td>2023-05-11</td>\n",
       "      <td>25.0</td>\n",
       "      <td>Palestinian</td>\n",
       "      <td>Khan Yunis</td>\n",
       "      <td>Khan Yunis</td>\n",
       "      <td>Gaza Strip</td>\n",
       "      <td>2023-05-11</td>\n",
       "      <td>M</td>\n",
       "      <td>Yes</td>\n",
       "      <td>Rafah</td>\n",
       "      <td>Rafah</td>\n",
       "      <td>gunfire</td>\n",
       "      <td>missile</td>\n",
       "      <td>Israeli security forces</td>\n",
       "      <td>Killed together with two of his uncles, one of...</td>\n",
       "    </tr>\n",
       "    <tr>\n",
       "      <th>...</th>\n",
       "      <td>...</td>\n",
       "      <td>...</td>\n",
       "      <td>...</td>\n",
       "      <td>...</td>\n",
       "      <td>...</td>\n",
       "      <td>...</td>\n",
       "      <td>...</td>\n",
       "      <td>...</td>\n",
       "      <td>...</td>\n",
       "      <td>...</td>\n",
       "      <td>...</td>\n",
       "      <td>...</td>\n",
       "      <td>...</td>\n",
       "      <td>...</td>\n",
       "      <td>...</td>\n",
       "      <td>...</td>\n",
       "    </tr>\n",
       "    <tr>\n",
       "      <th>11115</th>\n",
       "      <td>Hanan Levy</td>\n",
       "      <td>2000-11-02</td>\n",
       "      <td>33.0</td>\n",
       "      <td>Israeli</td>\n",
       "      <td>Jerusalem</td>\n",
       "      <td>Israel</td>\n",
       "      <td>Israel</td>\n",
       "      <td>2000-11-02</td>\n",
       "      <td>M</td>\n",
       "      <td>Israelis</td>\n",
       "      <td>Jerusalem</td>\n",
       "      <td>Israel</td>\n",
       "      <td>explosion</td>\n",
       "      <td>car bomb</td>\n",
       "      <td>Palestinian civilians</td>\n",
       "      <td>killed in a booby-trapped car near the Mahane ...</td>\n",
       "    </tr>\n",
       "    <tr>\n",
       "      <th>11116</th>\n",
       "      <td>Eish Kodesh Gilmor</td>\n",
       "      <td>2000-10-30</td>\n",
       "      <td>25.0</td>\n",
       "      <td>Israeli</td>\n",
       "      <td>East Jerusalem</td>\n",
       "      <td>East Jerusalem</td>\n",
       "      <td>West Bank</td>\n",
       "      <td>2000-10-30</td>\n",
       "      <td>M</td>\n",
       "      <td>Israelis</td>\n",
       "      <td>Mevo Modi'im</td>\n",
       "      <td>Israel</td>\n",
       "      <td>gunfire</td>\n",
       "      <td>live ammunition</td>\n",
       "      <td>Palestinian civilians</td>\n",
       "      <td>Killed while he was guarding a National Insura...</td>\n",
       "    </tr>\n",
       "    <tr>\n",
       "      <th>11118</th>\n",
       "      <td>Marik Gavrilov</td>\n",
       "      <td>2000-10-27</td>\n",
       "      <td>25.0</td>\n",
       "      <td>Israeli</td>\n",
       "      <td>Ramallah</td>\n",
       "      <td>Ramallah and al-Bira</td>\n",
       "      <td>West Bank</td>\n",
       "      <td>2000-10-27</td>\n",
       "      <td>M</td>\n",
       "      <td>Israelis</td>\n",
       "      <td>Banei Ayish</td>\n",
       "      <td>Israel</td>\n",
       "      <td>gunfire</td>\n",
       "      <td>live ammunition</td>\n",
       "      <td>Palestinian civilians</td>\n",
       "      <td>His body was found burnt in his car.</td>\n",
       "    </tr>\n",
       "    <tr>\n",
       "      <th>11119</th>\n",
       "      <td>Binyamin Herling</td>\n",
       "      <td>2000-10-19</td>\n",
       "      <td>64.0</td>\n",
       "      <td>Israeli</td>\n",
       "      <td>Nablus</td>\n",
       "      <td>Nablus</td>\n",
       "      <td>West Bank</td>\n",
       "      <td>2000-10-19</td>\n",
       "      <td>M</td>\n",
       "      <td>Israelis</td>\n",
       "      <td>Kedumim</td>\n",
       "      <td>Tulkarm</td>\n",
       "      <td>gunfire</td>\n",
       "      <td>live ammunition</td>\n",
       "      <td>Palestinian civilians</td>\n",
       "      <td>Killed while hiking on Mt. Eival.</td>\n",
       "    </tr>\n",
       "    <tr>\n",
       "      <th>11121</th>\n",
       "      <td>Hillel Lieberman</td>\n",
       "      <td>2000-10-07</td>\n",
       "      <td>36.0</td>\n",
       "      <td>Israeli</td>\n",
       "      <td>Nablus</td>\n",
       "      <td>Nablus</td>\n",
       "      <td>West Bank</td>\n",
       "      <td>2000-10-07</td>\n",
       "      <td>M</td>\n",
       "      <td>Israelis</td>\n",
       "      <td>Elon Moreh</td>\n",
       "      <td>Nablus</td>\n",
       "      <td>gunfire</td>\n",
       "      <td>live ammunition</td>\n",
       "      <td>Palestinian civilians</td>\n",
       "      <td>His body was found a day after he disappeared.</td>\n",
       "    </tr>\n",
       "  </tbody>\n",
       "</table>\n",
       "<p>4661 rows × 16 columns</p>\n",
       "</div>"
      ],
      "text/plain": [
       "                                       name date_of_event   age  citizenship  \\\n",
       "6                  Yusef Salem Yusef Radwan    2023-09-19  24.0  Palestinian   \n",
       "94                  Iyad al-'Abed al-Hasani    2023-05-12  51.0  Palestinian   \n",
       "95     Muhammad Walid Muhammad 'Abd al-'Aal    2023-05-12  33.0  Palestinian   \n",
       "96               'Ali Hassan Muhammad Ghali    2023-05-11  49.0  Palestinian   \n",
       "98      Mahmoud Walid Mahmoud 'Abd al-Jawad    2023-05-11  25.0  Palestinian   \n",
       "...                                     ...           ...   ...          ...   \n",
       "11115                            Hanan Levy    2000-11-02  33.0      Israeli   \n",
       "11116                    Eish Kodesh Gilmor    2000-10-30  25.0      Israeli   \n",
       "11118                        Marik Gavrilov    2000-10-27  25.0      Israeli   \n",
       "11119                      Binyamin Herling    2000-10-19  64.0      Israeli   \n",
       "11121                      Hillel Lieberman    2000-10-07  36.0      Israeli   \n",
       "\n",
       "       event_location event_location_district event_location_region  \\\n",
       "6           Gaza City                    Gaza            Gaza Strip   \n",
       "94          Gaza City                    Gaza            Gaza Strip   \n",
       "95          Gaza City                    Gaza            Gaza Strip   \n",
       "96         Khan Yunis              Khan Yunis            Gaza Strip   \n",
       "98         Khan Yunis              Khan Yunis            Gaza Strip   \n",
       "...               ...                     ...                   ...   \n",
       "11115       Jerusalem                  Israel                Israel   \n",
       "11116  East Jerusalem          East Jerusalem             West Bank   \n",
       "11118        Ramallah    Ramallah and al-Bira             West Bank   \n",
       "11119          Nablus                  Nablus             West Bank   \n",
       "11121          Nablus                  Nablus             West Bank   \n",
       "\n",
       "      date_of_death gender took_part_in_the_hostilities place_of_residence  \\\n",
       "6        2023-09-19      M                           No         Khan Yunis   \n",
       "94       2023-05-12      M                          Yes      a-Shati' Camp   \n",
       "95       2023-05-12      M                          Yes      a-Shati' Camp   \n",
       "96       2023-05-11      M                          Yes         Khan Yunis   \n",
       "98       2023-05-11      M                          Yes              Rafah   \n",
       "...             ...    ...                          ...                ...   \n",
       "11115    2000-11-02      M                     Israelis          Jerusalem   \n",
       "11116    2000-10-30      M                     Israelis       Mevo Modi'im   \n",
       "11118    2000-10-27      M                     Israelis        Banei Ayish   \n",
       "11119    2000-10-19      M                     Israelis            Kedumim   \n",
       "11121    2000-10-07      M                     Israelis         Elon Moreh   \n",
       "\n",
       "      place_of_residence_district type_of_injury       ammunition  \\\n",
       "6                      Khan Yunis        gunfire  live ammunition   \n",
       "94                           Gaza        gunfire          missile   \n",
       "95                           Gaza        gunfire          missile   \n",
       "96                     Khan Yunis        gunfire          missile   \n",
       "98                          Rafah        gunfire          missile   \n",
       "...                           ...            ...              ...   \n",
       "11115                      Israel      explosion         car bomb   \n",
       "11116                      Israel        gunfire  live ammunition   \n",
       "11118                      Israel        gunfire  live ammunition   \n",
       "11119                     Tulkarm        gunfire  live ammunition   \n",
       "11121                      Nablus        gunfire  live ammunition   \n",
       "\n",
       "                     killed_by  \\\n",
       "6      Israeli security forces   \n",
       "94     Israeli security forces   \n",
       "95     Israeli security forces   \n",
       "96     Israeli security forces   \n",
       "98     Israeli security forces   \n",
       "...                        ...   \n",
       "11115    Palestinian civilians   \n",
       "11116    Palestinian civilians   \n",
       "11118    Palestinian civilians   \n",
       "11119    Palestinian civilians   \n",
       "11121    Palestinian civilians   \n",
       "\n",
       "                                                   notes  \n",
       "6      Fatally shot by soldiers while participating i...  \n",
       "94     Senior Islamic Jihad military wing operative. ...  \n",
       "95     Killed together with another Islamic Jihad mil...  \n",
       "96     Senior Islamic Jihad military wing operative. ...  \n",
       "98     Killed together with two of his uncles, one of...  \n",
       "...                                                  ...  \n",
       "11115  killed in a booby-trapped car near the Mahane ...  \n",
       "11116  Killed while he was guarding a National Insura...  \n",
       "11118               His body was found burnt in his car.  \n",
       "11119                  Killed while hiking on Mt. Eival.  \n",
       "11121     His body was found a day after he disappeared.  \n",
       "\n",
       "[4661 rows x 16 columns]"
      ]
     },
     "execution_count": 21,
     "metadata": {},
     "output_type": "execute_result"
    }
   ],
   "source": [
    "conflict.dropna()"
   ]
  },
  {
   "cell_type": "markdown",
   "metadata": {},
   "source": [
    "CHECKING THE UNIQUE VALUES IN THE DATASET"
   ]
  },
  {
   "cell_type": "code",
   "execution_count": 22,
   "metadata": {},
   "outputs": [
    {
     "name": "stdout",
     "output_type": "stream",
     "text": [
      "name has 11083 unique values\n",
      "date_of_event has 2405 unique values\n",
      "age has 95 unique values\n",
      "citizenship has 4 unique values\n",
      "event_location has 494 unique values\n",
      "event_location_district has 20 unique values\n",
      "event_location_region has 3 unique values\n",
      "date_of_death has 2593 unique values\n",
      "gender has 2 unique values\n",
      "took_part_in_the_hostilities has 5 unique values\n",
      "place_of_residence has 580 unique values\n",
      "place_of_residence_district has 20 unique values\n",
      "type_of_injury has 13 unique values\n",
      "ammunition has 21 unique values\n",
      "killed_by has 3 unique values\n",
      "notes has 6744 unique values\n"
     ]
    }
   ],
   "source": [
    "for col in conflict.columns:\n",
    "    unique_values = conflict[col].nunique()\n",
    "    print(f\"{col} has {unique_values} unique values\")  "
   ]
  },
  {
   "cell_type": "markdown",
   "metadata": {},
   "source": [
    "CHECKING THE DATATYPES IN THE DATASET"
   ]
  },
  {
   "cell_type": "code",
   "execution_count": 23,
   "metadata": {},
   "outputs": [
    {
     "name": "stdout",
     "output_type": "stream",
     "text": [
      "<class 'pandas.core.frame.DataFrame'>\n",
      "Int64Index: 11117 entries, 0 to 11123\n",
      "Data columns (total 16 columns):\n",
      " #   Column                        Non-Null Count  Dtype         \n",
      "---  ------                        --------------  -----         \n",
      " 0   name                          11117 non-null  object        \n",
      " 1   date_of_event                 11117 non-null  datetime64[ns]\n",
      " 2   age                           10995 non-null  float64       \n",
      " 3   citizenship                   11117 non-null  object        \n",
      " 4   event_location                11117 non-null  object        \n",
      " 5   event_location_district       11117 non-null  object        \n",
      " 6   event_location_region         11117 non-null  object        \n",
      " 7   date_of_death                 11117 non-null  datetime64[ns]\n",
      " 8   gender                        11103 non-null  object        \n",
      " 9   took_part_in_the_hostilities  9687 non-null   object        \n",
      " 10  place_of_residence            11056 non-null  object        \n",
      " 11  place_of_residence_district   11056 non-null  object        \n",
      " 12  type_of_injury                10827 non-null  object        \n",
      " 13  ammunition                    5871 non-null   object        \n",
      " 14  killed_by                     11117 non-null  object        \n",
      " 15  notes                         10840 non-null  object        \n",
      "dtypes: datetime64[ns](2), float64(1), object(13)\n",
      "memory usage: 1.4+ MB\n"
     ]
    }
   ],
   "source": [
    "conflict.info()"
   ]
  },
  {
   "cell_type": "markdown",
   "metadata": {},
   "source": [
    "CHANGING THE DATE DATATYPES TO THE CORRECT DATATYPE\n",
    "\n",
    "###### The date_of_event datatype will be updated from 'object' to 'datetime' datatype\n",
    "###### The date_of_death datatype will be updated from 'object' to 'datetime datatype"
   ]
  },
  {
   "cell_type": "code",
   "execution_count": 17,
   "metadata": {},
   "outputs": [],
   "source": [
    "conflict[\"date_of_event\"] = pd.to_datetime(conflict[\"date_of_event\"])\n",
    "conflict[\"date_of_death\"] = pd.to_datetime(conflict[\"date_of_death\"])"
   ]
  },
  {
   "cell_type": "markdown",
   "metadata": {},
   "source": [
    "CHECKING THAT THE DATATYPES HAVE BEEN UPDATED"
   ]
  },
  {
   "cell_type": "code",
   "execution_count": 18,
   "metadata": {},
   "outputs": [
    {
     "name": "stdout",
     "output_type": "stream",
     "text": [
      "<class 'pandas.core.frame.DataFrame'>\n",
      "Int64Index: 11117 entries, 0 to 11123\n",
      "Data columns (total 16 columns):\n",
      " #   Column                        Non-Null Count  Dtype         \n",
      "---  ------                        --------------  -----         \n",
      " 0   name                          11117 non-null  object        \n",
      " 1   date_of_event                 11117 non-null  datetime64[ns]\n",
      " 2   age                           10995 non-null  float64       \n",
      " 3   citizenship                   11117 non-null  object        \n",
      " 4   event_location                11117 non-null  object        \n",
      " 5   event_location_district       11117 non-null  object        \n",
      " 6   event_location_region         11117 non-null  object        \n",
      " 7   date_of_death                 11117 non-null  datetime64[ns]\n",
      " 8   gender                        11103 non-null  object        \n",
      " 9   took_part_in_the_hostilities  9687 non-null   object        \n",
      " 10  place_of_residence            11056 non-null  object        \n",
      " 11  place_of_residence_district   11056 non-null  object        \n",
      " 12  type_of_injury                10827 non-null  object        \n",
      " 13  ammunition                    5871 non-null   object        \n",
      " 14  killed_by                     11117 non-null  object        \n",
      " 15  notes                         10840 non-null  object        \n",
      "dtypes: datetime64[ns](2), float64(1), object(13)\n",
      "memory usage: 1.4+ MB\n"
     ]
    }
   ],
   "source": [
    "conflict.info()"
   ]
  },
  {
   "cell_type": "markdown",
   "metadata": {},
   "source": [
    "CHECKING STATISTICAL INFORMATION ON NUMERICAL DATA"
   ]
  },
  {
   "cell_type": "code",
   "execution_count": 19,
   "metadata": {},
   "outputs": [
    {
     "data": {
      "text/html": [
       "<div>\n",
       "<style scoped>\n",
       "    .dataframe tbody tr th:only-of-type {\n",
       "        vertical-align: middle;\n",
       "    }\n",
       "\n",
       "    .dataframe tbody tr th {\n",
       "        vertical-align: top;\n",
       "    }\n",
       "\n",
       "    .dataframe thead th {\n",
       "        text-align: right;\n",
       "    }\n",
       "</style>\n",
       "<table border=\"1\" class=\"dataframe\">\n",
       "  <thead>\n",
       "    <tr style=\"text-align: right;\">\n",
       "      <th></th>\n",
       "      <th>age</th>\n",
       "    </tr>\n",
       "  </thead>\n",
       "  <tbody>\n",
       "    <tr>\n",
       "      <th>count</th>\n",
       "      <td>10995.000000</td>\n",
       "    </tr>\n",
       "    <tr>\n",
       "      <th>mean</th>\n",
       "      <td>26.745703</td>\n",
       "    </tr>\n",
       "    <tr>\n",
       "      <th>std</th>\n",
       "      <td>13.780548</td>\n",
       "    </tr>\n",
       "    <tr>\n",
       "      <th>min</th>\n",
       "      <td>1.000000</td>\n",
       "    </tr>\n",
       "    <tr>\n",
       "      <th>25%</th>\n",
       "      <td>19.000000</td>\n",
       "    </tr>\n",
       "    <tr>\n",
       "      <th>50%</th>\n",
       "      <td>23.000000</td>\n",
       "    </tr>\n",
       "    <tr>\n",
       "      <th>75%</th>\n",
       "      <td>31.000000</td>\n",
       "    </tr>\n",
       "    <tr>\n",
       "      <th>max</th>\n",
       "      <td>112.000000</td>\n",
       "    </tr>\n",
       "  </tbody>\n",
       "</table>\n",
       "</div>"
      ],
      "text/plain": [
       "                age\n",
       "count  10995.000000\n",
       "mean      26.745703\n",
       "std       13.780548\n",
       "min        1.000000\n",
       "25%       19.000000\n",
       "50%       23.000000\n",
       "75%       31.000000\n",
       "max      112.000000"
      ]
     },
     "execution_count": 19,
     "metadata": {},
     "output_type": "execute_result"
    }
   ],
   "source": [
    "conflict.describe()"
   ]
  },
  {
   "cell_type": "markdown",
   "metadata": {},
   "source": [
    "CHECKING STATISTICAL INFORMATION ON NON NUMERICAL DATA"
   ]
  },
  {
   "cell_type": "code",
   "execution_count": 20,
   "metadata": {},
   "outputs": [
    {
     "data": {
      "text/html": [
       "<div>\n",
       "<style scoped>\n",
       "    .dataframe tbody tr th:only-of-type {\n",
       "        vertical-align: middle;\n",
       "    }\n",
       "\n",
       "    .dataframe tbody tr th {\n",
       "        vertical-align: top;\n",
       "    }\n",
       "\n",
       "    .dataframe thead th {\n",
       "        text-align: right;\n",
       "    }\n",
       "</style>\n",
       "<table border=\"1\" class=\"dataframe\">\n",
       "  <thead>\n",
       "    <tr style=\"text-align: right;\">\n",
       "      <th></th>\n",
       "      <th>name</th>\n",
       "      <th>citizenship</th>\n",
       "      <th>event_location</th>\n",
       "      <th>event_location_district</th>\n",
       "      <th>event_location_region</th>\n",
       "      <th>gender</th>\n",
       "      <th>took_part_in_the_hostilities</th>\n",
       "      <th>place_of_residence</th>\n",
       "      <th>place_of_residence_district</th>\n",
       "      <th>type_of_injury</th>\n",
       "      <th>ammunition</th>\n",
       "      <th>killed_by</th>\n",
       "      <th>notes</th>\n",
       "    </tr>\n",
       "  </thead>\n",
       "  <tbody>\n",
       "    <tr>\n",
       "      <th>count</th>\n",
       "      <td>11117</td>\n",
       "      <td>11117</td>\n",
       "      <td>11117</td>\n",
       "      <td>11117</td>\n",
       "      <td>11117</td>\n",
       "      <td>11103</td>\n",
       "      <td>9687</td>\n",
       "      <td>11056</td>\n",
       "      <td>11056</td>\n",
       "      <td>10827</td>\n",
       "      <td>5871</td>\n",
       "      <td>11117</td>\n",
       "      <td>10840</td>\n",
       "    </tr>\n",
       "    <tr>\n",
       "      <th>unique</th>\n",
       "      <td>11083</td>\n",
       "      <td>4</td>\n",
       "      <td>494</td>\n",
       "      <td>20</td>\n",
       "      <td>3</td>\n",
       "      <td>2</td>\n",
       "      <td>5</td>\n",
       "      <td>580</td>\n",
       "      <td>20</td>\n",
       "      <td>13</td>\n",
       "      <td>21</td>\n",
       "      <td>3</td>\n",
       "      <td>6744</td>\n",
       "    </tr>\n",
       "    <tr>\n",
       "      <th>top</th>\n",
       "      <td>Name unknown to B'Tselem</td>\n",
       "      <td>Palestinian</td>\n",
       "      <td>Gaza City</td>\n",
       "      <td>Gaza</td>\n",
       "      <td>Gaza Strip</td>\n",
       "      <td>M</td>\n",
       "      <td>No</td>\n",
       "      <td>Gaza city</td>\n",
       "      <td>Gaza</td>\n",
       "      <td>gunfire</td>\n",
       "      <td>missile</td>\n",
       "      <td>Israeli security forces</td>\n",
       "      <td>Killed during \"Operation Defensive Shield.\"</td>\n",
       "    </tr>\n",
       "    <tr>\n",
       "      <th>freq</th>\n",
       "      <td>16</td>\n",
       "      <td>10085</td>\n",
       "      <td>2232</td>\n",
       "      <td>2434</td>\n",
       "      <td>7731</td>\n",
       "      <td>9680</td>\n",
       "      <td>4653</td>\n",
       "      <td>2283</td>\n",
       "      <td>2453</td>\n",
       "      <td>9843</td>\n",
       "      <td>2877</td>\n",
       "      <td>9993</td>\n",
       "      <td>112</td>\n",
       "    </tr>\n",
       "  </tbody>\n",
       "</table>\n",
       "</div>"
      ],
      "text/plain": [
       "                            name  citizenship event_location  \\\n",
       "count                      11117        11117          11117   \n",
       "unique                     11083            4            494   \n",
       "top     Name unknown to B'Tselem  Palestinian      Gaza City   \n",
       "freq                          16        10085           2232   \n",
       "\n",
       "       event_location_district event_location_region gender  \\\n",
       "count                    11117                 11117  11103   \n",
       "unique                      20                     3      2   \n",
       "top                       Gaza            Gaza Strip      M   \n",
       "freq                      2434                  7731   9680   \n",
       "\n",
       "       took_part_in_the_hostilities place_of_residence  \\\n",
       "count                          9687              11056   \n",
       "unique                            5                580   \n",
       "top                              No          Gaza city   \n",
       "freq                           4653               2283   \n",
       "\n",
       "       place_of_residence_district type_of_injury ammunition  \\\n",
       "count                        11056          10827       5871   \n",
       "unique                          20             13         21   \n",
       "top                           Gaza        gunfire    missile   \n",
       "freq                          2453           9843       2877   \n",
       "\n",
       "                      killed_by                                        notes  \n",
       "count                     11117                                        10840  \n",
       "unique                        3                                         6744  \n",
       "top     Israeli security forces  Killed during \"Operation Defensive Shield.\"  \n",
       "freq                       9993                                          112  "
      ]
     },
     "execution_count": 20,
     "metadata": {},
     "output_type": "execute_result"
    }
   ],
   "source": [
    "conflict.describe(include=\"object\")  "
   ]
  },
  {
   "cell_type": "code",
   "execution_count": 42,
   "metadata": {},
   "outputs": [
    {
     "name": "stdout",
     "output_type": "stream",
     "text": [
      "<class 'pandas.core.frame.DataFrame'>\n",
      "Int64Index: 11117 entries, 0 to 11123\n",
      "Data columns (total 16 columns):\n",
      " #   Column                        Non-Null Count  Dtype  \n",
      "---  ------                        --------------  -----  \n",
      " 0   name                          11117 non-null  object \n",
      " 1   date_of_event                 11117 non-null  object \n",
      " 2   age                           10995 non-null  float64\n",
      " 3   citizenship                   11117 non-null  object \n",
      " 4   event_location                11117 non-null  object \n",
      " 5   event_location_district       11117 non-null  object \n",
      " 6   event_location_region         11117 non-null  object \n",
      " 7   date_of_death                 11117 non-null  object \n",
      " 8   gender                        11103 non-null  object \n",
      " 9   took_part_in_the_hostilities  9687 non-null   object \n",
      " 10  place_of_residence            11056 non-null  object \n",
      " 11  place_of_residence_district   11056 non-null  object \n",
      " 12  type_of_injury                10827 non-null  object \n",
      " 13  ammunition                    5871 non-null   object \n",
      " 14  killed_by                     11117 non-null  object \n",
      " 15  notes                         10840 non-null  object \n",
      "dtypes: float64(1), object(15)\n",
      "memory usage: 1.4+ MB\n"
     ]
    }
   ],
   "source": [
    "middle_east_conflict.info()"
   ]
  },
  {
   "cell_type": "code",
   "execution_count": 43,
   "metadata": {},
   "outputs": [],
   "source": [
    "middle_east_conflict[\"date_of_event\"] = pd.to_datetime(middle_east_conflict[\"date_of_event\"])"
   ]
  },
  {
   "cell_type": "code",
   "execution_count": 44,
   "metadata": {},
   "outputs": [
    {
     "name": "stdout",
     "output_type": "stream",
     "text": [
      "<class 'pandas.core.frame.DataFrame'>\n",
      "Int64Index: 11117 entries, 0 to 11123\n",
      "Data columns (total 16 columns):\n",
      " #   Column                        Non-Null Count  Dtype         \n",
      "---  ------                        --------------  -----         \n",
      " 0   name                          11117 non-null  object        \n",
      " 1   date_of_event                 11117 non-null  datetime64[ns]\n",
      " 2   age                           10995 non-null  float64       \n",
      " 3   citizenship                   11117 non-null  object        \n",
      " 4   event_location                11117 non-null  object        \n",
      " 5   event_location_district       11117 non-null  object        \n",
      " 6   event_location_region         11117 non-null  object        \n",
      " 7   date_of_death                 11117 non-null  object        \n",
      " 8   gender                        11103 non-null  object        \n",
      " 9   took_part_in_the_hostilities  9687 non-null   object        \n",
      " 10  place_of_residence            11056 non-null  object        \n",
      " 11  place_of_residence_district   11056 non-null  object        \n",
      " 12  type_of_injury                10827 non-null  object        \n",
      " 13  ammunition                    5871 non-null   object        \n",
      " 14  killed_by                     11117 non-null  object        \n",
      " 15  notes                         10840 non-null  object        \n",
      "dtypes: datetime64[ns](1), float64(1), object(14)\n",
      "memory usage: 1.4+ MB\n"
     ]
    }
   ],
   "source": [
    "middle_east_conflict.info()"
   ]
  },
  {
   "cell_type": "code",
   "execution_count": 45,
   "metadata": {},
   "outputs": [],
   "source": [
    "middle_east_conflict[\"date_of_death\"] = pd.to_datetime(middle_east_conflict[\"date_of_death\"])"
   ]
  },
  {
   "cell_type": "code",
   "execution_count": 46,
   "metadata": {},
   "outputs": [
    {
     "name": "stdout",
     "output_type": "stream",
     "text": [
      "<class 'pandas.core.frame.DataFrame'>\n",
      "Int64Index: 11117 entries, 0 to 11123\n",
      "Data columns (total 16 columns):\n",
      " #   Column                        Non-Null Count  Dtype         \n",
      "---  ------                        --------------  -----         \n",
      " 0   name                          11117 non-null  object        \n",
      " 1   date_of_event                 11117 non-null  datetime64[ns]\n",
      " 2   age                           10995 non-null  float64       \n",
      " 3   citizenship                   11117 non-null  object        \n",
      " 4   event_location                11117 non-null  object        \n",
      " 5   event_location_district       11117 non-null  object        \n",
      " 6   event_location_region         11117 non-null  object        \n",
      " 7   date_of_death                 11117 non-null  datetime64[ns]\n",
      " 8   gender                        11103 non-null  object        \n",
      " 9   took_part_in_the_hostilities  9687 non-null   object        \n",
      " 10  place_of_residence            11056 non-null  object        \n",
      " 11  place_of_residence_district   11056 non-null  object        \n",
      " 12  type_of_injury                10827 non-null  object        \n",
      " 13  ammunition                    5871 non-null   object        \n",
      " 14  killed_by                     11117 non-null  object        \n",
      " 15  notes                         10840 non-null  object        \n",
      "dtypes: datetime64[ns](2), float64(1), object(13)\n",
      "memory usage: 1.4+ MB\n"
     ]
    }
   ],
   "source": [
    "middle_east_conflict.info()"
   ]
  },
  {
   "cell_type": "markdown",
   "metadata": {},
   "source": [
    "EXTRACTING THE YEAR FROM DATETIME COLUMNS"
   ]
  },
  {
   "cell_type": "code",
   "execution_count": 24,
   "metadata": {},
   "outputs": [
    {
     "data": {
      "text/plain": [
       "0        2023\n",
       "1        2023\n",
       "2        2023\n",
       "3        2023\n",
       "4        2023\n",
       "         ... \n",
       "11119    2000\n",
       "11120    2000\n",
       "11121    2000\n",
       "11122    2000\n",
       "11123    2000\n",
       "Name: date_of_death, Length: 11117, dtype: int64"
      ]
     },
     "execution_count": 24,
     "metadata": {},
     "output_type": "execute_result"
    }
   ],
   "source": [
    "conflict[\"date_of_death\"].dt.year"
   ]
  },
  {
   "cell_type": "markdown",
   "metadata": {},
   "source": [
    "EXTRACTING THE MONTH AND DAY FROM DATETIME AND ASSIGNING THE OUTCOME TO NEW COLUMNS"
   ]
  },
  {
   "cell_type": "code",
   "execution_count": 28,
   "metadata": {},
   "outputs": [
    {
     "data": {
      "text/plain": [
       "0         9\n",
       "1         9\n",
       "2         9\n",
       "3         9\n",
       "4         9\n",
       "         ..\n",
       "11119    10\n",
       "11120    10\n",
       "11121    10\n",
       "11122    10\n",
       "11123    10\n",
       "Name: month_of_event, Length: 11117, dtype: int64"
      ]
     },
     "execution_count": 28,
     "metadata": {},
     "output_type": "execute_result"
    }
   ],
   "source": [
    "conflict[\"month_of_event\"] = conflict[\"date_of_event\"].dt.month\n",
    "conflict[\"month_of_event\"]"
   ]
  },
  {
   "cell_type": "code",
   "execution_count": 29,
   "metadata": {},
   "outputs": [
    {
     "data": {
      "text/plain": [
       "0         9\n",
       "1         9\n",
       "2         9\n",
       "3         9\n",
       "4         9\n",
       "         ..\n",
       "11119    10\n",
       "11120    10\n",
       "11121    10\n",
       "11122    10\n",
       "11123    10\n",
       "Name: month_of_death, Length: 11117, dtype: int64"
      ]
     },
     "execution_count": 29,
     "metadata": {},
     "output_type": "execute_result"
    }
   ],
   "source": [
    "conflict[\"month_of_death\"] = conflict[\"date_of_death\"].dt.month\n",
    "conflict[\"month_of_death\"]"
   ]
  },
  {
   "cell_type": "code",
   "execution_count": 30,
   "metadata": {},
   "outputs": [
    {
     "data": {
      "text/plain": [
       "0           Sunday\n",
       "1           Sunday\n",
       "2           Friday\n",
       "3        Wednesday\n",
       "4          Tuesday\n",
       "           ...    \n",
       "11119     Thursday\n",
       "11120      Tuesday\n",
       "11121     Saturday\n",
       "11122     Saturday\n",
       "11123       Monday\n",
       "Name: day_of_event, Length: 11117, dtype: object"
      ]
     },
     "execution_count": 30,
     "metadata": {},
     "output_type": "execute_result"
    }
   ],
   "source": [
    "conflict[\"day_of_event\"] = conflict[\"date_of_event\"].dt.day_name()\n",
    "conflict[\"day_of_event\"]"
   ]
  },
  {
   "cell_type": "code",
   "execution_count": 31,
   "metadata": {},
   "outputs": [
    {
     "data": {
      "text/plain": [
       "0           Sunday\n",
       "1           Sunday\n",
       "2           Friday\n",
       "3        Wednesday\n",
       "4          Tuesday\n",
       "           ...    \n",
       "11119     Thursday\n",
       "11120      Tuesday\n",
       "11121     Saturday\n",
       "11122     Saturday\n",
       "11123       Monday\n",
       "Name: day_of_death, Length: 11117, dtype: object"
      ]
     },
     "execution_count": 31,
     "metadata": {},
     "output_type": "execute_result"
    }
   ],
   "source": [
    "conflict[\"day_of_death\"] = conflict[\"date_of_death\"].dt.day_name()\n",
    "conflict[\"day_of_death\"]"
   ]
  },
  {
   "cell_type": "markdown",
   "metadata": {},
   "source": [
    "VERIFYING THAT NEW COLUMNS HAVE BEEN ADDED TO DATAFRAME"
   ]
  },
  {
   "cell_type": "code",
   "execution_count": 33,
   "metadata": {},
   "outputs": [
    {
     "data": {
      "text/plain": [
       "Index(['name', 'date_of_event', 'age', 'citizenship', 'event_location',\n",
       "       'event_location_district', 'event_location_region', 'date_of_death',\n",
       "       'gender', 'took_part_in_the_hostilities', 'place_of_residence',\n",
       "       'place_of_residence_district', 'type_of_injury', 'ammunition',\n",
       "       'killed_by', 'notes', 'month_of_event', 'month_of_death',\n",
       "       'day_of_event', 'day_of_death'],\n",
       "      dtype='object')"
      ]
     },
     "execution_count": 33,
     "metadata": {},
     "output_type": "execute_result"
    }
   ],
   "source": [
    "conflict.columns"
   ]
  },
  {
   "cell_type": "markdown",
   "metadata": {},
   "source": [
    "## PERFORMING ANALYSIS "
   ]
  },
  {
   "cell_type": "markdown",
   "metadata": {},
   "source": [
    "Age of the oldest victim"
   ]
  },
  {
   "cell_type": "code",
   "execution_count": 52,
   "metadata": {},
   "outputs": [
    {
     "name": "stdout",
     "output_type": "stream",
     "text": [
      "The age of the oldest victim is 112 years old\n"
     ]
    }
   ],
   "source": [
    "oldest_victim = int(conflict[\"age\"].max())\n",
    "print(f\"The age of the oldest victim is {oldest_victim} years old\")"
   ]
  },
  {
   "cell_type": "markdown",
   "metadata": {},
   "source": [
    "Age of the youngest victim"
   ]
  },
  {
   "cell_type": "code",
   "execution_count": 54,
   "metadata": {},
   "outputs": [
    {
     "name": "stdout",
     "output_type": "stream",
     "text": [
      "The age of the youngest victim is 1 years old\n"
     ]
    }
   ],
   "source": [
    "youngest_victim = int(conflict[\"age\"].min())\n",
    "print(f\"The age of the youngest victim is {youngest_victim} years old\")"
   ]
  },
  {
   "cell_type": "markdown",
   "metadata": {},
   "source": [
    "Avg age of victim"
   ]
  },
  {
   "cell_type": "code",
   "execution_count": 55,
   "metadata": {},
   "outputs": [
    {
     "name": "stdout",
     "output_type": "stream",
     "text": [
      "The average age of the victims are 26 years old\n"
     ]
    }
   ],
   "source": [
    "avg_victim_age = int(conflict[\"age\"].mean())\n",
    "print(f\"The average age of the victims are {avg_victim_age} years old\")"
   ]
  },
  {
   "cell_type": "markdown",
   "metadata": {},
   "source": [
    "Count of victims by citizenship"
   ]
  },
  {
   "cell_type": "code",
   "execution_count": 135,
   "metadata": {},
   "outputs": [
    {
     "data": {
      "text/plain": [
       "citizenship\n",
       "American           1\n",
       "Israeli         1029\n",
       "Jordanian          2\n",
       "Palestinian    10085\n",
       "Name: citizenship, dtype: int64"
      ]
     },
     "execution_count": 135,
     "metadata": {},
     "output_type": "execute_result"
    }
   ],
   "source": [
    "citizenship_count = conflict.groupby(\"citizenship\")[\"citizenship\"].count()\n",
    "citizenship_count"
   ]
  },
  {
   "cell_type": "markdown",
   "metadata": {},
   "source": [
    "Age of oldest victim by citizenship"
   ]
  },
  {
   "cell_type": "code",
   "execution_count": 134,
   "metadata": {},
   "outputs": [
    {
     "data": {
      "text/plain": [
       "citizenship\n",
       "American        16.0\n",
       "Israeli         90.0\n",
       "Jordanian       40.0\n",
       "Palestinian    112.0\n",
       "Name: age, dtype: float64"
      ]
     },
     "execution_count": 134,
     "metadata": {},
     "output_type": "execute_result"
    }
   ],
   "source": [
    "oldest_victim_by_citizenship = conflict.groupby(\"citizenship\")[\"age\"].max()\n",
    "oldest_victim_by_citizenship "
   ]
  },
  {
   "cell_type": "markdown",
   "metadata": {},
   "source": [
    "Age of youngest victim by citizenship"
   ]
  },
  {
   "cell_type": "code",
   "execution_count": 133,
   "metadata": {},
   "outputs": [
    {
     "data": {
      "text/plain": [
       "citizenship\n",
       "American       16.0\n",
       "Israeli         1.0\n",
       "Jordanian      26.0\n",
       "Palestinian     1.0\n",
       "Name: age, dtype: float64"
      ]
     },
     "execution_count": 133,
     "metadata": {},
     "output_type": "execute_result"
    }
   ],
   "source": [
    "youngest_victim_by_citizenship = conflict.groupby(\"citizenship\")[\"age\"].min()\n",
    "youngest_victim_by_citizenship"
   ]
  },
  {
   "cell_type": "markdown",
   "metadata": {},
   "source": [
    "Avg age of victim by citizenship"
   ]
  },
  {
   "cell_type": "code",
   "execution_count": 116,
   "metadata": {},
   "outputs": [
    {
     "name": "stdout",
     "output_type": "stream",
     "text": [
      "Avg age of victim by citizenship\n",
      "American       16.000000\n",
      "Israeli        35.858685\n",
      "Jordanian      33.000000\n",
      "Palestinian    25.814399\n",
      "Name: age, dtype: float64\n"
     ]
    }
   ],
   "source": [
    "avg_victim_age_by_citizenship = conflict.groupby(\"citizenship\")[\"age\"].mean()\n",
    "avg_victim_age_by_citizenship\n",
    "print(f\"Avg age of victim by {avg_victim_age_by_citizenship}\")"
   ]
  },
  {
   "cell_type": "markdown",
   "metadata": {},
   "source": [
    "Age of oldest victim by citizenship and gender"
   ]
  },
  {
   "cell_type": "code",
   "execution_count": 132,
   "metadata": {},
   "outputs": [
    {
     "data": {
      "text/plain": [
       "citizenship  gender\n",
       "American     M          16.0\n",
       "Israeli      F          90.0\n",
       "             M          88.0\n",
       "Jordanian    F          26.0\n",
       "             M          40.0\n",
       "Palestinian  F         112.0\n",
       "             M         101.0\n",
       "Name: age, dtype: float64"
      ]
     },
     "execution_count": 132,
     "metadata": {},
     "output_type": "execute_result"
    }
   ],
   "source": [
    "oldest_victim_by_citizenship_gender = conflict.groupby([\"citizenship\", \"gender\"])[\"age\"].max()\n",
    "oldest_victim_by_citizenship_gender"
   ]
  },
  {
   "cell_type": "markdown",
   "metadata": {},
   "source": [
    "Age of youngest victim by citizenship and gender"
   ]
  },
  {
   "cell_type": "code",
   "execution_count": 104,
   "metadata": {},
   "outputs": [
    {
     "data": {
      "text/plain": [
       "citizenship  gender\n",
       "American     M         16.0\n",
       "Israeli      F          1.0\n",
       "             M          1.0\n",
       "Jordanian    F         26.0\n",
       "             M         40.0\n",
       "Palestinian  F          1.0\n",
       "             M          1.0\n",
       "Name: age, dtype: float64"
      ]
     },
     "execution_count": 104,
     "metadata": {},
     "output_type": "execute_result"
    }
   ],
   "source": [
    "youngest_victim_by_citizenship_gender = conflict.groupby([\"citizenship\", \"gender\"])[\"age\"].min()\n",
    "youngest_victim_by_citizenship_gender"
   ]
  },
  {
   "cell_type": "markdown",
   "metadata": {},
   "source": [
    "Avg age of victim by citizenship and gender"
   ]
  },
  {
   "cell_type": "code",
   "execution_count": 105,
   "metadata": {},
   "outputs": [
    {
     "data": {
      "text/plain": [
       "citizenship  gender\n",
       "American     M         16.000000\n",
       "Israeli      F         37.670769\n",
       "             M         35.010086\n",
       "Jordanian    F         26.000000\n",
       "             M         40.000000\n",
       "Palestinian  F         27.908240\n",
       "             M         25.563279\n",
       "Name: age, dtype: float64"
      ]
     },
     "execution_count": 105,
     "metadata": {},
     "output_type": "execute_result"
    }
   ],
   "source": [
    "avg_victim_age_by_citizenship_gender = conflict.groupby([\"citizenship\", \"gender\"])[\"age\"].mean()\n",
    "avg_victim_age_by_citizenship_gender"
   ]
  },
  {
   "cell_type": "markdown",
   "metadata": {},
   "source": [
    "Count of victims by region and gender"
   ]
  },
  {
   "cell_type": "code",
   "execution_count": 199,
   "metadata": {},
   "outputs": [
    {
     "data": {
      "text/plain": [
       "event_location_region  gender\n",
       "Gaza Strip             M         6724\n",
       "                       F          997\n",
       "Israel                 M          439\n",
       "                       F          238\n",
       "West Bank              M         2517\n",
       "                       F          188\n",
       "Name: gender, dtype: int64"
      ]
     },
     "execution_count": 199,
     "metadata": {},
     "output_type": "execute_result"
    }
   ],
   "source": [
    "victim_count_by_region_gender = conflict.groupby([\"event_location_region\"])[\"gender\"].value_counts()\n",
    "victim_count_by_region_gender"
   ]
  },
  {
   "cell_type": "markdown",
   "metadata": {},
   "source": [
    "Count of victims by gender and type of injury"
   ]
  },
  {
   "cell_type": "code",
   "execution_count": 239,
   "metadata": {},
   "outputs": [
    {
     "data": {
      "text/plain": [
       "gender  type_of_injury              \n",
       "F       gunfire                         1132\n",
       "        explosion                        218\n",
       "        shelling                          20\n",
       "        stabbing                          14\n",
       "        hit by a vehicle                   4\n",
       "        house demolition                   4\n",
       "        Strangulation                      1\n",
       "        fire                               1\n",
       "        physical assault                   1\n",
       "        physically assaulted               1\n",
       "        stones throwing                    1\n",
       "M       gunfire                         8698\n",
       "        explosion                        337\n",
       "        shelling                         291\n",
       "        stabbing                          34\n",
       "        house demolition                  21\n",
       "        hit by a vehicle                  14\n",
       "        beating                            9\n",
       "        stones throwing                    5\n",
       "        being bludgeoned with an axe       4\n",
       "        fire                               3\n",
       "        physically assaulted               1\n",
       "Name: type_of_injury, dtype: int64"
      ]
     },
     "execution_count": 239,
     "metadata": {},
     "output_type": "execute_result"
    }
   ],
   "source": [
    "victims_by_gender_type_of_injury = conflict.groupby([\"gender\"])[\"type_of_injury\"].value_counts()\n",
    "victims_by_gender_type_of_injury"
   ]
  },
  {
   "cell_type": "markdown",
   "metadata": {},
   "source": [
    "Count of victims by region and type of injury"
   ]
  },
  {
   "cell_type": "code",
   "execution_count": 96,
   "metadata": {},
   "outputs": [
    {
     "data": {
      "text/plain": [
       "event_location_region  type_of_injury              \n",
       "Gaza Strip             gunfire                         7158\n",
       "                       shelling                         310\n",
       "                       explosion                         79\n",
       "                       house demolition                  16\n",
       "                       stabbing                           2\n",
       "Israel                 explosion                        422\n",
       "                       gunfire                          218\n",
       "                       stabbing                          16\n",
       "                       hit by a vehicle                   8\n",
       "                       being bludgeoned with an axe       2\n",
       "                       Strangulation                      1\n",
       "                       physical assault                   1\n",
       "West Bank              gunfire                         2467\n",
       "                       explosion                         54\n",
       "                       stabbing                          30\n",
       "                       hit by a vehicle                  10\n",
       "                       beating                            9\n",
       "                       house demolition                   9\n",
       "                       stones throwing                    6\n",
       "                       fire                               4\n",
       "                       being bludgeoned with an axe       2\n",
       "                       physically assaulted               2\n",
       "                       shelling                           1\n",
       "Name: type_of_injury, dtype: int64"
      ]
     },
     "execution_count": 96,
     "metadata": {},
     "output_type": "execute_result"
    }
   ],
   "source": [
    "conflict.groupby([\"event_location_region\"])[\"type_of_injury\"].value_counts()"
   ]
  },
  {
   "cell_type": "markdown",
   "metadata": {},
   "source": [
    "Count of groups that killed the most victims by region"
   ]
  },
  {
   "cell_type": "code",
   "execution_count": 213,
   "metadata": {},
   "outputs": [
    {
     "data": {
      "text/plain": [
       "event_location_region  killed_by              \n",
       "Gaza Strip             Israeli security forces    7541\n",
       "                       Palestinian civilians       186\n",
       "                       Israeli civilians             4\n",
       "Israel                 Palestinian civilians       550\n",
       "                       Israeli security forces     119\n",
       "                       Israeli civilians             9\n",
       "West Bank              Israeli security forces    2333\n",
       "                       Palestinian civilians       292\n",
       "                       Israeli civilians            83\n",
       "Name: killed_by, dtype: int64"
      ]
     },
     "execution_count": 213,
     "metadata": {},
     "output_type": "execute_result"
    }
   ],
   "source": [
    "victim_count_by_groups_region = conflict.groupby([\"event_location_region\"])[\"killed_by\"].value_counts()\n",
    "victim_count_by_groups_region"
   ]
  },
  {
   "cell_type": "markdown",
   "metadata": {},
   "source": [
    "Top injury types"
   ]
  },
  {
   "cell_type": "code",
   "execution_count": 141,
   "metadata": {},
   "outputs": [
    {
     "data": {
      "text/plain": [
       "gunfire                         9843\n",
       "explosion                        555\n",
       "shelling                         311\n",
       "stabbing                          48\n",
       "house demolition                  25\n",
       "hit by a vehicle                  18\n",
       "beating                            9\n",
       "stones throwing                    6\n",
       "being bludgeoned with an axe       4\n",
       "fire                               4\n",
       "physically assaulted               2\n",
       "physical assault                   1\n",
       "Strangulation                      1\n",
       "Name: type_of_injury, dtype: int64"
      ]
     },
     "execution_count": 141,
     "metadata": {},
     "output_type": "execute_result"
    }
   ],
   "source": [
    "top_injury_types = conflict[\"type_of_injury\"].value_counts()\n",
    "top_injury_types"
   ]
  },
  {
   "cell_type": "markdown",
   "metadata": {},
   "source": [
    "Type of injury by gender"
   ]
  },
  {
   "cell_type": "code",
   "execution_count": 152,
   "metadata": {},
   "outputs": [
    {
     "data": {
      "text/plain": [
       "gender  type_of_injury              \n",
       "M       gunfire                         8698\n",
       "F       gunfire                         1132\n",
       "M       explosion                        337\n",
       "        shelling                         291\n",
       "F       explosion                        218\n",
       "M       stabbing                          34\n",
       "        house demolition                  21\n",
       "F       shelling                          20\n",
       "        stabbing                          14\n",
       "M       hit by a vehicle                  14\n",
       "        beating                            9\n",
       "        stones throwing                    5\n",
       "F       house demolition                   4\n",
       "        hit by a vehicle                   4\n",
       "M       being bludgeoned with an axe       4\n",
       "        fire                               3\n",
       "F       physical assault                   1\n",
       "        physically assaulted               1\n",
       "        stones throwing                    1\n",
       "        fire                               1\n",
       "        Strangulation                      1\n",
       "M       physically assaulted               1\n",
       "Name: type_of_injury, dtype: int64"
      ]
     },
     "execution_count": 152,
     "metadata": {},
     "output_type": "execute_result"
    }
   ],
   "source": [
    "most_injury_type_by_gender = conflict.groupby([\"gender\"])[\"type_of_injury\"].value_counts()\n",
    "most_injury_type_by_gender.sort_values(ascending=False)"
   ]
  },
  {
   "cell_type": "markdown",
   "metadata": {},
   "source": [
    "Highest years with victim casualties"
   ]
  },
  {
   "cell_type": "code",
   "execution_count": 250,
   "metadata": {},
   "outputs": [
    {
     "data": {
      "text/plain": [
       "2014    2326\n",
       "2002    1323\n",
       "2009    1059\n",
       "2004     922\n",
       "2008     900\n",
       "2003     731\n",
       "2006     681\n",
       "2007     400\n",
       "2001     345\n",
       "2021     324\n",
       "2018     301\n",
       "2012     262\n",
       "2023     250\n",
       "2005     240\n",
       "2022     205\n",
       "2015     179\n",
       "2019     146\n",
       "2011     130\n",
       "2016     116\n",
       "2010      89\n",
       "2017      80\n",
       "2013      42\n",
       "2000      35\n",
       "2020      31\n",
       "Name: date_of_death, dtype: int64"
      ]
     },
     "execution_count": 250,
     "metadata": {},
     "output_type": "execute_result"
    }
   ],
   "source": [
    "victims_years = conflict[\"date_of_death\"].dt.year.value_counts().sort_values(ascending=False)\n",
    "victims_years"
   ]
  },
  {
   "cell_type": "markdown",
   "metadata": {},
   "source": [
    "Count of victims per month"
   ]
  },
  {
   "cell_type": "code",
   "execution_count": 269,
   "metadata": {},
   "outputs": [
    {
     "data": {
      "text/plain": [
       "7     2123\n",
       "1     1461\n",
       "8     1113\n",
       "12     951\n",
       "5      919\n",
       "3      894\n",
       "11     771\n",
       "10     736\n",
       "4      662\n",
       "6      528\n",
       "2      489\n",
       "9      470\n",
       "Name: month_of_death, dtype: int64"
      ]
     },
     "execution_count": 269,
     "metadata": {},
     "output_type": "execute_result"
    }
   ],
   "source": [
    "victims_month = conflict[\"month_of_death\"].value_counts()\n",
    "victims_month"
   ]
  },
  {
   "cell_type": "markdown",
   "metadata": {},
   "source": [
    "Count of victims per month by gender"
   ]
  },
  {
   "cell_type": "code",
   "execution_count": 171,
   "metadata": {},
   "outputs": [
    {
     "data": {
      "text/plain": [
       "month_of_death  gender\n",
       "1               M         1238\n",
       "                F          223\n",
       "2               M          466\n",
       "                F           23\n",
       "3               M          801\n",
       "                F           91\n",
       "4               M          610\n",
       "                F           49\n",
       "5               M          790\n",
       "                F          124\n",
       "6               M          455\n",
       "                F           73\n",
       "7               M         1713\n",
       "                F          410\n",
       "8               M          912\n",
       "                F          201\n",
       "9               M          437\n",
       "                F           32\n",
       "10              M          672\n",
       "                F           63\n",
       "11              M          693\n",
       "                F           78\n",
       "12              M          893\n",
       "                F           56\n",
       "Name: gender, dtype: int64"
      ]
     },
     "execution_count": 171,
     "metadata": {},
     "output_type": "execute_result"
    }
   ],
   "source": [
    "highest_victim_by_month_gender = conflict.groupby([\"month_of_death\"])[\"gender\"].value_counts()\n",
    "highest_victim_by_month_gender"
   ]
  },
  {
   "cell_type": "markdown",
   "metadata": {},
   "source": [
    "Count of victims per month by gender and citizenship"
   ]
  },
  {
   "cell_type": "code",
   "execution_count": 172,
   "metadata": {},
   "outputs": [
    {
     "data": {
      "text/plain": [
       "month_of_death  citizenship  gender\n",
       "1               Israeli      M           63\n",
       "                             F           18\n",
       "                Palestinian  M         1175\n",
       "                             F          205\n",
       "2               American     M            1\n",
       "                Israeli      M           39\n",
       "                             F           15\n",
       "                Palestinian  M          426\n",
       "                             F            8\n",
       "3               Israeli      M          104\n",
       "                             F           49\n",
       "                Palestinian  M          697\n",
       "                             F           42\n",
       "4               Israeli      M           37\n",
       "                             F           14\n",
       "                Jordanian    M            1\n",
       "                Palestinian  M          572\n",
       "                             F           35\n",
       "5               Israeli      M           66\n",
       "                             F           32\n",
       "                Palestinian  M          724\n",
       "                             F           92\n",
       "6               Israeli      M           66\n",
       "                             F           49\n",
       "                Palestinian  M          389\n",
       "                             F           24\n",
       "7               Israeli      M           68\n",
       "                             F           19\n",
       "                Jordanian    F            1\n",
       "                Palestinian  M         1645\n",
       "                             F          390\n",
       "8               Israeli      M           52\n",
       "                             F           43\n",
       "                Palestinian  M          860\n",
       "                             F          158\n",
       "9               Israeli      M           35\n",
       "                             F           16\n",
       "                Palestinian  M          402\n",
       "                             F           16\n",
       "10              Israeli      M           53\n",
       "                             F           32\n",
       "                Palestinian  M          619\n",
       "                             F           31\n",
       "11              Israeli      M           62\n",
       "                             F           27\n",
       "                Palestinian  M          631\n",
       "                             F           51\n",
       "12              Israeli      M           53\n",
       "                             F           17\n",
       "                Palestinian  M          840\n",
       "                             F           39\n",
       "Name: gender, dtype: int64"
      ]
     },
     "execution_count": 172,
     "metadata": {},
     "output_type": "execute_result"
    }
   ],
   "source": [
    "conflict.groupby([\"month_of_death\", \"citizenship\"])[\"gender\"].value_counts()"
   ]
  },
  {
   "cell_type": "markdown",
   "metadata": {},
   "source": [
    "Count of victims per day"
   ]
  },
  {
   "cell_type": "code",
   "execution_count": 295,
   "metadata": {},
   "outputs": [
    {
     "data": {
      "text/plain": [
       "Thursday     1697\n",
       "Wednesday    1669\n",
       "Saturday     1658\n",
       "Tuesday      1607\n",
       "Friday       1554\n",
       "Sunday       1489\n",
       "Monday       1443\n",
       "Name: day_of_death, dtype: int64"
      ]
     },
     "execution_count": 295,
     "metadata": {},
     "output_type": "execute_result"
    }
   ],
   "source": [
    "victims_day = conflict[\"day_of_death\"].value_counts()\n",
    "victims_day"
   ]
  },
  {
   "cell_type": "markdown",
   "metadata": {},
   "source": [
    "Count of victims per day by gender"
   ]
  },
  {
   "cell_type": "code",
   "execution_count": 174,
   "metadata": {},
   "outputs": [
    {
     "data": {
      "text/plain": [
       "day_of_death  gender\n",
       "Friday        M         1380\n",
       "              F          173\n",
       "Monday        M         1268\n",
       "              F          170\n",
       "Saturday      M         1489\n",
       "              F          169\n",
       "Sunday        M         1235\n",
       "              F          251\n",
       "Thursday      M         1495\n",
       "              F          200\n",
       "Tuesday       M         1339\n",
       "              F          267\n",
       "Wednesday     M         1474\n",
       "              F          193\n",
       "Name: gender, dtype: int64"
      ]
     },
     "execution_count": 174,
     "metadata": {},
     "output_type": "execute_result"
    }
   ],
   "source": [
    "conflict.groupby([\"day_of_death\"])[\"gender\"].value_counts()"
   ]
  },
  {
   "cell_type": "markdown",
   "metadata": {},
   "source": [
    "Count of victims per day by gender and citizenship"
   ]
  },
  {
   "cell_type": "code",
   "execution_count": 175,
   "metadata": {},
   "outputs": [
    {
     "data": {
      "text/plain": [
       "day_of_death  citizenship  gender\n",
       "Friday        American     M            1\n",
       "              Israeli      M           81\n",
       "                           F           38\n",
       "              Palestinian  M         1298\n",
       "                           F          135\n",
       "Monday        Israeli      M           58\n",
       "                           F           27\n",
       "              Jordanian    F            1\n",
       "                           M            1\n",
       "              Palestinian  M         1209\n",
       "                           F          142\n",
       "Saturday      Israeli      M           81\n",
       "                           F           28\n",
       "              Palestinian  M         1408\n",
       "                           F          141\n",
       "Sunday        Israeli      M          128\n",
       "                           F           54\n",
       "              Palestinian  M         1107\n",
       "                           F          197\n",
       "Thursday      Israeli      M          129\n",
       "                           F           53\n",
       "              Palestinian  M         1366\n",
       "                           F          147\n",
       "Tuesday       Israeli      M          115\n",
       "                           F           75\n",
       "              Palestinian  M         1224\n",
       "                           F          192\n",
       "Wednesday     Israeli      M          106\n",
       "                           F           56\n",
       "              Palestinian  M         1368\n",
       "                           F          137\n",
       "Name: gender, dtype: int64"
      ]
     },
     "execution_count": 175,
     "metadata": {},
     "output_type": "execute_result"
    }
   ],
   "source": [
    "conflict.groupby([\"day_of_death\", \"citizenship\"])[\"gender\"].value_counts()"
   ]
  },
  {
   "cell_type": "markdown",
   "metadata": {},
   "source": [
    "## VISUALIZATIONS"
   ]
  },
  {
   "cell_type": "markdown",
   "metadata": {},
   "source": [
    "###### Percentage of Victims by Citizenship Pie Chart"
   ]
  },
  {
   "cell_type": "code",
   "execution_count": 265,
   "metadata": {},
   "outputs": [
    {
     "name": "stdout",
     "output_type": "stream",
     "text": [
      "This graph displays that the Palestinians have the highest percentage of victims by citizenship.\n"
     ]
    },
    {
     "data": {
      "image/png": "[encoded data removed]",
      "text/plain": [
       "<Figure size 640x480 with 1 Axes>"
      ]
     },
     "metadata": {},
     "output_type": "display_data"
    }
   ],
   "source": [
    "citizenship_count = conflict.groupby(\"citizenship\")[\"citizenship\"].count()\n",
    "citizenship_count.plot(kind=\"pie\", autopct=\"%1.1f%%\"),plt.title(\"Percentage of Victims by Citizenship\"), plt.ylabel(\"\"), plt.legend(loc=2)  \n",
    "print(\"This graph displays that the Palestinians have the highest percentage of victims by citizenship.\")"
   ]
  },
  {
   "cell_type": "markdown",
   "metadata": {},
   "source": [
    "###### Average Age of Victims by Citizenship Bar Chart"
   ]
  },
  {
   "cell_type": "code",
   "execution_count": 266,
   "metadata": {},
   "outputs": [
    {
     "name": "stdout",
     "output_type": "stream",
     "text": [
      "This bar graph is the representation of the average ages of victims, with the Israelis having the highest average age of victims around 35 years old.\n"
     ]
    },
    {
     "data": {
      "image/png": "[encoded data removed]",
      "text/plain": [
       "<Figure size 640x480 with 1 Axes>"
      ]
     },
     "metadata": {},
     "output_type": "display_data"
    }
   ],
   "source": [
    "avg_victim_age_by_citizenship = conflict.groupby(\"citizenship\")[\"age\"].mean()\n",
    "c = [\"yellow\", \"orange\", \"green\", \"blue\"]\n",
    "avg_victim_age_by_citizenship.plot(kind=\"bar\", color=c, rot=45),\n",
    "plt.title(\"Avg Age of Victims by Citizenship\"),\n",
    "plt.xlabel(\"\")\n",
    "print(\"This bar graph is the representation of the average ages of victims, with the Israelis having the highest average age of victims around 35 years old.\")"
   ]
  },
  {
   "cell_type": "markdown",
   "metadata": {},
   "source": [
    "###### Average Age of Victims by Citizenship and Gender Bar Chart"
   ]
  },
  {
   "cell_type": "code",
   "execution_count": 267,
   "metadata": {},
   "outputs": [
    {
     "name": "stdout",
     "output_type": "stream",
     "text": [
      "This graph represents the average age of victims by citizenship and gender.\n"
     ]
    },
    {
     "data": {
      "image/png": "[encoded data removed]",
      "text/plain": [
       "<Figure size 640x480 with 1 Axes>"
      ]
     },
     "metadata": {},
     "output_type": "display_data"
    }
   ],
   "source": [
    "avg_victim_age_by_citizenship_gender = conflict.groupby([\"citizenship\", \"gender\"])[\"age\"].mean()\n",
    "c = [\"red\", \"blue\", \"blue\", \"yellow\", \"yellow\", \"green\", \"green\"]\n",
    "avg_victim_age_by_citizenship_gender.plot(kind=\"barh\", color=c),\n",
    "plt.title(\"Avg Age of Victims by Citizenship and Gender\"),\n",
    "plt.ylabel(\"\")\n",
    "print(\"This graph represents the average age of victims by citizenship and gender.\")"
   ]
  },
  {
   "cell_type": "markdown",
   "metadata": {},
   "source": [
    "###### Count of Victims by Region and Gender Bar Chart"
   ]
  },
  {
   "cell_type": "code",
   "execution_count": 263,
   "metadata": {},
   "outputs": [
    {
     "name": "stdout",
     "output_type": "stream",
     "text": [
      "According to the graph, males in all regions held the higher victim count.\n"
     ]
    },
    {
     "data": {
      "image/png": "[encoded data removed]",
      "text/plain": [
       "<Figure size 640x480 with 1 Axes>"
      ]
     },
     "metadata": {},
     "output_type": "display_data"
    }
   ],
   "source": [
    "victim_count_by_region_gender = conflict.groupby([\"event_location_region\"])[\"gender\"].value_counts()\n",
    "c = [\"red\", \"red\", \"orange\", \"orange\", \"green\", \"green\"]\n",
    "victim_count_by_region_gender.plot(kind=\"bar\", color=c),\n",
    "plt.title(\"Count of Victims by Region and Gender\"),\n",
    "plt.xlabel(\"\")\n",
    "print(\"According to the graph, males in all regions held the higher victim count.\")"
   ]
  },
  {
   "cell_type": "markdown",
   "metadata": {},
   "source": [
    "###### Count of Groups that killed the most Victims by Region Bar Chart"
   ]
  },
  {
   "cell_type": "code",
   "execution_count": 261,
   "metadata": {},
   "outputs": [
    {
     "name": "stdout",
     "output_type": "stream",
     "text": [
      "This graph represents the number of victims by region and group.\n",
      "It displays that Israeli Security Forces have killed more victims in the West Bank and in the Gaza Strip.\n",
      "While Palestinian Civilians have killed the most victims in Israel.\n"
     ]
    },
    {
     "data": {
      "image/png": "[encoded data removed]",
      "text/plain": [
       "<Figure size 640x480 with 1 Axes>"
      ]
     },
     "metadata": {},
     "output_type": "display_data"
    }
   ],
   "source": [
    "victim_count_by_groups_region = conflict.groupby([\"event_location_region\"])[\"killed_by\"].value_counts()\n",
    "c = [\"blue\", \"red\", \"yellow\", \"red\", \"blue\", \"yellow\", \"blue\", \"red\", \"yellow\"]\n",
    "victim_count_by_groups_region.plot(kind=\"bar\", color=c),\n",
    "plt.title(\"Count of Groups that Killed the most Victims by Region\"), \n",
    "plt.xlabel(\"\")\n",
    "print(\"This graph represents the number of victims by region and group.\")\n",
    "print(\"It displays that Israeli Security Forces have killed more victims in the West Bank and in the Gaza Strip.\") \n",
    "print(\"While Palestinian Civilians have killed the most victims in Israel.\")"
   ]
  },
  {
   "cell_type": "markdown",
   "metadata": {},
   "source": [
    "###### Top 5 Injury Types Bar Chart"
   ]
  },
  {
   "cell_type": "code",
   "execution_count": 262,
   "metadata": {},
   "outputs": [
    {
     "name": "stdout",
     "output_type": "stream",
     "text": [
      "This chart represents the number of deaths by injury type, with gunfire being the number 1 injury.\n"
     ]
    },
    {
     "data": {
      "image/png": "[encoded data removed]",
      "text/plain": [
       "<Figure size 640x480 with 1 Axes>"
      ]
     },
     "metadata": {},
     "output_type": "display_data"
    }
   ],
   "source": [
    "top_injury_types = conflict[\"type_of_injury\"].value_counts()[:5]\n",
    "top_injury_types.plot(kind=\"bar\", color=\"red\", rot=45),\n",
    "plt.title(\"Top 5 Injury Types\") \n",
    "print(\"This chart represents the number of deaths by injury type, with gunfire being the number 1 injury.\") "
   ]
  },
  {
   "cell_type": "markdown",
   "metadata": {},
   "source": [
    "###### Top 10 Years with the Highest Number of Victims Bar Chart"
   ]
  },
  {
   "cell_type": "code",
   "execution_count": 268,
   "metadata": {},
   "outputs": [
    {
     "name": "stdout",
     "output_type": "stream",
     "text": [
      "This graph represnets the last 10 years with the most number of victims, with the year 2022 proving to be the deadliest year.\n"
     ]
    },
    {
     "data": {
      "image/png": "[encoded data removed]",
      "text/plain": [
       "<Figure size 640x480 with 1 Axes>"
      ]
     },
     "metadata": {},
     "output_type": "display_data"
    }
   ],
   "source": [
    "victims_years = conflict[\"date_of_death\"].dt.year.value_counts().sort_values(ascending=True)\n",
    "victims_years[:10].plot(kind=\"barh\", color=\"orange\"),\n",
    "plt.title(\"Top 10 Years with the Highest Number of Victims\")\n",
    "print(\"This graph represnets the last 10 years with the most number of victims, with the year 2022 proving to be the deadliest year.\")"
   ]
  },
  {
   "cell_type": "markdown",
   "metadata": {},
   "source": [
    "###### Victim Count by Month Bar Chart"
   ]
  },
  {
   "cell_type": "code",
   "execution_count": 309,
   "metadata": {},
   "outputs": [
    {
     "name": "stdout",
     "output_type": "stream",
     "text": [
      "This graph displays the number of victims by month. The months of July has seen the higest victim count, while the months of September see the lowest victim count.\n"
     ]
    },
    {
     "data": {
      "image/png": "[encoded data removed]",
      "text/plain": [
       "<Figure size 640x480 with 1 Axes>"
      ]
     },
     "metadata": {},
     "output_type": "display_data"
    }
   ],
   "source": [
    "victims_month = conflict[\"month_of_death\"].value_counts()\n",
    "victims_month.sort_values(ascending=False).plot(kind=\"bar\", color=\"green\", rot=0),\n",
    "plt.title(\"Victim Count by Month\")\n",
    "print(\"This graph displays the number of victims by month. The months of July has seen the higest victim count, while the months of September see the lowest victim count.\")"
   ]
  },
  {
   "cell_type": "markdown",
   "metadata": {},
   "source": [
    "###### Victim Count by Month and Gender Bar Chart"
   ]
  },
  {
   "cell_type": "code",
   "execution_count": 315,
   "metadata": {},
   "outputs": [
    {
     "name": "stdout",
     "output_type": "stream",
     "text": [
      "This graph is a representation of the number of victims, male and female, by month.\n"
     ]
    },
    {
     "data": {
      "image/png": "[encoded data removed]",
      "text/plain": [
       "<Figure size 640x480 with 1 Axes>"
      ]
     },
     "metadata": {},
     "output_type": "display_data"
    }
   ],
   "source": [
    "highest_victim_by_month_gender = conflict.groupby([\"month_of_death\"])[\"gender\"].value_counts()\n",
    "c = [\"blue\", \"pink\"]\n",
    "highest_victim_by_month_gender.plot(kind=\"barh\", color=c),\n",
    "plt.title(\"Victim Count by Month and Gender\"),\n",
    "plt.ylabel(\"\")\n",
    "print(\"This graph is a representation of the number of victims, male and female, by month.\")"
   ]
  },
  {
   "cell_type": "markdown",
   "metadata": {},
   "source": [
    "###### Victim Count by Day Line Chart"
   ]
  },
  {
   "cell_type": "code",
   "execution_count": 310,
   "metadata": {},
   "outputs": [
    {
     "name": "stdout",
     "output_type": "stream",
     "text": [
      "This chart displays the number of victims by day, with Thursday's having the highest victim count and Monday's having the lowest.\n"
     ]
    },
    {
     "data": {
      "image/png": "[encoded data removed]",
      "text/plain": [
       "<Figure size 640x480 with 1 Axes>"
      ]
     },
     "metadata": {},
     "output_type": "display_data"
    }
   ],
   "source": [
    "victims_day = conflict[\"day_of_death\"].value_counts()\n",
    "victims_day.plot(color=\"red\", linestyle=\"--\", marker=\"o\", label=\"line with marker\"),\n",
    "plt.title(\"Victim Count by Day\")\n",
    "print(\"This chart displays the number of victims by day, with Thursday's having the highest victim count and Monday's having the lowest.\")"
   ]
  },
  {
   "cell_type": "markdown",
   "metadata": {},
   "source": [
    "###### Count of Victims per Day by Gender Bar Chart"
   ]
  },
  {
   "cell_type": "code",
   "execution_count": 314,
   "metadata": {},
   "outputs": [
    {
     "name": "stdout",
     "output_type": "stream",
     "text": [
      "This graph represents the number of male vs female victims by day. With males being victims more than half the time.\n"
     ]
    },
    {
     "data": {
      "image/png": "[encoded data removed]",
      "text/plain": [
       "<Figure size 640x480 with 1 Axes>"
      ]
     },
     "metadata": {},
     "output_type": "display_data"
    }
   ],
   "source": [
    "victims_day_gender = conflict.groupby([\"day_of_death\"])[\"gender\"].value_counts()\n",
    "c = [\"blue\", \"pink\"]\n",
    "victims_day_gender.plot(kind=\"barh\", color=c), \n",
    "plt.title(\"Count of Victims per Day by Gender\"),\n",
    "plt.ylabel(\"\")\n",
    "print(\"This graph represents the number of male vs female victims by day. With males being victims more than half the time.\") "
   ]
  }
 ],
 "metadata": {
  "kernelspec": {
   "display_name": "base",
   "language": "python",
   "name": "python3"
  },
  "language_info": {
   "codemirror_mode": {
    "name": "ipython",
    "version": 3
   },
   "file_extension": ".py",
   "mimetype": "text/x-python",
   "name": "python",
   "nbconvert_exporter": "python",
   "pygments_lexer": "ipython3",
   "version": "3.9.13"
  }
 },
 "nbformat": 4,
 "nbformat_minor": 2
}

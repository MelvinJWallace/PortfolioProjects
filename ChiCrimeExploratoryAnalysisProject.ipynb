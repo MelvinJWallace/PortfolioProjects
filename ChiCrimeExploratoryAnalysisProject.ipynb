{
 "cells": [
  {
   "cell_type": "markdown",
   "metadata": {},
   "source": [
    "IMPORTING LIBRARIES, PACKAGES, AND SETTING OPTIONS"
   ]
  },
  {
   "cell_type": "code",
   "execution_count": 1,
   "metadata": {},
   "outputs": [],
   "source": [
    "import numpy as np\n",
    "import pandas as pd\n",
    "pd.set_option(\"display.max_columns\", None)\n",
    "import matplotlib.pyplot as plt\n",
    "from matplotlib import style\n",
    "%matplotlib inline \n",
    "import seaborn as sns "
   ]
  },
  {
   "cell_type": "markdown",
   "metadata": {},
   "source": [
    "READING DATA INTO DATAFRAME\n",
    "\n",
    "###### INSPECTING  FIRST FEW ROWS OF DATA BEFORE ANALYSIS"
   ]
  },
  {
   "cell_type": "code",
   "execution_count": 2,
   "metadata": {},
   "outputs": [
    {
     "data": {
      "text/html": [
       "<div>\n",
       "<style scoped>\n",
       "    .dataframe tbody tr th:only-of-type {\n",
       "        vertical-align: middle;\n",
       "    }\n",
       "\n",
       "    .dataframe tbody tr th {\n",
       "        vertical-align: top;\n",
       "    }\n",
       "\n",
       "    .dataframe thead th {\n",
       "        text-align: right;\n",
       "    }\n",
       "</style>\n",
       "<table border=\"1\" class=\"dataframe\">\n",
       "  <thead>\n",
       "    <tr style=\"text-align: right;\">\n",
       "      <th></th>\n",
       "      <th>ID</th>\n",
       "      <th>Case_Number</th>\n",
       "      <th>Date</th>\n",
       "      <th>Day</th>\n",
       "      <th>Month</th>\n",
       "      <th>Year</th>\n",
       "      <th>Time</th>\n",
       "      <th>Block</th>\n",
       "      <th>IUCR</th>\n",
       "      <th>Primary_Type</th>\n",
       "      <th>Description</th>\n",
       "      <th>Location_Description</th>\n",
       "      <th>Arrest</th>\n",
       "      <th>Domestic</th>\n",
       "      <th>Beat</th>\n",
       "      <th>District</th>\n",
       "      <th>Ward</th>\n",
       "      <th>Community_Area</th>\n",
       "      <th>FBI_Code</th>\n",
       "      <th>X_Coordinate</th>\n",
       "      <th>Y_Coordinate</th>\n",
       "      <th>Year.1</th>\n",
       "      <th>Updated_On_Date</th>\n",
       "      <th>Updated_On_Time</th>\n",
       "      <th>Latitude</th>\n",
       "      <th>Longitude</th>\n",
       "      <th>Location</th>\n",
       "    </tr>\n",
       "  </thead>\n",
       "  <tbody>\n",
       "    <tr>\n",
       "      <th>0</th>\n",
       "      <td>11646166</td>\n",
       "      <td>JC213529</td>\n",
       "      <td>9/1/2018</td>\n",
       "      <td>Saturday</td>\n",
       "      <td>September</td>\n",
       "      <td>2018</td>\n",
       "      <td>12:01:00 AM</td>\n",
       "      <td>082XX S INGLESIDE AVE</td>\n",
       "      <td>810</td>\n",
       "      <td>THEFT</td>\n",
       "      <td>OVER $500</td>\n",
       "      <td>RESIDENCE</td>\n",
       "      <td>False</td>\n",
       "      <td>True</td>\n",
       "      <td>631</td>\n",
       "      <td>6.0</td>\n",
       "      <td>8.0</td>\n",
       "      <td>44.0</td>\n",
       "      <td>6</td>\n",
       "      <td>NaN</td>\n",
       "      <td>NaN</td>\n",
       "      <td>2018</td>\n",
       "      <td>4/6/2019</td>\n",
       "      <td>4:04:43 PM</td>\n",
       "      <td>NaN</td>\n",
       "      <td>NaN</td>\n",
       "      <td>NaN</td>\n",
       "    </tr>\n",
       "    <tr>\n",
       "      <th>1</th>\n",
       "      <td>11645836</td>\n",
       "      <td>JC212333</td>\n",
       "      <td>5/1/2016</td>\n",
       "      <td>Sunday</td>\n",
       "      <td>May</td>\n",
       "      <td>2016</td>\n",
       "      <td>12:25:00 AM</td>\n",
       "      <td>055XX S ROCKWELL ST</td>\n",
       "      <td>1153</td>\n",
       "      <td>DECEPTIVE PRACTICE</td>\n",
       "      <td>FINANCIAL IDENTITY THEFT OVER $ 300</td>\n",
       "      <td>NaN</td>\n",
       "      <td>False</td>\n",
       "      <td>False</td>\n",
       "      <td>824</td>\n",
       "      <td>8.0</td>\n",
       "      <td>15.0</td>\n",
       "      <td>63.0</td>\n",
       "      <td>11</td>\n",
       "      <td>NaN</td>\n",
       "      <td>NaN</td>\n",
       "      <td>2016</td>\n",
       "      <td>4/6/2019</td>\n",
       "      <td>4:04:43 PM</td>\n",
       "      <td>NaN</td>\n",
       "      <td>NaN</td>\n",
       "      <td>NaN</td>\n",
       "    </tr>\n",
       "    <tr>\n",
       "      <th>2</th>\n",
       "      <td>11449702</td>\n",
       "      <td>JB373031</td>\n",
       "      <td>7/31/2018</td>\n",
       "      <td>Tuesday</td>\n",
       "      <td>July</td>\n",
       "      <td>2018</td>\n",
       "      <td>1:30:00 PM</td>\n",
       "      <td>009XX E HYDE PARK BLVD</td>\n",
       "      <td>2024</td>\n",
       "      <td>NARCOTICS</td>\n",
       "      <td>POSS: HEROIN(WHITE)</td>\n",
       "      <td>STREET</td>\n",
       "      <td>True</td>\n",
       "      <td>False</td>\n",
       "      <td>233</td>\n",
       "      <td>2.0</td>\n",
       "      <td>5.0</td>\n",
       "      <td>41.0</td>\n",
       "      <td>18</td>\n",
       "      <td>NaN</td>\n",
       "      <td>NaN</td>\n",
       "      <td>2018</td>\n",
       "      <td>4/9/2019</td>\n",
       "      <td>4:24:58 PM</td>\n",
       "      <td>NaN</td>\n",
       "      <td>NaN</td>\n",
       "      <td>NaN</td>\n",
       "    </tr>\n",
       "  </tbody>\n",
       "</table>\n",
       "</div>"
      ],
      "text/plain": [
       "         ID Case_Number       Date       Day      Month  Year         Time  \\\n",
       "0  11646166    JC213529   9/1/2018  Saturday  September  2018  12:01:00 AM   \n",
       "1  11645836    JC212333   5/1/2016    Sunday        May  2016  12:25:00 AM   \n",
       "2  11449702    JB373031  7/31/2018   Tuesday       July  2018   1:30:00 PM   \n",
       "\n",
       "                    Block  IUCR        Primary_Type  \\\n",
       "0   082XX S INGLESIDE AVE   810               THEFT   \n",
       "1     055XX S ROCKWELL ST  1153  DECEPTIVE PRACTICE   \n",
       "2  009XX E HYDE PARK BLVD  2024           NARCOTICS   \n",
       "\n",
       "                           Description Location_Description  Arrest  Domestic  \\\n",
       "0                            OVER $500            RESIDENCE   False      True   \n",
       "1  FINANCIAL IDENTITY THEFT OVER $ 300                  NaN   False     False   \n",
       "2                  POSS: HEROIN(WHITE)               STREET    True     False   \n",
       "\n",
       "   Beat  District  Ward  Community_Area FBI_Code  X_Coordinate  Y_Coordinate  \\\n",
       "0   631       6.0   8.0            44.0        6           NaN           NaN   \n",
       "1   824       8.0  15.0            63.0       11           NaN           NaN   \n",
       "2   233       2.0   5.0            41.0       18           NaN           NaN   \n",
       "\n",
       "   Year.1 Updated_On_Date Updated_On_Time  Latitude  Longitude Location  \n",
       "0    2018        4/6/2019      4:04:43 PM       NaN        NaN      NaN  \n",
       "1    2016        4/6/2019      4:04:43 PM       NaN        NaN      NaN  \n",
       "2    2018        4/9/2019      4:24:58 PM       NaN        NaN      NaN  "
      ]
     },
     "execution_count": 2,
     "metadata": {},
     "output_type": "execute_result"
    }
   ],
   "source": [
    "chicago_crime_data = pd.read_csv(r\"C:\\Users\\mjaso\\OneDrive\\Excel Exploratory Analysis\\Crimes_2001_to_Present_Cleaned.csv\")\n",
    "chicago_crime_data.head(3)\n"
   ]
  },
  {
   "cell_type": "markdown",
   "metadata": {},
   "source": [
    "###### INSPECTING LAST FEW ROWS OF DATA"
   ]
  },
  {
   "cell_type": "code",
   "execution_count": 3,
   "metadata": {},
   "outputs": [
    {
     "data": {
      "text/html": [
       "<div>\n",
       "<style scoped>\n",
       "    .dataframe tbody tr th:only-of-type {\n",
       "        vertical-align: middle;\n",
       "    }\n",
       "\n",
       "    .dataframe tbody tr th {\n",
       "        vertical-align: top;\n",
       "    }\n",
       "\n",
       "    .dataframe thead th {\n",
       "        text-align: right;\n",
       "    }\n",
       "</style>\n",
       "<table border=\"1\" class=\"dataframe\">\n",
       "  <thead>\n",
       "    <tr style=\"text-align: right;\">\n",
       "      <th></th>\n",
       "      <th>ID</th>\n",
       "      <th>Case_Number</th>\n",
       "      <th>Date</th>\n",
       "      <th>Day</th>\n",
       "      <th>Month</th>\n",
       "      <th>Year</th>\n",
       "      <th>Time</th>\n",
       "      <th>Block</th>\n",
       "      <th>IUCR</th>\n",
       "      <th>Primary_Type</th>\n",
       "      <th>Description</th>\n",
       "      <th>Location_Description</th>\n",
       "      <th>Arrest</th>\n",
       "      <th>Domestic</th>\n",
       "      <th>Beat</th>\n",
       "      <th>District</th>\n",
       "      <th>Ward</th>\n",
       "      <th>Community_Area</th>\n",
       "      <th>FBI_Code</th>\n",
       "      <th>X_Coordinate</th>\n",
       "      <th>Y_Coordinate</th>\n",
       "      <th>Year.1</th>\n",
       "      <th>Updated_On_Date</th>\n",
       "      <th>Updated_On_Time</th>\n",
       "      <th>Latitude</th>\n",
       "      <th>Longitude</th>\n",
       "      <th>Location</th>\n",
       "    </tr>\n",
       "  </thead>\n",
       "  <tbody>\n",
       "    <tr>\n",
       "      <th>1048572</th>\n",
       "      <td>11197440</td>\n",
       "      <td>JB106749</td>\n",
       "      <td>1/6/2018</td>\n",
       "      <td>Saturday</td>\n",
       "      <td>January</td>\n",
       "      <td>2018</td>\n",
       "      <td>2:05:00 PM</td>\n",
       "      <td>021XX E 71ST ST</td>\n",
       "      <td>820</td>\n",
       "      <td>THEFT</td>\n",
       "      <td>$500 AND UNDER</td>\n",
       "      <td>SMALL RETAIL STORE</td>\n",
       "      <td>False</td>\n",
       "      <td>False</td>\n",
       "      <td>333</td>\n",
       "      <td>3.0</td>\n",
       "      <td>5.0</td>\n",
       "      <td>43.0</td>\n",
       "      <td>6</td>\n",
       "      <td>1191936.0</td>\n",
       "      <td>1858282.0</td>\n",
       "      <td>2018</td>\n",
       "      <td>5/4/2018</td>\n",
       "      <td>3:51:04 PM</td>\n",
       "      <td>41.766114</td>\n",
       "      <td>-87.572040</td>\n",
       "      <td>(41.766114415, -87.572039808)</td>\n",
       "    </tr>\n",
       "    <tr>\n",
       "      <th>1048573</th>\n",
       "      <td>11197441</td>\n",
       "      <td>JB106499</td>\n",
       "      <td>1/4/2018</td>\n",
       "      <td>Thursday</td>\n",
       "      <td>January</td>\n",
       "      <td>2018</td>\n",
       "      <td>9:00:00 PM</td>\n",
       "      <td>046XX S MICHIGAN AVE</td>\n",
       "      <td>320</td>\n",
       "      <td>ROBBERY</td>\n",
       "      <td>STRONGARM - NO WEAPON</td>\n",
       "      <td>STREET</td>\n",
       "      <td>False</td>\n",
       "      <td>False</td>\n",
       "      <td>215</td>\n",
       "      <td>2.0</td>\n",
       "      <td>3.0</td>\n",
       "      <td>38.0</td>\n",
       "      <td>3</td>\n",
       "      <td>1177936.0</td>\n",
       "      <td>1874296.0</td>\n",
       "      <td>2018</td>\n",
       "      <td>5/4/2018</td>\n",
       "      <td>3:51:04 PM</td>\n",
       "      <td>41.810387</td>\n",
       "      <td>-87.622869</td>\n",
       "      <td>(41.810386978, -87.622869212)</td>\n",
       "    </tr>\n",
       "    <tr>\n",
       "      <th>1048574</th>\n",
       "      <td>11197444</td>\n",
       "      <td>JB105771</td>\n",
       "      <td>1/5/2018</td>\n",
       "      <td>Friday</td>\n",
       "      <td>January</td>\n",
       "      <td>2018</td>\n",
       "      <td>10:00:00 AM</td>\n",
       "      <td>017XX W 18TH ST</td>\n",
       "      <td>890</td>\n",
       "      <td>THEFT</td>\n",
       "      <td>FROM BUILDING</td>\n",
       "      <td>MEDICAL/DENTAL OFFICE</td>\n",
       "      <td>False</td>\n",
       "      <td>False</td>\n",
       "      <td>1234</td>\n",
       "      <td>12.0</td>\n",
       "      <td>25.0</td>\n",
       "      <td>31.0</td>\n",
       "      <td>6</td>\n",
       "      <td>1165024.0</td>\n",
       "      <td>1891450.0</td>\n",
       "      <td>2018</td>\n",
       "      <td>5/4/2018</td>\n",
       "      <td>3:51:04 PM</td>\n",
       "      <td>41.857742</td>\n",
       "      <td>-87.669743</td>\n",
       "      <td>(41.857742484, -87.669742789)</td>\n",
       "    </tr>\n",
       "  </tbody>\n",
       "</table>\n",
       "</div>"
      ],
      "text/plain": [
       "               ID Case_Number      Date       Day    Month  Year         Time  \\\n",
       "1048572  11197440    JB106749  1/6/2018  Saturday  January  2018   2:05:00 PM   \n",
       "1048573  11197441    JB106499  1/4/2018  Thursday  January  2018   9:00:00 PM   \n",
       "1048574  11197444    JB105771  1/5/2018    Friday  January  2018  10:00:00 AM   \n",
       "\n",
       "                        Block IUCR Primary_Type            Description  \\\n",
       "1048572       021XX E 71ST ST  820        THEFT         $500 AND UNDER   \n",
       "1048573  046XX S MICHIGAN AVE  320      ROBBERY  STRONGARM - NO WEAPON   \n",
       "1048574       017XX W 18TH ST  890        THEFT          FROM BUILDING   \n",
       "\n",
       "          Location_Description  Arrest  Domestic  Beat  District  Ward  \\\n",
       "1048572     SMALL RETAIL STORE   False     False   333       3.0   5.0   \n",
       "1048573                 STREET   False     False   215       2.0   3.0   \n",
       "1048574  MEDICAL/DENTAL OFFICE   False     False  1234      12.0  25.0   \n",
       "\n",
       "         Community_Area FBI_Code  X_Coordinate  Y_Coordinate  Year.1  \\\n",
       "1048572            43.0        6     1191936.0     1858282.0    2018   \n",
       "1048573            38.0        3     1177936.0     1874296.0    2018   \n",
       "1048574            31.0        6     1165024.0     1891450.0    2018   \n",
       "\n",
       "        Updated_On_Date Updated_On_Time   Latitude  Longitude  \\\n",
       "1048572        5/4/2018      3:51:04 PM  41.766114 -87.572040   \n",
       "1048573        5/4/2018      3:51:04 PM  41.810387 -87.622869   \n",
       "1048574        5/4/2018      3:51:04 PM  41.857742 -87.669743   \n",
       "\n",
       "                              Location  \n",
       "1048572  (41.766114415, -87.572039808)  \n",
       "1048573  (41.810386978, -87.622869212)  \n",
       "1048574  (41.857742484, -87.669742789)  "
      ]
     },
     "execution_count": 3,
     "metadata": {},
     "output_type": "execute_result"
    }
   ],
   "source": [
    "chicago_crime_data.tail(3)"
   ]
  },
  {
   "cell_type": "markdown",
   "metadata": {},
   "source": [
    "###### TAKING A LOOK AT THE STATISTICAL COLUMNS OF DATA"
   ]
  },
  {
   "cell_type": "code",
   "execution_count": 4,
   "metadata": {},
   "outputs": [
    {
     "data": {
      "text/html": [
       "<div>\n",
       "<style scoped>\n",
       "    .dataframe tbody tr th:only-of-type {\n",
       "        vertical-align: middle;\n",
       "    }\n",
       "\n",
       "    .dataframe tbody tr th {\n",
       "        vertical-align: top;\n",
       "    }\n",
       "\n",
       "    .dataframe thead th {\n",
       "        text-align: right;\n",
       "    }\n",
       "</style>\n",
       "<table border=\"1\" class=\"dataframe\">\n",
       "  <thead>\n",
       "    <tr style=\"text-align: right;\">\n",
       "      <th></th>\n",
       "      <th>ID</th>\n",
       "      <th>Year</th>\n",
       "      <th>Beat</th>\n",
       "      <th>District</th>\n",
       "      <th>Ward</th>\n",
       "      <th>Community_Area</th>\n",
       "      <th>X_Coordinate</th>\n",
       "      <th>Y_Coordinate</th>\n",
       "      <th>Year.1</th>\n",
       "      <th>Latitude</th>\n",
       "      <th>Longitude</th>\n",
       "    </tr>\n",
       "  </thead>\n",
       "  <tbody>\n",
       "    <tr>\n",
       "      <th>count</th>\n",
       "      <td>1.048575e+06</td>\n",
       "      <td>1.048575e+06</td>\n",
       "      <td>1.048575e+06</td>\n",
       "      <td>1.048574e+06</td>\n",
       "      <td>1.031911e+06</td>\n",
       "      <td>1.031962e+06</td>\n",
       "      <td>9.604850e+05</td>\n",
       "      <td>9.604850e+05</td>\n",
       "      <td>1.048575e+06</td>\n",
       "      <td>960485.000000</td>\n",
       "      <td>960485.000000</td>\n",
       "    </tr>\n",
       "    <tr>\n",
       "      <th>mean</th>\n",
       "      <td>1.040589e+07</td>\n",
       "      <td>2.015976e+03</td>\n",
       "      <td>1.153781e+03</td>\n",
       "      <td>1.125834e+01</td>\n",
       "      <td>2.309084e+01</td>\n",
       "      <td>3.688050e+01</td>\n",
       "      <td>1.164768e+06</td>\n",
       "      <td>1.886322e+06</td>\n",
       "      <td>2.015976e+03</td>\n",
       "      <td>41.843660</td>\n",
       "      <td>-87.670866</td>\n",
       "    </tr>\n",
       "    <tr>\n",
       "      <th>std</th>\n",
       "      <td>2.206720e+06</td>\n",
       "      <td>4.454751e+00</td>\n",
       "      <td>6.984704e+02</td>\n",
       "      <td>6.967371e+00</td>\n",
       "      <td>1.401313e+01</td>\n",
       "      <td>2.147765e+01</td>\n",
       "      <td>1.699006e+04</td>\n",
       "      <td>3.226505e+04</td>\n",
       "      <td>4.454751e+00</td>\n",
       "      <td>0.088771</td>\n",
       "      <td>0.061586</td>\n",
       "    </tr>\n",
       "    <tr>\n",
       "      <th>min</th>\n",
       "      <td>6.700000e+02</td>\n",
       "      <td>2.001000e+03</td>\n",
       "      <td>1.110000e+02</td>\n",
       "      <td>1.000000e+00</td>\n",
       "      <td>1.000000e+00</td>\n",
       "      <td>0.000000e+00</td>\n",
       "      <td>0.000000e+00</td>\n",
       "      <td>0.000000e+00</td>\n",
       "      <td>2.001000e+03</td>\n",
       "      <td>36.619446</td>\n",
       "      <td>-91.686566</td>\n",
       "    </tr>\n",
       "    <tr>\n",
       "      <th>25%</th>\n",
       "      <td>1.025593e+07</td>\n",
       "      <td>2.015000e+03</td>\n",
       "      <td>6.120000e+02</td>\n",
       "      <td>6.000000e+00</td>\n",
       "      <td>1.000000e+01</td>\n",
       "      <td>2.300000e+01</td>\n",
       "      <td>1.153147e+06</td>\n",
       "      <td>1.859286e+06</td>\n",
       "      <td>2.015000e+03</td>\n",
       "      <td>41.769195</td>\n",
       "      <td>-87.712994</td>\n",
       "    </tr>\n",
       "    <tr>\n",
       "      <th>50%</th>\n",
       "      <td>1.069076e+07</td>\n",
       "      <td>2.016000e+03</td>\n",
       "      <td>1.032000e+03</td>\n",
       "      <td>1.000000e+01</td>\n",
       "      <td>2.400000e+01</td>\n",
       "      <td>3.200000e+01</td>\n",
       "      <td>1.166469e+06</td>\n",
       "      <td>1.892872e+06</td>\n",
       "      <td>2.016000e+03</td>\n",
       "      <td>41.861836</td>\n",
       "      <td>-87.664577</td>\n",
       "    </tr>\n",
       "    <tr>\n",
       "      <th>75%</th>\n",
       "      <td>1.108645e+07</td>\n",
       "      <td>2.017000e+03</td>\n",
       "      <td>1.722000e+03</td>\n",
       "      <td>1.700000e+01</td>\n",
       "      <td>3.400000e+01</td>\n",
       "      <td>5.500000e+01</td>\n",
       "      <td>1.176436e+06</td>\n",
       "      <td>1.909054e+06</td>\n",
       "      <td>2.017000e+03</td>\n",
       "      <td>41.906279</td>\n",
       "      <td>-87.627877</td>\n",
       "    </tr>\n",
       "    <tr>\n",
       "      <th>max</th>\n",
       "      <td>1.314808e+07</td>\n",
       "      <td>2.023000e+03</td>\n",
       "      <td>2.535000e+03</td>\n",
       "      <td>3.100000e+01</td>\n",
       "      <td>5.000000e+01</td>\n",
       "      <td>7.700000e+01</td>\n",
       "      <td>1.205119e+06</td>\n",
       "      <td>1.951535e+06</td>\n",
       "      <td>2.023000e+03</td>\n",
       "      <td>42.022671</td>\n",
       "      <td>-87.524529</td>\n",
       "    </tr>\n",
       "  </tbody>\n",
       "</table>\n",
       "</div>"
      ],
      "text/plain": [
       "                 ID          Year          Beat      District          Ward  \\\n",
       "count  1.048575e+06  1.048575e+06  1.048575e+06  1.048574e+06  1.031911e+06   \n",
       "mean   1.040589e+07  2.015976e+03  1.153781e+03  1.125834e+01  2.309084e+01   \n",
       "std    2.206720e+06  4.454751e+00  6.984704e+02  6.967371e+00  1.401313e+01   \n",
       "min    6.700000e+02  2.001000e+03  1.110000e+02  1.000000e+00  1.000000e+00   \n",
       "25%    1.025593e+07  2.015000e+03  6.120000e+02  6.000000e+00  1.000000e+01   \n",
       "50%    1.069076e+07  2.016000e+03  1.032000e+03  1.000000e+01  2.400000e+01   \n",
       "75%    1.108645e+07  2.017000e+03  1.722000e+03  1.700000e+01  3.400000e+01   \n",
       "max    1.314808e+07  2.023000e+03  2.535000e+03  3.100000e+01  5.000000e+01   \n",
       "\n",
       "       Community_Area  X_Coordinate  Y_Coordinate        Year.1  \\\n",
       "count    1.031962e+06  9.604850e+05  9.604850e+05  1.048575e+06   \n",
       "mean     3.688050e+01  1.164768e+06  1.886322e+06  2.015976e+03   \n",
       "std      2.147765e+01  1.699006e+04  3.226505e+04  4.454751e+00   \n",
       "min      0.000000e+00  0.000000e+00  0.000000e+00  2.001000e+03   \n",
       "25%      2.300000e+01  1.153147e+06  1.859286e+06  2.015000e+03   \n",
       "50%      3.200000e+01  1.166469e+06  1.892872e+06  2.016000e+03   \n",
       "75%      5.500000e+01  1.176436e+06  1.909054e+06  2.017000e+03   \n",
       "max      7.700000e+01  1.205119e+06  1.951535e+06  2.023000e+03   \n",
       "\n",
       "            Latitude      Longitude  \n",
       "count  960485.000000  960485.000000  \n",
       "mean       41.843660     -87.670866  \n",
       "std         0.088771       0.061586  \n",
       "min        36.619446     -91.686566  \n",
       "25%        41.769195     -87.712994  \n",
       "50%        41.861836     -87.664577  \n",
       "75%        41.906279     -87.627877  \n",
       "max        42.022671     -87.524529  "
      ]
     },
     "execution_count": 4,
     "metadata": {},
     "output_type": "execute_result"
    }
   ],
   "source": [
    "chicago_crime_data.describe()"
   ]
  },
  {
   "cell_type": "markdown",
   "metadata": {},
   "source": [
    "###### VIEWING THE CATEGORICAL COLUMNS OF THE DATA"
   ]
  },
  {
   "cell_type": "code",
   "execution_count": 5,
   "metadata": {},
   "outputs": [
    {
     "data": {
      "text/html": [
       "<div>\n",
       "<style scoped>\n",
       "    .dataframe tbody tr th:only-of-type {\n",
       "        vertical-align: middle;\n",
       "    }\n",
       "\n",
       "    .dataframe tbody tr th {\n",
       "        vertical-align: top;\n",
       "    }\n",
       "\n",
       "    .dataframe thead th {\n",
       "        text-align: right;\n",
       "    }\n",
       "</style>\n",
       "<table border=\"1\" class=\"dataframe\">\n",
       "  <thead>\n",
       "    <tr style=\"text-align: right;\">\n",
       "      <th></th>\n",
       "      <th>Case_Number</th>\n",
       "      <th>Date</th>\n",
       "      <th>Day</th>\n",
       "      <th>Month</th>\n",
       "      <th>Time</th>\n",
       "      <th>Block</th>\n",
       "      <th>IUCR</th>\n",
       "      <th>Primary_Type</th>\n",
       "      <th>Description</th>\n",
       "      <th>Location_Description</th>\n",
       "      <th>FBI_Code</th>\n",
       "      <th>Updated_On_Date</th>\n",
       "      <th>Updated_On_Time</th>\n",
       "      <th>Location</th>\n",
       "    </tr>\n",
       "  </thead>\n",
       "  <tbody>\n",
       "    <tr>\n",
       "      <th>count</th>\n",
       "      <td>1048574</td>\n",
       "      <td>1048575</td>\n",
       "      <td>1048575</td>\n",
       "      <td>1048575</td>\n",
       "      <td>1048575</td>\n",
       "      <td>1048575</td>\n",
       "      <td>1048575</td>\n",
       "      <td>1048575</td>\n",
       "      <td>1048575</td>\n",
       "      <td>1042393</td>\n",
       "      <td>1048575</td>\n",
       "      <td>1048575</td>\n",
       "      <td>1048575</td>\n",
       "      <td>960485</td>\n",
       "    </tr>\n",
       "    <tr>\n",
       "      <th>unique</th>\n",
       "      <td>1048561</td>\n",
       "      <td>8230</td>\n",
       "      <td>7</td>\n",
       "      <td>12</td>\n",
       "      <td>15352</td>\n",
       "      <td>39489</td>\n",
       "      <td>378</td>\n",
       "      <td>35</td>\n",
       "      <td>491</td>\n",
       "      <td>165</td>\n",
       "      <td>26</td>\n",
       "      <td>2830</td>\n",
       "      <td>2209</td>\n",
       "      <td>293459</td>\n",
       "    </tr>\n",
       "    <tr>\n",
       "      <th>top</th>\n",
       "      <td>G491428</td>\n",
       "      <td>1/1/2017</td>\n",
       "      <td>Friday</td>\n",
       "      <td>June</td>\n",
       "      <td>12:00:00 PM</td>\n",
       "      <td>001XX N STATE ST</td>\n",
       "      <td>820</td>\n",
       "      <td>THEFT</td>\n",
       "      <td>SIMPLE</td>\n",
       "      <td>STREET</td>\n",
       "      <td>6</td>\n",
       "      <td>2/10/2018</td>\n",
       "      <td>3:50:01 PM</td>\n",
       "      <td>(41.795991039, -87.630542489)</td>\n",
       "    </tr>\n",
       "    <tr>\n",
       "      <th>freq</th>\n",
       "      <td>3</td>\n",
       "      <td>1224</td>\n",
       "      <td>156582</td>\n",
       "      <td>105569</td>\n",
       "      <td>29725</td>\n",
       "      <td>2952</td>\n",
       "      <td>90284</td>\n",
       "      <td>241873</td>\n",
       "      <td>114161</td>\n",
       "      <td>248613</td>\n",
       "      <td>241873</td>\n",
       "      <td>711607</td>\n",
       "      <td>711671</td>\n",
       "      <td>1910</td>\n",
       "    </tr>\n",
       "  </tbody>\n",
       "</table>\n",
       "</div>"
      ],
      "text/plain": [
       "       Case_Number      Date      Day    Month         Time             Block  \\\n",
       "count      1048574   1048575  1048575  1048575      1048575           1048575   \n",
       "unique     1048561      8230        7       12        15352             39489   \n",
       "top        G491428  1/1/2017   Friday     June  12:00:00 PM  001XX N STATE ST   \n",
       "freq             3      1224   156582   105569        29725              2952   \n",
       "\n",
       "           IUCR Primary_Type Description Location_Description FBI_Code  \\\n",
       "count   1048575      1048575     1048575              1042393  1048575   \n",
       "unique      378           35         491                  165       26   \n",
       "top         820        THEFT      SIMPLE               STREET        6   \n",
       "freq      90284       241873      114161               248613   241873   \n",
       "\n",
       "       Updated_On_Date Updated_On_Time                       Location  \n",
       "count          1048575         1048575                         960485  \n",
       "unique            2830            2209                         293459  \n",
       "top          2/10/2018      3:50:01 PM  (41.795991039, -87.630542489)  \n",
       "freq            711607          711671                           1910  "
      ]
     },
     "execution_count": 5,
     "metadata": {},
     "output_type": "execute_result"
    }
   ],
   "source": [
    "chicago_crime_data.describe(include=\"object\")"
   ]
  },
  {
   "cell_type": "markdown",
   "metadata": {},
   "source": [
    "###### CHECKING DATATYPES"
   ]
  },
  {
   "cell_type": "code",
   "execution_count": 6,
   "metadata": {},
   "outputs": [
    {
     "name": "stdout",
     "output_type": "stream",
     "text": [
      "<class 'pandas.core.frame.DataFrame'>\n",
      "RangeIndex: 1048575 entries, 0 to 1048574\n",
      "Data columns (total 27 columns):\n",
      " #   Column                Non-Null Count    Dtype  \n",
      "---  ------                --------------    -----  \n",
      " 0   ID                    1048575 non-null  int64  \n",
      " 1   Case_Number           1048574 non-null  object \n",
      " 2   Date                  1048575 non-null  object \n",
      " 3   Day                   1048575 non-null  object \n",
      " 4   Month                 1048575 non-null  object \n",
      " 5   Year                  1048575 non-null  int64  \n",
      " 6   Time                  1048575 non-null  object \n",
      " 7   Block                 1048575 non-null  object \n",
      " 8   IUCR                  1048575 non-null  object \n",
      " 9   Primary_Type          1048575 non-null  object \n",
      " 10  Description           1048575 non-null  object \n",
      " 11  Location_Description  1042393 non-null  object \n",
      " 12  Arrest                1048575 non-null  bool   \n",
      " 13  Domestic              1048575 non-null  bool   \n",
      " 14  Beat                  1048575 non-null  int64  \n",
      " 15  District              1048574 non-null  float64\n",
      " 16  Ward                  1031911 non-null  float64\n",
      " 17  Community_Area        1031962 non-null  float64\n",
      " 18  FBI_Code              1048575 non-null  object \n",
      " 19  X_Coordinate          960485 non-null   float64\n",
      " 20  Y_Coordinate          960485 non-null   float64\n",
      " 21  Year.1                1048575 non-null  int64  \n",
      " 22  Updated_On_Date       1048575 non-null  object \n",
      " 23  Updated_On_Time       1048575 non-null  object \n",
      " 24  Latitude              960485 non-null   float64\n",
      " 25  Longitude             960485 non-null   float64\n",
      " 26  Location              960485 non-null   object \n",
      "dtypes: bool(2), float64(7), int64(4), object(14)\n",
      "memory usage: 202.0+ MB\n"
     ]
    }
   ],
   "source": [
    "chicago_crime_data.info()"
   ]
  },
  {
   "cell_type": "markdown",
   "metadata": {},
   "source": [
    "###### CHANGING DATE DTYPE FROM OBJECT TO DATETIME DTYPE"
   ]
  },
  {
   "cell_type": "code",
   "execution_count": 7,
   "metadata": {},
   "outputs": [
    {
     "name": "stdout",
     "output_type": "stream",
     "text": [
      "<class 'pandas.core.frame.DataFrame'>\n",
      "RangeIndex: 1048575 entries, 0 to 1048574\n",
      "Data columns (total 27 columns):\n",
      " #   Column                Non-Null Count    Dtype         \n",
      "---  ------                --------------    -----         \n",
      " 0   ID                    1048575 non-null  int64         \n",
      " 1   Case_Number           1048574 non-null  object        \n",
      " 2   Date                  1048575 non-null  datetime64[ns]\n",
      " 3   Day                   1048575 non-null  object        \n",
      " 4   Month                 1048575 non-null  object        \n",
      " 5   Year                  1048575 non-null  int64         \n",
      " 6   Time                  1048575 non-null  object        \n",
      " 7   Block                 1048575 non-null  object        \n",
      " 8   IUCR                  1048575 non-null  object        \n",
      " 9   Primary_Type          1048575 non-null  object        \n",
      " 10  Description           1048575 non-null  object        \n",
      " 11  Location_Description  1042393 non-null  object        \n",
      " 12  Arrest                1048575 non-null  bool          \n",
      " 13  Domestic              1048575 non-null  bool          \n",
      " 14  Beat                  1048575 non-null  int64         \n",
      " 15  District              1048574 non-null  float64       \n",
      " 16  Ward                  1031911 non-null  float64       \n",
      " 17  Community_Area        1031962 non-null  float64       \n",
      " 18  FBI_Code              1048575 non-null  object        \n",
      " 19  X_Coordinate          960485 non-null   float64       \n",
      " 20  Y_Coordinate          960485 non-null   float64       \n",
      " 21  Year.1                1048575 non-null  int64         \n",
      " 22  Updated_On_Date       1048575 non-null  object        \n",
      " 23  Updated_On_Time       1048575 non-null  object        \n",
      " 24  Latitude              960485 non-null   float64       \n",
      " 25  Longitude             960485 non-null   float64       \n",
      " 26  Location              960485 non-null   object        \n",
      "dtypes: bool(2), datetime64[ns](1), float64(7), int64(4), object(13)\n",
      "memory usage: 202.0+ MB\n"
     ]
    }
   ],
   "source": [
    "chicago_crime_data[\"Date\"] = pd.to_datetime(chicago_crime_data[\"Date\"])\n",
    "chicago_crime_data.info()"
   ]
  },
  {
   "cell_type": "markdown",
   "metadata": {},
   "source": [
    "###### EXTRACTING AND VIEWING THE YEAR FROM DATE COLUMN"
   ]
  },
  {
   "cell_type": "code",
   "execution_count": 8,
   "metadata": {},
   "outputs": [
    {
     "data": {
      "text/plain": [
       "0          2018\n",
       "1          2016\n",
       "2          2018\n",
       "3          2018\n",
       "4          2015\n",
       "           ... \n",
       "1048570    2018\n",
       "1048571    2018\n",
       "1048572    2018\n",
       "1048573    2018\n",
       "1048574    2018\n",
       "Name: Date, Length: 1048575, dtype: int64"
      ]
     },
     "execution_count": 8,
     "metadata": {},
     "output_type": "execute_result"
    }
   ],
   "source": [
    "chicago_crime_data[\"Date\"].dt.year"
   ]
  },
  {
   "cell_type": "markdown",
   "metadata": {},
   "source": [
    "###### EXTRACTING AND VIEWING THE MONTH FROM DATE COLUMN"
   ]
  },
  {
   "cell_type": "code",
   "execution_count": 9,
   "metadata": {},
   "outputs": [
    {
     "data": {
      "text/plain": [
       "0           9\n",
       "1           5\n",
       "2           7\n",
       "3          12\n",
       "4           2\n",
       "           ..\n",
       "1048570     1\n",
       "1048571     1\n",
       "1048572     1\n",
       "1048573     1\n",
       "1048574     1\n",
       "Name: Date, Length: 1048575, dtype: int64"
      ]
     },
     "execution_count": 9,
     "metadata": {},
     "output_type": "execute_result"
    }
   ],
   "source": [
    "chicago_crime_data[\"Date\"].dt.month"
   ]
  },
  {
   "cell_type": "markdown",
   "metadata": {},
   "source": [
    "###### EXTRACTING AND VIEWING THE DAY FROM DATE COLUMN"
   ]
  },
  {
   "cell_type": "code",
   "execution_count": 10,
   "metadata": {},
   "outputs": [
    {
     "data": {
      "text/plain": [
       "0          5\n",
       "1          6\n",
       "2          1\n",
       "3          2\n",
       "4          0\n",
       "          ..\n",
       "1048570    5\n",
       "1048571    2\n",
       "1048572    5\n",
       "1048573    3\n",
       "1048574    4\n",
       "Name: Date, Length: 1048575, dtype: int64"
      ]
     },
     "execution_count": 10,
     "metadata": {},
     "output_type": "execute_result"
    }
   ],
   "source": [
    "chicago_crime_data[\"Date\"].dt.weekday"
   ]
  },
  {
   "cell_type": "markdown",
   "metadata": {},
   "source": [
    "###### VIEWING THE COLUMNS OF DATA"
   ]
  },
  {
   "cell_type": "code",
   "execution_count": 11,
   "metadata": {},
   "outputs": [
    {
     "data": {
      "text/plain": [
       "Index(['ID', 'Case_Number', 'Date', 'Day', 'Month', 'Year', 'Time', 'Block',\n",
       "       'IUCR', 'Primary_Type', 'Description', 'Location_Description', 'Arrest',\n",
       "       'Domestic', 'Beat', 'District', 'Ward', 'Community_Area', 'FBI_Code',\n",
       "       'X_Coordinate', 'Y_Coordinate', 'Year.1', 'Updated_On_Date',\n",
       "       'Updated_On_Time', 'Latitude', 'Longitude', 'Location'],\n",
       "      dtype='object')"
      ]
     },
     "execution_count": 11,
     "metadata": {},
     "output_type": "execute_result"
    }
   ],
   "source": [
    "chicago_crime_data.columns"
   ]
  },
  {
   "cell_type": "markdown",
   "metadata": {},
   "source": [
    "###### COUNTING THE NA VALUES FOR EACH COLUMN"
   ]
  },
  {
   "cell_type": "code",
   "execution_count": 12,
   "metadata": {},
   "outputs": [
    {
     "data": {
      "text/plain": [
       "ID                          0\n",
       "Case_Number                 1\n",
       "Date                        0\n",
       "Day                         0\n",
       "Month                       0\n",
       "Year                        0\n",
       "Time                        0\n",
       "Block                       0\n",
       "IUCR                        0\n",
       "Primary_Type                0\n",
       "Description                 0\n",
       "Location_Description     6182\n",
       "Arrest                      0\n",
       "Domestic                    0\n",
       "Beat                        0\n",
       "District                    1\n",
       "Ward                    16664\n",
       "Community_Area          16613\n",
       "FBI_Code                    0\n",
       "X_Coordinate            88090\n",
       "Y_Coordinate            88090\n",
       "Year.1                      0\n",
       "Updated_On_Date             0\n",
       "Updated_On_Time             0\n",
       "Latitude                88090\n",
       "Longitude               88090\n",
       "Location                88090\n",
       "dtype: int64"
      ]
     },
     "execution_count": 12,
     "metadata": {},
     "output_type": "execute_result"
    }
   ],
   "source": [
    "chicago_crime_data.isna().sum()"
   ]
  },
  {
   "cell_type": "markdown",
   "metadata": {},
   "source": [
    "###### COUNTING THE DISTINCT VALUES FOR EACH COLUMN"
   ]
  },
  {
   "cell_type": "code",
   "execution_count": 13,
   "metadata": {},
   "outputs": [
    {
     "name": "stdout",
     "output_type": "stream",
     "text": [
      "ID has 1048575 unique values\n",
      "Case_Number has 1048561 unique values\n",
      "Date has 8230 unique values\n",
      "Day has 7 unique values\n",
      "Month has 12 unique values\n",
      "Year has 23 unique values\n",
      "Time has 15352 unique values\n",
      "Block has 39489 unique values\n",
      "IUCR has 378 unique values\n",
      "Primary_Type has 35 unique values\n",
      "Description has 491 unique values\n",
      "Location_Description has 165 unique values\n",
      "Arrest has 2 unique values\n",
      "Domestic has 2 unique values\n",
      "Beat has 305 unique values\n",
      "District has 23 unique values\n",
      "Ward has 50 unique values\n",
      "Community_Area has 78 unique values\n",
      "FBI_Code has 26 unique values\n",
      "X_Coordinate has 64861 unique values\n",
      "Y_Coordinate has 104748 unique values\n",
      "Year.1 has 23 unique values\n",
      "Updated_On_Date has 2830 unique values\n",
      "Updated_On_Time has 2209 unique values\n",
      "Latitude has 292248 unique values\n",
      "Longitude has 291429 unique values\n",
      "Location has 293459 unique values\n"
     ]
    }
   ],
   "source": [
    "for col in chicago_crime_data:\n",
    "    unique_count = chicago_crime_data[col].nunique()\n",
    "    print(f\"{col} has {unique_count} unique values\")"
   ]
  },
  {
   "cell_type": "markdown",
   "metadata": {},
   "source": [
    "###### CHECKING IF THERE ARE ANY DUPLICATED ROWS OF DATA "
   ]
  },
  {
   "cell_type": "code",
   "execution_count": 14,
   "metadata": {},
   "outputs": [
    {
     "data": {
      "text/plain": [
       "0"
      ]
     },
     "execution_count": 14,
     "metadata": {},
     "output_type": "execute_result"
    }
   ],
   "source": [
    "chicago_crime_data.duplicated().sum()"
   ]
  },
  {
   "cell_type": "markdown",
   "metadata": {},
   "source": [
    "EXPLORATORY DATA ANALYSIS\n",
    "\n",
    "###### TOP 10 CRIMES IN CHICAGO"
   ]
  },
  {
   "cell_type": "code",
   "execution_count": 15,
   "metadata": {},
   "outputs": [
    {
     "data": {
      "text/plain": [
       "THEFT                  241873\n",
       "BATTERY                185288\n",
       "CRIMINAL DAMAGE        112288\n",
       "DECEPTIVE PRACTICE      78610\n",
       "ASSAULT                 72523\n",
       "OTHER OFFENSE           65340\n",
       "NARCOTICS               63727\n",
       "MOTOR VEHICLE THEFT     53354\n",
       "BURGLARY                47851\n",
       "ROBBERY                 41261\n",
       "Name: Primary_Type, dtype: int64"
      ]
     },
     "execution_count": 15,
     "metadata": {},
     "output_type": "execute_result"
    }
   ],
   "source": [
    "chicago_crime_data[\"Primary_Type\"].value_counts()\n",
    "top_10_crimes = chicago_crime_data[\"Primary_Type\"].value_counts()[:10]\n",
    "top_10_crimes"
   ]
  },
  {
   "cell_type": "markdown",
   "metadata": {},
   "source": [
    "###### GRAPH OF TOP 10 CRIMES IN CHICAGO"
   ]
  },
  {
   "cell_type": "code",
   "execution_count": 53,
   "metadata": {},
   "outputs": [
    {
     "name": "stdout",
     "output_type": "stream",
     "text": [
      "This graph displays that 'Theft' is the most committed crime in Chicago\n"
     ]
    },
    {
     "data": {
      "image/png": "[encoded data removed]",
      "text/plain": [
       "<Figure size 2000x500 with 1 Axes>"
      ]
     },
     "metadata": {},
     "output_type": "display_data"
    }
   ],
   "source": [
    "plt.figure(figsize=(20,5))\n",
    "top_10_crimes.plot(kind= \"bar\", color= \"red\", rot=0),\n",
    "plt.title(\"Top 10 Crimes from 2001 to Present\", color=\"red\", fontsize=20), \n",
    "ticks = list(range(0,300000,50000))\n",
    "plt.yticks(ticks, [f\"{x} crimes\" for x in ticks]),\n",
    "plt.ylabel(\"\"),\n",
    "sns.set_style(\"darkgrid\")\n",
    "print(f\"This graph displays that 'Theft' is the most committed crime in Chicago\")"
   ]
  },
  {
   "cell_type": "markdown",
   "metadata": {},
   "source": [
    "###### MOST CASES BY YEAR"
   ]
  },
  {
   "cell_type": "code",
   "execution_count": 17,
   "metadata": {},
   "outputs": [
    {
     "data": {
      "text/plain": [
       "Year\n",
       "2016    268969\n",
       "2017    267562\n",
       "2015    218047\n",
       "2023    133998\n",
       "2002     20858\n",
       "2008     12357\n",
       "2009     11485\n",
       "2018     11450\n",
       "2003      9430\n",
       "2001      9052\n",
       "2005      9040\n",
       "2022      8197\n",
       "2021      8111\n",
       "2006      7886\n",
       "2004      7710\n",
       "2007      6709\n",
       "2014      6299\n",
       "2020      6061\n",
       "2010      5220\n",
       "2019      5118\n",
       "2013      5046\n",
       "2012      4989\n",
       "2011      4980\n",
       "Name: Case_Number, dtype: int64"
      ]
     },
     "execution_count": 17,
     "metadata": {},
     "output_type": "execute_result"
    }
   ],
   "source": [
    "cases_by_year = chicago_crime_data.groupby(\"Year\")[\"Case_Number\"].count()\n",
    "cases_by_year = cases_by_year.sort_values(ascending=False)\n",
    "cases_by_year"
   ]
  },
  {
   "cell_type": "markdown",
   "metadata": {},
   "source": [
    "###### GRAPH OF MOST CASES BY YEAR"
   ]
  },
  {
   "cell_type": "code",
   "execution_count": 55,
   "metadata": {},
   "outputs": [
    {
     "name": "stdout",
     "output_type": "stream",
     "text": [
      "This graph shows that the year 2016 had the most criminal cases in Chicago\n"
     ]
    },
    {
     "data": {
      "image/png": "[encoded data removed]",
      "text/plain": [
       "<Figure size 1500x500 with 1 Axes>"
      ]
     },
     "metadata": {},
     "output_type": "display_data"
    }
   ],
   "source": [
    "plt.figure(figsize=(15,5))\n",
    "cases_by_year.plot(kind= \"bar\", color = \"blue\", rot= 0),\n",
    "plt.title(\"Most Cases per Year\", color=\"red\", fontsize=20),\n",
    "ticks = list(range(0,300000,50000))\n",
    "plt.yticks(ticks, [f\"{x} cases\" for x in ticks]),\n",
    "plt.ylabel(\"\"),\n",
    "plt.xlabel(\"\"),\n",
    "sns.set_style(\"darkgrid\")\n",
    "print(\"This graph shows that the year 2016 had the most criminal cases in Chicago\")"
   ]
  },
  {
   "cell_type": "markdown",
   "metadata": {},
   "source": [
    "###### CRIMES THAT RESULTED IN ARREST FROM ALL YEARS"
   ]
  },
  {
   "cell_type": "code",
   "execution_count": 19,
   "metadata": {},
   "outputs": [
    {
     "data": {
      "text/html": [
       "<div>\n",
       "<style scoped>\n",
       "    .dataframe tbody tr th:only-of-type {\n",
       "        vertical-align: middle;\n",
       "    }\n",
       "\n",
       "    .dataframe tbody tr th {\n",
       "        vertical-align: top;\n",
       "    }\n",
       "\n",
       "    .dataframe thead th {\n",
       "        text-align: right;\n",
       "    }\n",
       "</style>\n",
       "<table border=\"1\" class=\"dataframe\">\n",
       "  <thead>\n",
       "    <tr style=\"text-align: right;\">\n",
       "      <th></th>\n",
       "      <th>ID</th>\n",
       "      <th>Case_Number</th>\n",
       "      <th>Date</th>\n",
       "      <th>Day</th>\n",
       "      <th>Month</th>\n",
       "      <th>Year</th>\n",
       "      <th>Time</th>\n",
       "      <th>Block</th>\n",
       "      <th>IUCR</th>\n",
       "      <th>Primary_Type</th>\n",
       "      <th>Description</th>\n",
       "      <th>Location_Description</th>\n",
       "      <th>Arrest</th>\n",
       "      <th>Domestic</th>\n",
       "      <th>Beat</th>\n",
       "      <th>District</th>\n",
       "      <th>Ward</th>\n",
       "      <th>Community_Area</th>\n",
       "      <th>FBI_Code</th>\n",
       "      <th>X_Coordinate</th>\n",
       "      <th>Y_Coordinate</th>\n",
       "      <th>Year.1</th>\n",
       "      <th>Updated_On_Date</th>\n",
       "      <th>Updated_On_Time</th>\n",
       "      <th>Latitude</th>\n",
       "      <th>Longitude</th>\n",
       "      <th>Location</th>\n",
       "    </tr>\n",
       "  </thead>\n",
       "  <tbody>\n",
       "    <tr>\n",
       "      <th>0</th>\n",
       "      <td>13140432</td>\n",
       "      <td>JG340948</td>\n",
       "      <td>2023-07-14</td>\n",
       "      <td>Friday</td>\n",
       "      <td>July</td>\n",
       "      <td>2023</td>\n",
       "      <td>3:06:00 PM</td>\n",
       "      <td>051XX W NORTH AVE</td>\n",
       "      <td>860</td>\n",
       "      <td>THEFT</td>\n",
       "      <td>RETAIL THEFT</td>\n",
       "      <td>TAVERN / LIQUOR STORE</td>\n",
       "      <td>True</td>\n",
       "      <td>False</td>\n",
       "      <td>2533</td>\n",
       "      <td>25.0</td>\n",
       "      <td>37.0</td>\n",
       "      <td>25.0</td>\n",
       "      <td>6</td>\n",
       "      <td>1141609.0</td>\n",
       "      <td>1910145.0</td>\n",
       "      <td>2023</td>\n",
       "      <td>7/21/2023</td>\n",
       "      <td>4:47:19 PM</td>\n",
       "      <td>41.909508</td>\n",
       "      <td>-87.755228</td>\n",
       "      <td>(41.909508323, -87.755228459)</td>\n",
       "    </tr>\n",
       "    <tr>\n",
       "      <th>1</th>\n",
       "      <td>13140290</td>\n",
       "      <td>JG340715</td>\n",
       "      <td>2023-07-14</td>\n",
       "      <td>Friday</td>\n",
       "      <td>July</td>\n",
       "      <td>2023</td>\n",
       "      <td>12:30:00 PM</td>\n",
       "      <td>001XX W OHIO ST</td>\n",
       "      <td>1330</td>\n",
       "      <td>CRIMINAL TRESPASS</td>\n",
       "      <td>TO LAND</td>\n",
       "      <td>ALLEY</td>\n",
       "      <td>True</td>\n",
       "      <td>False</td>\n",
       "      <td>1831</td>\n",
       "      <td>18.0</td>\n",
       "      <td>42.0</td>\n",
       "      <td>8.0</td>\n",
       "      <td>26</td>\n",
       "      <td>1175195.0</td>\n",
       "      <td>1904167.0</td>\n",
       "      <td>2023</td>\n",
       "      <td>7/21/2023</td>\n",
       "      <td>4:47:19 PM</td>\n",
       "      <td>41.892417</td>\n",
       "      <td>-87.632028</td>\n",
       "      <td>(41.892416949, -87.632028008)</td>\n",
       "    </tr>\n",
       "    <tr>\n",
       "      <th>2</th>\n",
       "      <td>13140337</td>\n",
       "      <td>JG340730</td>\n",
       "      <td>2023-07-14</td>\n",
       "      <td>Friday</td>\n",
       "      <td>July</td>\n",
       "      <td>2023</td>\n",
       "      <td>1:15:00 PM</td>\n",
       "      <td>114XX S PULASKI RD</td>\n",
       "      <td>4387</td>\n",
       "      <td>OTHER OFFENSE</td>\n",
       "      <td>VIOLATE ORDER OF PROTECTION</td>\n",
       "      <td>COMMERCIAL / BUSINESS OFFICE</td>\n",
       "      <td>True</td>\n",
       "      <td>False</td>\n",
       "      <td>2211</td>\n",
       "      <td>22.0</td>\n",
       "      <td>19.0</td>\n",
       "      <td>74.0</td>\n",
       "      <td>26</td>\n",
       "      <td>1151750.0</td>\n",
       "      <td>1828526.0</td>\n",
       "      <td>2023</td>\n",
       "      <td>7/21/2023</td>\n",
       "      <td>4:47:19 PM</td>\n",
       "      <td>41.685340</td>\n",
       "      <td>-87.720113</td>\n",
       "      <td>(41.685340153, -87.7201134)</td>\n",
       "    </tr>\n",
       "    <tr>\n",
       "      <th>3</th>\n",
       "      <td>13140355</td>\n",
       "      <td>JG340783</td>\n",
       "      <td>2023-07-14</td>\n",
       "      <td>Friday</td>\n",
       "      <td>July</td>\n",
       "      <td>2023</td>\n",
       "      <td>2:16:00 PM</td>\n",
       "      <td>002XX N KARLOV AVE</td>\n",
       "      <td>2024</td>\n",
       "      <td>NARCOTICS</td>\n",
       "      <td>POSSESS - HEROIN (WHITE)</td>\n",
       "      <td>RESIDENCE - YARD (FRONT / BACK)</td>\n",
       "      <td>True</td>\n",
       "      <td>False</td>\n",
       "      <td>1114</td>\n",
       "      <td>11.0</td>\n",
       "      <td>28.0</td>\n",
       "      <td>26.0</td>\n",
       "      <td>18</td>\n",
       "      <td>1149027.0</td>\n",
       "      <td>1900886.0</td>\n",
       "      <td>2023</td>\n",
       "      <td>7/21/2023</td>\n",
       "      <td>4:47:19 PM</td>\n",
       "      <td>41.883960</td>\n",
       "      <td>-87.728218</td>\n",
       "      <td>(41.883960232, -87.728217573)</td>\n",
       "    </tr>\n",
       "    <tr>\n",
       "      <th>4</th>\n",
       "      <td>13139844</td>\n",
       "      <td>JG340130</td>\n",
       "      <td>2023-07-14</td>\n",
       "      <td>Friday</td>\n",
       "      <td>July</td>\n",
       "      <td>2023</td>\n",
       "      <td>12:57:00 AM</td>\n",
       "      <td>065XX S PROMONTORY DR</td>\n",
       "      <td>143A</td>\n",
       "      <td>WEAPONS VIOLATION</td>\n",
       "      <td>UNLAWFUL POSSESSION - HANDGUN</td>\n",
       "      <td>PARK PROPERTY</td>\n",
       "      <td>True</td>\n",
       "      <td>False</td>\n",
       "      <td>331</td>\n",
       "      <td>3.0</td>\n",
       "      <td>5.0</td>\n",
       "      <td>42.0</td>\n",
       "      <td>15</td>\n",
       "      <td>1192337.0</td>\n",
       "      <td>1862034.0</td>\n",
       "      <td>2023</td>\n",
       "      <td>7/21/2023</td>\n",
       "      <td>4:47:19 PM</td>\n",
       "      <td>41.776400</td>\n",
       "      <td>-87.570448</td>\n",
       "      <td>(41.776400433, -87.570448042)</td>\n",
       "    </tr>\n",
       "    <tr>\n",
       "      <th>...</th>\n",
       "      <td>...</td>\n",
       "      <td>...</td>\n",
       "      <td>...</td>\n",
       "      <td>...</td>\n",
       "      <td>...</td>\n",
       "      <td>...</td>\n",
       "      <td>...</td>\n",
       "      <td>...</td>\n",
       "      <td>...</td>\n",
       "      <td>...</td>\n",
       "      <td>...</td>\n",
       "      <td>...</td>\n",
       "      <td>...</td>\n",
       "      <td>...</td>\n",
       "      <td>...</td>\n",
       "      <td>...</td>\n",
       "      <td>...</td>\n",
       "      <td>...</td>\n",
       "      <td>...</td>\n",
       "      <td>...</td>\n",
       "      <td>...</td>\n",
       "      <td>...</td>\n",
       "      <td>...</td>\n",
       "      <td>...</td>\n",
       "      <td>...</td>\n",
       "      <td>...</td>\n",
       "      <td>...</td>\n",
       "    </tr>\n",
       "    <tr>\n",
       "      <th>214266</th>\n",
       "      <td>1322318</td>\n",
       "      <td>G001684</td>\n",
       "      <td>2001-01-01</td>\n",
       "      <td>Monday</td>\n",
       "      <td>January</td>\n",
       "      <td>2001</td>\n",
       "      <td>7:28:00 PM</td>\n",
       "      <td>082XX S MAY ST</td>\n",
       "      <td>850</td>\n",
       "      <td>THEFT</td>\n",
       "      <td>ATTEMPT THEFT</td>\n",
       "      <td>APARTMENT</td>\n",
       "      <td>True</td>\n",
       "      <td>False</td>\n",
       "      <td>613</td>\n",
       "      <td>6.0</td>\n",
       "      <td>NaN</td>\n",
       "      <td>NaN</td>\n",
       "      <td>6</td>\n",
       "      <td>1170121.0</td>\n",
       "      <td>1850349.0</td>\n",
       "      <td>2001</td>\n",
       "      <td>8/17/2015</td>\n",
       "      <td>3:03:40 PM</td>\n",
       "      <td>41.744847</td>\n",
       "      <td>-87.652229</td>\n",
       "      <td>(41.744847238, -87.652229278)</td>\n",
       "    </tr>\n",
       "    <tr>\n",
       "      <th>214267</th>\n",
       "      <td>11992722</td>\n",
       "      <td>JD163284</td>\n",
       "      <td>2001-01-01</td>\n",
       "      <td>Monday</td>\n",
       "      <td>January</td>\n",
       "      <td>2001</td>\n",
       "      <td>8:00:00 PM</td>\n",
       "      <td>038XX W HIRSCH ST</td>\n",
       "      <td>1754</td>\n",
       "      <td>OFFENSE INVOLVING CHILDREN</td>\n",
       "      <td>AGGRAVATED SEXUAL ASSAULT OF CHILD BY FAMILY M...</td>\n",
       "      <td>RESIDENCE</td>\n",
       "      <td>True</td>\n",
       "      <td>True</td>\n",
       "      <td>2535</td>\n",
       "      <td>25.0</td>\n",
       "      <td>26.0</td>\n",
       "      <td>23.0</td>\n",
       "      <td>2</td>\n",
       "      <td>NaN</td>\n",
       "      <td>NaN</td>\n",
       "      <td>2001</td>\n",
       "      <td>6/20/2020</td>\n",
       "      <td>3:48:45 PM</td>\n",
       "      <td>NaN</td>\n",
       "      <td>NaN</td>\n",
       "      <td>NaN</td>\n",
       "    </tr>\n",
       "    <tr>\n",
       "      <th>214268</th>\n",
       "      <td>11864663</td>\n",
       "      <td>JC477243</td>\n",
       "      <td>2001-01-01</td>\n",
       "      <td>Monday</td>\n",
       "      <td>January</td>\n",
       "      <td>2001</td>\n",
       "      <td>12:00:00 PM</td>\n",
       "      <td>029XX S FEDERAL ST</td>\n",
       "      <td>266</td>\n",
       "      <td>CRIMINAL SEXUAL ASSAULT</td>\n",
       "      <td>PREDATORY</td>\n",
       "      <td>APARTMENT</td>\n",
       "      <td>True</td>\n",
       "      <td>False</td>\n",
       "      <td>133</td>\n",
       "      <td>1.0</td>\n",
       "      <td>3.0</td>\n",
       "      <td>35.0</td>\n",
       "      <td>2</td>\n",
       "      <td>NaN</td>\n",
       "      <td>NaN</td>\n",
       "      <td>2001</td>\n",
       "      <td>3/21/2020</td>\n",
       "      <td>3:44:56 PM</td>\n",
       "      <td>NaN</td>\n",
       "      <td>NaN</td>\n",
       "      <td>NaN</td>\n",
       "    </tr>\n",
       "    <tr>\n",
       "      <th>214269</th>\n",
       "      <td>11950657</td>\n",
       "      <td>JD114742</td>\n",
       "      <td>2001-01-01</td>\n",
       "      <td>Monday</td>\n",
       "      <td>January</td>\n",
       "      <td>2001</td>\n",
       "      <td>12:00:00 AM</td>\n",
       "      <td>061XX S FAIRFIELD AVE</td>\n",
       "      <td>1753</td>\n",
       "      <td>OFFENSE INVOLVING CHILDREN</td>\n",
       "      <td>SEXUAL ASSAULT OF CHILD BY FAMILY MEMBER</td>\n",
       "      <td>RESIDENCE</td>\n",
       "      <td>True</td>\n",
       "      <td>True</td>\n",
       "      <td>825</td>\n",
       "      <td>8.0</td>\n",
       "      <td>16.0</td>\n",
       "      <td>66.0</td>\n",
       "      <td>2</td>\n",
       "      <td>NaN</td>\n",
       "      <td>NaN</td>\n",
       "      <td>2001</td>\n",
       "      <td>11/7/2020</td>\n",
       "      <td>3:51:39 PM</td>\n",
       "      <td>NaN</td>\n",
       "      <td>NaN</td>\n",
       "      <td>NaN</td>\n",
       "    </tr>\n",
       "    <tr>\n",
       "      <th>214270</th>\n",
       "      <td>11513580</td>\n",
       "      <td>JB524424</td>\n",
       "      <td>2001-01-01</td>\n",
       "      <td>Monday</td>\n",
       "      <td>January</td>\n",
       "      <td>2001</td>\n",
       "      <td>12:00:00 AM</td>\n",
       "      <td>030XX W WARREN BLVD</td>\n",
       "      <td>1753</td>\n",
       "      <td>OFFENSE INVOLVING CHILDREN</td>\n",
       "      <td>SEXUAL ASSAULT OF CHILD BY FAMILY MEMBER</td>\n",
       "      <td>RESIDENCE</td>\n",
       "      <td>True</td>\n",
       "      <td>True</td>\n",
       "      <td>1222</td>\n",
       "      <td>12.0</td>\n",
       "      <td>27.0</td>\n",
       "      <td>27.0</td>\n",
       "      <td>2</td>\n",
       "      <td>NaN</td>\n",
       "      <td>NaN</td>\n",
       "      <td>2001</td>\n",
       "      <td>7/1/2023</td>\n",
       "      <td>4:45:24 PM</td>\n",
       "      <td>NaN</td>\n",
       "      <td>NaN</td>\n",
       "      <td>NaN</td>\n",
       "    </tr>\n",
       "  </tbody>\n",
       "</table>\n",
       "<p>214271 rows × 27 columns</p>\n",
       "</div>"
      ],
      "text/plain": [
       "              ID Case_Number       Date     Day    Month  Year         Time  \\\n",
       "0       13140432    JG340948 2023-07-14  Friday     July  2023   3:06:00 PM   \n",
       "1       13140290    JG340715 2023-07-14  Friday     July  2023  12:30:00 PM   \n",
       "2       13140337    JG340730 2023-07-14  Friday     July  2023   1:15:00 PM   \n",
       "3       13140355    JG340783 2023-07-14  Friday     July  2023   2:16:00 PM   \n",
       "4       13139844    JG340130 2023-07-14  Friday     July  2023  12:57:00 AM   \n",
       "...          ...         ...        ...     ...      ...   ...          ...   \n",
       "214266   1322318     G001684 2001-01-01  Monday  January  2001   7:28:00 PM   \n",
       "214267  11992722    JD163284 2001-01-01  Monday  January  2001   8:00:00 PM   \n",
       "214268  11864663    JC477243 2001-01-01  Monday  January  2001  12:00:00 PM   \n",
       "214269  11950657    JD114742 2001-01-01  Monday  January  2001  12:00:00 AM   \n",
       "214270  11513580    JB524424 2001-01-01  Monday  January  2001  12:00:00 AM   \n",
       "\n",
       "                        Block  IUCR                Primary_Type  \\\n",
       "0           051XX W NORTH AVE   860                       THEFT   \n",
       "1             001XX W OHIO ST  1330           CRIMINAL TRESPASS   \n",
       "2          114XX S PULASKI RD  4387               OTHER OFFENSE   \n",
       "3          002XX N KARLOV AVE  2024                   NARCOTICS   \n",
       "4       065XX S PROMONTORY DR  143A           WEAPONS VIOLATION   \n",
       "...                       ...   ...                         ...   \n",
       "214266         082XX S MAY ST   850                       THEFT   \n",
       "214267      038XX W HIRSCH ST  1754  OFFENSE INVOLVING CHILDREN   \n",
       "214268     029XX S FEDERAL ST   266     CRIMINAL SEXUAL ASSAULT   \n",
       "214269  061XX S FAIRFIELD AVE  1753  OFFENSE INVOLVING CHILDREN   \n",
       "214270    030XX W WARREN BLVD  1753  OFFENSE INVOLVING CHILDREN   \n",
       "\n",
       "                                              Description  \\\n",
       "0                                            RETAIL THEFT   \n",
       "1                                                 TO LAND   \n",
       "2                             VIOLATE ORDER OF PROTECTION   \n",
       "3                                POSSESS - HEROIN (WHITE)   \n",
       "4                           UNLAWFUL POSSESSION - HANDGUN   \n",
       "...                                                   ...   \n",
       "214266                                      ATTEMPT THEFT   \n",
       "214267  AGGRAVATED SEXUAL ASSAULT OF CHILD BY FAMILY M...   \n",
       "214268                                          PREDATORY   \n",
       "214269           SEXUAL ASSAULT OF CHILD BY FAMILY MEMBER   \n",
       "214270           SEXUAL ASSAULT OF CHILD BY FAMILY MEMBER   \n",
       "\n",
       "                   Location_Description  Arrest  Domestic  Beat  District  \\\n",
       "0                 TAVERN / LIQUOR STORE    True     False  2533      25.0   \n",
       "1                                 ALLEY    True     False  1831      18.0   \n",
       "2          COMMERCIAL / BUSINESS OFFICE    True     False  2211      22.0   \n",
       "3       RESIDENCE - YARD (FRONT / BACK)    True     False  1114      11.0   \n",
       "4                         PARK PROPERTY    True     False   331       3.0   \n",
       "...                                 ...     ...       ...   ...       ...   \n",
       "214266                        APARTMENT    True     False   613       6.0   \n",
       "214267                        RESIDENCE    True      True  2535      25.0   \n",
       "214268                        APARTMENT    True     False   133       1.0   \n",
       "214269                        RESIDENCE    True      True   825       8.0   \n",
       "214270                        RESIDENCE    True      True  1222      12.0   \n",
       "\n",
       "        Ward  Community_Area FBI_Code  X_Coordinate  Y_Coordinate  Year.1  \\\n",
       "0       37.0            25.0        6     1141609.0     1910145.0    2023   \n",
       "1       42.0             8.0       26     1175195.0     1904167.0    2023   \n",
       "2       19.0            74.0       26     1151750.0     1828526.0    2023   \n",
       "3       28.0            26.0       18     1149027.0     1900886.0    2023   \n",
       "4        5.0            42.0       15     1192337.0     1862034.0    2023   \n",
       "...      ...             ...      ...           ...           ...     ...   \n",
       "214266   NaN             NaN        6     1170121.0     1850349.0    2001   \n",
       "214267  26.0            23.0        2           NaN           NaN    2001   \n",
       "214268   3.0            35.0        2           NaN           NaN    2001   \n",
       "214269  16.0            66.0        2           NaN           NaN    2001   \n",
       "214270  27.0            27.0        2           NaN           NaN    2001   \n",
       "\n",
       "       Updated_On_Date Updated_On_Time   Latitude  Longitude  \\\n",
       "0            7/21/2023      4:47:19 PM  41.909508 -87.755228   \n",
       "1            7/21/2023      4:47:19 PM  41.892417 -87.632028   \n",
       "2            7/21/2023      4:47:19 PM  41.685340 -87.720113   \n",
       "3            7/21/2023      4:47:19 PM  41.883960 -87.728218   \n",
       "4            7/21/2023      4:47:19 PM  41.776400 -87.570448   \n",
       "...                ...             ...        ...        ...   \n",
       "214266       8/17/2015      3:03:40 PM  41.744847 -87.652229   \n",
       "214267       6/20/2020      3:48:45 PM        NaN        NaN   \n",
       "214268       3/21/2020      3:44:56 PM        NaN        NaN   \n",
       "214269       11/7/2020      3:51:39 PM        NaN        NaN   \n",
       "214270        7/1/2023      4:45:24 PM        NaN        NaN   \n",
       "\n",
       "                             Location  \n",
       "0       (41.909508323, -87.755228459)  \n",
       "1       (41.892416949, -87.632028008)  \n",
       "2         (41.685340153, -87.7201134)  \n",
       "3       (41.883960232, -87.728217573)  \n",
       "4       (41.776400433, -87.570448042)  \n",
       "...                               ...  \n",
       "214266  (41.744847238, -87.652229278)  \n",
       "214267                            NaN  \n",
       "214268                            NaN  \n",
       "214269                            NaN  \n",
       "214270                            NaN  \n",
       "\n",
       "[214271 rows x 27 columns]"
      ]
     },
     "execution_count": 19,
     "metadata": {},
     "output_type": "execute_result"
    }
   ],
   "source": [
    "arrest_all_years = chicago_crime_data.loc[chicago_crime_data[\"Arrest\"] == 1]\n",
    "arrest_all_years.sort_values(\"Date\", ascending=False).reset_index(drop=True)\n",
    "\n"
   ]
  },
  {
   "cell_type": "markdown",
   "metadata": {},
   "source": [
    "###### CRIMES THAT RESULTED IN NON ARREST FROM ALL YEARS"
   ]
  },
  {
   "cell_type": "code",
   "execution_count": 20,
   "metadata": {},
   "outputs": [
    {
     "data": {
      "text/html": [
       "<div>\n",
       "<style scoped>\n",
       "    .dataframe tbody tr th:only-of-type {\n",
       "        vertical-align: middle;\n",
       "    }\n",
       "\n",
       "    .dataframe tbody tr th {\n",
       "        vertical-align: top;\n",
       "    }\n",
       "\n",
       "    .dataframe thead th {\n",
       "        text-align: right;\n",
       "    }\n",
       "</style>\n",
       "<table border=\"1\" class=\"dataframe\">\n",
       "  <thead>\n",
       "    <tr style=\"text-align: right;\">\n",
       "      <th></th>\n",
       "      <th>ID</th>\n",
       "      <th>Case_Number</th>\n",
       "      <th>Date</th>\n",
       "      <th>Day</th>\n",
       "      <th>Month</th>\n",
       "      <th>Year</th>\n",
       "      <th>Time</th>\n",
       "      <th>Block</th>\n",
       "      <th>IUCR</th>\n",
       "      <th>Primary_Type</th>\n",
       "      <th>Description</th>\n",
       "      <th>Location_Description</th>\n",
       "      <th>Arrest</th>\n",
       "      <th>Domestic</th>\n",
       "      <th>Beat</th>\n",
       "      <th>District</th>\n",
       "      <th>Ward</th>\n",
       "      <th>Community_Area</th>\n",
       "      <th>FBI_Code</th>\n",
       "      <th>X_Coordinate</th>\n",
       "      <th>Y_Coordinate</th>\n",
       "      <th>Year.1</th>\n",
       "      <th>Updated_On_Date</th>\n",
       "      <th>Updated_On_Time</th>\n",
       "      <th>Latitude</th>\n",
       "      <th>Longitude</th>\n",
       "      <th>Location</th>\n",
       "    </tr>\n",
       "  </thead>\n",
       "  <tbody>\n",
       "    <tr>\n",
       "      <th>0</th>\n",
       "      <td>11646166</td>\n",
       "      <td>JC213529</td>\n",
       "      <td>2018-09-01</td>\n",
       "      <td>Saturday</td>\n",
       "      <td>September</td>\n",
       "      <td>2018</td>\n",
       "      <td>12:01:00 AM</td>\n",
       "      <td>082XX S INGLESIDE AVE</td>\n",
       "      <td>810</td>\n",
       "      <td>THEFT</td>\n",
       "      <td>OVER $500</td>\n",
       "      <td>RESIDENCE</td>\n",
       "      <td>False</td>\n",
       "      <td>True</td>\n",
       "      <td>631</td>\n",
       "      <td>6.0</td>\n",
       "      <td>8.0</td>\n",
       "      <td>44.0</td>\n",
       "      <td>6</td>\n",
       "      <td>NaN</td>\n",
       "      <td>NaN</td>\n",
       "      <td>2018</td>\n",
       "      <td>4/6/2019</td>\n",
       "      <td>4:04:43 PM</td>\n",
       "      <td>NaN</td>\n",
       "      <td>NaN</td>\n",
       "      <td>NaN</td>\n",
       "    </tr>\n",
       "    <tr>\n",
       "      <th>1</th>\n",
       "      <td>11645836</td>\n",
       "      <td>JC212333</td>\n",
       "      <td>2016-05-01</td>\n",
       "      <td>Sunday</td>\n",
       "      <td>May</td>\n",
       "      <td>2016</td>\n",
       "      <td>12:25:00 AM</td>\n",
       "      <td>055XX S ROCKWELL ST</td>\n",
       "      <td>1153</td>\n",
       "      <td>DECEPTIVE PRACTICE</td>\n",
       "      <td>FINANCIAL IDENTITY THEFT OVER $ 300</td>\n",
       "      <td>NaN</td>\n",
       "      <td>False</td>\n",
       "      <td>False</td>\n",
       "      <td>824</td>\n",
       "      <td>8.0</td>\n",
       "      <td>15.0</td>\n",
       "      <td>63.0</td>\n",
       "      <td>11</td>\n",
       "      <td>NaN</td>\n",
       "      <td>NaN</td>\n",
       "      <td>2016</td>\n",
       "      <td>4/6/2019</td>\n",
       "      <td>4:04:43 PM</td>\n",
       "      <td>NaN</td>\n",
       "      <td>NaN</td>\n",
       "      <td>NaN</td>\n",
       "    </tr>\n",
       "    <tr>\n",
       "      <th>3</th>\n",
       "      <td>11643334</td>\n",
       "      <td>JC209972</td>\n",
       "      <td>2018-12-19</td>\n",
       "      <td>Wednesday</td>\n",
       "      <td>December</td>\n",
       "      <td>2018</td>\n",
       "      <td>4:30:00 PM</td>\n",
       "      <td>056XX W WELLINGTON AVE</td>\n",
       "      <td>1320</td>\n",
       "      <td>CRIMINAL DAMAGE</td>\n",
       "      <td>TO VEHICLE</td>\n",
       "      <td>STREET</td>\n",
       "      <td>False</td>\n",
       "      <td>False</td>\n",
       "      <td>2514</td>\n",
       "      <td>25.0</td>\n",
       "      <td>31.0</td>\n",
       "      <td>19.0</td>\n",
       "      <td>14</td>\n",
       "      <td>NaN</td>\n",
       "      <td>NaN</td>\n",
       "      <td>2018</td>\n",
       "      <td>4/4/2019</td>\n",
       "      <td>4:16:11 PM</td>\n",
       "      <td>NaN</td>\n",
       "      <td>NaN</td>\n",
       "      <td>NaN</td>\n",
       "    </tr>\n",
       "    <tr>\n",
       "      <th>4</th>\n",
       "      <td>11645527</td>\n",
       "      <td>JC212744</td>\n",
       "      <td>2015-02-02</td>\n",
       "      <td>Monday</td>\n",
       "      <td>February</td>\n",
       "      <td>2015</td>\n",
       "      <td>10:00:00 AM</td>\n",
       "      <td>069XX W ARCHER AVE</td>\n",
       "      <td>1153</td>\n",
       "      <td>DECEPTIVE PRACTICE</td>\n",
       "      <td>FINANCIAL IDENTITY THEFT OVER $ 300</td>\n",
       "      <td>OTHER</td>\n",
       "      <td>False</td>\n",
       "      <td>False</td>\n",
       "      <td>811</td>\n",
       "      <td>8.0</td>\n",
       "      <td>23.0</td>\n",
       "      <td>56.0</td>\n",
       "      <td>11</td>\n",
       "      <td>NaN</td>\n",
       "      <td>NaN</td>\n",
       "      <td>2015</td>\n",
       "      <td>4/6/2019</td>\n",
       "      <td>4:04:43 PM</td>\n",
       "      <td>NaN</td>\n",
       "      <td>NaN</td>\n",
       "      <td>NaN</td>\n",
       "    </tr>\n",
       "    <tr>\n",
       "      <th>5</th>\n",
       "      <td>11034701</td>\n",
       "      <td>JA366925</td>\n",
       "      <td>2001-01-01</td>\n",
       "      <td>Monday</td>\n",
       "      <td>January</td>\n",
       "      <td>2001</td>\n",
       "      <td>11:00:00 AM</td>\n",
       "      <td>016XX E 86TH PL</td>\n",
       "      <td>1153</td>\n",
       "      <td>DECEPTIVE PRACTICE</td>\n",
       "      <td>FINANCIAL IDENTITY THEFT OVER $ 300</td>\n",
       "      <td>RESIDENCE</td>\n",
       "      <td>False</td>\n",
       "      <td>False</td>\n",
       "      <td>412</td>\n",
       "      <td>4.0</td>\n",
       "      <td>8.0</td>\n",
       "      <td>45.0</td>\n",
       "      <td>11</td>\n",
       "      <td>NaN</td>\n",
       "      <td>NaN</td>\n",
       "      <td>2001</td>\n",
       "      <td>8/5/2017</td>\n",
       "      <td>3:50:08 PM</td>\n",
       "      <td>NaN</td>\n",
       "      <td>NaN</td>\n",
       "      <td>NaN</td>\n",
       "    </tr>\n",
       "    <tr>\n",
       "      <th>...</th>\n",
       "      <td>...</td>\n",
       "      <td>...</td>\n",
       "      <td>...</td>\n",
       "      <td>...</td>\n",
       "      <td>...</td>\n",
       "      <td>...</td>\n",
       "      <td>...</td>\n",
       "      <td>...</td>\n",
       "      <td>...</td>\n",
       "      <td>...</td>\n",
       "      <td>...</td>\n",
       "      <td>...</td>\n",
       "      <td>...</td>\n",
       "      <td>...</td>\n",
       "      <td>...</td>\n",
       "      <td>...</td>\n",
       "      <td>...</td>\n",
       "      <td>...</td>\n",
       "      <td>...</td>\n",
       "      <td>...</td>\n",
       "      <td>...</td>\n",
       "      <td>...</td>\n",
       "      <td>...</td>\n",
       "      <td>...</td>\n",
       "      <td>...</td>\n",
       "      <td>...</td>\n",
       "      <td>...</td>\n",
       "    </tr>\n",
       "    <tr>\n",
       "      <th>1048570</th>\n",
       "      <td>11197438</td>\n",
       "      <td>JB107049</td>\n",
       "      <td>2018-01-06</td>\n",
       "      <td>Saturday</td>\n",
       "      <td>January</td>\n",
       "      <td>2018</td>\n",
       "      <td>8:30:00 PM</td>\n",
       "      <td>068XX S PAXTON AVE</td>\n",
       "      <td>497</td>\n",
       "      <td>BATTERY</td>\n",
       "      <td>AGGRAVATED DOMESTIC BATTERY: OTHER DANG WEAPON</td>\n",
       "      <td>STREET</td>\n",
       "      <td>False</td>\n",
       "      <td>True</td>\n",
       "      <td>331</td>\n",
       "      <td>3.0</td>\n",
       "      <td>5.0</td>\n",
       "      <td>43.0</td>\n",
       "      <td>04B</td>\n",
       "      <td>1192057.0</td>\n",
       "      <td>1860043.0</td>\n",
       "      <td>2018</td>\n",
       "      <td>5/4/2018</td>\n",
       "      <td>3:51:04 PM</td>\n",
       "      <td>41.770944</td>\n",
       "      <td>-87.571539</td>\n",
       "      <td>(41.770943794, -87.571539139)</td>\n",
       "    </tr>\n",
       "    <tr>\n",
       "      <th>1048571</th>\n",
       "      <td>11197439</td>\n",
       "      <td>JB106902</td>\n",
       "      <td>2018-01-03</td>\n",
       "      <td>Wednesday</td>\n",
       "      <td>January</td>\n",
       "      <td>2018</td>\n",
       "      <td>6:00:00 PM</td>\n",
       "      <td>056XX S DORCHESTER AVE</td>\n",
       "      <td>1320</td>\n",
       "      <td>CRIMINAL DAMAGE</td>\n",
       "      <td>TO VEHICLE</td>\n",
       "      <td>STREET</td>\n",
       "      <td>False</td>\n",
       "      <td>False</td>\n",
       "      <td>235</td>\n",
       "      <td>2.0</td>\n",
       "      <td>5.0</td>\n",
       "      <td>41.0</td>\n",
       "      <td>14</td>\n",
       "      <td>1186512.0</td>\n",
       "      <td>1867822.0</td>\n",
       "      <td>2018</td>\n",
       "      <td>5/4/2018</td>\n",
       "      <td>3:51:04 PM</td>\n",
       "      <td>41.792423</td>\n",
       "      <td>-87.591619</td>\n",
       "      <td>(41.792422991, -87.59161878)</td>\n",
       "    </tr>\n",
       "    <tr>\n",
       "      <th>1048572</th>\n",
       "      <td>11197440</td>\n",
       "      <td>JB106749</td>\n",
       "      <td>2018-01-06</td>\n",
       "      <td>Saturday</td>\n",
       "      <td>January</td>\n",
       "      <td>2018</td>\n",
       "      <td>2:05:00 PM</td>\n",
       "      <td>021XX E 71ST ST</td>\n",
       "      <td>820</td>\n",
       "      <td>THEFT</td>\n",
       "      <td>$500 AND UNDER</td>\n",
       "      <td>SMALL RETAIL STORE</td>\n",
       "      <td>False</td>\n",
       "      <td>False</td>\n",
       "      <td>333</td>\n",
       "      <td>3.0</td>\n",
       "      <td>5.0</td>\n",
       "      <td>43.0</td>\n",
       "      <td>6</td>\n",
       "      <td>1191936.0</td>\n",
       "      <td>1858282.0</td>\n",
       "      <td>2018</td>\n",
       "      <td>5/4/2018</td>\n",
       "      <td>3:51:04 PM</td>\n",
       "      <td>41.766114</td>\n",
       "      <td>-87.572040</td>\n",
       "      <td>(41.766114415, -87.572039808)</td>\n",
       "    </tr>\n",
       "    <tr>\n",
       "      <th>1048573</th>\n",
       "      <td>11197441</td>\n",
       "      <td>JB106499</td>\n",
       "      <td>2018-01-04</td>\n",
       "      <td>Thursday</td>\n",
       "      <td>January</td>\n",
       "      <td>2018</td>\n",
       "      <td>9:00:00 PM</td>\n",
       "      <td>046XX S MICHIGAN AVE</td>\n",
       "      <td>320</td>\n",
       "      <td>ROBBERY</td>\n",
       "      <td>STRONGARM - NO WEAPON</td>\n",
       "      <td>STREET</td>\n",
       "      <td>False</td>\n",
       "      <td>False</td>\n",
       "      <td>215</td>\n",
       "      <td>2.0</td>\n",
       "      <td>3.0</td>\n",
       "      <td>38.0</td>\n",
       "      <td>3</td>\n",
       "      <td>1177936.0</td>\n",
       "      <td>1874296.0</td>\n",
       "      <td>2018</td>\n",
       "      <td>5/4/2018</td>\n",
       "      <td>3:51:04 PM</td>\n",
       "      <td>41.810387</td>\n",
       "      <td>-87.622869</td>\n",
       "      <td>(41.810386978, -87.622869212)</td>\n",
       "    </tr>\n",
       "    <tr>\n",
       "      <th>1048574</th>\n",
       "      <td>11197444</td>\n",
       "      <td>JB105771</td>\n",
       "      <td>2018-01-05</td>\n",
       "      <td>Friday</td>\n",
       "      <td>January</td>\n",
       "      <td>2018</td>\n",
       "      <td>10:00:00 AM</td>\n",
       "      <td>017XX W 18TH ST</td>\n",
       "      <td>890</td>\n",
       "      <td>THEFT</td>\n",
       "      <td>FROM BUILDING</td>\n",
       "      <td>MEDICAL/DENTAL OFFICE</td>\n",
       "      <td>False</td>\n",
       "      <td>False</td>\n",
       "      <td>1234</td>\n",
       "      <td>12.0</td>\n",
       "      <td>25.0</td>\n",
       "      <td>31.0</td>\n",
       "      <td>6</td>\n",
       "      <td>1165024.0</td>\n",
       "      <td>1891450.0</td>\n",
       "      <td>2018</td>\n",
       "      <td>5/4/2018</td>\n",
       "      <td>3:51:04 PM</td>\n",
       "      <td>41.857742</td>\n",
       "      <td>-87.669743</td>\n",
       "      <td>(41.857742484, -87.669742789)</td>\n",
       "    </tr>\n",
       "  </tbody>\n",
       "</table>\n",
       "<p>834304 rows × 27 columns</p>\n",
       "</div>"
      ],
      "text/plain": [
       "               ID Case_Number       Date        Day      Month  Year  \\\n",
       "0        11646166    JC213529 2018-09-01   Saturday  September  2018   \n",
       "1        11645836    JC212333 2016-05-01     Sunday        May  2016   \n",
       "3        11643334    JC209972 2018-12-19  Wednesday   December  2018   \n",
       "4        11645527    JC212744 2015-02-02     Monday   February  2015   \n",
       "5        11034701    JA366925 2001-01-01     Monday    January  2001   \n",
       "...           ...         ...        ...        ...        ...   ...   \n",
       "1048570  11197438    JB107049 2018-01-06   Saturday    January  2018   \n",
       "1048571  11197439    JB106902 2018-01-03  Wednesday    January  2018   \n",
       "1048572  11197440    JB106749 2018-01-06   Saturday    January  2018   \n",
       "1048573  11197441    JB106499 2018-01-04   Thursday    January  2018   \n",
       "1048574  11197444    JB105771 2018-01-05     Friday    January  2018   \n",
       "\n",
       "                Time                   Block  IUCR        Primary_Type  \\\n",
       "0        12:01:00 AM   082XX S INGLESIDE AVE   810               THEFT   \n",
       "1        12:25:00 AM     055XX S ROCKWELL ST  1153  DECEPTIVE PRACTICE   \n",
       "3         4:30:00 PM  056XX W WELLINGTON AVE  1320     CRIMINAL DAMAGE   \n",
       "4        10:00:00 AM      069XX W ARCHER AVE  1153  DECEPTIVE PRACTICE   \n",
       "5        11:00:00 AM         016XX E 86TH PL  1153  DECEPTIVE PRACTICE   \n",
       "...              ...                     ...   ...                 ...   \n",
       "1048570   8:30:00 PM      068XX S PAXTON AVE   497             BATTERY   \n",
       "1048571   6:00:00 PM  056XX S DORCHESTER AVE  1320     CRIMINAL DAMAGE   \n",
       "1048572   2:05:00 PM         021XX E 71ST ST   820               THEFT   \n",
       "1048573   9:00:00 PM    046XX S MICHIGAN AVE   320             ROBBERY   \n",
       "1048574  10:00:00 AM         017XX W 18TH ST   890               THEFT   \n",
       "\n",
       "                                            Description  \\\n",
       "0                                             OVER $500   \n",
       "1                   FINANCIAL IDENTITY THEFT OVER $ 300   \n",
       "3                                            TO VEHICLE   \n",
       "4                   FINANCIAL IDENTITY THEFT OVER $ 300   \n",
       "5                   FINANCIAL IDENTITY THEFT OVER $ 300   \n",
       "...                                                 ...   \n",
       "1048570  AGGRAVATED DOMESTIC BATTERY: OTHER DANG WEAPON   \n",
       "1048571                                      TO VEHICLE   \n",
       "1048572                                  $500 AND UNDER   \n",
       "1048573                           STRONGARM - NO WEAPON   \n",
       "1048574                                   FROM BUILDING   \n",
       "\n",
       "          Location_Description  Arrest  Domestic  Beat  District  Ward  \\\n",
       "0                    RESIDENCE   False      True   631       6.0   8.0   \n",
       "1                          NaN   False     False   824       8.0  15.0   \n",
       "3                       STREET   False     False  2514      25.0  31.0   \n",
       "4                        OTHER   False     False   811       8.0  23.0   \n",
       "5                    RESIDENCE   False     False   412       4.0   8.0   \n",
       "...                        ...     ...       ...   ...       ...   ...   \n",
       "1048570                 STREET   False      True   331       3.0   5.0   \n",
       "1048571                 STREET   False     False   235       2.0   5.0   \n",
       "1048572     SMALL RETAIL STORE   False     False   333       3.0   5.0   \n",
       "1048573                 STREET   False     False   215       2.0   3.0   \n",
       "1048574  MEDICAL/DENTAL OFFICE   False     False  1234      12.0  25.0   \n",
       "\n",
       "         Community_Area FBI_Code  X_Coordinate  Y_Coordinate  Year.1  \\\n",
       "0                  44.0        6           NaN           NaN    2018   \n",
       "1                  63.0       11           NaN           NaN    2016   \n",
       "3                  19.0       14           NaN           NaN    2018   \n",
       "4                  56.0       11           NaN           NaN    2015   \n",
       "5                  45.0       11           NaN           NaN    2001   \n",
       "...                 ...      ...           ...           ...     ...   \n",
       "1048570            43.0      04B     1192057.0     1860043.0    2018   \n",
       "1048571            41.0       14     1186512.0     1867822.0    2018   \n",
       "1048572            43.0        6     1191936.0     1858282.0    2018   \n",
       "1048573            38.0        3     1177936.0     1874296.0    2018   \n",
       "1048574            31.0        6     1165024.0     1891450.0    2018   \n",
       "\n",
       "        Updated_On_Date Updated_On_Time   Latitude  Longitude  \\\n",
       "0              4/6/2019      4:04:43 PM        NaN        NaN   \n",
       "1              4/6/2019      4:04:43 PM        NaN        NaN   \n",
       "3              4/4/2019      4:16:11 PM        NaN        NaN   \n",
       "4              4/6/2019      4:04:43 PM        NaN        NaN   \n",
       "5              8/5/2017      3:50:08 PM        NaN        NaN   \n",
       "...                 ...             ...        ...        ...   \n",
       "1048570        5/4/2018      3:51:04 PM  41.770944 -87.571539   \n",
       "1048571        5/4/2018      3:51:04 PM  41.792423 -87.591619   \n",
       "1048572        5/4/2018      3:51:04 PM  41.766114 -87.572040   \n",
       "1048573        5/4/2018      3:51:04 PM  41.810387 -87.622869   \n",
       "1048574        5/4/2018      3:51:04 PM  41.857742 -87.669743   \n",
       "\n",
       "                              Location  \n",
       "0                                  NaN  \n",
       "1                                  NaN  \n",
       "3                                  NaN  \n",
       "4                                  NaN  \n",
       "5                                  NaN  \n",
       "...                                ...  \n",
       "1048570  (41.770943794, -87.571539139)  \n",
       "1048571   (41.792422991, -87.59161878)  \n",
       "1048572  (41.766114415, -87.572039808)  \n",
       "1048573  (41.810386978, -87.622869212)  \n",
       "1048574  (41.857742484, -87.669742789)  \n",
       "\n",
       "[834304 rows x 27 columns]"
      ]
     },
     "execution_count": 20,
     "metadata": {},
     "output_type": "execute_result"
    }
   ],
   "source": [
    "non_arrest_all_years = chicago_crime_data.loc[chicago_crime_data[\"Arrest\"] == 0]\n",
    "non_arrest_all_years"
   ]
  },
  {
   "cell_type": "markdown",
   "metadata": {},
   "source": [
    "###### PERCENTAGE OF ARREST VS NON ARREST FROM ALL YEARS"
   ]
  },
  {
   "cell_type": "code",
   "execution_count": 58,
   "metadata": {},
   "outputs": [
    {
     "name": "stdout",
     "output_type": "stream",
     "text": [
      "The perentage of Arrest vs Non Arrest is 25.68%\n"
     ]
    }
   ],
   "source": [
    "arrest_percentage = round((arrest_all_years.shape[0] / non_arrest_all_years.shape[0]) * 100, 2)\n",
    "print(f\"The perentage of Arrest vs Non Arrest is {arrest_percentage}%\")"
   ]
  },
  {
   "cell_type": "markdown",
   "metadata": {},
   "source": [
    "###### PERCENTAGE OF ARREST VS ALL CRIMES"
   ]
  },
  {
   "cell_type": "code",
   "execution_count": 66,
   "metadata": {},
   "outputs": [
    {
     "name": "stdout",
     "output_type": "stream",
     "text": [
      "This graph represents the percentage of arrest vs all crimes\n"
     ]
    },
    {
     "data": {
      "image/png": "[encoded data removed]",
      "text/plain": [
       "<Figure size 640x480 with 1 Axes>"
      ]
     },
     "metadata": {},
     "output_type": "display_data"
    }
   ],
   "source": [
    "e = [0,0.1]\n",
    "chart = {\"Name\": [\"Arrest\", \"Non Arrest\"],\n",
    "        \"Arrest\": pd.Series([arrest_all_years.shape[0], non_arrest_all_years.shape[0]])}\n",
    "pie_chart = pd.DataFrame(chart)\n",
    "pie_chart\n",
    "pie_chart = pie_chart.rename(index={0: \"Arrest\", 1: \"All Crimes\"})\n",
    "pie_chart\n",
    "\n",
    "pie_chart.plot(kind=\"pie\", x=\"Name\", y=\"Arrest\", autopct=\"%1.1f%%\", explode=e, shadow=True),\n",
    "plt.title(\"Percent of Arrest vs All All Crimes\", color=\"red\", fontsize=20), \n",
    "plt.ylabel(\"\"),\n",
    "plt.legend(\"\"),\n",
    "sns.set_style(\"darkgrid\")\n",
    "print(\"This graph represents the percentage of arrest vs all crimes\")"
   ]
  },
  {
   "cell_type": "markdown",
   "metadata": {},
   "source": [
    "###### PERCENTAGE OF NON ARREST VS ALL CRIMES"
   ]
  },
  {
   "cell_type": "code",
   "execution_count": 67,
   "metadata": {},
   "outputs": [
    {
     "name": "stdout",
     "output_type": "stream",
     "text": [
      "This graph represents the percentage of non arrest vs all crimes\n"
     ]
    },
    {
     "data": {
      "image/png": "[encoded data removed]",
      "text/plain": [
       "<Figure size 640x480 with 1 Axes>"
      ]
     },
     "metadata": {},
     "output_type": "display_data"
    }
   ],
   "source": [
    "e = [0.1, 0]\n",
    "chart = {\"Name\": [\"Arrest\", \"Non Arrest\"],\n",
    "        \"Arrest\": pd.Series([non_arrest_all_years.shape[0], arrest_all_years.shape[0]])}\n",
    "pie_chart = pd.DataFrame(chart)\n",
    "pie_chart\n",
    "pie_chart = pie_chart.rename(index={0: \"Non Arrest\", 1: \"All Crimes\"})\n",
    "pie_chart\n",
    "\n",
    "pie_chart.plot(kind=\"pie\", x=\"Name\", y=\"Arrest\", autopct=\"%1.1f%%\", explode=e, shadow=True),\n",
    "plt.title(\"Percent of Non Arrest vs All All Crimes\", color=\"red\", fontsize=20), \n",
    "plt.ylabel(\"\"),\n",
    "plt.legend(\"\"),\n",
    "style.use(\"dark_background\")\n",
    "print(\"This graph represents the percentage of non arrest vs all crimes\")"
   ]
  },
  {
   "cell_type": "markdown",
   "metadata": {},
   "source": [
    "###### COUNT OF ARREST VS NON ARREST"
   ]
  },
  {
   "cell_type": "code",
   "execution_count": 24,
   "metadata": {},
   "outputs": [
    {
     "name": "stdout",
     "output_type": "stream",
     "text": [
      "There were 214271 total arrest made, while 834304 non arrest were made for crimes in the city of Chicago.\n"
     ]
    }
   ],
   "source": [
    "arrest = chicago_crime_data[\"Arrest\"].loc[chicago_crime_data[\"Arrest\"] == 1].count()\n",
    "non_arrest = chicago_crime_data[\"Arrest\"].loc[chicago_crime_data[\"Arrest\"] == 0].count()\n",
    "print(f\"There were {arrest} total arrest made, while {non_arrest} non arrest were made for crimes in the city of Chicago.\")\n"
   ]
  },
  {
   "cell_type": "markdown",
   "metadata": {},
   "source": [
    "###### COUNT OF CRIME TYPE BY YEAR"
   ]
  },
  {
   "cell_type": "code",
   "execution_count": 25,
   "metadata": {},
   "outputs": [
    {
     "data": {
      "text/plain": [
       "Primary_Type       Year\n",
       "ARSON              2001      17\n",
       "                   2002      65\n",
       "                   2003      18\n",
       "                   2004      22\n",
       "                   2005      13\n",
       "                           ... \n",
       "WEAPONS VIOLATION  2019      58\n",
       "                   2020      92\n",
       "                   2021     111\n",
       "                   2022     156\n",
       "                   2023    4723\n",
       "Name: Primary_Type, Length: 651, dtype: int64"
      ]
     },
     "execution_count": 25,
     "metadata": {},
     "output_type": "execute_result"
    }
   ],
   "source": [
    "crime_by_year = chicago_crime_data.groupby([\"Primary_Type\", \"Year\"])[\"Primary_Type\"].count()\n",
    "crime_by_year"
   ]
  },
  {
   "cell_type": "markdown",
   "metadata": {},
   "source": [
    "###### COUNT OF CRIME TYPE BY YEAR WITH ARREST"
   ]
  },
  {
   "cell_type": "code",
   "execution_count": 26,
   "metadata": {},
   "outputs": [
    {
     "data": {
      "text/plain": [
       "Year  Primary_Type                     \n",
       "2001  ARSON                                   3\n",
       "      ASSAULT                               132\n",
       "      BATTERY                               358\n",
       "      BURGLARY                               25\n",
       "      CONCEALED CARRY LICENSE VIOLATION       1\n",
       "                                           ... \n",
       "2023  ROBBERY                               207\n",
       "      SEX OFFENSE                            30\n",
       "      STALKING                               11\n",
       "      THEFT                                1348\n",
       "      WEAPONS VIOLATION                    2794\n",
       "Name: Primary_Type, Length: 589, dtype: int64"
      ]
     },
     "execution_count": 26,
     "metadata": {},
     "output_type": "execute_result"
    }
   ],
   "source": [
    "crime_grouped_by_year_arrest = chicago_crime_data.loc[chicago_crime_data.Arrest == 1].groupby([\"Year\", \"Primary_Type\"])[\"Primary_Type\"].count()\n",
    "crime_grouped_by_year_arrest"
   ]
  },
  {
   "cell_type": "markdown",
   "metadata": {},
   "source": [
    "###### COUNT OF CRIME TYPE BY YEAR WITH NON ARREST"
   ]
  },
  {
   "cell_type": "code",
   "execution_count": 27,
   "metadata": {},
   "outputs": [
    {
     "data": {
      "text/plain": [
       "Year  Primary_Type       \n",
       "2001  ARSON                     14\n",
       "      ASSAULT                  458\n",
       "      BATTERY                 1369\n",
       "      BURGLARY                 321\n",
       "      CRIM SEXUAL ASSAULT       44\n",
       "                             ...  \n",
       "2023  ROBBERY                 4726\n",
       "      SEX OFFENSE              660\n",
       "      STALKING                 238\n",
       "      THEFT                  27203\n",
       "      WEAPONS VIOLATION       1929\n",
       "Name: Primary_Type, Length: 575, dtype: int64"
      ]
     },
     "execution_count": 27,
     "metadata": {},
     "output_type": "execute_result"
    }
   ],
   "source": [
    "crime_grouped_by_year_no_arrest = chicago_crime_data.loc[chicago_crime_data[\"Arrest\"] == 0].groupby([\"Year\", \"Primary_Type\"])[\"Primary_Type\"].count()\n",
    "crime_grouped_by_year_no_arrest"
   ]
  },
  {
   "cell_type": "markdown",
   "metadata": {},
   "source": [
    "###### MOST CRIMES BY YEAR"
   ]
  },
  {
   "cell_type": "code",
   "execution_count": 28,
   "metadata": {},
   "outputs": [
    {
     "data": {
      "text/plain": [
       "Year\n",
       "2016    268969\n",
       "2017    267562\n",
       "2015    218047\n",
       "2023    133998\n",
       "2002     20858\n",
       "2008     12357\n",
       "2009     11485\n",
       "2018     11450\n",
       "2003      9430\n",
       "2001      9052\n",
       "Name: Primary_Type, dtype: int64"
      ]
     },
     "execution_count": 28,
     "metadata": {},
     "output_type": "execute_result"
    }
   ],
   "source": [
    "chicago_crime_data.groupby(\"Year\").count()[\"Primary_Type\"].sort_values(ascending=False)[:10]"
   ]
  },
  {
   "cell_type": "markdown",
   "metadata": {},
   "source": [
    "###### GRAPH OF MOST CRIMES BY YEAR"
   ]
  },
  {
   "cell_type": "code",
   "execution_count": 78,
   "metadata": {},
   "outputs": [
    {
     "name": "stdout",
     "output_type": "stream",
     "text": [
      "This graph represents the top 10 years with the highest crime, with 2016 being the highest\n"
     ]
    },
    {
     "data": {
      "image/png": "[encoded data removed]",
      "text/plain": [
       "<Figure size 1000x500 with 1 Axes>"
      ]
     },
     "metadata": {},
     "output_type": "display_data"
    }
   ],
   "source": [
    "plt.figure(figsize=(10,5))\n",
    "chicago_crime_data.groupby(\"Year\")[\"Primary_Type\"].count().sort_values(ascending=False)[:10].plot(kind=\"bar\", color=\"yellow\", rot=0),\n",
    "plt.title(\"Top 10 Years with Most Crime\", color=\"red\", fontsize=20),\n",
    "ticks = list(range(0,300000,50000))\n",
    "plt.yticks(ticks, [f\"{x} crimes\" for x in ticks]),\n",
    "plt.ylabel(\"\"), \n",
    "plt.xlabel(\"\"),\n",
    "sns.set_style(\"darkgrid\")\n",
    "print(\"This graph represents the top 10 years with the highest crime, with 2016 being the highest\")\n"
   ]
  },
  {
   "cell_type": "markdown",
   "metadata": {},
   "source": [
    "###### MOST CRIMES BY DAY OF THE WEEK"
   ]
  },
  {
   "cell_type": "code",
   "execution_count": 30,
   "metadata": {},
   "outputs": [
    {
     "data": {
      "text/plain": [
       "Day\n",
       "Friday       156582\n",
       "Saturday     150227\n",
       "Thursday     149918\n",
       "Monday       148882\n",
       "Tuesday      148828\n",
       "Wednesday    148723\n",
       "Sunday       145415\n",
       "Name: Primary_Type, dtype: int64"
      ]
     },
     "execution_count": 30,
     "metadata": {},
     "output_type": "execute_result"
    }
   ],
   "source": [
    "chicago_crime_data.groupby(\"Day\").count()[\"Primary_Type\"].sort_values(ascending=False)"
   ]
  },
  {
   "cell_type": "markdown",
   "metadata": {},
   "source": [
    "###### GRAPH OF MOST CRIMES BY DAY OF WEEK"
   ]
  },
  {
   "cell_type": "code",
   "execution_count": 85,
   "metadata": {},
   "outputs": [
    {
     "name": "stdout",
     "output_type": "stream",
     "text": [
      "This graph represents that the highest amount of crime committed in Chicago is on Fridays\n"
     ]
    },
    {
     "data": {
      "image/png": "[encoded data removed]",
      "text/plain": [
       "<Figure size 1000x400 with 1 Axes>"
      ]
     },
     "metadata": {},
     "output_type": "display_data"
    }
   ],
   "source": [
    "plt.figure(figsize=(10,4))\n",
    "chicago_crime_data.groupby(\"Day\")[\"Primary_Type\"].count().sort_values(ascending=True).plot(kind=\"line\", color=\"skyblue\", linestyle=\"--\", marker=\"o\", label=\"line with marker\"),\n",
    "plt.title(\"Most Crimes by Day\", color=\"red\", fontsize=20),\n",
    "ticks = list(range(146000,160000,2000))\n",
    "plt.yticks(ticks, [f\"{x} crimes\" for x in ticks]),\n",
    "plt.xlabel(\"\"),\n",
    "plt.ylabel(\"\"),\n",
    "sns.set_style(\"darkgrid\")\n",
    "print(\"This graph represents that the highest amount of crime committed in Chicago is on Fridays\")\n"
   ]
  },
  {
   "cell_type": "markdown",
   "metadata": {},
   "source": [
    "###### COUNT OF CRIMES BY MONTH"
   ]
  },
  {
   "cell_type": "code",
   "execution_count": 32,
   "metadata": {},
   "outputs": [
    {
     "data": {
      "text/plain": [
       "Month\n",
       "June         105569\n",
       "May          103935\n",
       "July          97472\n",
       "April         96998\n",
       "August        88164\n",
       "March         85759\n",
       "October       84015\n",
       "January       82558\n",
       "September     82421\n",
       "November      76941\n",
       "December      76289\n",
       "February      68453\n",
       "Name: Case_Number, dtype: int64"
      ]
     },
     "execution_count": 32,
     "metadata": {},
     "output_type": "execute_result"
    }
   ],
   "source": [
    "crime_by_month = chicago_crime_data.groupby(\"Month\")[\"Case_Number\"].count()\n",
    "crime_by_month.sort_values(ascending=False)"
   ]
  },
  {
   "cell_type": "markdown",
   "metadata": {},
   "source": [
    "###### GRAPH OF CRIMES BY MONTH"
   ]
  },
  {
   "cell_type": "code",
   "execution_count": 87,
   "metadata": {},
   "outputs": [
    {
     "name": "stdout",
     "output_type": "stream",
     "text": [
      "This graph shows us that Chicago experiences the most amount of crimes in the month of June\n"
     ]
    },
    {
     "data": {
      "image/png": "[encoded data removed]",
      "text/plain": [
       "<Figure size 1000x500 with 1 Axes>"
      ]
     },
     "metadata": {},
     "output_type": "display_data"
    }
   ],
   "source": [
    "plt.figure(figsize=(10,5))\n",
    "chicago_crime_data.groupby(\"Month\").count()[\"Primary_Type\"].sort_values(ascending=False).plot(kind=\"bar\", x=\"Month\", y=\"Primary_Type\", color=\"orange\", rot=0),\n",
    "plt.title(\"Most Crimes by Month\", color=\"red\", fontsize=20),\n",
    "ticks = list(range(0,100000,20000))\n",
    "plt.yticks(ticks, [f\"{x} crimes\" for x in ticks]),\n",
    "plt.xlabel(\"\"),\n",
    "plt.ylabel(\"\") ,\n",
    "sns.set_style(\"darkgrid\")\n",
    "print(\"This graph shows us that Chicago experiences the most amount of crimes in the month of June\")"
   ]
  },
  {
   "cell_type": "markdown",
   "metadata": {},
   "source": [
    "###### COUNT OF CRIMES BY MONTH RESULTING IN ARREST"
   ]
  },
  {
   "cell_type": "code",
   "execution_count": 34,
   "metadata": {},
   "outputs": [
    {
     "data": {
      "text/plain": [
       "Month\n",
       "April        20759\n",
       "August       18593\n",
       "December     14088\n",
       "February     14278\n",
       "January      15236\n",
       "July         20128\n",
       "June         20966\n",
       "March        18067\n",
       "May          21671\n",
       "November     15646\n",
       "October      17285\n",
       "September    17554\n",
       "Name: Primary_Type, dtype: int64"
      ]
     },
     "execution_count": 34,
     "metadata": {},
     "output_type": "execute_result"
    }
   ],
   "source": [
    "crime_grouped_by_month_arrest =  chicago_crime_data.loc[chicago_crime_data[\"Arrest\"] == 1].groupby([\"Month\"])[\"Primary_Type\"].count()\n",
    "crime_grouped_by_month_arrest"
   ]
  },
  {
   "cell_type": "markdown",
   "metadata": {},
   "source": [
    "###### GRAPH OF CRIMES BY MONTH RESULTING IN ARREST"
   ]
  },
  {
   "cell_type": "code",
   "execution_count": 103,
   "metadata": {},
   "outputs": [
    {
     "name": "stdout",
     "output_type": "stream",
     "text": [
      "This graph shows us that the most crimes resulting in arrest occur in the month of May\n"
     ]
    },
    {
     "data": {
      "image/png": "[encoded data removed]",
      "text/plain": [
       "<Figure size 1000x500 with 1 Axes>"
      ]
     },
     "metadata": {},
     "output_type": "display_data"
    }
   ],
   "source": [
    "plt.figure(figsize=(10,5))\n",
    "chicago_crime_data.loc[chicago_crime_data[\"Arrest\"] == 1].groupby(\"Month\").count()[\"Primary_Type\"].sort_values(ascending=False).plot(kind=\"bar\", color=\"magenta\", rot=0),\n",
    "plt.title(\"Num of Crimes per Month Resulting in Arrest\", color=\"red\", fontsize=20),\n",
    "ticks = list(range(0,30000,5000))\n",
    "plt.yticks(ticks, [f\"{x} crimes\" for x in ticks]),\n",
    "plt.ylabel(\"\"),\n",
    "plt.xlabel(\"\") \n",
    "print(\"This graph shows us that the most crimes resulting in arrest occur in the month of May\")"
   ]
  },
  {
   "cell_type": "markdown",
   "metadata": {},
   "source": [
    "###### COUNT OF CRIMES BY MONTH RESULTING IN NON ARREST"
   ]
  },
  {
   "cell_type": "code",
   "execution_count": 36,
   "metadata": {},
   "outputs": [
    {
     "data": {
      "text/plain": [
       "Month\n",
       "April        76239\n",
       "August       69571\n",
       "December     62201\n",
       "February     54176\n",
       "January      67322\n",
       "July         77344\n",
       "June         84603\n",
       "March        67692\n",
       "May          82264\n",
       "November     61295\n",
       "October      66730\n",
       "September    64867\n",
       "Name: Primary_Type, dtype: int64"
      ]
     },
     "execution_count": 36,
     "metadata": {},
     "output_type": "execute_result"
    }
   ],
   "source": [
    "crimes_grouped_by_month_non_arrest = chicago_crime_data.loc[chicago_crime_data[\"Arrest\"] == 0].groupby([\"Month\"])[\"Primary_Type\"].count()\n",
    "crimes_grouped_by_month_non_arrest"
   ]
  },
  {
   "cell_type": "markdown",
   "metadata": {},
   "source": [
    "###### GRAPH OF CRIMES BY MONTH RESULTING IN NON ARREST"
   ]
  },
  {
   "cell_type": "code",
   "execution_count": 104,
   "metadata": {},
   "outputs": [
    {
     "name": "stdout",
     "output_type": "stream",
     "text": [
      "This graph shows us that the most crimes resulting in non arrest occur in the month of June\n"
     ]
    },
    {
     "data": {
      "image/png": "[encoded data removed]",
      "text/plain": [
       "<Figure size 1500x500 with 1 Axes>"
      ]
     },
     "metadata": {},
     "output_type": "display_data"
    }
   ],
   "source": [
    "plt.figure(figsize=(15,5))\n",
    "chicago_crime_data.loc[chicago_crime_data[\"Arrest\"] == 0].groupby(\"Month\").count()[\"Primary_Type\"].sort_values(ascending=True).plot(kind=\"barh\", color=\"blue\"),\n",
    "plt.title(\"Num of Crimes by Month Resulting in Non Arrest\", color=\"red\", fontsize=20),\n",
    "ticks = list(range(0,85000,10000))\n",
    "plt.xticks(ticks, [f\"{x} crimes\" for x in ticks]),\n",
    "plt.xlabel(\"\"),\n",
    "plt.ylabel(\"\"),\n",
    "sns.set_style(\"darkgrid\")\n",
    "print(\"This graph shows us that the most crimes resulting in non arrest occur in the month of June\")\n"
   ]
  },
  {
   "cell_type": "markdown",
   "metadata": {},
   "source": [
    "###### COUNT OF MOST CRIMES BY DISTRICT"
   ]
  },
  {
   "cell_type": "code",
   "execution_count": 96,
   "metadata": {},
   "outputs": [
    {
     "data": {
      "text/plain": [
       "District\n",
       "11.0    70721\n",
       "8.0     66719\n",
       "6.0     61222\n",
       "4.0     58941\n",
       "25.0    56750\n",
       "12.0    55575\n",
       "7.0     54891\n",
       "18.0    53018\n",
       "1.0     52432\n",
       "3.0     50454\n",
       "2.0     48951\n",
       "19.0    48153\n",
       "9.0     47507\n",
       "10.0    47217\n",
       "5.0     46007\n",
       "15.0    40905\n",
       "14.0    38433\n",
       "16.0    36719\n",
       "22.0    33693\n",
       "24.0    31122\n",
       "17.0    30249\n",
       "20.0    18859\n",
       "31.0       36\n",
       "Name: Primary_Type, dtype: int64"
      ]
     },
     "execution_count": 96,
     "metadata": {},
     "output_type": "execute_result"
    }
   ],
   "source": [
    "crimes_by_district = chicago_crime_data.groupby(\"District\").count()[\"Primary_Type\"].sort_values(ascending=False)\n",
    "crimes_by_district"
   ]
  },
  {
   "cell_type": "markdown",
   "metadata": {},
   "source": [
    "###### GRAPH OF TOP 10 DISTRICTS BY CRIMES"
   ]
  },
  {
   "cell_type": "code",
   "execution_count": 97,
   "metadata": {},
   "outputs": [
    {
     "name": "stdout",
     "output_type": "stream",
     "text": [
      "This graph shows us the top 10 districts that experience the most amount of crime in Chicago \n"
     ]
    },
    {
     "data": {
      "image/png": "[encoded data removed]",
      "text/plain": [
       "<Figure size 800x400 with 1 Axes>"
      ]
     },
     "metadata": {},
     "output_type": "display_data"
    }
   ],
   "source": [
    "plt.figure(figsize=(8,4))\n",
    "crimes_by_district[:10].plot(kind=\"bar\", color=\"black\", rot=0),\n",
    "plt.title(\"Count of Crimes by District\", color=\"red\", fontsize=20),\n",
    "ticks = list(range(0,80000,10000))\n",
    "plt.yticks(ticks, [f\"{x} crimes\" for x in ticks])\n",
    "plt.xlabel(\"District\", color=\"red\"),\n",
    "plt.ylabel(\"\"),\n",
    "sns.set_style(\"darkgrid\")\n",
    "print(\"This graph shows us the top 10 districts that experience the most amount of crime in Chicago \")"
   ]
  },
  {
   "cell_type": "markdown",
   "metadata": {},
   "source": [
    "###### COUNT OF MOST CRIMES BY DISTRICT RESULTING IN ARREST"
   ]
  },
  {
   "cell_type": "code",
   "execution_count": 40,
   "metadata": {},
   "outputs": [
    {
     "data": {
      "text/plain": [
       "District\n",
       "11.0    27175\n",
       "7.0     14822\n",
       "6.0     13384\n",
       "10.0    12326\n",
       "25.0    11910\n",
       "15.0    11610\n",
       "4.0     11584\n",
       "8.0     11517\n",
       "5.0     10441\n",
       "9.0      9940\n",
       "1.0      9690\n",
       "3.0      9675\n",
       "18.0     8534\n",
       "2.0      7862\n",
       "12.0     7807\n",
       "19.0     6711\n",
       "16.0     6036\n",
       "22.0     5601\n",
       "14.0     5113\n",
       "24.0     5064\n",
       "17.0     4129\n",
       "20.0     3323\n",
       "31.0       17\n",
       "Name: Primary_Type, dtype: int64"
      ]
     },
     "execution_count": 40,
     "metadata": {},
     "output_type": "execute_result"
    }
   ],
   "source": [
    "crimes_by_district_arrest = chicago_crime_data.loc[chicago_crime_data[\"Arrest\"] == 1].groupby(\"District\").count()[\"Primary_Type\"].sort_values(ascending=False)\n",
    "crimes_by_district_arrest"
   ]
  },
  {
   "cell_type": "markdown",
   "metadata": {},
   "source": [
    "###### GRAPH OF CRIMES BY DISTRICT RESULTING IN ARREST"
   ]
  },
  {
   "cell_type": "code",
   "execution_count": 102,
   "metadata": {},
   "outputs": [
    {
     "name": "stdout",
     "output_type": "stream",
     "text": [
      "This graph shows us that district 11 experiences the most crime in Chicago that results in arrest\n"
     ]
    },
    {
     "data": {
      "image/png": "[encoded data removed]",
      "text/plain": [
       "<Figure size 1000x400 with 1 Axes>"
      ]
     },
     "metadata": {},
     "output_type": "display_data"
    }
   ],
   "source": [
    "plt.figure(figsize=(10,4))\n",
    "crimes_by_district_arrest.plot(kind=\"bar\", color=\"green\", rot=0),\n",
    "plt.title(\"Count of Crimes by District Resulting in Arrest\", color=\"red\", fontsize=20),\n",
    "ticks = list(range(0,30000,5000))\n",
    "plt.yticks(ticks, [f\"{x} crimes\" for x in ticks]),\n",
    "plt.xlabel(\"District\", color=\"red\"),\n",
    "plt.ylabel(\"\"),\n",
    "sns.set_style(\"darkgrid\")\n",
    "print(\"This graph shows us that district 11 experiences the most crime in Chicago that results in arrest\")"
   ]
  },
  {
   "cell_type": "markdown",
   "metadata": {},
   "source": [
    "###### COUNT OF MOST CRIMES BY DISTRICT RESULTING IN NON ARREST"
   ]
  },
  {
   "cell_type": "code",
   "execution_count": 42,
   "metadata": {},
   "outputs": [
    {
     "data": {
      "text/plain": [
       "District\n",
       "8.0     55202\n",
       "6.0     47838\n",
       "12.0    47768\n",
       "4.0     47357\n",
       "25.0    44840\n",
       "18.0    44484\n",
       "11.0    43546\n",
       "1.0     42742\n",
       "19.0    41442\n",
       "2.0     41089\n",
       "3.0     40779\n",
       "7.0     40069\n",
       "9.0     37567\n",
       "5.0     35566\n",
       "10.0    34891\n",
       "14.0    33320\n",
       "16.0    30683\n",
       "15.0    29295\n",
       "22.0    28092\n",
       "17.0    26120\n",
       "24.0    26058\n",
       "20.0    15536\n",
       "31.0       19\n",
       "Name: Primary_Type, dtype: int64"
      ]
     },
     "execution_count": 42,
     "metadata": {},
     "output_type": "execute_result"
    }
   ],
   "source": [
    "crimes_by_district_non_arrest = chicago_crime_data.loc[chicago_crime_data[\"Arrest\"] == 0].groupby(\"District\").count()[\"Primary_Type\"].sort_values(ascending=False)\n",
    "crimes_by_district_non_arrest"
   ]
  },
  {
   "cell_type": "markdown",
   "metadata": {},
   "source": [
    "###### GRAPH OF TOP 10 DISTRICTS BY CRIME RESULTING IN NON ARREST"
   ]
  },
  {
   "cell_type": "code",
   "execution_count": 101,
   "metadata": {},
   "outputs": [
    {
     "name": "stdout",
     "output_type": "stream",
     "text": [
      "This graph shows us that district 8 experiences the most crime in Chicago that results in non arrest\n"
     ]
    },
    {
     "data": {
      "image/png": "[encoded data removed]",
      "text/plain": [
       "<Figure size 1000x500 with 1 Axes>"
      ]
     },
     "metadata": {},
     "output_type": "display_data"
    }
   ],
   "source": [
    "plt.figure(figsize=(10, 5))\n",
    "crimes_by_district_non_arrest.plot(kind=\"bar\", color=\"grey\", rot=0),\n",
    "plt.title(\"Count of Crimes by District Resulting in Non Arrest\", color=\"red\", fontsize=20),\n",
    "ticks = list(range(0,60000,10000))\n",
    "plt.yticks(ticks, [f\"{x} crimes\" for x in ticks]),\n",
    "plt.xlabel(\"District\", color=\"red\"),\n",
    "plt.ylabel(\"\"),\n",
    "sns.set_style(\"darkgrid\")\n",
    "print(\"This graph shows us that district 8 experiences the most crime in Chicago that results in non arrest\")"
   ]
  }
 ],
 "metadata": {
  "kernelspec": {
   "display_name": "base",
   "language": "python",
   "name": "python3"
  },
  "language_info": {
   "codemirror_mode": {
    "name": "ipython",
    "version": 3
   },
   "file_extension": ".py",
   "mimetype": "text/x-python",
   "name": "python",
   "nbconvert_exporter": "python",
   "pygments_lexer": "ipython3",
   "version": "3.9.13"
  },
  "orig_nbformat": 4
 },
 "nbformat": 4,
 "nbformat_minor": 2
}

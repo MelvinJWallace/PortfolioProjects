{
 "cells": [
  {
   "cell_type": "markdown",
   "metadata": {},
   "source": [
    "###### In this project, I will be performing exploratory data analysis using univariate, bivariate, and multivariate techniques to gain valuable insights that can contribute to actionable decision making.\n",
    "\n",
    "\n",
    "Importing Libraries Needed for Analysis and Visualizations\n",
    "\n",
    "###### Numpy for numerical computations\n",
    "###### Pandas for reading in data and data manipulation\n",
    "###### Matplotlib.pyplot for visualizations\n",
    "###### Seaborn for visualizing data"
   ]
  },
  {
   "cell_type": "code",
   "execution_count": 2,
   "metadata": {},
   "outputs": [],
   "source": [
    "import numpy as np \n",
    "import pandas as pd \n",
    "pd.set_option(\"display.max_columns\", None)\n",
    "import matplotlib.pyplot as plt \n",
    "%matplotlib inline\n",
    "from matplotlib import style\n",
    "import seaborn as sns"
   ]
  },
  {
   "cell_type": "markdown",
   "metadata": {},
   "source": [
    "Reading Data into DataFrame for Analysis\n",
    "\n",
    "###### Reading an excel file stored on my local machine into a dataframe"
   ]
  },
  {
   "cell_type": "code",
   "execution_count": 3,
   "metadata": {},
   "outputs": [],
   "source": [
    "USRegional_Sales = pd.read_excel(r\"C:\\Users\\Jason\\OneDrive\\US_Regional_Sales_Data.xlsx\")"
   ]
  },
  {
   "cell_type": "markdown",
   "metadata": {},
   "source": [
    "Viewing the first 3 rows of data\n",
    "\n",
    "###### To get a quick preview of what the first few rows look like, checking for consistency"
   ]
  },
  {
   "cell_type": "code",
   "execution_count": 4,
   "metadata": {},
   "outputs": [
    {
     "data": {
      "text/html": [
       "<div>\n",
       "<style scoped>\n",
       "    .dataframe tbody tr th:only-of-type {\n",
       "        vertical-align: middle;\n",
       "    }\n",
       "\n",
       "    .dataframe tbody tr th {\n",
       "        vertical-align: top;\n",
       "    }\n",
       "\n",
       "    .dataframe thead th {\n",
       "        text-align: right;\n",
       "    }\n",
       "</style>\n",
       "<table border=\"1\" class=\"dataframe\">\n",
       "  <thead>\n",
       "    <tr style=\"text-align: right;\">\n",
       "      <th></th>\n",
       "      <th>OrderNumber</th>\n",
       "      <th>Sales Channel</th>\n",
       "      <th>WarehouseCode</th>\n",
       "      <th>ProcuredDate</th>\n",
       "      <th>OrderDate</th>\n",
       "      <th>ShipDate</th>\n",
       "      <th>DeliveryDate</th>\n",
       "      <th>CurrencyCode</th>\n",
       "      <th>_SalesTeamID</th>\n",
       "      <th>_CustomerID</th>\n",
       "      <th>_StoreID</th>\n",
       "      <th>_ProductID</th>\n",
       "      <th>Order Quantity</th>\n",
       "      <th>Discount Applied</th>\n",
       "      <th>Unit Cost</th>\n",
       "      <th>Unit Price</th>\n",
       "    </tr>\n",
       "  </thead>\n",
       "  <tbody>\n",
       "    <tr>\n",
       "      <th>0</th>\n",
       "      <td>SO - 000101</td>\n",
       "      <td>In-Store</td>\n",
       "      <td>WARE-UHY1004</td>\n",
       "      <td>2017-12-31</td>\n",
       "      <td>2018-05-31</td>\n",
       "      <td>2018-06-14</td>\n",
       "      <td>2018-06-19</td>\n",
       "      <td>USD</td>\n",
       "      <td>6</td>\n",
       "      <td>15</td>\n",
       "      <td>259</td>\n",
       "      <td>12</td>\n",
       "      <td>5</td>\n",
       "      <td>0.075</td>\n",
       "      <td>1001.18</td>\n",
       "      <td>1963.1</td>\n",
       "    </tr>\n",
       "    <tr>\n",
       "      <th>1</th>\n",
       "      <td>SO - 000102</td>\n",
       "      <td>Online</td>\n",
       "      <td>WARE-NMK1003</td>\n",
       "      <td>2017-12-31</td>\n",
       "      <td>2018-05-31</td>\n",
       "      <td>2018-06-22</td>\n",
       "      <td>2018-07-02</td>\n",
       "      <td>USD</td>\n",
       "      <td>14</td>\n",
       "      <td>20</td>\n",
       "      <td>196</td>\n",
       "      <td>27</td>\n",
       "      <td>3</td>\n",
       "      <td>0.075</td>\n",
       "      <td>3348.66</td>\n",
       "      <td>3939.6</td>\n",
       "    </tr>\n",
       "    <tr>\n",
       "      <th>2</th>\n",
       "      <td>SO - 000103</td>\n",
       "      <td>Distributor</td>\n",
       "      <td>WARE-UHY1004</td>\n",
       "      <td>2017-12-31</td>\n",
       "      <td>2018-05-31</td>\n",
       "      <td>2018-06-21</td>\n",
       "      <td>2018-07-01</td>\n",
       "      <td>USD</td>\n",
       "      <td>21</td>\n",
       "      <td>16</td>\n",
       "      <td>213</td>\n",
       "      <td>16</td>\n",
       "      <td>1</td>\n",
       "      <td>0.050</td>\n",
       "      <td>781.22</td>\n",
       "      <td>1775.5</td>\n",
       "    </tr>\n",
       "  </tbody>\n",
       "</table>\n",
       "</div>"
      ],
      "text/plain": [
       "   OrderNumber Sales Channel WarehouseCode ProcuredDate  OrderDate   ShipDate  \\\n",
       "0  SO - 000101      In-Store  WARE-UHY1004   2017-12-31 2018-05-31 2018-06-14   \n",
       "1  SO - 000102        Online  WARE-NMK1003   2017-12-31 2018-05-31 2018-06-22   \n",
       "2  SO - 000103   Distributor  WARE-UHY1004   2017-12-31 2018-05-31 2018-06-21   \n",
       "\n",
       "  DeliveryDate CurrencyCode  _SalesTeamID  _CustomerID  _StoreID  _ProductID  \\\n",
       "0   2018-06-19          USD             6           15       259          12   \n",
       "1   2018-07-02          USD            14           20       196          27   \n",
       "2   2018-07-01          USD            21           16       213          16   \n",
       "\n",
       "   Order Quantity  Discount Applied  Unit Cost  Unit Price  \n",
       "0               5             0.075    1001.18      1963.1  \n",
       "1               3             0.075    3348.66      3939.6  \n",
       "2               1             0.050     781.22      1775.5  "
      ]
     },
     "execution_count": 4,
     "metadata": {},
     "output_type": "execute_result"
    }
   ],
   "source": [
    "USRegional_Sales.head(3)"
   ]
  },
  {
   "cell_type": "markdown",
   "metadata": {},
   "source": [
    "Viewing the last 3 rows of data\n",
    "\n",
    "###### To get a quick preview of what the last few rows look like, checking the consistency"
   ]
  },
  {
   "cell_type": "code",
   "execution_count": 5,
   "metadata": {},
   "outputs": [
    {
     "data": {
      "text/html": [
       "<div>\n",
       "<style scoped>\n",
       "    .dataframe tbody tr th:only-of-type {\n",
       "        vertical-align: middle;\n",
       "    }\n",
       "\n",
       "    .dataframe tbody tr th {\n",
       "        vertical-align: top;\n",
       "    }\n",
       "\n",
       "    .dataframe thead th {\n",
       "        text-align: right;\n",
       "    }\n",
       "</style>\n",
       "<table border=\"1\" class=\"dataframe\">\n",
       "  <thead>\n",
       "    <tr style=\"text-align: right;\">\n",
       "      <th></th>\n",
       "      <th>OrderNumber</th>\n",
       "      <th>Sales Channel</th>\n",
       "      <th>WarehouseCode</th>\n",
       "      <th>ProcuredDate</th>\n",
       "      <th>OrderDate</th>\n",
       "      <th>ShipDate</th>\n",
       "      <th>DeliveryDate</th>\n",
       "      <th>CurrencyCode</th>\n",
       "      <th>_SalesTeamID</th>\n",
       "      <th>_CustomerID</th>\n",
       "      <th>_StoreID</th>\n",
       "      <th>_ProductID</th>\n",
       "      <th>Order Quantity</th>\n",
       "      <th>Discount Applied</th>\n",
       "      <th>Unit Cost</th>\n",
       "      <th>Unit Price</th>\n",
       "    </tr>\n",
       "  </thead>\n",
       "  <tbody>\n",
       "    <tr>\n",
       "      <th>7988</th>\n",
       "      <td>SO - 0008089</td>\n",
       "      <td>Online</td>\n",
       "      <td>WARE-UHY1004</td>\n",
       "      <td>2020-09-26</td>\n",
       "      <td>2020-12-30</td>\n",
       "      <td>2021-01-23</td>\n",
       "      <td>2021-01-26</td>\n",
       "      <td>USD</td>\n",
       "      <td>14</td>\n",
       "      <td>32</td>\n",
       "      <td>241</td>\n",
       "      <td>35</td>\n",
       "      <td>5</td>\n",
       "      <td>0.200</td>\n",
       "      <td>2792.76</td>\n",
       "      <td>3825.7</td>\n",
       "    </tr>\n",
       "    <tr>\n",
       "      <th>7989</th>\n",
       "      <td>SO - 0008090</td>\n",
       "      <td>Online</td>\n",
       "      <td>WARE-NMK1003</td>\n",
       "      <td>2020-09-26</td>\n",
       "      <td>2020-12-30</td>\n",
       "      <td>2021-01-20</td>\n",
       "      <td>2021-01-25</td>\n",
       "      <td>USD</td>\n",
       "      <td>20</td>\n",
       "      <td>42</td>\n",
       "      <td>112</td>\n",
       "      <td>36</td>\n",
       "      <td>8</td>\n",
       "      <td>0.100</td>\n",
       "      <td>804.00</td>\n",
       "      <td>1072.0</td>\n",
       "    </tr>\n",
       "    <tr>\n",
       "      <th>7990</th>\n",
       "      <td>SO - 0008091</td>\n",
       "      <td>In-Store</td>\n",
       "      <td>WARE-UHY1004</td>\n",
       "      <td>2020-09-26</td>\n",
       "      <td>2020-12-30</td>\n",
       "      <td>2021-01-13</td>\n",
       "      <td>2021-01-19</td>\n",
       "      <td>USD</td>\n",
       "      <td>6</td>\n",
       "      <td>41</td>\n",
       "      <td>237</td>\n",
       "      <td>43</td>\n",
       "      <td>5</td>\n",
       "      <td>0.075</td>\n",
       "      <td>1370.82</td>\n",
       "      <td>2211.0</td>\n",
       "    </tr>\n",
       "  </tbody>\n",
       "</table>\n",
       "</div>"
      ],
      "text/plain": [
       "       OrderNumber Sales Channel WarehouseCode ProcuredDate  OrderDate  \\\n",
       "7988  SO - 0008089        Online  WARE-UHY1004   2020-09-26 2020-12-30   \n",
       "7989  SO - 0008090        Online  WARE-NMK1003   2020-09-26 2020-12-30   \n",
       "7990  SO - 0008091      In-Store  WARE-UHY1004   2020-09-26 2020-12-30   \n",
       "\n",
       "       ShipDate DeliveryDate CurrencyCode  _SalesTeamID  _CustomerID  \\\n",
       "7988 2021-01-23   2021-01-26          USD            14           32   \n",
       "7989 2021-01-20   2021-01-25          USD            20           42   \n",
       "7990 2021-01-13   2021-01-19          USD             6           41   \n",
       "\n",
       "      _StoreID  _ProductID  Order Quantity  Discount Applied  Unit Cost  \\\n",
       "7988       241          35               5             0.200    2792.76   \n",
       "7989       112          36               8             0.100     804.00   \n",
       "7990       237          43               5             0.075    1370.82   \n",
       "\n",
       "      Unit Price  \n",
       "7988      3825.7  \n",
       "7989      1072.0  \n",
       "7990      2211.0  "
      ]
     },
     "execution_count": 5,
     "metadata": {},
     "output_type": "execute_result"
    }
   ],
   "source": [
    "USRegional_Sales.tail(3)"
   ]
  },
  {
   "cell_type": "markdown",
   "metadata": {},
   "source": [
    "Checking the number of rows and columns of the dataframe\n",
    "\n",
    "###### Getting a better understanding of how big or small the dataset may be"
   ]
  },
  {
   "cell_type": "code",
   "execution_count": 6,
   "metadata": {},
   "outputs": [
    {
     "data": {
      "text/plain": [
       "(7991, 16)"
      ]
     },
     "execution_count": 6,
     "metadata": {},
     "output_type": "execute_result"
    }
   ],
   "source": [
    "USRegional_Sales.shape"
   ]
  },
  {
   "cell_type": "markdown",
   "metadata": {},
   "source": [
    "Checking the datatypes \n",
    "\n",
    "###### Making sure all datatype are in the correct format"
   ]
  },
  {
   "cell_type": "code",
   "execution_count": 7,
   "metadata": {},
   "outputs": [
    {
     "name": "stdout",
     "output_type": "stream",
     "text": [
      "<class 'pandas.core.frame.DataFrame'>\n",
      "RangeIndex: 7991 entries, 0 to 7990\n",
      "Data columns (total 16 columns):\n",
      " #   Column            Non-Null Count  Dtype         \n",
      "---  ------            --------------  -----         \n",
      " 0   OrderNumber       7991 non-null   object        \n",
      " 1   Sales Channel     7991 non-null   object        \n",
      " 2   WarehouseCode     7991 non-null   object        \n",
      " 3   ProcuredDate      7991 non-null   datetime64[ns]\n",
      " 4   OrderDate         7991 non-null   datetime64[ns]\n",
      " 5   ShipDate          7991 non-null   datetime64[ns]\n",
      " 6   DeliveryDate      7991 non-null   datetime64[ns]\n",
      " 7   CurrencyCode      7991 non-null   object        \n",
      " 8   _SalesTeamID      7991 non-null   int64         \n",
      " 9   _CustomerID       7991 non-null   int64         \n",
      " 10  _StoreID          7991 non-null   int64         \n",
      " 11  _ProductID        7991 non-null   int64         \n",
      " 12  Order Quantity    7991 non-null   int64         \n",
      " 13  Discount Applied  7991 non-null   float64       \n",
      " 14  Unit Cost         7991 non-null   float64       \n",
      " 15  Unit Price        7991 non-null   float64       \n",
      "dtypes: datetime64[ns](4), float64(3), int64(5), object(4)\n",
      "memory usage: 999.0+ KB\n"
     ]
    }
   ],
   "source": [
    "USRegional_Sales.info()"
   ]
  },
  {
   "cell_type": "markdown",
   "metadata": {},
   "source": [
    "Checking for duplicates\n",
    "\n",
    "###### Verifying if there are any duplicate rows of data, having duplicates can effect the accuracy of analysis or calculations"
   ]
  },
  {
   "cell_type": "code",
   "execution_count": 8,
   "metadata": {},
   "outputs": [
    {
     "data": {
      "text/plain": [
       "0"
      ]
     },
     "execution_count": 8,
     "metadata": {},
     "output_type": "execute_result"
    }
   ],
   "source": [
    "USRegional_Sales.duplicated().sum()"
   ]
  },
  {
   "cell_type": "markdown",
   "metadata": {},
   "source": [
    "Checking null values\n",
    "\n",
    "###### Searching for rows that may not have any values "
   ]
  },
  {
   "cell_type": "code",
   "execution_count": 9,
   "metadata": {},
   "outputs": [
    {
     "name": "stdout",
     "output_type": "stream",
     "text": [
      "OrderNumber has 0 null values\n",
      "Sales Channel has 0 null values\n",
      "WarehouseCode has 0 null values\n",
      "ProcuredDate has 0 null values\n",
      "OrderDate has 0 null values\n",
      "ShipDate has 0 null values\n",
      "DeliveryDate has 0 null values\n",
      "CurrencyCode has 0 null values\n",
      "_SalesTeamID has 0 null values\n",
      "_CustomerID has 0 null values\n",
      "_StoreID has 0 null values\n",
      "_ProductID has 0 null values\n",
      "Order Quantity has 0 null values\n",
      "Discount Applied has 0 null values\n",
      "Unit Cost has 0 null values\n",
      "Unit Price has 0 null values\n"
     ]
    }
   ],
   "source": [
    "for na in USRegional_Sales.columns:\n",
    "    null_values = USRegional_Sales[na].isna().sum()\n",
    "    print(f\"{na} has {null_values} null values\")"
   ]
  },
  {
   "cell_type": "markdown",
   "metadata": {},
   "source": [
    "Checking the unique values\n",
    "\n",
    "###### Getting a feel of how many unique values a particular column may have"
   ]
  },
  {
   "cell_type": "code",
   "execution_count": 10,
   "metadata": {},
   "outputs": [
    {
     "name": "stdout",
     "output_type": "stream",
     "text": [
      "OrderNumber has 7991 unique values\n",
      "Sales Channel has 4 unique values\n",
      "WarehouseCode has 6 unique values\n",
      "ProcuredDate has 11 unique values\n",
      "OrderDate has 945 unique values\n",
      "ShipDate has 966 unique values\n",
      "DeliveryDate has 966 unique values\n",
      "CurrencyCode has 1 unique values\n",
      "_SalesTeamID has 28 unique values\n",
      "_CustomerID has 50 unique values\n",
      "_StoreID has 367 unique values\n",
      "_ProductID has 47 unique values\n",
      "Order Quantity has 8 unique values\n",
      "Discount Applied has 7 unique values\n",
      "Unit Cost has 5252 unique values\n",
      "Unit Price has 664 unique values\n"
     ]
    }
   ],
   "source": [
    "for col in USRegional_Sales.columns:\n",
    "    unique_values = USRegional_Sales[col].nunique()\n",
    "    print(f\"{col} has {unique_values} unique values\")"
   ]
  },
  {
   "cell_type": "markdown",
   "metadata": {},
   "source": [
    "Performing Data Analysis and Data Cleaning\n",
    "\n",
    "Adding new columns to the dataset\n",
    "\n",
    "###### Adding year, month and day of the week to all date columns by extracting them from the original date columns for potential time series analysis"
   ]
  },
  {
   "cell_type": "code",
   "execution_count": 11,
   "metadata": {},
   "outputs": [],
   "source": [
    "USRegional_Sales[\"ProcuredYear\"] = USRegional_Sales[\"ProcuredDate\"].dt.year\n",
    "USRegional_Sales[\"ProcuredMonth\"] = USRegional_Sales.ProcuredDate.dt.month_name()\n",
    "USRegional_Sales[\"ProcuredDay\"] = USRegional_Sales.ProcuredDate.dt.day_name()\n",
    "USRegional_Sales[\"OrderYear\"] = USRegional_Sales[\"OrderDate\"].dt.year\n",
    "USRegional_Sales[\"OrderMonth\"] = USRegional_Sales.OrderDate.dt.month_name()\n",
    "USRegional_Sales[\"OrderDay\"] = USRegional_Sales.OrderDate.dt.day_name()\n",
    "USRegional_Sales[\"ShipYear\"] = USRegional_Sales[\"ShipDate\"].dt.year\n",
    "USRegional_Sales[\"ShipMonth\"] = USRegional_Sales.ShipDate.dt.month_name()\n",
    "USRegional_Sales[\"ShipDay\"] = USRegional_Sales.ShipDate.dt.day_name()\n",
    "USRegional_Sales[\"DeliveryYear\"] = USRegional_Sales[\"ShipDate\"].dt.year\n",
    "USRegional_Sales[\"DeliveryMonth\"] = USRegional_Sales.DeliveryDate.dt.month_name()\n",
    "USRegional_Sales[\"DeliveryDay\"] = USRegional_Sales.DeliveryDate.dt.day_name()"
   ]
  },
  {
   "cell_type": "markdown",
   "metadata": {},
   "source": [
    "Checking columns\n",
    "\n",
    "###### Verifying that the updated columns have been added saved to the dataframe"
   ]
  },
  {
   "cell_type": "code",
   "execution_count": 14,
   "metadata": {},
   "outputs": [
    {
     "data": {
      "text/html": [
       "<div>\n",
       "<style scoped>\n",
       "    .dataframe tbody tr th:only-of-type {\n",
       "        vertical-align: middle;\n",
       "    }\n",
       "\n",
       "    .dataframe tbody tr th {\n",
       "        vertical-align: top;\n",
       "    }\n",
       "\n",
       "    .dataframe thead th {\n",
       "        text-align: right;\n",
       "    }\n",
       "</style>\n",
       "<table border=\"1\" class=\"dataframe\">\n",
       "  <thead>\n",
       "    <tr style=\"text-align: right;\">\n",
       "      <th></th>\n",
       "      <th>OrderNumber</th>\n",
       "      <th>Sales Channel</th>\n",
       "      <th>WarehouseCode</th>\n",
       "      <th>ProcuredDate</th>\n",
       "      <th>OrderDate</th>\n",
       "      <th>ShipDate</th>\n",
       "      <th>DeliveryDate</th>\n",
       "      <th>CurrencyCode</th>\n",
       "      <th>_SalesTeamID</th>\n",
       "      <th>_CustomerID</th>\n",
       "      <th>_StoreID</th>\n",
       "      <th>_ProductID</th>\n",
       "      <th>Order Quantity</th>\n",
       "      <th>Discount Applied</th>\n",
       "      <th>Unit Cost</th>\n",
       "      <th>Unit Price</th>\n",
       "      <th>ProcuredYear</th>\n",
       "      <th>ProcuredMonth</th>\n",
       "      <th>ProcuredDay</th>\n",
       "      <th>OrderYear</th>\n",
       "      <th>OrderMonth</th>\n",
       "      <th>OrderDay</th>\n",
       "      <th>ShipYear</th>\n",
       "      <th>ShipMonth</th>\n",
       "      <th>ShipDay</th>\n",
       "      <th>DeliveryYear</th>\n",
       "      <th>DeliveryMonth</th>\n",
       "      <th>DeliveryDay</th>\n",
       "    </tr>\n",
       "  </thead>\n",
       "  <tbody>\n",
       "    <tr>\n",
       "      <th>0</th>\n",
       "      <td>SO - 000101</td>\n",
       "      <td>In-Store</td>\n",
       "      <td>WARE-UHY1004</td>\n",
       "      <td>2017-12-31</td>\n",
       "      <td>2018-05-31</td>\n",
       "      <td>2018-06-14</td>\n",
       "      <td>2018-06-19</td>\n",
       "      <td>USD</td>\n",
       "      <td>6</td>\n",
       "      <td>15</td>\n",
       "      <td>259</td>\n",
       "      <td>12</td>\n",
       "      <td>5</td>\n",
       "      <td>0.075</td>\n",
       "      <td>1001.18</td>\n",
       "      <td>1963.1</td>\n",
       "      <td>2017</td>\n",
       "      <td>December</td>\n",
       "      <td>Sunday</td>\n",
       "      <td>2018</td>\n",
       "      <td>May</td>\n",
       "      <td>Thursday</td>\n",
       "      <td>2018</td>\n",
       "      <td>June</td>\n",
       "      <td>Thursday</td>\n",
       "      <td>2018</td>\n",
       "      <td>June</td>\n",
       "      <td>Tuesday</td>\n",
       "    </tr>\n",
       "  </tbody>\n",
       "</table>\n",
       "</div>"
      ],
      "text/plain": [
       "   OrderNumber Sales Channel WarehouseCode ProcuredDate  OrderDate   ShipDate  \\\n",
       "0  SO - 000101      In-Store  WARE-UHY1004   2017-12-31 2018-05-31 2018-06-14   \n",
       "\n",
       "  DeliveryDate CurrencyCode  _SalesTeamID  _CustomerID  _StoreID  _ProductID  \\\n",
       "0   2018-06-19          USD             6           15       259          12   \n",
       "\n",
       "   Order Quantity  Discount Applied  Unit Cost  Unit Price  ProcuredYear  \\\n",
       "0               5             0.075    1001.18      1963.1          2017   \n",
       "\n",
       "  ProcuredMonth ProcuredDay  OrderYear OrderMonth  OrderDay  ShipYear  \\\n",
       "0      December      Sunday       2018        May  Thursday      2018   \n",
       "\n",
       "  ShipMonth   ShipDay  DeliveryYear DeliveryMonth DeliveryDay  \n",
       "0      June  Thursday          2018          June     Tuesday  "
      ]
     },
     "execution_count": 14,
     "metadata": {},
     "output_type": "execute_result"
    }
   ],
   "source": [
    "USRegional_Sales.head(1)"
   ]
  },
  {
   "cell_type": "markdown",
   "metadata": {},
   "source": [
    "Count of orders by year\n",
    "\n",
    "###### Viewing the number of orders by year"
   ]
  },
  {
   "cell_type": "code",
   "execution_count": 23,
   "metadata": {},
   "outputs": [
    {
     "data": {
      "text/plain": [
       "OrderYear\n",
       "2018    1836\n",
       "2019    3030\n",
       "2020    3125\n",
       "Name: OrderNumber, dtype: int64"
      ]
     },
     "execution_count": 23,
     "metadata": {},
     "output_type": "execute_result"
    }
   ],
   "source": [
    "USRegional_Sales.groupby(\"OrderYear\")[\"OrderNumber\"].count()"
   ]
  },
  {
   "cell_type": "markdown",
   "metadata": {},
   "source": [
    "Count of orders by month\n",
    "\n",
    "###### Viewing the number of orders by month"
   ]
  },
  {
   "cell_type": "code",
   "execution_count": 29,
   "metadata": {},
   "outputs": [
    {
     "data": {
      "text/plain": [
       "OrderMonth\n",
       "April        533\n",
       "August       791\n",
       "December     791\n",
       "February     502\n",
       "January      569\n",
       "July         795\n",
       "June         740\n",
       "March        449\n",
       "May          550\n",
       "November     781\n",
       "October      745\n",
       "September    745\n",
       "Name: OrderNumber, dtype: int64"
      ]
     },
     "execution_count": 29,
     "metadata": {},
     "output_type": "execute_result"
    }
   ],
   "source": [
    "USRegional_Sales.groupby(\"OrderMonth\")[\"OrderNumber\"].count()"
   ]
  },
  {
   "cell_type": "markdown",
   "metadata": {},
   "source": [
    "Count of orders by day\n",
    "\n",
    "###### Viewing the number of orders by day"
   ]
  },
  {
   "cell_type": "code",
   "execution_count": 30,
   "metadata": {},
   "outputs": [
    {
     "data": {
      "text/plain": [
       "OrderDay\n",
       "Friday       1112\n",
       "Monday       1146\n",
       "Saturday     1194\n",
       "Sunday       1158\n",
       "Thursday     1168\n",
       "Tuesday      1114\n",
       "Wednesday    1099\n",
       "Name: OrderNumber, dtype: int64"
      ]
     },
     "execution_count": 30,
     "metadata": {},
     "output_type": "execute_result"
    }
   ],
   "source": [
    "USRegional_Sales.groupby(\"OrderDay\")[\"OrderNumber\"].count()"
   ]
  },
  {
   "cell_type": "markdown",
   "metadata": {},
   "source": [
    "Count of orders by customers per year\n",
    "\n",
    "###### Viewing the number of orders placed by a customer each year"
   ]
  },
  {
   "cell_type": "code",
   "execution_count": 39,
   "metadata": {},
   "outputs": [
    {
     "data": {
      "text/plain": [
       "_CustomerID  OrderYear\n",
       "1            2018         27\n",
       "             2019         62\n",
       "             2020         63\n",
       "2            2018         23\n",
       "             2019         53\n",
       "                          ..\n",
       "49           2019         59\n",
       "             2020         51\n",
       "50           2018         36\n",
       "             2019         58\n",
       "             2020         69\n",
       "Name: OrderYear, Length: 150, dtype: int64"
      ]
     },
     "execution_count": 39,
     "metadata": {},
     "output_type": "execute_result"
    }
   ],
   "source": [
    "USRegional_Sales.groupby([\"_CustomerID\", \"OrderYear\"])[\"OrderYear\"].count()"
   ]
  },
  {
   "cell_type": "markdown",
   "metadata": {},
   "source": [
    "Count of orders by customers per month\n",
    "\n",
    "###### Viewing the number of orders placed by a customer each month"
   ]
  },
  {
   "cell_type": "code",
   "execution_count": 37,
   "metadata": {},
   "outputs": [
    {
     "data": {
      "text/plain": [
       "_CustomerID  OrderMonth\n",
       "1            April         12\n",
       "             August        16\n",
       "             December      12\n",
       "             February       6\n",
       "             January        9\n",
       "                           ..\n",
       "50           March          7\n",
       "             May           14\n",
       "             November      19\n",
       "             October       15\n",
       "             September     20\n",
       "Name: OrderMonth, Length: 600, dtype: int64"
      ]
     },
     "execution_count": 37,
     "metadata": {},
     "output_type": "execute_result"
    }
   ],
   "source": [
    "USRegional_Sales.groupby([\"_CustomerID\", \"OrderMonth\"])[\"OrderMonth\"].count()"
   ]
  },
  {
   "cell_type": "markdown",
   "metadata": {},
   "source": [
    "Count of orders by customers per day\n",
    "\n",
    "###### Viewing the number of orders placed by a customer each day"
   ]
  },
  {
   "cell_type": "code",
   "execution_count": 35,
   "metadata": {},
   "outputs": [
    {
     "data": {
      "text/plain": [
       "_CustomerID  OrderDay \n",
       "1            Friday       21\n",
       "             Monday       15\n",
       "             Saturday     24\n",
       "             Sunday       23\n",
       "             Thursday     20\n",
       "                          ..\n",
       "50           Saturday     23\n",
       "             Sunday       23\n",
       "             Thursday     25\n",
       "             Tuesday      19\n",
       "             Wednesday    23\n",
       "Name: OrderDay, Length: 350, dtype: int64"
      ]
     },
     "execution_count": 35,
     "metadata": {},
     "output_type": "execute_result"
    }
   ],
   "source": [
    "USRegional_Sales.groupby([\"_CustomerID\", \"OrderDay\"])[\"OrderDay\"].count()"
   ]
  },
  {
   "cell_type": "markdown",
   "metadata": {},
   "source": [
    "Min/Avg/Max unit prices by year\n",
    "\n",
    "###### View of the min/avg/max unit prices sold by each year"
   ]
  },
  {
   "cell_type": "code",
   "execution_count": 44,
   "metadata": {},
   "outputs": [
    {
     "data": {
      "text/html": [
       "<div>\n",
       "<style scoped>\n",
       "    .dataframe tbody tr th:only-of-type {\n",
       "        vertical-align: middle;\n",
       "    }\n",
       "\n",
       "    .dataframe tbody tr th {\n",
       "        vertical-align: top;\n",
       "    }\n",
       "\n",
       "    .dataframe thead th {\n",
       "        text-align: right;\n",
       "    }\n",
       "</style>\n",
       "<table border=\"1\" class=\"dataframe\">\n",
       "  <thead>\n",
       "    <tr style=\"text-align: right;\">\n",
       "      <th></th>\n",
       "      <th>min</th>\n",
       "      <th>mean</th>\n",
       "      <th>max</th>\n",
       "    </tr>\n",
       "    <tr>\n",
       "      <th>OrderYear</th>\n",
       "      <th></th>\n",
       "      <th></th>\n",
       "      <th></th>\n",
       "    </tr>\n",
       "  </thead>\n",
       "  <tbody>\n",
       "    <tr>\n",
       "      <th>2018</th>\n",
       "      <td>167.5</td>\n",
       "      <td>2278.372222</td>\n",
       "      <td>6566.0</td>\n",
       "    </tr>\n",
       "    <tr>\n",
       "      <th>2019</th>\n",
       "      <td>167.5</td>\n",
       "      <td>2296.353135</td>\n",
       "      <td>6559.3</td>\n",
       "    </tr>\n",
       "    <tr>\n",
       "      <th>2020</th>\n",
       "      <td>167.5</td>\n",
       "      <td>2276.700736</td>\n",
       "      <td>6559.3</td>\n",
       "    </tr>\n",
       "  </tbody>\n",
       "</table>\n",
       "</div>"
      ],
      "text/plain": [
       "             min         mean     max\n",
       "OrderYear                            \n",
       "2018       167.5  2278.372222  6566.0\n",
       "2019       167.5  2296.353135  6559.3\n",
       "2020       167.5  2276.700736  6559.3"
      ]
     },
     "execution_count": 44,
     "metadata": {},
     "output_type": "execute_result"
    }
   ],
   "source": [
    "USRegional_Sales.groupby(\"OrderYear\")[\"Unit Price\"].agg([\"min\", \"mean\", \"max\"])"
   ]
  },
  {
   "cell_type": "markdown",
   "metadata": {},
   "source": [
    "Min/Avg/Max unit prices by month\n",
    "\n",
    "###### View of the min/avg/max unit prices sold by each month"
   ]
  },
  {
   "cell_type": "code",
   "execution_count": 56,
   "metadata": {},
   "outputs": [
    {
     "data": {
      "text/html": [
       "<div>\n",
       "<style scoped>\n",
       "    .dataframe tbody tr th:only-of-type {\n",
       "        vertical-align: middle;\n",
       "    }\n",
       "\n",
       "    .dataframe tbody tr th {\n",
       "        vertical-align: top;\n",
       "    }\n",
       "\n",
       "    .dataframe thead th {\n",
       "        text-align: right;\n",
       "    }\n",
       "</style>\n",
       "<table border=\"1\" class=\"dataframe\">\n",
       "  <thead>\n",
       "    <tr style=\"text-align: right;\">\n",
       "      <th></th>\n",
       "      <th>min</th>\n",
       "      <th>mean</th>\n",
       "      <th>max</th>\n",
       "    </tr>\n",
       "    <tr>\n",
       "      <th>OrderMonth</th>\n",
       "      <th></th>\n",
       "      <th></th>\n",
       "      <th></th>\n",
       "    </tr>\n",
       "  </thead>\n",
       "  <tbody>\n",
       "    <tr>\n",
       "      <th>April</th>\n",
       "      <td>167.5</td>\n",
       "      <td>2252.318762</td>\n",
       "      <td>6552.6</td>\n",
       "    </tr>\n",
       "    <tr>\n",
       "      <th>August</th>\n",
       "      <td>167.5</td>\n",
       "      <td>2301.208597</td>\n",
       "      <td>6532.5</td>\n",
       "    </tr>\n",
       "    <tr>\n",
       "      <th>December</th>\n",
       "      <td>167.5</td>\n",
       "      <td>2279.219722</td>\n",
       "      <td>6566.0</td>\n",
       "    </tr>\n",
       "    <tr>\n",
       "      <th>February</th>\n",
       "      <td>167.5</td>\n",
       "      <td>2229.538446</td>\n",
       "      <td>6559.3</td>\n",
       "    </tr>\n",
       "    <tr>\n",
       "      <th>January</th>\n",
       "      <td>167.5</td>\n",
       "      <td>2431.146221</td>\n",
       "      <td>6545.9</td>\n",
       "    </tr>\n",
       "    <tr>\n",
       "      <th>July</th>\n",
       "      <td>167.5</td>\n",
       "      <td>2248.022767</td>\n",
       "      <td>6559.3</td>\n",
       "    </tr>\n",
       "    <tr>\n",
       "      <th>June</th>\n",
       "      <td>167.5</td>\n",
       "      <td>2332.288108</td>\n",
       "      <td>6545.9</td>\n",
       "    </tr>\n",
       "    <tr>\n",
       "      <th>March</th>\n",
       "      <td>167.5</td>\n",
       "      <td>2249.155679</td>\n",
       "      <td>6432.0</td>\n",
       "    </tr>\n",
       "    <tr>\n",
       "      <th>May</th>\n",
       "      <td>167.5</td>\n",
       "      <td>2212.620182</td>\n",
       "      <td>6525.8</td>\n",
       "    </tr>\n",
       "    <tr>\n",
       "      <th>November</th>\n",
       "      <td>167.5</td>\n",
       "      <td>2335.288860</td>\n",
       "      <td>6545.9</td>\n",
       "    </tr>\n",
       "    <tr>\n",
       "      <th>October</th>\n",
       "      <td>167.5</td>\n",
       "      <td>2241.730067</td>\n",
       "      <td>6559.3</td>\n",
       "    </tr>\n",
       "    <tr>\n",
       "      <th>September</th>\n",
       "      <td>167.5</td>\n",
       "      <td>2276.165369</td>\n",
       "      <td>6559.3</td>\n",
       "    </tr>\n",
       "  </tbody>\n",
       "</table>\n",
       "</div>"
      ],
      "text/plain": [
       "              min         mean     max\n",
       "OrderMonth                            \n",
       "April       167.5  2252.318762  6552.6\n",
       "August      167.5  2301.208597  6532.5\n",
       "December    167.5  2279.219722  6566.0\n",
       "February    167.5  2229.538446  6559.3\n",
       "January     167.5  2431.146221  6545.9\n",
       "July        167.5  2248.022767  6559.3\n",
       "June        167.5  2332.288108  6545.9\n",
       "March       167.5  2249.155679  6432.0\n",
       "May         167.5  2212.620182  6525.8\n",
       "November    167.5  2335.288860  6545.9\n",
       "October     167.5  2241.730067  6559.3\n",
       "September   167.5  2276.165369  6559.3"
      ]
     },
     "execution_count": 56,
     "metadata": {},
     "output_type": "execute_result"
    }
   ],
   "source": [
    "USRegional_Sales.groupby(\"OrderMonth\")[\"Unit Price\"].agg([\"min\", \"mean\", \"max\"])"
   ]
  },
  {
   "cell_type": "markdown",
   "metadata": {},
   "source": [
    "Min/Avg/Max unit prices by day\n",
    "\n",
    "###### View of the min/avg/max unit prices sold by each day"
   ]
  },
  {
   "cell_type": "code",
   "execution_count": 57,
   "metadata": {},
   "outputs": [
    {
     "data": {
      "text/html": [
       "<div>\n",
       "<style scoped>\n",
       "    .dataframe tbody tr th:only-of-type {\n",
       "        vertical-align: middle;\n",
       "    }\n",
       "\n",
       "    .dataframe tbody tr th {\n",
       "        vertical-align: top;\n",
       "    }\n",
       "\n",
       "    .dataframe thead th {\n",
       "        text-align: right;\n",
       "    }\n",
       "</style>\n",
       "<table border=\"1\" class=\"dataframe\">\n",
       "  <thead>\n",
       "    <tr style=\"text-align: right;\">\n",
       "      <th></th>\n",
       "      <th>min</th>\n",
       "      <th>mean</th>\n",
       "      <th>max</th>\n",
       "    </tr>\n",
       "    <tr>\n",
       "      <th>OrderDay</th>\n",
       "      <th></th>\n",
       "      <th></th>\n",
       "      <th></th>\n",
       "    </tr>\n",
       "  </thead>\n",
       "  <tbody>\n",
       "    <tr>\n",
       "      <th>Friday</th>\n",
       "      <td>167.5</td>\n",
       "      <td>2258.466367</td>\n",
       "      <td>6539.2</td>\n",
       "    </tr>\n",
       "    <tr>\n",
       "      <th>Monday</th>\n",
       "      <td>167.5</td>\n",
       "      <td>2257.742147</td>\n",
       "      <td>6559.3</td>\n",
       "    </tr>\n",
       "    <tr>\n",
       "      <th>Saturday</th>\n",
       "      <td>167.5</td>\n",
       "      <td>2217.172529</td>\n",
       "      <td>6545.9</td>\n",
       "    </tr>\n",
       "    <tr>\n",
       "      <th>Sunday</th>\n",
       "      <td>167.5</td>\n",
       "      <td>2317.488342</td>\n",
       "      <td>6559.3</td>\n",
       "    </tr>\n",
       "    <tr>\n",
       "      <th>Thursday</th>\n",
       "      <td>167.5</td>\n",
       "      <td>2392.238442</td>\n",
       "      <td>6559.3</td>\n",
       "    </tr>\n",
       "    <tr>\n",
       "      <th>Tuesday</th>\n",
       "      <td>167.5</td>\n",
       "      <td>2303.873788</td>\n",
       "      <td>6525.8</td>\n",
       "    </tr>\n",
       "    <tr>\n",
       "      <th>Wednesday</th>\n",
       "      <td>167.5</td>\n",
       "      <td>2243.256324</td>\n",
       "      <td>6566.0</td>\n",
       "    </tr>\n",
       "  </tbody>\n",
       "</table>\n",
       "</div>"
      ],
      "text/plain": [
       "             min         mean     max\n",
       "OrderDay                             \n",
       "Friday     167.5  2258.466367  6539.2\n",
       "Monday     167.5  2257.742147  6559.3\n",
       "Saturday   167.5  2217.172529  6545.9\n",
       "Sunday     167.5  2317.488342  6559.3\n",
       "Thursday   167.5  2392.238442  6559.3\n",
       "Tuesday    167.5  2303.873788  6525.8\n",
       "Wednesday  167.5  2243.256324  6566.0"
      ]
     },
     "execution_count": 57,
     "metadata": {},
     "output_type": "execute_result"
    }
   ],
   "source": [
    "USRegional_Sales.groupby(\"OrderDay\")[\"Unit Price\"].agg([\"min\", \"mean\", \"max\"])"
   ]
  },
  {
   "cell_type": "markdown",
   "metadata": {},
   "source": [
    "Min/Avg/Max unit prices per customer by year\n",
    "\n",
    "###### View of the min/avg/max unit prices bought per customer by year"
   ]
  },
  {
   "cell_type": "code",
   "execution_count": 55,
   "metadata": {},
   "outputs": [
    {
     "data": {
      "text/html": [
       "<div>\n",
       "<style scoped>\n",
       "    .dataframe tbody tr th:only-of-type {\n",
       "        vertical-align: middle;\n",
       "    }\n",
       "\n",
       "    .dataframe tbody tr th {\n",
       "        vertical-align: top;\n",
       "    }\n",
       "\n",
       "    .dataframe thead th {\n",
       "        text-align: right;\n",
       "    }\n",
       "</style>\n",
       "<table border=\"1\" class=\"dataframe\">\n",
       "  <thead>\n",
       "    <tr style=\"text-align: right;\">\n",
       "      <th></th>\n",
       "      <th></th>\n",
       "      <th>min</th>\n",
       "      <th>mean</th>\n",
       "      <th>max</th>\n",
       "    </tr>\n",
       "    <tr>\n",
       "      <th>_CustomerID</th>\n",
       "      <th>OrderYear</th>\n",
       "      <th></th>\n",
       "      <th></th>\n",
       "      <th></th>\n",
       "    </tr>\n",
       "  </thead>\n",
       "  <tbody>\n",
       "    <tr>\n",
       "      <th rowspan=\"3\" valign=\"top\">1</th>\n",
       "      <th>2018</th>\n",
       "      <td>174.2</td>\n",
       "      <td>2376.018519</td>\n",
       "      <td>5721.8</td>\n",
       "    </tr>\n",
       "    <tr>\n",
       "      <th>2019</th>\n",
       "      <td>187.6</td>\n",
       "      <td>2117.848387</td>\n",
       "      <td>6492.3</td>\n",
       "    </tr>\n",
       "    <tr>\n",
       "      <th>2020</th>\n",
       "      <td>167.5</td>\n",
       "      <td>1951.826984</td>\n",
       "      <td>6050.1</td>\n",
       "    </tr>\n",
       "    <tr>\n",
       "      <th rowspan=\"2\" valign=\"top\">2</th>\n",
       "      <th>2018</th>\n",
       "      <td>268.0</td>\n",
       "      <td>2133.221739</td>\n",
       "      <td>6505.7</td>\n",
       "    </tr>\n",
       "    <tr>\n",
       "      <th>2019</th>\n",
       "      <td>221.1</td>\n",
       "      <td>2073.333962</td>\n",
       "      <td>6438.7</td>\n",
       "    </tr>\n",
       "    <tr>\n",
       "      <th>...</th>\n",
       "      <th>...</th>\n",
       "      <td>...</td>\n",
       "      <td>...</td>\n",
       "      <td>...</td>\n",
       "    </tr>\n",
       "    <tr>\n",
       "      <th rowspan=\"2\" valign=\"top\">49</th>\n",
       "      <th>2019</th>\n",
       "      <td>180.9</td>\n",
       "      <td>2211.227119</td>\n",
       "      <td>6438.7</td>\n",
       "    </tr>\n",
       "    <tr>\n",
       "      <th>2020</th>\n",
       "      <td>180.9</td>\n",
       "      <td>2339.350980</td>\n",
       "      <td>6452.1</td>\n",
       "    </tr>\n",
       "    <tr>\n",
       "      <th rowspan=\"3\" valign=\"top\">50</th>\n",
       "      <th>2018</th>\n",
       "      <td>174.2</td>\n",
       "      <td>2377.941667</td>\n",
       "      <td>6525.8</td>\n",
       "    </tr>\n",
       "    <tr>\n",
       "      <th>2019</th>\n",
       "      <td>201.0</td>\n",
       "      <td>2219.779310</td>\n",
       "      <td>6519.1</td>\n",
       "    </tr>\n",
       "    <tr>\n",
       "      <th>2020</th>\n",
       "      <td>180.9</td>\n",
       "      <td>2466.376812</td>\n",
       "      <td>6478.9</td>\n",
       "    </tr>\n",
       "  </tbody>\n",
       "</table>\n",
       "<p>150 rows × 3 columns</p>\n",
       "</div>"
      ],
      "text/plain": [
       "                         min         mean     max\n",
       "_CustomerID OrderYear                            \n",
       "1           2018       174.2  2376.018519  5721.8\n",
       "            2019       187.6  2117.848387  6492.3\n",
       "            2020       167.5  1951.826984  6050.1\n",
       "2           2018       268.0  2133.221739  6505.7\n",
       "            2019       221.1  2073.333962  6438.7\n",
       "...                      ...          ...     ...\n",
       "49          2019       180.9  2211.227119  6438.7\n",
       "            2020       180.9  2339.350980  6452.1\n",
       "50          2018       174.2  2377.941667  6525.8\n",
       "            2019       201.0  2219.779310  6519.1\n",
       "            2020       180.9  2466.376812  6478.9\n",
       "\n",
       "[150 rows x 3 columns]"
      ]
     },
     "execution_count": 55,
     "metadata": {},
     "output_type": "execute_result"
    }
   ],
   "source": [
    "USRegional_Sales.groupby([\"_CustomerID\", \"OrderYear\"])[\"Unit Price\"].agg([\"min\", \"mean\", \"max\"])"
   ]
  },
  {
   "cell_type": "markdown",
   "metadata": {},
   "source": [
    "Min/Avg/Max unit prices per customer by month\n",
    "\n",
    "###### View of the min/avg/max unit prices bought per customer by month"
   ]
  },
  {
   "cell_type": "code",
   "execution_count": 58,
   "metadata": {},
   "outputs": [
    {
     "data": {
      "text/html": [
       "<div>\n",
       "<style scoped>\n",
       "    .dataframe tbody tr th:only-of-type {\n",
       "        vertical-align: middle;\n",
       "    }\n",
       "\n",
       "    .dataframe tbody tr th {\n",
       "        vertical-align: top;\n",
       "    }\n",
       "\n",
       "    .dataframe thead th {\n",
       "        text-align: right;\n",
       "    }\n",
       "</style>\n",
       "<table border=\"1\" class=\"dataframe\">\n",
       "  <thead>\n",
       "    <tr style=\"text-align: right;\">\n",
       "      <th></th>\n",
       "      <th></th>\n",
       "      <th>min</th>\n",
       "      <th>mean</th>\n",
       "      <th>max</th>\n",
       "    </tr>\n",
       "    <tr>\n",
       "      <th>_CustomerID</th>\n",
       "      <th>OrderMonth</th>\n",
       "      <th></th>\n",
       "      <th></th>\n",
       "      <th></th>\n",
       "    </tr>\n",
       "  </thead>\n",
       "  <tbody>\n",
       "    <tr>\n",
       "      <th rowspan=\"5\" valign=\"top\">1</th>\n",
       "      <th>April</th>\n",
       "      <td>214.4</td>\n",
       "      <td>1675.558333</td>\n",
       "      <td>3879.3</td>\n",
       "    </tr>\n",
       "    <tr>\n",
       "      <th>August</th>\n",
       "      <td>180.9</td>\n",
       "      <td>2298.100000</td>\n",
       "      <td>6492.3</td>\n",
       "    </tr>\n",
       "    <tr>\n",
       "      <th>December</th>\n",
       "      <td>187.6</td>\n",
       "      <td>1849.200000</td>\n",
       "      <td>4006.6</td>\n",
       "    </tr>\n",
       "    <tr>\n",
       "      <th>February</th>\n",
       "      <td>261.3</td>\n",
       "      <td>1685.050000</td>\n",
       "      <td>2726.9</td>\n",
       "    </tr>\n",
       "    <tr>\n",
       "      <th>January</th>\n",
       "      <td>207.7</td>\n",
       "      <td>2718.711111</td>\n",
       "      <td>5996.5</td>\n",
       "    </tr>\n",
       "    <tr>\n",
       "      <th>...</th>\n",
       "      <th>...</th>\n",
       "      <td>...</td>\n",
       "      <td>...</td>\n",
       "      <td>...</td>\n",
       "    </tr>\n",
       "    <tr>\n",
       "      <th rowspan=\"5\" valign=\"top\">50</th>\n",
       "      <th>March</th>\n",
       "      <td>207.7</td>\n",
       "      <td>2035.842857</td>\n",
       "      <td>3859.2</td>\n",
       "    </tr>\n",
       "    <tr>\n",
       "      <th>May</th>\n",
       "      <td>201.0</td>\n",
       "      <td>1489.314286</td>\n",
       "      <td>2619.7</td>\n",
       "    </tr>\n",
       "    <tr>\n",
       "      <th>November</th>\n",
       "      <td>723.6</td>\n",
       "      <td>3161.342105</td>\n",
       "      <td>6298.0</td>\n",
       "    </tr>\n",
       "    <tr>\n",
       "      <th>October</th>\n",
       "      <td>187.6</td>\n",
       "      <td>1831.333333</td>\n",
       "      <td>5333.2</td>\n",
       "    </tr>\n",
       "    <tr>\n",
       "      <th>September</th>\n",
       "      <td>268.0</td>\n",
       "      <td>2205.975000</td>\n",
       "      <td>6519.1</td>\n",
       "    </tr>\n",
       "  </tbody>\n",
       "</table>\n",
       "<p>600 rows × 3 columns</p>\n",
       "</div>"
      ],
      "text/plain": [
       "                          min         mean     max\n",
       "_CustomerID OrderMonth                            \n",
       "1           April       214.4  1675.558333  3879.3\n",
       "            August      180.9  2298.100000  6492.3\n",
       "            December    187.6  1849.200000  4006.6\n",
       "            February    261.3  1685.050000  2726.9\n",
       "            January     207.7  2718.711111  5996.5\n",
       "...                       ...          ...     ...\n",
       "50          March       207.7  2035.842857  3859.2\n",
       "            May         201.0  1489.314286  2619.7\n",
       "            November    723.6  3161.342105  6298.0\n",
       "            October     187.6  1831.333333  5333.2\n",
       "            September   268.0  2205.975000  6519.1\n",
       "\n",
       "[600 rows x 3 columns]"
      ]
     },
     "execution_count": 58,
     "metadata": {},
     "output_type": "execute_result"
    }
   ],
   "source": [
    "USRegional_Sales.groupby([\"_CustomerID\", \"OrderMonth\"])[\"Unit Price\"].agg([\"min\", \"mean\", \"max\"])"
   ]
  },
  {
   "cell_type": "markdown",
   "metadata": {},
   "source": [
    "Min/Avg/Max unit prices per customer by day\n",
    "\n",
    "###### View of the min/avg/max unit prices bought per customer by day"
   ]
  },
  {
   "cell_type": "code",
   "execution_count": 59,
   "metadata": {},
   "outputs": [
    {
     "data": {
      "text/html": [
       "<div>\n",
       "<style scoped>\n",
       "    .dataframe tbody tr th:only-of-type {\n",
       "        vertical-align: middle;\n",
       "    }\n",
       "\n",
       "    .dataframe tbody tr th {\n",
       "        vertical-align: top;\n",
       "    }\n",
       "\n",
       "    .dataframe thead th {\n",
       "        text-align: right;\n",
       "    }\n",
       "</style>\n",
       "<table border=\"1\" class=\"dataframe\">\n",
       "  <thead>\n",
       "    <tr style=\"text-align: right;\">\n",
       "      <th></th>\n",
       "      <th></th>\n",
       "      <th>min</th>\n",
       "      <th>mean</th>\n",
       "      <th>max</th>\n",
       "    </tr>\n",
       "    <tr>\n",
       "      <th>_CustomerID</th>\n",
       "      <th>OrderDay</th>\n",
       "      <th></th>\n",
       "      <th></th>\n",
       "      <th></th>\n",
       "    </tr>\n",
       "  </thead>\n",
       "  <tbody>\n",
       "    <tr>\n",
       "      <th rowspan=\"5\" valign=\"top\">1</th>\n",
       "      <th>Friday</th>\n",
       "      <td>214.4</td>\n",
       "      <td>1793.685714</td>\n",
       "      <td>5708.4</td>\n",
       "    </tr>\n",
       "    <tr>\n",
       "      <th>Monday</th>\n",
       "      <td>180.9</td>\n",
       "      <td>1355.186667</td>\n",
       "      <td>5098.7</td>\n",
       "    </tr>\n",
       "    <tr>\n",
       "      <th>Saturday</th>\n",
       "      <td>167.5</td>\n",
       "      <td>2516.966667</td>\n",
       "      <td>6050.1</td>\n",
       "    </tr>\n",
       "    <tr>\n",
       "      <th>Sunday</th>\n",
       "      <td>174.2</td>\n",
       "      <td>2372.965217</td>\n",
       "      <td>5246.1</td>\n",
       "    </tr>\n",
       "    <tr>\n",
       "      <th>Thursday</th>\n",
       "      <td>187.6</td>\n",
       "      <td>2515.180000</td>\n",
       "      <td>5996.5</td>\n",
       "    </tr>\n",
       "    <tr>\n",
       "      <th>...</th>\n",
       "      <th>...</th>\n",
       "      <td>...</td>\n",
       "      <td>...</td>\n",
       "      <td>...</td>\n",
       "    </tr>\n",
       "    <tr>\n",
       "      <th rowspan=\"5\" valign=\"top\">50</th>\n",
       "      <th>Saturday</th>\n",
       "      <td>207.7</td>\n",
       "      <td>1959.604348</td>\n",
       "      <td>3999.9</td>\n",
       "    </tr>\n",
       "    <tr>\n",
       "      <th>Sunday</th>\n",
       "      <td>187.6</td>\n",
       "      <td>2103.800000</td>\n",
       "      <td>6298.0</td>\n",
       "    </tr>\n",
       "    <tr>\n",
       "      <th>Thursday</th>\n",
       "      <td>174.2</td>\n",
       "      <td>2558.864000</td>\n",
       "      <td>6378.4</td>\n",
       "    </tr>\n",
       "    <tr>\n",
       "      <th>Tuesday</th>\n",
       "      <td>207.7</td>\n",
       "      <td>2833.394737</td>\n",
       "      <td>6525.8</td>\n",
       "    </tr>\n",
       "    <tr>\n",
       "      <th>Wednesday</th>\n",
       "      <td>207.7</td>\n",
       "      <td>2516.286957</td>\n",
       "      <td>6519.1</td>\n",
       "    </tr>\n",
       "  </tbody>\n",
       "</table>\n",
       "<p>350 rows × 3 columns</p>\n",
       "</div>"
      ],
      "text/plain": [
       "                         min         mean     max\n",
       "_CustomerID OrderDay                             \n",
       "1           Friday     214.4  1793.685714  5708.4\n",
       "            Monday     180.9  1355.186667  5098.7\n",
       "            Saturday   167.5  2516.966667  6050.1\n",
       "            Sunday     174.2  2372.965217  5246.1\n",
       "            Thursday   187.6  2515.180000  5996.5\n",
       "...                      ...          ...     ...\n",
       "50          Saturday   207.7  1959.604348  3999.9\n",
       "            Sunday     187.6  2103.800000  6298.0\n",
       "            Thursday   174.2  2558.864000  6378.4\n",
       "            Tuesday    207.7  2833.394737  6525.8\n",
       "            Wednesday  207.7  2516.286957  6519.1\n",
       "\n",
       "[350 rows x 3 columns]"
      ]
     },
     "execution_count": 59,
     "metadata": {},
     "output_type": "execute_result"
    }
   ],
   "source": [
    "USRegional_Sales.groupby([\"_CustomerID\", \"OrderDay\"])[\"Unit Price\"].agg([\"min\", \"mean\", \"max\"])"
   ]
  },
  {
   "cell_type": "markdown",
   "metadata": {},
   "source": [
    "Count of products sold by year\n",
    "\n",
    "###### View of the number of products sold by year"
   ]
  },
  {
   "cell_type": "code",
   "execution_count": 70,
   "metadata": {},
   "outputs": [
    {
     "data": {
      "text/plain": [
       "OrderYear  _ProductID\n",
       "2018       11            59\n",
       "           23            52\n",
       "           12            51\n",
       "           37            51\n",
       "           8             50\n",
       "                         ..\n",
       "2020       15            58\n",
       "           10            57\n",
       "           39            52\n",
       "           47            51\n",
       "           44            41\n",
       "Name: _ProductID, Length: 141, dtype: int64"
      ]
     },
     "execution_count": 70,
     "metadata": {},
     "output_type": "execute_result"
    }
   ],
   "source": [
    "USRegional_Sales.groupby(\"OrderYear\")[\"_ProductID\"].value_counts()"
   ]
  },
  {
   "cell_type": "markdown",
   "metadata": {},
   "source": [
    "Count of products sold by month\n",
    "\n",
    "###### View of the number of products sold by month"
   ]
  },
  {
   "cell_type": "code",
   "execution_count": 71,
   "metadata": {},
   "outputs": [
    {
     "data": {
      "text/plain": [
       "OrderMonth  _ProductID\n",
       "April       4             18\n",
       "            29            17\n",
       "            14            16\n",
       "            31            16\n",
       "            38            16\n",
       "                          ..\n",
       "September   35            12\n",
       "            20            11\n",
       "            2             10\n",
       "            14            10\n",
       "            24            10\n",
       "Name: _ProductID, Length: 564, dtype: int64"
      ]
     },
     "execution_count": 71,
     "metadata": {},
     "output_type": "execute_result"
    }
   ],
   "source": [
    "USRegional_Sales.groupby(\"OrderMonth\")[\"_ProductID\"].value_counts()"
   ]
  },
  {
   "cell_type": "markdown",
   "metadata": {},
   "source": [
    "Count of products sold by day\n",
    "\n",
    "###### View of the number of products sold by day"
   ]
  },
  {
   "cell_type": "code",
   "execution_count": 72,
   "metadata": {},
   "outputs": [
    {
     "data": {
      "text/plain": [
       "OrderDay   _ProductID\n",
       "Friday     33            34\n",
       "           29            33\n",
       "           8             31\n",
       "           23            31\n",
       "           4             29\n",
       "                         ..\n",
       "Wednesday  14            17\n",
       "           30            17\n",
       "           15            15\n",
       "           44            15\n",
       "           40            12\n",
       "Name: _ProductID, Length: 329, dtype: int64"
      ]
     },
     "execution_count": 72,
     "metadata": {},
     "output_type": "execute_result"
    }
   ],
   "source": [
    "USRegional_Sales.groupby(\"OrderDay\")[\"_ProductID\"].value_counts()"
   ]
  },
  {
   "cell_type": "markdown",
   "metadata": {},
   "source": [
    "Count of order quantity sold by each sales team member\n",
    "\n",
    "###### View of the number of orders sold by each sales team member"
   ]
  },
  {
   "cell_type": "code",
   "execution_count": 117,
   "metadata": {},
   "outputs": [
    {
     "data": {
      "text/plain": [
       "_SalesTeamID\n",
       "1     302\n",
       "2     246\n",
       "3     296\n",
       "4     292\n",
       "5     283\n",
       "6     265\n",
       "7     303\n",
       "8     315\n",
       "9     285\n",
       "10    260\n",
       "11    289\n",
       "12    314\n",
       "13    340\n",
       "14    261\n",
       "15    271\n",
       "16    298\n",
       "17    275\n",
       "18    316\n",
       "19    293\n",
       "20    288\n",
       "21    296\n",
       "22    266\n",
       "23    277\n",
       "24    284\n",
       "25    259\n",
       "26    296\n",
       "27    274\n",
       "28    247\n",
       "Name: Order Quantity, dtype: int64"
      ]
     },
     "execution_count": 117,
     "metadata": {},
     "output_type": "execute_result"
    }
   ],
   "source": [
    "USRegional_Sales.groupby(\"_SalesTeamID\")[\"Order Quantity\"].count()"
   ]
  },
  {
   "cell_type": "markdown",
   "metadata": {},
   "source": [
    "Avg unit price sold by each sales member\n",
    "\n",
    "###### View of the avg unit price sold by each sales member"
   ]
  },
  {
   "cell_type": "code",
   "execution_count": 121,
   "metadata": {},
   "outputs": [
    {
     "data": {
      "text/plain": [
       "_SalesTeamID\n",
       "1     2328.627152\n",
       "2     2414.805285\n",
       "3     2190.718919\n",
       "4     2187.274658\n",
       "5     2125.036396\n",
       "6     2200.482264\n",
       "7     2321.052475\n",
       "8     2315.371111\n",
       "9     2269.513333\n",
       "10    2239.114231\n",
       "11    2387.866090\n",
       "12    2348.392675\n",
       "13    2175.411176\n",
       "14    2282.286973\n",
       "15    2383.197417\n",
       "16    2266.263758\n",
       "17    2313.351636\n",
       "18    2190.497152\n",
       "19    2431.002389\n",
       "20    2221.585069\n",
       "21    2162.968243\n",
       "22    2354.697368\n",
       "23    2296.503610\n",
       "24    2526.065141\n",
       "25    2333.100386\n",
       "26    2398.826351\n",
       "27    2189.677372\n",
       "28    2130.789879\n",
       "Name: Unit Price, dtype: float64"
      ]
     },
     "execution_count": 121,
     "metadata": {},
     "output_type": "execute_result"
    }
   ],
   "source": [
    "USRegional_Sales.groupby(\"_SalesTeamID\")[\"Unit Price\"].mean()"
   ]
  },
  {
   "cell_type": "markdown",
   "metadata": {},
   "source": [
    "Count of order quantity sold by sales channel\n",
    "\n",
    "###### View of the number of orders sold by each sales channel"
   ]
  },
  {
   "cell_type": "code",
   "execution_count": 116,
   "metadata": {},
   "outputs": [
    {
     "data": {
      "text/plain": [
       "Sales Channel\n",
       "Distributor    1375\n",
       "In-Store       3298\n",
       "Online         2425\n",
       "Wholesale       893\n",
       "Name: Order Quantity, dtype: int64"
      ]
     },
     "execution_count": 116,
     "metadata": {},
     "output_type": "execute_result"
    }
   ],
   "source": [
    "USRegional_Sales.groupby(\"Sales Channel\")[\"Order Quantity\"].count()"
   ]
  },
  {
   "cell_type": "markdown",
   "metadata": {},
   "source": [
    "Avg unit price sold per sales channel\n",
    "\n",
    "###### View of the avg price of a unit by each sales channel "
   ]
  },
  {
   "cell_type": "code",
   "execution_count": 120,
   "metadata": {},
   "outputs": [
    {
     "data": {
      "text/plain": [
       "Sales Channel\n",
       "Distributor    2328.554545\n",
       "In-Store       2270.215161\n",
       "Online         2286.534557\n",
       "Wholesale      2264.224860\n",
       "Name: Unit Price, dtype: float64"
      ]
     },
     "execution_count": 120,
     "metadata": {},
     "output_type": "execute_result"
    }
   ],
   "source": [
    "USRegional_Sales.groupby(\"Sales Channel\")[\"Unit Price\"].mean()"
   ]
  },
  {
   "cell_type": "markdown",
   "metadata": {},
   "source": [
    "Avg unit price by customer and year\n",
    "\n",
    "###### View of the avg order price by customers per year"
   ]
  },
  {
   "cell_type": "code",
   "execution_count": 131,
   "metadata": {},
   "outputs": [
    {
     "data": {
      "text/plain": [
       "OrderYear  _CustomerID\n",
       "2018       1              2376.018519\n",
       "           2              2133.221739\n",
       "           3              2032.721739\n",
       "           4              2507.307500\n",
       "           5              1924.947222\n",
       "                             ...     \n",
       "2020       46             2412.679710\n",
       "           47             2130.304412\n",
       "           48             1936.300000\n",
       "           49             2339.350980\n",
       "           50             2466.376812\n",
       "Name: Unit Price, Length: 150, dtype: float64"
      ]
     },
     "execution_count": 131,
     "metadata": {},
     "output_type": "execute_result"
    }
   ],
   "source": [
    "USRegional_Sales.groupby([\"OrderYear\", \"_CustomerID\"])[\"Unit Price\"].mean()"
   ]
  },
  {
   "cell_type": "markdown",
   "metadata": {},
   "source": [
    "Top 10 avg unit price by customer and year\n",
    "\n",
    "###### View of the top 10 avg order price by customers per year"
   ]
  },
  {
   "cell_type": "code",
   "execution_count": 130,
   "metadata": {},
   "outputs": [
    {
     "data": {
      "text/plain": [
       "OrderYear  _CustomerID\n",
       "2018       27             2917.984000\n",
       "           43             2822.933333\n",
       "           17             2763.005556\n",
       "           15             2747.372222\n",
       "           36             2740.858333\n",
       "2019       5              2697.866667\n",
       "           16             2668.088889\n",
       "2018       22             2663.821951\n",
       "2020       34             2651.677273\n",
       "           33             2651.360784\n",
       "Name: Unit Price, dtype: float64"
      ]
     },
     "execution_count": 130,
     "metadata": {},
     "output_type": "execute_result"
    }
   ],
   "source": [
    "USRegional_Sales.groupby([\"OrderYear\", \"_CustomerID\"])[\"Unit Price\"].mean().sort_values(ascending=False)[:10]"
   ]
  },
  {
   "cell_type": "markdown",
   "metadata": {},
   "source": [
    "Avg unit price by customer and month\n",
    "\n",
    "###### View of the avg order price by customer and month"
   ]
  },
  {
   "cell_type": "code",
   "execution_count": 124,
   "metadata": {},
   "outputs": [
    {
     "data": {
      "text/plain": [
       "OrderMonth  _CustomerID\n",
       "April       1              1675.558333\n",
       "            2              2561.912500\n",
       "            3              2948.957143\n",
       "            4              1654.006667\n",
       "            5              2619.253333\n",
       "                              ...     \n",
       "September   46             2111.170000\n",
       "            47             1479.481818\n",
       "            48             2627.009091\n",
       "            49             2141.938462\n",
       "            50             2205.975000\n",
       "Name: Unit Price, Length: 600, dtype: float64"
      ]
     },
     "execution_count": 124,
     "metadata": {},
     "output_type": "execute_result"
    }
   ],
   "source": [
    "USRegional_Sales.groupby([\"OrderMonth\", \"_CustomerID\"])[\"Unit Price\"].mean()"
   ]
  },
  {
   "cell_type": "markdown",
   "metadata": {},
   "source": [
    "Avg unit price by customer\n",
    "\n",
    "###### View of the avg order price by each customer"
   ]
  },
  {
   "cell_type": "code",
   "execution_count": 132,
   "metadata": {},
   "outputs": [
    {
     "data": {
      "text/plain": [
       "_CustomerID\n",
       "1     2094.896053\n",
       "2     2145.985185\n",
       "3     2102.541436\n",
       "4     2304.238323\n",
       "5     2285.922013\n",
       "6     2335.488811\n",
       "7     2150.524837\n",
       "8     2234.355634\n",
       "9     2219.149708\n",
       "10    2323.161392\n",
       "11    2361.825281\n",
       "12    2342.894286\n",
       "13    2349.976023\n",
       "14    2261.015287\n",
       "15    2443.046479\n",
       "16    2452.696296\n",
       "17    2405.606286\n",
       "18    2358.796237\n",
       "19    2219.892727\n",
       "20    2058.665269\n",
       "21    2427.932927\n",
       "22    2444.830000\n",
       "23    2308.190854\n",
       "24    2250.223841\n",
       "25    2325.065432\n",
       "26    2232.939216\n",
       "27    2075.511111\n",
       "28    2378.869655\n",
       "29    2458.151397\n",
       "30    2176.151572\n",
       "31    2244.147368\n",
       "32    2316.650867\n",
       "33    2341.134615\n",
       "34    2479.723295\n",
       "35    2127.781379\n",
       "36    2422.221795\n",
       "37    2270.991447\n",
       "38    2234.896667\n",
       "39    2238.751705\n",
       "40    2322.488000\n",
       "41    2313.663975\n",
       "42    2212.373292\n",
       "43    2421.495364\n",
       "44    2224.013462\n",
       "45    2387.991667\n",
       "46    2235.026115\n",
       "47    2085.375000\n",
       "48    2144.584302\n",
       "49    2281.394079\n",
       "50    2359.098773\n",
       "Name: Unit Price, dtype: float64"
      ]
     },
     "execution_count": 132,
     "metadata": {},
     "output_type": "execute_result"
    }
   ],
   "source": [
    "USRegional_Sales.groupby(\"_CustomerID\")[\"Unit Price\"].mean()"
   ]
  },
  {
   "cell_type": "markdown",
   "metadata": {},
   "source": [
    "Avg markup or profit per unit\n",
    "\n",
    "###### View of the avg markup or profit per unit "
   ]
  },
  {
   "cell_type": "code",
   "execution_count": 146,
   "metadata": {},
   "outputs": [
    {
     "name": "stdout",
     "output_type": "stream",
     "text": [
      "The average markup per unit is $852.62\n"
     ]
    }
   ],
   "source": [
    "avg_markup_price = USRegional_Sales[\"Unit Price\"].mean() - USRegional_Sales[\"Unit Cost\"].mean()\n",
    "avg_markup_price\n",
    "print(f\"The average markup per unit is ${round(avg_markup_price, 2)}\")"
   ]
  },
  {
   "cell_type": "markdown",
   "metadata": {},
   "source": [
    "Avg markup or profit per unit by year\n",
    "\n",
    "###### View of the avg markup or profit per unit by year"
   ]
  },
  {
   "cell_type": "code",
   "execution_count": 373,
   "metadata": {},
   "outputs": [
    {
     "data": {
      "text/plain": [
       "OrderYear\n",
       "2018    2278.372222\n",
       "2019    2296.353135\n",
       "2020    2276.700736\n",
       "Name: Unit Price, dtype: float64"
      ]
     },
     "execution_count": 373,
     "metadata": {},
     "output_type": "execute_result"
    }
   ],
   "source": [
    "avg_markup_price_by_year = USRegional_Sales.groupby(\"OrderYear\")[\"Unit Price\"].mean()\n",
    "avg_markup_price_by_year"
   ]
  },
  {
   "cell_type": "markdown",
   "metadata": {},
   "source": [
    "Avg markup or profit per unit by month\n",
    "\n",
    "###### View of the avg markup or profit per unit by month"
   ]
  },
  {
   "cell_type": "code",
   "execution_count": 400,
   "metadata": {},
   "outputs": [
    {
     "data": {
      "text/plain": [
       "OrderMonth\n",
       "April        2252.318762\n",
       "August       2301.208597\n",
       "December     2279.219722\n",
       "February     2229.538446\n",
       "January      2431.146221\n",
       "July         2248.022767\n",
       "June         2332.288108\n",
       "March        2249.155679\n",
       "May          2212.620182\n",
       "November     2335.288860\n",
       "October      2241.730067\n",
       "September    2276.165369\n",
       "Name: Unit Price, dtype: float64"
      ]
     },
     "execution_count": 400,
     "metadata": {},
     "output_type": "execute_result"
    }
   ],
   "source": [
    "avg_markup_price_by_month = USRegional_Sales.groupby(\"OrderMonth\")[\"Unit Price\"].mean()\n",
    "avg_markup_price_by_month"
   ]
  },
  {
   "cell_type": "markdown",
   "metadata": {},
   "source": [
    "Avg markup or profit per unit by day\n",
    "\n",
    "###### View of the avg markup or profit per unit by day"
   ]
  },
  {
   "cell_type": "code",
   "execution_count": 401,
   "metadata": {},
   "outputs": [
    {
     "data": {
      "text/plain": [
       "OrderDay\n",
       "Friday       2258.466367\n",
       "Monday       2257.742147\n",
       "Saturday     2217.172529\n",
       "Sunday       2317.488342\n",
       "Thursday     2392.238442\n",
       "Tuesday      2303.873788\n",
       "Wednesday    2243.256324\n",
       "Name: Unit Price, dtype: float64"
      ]
     },
     "execution_count": 401,
     "metadata": {},
     "output_type": "execute_result"
    }
   ],
   "source": [
    "avg_markup_price_by_day = USRegional_Sales.groupby(\"OrderDay\")[\"Unit Price\"].mean()\n",
    "avg_markup_price_by_day"
   ]
  },
  {
   "cell_type": "markdown",
   "metadata": {},
   "source": [
    "Data Visualizations\n",
    "\n",
    "###### Number of Orders by Year Countplot"
   ]
  },
  {
   "cell_type": "code",
   "execution_count": 279,
   "metadata": {},
   "outputs": [
    {
     "name": "stdout",
     "output_type": "stream",
     "text": [
      "The year 2020 experienced the most orders placed\n"
     ]
    },
    {
     "data": {
      "image/png": "[encoded data removed]",
      "text/plain": [
       "<Figure size 640x480 with 1 Axes>"
      ]
     },
     "metadata": {},
     "output_type": "display_data"
    }
   ],
   "source": [
    "sns.countplot(x=\"OrderYear\", data=USRegional_Sales),\n",
    "plt.title(\"Number of Orders by Year\", fontsize=20, color=\"red\"),\n",
    "plt.ylabel(\"\"),\n",
    "plt.xlabel(\"\")\n",
    "sns.set_style(\"darkgrid\")\n",
    "print(\"The year 2020 experienced the most orders placed\") "
   ]
  },
  {
   "cell_type": "markdown",
   "metadata": {},
   "source": [
    "###### Number of Orders by Month Countplot"
   ]
  },
  {
   "cell_type": "code",
   "execution_count": 278,
   "metadata": {},
   "outputs": [
    {
     "name": "stdout",
     "output_type": "stream",
     "text": [
      "The month of July experienced the highest number of orders, with the months of August and December tied for second\n"
     ]
    },
    {
     "data": {
      "image/png": "[encoded data removed]",
      "text/plain": [
       "<Figure size 1200x500 with 1 Axes>"
      ]
     },
     "metadata": {},
     "output_type": "display_data"
    }
   ],
   "source": [
    "plt.figure(figsize=(12,5))\n",
    "sns.set_style(\"darkgrid\")\n",
    "sns.countplot(x=\"OrderMonth\", data=USRegional_Sales),\n",
    "plt.title(\"Number of Orders by Month\", fontsize=20, color=\"red\"),\n",
    "plt.ylabel(\"\"),\n",
    "plt.xlabel(\"\")\n",
    "ticks = list(range(100, 1000, 100))\n",
    "plt.yticks(ticks, [f\"{x} orders\" for x in ticks])\n",
    "print(\"The month of July experienced the highest number of orders, with the months of August and December tied for second\")\n"
   ]
  },
  {
   "cell_type": "markdown",
   "metadata": {},
   "source": [
    "###### Number of Orders by Day Countplot"
   ]
  },
  {
   "cell_type": "code",
   "execution_count": 277,
   "metadata": {},
   "outputs": [
    {
     "name": "stdout",
     "output_type": "stream",
     "text": [
      "The most number of orders take place on Saturdays\n"
     ]
    },
    {
     "data": {
      "image/png": "[encoded data removed]",
      "text/plain": [
       "<Figure size 1000x400 with 1 Axes>"
      ]
     },
     "metadata": {},
     "output_type": "display_data"
    }
   ],
   "source": [
    "plt.figure(figsize=(10,4))\n",
    "sns.countplot(x=\"OrderDay\", data=USRegional_Sales)\n",
    "plt.title(\"Number of Orders by Day\", fontsize=20, color=\"red\")\n",
    "plt.xlabel(\"\"),\n",
    "plt.ylabel(\"\") \n",
    "sns.set_style(\"darkgrid\")\n",
    "ticks = list(range(200, 1400, 200))\n",
    "plt.yticks(ticks, [f\"{x} orders\" for x in ticks])\n",
    "print(\"The most number of orders take place on Saturdays\")"
   ]
  },
  {
   "cell_type": "markdown",
   "metadata": {},
   "source": [
    "###### Average Unit Price by Year Barplot"
   ]
  },
  {
   "cell_type": "code",
   "execution_count": 276,
   "metadata": {},
   "outputs": [
    {
     "name": "stdout",
     "output_type": "stream",
     "text": [
      "The year 2019 had the highest average unit price\n"
     ]
    },
    {
     "data": {
      "image/png": "[encoded data removed]",
      "text/plain": [
       "<Figure size 640x480 with 1 Axes>"
      ]
     },
     "metadata": {},
     "output_type": "display_data"
    }
   ],
   "source": [
    "sns.barplot(x=\"OrderYear\", y=\"Unit Price\", data=USRegional_Sales)\n",
    "plt.title(\"Avg Unit Price by Year\", fontsize=20, color=\"red\"),\n",
    "plt.ylabel(\"\"),\n",
    "plt.xlabel(\"\"),\n",
    "ticks = list(range(500, 2500, 500))\n",
    "plt.yticks(ticks, [f\"{x}k USD\" for x in ticks])\n",
    "style.use(\"ggplot\")\n",
    "print(\"The year 2019 had the highest average unit price\")"
   ]
  },
  {
   "cell_type": "markdown",
   "metadata": {},
   "source": [
    "###### Average Unit Price by Month Barplot"
   ]
  },
  {
   "cell_type": "code",
   "execution_count": 270,
   "metadata": {},
   "outputs": [
    {
     "name": "stdout",
     "output_type": "stream",
     "text": [
      "The highest average unit price by month was January\n"
     ]
    },
    {
     "data": {
      "image/png": "[encoded data removed]",
      "text/plain": [
       "<Figure size 1200x500 with 1 Axes>"
      ]
     },
     "metadata": {},
     "output_type": "display_data"
    }
   ],
   "source": [
    "plt.figure(figsize=(12,5))\n",
    "sns.barplot(x=\"OrderMonth\", y=\"Unit Price\", data=USRegional_Sales)\n",
    "plt.title(\"Avg Unit Price by Month\", fontsize=20, color=\"red\"),\n",
    "plt.ylabel(\"\"),\n",
    "plt.xlabel(\"\"),\n",
    "ticks = list(range(500, 3000, 500))\n",
    "plt.yticks(ticks, [f\"{x} k USD\" for x in ticks])\n",
    "print(\"The highest average unit price by month was January\")"
   ]
  },
  {
   "cell_type": "markdown",
   "metadata": {},
   "source": [
    "###### Average Unit Price by Day Barplot"
   ]
  },
  {
   "cell_type": "code",
   "execution_count": 275,
   "metadata": {},
   "outputs": [
    {
     "name": "stdout",
     "output_type": "stream",
     "text": [
      "Thursdays have the highest average unit price\n"
     ]
    },
    {
     "data": {
      "image/png": "[encoded data removed]",
      "text/plain": [
       "<Figure size 640x480 with 1 Axes>"
      ]
     },
     "metadata": {},
     "output_type": "display_data"
    }
   ],
   "source": [
    "sns.barplot(x=\"OrderDay\", y=\"Unit Price\", data=USRegional_Sales)\n",
    "plt.title(\"Avg Unit Price by Day\", fontsize=20, color=\"red\"),\n",
    "plt.ylabel(\"\"),\n",
    "plt.xlabel(\"\"),\n",
    "ticks = list(range(500, 3000, 500))\n",
    "plt.yticks(ticks, [f\"{x} k USD\" for x in ticks])\n",
    "print(\"Thursdays have the highest average unit price\")"
   ]
  },
  {
   "cell_type": "markdown",
   "metadata": {},
   "source": [
    "###### Top 10 Sales Team Members who sold the most Orders Barchart"
   ]
  },
  {
   "cell_type": "code",
   "execution_count": 442,
   "metadata": {},
   "outputs": [
    {
     "name": "stdout",
     "output_type": "stream",
     "text": [
      "The graph shows us that sales team member number 17 has sold the most number of products\n"
     ]
    },
    {
     "data": {
      "image/png": "[encoded data removed]",
      "text/plain": [
       "<Figure size 640x480 with 1 Axes>"
      ]
     },
     "metadata": {},
     "output_type": "display_data"
    }
   ],
   "source": [
    "USRegional_Sales.groupby(\"_SalesTeamID\")[\"Order Quantity\"].count().sort_values(ascending=True)[:10].plot(kind=\"barh\", color=\"teal\"),\n",
    "plt.title(\"Number of Orders Sold by Sales Team Members\", fontsize=20, color=\"red\"),\n",
    "plt.ylabel(\"Sales Team Member\"),\n",
    "plt.xlabel(\"Num of Orders\")\n",
    "style.use(\"ggplot\")\n",
    "print(\"The graph shows us that sales team member number 17 has sold the most number of products\")"
   ]
  },
  {
   "cell_type": "markdown",
   "metadata": {},
   "source": [
    "###### Top 10 Sales Team Members with the highest Avg Unit Price Sold Barchart"
   ]
  },
  {
   "cell_type": "code",
   "execution_count": 443,
   "metadata": {},
   "outputs": [
    {
     "name": "stdout",
     "output_type": "stream",
     "text": [
      "Sales team member 24 averages the highest in unit prices sold\n"
     ]
    },
    {
     "data": {
      "image/png": "[encoded data removed]",
      "text/plain": [
       "<Figure size 640x480 with 1 Axes>"
      ]
     },
     "metadata": {},
     "output_type": "display_data"
    }
   ],
   "source": [
    "USRegional_Sales.groupby(\"_SalesTeamID\")[\"Unit Price\"].mean().sort_values(ascending=False)[:10].plot(kind=\"bar\", rot=45, color=\"skyblue\"),\n",
    "plt.title(\"Avg Unit Price Sold by Sales Team Members\", fontsize=20, color=\"red\"),\n",
    "plt.ylabel(\"\"),\n",
    "plt.xlabel(\"\")\n",
    "ticks = list(range(500, 3000, 500))\n",
    "plt.yticks(ticks, [f\"{x} k USD\" for x in ticks])\n",
    "style.use(\"dark_background\")\n",
    "print(\"Sales team member 24 averages the highest in unit prices sold\")"
   ]
  },
  {
   "cell_type": "markdown",
   "metadata": {},
   "source": [
    "###### Number of Orders by Sales Channel Countplot"
   ]
  },
  {
   "cell_type": "code",
   "execution_count": 352,
   "metadata": {},
   "outputs": [
    {
     "name": "stdout",
     "output_type": "stream",
     "text": [
      "This graph shows us that the most orders by sales channel comes from in-store purchases\n"
     ]
    },
    {
     "data": {
      "image/png": "[encoded data removed]",
      "text/plain": [
       "<Figure size 640x480 with 1 Axes>"
      ]
     },
     "metadata": {},
     "output_type": "display_data"
    }
   ],
   "source": [
    "sns.countplot(x=\"Sales Channel\", data=USRegional_Sales)\n",
    "plt.title(\"Number of Orders by Sales Channel\", fontsize=20, color=\"red\"),\n",
    "plt.xlabel(\"\"),\n",
    "plt.ylabel(\"\")\n",
    "ticks = list(range(500, 3500, 500))\n",
    "plt.yticks(ticks, [f\"{x} orders\" for x in ticks])\n",
    "sns.set_style(\"dark\")\n",
    "print(\"This graph shows us that the most orders by sales channel comes from in-store purchases\")\n"
   ]
  },
  {
   "cell_type": "markdown",
   "metadata": {},
   "source": [
    "###### Percentage of Order Quantity by Sales Channel Piechart"
   ]
  },
  {
   "cell_type": "code",
   "execution_count": 408,
   "metadata": {},
   "outputs": [
    {
     "name": "stdout",
     "output_type": "stream",
     "text": [
      "The pie chart shows us that the highest percentage of most orders by sales channel come from in-store purchases\n"
     ]
    },
    {
     "data": {
      "image/png": "[encoded data removed]",
      "text/plain": [
       "<Figure size 640x480 with 1 Axes>"
      ]
     },
     "metadata": {},
     "output_type": "display_data"
    }
   ],
   "source": [
    "e = [0, 0.07, 0, 0]\n",
    "USRegional_Sales.groupby(\"Sales Channel\")[\"Order Quantity\"].count().plot(kind=\"pie\", autopct=\"%1.1f%%\", startangle=45, explode=e, shadow=True),\n",
    "plt.title(\"Percent of Order Quantity by Sales Channel\", fontsize=20, color=\"red\"),\n",
    "plt.ylabel(\"\"),\n",
    "plt.xlabel(\"\"),\n",
    "sns.set_style(\"white\")\n",
    "print(\"The pie chart shows us that the highest percentage of most orders by sales channel come from in-store purchases\")"
   ]
  },
  {
   "cell_type": "markdown",
   "metadata": {},
   "source": [
    "###### Average Unit Price by Sales Channel Linechart"
   ]
  },
  {
   "cell_type": "code",
   "execution_count": 422,
   "metadata": {},
   "outputs": [
    {
     "data": {
      "image/png": "[encoded data removed]",
      "text/plain": [
       "<Figure size 640x480 with 1 Axes>"
      ]
     },
     "metadata": {},
     "output_type": "display_data"
    }
   ],
   "source": [
    "USRegional_Sales.groupby(\"Sales Channel\")[\"Unit Price\"].mean().plot(color=\"teal\", linestyle=\"--\", marker=\"o\", label=\"line with marker\"),\n",
    "plt.title(\"Avg Unit Price by Sales Channel\", fontsize=20, color=\"red\"),\n",
    "plt.xlabel(\"\"),\n",
    "plt.ylabel(\"\")\n",
    "ticks = list(range(2270, 2330, 10))\n",
    "plt.yticks(ticks, [f\"${x}\" for x in ticks])\n",
    "sns.set_style(\"dark\")"
   ]
  },
  {
   "cell_type": "markdown",
   "metadata": {},
   "source": [
    "###### Average Unit Price by Customers Histogram"
   ]
  },
  {
   "cell_type": "code",
   "execution_count": 446,
   "metadata": {},
   "outputs": [
    {
     "name": "stdout",
     "output_type": "stream",
     "text": [
      "Histogram\n"
     ]
    },
    {
     "data": {
      "image/png": "[encoded data removed]",
      "text/plain": [
       "<Figure size 1000x500 with 1 Axes>"
      ]
     },
     "metadata": {},
     "output_type": "display_data"
    }
   ],
   "source": [
    "plt.figure(figsize=(10,5))\n",
    "USRegional_Sales.groupby(\"_CustomerID\")[\"Unit Price\"].mean().plot(kind=\"hist\", bins=50, cumulative=True)\n",
    "plt.title(\"Avg Unit Price by Customers\", color=\"red\", fontsize=20),\n",
    "ticks = list(range(2100, 2500, 100))\n",
    "plt.xticks(ticks, [f\"${x}\" for x in ticks])\n",
    "style.use(\"ggplot\")\n",
    "print(\"Histogram\")"
   ]
  },
  {
   "cell_type": "markdown",
   "metadata": {},
   "source": [
    "###### Average Profit by Year Piechart"
   ]
  },
  {
   "cell_type": "code",
   "execution_count": 451,
   "metadata": {},
   "outputs": [
    {
     "name": "stdout",
     "output_type": "stream",
     "text": [
      "The pie chart indicates that 2019 was the year that saw the highest average profits\n"
     ]
    },
    {
     "data": {
      "image/png": "[encoded data removed]",
      "text/plain": [
       "<Figure size 640x480 with 1 Axes>"
      ]
     },
     "metadata": {},
     "output_type": "display_data"
    }
   ],
   "source": [
    "e = [0, 0.1, 0]\n",
    "avg_markup_price_by_year.plot(kind=\"pie\", shadow=True, autopct=\"%1.1f%%\", startangle=45, explode=e)\n",
    "plt.title(\"Avg Profit by Year\", fontsize=20, color=\"red\"),\n",
    "plt.ylabel(\"\") \n",
    "print(\"The pie chart indicates that 2019 was the year that saw the highest average profits\")"
   ]
  },
  {
   "cell_type": "markdown",
   "metadata": {},
   "source": [
    "###### Average Profit by Month Linechart"
   ]
  },
  {
   "cell_type": "code",
   "execution_count": 457,
   "metadata": {},
   "outputs": [
    {
     "name": "stdout",
     "output_type": "stream",
     "text": [
      "This graph shows that the month of January has the highest average profits\n"
     ]
    },
    {
     "data": {
      "image/png": "[encoded data removed]",
      "text/plain": [
       "<Figure size 1000x500 with 1 Axes>"
      ]
     },
     "metadata": {},
     "output_type": "display_data"
    }
   ],
   "source": [
    "plt.figure(figsize=(10,5))\n",
    "avg_markup_price_by_month.plot(color=\"green\", linestyle=\"--\", marker=\"o\", label=\"line with marker\"),\n",
    "plt.title(\"Avg Profit by Month\", fontsize=20, color=\"red\"),\n",
    "plt.xlabel(\"\"),\n",
    "ticks = list(range(2250, 2450, 50))\n",
    "plt.yticks(ticks, [f\"${x}\" for x in ticks])\n",
    "print(\"This graph shows that the month of January has the highest average profits\")"
   ]
  },
  {
   "cell_type": "markdown",
   "metadata": {},
   "source": [
    "###### Average Profit by Day Linechart"
   ]
  },
  {
   "cell_type": "code",
   "execution_count": 447,
   "metadata": {},
   "outputs": [
    {
     "name": "stdout",
     "output_type": "stream",
     "text": [
      "The graph shows us that Thursdays experience the highest average profits\n"
     ]
    },
    {
     "data": {
      "image/png": "[encoded data removed]",
      "text/plain": [
       "<Figure size 1000x500 with 1 Axes>"
      ]
     },
     "metadata": {},
     "output_type": "display_data"
    }
   ],
   "source": [
    "plt.figure(figsize=(10, 5))\n",
    "avg_markup_price_by_day.plot(kind=\"bar\", rot=0, color=\"skyblue\"),\n",
    "plt.title(\"Avg Profit by Day\", fontsize=20, color=\"red\")\n",
    "plt.xlabel(\"\")\n",
    "ticks = list(range(0, 3000, 500))\n",
    "plt.yticks(ticks, [f\"${x}\" for x in ticks])\n",
    "style.use(\"ggplot\")\n",
    "print(\"The graph shows us that Thursdays experience the highest average profits\")"
   ]
  }
 ],
 "metadata": {
  "kernelspec": {
   "display_name": "base",
   "language": "python",
   "name": "python3"
  },
  "language_info": {
   "codemirror_mode": {
    "name": "ipython",
    "version": 3
   },
   "file_extension": ".py",
   "mimetype": "text/x-python",
   "name": "python",
   "nbconvert_exporter": "python",
   "pygments_lexer": "ipython3",
   "version": "3.9.13"
  }
 },
 "nbformat": 4,
 "nbformat_minor": 2
}

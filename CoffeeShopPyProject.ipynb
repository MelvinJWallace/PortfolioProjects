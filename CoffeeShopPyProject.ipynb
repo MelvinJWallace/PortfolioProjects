{
 "cells": [
  {
   "cell_type": "markdown",
   "metadata": {},
   "source": [
    "This is a dataset taken from the mavenanalytics.io website. The dataset consist of fictitious transaction records for a fictitious company named Maven Roasters, which operates out of three different New York City locations. The dataset includes the transaction date, timestamp and location, along with product-level details. \n",
    "\n",
    "In this project, I assume the role of lead data analyst who has been tasked with the job of analyzing this dataset to answer the business questions of the owner of Maven Roasters. The tool that I am choosing to perform my analysis will be Python for this assignment. I will demonstrate how to load the raw dataset into a dataframe, how to clean the dataset if neccessary, how to manipulate and transform the dataset to create new columns, how to process the data to perform calculations on the neccessary columns, and lastly, how to create and build visuals for my findings.\n",
    "\n",
    "Owners Business Questions:\n",
    "\n",
    "1) How have Maven Roasters sales trended over time?\n",
    "2) Which days of the week tend to be busiest, and why do you think that's the case?\n",
    "3) Which products are sold most and least often?\n",
    "4) Which products drive the msot revenue for the business?"
   ]
  },
  {
   "cell_type": "markdown",
   "metadata": {},
   "source": [
    "Step 1:\n",
    "\n",
    "Import the neccessary libraries that will be useful for analysis."
   ]
  },
  {
   "cell_type": "code",
   "execution_count": 2,
   "metadata": {},
   "outputs": [],
   "source": [
    "import numpy as np  # For numerical computation\n",
    "import pandas as pd # For data manipulation and loading data\n",
    "pd.set_option(\"display.max_rows\", None) # To display all rows of data\n",
    "pd.set_option(\"display.max_columns\", None)  # To display all columns of data\n",
    "import matplotlib.pyplot as plt # For visualizations\n",
    "%matplotlib inline  \n",
    "from matplotlib import style # To change the style of graphic\n",
    "style.use(\"ggplot\") # Setting the style of visuals\n",
    "import seaborn as sns   # For advanced visualizations\n",
    "sns.set_style(\"darkgrid\")   # Setting the style of advanced visuals"
   ]
  },
  {
   "cell_type": "markdown",
   "metadata": {},
   "source": [
    "Step 2:\n",
    "\n",
    "Loading the dataset that the owner has given me to be analyzed into a pandas dataframe for easy readability."
   ]
  },
  {
   "cell_type": "code",
   "execution_count": 3,
   "metadata": {},
   "outputs": [],
   "source": [
    "coffee_shop = pd.read_excel(r\"C:\\Users\\mjaso\\Downloads\\Coffee+Shop+Sales_Project\\Coffee Shop Sales.xlsx\")   # Loading an excel worksheet with the data into a pandas dataframe"
   ]
  },
  {
   "cell_type": "markdown",
   "metadata": {},
   "source": [
    "Step 3:\n",
    "\n",
    "Examining the data to get a better understanding of what the data consist of."
   ]
  },
  {
   "cell_type": "code",
   "execution_count": 4,
   "metadata": {},
   "outputs": [
    {
     "data": {
      "text/html": [
       "<div>\n",
       "<style scoped>\n",
       "    .dataframe tbody tr th:only-of-type {\n",
       "        vertical-align: middle;\n",
       "    }\n",
       "\n",
       "    .dataframe tbody tr th {\n",
       "        vertical-align: top;\n",
       "    }\n",
       "\n",
       "    .dataframe thead th {\n",
       "        text-align: right;\n",
       "    }\n",
       "</style>\n",
       "<table border=\"1\" class=\"dataframe\">\n",
       "  <thead>\n",
       "    <tr style=\"text-align: right;\">\n",
       "      <th></th>\n",
       "      <th>transaction_id</th>\n",
       "      <th>transaction_date</th>\n",
       "      <th>transaction_time</th>\n",
       "      <th>transaction_qty</th>\n",
       "      <th>store_id</th>\n",
       "      <th>store_location</th>\n",
       "      <th>product_id</th>\n",
       "      <th>unit_price</th>\n",
       "      <th>product_category</th>\n",
       "      <th>product_type</th>\n",
       "      <th>product_detail</th>\n",
       "    </tr>\n",
       "  </thead>\n",
       "  <tbody>\n",
       "    <tr>\n",
       "      <th>0</th>\n",
       "      <td>1</td>\n",
       "      <td>2023-01-01</td>\n",
       "      <td>07:06:11</td>\n",
       "      <td>2</td>\n",
       "      <td>5</td>\n",
       "      <td>Lower Manhattan</td>\n",
       "      <td>32</td>\n",
       "      <td>3.0</td>\n",
       "      <td>Coffee</td>\n",
       "      <td>Gourmet brewed coffee</td>\n",
       "      <td>Ethiopia Rg</td>\n",
       "    </tr>\n",
       "    <tr>\n",
       "      <th>1</th>\n",
       "      <td>2</td>\n",
       "      <td>2023-01-01</td>\n",
       "      <td>07:08:56</td>\n",
       "      <td>2</td>\n",
       "      <td>5</td>\n",
       "      <td>Lower Manhattan</td>\n",
       "      <td>57</td>\n",
       "      <td>3.1</td>\n",
       "      <td>Tea</td>\n",
       "      <td>Brewed Chai tea</td>\n",
       "      <td>Spicy Eye Opener Chai Lg</td>\n",
       "    </tr>\n",
       "    <tr>\n",
       "      <th>2</th>\n",
       "      <td>3</td>\n",
       "      <td>2023-01-01</td>\n",
       "      <td>07:14:04</td>\n",
       "      <td>2</td>\n",
       "      <td>5</td>\n",
       "      <td>Lower Manhattan</td>\n",
       "      <td>59</td>\n",
       "      <td>4.5</td>\n",
       "      <td>Drinking Chocolate</td>\n",
       "      <td>Hot chocolate</td>\n",
       "      <td>Dark chocolate Lg</td>\n",
       "    </tr>\n",
       "  </tbody>\n",
       "</table>\n",
       "</div>"
      ],
      "text/plain": [
       "   transaction_id transaction_date transaction_time  transaction_qty  \\\n",
       "0               1       2023-01-01         07:06:11                2   \n",
       "1               2       2023-01-01         07:08:56                2   \n",
       "2               3       2023-01-01         07:14:04                2   \n",
       "\n",
       "   store_id   store_location  product_id  unit_price    product_category  \\\n",
       "0         5  Lower Manhattan          32         3.0              Coffee   \n",
       "1         5  Lower Manhattan          57         3.1                 Tea   \n",
       "2         5  Lower Manhattan          59         4.5  Drinking Chocolate   \n",
       "\n",
       "            product_type            product_detail  \n",
       "0  Gourmet brewed coffee               Ethiopia Rg  \n",
       "1        Brewed Chai tea  Spicy Eye Opener Chai Lg  \n",
       "2          Hot chocolate         Dark chocolate Lg  "
      ]
     },
     "execution_count": 4,
     "metadata": {},
     "output_type": "execute_result"
    }
   ],
   "source": [
    "coffee_shop.head(3) # To get a quick view of the first three rows of data"
   ]
  },
  {
   "cell_type": "code",
   "execution_count": 5,
   "metadata": {},
   "outputs": [
    {
     "data": {
      "text/html": [
       "<div>\n",
       "<style scoped>\n",
       "    .dataframe tbody tr th:only-of-type {\n",
       "        vertical-align: middle;\n",
       "    }\n",
       "\n",
       "    .dataframe tbody tr th {\n",
       "        vertical-align: top;\n",
       "    }\n",
       "\n",
       "    .dataframe thead th {\n",
       "        text-align: right;\n",
       "    }\n",
       "</style>\n",
       "<table border=\"1\" class=\"dataframe\">\n",
       "  <thead>\n",
       "    <tr style=\"text-align: right;\">\n",
       "      <th></th>\n",
       "      <th>transaction_id</th>\n",
       "      <th>transaction_date</th>\n",
       "      <th>transaction_time</th>\n",
       "      <th>transaction_qty</th>\n",
       "      <th>store_id</th>\n",
       "      <th>store_location</th>\n",
       "      <th>product_id</th>\n",
       "      <th>unit_price</th>\n",
       "      <th>product_category</th>\n",
       "      <th>product_type</th>\n",
       "      <th>product_detail</th>\n",
       "    </tr>\n",
       "  </thead>\n",
       "  <tbody>\n",
       "    <tr>\n",
       "      <th>149113</th>\n",
       "      <td>149454</td>\n",
       "      <td>2023-06-30</td>\n",
       "      <td>20:31:34</td>\n",
       "      <td>1</td>\n",
       "      <td>8</td>\n",
       "      <td>Hell's Kitchen</td>\n",
       "      <td>45</td>\n",
       "      <td>3.00</td>\n",
       "      <td>Tea</td>\n",
       "      <td>Brewed herbal tea</td>\n",
       "      <td>Peppermint Lg</td>\n",
       "    </tr>\n",
       "    <tr>\n",
       "      <th>149114</th>\n",
       "      <td>149455</td>\n",
       "      <td>2023-06-30</td>\n",
       "      <td>20:57:19</td>\n",
       "      <td>1</td>\n",
       "      <td>8</td>\n",
       "      <td>Hell's Kitchen</td>\n",
       "      <td>40</td>\n",
       "      <td>3.75</td>\n",
       "      <td>Coffee</td>\n",
       "      <td>Barista Espresso</td>\n",
       "      <td>Cappuccino</td>\n",
       "    </tr>\n",
       "    <tr>\n",
       "      <th>149115</th>\n",
       "      <td>149456</td>\n",
       "      <td>2023-06-30</td>\n",
       "      <td>20:57:19</td>\n",
       "      <td>2</td>\n",
       "      <td>8</td>\n",
       "      <td>Hell's Kitchen</td>\n",
       "      <td>64</td>\n",
       "      <td>0.80</td>\n",
       "      <td>Flavours</td>\n",
       "      <td>Regular syrup</td>\n",
       "      <td>Hazelnut syrup</td>\n",
       "    </tr>\n",
       "  </tbody>\n",
       "</table>\n",
       "</div>"
      ],
      "text/plain": [
       "        transaction_id transaction_date transaction_time  transaction_qty  \\\n",
       "149113          149454       2023-06-30         20:31:34                1   \n",
       "149114          149455       2023-06-30         20:57:19                1   \n",
       "149115          149456       2023-06-30         20:57:19                2   \n",
       "\n",
       "        store_id  store_location  product_id  unit_price product_category  \\\n",
       "149113         8  Hell's Kitchen          45        3.00              Tea   \n",
       "149114         8  Hell's Kitchen          40        3.75           Coffee   \n",
       "149115         8  Hell's Kitchen          64        0.80         Flavours   \n",
       "\n",
       "             product_type  product_detail  \n",
       "149113  Brewed herbal tea   Peppermint Lg  \n",
       "149114   Barista Espresso      Cappuccino  \n",
       "149115      Regular syrup  Hazelnut syrup  "
      ]
     },
     "execution_count": 5,
     "metadata": {},
     "output_type": "execute_result"
    }
   ],
   "source": [
    "coffee_shop.tail(3) # To get a quick view of the last three rows of data"
   ]
  },
  {
   "cell_type": "code",
   "execution_count": 6,
   "metadata": {},
   "outputs": [
    {
     "data": {
      "text/html": [
       "<div>\n",
       "<style scoped>\n",
       "    .dataframe tbody tr th:only-of-type {\n",
       "        vertical-align: middle;\n",
       "    }\n",
       "\n",
       "    .dataframe tbody tr th {\n",
       "        vertical-align: top;\n",
       "    }\n",
       "\n",
       "    .dataframe thead th {\n",
       "        text-align: right;\n",
       "    }\n",
       "</style>\n",
       "<table border=\"1\" class=\"dataframe\">\n",
       "  <thead>\n",
       "    <tr style=\"text-align: right;\">\n",
       "      <th></th>\n",
       "      <th>transaction_id</th>\n",
       "      <th>transaction_qty</th>\n",
       "      <th>store_id</th>\n",
       "      <th>product_id</th>\n",
       "      <th>unit_price</th>\n",
       "    </tr>\n",
       "  </thead>\n",
       "  <tbody>\n",
       "    <tr>\n",
       "      <th>count</th>\n",
       "      <td>149116.000000</td>\n",
       "      <td>149116.000000</td>\n",
       "      <td>149116.000000</td>\n",
       "      <td>149116.000000</td>\n",
       "      <td>149116.000000</td>\n",
       "    </tr>\n",
       "    <tr>\n",
       "      <th>mean</th>\n",
       "      <td>74737.371872</td>\n",
       "      <td>1.438276</td>\n",
       "      <td>5.342063</td>\n",
       "      <td>47.918607</td>\n",
       "      <td>3.382219</td>\n",
       "    </tr>\n",
       "    <tr>\n",
       "      <th>std</th>\n",
       "      <td>43153.600016</td>\n",
       "      <td>0.542509</td>\n",
       "      <td>2.074241</td>\n",
       "      <td>17.930020</td>\n",
       "      <td>2.658723</td>\n",
       "    </tr>\n",
       "    <tr>\n",
       "      <th>min</th>\n",
       "      <td>1.000000</td>\n",
       "      <td>1.000000</td>\n",
       "      <td>3.000000</td>\n",
       "      <td>1.000000</td>\n",
       "      <td>0.800000</td>\n",
       "    </tr>\n",
       "    <tr>\n",
       "      <th>25%</th>\n",
       "      <td>37335.750000</td>\n",
       "      <td>1.000000</td>\n",
       "      <td>3.000000</td>\n",
       "      <td>33.000000</td>\n",
       "      <td>2.500000</td>\n",
       "    </tr>\n",
       "    <tr>\n",
       "      <th>50%</th>\n",
       "      <td>74727.500000</td>\n",
       "      <td>1.000000</td>\n",
       "      <td>5.000000</td>\n",
       "      <td>47.000000</td>\n",
       "      <td>3.000000</td>\n",
       "    </tr>\n",
       "    <tr>\n",
       "      <th>75%</th>\n",
       "      <td>112094.250000</td>\n",
       "      <td>2.000000</td>\n",
       "      <td>8.000000</td>\n",
       "      <td>60.000000</td>\n",
       "      <td>3.750000</td>\n",
       "    </tr>\n",
       "    <tr>\n",
       "      <th>max</th>\n",
       "      <td>149456.000000</td>\n",
       "      <td>8.000000</td>\n",
       "      <td>8.000000</td>\n",
       "      <td>87.000000</td>\n",
       "      <td>45.000000</td>\n",
       "    </tr>\n",
       "  </tbody>\n",
       "</table>\n",
       "</div>"
      ],
      "text/plain": [
       "       transaction_id  transaction_qty       store_id     product_id  \\\n",
       "count   149116.000000    149116.000000  149116.000000  149116.000000   \n",
       "mean     74737.371872         1.438276       5.342063      47.918607   \n",
       "std      43153.600016         0.542509       2.074241      17.930020   \n",
       "min          1.000000         1.000000       3.000000       1.000000   \n",
       "25%      37335.750000         1.000000       3.000000      33.000000   \n",
       "50%      74727.500000         1.000000       5.000000      47.000000   \n",
       "75%     112094.250000         2.000000       8.000000      60.000000   \n",
       "max     149456.000000         8.000000       8.000000      87.000000   \n",
       "\n",
       "          unit_price  \n",
       "count  149116.000000  \n",
       "mean        3.382219  \n",
       "std         2.658723  \n",
       "min         0.800000  \n",
       "25%         2.500000  \n",
       "50%         3.000000  \n",
       "75%         3.750000  \n",
       "max        45.000000  "
      ]
     },
     "execution_count": 6,
     "metadata": {},
     "output_type": "execute_result"
    }
   ],
   "source": [
    "coffee_shop.describe() # To get statistical information on numerical columns from the dataset"
   ]
  },
  {
   "cell_type": "code",
   "execution_count": 7,
   "metadata": {},
   "outputs": [
    {
     "data": {
      "text/html": [
       "<div>\n",
       "<style scoped>\n",
       "    .dataframe tbody tr th:only-of-type {\n",
       "        vertical-align: middle;\n",
       "    }\n",
       "\n",
       "    .dataframe tbody tr th {\n",
       "        vertical-align: top;\n",
       "    }\n",
       "\n",
       "    .dataframe thead th {\n",
       "        text-align: right;\n",
       "    }\n",
       "</style>\n",
       "<table border=\"1\" class=\"dataframe\">\n",
       "  <thead>\n",
       "    <tr style=\"text-align: right;\">\n",
       "      <th></th>\n",
       "      <th>transaction_time</th>\n",
       "      <th>store_location</th>\n",
       "      <th>product_category</th>\n",
       "      <th>product_type</th>\n",
       "      <th>product_detail</th>\n",
       "    </tr>\n",
       "  </thead>\n",
       "  <tbody>\n",
       "    <tr>\n",
       "      <th>count</th>\n",
       "      <td>149116</td>\n",
       "      <td>149116</td>\n",
       "      <td>149116</td>\n",
       "      <td>149116</td>\n",
       "      <td>149116</td>\n",
       "    </tr>\n",
       "    <tr>\n",
       "      <th>unique</th>\n",
       "      <td>25762</td>\n",
       "      <td>3</td>\n",
       "      <td>9</td>\n",
       "      <td>29</td>\n",
       "      <td>80</td>\n",
       "    </tr>\n",
       "    <tr>\n",
       "      <th>top</th>\n",
       "      <td>09:31:15</td>\n",
       "      <td>Hell's Kitchen</td>\n",
       "      <td>Coffee</td>\n",
       "      <td>Brewed Chai tea</td>\n",
       "      <td>Chocolate Croissant</td>\n",
       "    </tr>\n",
       "    <tr>\n",
       "      <th>freq</th>\n",
       "      <td>41</td>\n",
       "      <td>50735</td>\n",
       "      <td>58416</td>\n",
       "      <td>17183</td>\n",
       "      <td>3076</td>\n",
       "    </tr>\n",
       "  </tbody>\n",
       "</table>\n",
       "</div>"
      ],
      "text/plain": [
       "       transaction_time  store_location product_category     product_type  \\\n",
       "count            149116          149116           149116           149116   \n",
       "unique            25762               3                9               29   \n",
       "top            09:31:15  Hell's Kitchen           Coffee  Brewed Chai tea   \n",
       "freq                 41           50735            58416            17183   \n",
       "\n",
       "             product_detail  \n",
       "count                149116  \n",
       "unique                   80  \n",
       "top     Chocolate Croissant  \n",
       "freq                   3076  "
      ]
     },
     "execution_count": 7,
     "metadata": {},
     "output_type": "execute_result"
    }
   ],
   "source": [
    "coffee_shop.describe(include=\"object\") # To get statistical information on categorical columns from the dataset"
   ]
  },
  {
   "cell_type": "code",
   "execution_count": 8,
   "metadata": {},
   "outputs": [
    {
     "name": "stdout",
     "output_type": "stream",
     "text": [
      "<class 'pandas.core.frame.DataFrame'>\n",
      "RangeIndex: 149116 entries, 0 to 149115\n",
      "Data columns (total 11 columns):\n",
      " #   Column            Non-Null Count   Dtype         \n",
      "---  ------            --------------   -----         \n",
      " 0   transaction_id    149116 non-null  int64         \n",
      " 1   transaction_date  149116 non-null  datetime64[ns]\n",
      " 2   transaction_time  149116 non-null  object        \n",
      " 3   transaction_qty   149116 non-null  int64         \n",
      " 4   store_id          149116 non-null  int64         \n",
      " 5   store_location    149116 non-null  object        \n",
      " 6   product_id        149116 non-null  int64         \n",
      " 7   unit_price        149116 non-null  float64       \n",
      " 8   product_category  149116 non-null  object        \n",
      " 9   product_type      149116 non-null  object        \n",
      " 10  product_detail    149116 non-null  object        \n",
      "dtypes: datetime64[ns](1), float64(1), int64(4), object(5)\n",
      "memory usage: 12.5+ MB\n"
     ]
    }
   ],
   "source": [
    "coffee_shop.info()  # To get a view of all the columns and the datatypes associated with those columns"
   ]
  },
  {
   "cell_type": "markdown",
   "metadata": {},
   "source": [
    "Due to a time associated column not having the proper datatype, which would effect analysis, I am going to convert that column into the correct datatype."
   ]
  },
  {
   "cell_type": "code",
   "execution_count": 9,
   "metadata": {},
   "outputs": [],
   "source": [
    "coffee_shop[\"transaction_time\"] = coffee_shop[\"transaction_time\"].astype(str)   # Converting the transaction_time column into a string datatype\n"
   ]
  },
  {
   "cell_type": "markdown",
   "metadata": {},
   "source": [
    "Converted the targeted column into a string, now can convert that column into a datetime datatype."
   ]
  },
  {
   "cell_type": "code",
   "execution_count": 10,
   "metadata": {},
   "outputs": [],
   "source": [
    "coffee_shop[\"transaction_time\"] = pd.to_datetime(coffee_shop[\"transaction_time\"])   # Converting the time column to datetime datatype"
   ]
  },
  {
   "cell_type": "markdown",
   "metadata": {},
   "source": [
    "Verifying the change of datatypes."
   ]
  },
  {
   "cell_type": "code",
   "execution_count": 11,
   "metadata": {},
   "outputs": [
    {
     "data": {
      "text/html": [
       "<div>\n",
       "<style scoped>\n",
       "    .dataframe tbody tr th:only-of-type {\n",
       "        vertical-align: middle;\n",
       "    }\n",
       "\n",
       "    .dataframe tbody tr th {\n",
       "        vertical-align: top;\n",
       "    }\n",
       "\n",
       "    .dataframe thead th {\n",
       "        text-align: right;\n",
       "    }\n",
       "</style>\n",
       "<table border=\"1\" class=\"dataframe\">\n",
       "  <thead>\n",
       "    <tr style=\"text-align: right;\">\n",
       "      <th></th>\n",
       "      <th>transaction_id</th>\n",
       "      <th>transaction_qty</th>\n",
       "      <th>store_id</th>\n",
       "      <th>product_id</th>\n",
       "      <th>unit_price</th>\n",
       "    </tr>\n",
       "  </thead>\n",
       "  <tbody>\n",
       "    <tr>\n",
       "      <th>count</th>\n",
       "      <td>149116.000000</td>\n",
       "      <td>149116.000000</td>\n",
       "      <td>149116.000000</td>\n",
       "      <td>149116.000000</td>\n",
       "      <td>149116.000000</td>\n",
       "    </tr>\n",
       "    <tr>\n",
       "      <th>mean</th>\n",
       "      <td>74737.371872</td>\n",
       "      <td>1.438276</td>\n",
       "      <td>5.342063</td>\n",
       "      <td>47.918607</td>\n",
       "      <td>3.382219</td>\n",
       "    </tr>\n",
       "    <tr>\n",
       "      <th>std</th>\n",
       "      <td>43153.600016</td>\n",
       "      <td>0.542509</td>\n",
       "      <td>2.074241</td>\n",
       "      <td>17.930020</td>\n",
       "      <td>2.658723</td>\n",
       "    </tr>\n",
       "    <tr>\n",
       "      <th>min</th>\n",
       "      <td>1.000000</td>\n",
       "      <td>1.000000</td>\n",
       "      <td>3.000000</td>\n",
       "      <td>1.000000</td>\n",
       "      <td>0.800000</td>\n",
       "    </tr>\n",
       "    <tr>\n",
       "      <th>25%</th>\n",
       "      <td>37335.750000</td>\n",
       "      <td>1.000000</td>\n",
       "      <td>3.000000</td>\n",
       "      <td>33.000000</td>\n",
       "      <td>2.500000</td>\n",
       "    </tr>\n",
       "    <tr>\n",
       "      <th>50%</th>\n",
       "      <td>74727.500000</td>\n",
       "      <td>1.000000</td>\n",
       "      <td>5.000000</td>\n",
       "      <td>47.000000</td>\n",
       "      <td>3.000000</td>\n",
       "    </tr>\n",
       "    <tr>\n",
       "      <th>75%</th>\n",
       "      <td>112094.250000</td>\n",
       "      <td>2.000000</td>\n",
       "      <td>8.000000</td>\n",
       "      <td>60.000000</td>\n",
       "      <td>3.750000</td>\n",
       "    </tr>\n",
       "    <tr>\n",
       "      <th>max</th>\n",
       "      <td>149456.000000</td>\n",
       "      <td>8.000000</td>\n",
       "      <td>8.000000</td>\n",
       "      <td>87.000000</td>\n",
       "      <td>45.000000</td>\n",
       "    </tr>\n",
       "  </tbody>\n",
       "</table>\n",
       "</div>"
      ],
      "text/plain": [
       "       transaction_id  transaction_qty       store_id     product_id  \\\n",
       "count   149116.000000    149116.000000  149116.000000  149116.000000   \n",
       "mean     74737.371872         1.438276       5.342063      47.918607   \n",
       "std      43153.600016         0.542509       2.074241      17.930020   \n",
       "min          1.000000         1.000000       3.000000       1.000000   \n",
       "25%      37335.750000         1.000000       3.000000      33.000000   \n",
       "50%      74727.500000         1.000000       5.000000      47.000000   \n",
       "75%     112094.250000         2.000000       8.000000      60.000000   \n",
       "max     149456.000000         8.000000       8.000000      87.000000   \n",
       "\n",
       "          unit_price  \n",
       "count  149116.000000  \n",
       "mean        3.382219  \n",
       "std         2.658723  \n",
       "min         0.800000  \n",
       "25%         2.500000  \n",
       "50%         3.000000  \n",
       "75%         3.750000  \n",
       "max        45.000000  "
      ]
     },
     "execution_count": 11,
     "metadata": {},
     "output_type": "execute_result"
    }
   ],
   "source": [
    "coffee_shop.describe()"
   ]
  },
  {
   "cell_type": "code",
   "execution_count": 12,
   "metadata": {},
   "outputs": [
    {
     "data": {
      "text/html": [
       "<div>\n",
       "<style scoped>\n",
       "    .dataframe tbody tr th:only-of-type {\n",
       "        vertical-align: middle;\n",
       "    }\n",
       "\n",
       "    .dataframe tbody tr th {\n",
       "        vertical-align: top;\n",
       "    }\n",
       "\n",
       "    .dataframe thead th {\n",
       "        text-align: right;\n",
       "    }\n",
       "</style>\n",
       "<table border=\"1\" class=\"dataframe\">\n",
       "  <thead>\n",
       "    <tr style=\"text-align: right;\">\n",
       "      <th></th>\n",
       "      <th>store_location</th>\n",
       "      <th>product_category</th>\n",
       "      <th>product_type</th>\n",
       "      <th>product_detail</th>\n",
       "    </tr>\n",
       "  </thead>\n",
       "  <tbody>\n",
       "    <tr>\n",
       "      <th>count</th>\n",
       "      <td>149116</td>\n",
       "      <td>149116</td>\n",
       "      <td>149116</td>\n",
       "      <td>149116</td>\n",
       "    </tr>\n",
       "    <tr>\n",
       "      <th>unique</th>\n",
       "      <td>3</td>\n",
       "      <td>9</td>\n",
       "      <td>29</td>\n",
       "      <td>80</td>\n",
       "    </tr>\n",
       "    <tr>\n",
       "      <th>top</th>\n",
       "      <td>Hell's Kitchen</td>\n",
       "      <td>Coffee</td>\n",
       "      <td>Brewed Chai tea</td>\n",
       "      <td>Chocolate Croissant</td>\n",
       "    </tr>\n",
       "    <tr>\n",
       "      <th>freq</th>\n",
       "      <td>50735</td>\n",
       "      <td>58416</td>\n",
       "      <td>17183</td>\n",
       "      <td>3076</td>\n",
       "    </tr>\n",
       "  </tbody>\n",
       "</table>\n",
       "</div>"
      ],
      "text/plain": [
       "        store_location product_category     product_type       product_detail\n",
       "count           149116           149116           149116               149116\n",
       "unique               3                9               29                   80\n",
       "top     Hell's Kitchen           Coffee  Brewed Chai tea  Chocolate Croissant\n",
       "freq             50735            58416            17183                 3076"
      ]
     },
     "execution_count": 12,
     "metadata": {},
     "output_type": "execute_result"
    }
   ],
   "source": [
    "coffee_shop.describe(include=\"object\")"
   ]
  },
  {
   "cell_type": "code",
   "execution_count": 13,
   "metadata": {},
   "outputs": [
    {
     "name": "stdout",
     "output_type": "stream",
     "text": [
      "<class 'pandas.core.frame.DataFrame'>\n",
      "RangeIndex: 149116 entries, 0 to 149115\n",
      "Data columns (total 11 columns):\n",
      " #   Column            Non-Null Count   Dtype         \n",
      "---  ------            --------------   -----         \n",
      " 0   transaction_id    149116 non-null  int64         \n",
      " 1   transaction_date  149116 non-null  datetime64[ns]\n",
      " 2   transaction_time  149116 non-null  datetime64[ns]\n",
      " 3   transaction_qty   149116 non-null  int64         \n",
      " 4   store_id          149116 non-null  int64         \n",
      " 5   store_location    149116 non-null  object        \n",
      " 6   product_id        149116 non-null  int64         \n",
      " 7   unit_price        149116 non-null  float64       \n",
      " 8   product_category  149116 non-null  object        \n",
      " 9   product_type      149116 non-null  object        \n",
      " 10  product_detail    149116 non-null  object        \n",
      "dtypes: datetime64[ns](2), float64(1), int64(4), object(4)\n",
      "memory usage: 12.5+ MB\n"
     ]
    }
   ],
   "source": [
    "\n",
    "coffee_shop.info() \n"
   ]
  },
  {
   "cell_type": "markdown",
   "metadata": {},
   "source": [
    "Now I have the time column in a datatype that we can utilize for useful analysis.\n",
    "\n",
    "Converting the values in the time column to hours, adding a day of the week column, and month column. This will be beneficial for analysis later, as it will assist in answering some of the business questions.\n",
    "\n",
    "Verifying the changes made in the transaction time column."
   ]
  },
  {
   "cell_type": "code",
   "execution_count": 14,
   "metadata": {},
   "outputs": [],
   "source": [
    "coffee_shop[\"transaction_time\"] = coffee_shop[\"transaction_time\"].dt.hour   # Converting the transaction_time column to the associated hour value\n"
   ]
  },
  {
   "cell_type": "code",
   "execution_count": 15,
   "metadata": {},
   "outputs": [
    {
     "data": {
      "text/plain": [
       "0    Sunday\n",
       "1    Sunday\n",
       "2    Sunday\n",
       "3    Sunday\n",
       "4    Sunday\n",
       "5    Sunday\n",
       "6    Sunday\n",
       "7    Sunday\n",
       "8    Sunday\n",
       "9    Sunday\n",
       "Name: day, dtype: object"
      ]
     },
     "execution_count": 15,
     "metadata": {},
     "output_type": "execute_result"
    }
   ],
   "source": [
    "coffee_shop[\"day\"] = coffee_shop[\"transaction_date\"].dt.day_name()  # Creating a new day column with the day names associated with each value\n",
    "coffee_shop[\"day\"][:10]"
   ]
  },
  {
   "cell_type": "code",
   "execution_count": 16,
   "metadata": {},
   "outputs": [
    {
     "data": {
      "text/plain": [
       "0    1\n",
       "1    1\n",
       "2    1\n",
       "3    1\n",
       "4    1\n",
       "5    1\n",
       "6    1\n",
       "7    1\n",
       "8    1\n",
       "9    1\n",
       "Name: month, dtype: int64"
      ]
     },
     "execution_count": 16,
     "metadata": {},
     "output_type": "execute_result"
    }
   ],
   "source": [
    "coffee_shop[\"month\"] = coffee_shop[\"transaction_date\"].dt.month # Creating a month column with the month number associated with each value\n",
    "coffee_shop[\"month\"][:10]"
   ]
  },
  {
   "cell_type": "markdown",
   "metadata": {},
   "source": [
    "Step 4:\n",
    "\n",
    "Checking the dataset for any duplicate and null values."
   ]
  },
  {
   "cell_type": "code",
   "execution_count": 19,
   "metadata": {},
   "outputs": [
    {
     "name": "stdout",
     "output_type": "stream",
     "text": [
      "This dataset has 0 rows of duplicated data.\n"
     ]
    }
   ],
   "source": [
    "duplicates = coffee_shop.duplicated().sum() # Created a variable for duplicate rows\n",
    "print(f\"This dataset has {duplicates} rows of duplicated data.\")"
   ]
  },
  {
   "cell_type": "code",
   "execution_count": 20,
   "metadata": {},
   "outputs": [
    {
     "name": "stdout",
     "output_type": "stream",
     "text": [
      "There are 0 null values in the column transaction_id.\n",
      "There are 0 null values in the column transaction_date.\n",
      "There are 0 null values in the column transaction_time.\n",
      "There are 0 null values in the column transaction_qty.\n",
      "There are 0 null values in the column store_id.\n",
      "There are 0 null values in the column store_location.\n",
      "There are 0 null values in the column product_id.\n",
      "There are 0 null values in the column unit_price.\n",
      "There are 0 null values in the column product_category.\n",
      "There are 0 null values in the column product_type.\n",
      "There are 0 null values in the column product_detail.\n",
      "There are 0 null values in the column day.\n",
      "There are 0 null values in the column month.\n"
     ]
    }
   ],
   "source": [
    "for na in coffee_shop.columns:  # Utilizing a for loop to check for any null values in all of the columns of the dataset\n",
    "    null = coffee_shop[na].isnull().sum()\n",
    "    print(f\"There are {null} null values in the column {na}.\")  "
   ]
  },
  {
   "cell_type": "markdown",
   "metadata": {},
   "source": [
    "Step 5:\n",
    "\n",
    "Checking for unique values."
   ]
  },
  {
   "cell_type": "code",
   "execution_count": 21,
   "metadata": {},
   "outputs": [
    {
     "name": "stdout",
     "output_type": "stream",
     "text": [
      "There are 149116 unique values in the column transaction_id.\n",
      "There are 181 unique values in the column transaction_date.\n",
      "There are 15 unique values in the column transaction_time.\n",
      "There are 6 unique values in the column transaction_qty.\n",
      "There are 3 unique values in the column store_id.\n",
      "There are 3 unique values in the column store_location.\n",
      "There are 80 unique values in the column product_id.\n",
      "There are 41 unique values in the column unit_price.\n",
      "There are 9 unique values in the column product_category.\n",
      "There are 29 unique values in the column product_type.\n",
      "There are 80 unique values in the column product_detail.\n",
      "There are 7 unique values in the column day.\n",
      "There are 6 unique values in the column month.\n"
     ]
    }
   ],
   "source": [
    "for dis in coffee_shop.columns: # Utilizing a for loop to check for the count of any unique values in the dataset\n",
    "    uniq = coffee_shop[dis].nunique()\n",
    "    print(f\"There are {uniq} unique values in the column {dis}.\")"
   ]
  },
  {
   "cell_type": "markdown",
   "metadata": {},
   "source": [
    "Business Questions:\n",
    "\n",
    "1) How have Maven Roasters sales trended over time?\n",
    "\n",
    "###### Sales trended by month."
   ]
  },
  {
   "cell_type": "code",
   "execution_count": 22,
   "metadata": {},
   "outputs": [
    {
     "data": {
      "text/html": [
       "<div>\n",
       "<style scoped>\n",
       "    .dataframe tbody tr th:only-of-type {\n",
       "        vertical-align: middle;\n",
       "    }\n",
       "\n",
       "    .dataframe tbody tr th {\n",
       "        vertical-align: top;\n",
       "    }\n",
       "\n",
       "    .dataframe thead th {\n",
       "        text-align: right;\n",
       "    }\n",
       "</style>\n",
       "<table border=\"1\" class=\"dataframe\">\n",
       "  <thead>\n",
       "    <tr style=\"text-align: right;\">\n",
       "      <th></th>\n",
       "      <th>total_sales</th>\n",
       "    </tr>\n",
       "    <tr>\n",
       "      <th>month</th>\n",
       "      <th></th>\n",
       "    </tr>\n",
       "  </thead>\n",
       "  <tbody>\n",
       "    <tr>\n",
       "      <th>2</th>\n",
       "      <td>55134.34</td>\n",
       "    </tr>\n",
       "    <tr>\n",
       "      <th>1</th>\n",
       "      <td>59018.04</td>\n",
       "    </tr>\n",
       "    <tr>\n",
       "      <th>3</th>\n",
       "      <td>71833.08</td>\n",
       "    </tr>\n",
       "    <tr>\n",
       "      <th>4</th>\n",
       "      <td>85709.58</td>\n",
       "    </tr>\n",
       "    <tr>\n",
       "      <th>5</th>\n",
       "      <td>113076.91</td>\n",
       "    </tr>\n",
       "    <tr>\n",
       "      <th>6</th>\n",
       "      <td>119571.08</td>\n",
       "    </tr>\n",
       "  </tbody>\n",
       "</table>\n",
       "</div>"
      ],
      "text/plain": [
       "       total_sales\n",
       "month             \n",
       "2         55134.34\n",
       "1         59018.04\n",
       "3         71833.08\n",
       "4         85709.58\n",
       "5        113076.91\n",
       "6        119571.08"
      ]
     },
     "execution_count": 22,
     "metadata": {},
     "output_type": "execute_result"
    }
   ],
   "source": [
    "sales_month_trend = coffee_shop.groupby(\"month\").agg(total_sales=(\"unit_price\", \"sum\")).sort_values(by=\"total_sales\")\n",
    "sales_month_trend"
   ]
  },
  {
   "cell_type": "code",
   "execution_count": 25,
   "metadata": {},
   "outputs": [
    {
     "name": "stdout",
     "output_type": "stream",
     "text": [
      "The month of Feburary produced the least amount of sales, while the month of June has produces the most amount of sales!\n"
     ]
    },
    {
     "data": {
      "image/png": "[encoded data removed]",
      "text/plain": [
       "<Figure size 640x480 with 1 Axes>"
      ]
     },
     "metadata": {},
     "output_type": "display_data"
    }
   ],
   "source": [
    "sales_month_trend.plot(kind=\"bar\",\n",
    "                       rot=0)\n",
    "plt.title(\"Sales Trend by Month\",\n",
    "          color=\"black\",\n",
    "          fontsize=20)\n",
    "plt.legend(\"\")\n",
    "plt.xticks([0,1,2,3,4,5],\n",
    "           [\"Feb\",\"Jan\",\"Mar\",\"Apr\",\"May\",\"Jun\"])\n",
    "plt.xlabel(\"\")\n",
    "cash = list(range(0,140000,20000))\n",
    "plt.yticks(cash, [f\"{c} USD\" for c in cash], \n",
    "           color=\"green\")\n",
    "print(\"The month of Feburary produced the least amount of sales, while the month of June has produces the most amount of sales!\")"
   ]
  },
  {
   "cell_type": "markdown",
   "metadata": {},
   "source": [
    "###### Sales by hour."
   ]
  },
  {
   "cell_type": "code",
   "execution_count": 26,
   "metadata": {},
   "outputs": [
    {
     "data": {
      "text/html": [
       "<div>\n",
       "<style scoped>\n",
       "    .dataframe tbody tr th:only-of-type {\n",
       "        vertical-align: middle;\n",
       "    }\n",
       "\n",
       "    .dataframe tbody tr th {\n",
       "        vertical-align: top;\n",
       "    }\n",
       "\n",
       "    .dataframe thead th {\n",
       "        text-align: right;\n",
       "    }\n",
       "</style>\n",
       "<table border=\"1\" class=\"dataframe\">\n",
       "  <thead>\n",
       "    <tr style=\"text-align: right;\">\n",
       "      <th></th>\n",
       "      <th>total_sales</th>\n",
       "    </tr>\n",
       "    <tr>\n",
       "      <th>transaction_time</th>\n",
       "      <th></th>\n",
       "    </tr>\n",
       "  </thead>\n",
       "  <tbody>\n",
       "    <tr>\n",
       "      <th>6</th>\n",
       "      <td>15304.42</td>\n",
       "    </tr>\n",
       "    <tr>\n",
       "      <th>7</th>\n",
       "      <td>46098.12</td>\n",
       "    </tr>\n",
       "    <tr>\n",
       "      <th>8</th>\n",
       "      <td>60801.87</td>\n",
       "    </tr>\n",
       "    <tr>\n",
       "      <th>9</th>\n",
       "      <td>61433.38</td>\n",
       "    </tr>\n",
       "    <tr>\n",
       "      <th>10</th>\n",
       "      <td>64857.99</td>\n",
       "    </tr>\n",
       "    <tr>\n",
       "      <th>11</th>\n",
       "      <td>32538.79</td>\n",
       "    </tr>\n",
       "    <tr>\n",
       "      <th>12</th>\n",
       "      <td>28467.09</td>\n",
       "    </tr>\n",
       "    <tr>\n",
       "      <th>13</th>\n",
       "      <td>29290.90</td>\n",
       "    </tr>\n",
       "    <tr>\n",
       "      <th>14</th>\n",
       "      <td>29513.24</td>\n",
       "    </tr>\n",
       "    <tr>\n",
       "      <th>15</th>\n",
       "      <td>30020.45</td>\n",
       "    </tr>\n",
       "    <tr>\n",
       "      <th>16</th>\n",
       "      <td>29994.40</td>\n",
       "    </tr>\n",
       "    <tr>\n",
       "      <th>17</th>\n",
       "      <td>28410.26</td>\n",
       "    </tr>\n",
       "    <tr>\n",
       "      <th>18</th>\n",
       "      <td>24539.90</td>\n",
       "    </tr>\n",
       "    <tr>\n",
       "      <th>19</th>\n",
       "      <td>20913.18</td>\n",
       "    </tr>\n",
       "    <tr>\n",
       "      <th>20</th>\n",
       "      <td>2159.04</td>\n",
       "    </tr>\n",
       "  </tbody>\n",
       "</table>\n",
       "</div>"
      ],
      "text/plain": [
       "                  total_sales\n",
       "transaction_time             \n",
       "6                    15304.42\n",
       "7                    46098.12\n",
       "8                    60801.87\n",
       "9                    61433.38\n",
       "10                   64857.99\n",
       "11                   32538.79\n",
       "12                   28467.09\n",
       "13                   29290.90\n",
       "14                   29513.24\n",
       "15                   30020.45\n",
       "16                   29994.40\n",
       "17                   28410.26\n",
       "18                   24539.90\n",
       "19                   20913.18\n",
       "20                    2159.04"
      ]
     },
     "execution_count": 26,
     "metadata": {},
     "output_type": "execute_result"
    }
   ],
   "source": [
    "sales_hour_trend = coffee_shop.groupby(\"transaction_time\").agg(total_sales=(\"unit_price\", \"sum\"))\n",
    "sales_hour_trend"
   ]
  },
  {
   "cell_type": "code",
   "execution_count": 27,
   "metadata": {},
   "outputs": [
    {
     "name": "stdout",
     "output_type": "stream",
     "text": [
      "The data indicates that between 8am and 10am hour is when the most sales occur, while the 6am and 8pm hours occur the least sells.\n"
     ]
    },
    {
     "data": {
      "image/png": "[encoded data removed]",
      "text/plain": [
       "<Figure size 640x480 with 1 Axes>"
      ]
     },
     "metadata": {},
     "output_type": "display_data"
    }
   ],
   "source": [
    "sales_hour_trend[\"total_sales\"].plot(linestyle=\"--\",\n",
    "                                    marker=\"o\",\n",
    "                                    label=\"line with marker\")\n",
    "plt.title(\"Sales Trend by Hour\",\n",
    "          color=\"black\",\n",
    "          fontsize=20)\n",
    "plt.xlabel(\"Hr\", color=\"black\")\n",
    "sales = list(range(0,80000,10000))\n",
    "plt.yticks(sales, [f\"{s}USD\" for s in sales], \n",
    "           color=\"green\")\n",
    "print(\"The data indicates that between 8am and 10am hour is when the most sales occur, while the 6am and 8pm hours occur the least sells.\")"
   ]
  },
  {
   "cell_type": "markdown",
   "metadata": {},
   "source": [
    "###### Sales by day."
   ]
  },
  {
   "cell_type": "code",
   "execution_count": 28,
   "metadata": {},
   "outputs": [
    {
     "data": {
      "text/html": [
       "<div>\n",
       "<style scoped>\n",
       "    .dataframe tbody tr th:only-of-type {\n",
       "        vertical-align: middle;\n",
       "    }\n",
       "\n",
       "    .dataframe tbody tr th {\n",
       "        vertical-align: top;\n",
       "    }\n",
       "\n",
       "    .dataframe thead th {\n",
       "        text-align: right;\n",
       "    }\n",
       "</style>\n",
       "<table border=\"1\" class=\"dataframe\">\n",
       "  <thead>\n",
       "    <tr style=\"text-align: right;\">\n",
       "      <th></th>\n",
       "      <th>total_sales</th>\n",
       "    </tr>\n",
       "    <tr>\n",
       "      <th>transaction_date</th>\n",
       "      <th></th>\n",
       "    </tr>\n",
       "  </thead>\n",
       "  <tbody>\n",
       "    <tr>\n",
       "      <th>2023-01-01</th>\n",
       "      <td>1731.80</td>\n",
       "    </tr>\n",
       "    <tr>\n",
       "      <th>2023-01-02</th>\n",
       "      <td>1743.95</td>\n",
       "    </tr>\n",
       "    <tr>\n",
       "      <th>2023-01-03</th>\n",
       "      <td>1826.60</td>\n",
       "    </tr>\n",
       "    <tr>\n",
       "      <th>2023-01-04</th>\n",
       "      <td>1533.40</td>\n",
       "    </tr>\n",
       "    <tr>\n",
       "      <th>2023-01-05</th>\n",
       "      <td>1715.35</td>\n",
       "    </tr>\n",
       "    <tr>\n",
       "      <th>2023-01-06</th>\n",
       "      <td>1580.15</td>\n",
       "    </tr>\n",
       "    <tr>\n",
       "      <th>2023-01-07</th>\n",
       "      <td>1921.60</td>\n",
       "    </tr>\n",
       "    <tr>\n",
       "      <th>2023-01-08</th>\n",
       "      <td>1938.23</td>\n",
       "    </tr>\n",
       "    <tr>\n",
       "      <th>2023-01-09</th>\n",
       "      <td>2077.81</td>\n",
       "    </tr>\n",
       "    <tr>\n",
       "      <th>2023-01-10</th>\n",
       "      <td>1977.05</td>\n",
       "    </tr>\n",
       "  </tbody>\n",
       "</table>\n",
       "</div>"
      ],
      "text/plain": [
       "                  total_sales\n",
       "transaction_date             \n",
       "2023-01-01            1731.80\n",
       "2023-01-02            1743.95\n",
       "2023-01-03            1826.60\n",
       "2023-01-04            1533.40\n",
       "2023-01-05            1715.35\n",
       "2023-01-06            1580.15\n",
       "2023-01-07            1921.60\n",
       "2023-01-08            1938.23\n",
       "2023-01-09            2077.81\n",
       "2023-01-10            1977.05"
      ]
     },
     "execution_count": 28,
     "metadata": {},
     "output_type": "execute_result"
    }
   ],
   "source": [
    "sales_day_trend = coffee_shop.groupby(\"transaction_date\").agg(total_sales=(\"unit_price\", \"sum\"))\n",
    "sales_day_trend[:10] # Displays total sales for every day\n"
   ]
  },
  {
   "cell_type": "code",
   "execution_count": 29,
   "metadata": {},
   "outputs": [
    {
     "name": "stdout",
     "output_type": "stream",
     "text": [
      "According to the data, sales appear to be increasing by day on a monthly basis.\n"
     ]
    },
    {
     "data": {
      "image/png": "[encoded data removed]",
      "text/plain": [
       "<Figure size 640x480 with 1 Axes>"
      ]
     },
     "metadata": {},
     "output_type": "display_data"
    }
   ],
   "source": [
    "sns.scatterplot(data=sales_day_trend,\n",
    "                x=\"transaction_date\",\n",
    "                y=\"total_sales\")\n",
    "plt.title(\"Sales Trend by Day\",\n",
    "          color=\"black\",\n",
    "          fontsize=20)\n",
    "totals = list(range(0, 5500, 500))\n",
    "plt.yticks(totals, [f\"{t}USD\" for t in totals],\n",
    "           color=\"green\")\n",
    "plt.xlabel(\"\")\n",
    "plt.ylabel(\"\")\n",
    "print(\"According to the data, sales appear to be increasing by day on a monthly basis.\")"
   ]
  },
  {
   "cell_type": "markdown",
   "metadata": {},
   "source": [
    "2) Which days of the week tend to be the busiest, and why do you think thats the case?"
   ]
  },
  {
   "cell_type": "code",
   "execution_count": 30,
   "metadata": {},
   "outputs": [
    {
     "data": {
      "text/html": [
       "<div>\n",
       "<style scoped>\n",
       "    .dataframe tbody tr th:only-of-type {\n",
       "        vertical-align: middle;\n",
       "    }\n",
       "\n",
       "    .dataframe tbody tr th {\n",
       "        vertical-align: top;\n",
       "    }\n",
       "\n",
       "    .dataframe thead th {\n",
       "        text-align: right;\n",
       "    }\n",
       "</style>\n",
       "<table border=\"1\" class=\"dataframe\">\n",
       "  <thead>\n",
       "    <tr style=\"text-align: right;\">\n",
       "      <th></th>\n",
       "      <th>num_of_customers</th>\n",
       "    </tr>\n",
       "    <tr>\n",
       "      <th>day</th>\n",
       "      <th></th>\n",
       "    </tr>\n",
       "  </thead>\n",
       "  <tbody>\n",
       "    <tr>\n",
       "      <th>Friday</th>\n",
       "      <td>21701</td>\n",
       "    </tr>\n",
       "    <tr>\n",
       "      <th>Thursday</th>\n",
       "      <td>21654</td>\n",
       "    </tr>\n",
       "    <tr>\n",
       "      <th>Monday</th>\n",
       "      <td>21643</td>\n",
       "    </tr>\n",
       "    <tr>\n",
       "      <th>Wednesday</th>\n",
       "      <td>21310</td>\n",
       "    </tr>\n",
       "    <tr>\n",
       "      <th>Tuesday</th>\n",
       "      <td>21202</td>\n",
       "    </tr>\n",
       "    <tr>\n",
       "      <th>Sunday</th>\n",
       "      <td>21096</td>\n",
       "    </tr>\n",
       "    <tr>\n",
       "      <th>Saturday</th>\n",
       "      <td>20510</td>\n",
       "    </tr>\n",
       "  </tbody>\n",
       "</table>\n",
       "</div>"
      ],
      "text/plain": [
       "           num_of_customers\n",
       "day                        \n",
       "Friday                21701\n",
       "Thursday              21654\n",
       "Monday                21643\n",
       "Wednesday             21310\n",
       "Tuesday               21202\n",
       "Sunday                21096\n",
       "Saturday              20510"
      ]
     },
     "execution_count": 30,
     "metadata": {},
     "output_type": "execute_result"
    }
   ],
   "source": [
    "busiest_days = coffee_shop.groupby(\"day\").agg(num_of_customers=(\"transaction_id\", \"count\")).sort_values(by=\"num_of_customers\",ascending=False)\n",
    "busiest_days"
   ]
  },
  {
   "cell_type": "code",
   "execution_count": 31,
   "metadata": {},
   "outputs": [
    {
     "name": "stdout",
     "output_type": "stream",
     "text": [
      "The data indicates that the busiest days of the week are on Fridays, Thursdays and Mondays. The possible reasoning for this could be that \n",
      "      customers require more coffee towards the end of the week due to staying up later, and that customers require more coffee at the beginning \n",
      "      of the week due to staying up later during the weekend.\n"
     ]
    },
    {
     "data": {
      "image/png": "[encoded data removed]",
      "text/plain": [
       "<Figure size 640x480 with 1 Axes>"
      ]
     },
     "metadata": {},
     "output_type": "display_data"
    }
   ],
   "source": [
    "busiest_days.plot(linestyle=\"--\",\n",
    "                  marker=\"o\",\n",
    "                  label=\"line with marker\")\n",
    "plt.title(\"Busiest Days\",\n",
    "          fontsize=20,\n",
    "          color=\"black\")\n",
    "plt.legend(\"\")\n",
    "plt.xticks([0,1,2,3,4,5,6],\n",
    "           [\"Fri\",\"Thur\",\"Mon\",\"Wed\",\"Tue\",\"Sun\",\"Sat\"])\n",
    "plt.xlabel(\"\")\n",
    "plt.ylabel(\"Num of Customers\",\n",
    "           color=\"green\")\n",
    "print(\"\"\"The data indicates that the busiest days of the week are on Fridays, Thursdays and Mondays. The possible reasoning for this could be that \n",
    "      customers require more coffee towards the end of the week due to staying up later, and that customers require more coffee at the beginning \n",
    "      of the week due to staying up later during the weekend.\"\"\")"
   ]
  },
  {
   "cell_type": "markdown",
   "metadata": {},
   "source": [
    "3) Which products are sold most and least often?"
   ]
  },
  {
   "cell_type": "markdown",
   "metadata": {},
   "source": [
    "###### Top 10 Sold Products"
   ]
  },
  {
   "cell_type": "code",
   "execution_count": 32,
   "metadata": {},
   "outputs": [
    {
     "data": {
      "text/html": [
       "<div>\n",
       "<style scoped>\n",
       "    .dataframe tbody tr th:only-of-type {\n",
       "        vertical-align: middle;\n",
       "    }\n",
       "\n",
       "    .dataframe tbody tr th {\n",
       "        vertical-align: top;\n",
       "    }\n",
       "\n",
       "    .dataframe thead th {\n",
       "        text-align: right;\n",
       "    }\n",
       "</style>\n",
       "<table border=\"1\" class=\"dataframe\">\n",
       "  <thead>\n",
       "    <tr style=\"text-align: right;\">\n",
       "      <th></th>\n",
       "      <th></th>\n",
       "      <th></th>\n",
       "      <th>num_of_products</th>\n",
       "    </tr>\n",
       "    <tr>\n",
       "      <th>product_detail</th>\n",
       "      <th>product_type</th>\n",
       "      <th>product_category</th>\n",
       "      <th></th>\n",
       "    </tr>\n",
       "  </thead>\n",
       "  <tbody>\n",
       "    <tr>\n",
       "      <th>Chocolate Croissant</th>\n",
       "      <th>Pastry</th>\n",
       "      <th>Bakery</th>\n",
       "      <td>3076</td>\n",
       "    </tr>\n",
       "    <tr>\n",
       "      <th>Earl Grey Rg</th>\n",
       "      <th>Brewed Black tea</th>\n",
       "      <th>Tea</th>\n",
       "      <td>3053</td>\n",
       "    </tr>\n",
       "    <tr>\n",
       "      <th>Dark chocolate Lg</th>\n",
       "      <th>Hot chocolate</th>\n",
       "      <th>Drinking Chocolate</th>\n",
       "      <td>3029</td>\n",
       "    </tr>\n",
       "    <tr>\n",
       "      <th>Morning Sunrise Chai Rg</th>\n",
       "      <th>Brewed Chai tea</th>\n",
       "      <th>Tea</th>\n",
       "      <td>3026</td>\n",
       "    </tr>\n",
       "    <tr>\n",
       "      <th>Columbian Medium Roast Rg</th>\n",
       "      <th>Gourmet brewed coffee</th>\n",
       "      <th>Coffee</th>\n",
       "      <td>3013</td>\n",
       "    </tr>\n",
       "    <tr>\n",
       "      <th>Latte</th>\n",
       "      <th>Barista Espresso</th>\n",
       "      <th>Coffee</th>\n",
       "      <td>2990</td>\n",
       "    </tr>\n",
       "    <tr>\n",
       "      <th>Sustainably Grown Organic Lg</th>\n",
       "      <th>Hot chocolate</th>\n",
       "      <th>Drinking Chocolate</th>\n",
       "      <td>2961</td>\n",
       "    </tr>\n",
       "    <tr>\n",
       "      <th>Traditional Blend Chai Rg</th>\n",
       "      <th>Brewed Chai tea</th>\n",
       "      <th>Tea</th>\n",
       "      <td>2955</td>\n",
       "    </tr>\n",
       "    <tr>\n",
       "      <th>Spicy Eye Opener Chai Lg</th>\n",
       "      <th>Brewed Chai tea</th>\n",
       "      <th>Tea</th>\n",
       "      <td>2951</td>\n",
       "    </tr>\n",
       "    <tr>\n",
       "      <th>Peppermint Rg</th>\n",
       "      <th>Brewed herbal tea</th>\n",
       "      <th>Tea</th>\n",
       "      <td>2949</td>\n",
       "    </tr>\n",
       "  </tbody>\n",
       "</table>\n",
       "</div>"
      ],
      "text/plain": [
       "                                                                       num_of_products\n",
       "product_detail               product_type          product_category                   \n",
       "Chocolate Croissant          Pastry                Bakery                         3076\n",
       "Earl Grey Rg                 Brewed Black tea      Tea                            3053\n",
       "Dark chocolate Lg            Hot chocolate         Drinking Chocolate             3029\n",
       "Morning Sunrise Chai Rg      Brewed Chai tea       Tea                            3026\n",
       "Columbian Medium Roast Rg    Gourmet brewed coffee Coffee                         3013\n",
       "Latte                        Barista Espresso      Coffee                         2990\n",
       "Sustainably Grown Organic Lg Hot chocolate         Drinking Chocolate             2961\n",
       "Traditional Blend Chai Rg    Brewed Chai tea       Tea                            2955\n",
       "Spicy Eye Opener Chai Lg     Brewed Chai tea       Tea                            2951\n",
       "Peppermint Rg                Brewed herbal tea     Tea                            2949"
      ]
     },
     "execution_count": 32,
     "metadata": {},
     "output_type": "execute_result"
    }
   ],
   "source": [
    "most_sold_products = coffee_shop.groupby([\"product_detail\", \"product_type\", \"product_category\"]).agg(num_of_products=(\"product_id\", \"count\")).sort_values(by=\"num_of_products\", ascending=False)\n",
    "most_sold_products[:10]"
   ]
  },
  {
   "cell_type": "markdown",
   "metadata": {},
   "source": [
    "###### Bottom 10 Sold Products"
   ]
  },
  {
   "cell_type": "code",
   "execution_count": 33,
   "metadata": {},
   "outputs": [
    {
     "data": {
      "text/html": [
       "<div>\n",
       "<style scoped>\n",
       "    .dataframe tbody tr th:only-of-type {\n",
       "        vertical-align: middle;\n",
       "    }\n",
       "\n",
       "    .dataframe tbody tr th {\n",
       "        vertical-align: top;\n",
       "    }\n",
       "\n",
       "    .dataframe thead th {\n",
       "        text-align: right;\n",
       "    }\n",
       "</style>\n",
       "<table border=\"1\" class=\"dataframe\">\n",
       "  <thead>\n",
       "    <tr style=\"text-align: right;\">\n",
       "      <th></th>\n",
       "      <th></th>\n",
       "      <th></th>\n",
       "      <th>num_of_products</th>\n",
       "    </tr>\n",
       "    <tr>\n",
       "      <th>product_detail</th>\n",
       "      <th>product_type</th>\n",
       "      <th>product_category</th>\n",
       "      <th></th>\n",
       "    </tr>\n",
       "  </thead>\n",
       "  <tbody>\n",
       "    <tr>\n",
       "      <th>Dark chocolate</th>\n",
       "      <th>Drinking Chocolate</th>\n",
       "      <th>Packaged Chocolate</th>\n",
       "      <td>118</td>\n",
       "    </tr>\n",
       "    <tr>\n",
       "      <th>Spicy Eye Opener Chai</th>\n",
       "      <th>Chai tea</th>\n",
       "      <th>Loose Tea</th>\n",
       "      <td>122</td>\n",
       "    </tr>\n",
       "    <tr>\n",
       "      <th>Guatemalan Sustainably Grown</th>\n",
       "      <th>Green beans</th>\n",
       "      <th>Coffee beans</th>\n",
       "      <td>134</td>\n",
       "    </tr>\n",
       "    <tr>\n",
       "      <th>Earl Grey</th>\n",
       "      <th>Black tea</th>\n",
       "      <th>Loose Tea</th>\n",
       "      <td>142</td>\n",
       "    </tr>\n",
       "    <tr>\n",
       "      <th>Jamacian Coffee River</th>\n",
       "      <th>Premium Beans</th>\n",
       "      <th>Coffee beans</th>\n",
       "      <td>146</td>\n",
       "    </tr>\n",
       "    <tr>\n",
       "      <th>Chili Mayan</th>\n",
       "      <th>Drinking Chocolate</th>\n",
       "      <th>Packaged Chocolate</th>\n",
       "      <td>148</td>\n",
       "    </tr>\n",
       "    <tr>\n",
       "      <th>Columbian Medium Roast</th>\n",
       "      <th>Gourmet Beans</th>\n",
       "      <th>Coffee beans</th>\n",
       "      <td>148</td>\n",
       "    </tr>\n",
       "    <tr>\n",
       "      <th>Primo Espresso Roast</th>\n",
       "      <th>Espresso Beans</th>\n",
       "      <th>Coffee beans</th>\n",
       "      <td>150</td>\n",
       "    </tr>\n",
       "    <tr>\n",
       "      <th>Lemon Grass</th>\n",
       "      <th>Herbal tea</th>\n",
       "      <th>Loose Tea</th>\n",
       "      <td>152</td>\n",
       "    </tr>\n",
       "    <tr>\n",
       "      <th>Traditional Blend Chai</th>\n",
       "      <th>Chai tea</th>\n",
       "      <th>Loose Tea</th>\n",
       "      <td>153</td>\n",
       "    </tr>\n",
       "  </tbody>\n",
       "</table>\n",
       "</div>"
      ],
      "text/plain": [
       "                                                                    num_of_products\n",
       "product_detail               product_type       product_category                   \n",
       "Dark chocolate               Drinking Chocolate Packaged Chocolate              118\n",
       "Spicy Eye Opener Chai        Chai tea           Loose Tea                       122\n",
       "Guatemalan Sustainably Grown Green beans        Coffee beans                    134\n",
       "Earl Grey                    Black tea          Loose Tea                       142\n",
       "Jamacian Coffee River        Premium Beans      Coffee beans                    146\n",
       "Chili Mayan                  Drinking Chocolate Packaged Chocolate              148\n",
       "Columbian Medium Roast       Gourmet Beans      Coffee beans                    148\n",
       "Primo Espresso Roast         Espresso Beans     Coffee beans                    150\n",
       "Lemon Grass                  Herbal tea         Loose Tea                       152\n",
       "Traditional Blend Chai       Chai tea           Loose Tea                       153"
      ]
     },
     "execution_count": 33,
     "metadata": {},
     "output_type": "execute_result"
    }
   ],
   "source": [
    "least_sold_products = coffee_shop.groupby([\"product_detail\", \"product_type\", \"product_category\"]).agg(num_of_products=(\"product_id\", \"count\")).sort_values(by=\"num_of_products\", ascending=True)\n",
    "least_sold_products[:10]"
   ]
  },
  {
   "cell_type": "markdown",
   "metadata": {},
   "source": [
    "4) Which product drives the most revenue for the business?"
   ]
  },
  {
   "cell_type": "code",
   "execution_count": 34,
   "metadata": {},
   "outputs": [
    {
     "data": {
      "text/html": [
       "<div>\n",
       "<style scoped>\n",
       "    .dataframe tbody tr th:only-of-type {\n",
       "        vertical-align: middle;\n",
       "    }\n",
       "\n",
       "    .dataframe tbody tr th {\n",
       "        vertical-align: top;\n",
       "    }\n",
       "\n",
       "    .dataframe thead th {\n",
       "        text-align: right;\n",
       "    }\n",
       "</style>\n",
       "<table border=\"1\" class=\"dataframe\">\n",
       "  <thead>\n",
       "    <tr style=\"text-align: right;\">\n",
       "      <th></th>\n",
       "      <th>total_revenue</th>\n",
       "    </tr>\n",
       "    <tr>\n",
       "      <th>product_category</th>\n",
       "      <th></th>\n",
       "    </tr>\n",
       "  </thead>\n",
       "  <tbody>\n",
       "    <tr>\n",
       "      <th>Coffee</th>\n",
       "      <td>176629.30</td>\n",
       "    </tr>\n",
       "    <tr>\n",
       "      <th>Tea</th>\n",
       "      <td>128035.35</td>\n",
       "    </tr>\n",
       "    <tr>\n",
       "      <th>Bakery</th>\n",
       "      <td>80964.14</td>\n",
       "    </tr>\n",
       "    <tr>\n",
       "      <th>Drinking Chocolate</th>\n",
       "      <td>47578.75</td>\n",
       "    </tr>\n",
       "    <tr>\n",
       "      <th>Coffee beans</th>\n",
       "      <td>36845.25</td>\n",
       "    </tr>\n",
       "    <tr>\n",
       "      <th>Branded</th>\n",
       "      <td>13237.00</td>\n",
       "    </tr>\n",
       "    <tr>\n",
       "      <th>Loose Tea</th>\n",
       "      <td>11213.60</td>\n",
       "    </tr>\n",
       "    <tr>\n",
       "      <th>Flavours</th>\n",
       "      <td>5432.00</td>\n",
       "    </tr>\n",
       "    <tr>\n",
       "      <th>Packaged Chocolate</th>\n",
       "      <td>4407.64</td>\n",
       "    </tr>\n",
       "  </tbody>\n",
       "</table>\n",
       "</div>"
      ],
      "text/plain": [
       "                    total_revenue\n",
       "product_category                 \n",
       "Coffee                  176629.30\n",
       "Tea                     128035.35\n",
       "Bakery                   80964.14\n",
       "Drinking Chocolate       47578.75\n",
       "Coffee beans             36845.25\n",
       "Branded                  13237.00\n",
       "Loose Tea                11213.60\n",
       "Flavours                  5432.00\n",
       "Packaged Chocolate        4407.64"
      ]
     },
     "execution_count": 34,
     "metadata": {},
     "output_type": "execute_result"
    }
   ],
   "source": [
    "most_revenue = coffee_shop.groupby(\"product_category\").agg(total_revenue=(\"unit_price\", \"sum\")).sort_values(by=\"total_revenue\", ascending=False)\n",
    "most_revenue"
   ]
  },
  {
   "cell_type": "code",
   "execution_count": 35,
   "metadata": {},
   "outputs": [
    {
     "name": "stdout",
     "output_type": "stream",
     "text": [
      "There are four products whose total revenue does not generate over $25,000.\n"
     ]
    },
    {
     "data": {
      "image/png": "[encoded data removed]",
      "text/plain": [
       "<Figure size 640x480 with 1 Axes>"
      ]
     },
     "metadata": {},
     "output_type": "display_data"
    }
   ],
   "source": [
    "most_revenue.plot(kind=\"barh\")\n",
    "plt.title(\"Total Revenue by Product\",\n",
    "          color=\"black\",\n",
    "          fontsize=20)\n",
    "plt.legend(\"\")\n",
    "plt.ylabel(\"\")\n",
    "rev = list(range(0,200000,25000))\n",
    "plt.xticks(rev, [f\"${r}\" for r in rev], \n",
    "           color=\"green\")\n",
    "print(\"There are four products whose total revenue does not generate over $25,000.\")"
   ]
  },
  {
   "cell_type": "markdown",
   "metadata": {},
   "source": [
    "Recommendations:\n",
    "\n",
    "I recommended that promotions take place during the first three months of the year. Total sales are quite lower than the months following and running some type of promotion may help increase sales. It may also help to run some type of promotion during the first hour of operation (6am). That hour generates the least amount of total sales. Between 8am and 10am total sales peak and then begin to slowly fall until closing. Fridays, Thrusdays, and Mondays are the busiest days of the week the organization. Once again, having some sort of promotion or sale during the other days of the week can help bring in more customers for those days. The organizations top selling product categories are the drinking chocolate, tea, and coffee. While the bottom selling product categories are packaged chocolate, loose tea, and coffee beans. Perhaps creating some new menu items with those product categories can bring in new sales, or the organization may think it's best to cut those products to limit financial loss. The products that are generating the most revenue are the coffee, tea, bakery, and drinking chocolate, while packaged chocolate, flavours and loose tea are generating the lowest profits. These are items that the organization could consider to take off the market to limit financial loss or either remarket those items. "
   ]
  }
 ],
 "metadata": {
  "kernelspec": {
   "display_name": "base",
   "language": "python",
   "name": "python3"
  },
  "language_info": {
   "codemirror_mode": {
    "name": "ipython",
    "version": 3
   },
   "file_extension": ".py",
   "mimetype": "text/x-python",
   "name": "python",
   "nbconvert_exporter": "python",
   "pygments_lexer": "ipython3",
   "version": "3.9.13"
  }
 },
 "nbformat": 4,
 "nbformat_minor": 2
}

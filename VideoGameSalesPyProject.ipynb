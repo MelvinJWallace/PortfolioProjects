{
 "cells": [
  {
   "cell_type": "markdown",
   "metadata": {},
   "source": [
    "IMPORTING LIBRARIES"
   ]
  },
  {
   "cell_type": "code",
   "execution_count": 1,
   "metadata": {},
   "outputs": [],
   "source": [
    "# Importing libraries, packages and setting some options\n",
    "import numpy as np\n",
    "import pandas as pd\n",
    "pd.set_option(\"display.max_columns\", None)\n",
    "import matplotlib.pyplot as plt\n",
    "from matplotlib import style\n",
    "%matplotlib inline\n",
    "import seaborn as sns\n"
   ]
  },
  {
   "cell_type": "markdown",
   "metadata": {},
   "source": [
    "READING IN DATA\n",
    "\n",
    "INSPECTING/UNDERSTANDING DATA"
   ]
  },
  {
   "cell_type": "code",
   "execution_count": 2,
   "metadata": {},
   "outputs": [
    {
     "data": {
      "text/html": [
       "<div>\n",
       "<style scoped>\n",
       "    .dataframe tbody tr th:only-of-type {\n",
       "        vertical-align: middle;\n",
       "    }\n",
       "\n",
       "    .dataframe tbody tr th {\n",
       "        vertical-align: top;\n",
       "    }\n",
       "\n",
       "    .dataframe thead th {\n",
       "        text-align: right;\n",
       "    }\n",
       "</style>\n",
       "<table border=\"1\" class=\"dataframe\">\n",
       "  <thead>\n",
       "    <tr style=\"text-align: right;\">\n",
       "      <th></th>\n",
       "      <th>Name</th>\n",
       "      <th>Platform</th>\n",
       "      <th>Year_of_Release</th>\n",
       "      <th>Genre</th>\n",
       "      <th>Publisher</th>\n",
       "      <th>NA_Sales</th>\n",
       "      <th>EU_Sales</th>\n",
       "      <th>JP_Sales</th>\n",
       "      <th>Other_Sales</th>\n",
       "      <th>Global_Sales</th>\n",
       "      <th>Critic_Score</th>\n",
       "      <th>Critic_Count</th>\n",
       "      <th>User_Score</th>\n",
       "      <th>User_Count</th>\n",
       "      <th>Developer</th>\n",
       "      <th>Rating</th>\n",
       "    </tr>\n",
       "  </thead>\n",
       "  <tbody>\n",
       "    <tr>\n",
       "      <th>0</th>\n",
       "      <td>Wii Sports</td>\n",
       "      <td>Wii</td>\n",
       "      <td>2006.0</td>\n",
       "      <td>Sports</td>\n",
       "      <td>Nintendo</td>\n",
       "      <td>41.36</td>\n",
       "      <td>28.96</td>\n",
       "      <td>3.77</td>\n",
       "      <td>8.45</td>\n",
       "      <td>82.53</td>\n",
       "      <td>76.0</td>\n",
       "      <td>51.0</td>\n",
       "      <td>8.0</td>\n",
       "      <td>322.0</td>\n",
       "      <td>Nintendo</td>\n",
       "      <td>E</td>\n",
       "    </tr>\n",
       "    <tr>\n",
       "      <th>1</th>\n",
       "      <td>Super Mario Bros.</td>\n",
       "      <td>NES</td>\n",
       "      <td>1985.0</td>\n",
       "      <td>Platform</td>\n",
       "      <td>Nintendo</td>\n",
       "      <td>29.08</td>\n",
       "      <td>3.58</td>\n",
       "      <td>6.81</td>\n",
       "      <td>0.77</td>\n",
       "      <td>40.24</td>\n",
       "      <td>NaN</td>\n",
       "      <td>NaN</td>\n",
       "      <td>NaN</td>\n",
       "      <td>NaN</td>\n",
       "      <td>NaN</td>\n",
       "      <td>NaN</td>\n",
       "    </tr>\n",
       "    <tr>\n",
       "      <th>2</th>\n",
       "      <td>Mario Kart Wii</td>\n",
       "      <td>Wii</td>\n",
       "      <td>2008.0</td>\n",
       "      <td>Racing</td>\n",
       "      <td>Nintendo</td>\n",
       "      <td>15.68</td>\n",
       "      <td>12.76</td>\n",
       "      <td>3.79</td>\n",
       "      <td>3.29</td>\n",
       "      <td>35.52</td>\n",
       "      <td>82.0</td>\n",
       "      <td>73.0</td>\n",
       "      <td>8.3</td>\n",
       "      <td>709.0</td>\n",
       "      <td>Nintendo</td>\n",
       "      <td>E</td>\n",
       "    </tr>\n",
       "    <tr>\n",
       "      <th>3</th>\n",
       "      <td>Wii Sports Resort</td>\n",
       "      <td>Wii</td>\n",
       "      <td>2009.0</td>\n",
       "      <td>Sports</td>\n",
       "      <td>Nintendo</td>\n",
       "      <td>15.61</td>\n",
       "      <td>10.93</td>\n",
       "      <td>3.28</td>\n",
       "      <td>2.95</td>\n",
       "      <td>32.77</td>\n",
       "      <td>80.0</td>\n",
       "      <td>73.0</td>\n",
       "      <td>8.0</td>\n",
       "      <td>192.0</td>\n",
       "      <td>Nintendo</td>\n",
       "      <td>E</td>\n",
       "    </tr>\n",
       "    <tr>\n",
       "      <th>4</th>\n",
       "      <td>Pokemon Red/Pokemon Blue</td>\n",
       "      <td>GB</td>\n",
       "      <td>1996.0</td>\n",
       "      <td>Role-Playing</td>\n",
       "      <td>Nintendo</td>\n",
       "      <td>11.27</td>\n",
       "      <td>8.89</td>\n",
       "      <td>10.22</td>\n",
       "      <td>1.00</td>\n",
       "      <td>31.37</td>\n",
       "      <td>NaN</td>\n",
       "      <td>NaN</td>\n",
       "      <td>NaN</td>\n",
       "      <td>NaN</td>\n",
       "      <td>NaN</td>\n",
       "      <td>NaN</td>\n",
       "    </tr>\n",
       "  </tbody>\n",
       "</table>\n",
       "</div>"
      ],
      "text/plain": [
       "                       Name Platform  Year_of_Release         Genre Publisher  \\\n",
       "0                Wii Sports      Wii           2006.0        Sports  Nintendo   \n",
       "1         Super Mario Bros.      NES           1985.0      Platform  Nintendo   \n",
       "2            Mario Kart Wii      Wii           2008.0        Racing  Nintendo   \n",
       "3         Wii Sports Resort      Wii           2009.0        Sports  Nintendo   \n",
       "4  Pokemon Red/Pokemon Blue       GB           1996.0  Role-Playing  Nintendo   \n",
       "\n",
       "   NA_Sales  EU_Sales  JP_Sales  Other_Sales  Global_Sales  Critic_Score  \\\n",
       "0     41.36     28.96      3.77         8.45         82.53          76.0   \n",
       "1     29.08      3.58      6.81         0.77         40.24           NaN   \n",
       "2     15.68     12.76      3.79         3.29         35.52          82.0   \n",
       "3     15.61     10.93      3.28         2.95         32.77          80.0   \n",
       "4     11.27      8.89     10.22         1.00         31.37           NaN   \n",
       "\n",
       "   Critic_Count  User_Score  User_Count Developer Rating  \n",
       "0          51.0         8.0       322.0  Nintendo      E  \n",
       "1           NaN         NaN         NaN       NaN    NaN  \n",
       "2          73.0         8.3       709.0  Nintendo      E  \n",
       "3          73.0         8.0       192.0  Nintendo      E  \n",
       "4           NaN         NaN         NaN       NaN    NaN  "
      ]
     },
     "execution_count": 2,
     "metadata": {},
     "output_type": "execute_result"
    }
   ],
   "source": [
    "# Reading in data\n",
    "VideoGameSales = pd.read_csv(r\"C:\\Users\\Jason\\OneDrive\\Video_Games_Sales_as_of_22_Dec_2016.csv\")\n",
    "# VideoGameSales = pd.read_csv(r\"C:\\Users\\mjaso\\OneDrive\\Video_Games_Sales_as_of_22_Dec_2016.csv\")\n",
    "\n",
    "# Viewing the first 5 rows of data\n",
    "VideoGameSales.head(5)"
   ]
  },
  {
   "cell_type": "code",
   "execution_count": 3,
   "metadata": {},
   "outputs": [
    {
     "data": {
      "text/html": [
       "<div>\n",
       "<style scoped>\n",
       "    .dataframe tbody tr th:only-of-type {\n",
       "        vertical-align: middle;\n",
       "    }\n",
       "\n",
       "    .dataframe tbody tr th {\n",
       "        vertical-align: top;\n",
       "    }\n",
       "\n",
       "    .dataframe thead th {\n",
       "        text-align: right;\n",
       "    }\n",
       "</style>\n",
       "<table border=\"1\" class=\"dataframe\">\n",
       "  <thead>\n",
       "    <tr style=\"text-align: right;\">\n",
       "      <th></th>\n",
       "      <th>Name</th>\n",
       "      <th>Platform</th>\n",
       "      <th>Year_of_Release</th>\n",
       "      <th>Genre</th>\n",
       "      <th>Publisher</th>\n",
       "      <th>NA_Sales</th>\n",
       "      <th>EU_Sales</th>\n",
       "      <th>JP_Sales</th>\n",
       "      <th>Other_Sales</th>\n",
       "      <th>Global_Sales</th>\n",
       "      <th>Critic_Score</th>\n",
       "      <th>Critic_Count</th>\n",
       "      <th>User_Score</th>\n",
       "      <th>User_Count</th>\n",
       "      <th>Developer</th>\n",
       "      <th>Rating</th>\n",
       "    </tr>\n",
       "  </thead>\n",
       "  <tbody>\n",
       "    <tr>\n",
       "      <th>16714</th>\n",
       "      <td>Samurai Warriors: Sanada Maru</td>\n",
       "      <td>PS3</td>\n",
       "      <td>2016.0</td>\n",
       "      <td>Action</td>\n",
       "      <td>Tecmo Koei</td>\n",
       "      <td>0.00</td>\n",
       "      <td>0.00</td>\n",
       "      <td>0.01</td>\n",
       "      <td>0.0</td>\n",
       "      <td>0.01</td>\n",
       "      <td>NaN</td>\n",
       "      <td>NaN</td>\n",
       "      <td>NaN</td>\n",
       "      <td>NaN</td>\n",
       "      <td>NaN</td>\n",
       "      <td>NaN</td>\n",
       "    </tr>\n",
       "    <tr>\n",
       "      <th>16715</th>\n",
       "      <td>LMA Manager 2007</td>\n",
       "      <td>X360</td>\n",
       "      <td>2006.0</td>\n",
       "      <td>Sports</td>\n",
       "      <td>Codemasters</td>\n",
       "      <td>0.00</td>\n",
       "      <td>0.01</td>\n",
       "      <td>0.00</td>\n",
       "      <td>0.0</td>\n",
       "      <td>0.01</td>\n",
       "      <td>NaN</td>\n",
       "      <td>NaN</td>\n",
       "      <td>NaN</td>\n",
       "      <td>NaN</td>\n",
       "      <td>NaN</td>\n",
       "      <td>NaN</td>\n",
       "    </tr>\n",
       "    <tr>\n",
       "      <th>16716</th>\n",
       "      <td>Haitaka no Psychedelica</td>\n",
       "      <td>PSV</td>\n",
       "      <td>2016.0</td>\n",
       "      <td>Adventure</td>\n",
       "      <td>Idea Factory</td>\n",
       "      <td>0.00</td>\n",
       "      <td>0.00</td>\n",
       "      <td>0.01</td>\n",
       "      <td>0.0</td>\n",
       "      <td>0.01</td>\n",
       "      <td>NaN</td>\n",
       "      <td>NaN</td>\n",
       "      <td>NaN</td>\n",
       "      <td>NaN</td>\n",
       "      <td>NaN</td>\n",
       "      <td>NaN</td>\n",
       "    </tr>\n",
       "    <tr>\n",
       "      <th>16717</th>\n",
       "      <td>Spirits &amp; Spells</td>\n",
       "      <td>GBA</td>\n",
       "      <td>2003.0</td>\n",
       "      <td>Platform</td>\n",
       "      <td>Wanadoo</td>\n",
       "      <td>0.01</td>\n",
       "      <td>0.00</td>\n",
       "      <td>0.00</td>\n",
       "      <td>0.0</td>\n",
       "      <td>0.01</td>\n",
       "      <td>NaN</td>\n",
       "      <td>NaN</td>\n",
       "      <td>NaN</td>\n",
       "      <td>NaN</td>\n",
       "      <td>NaN</td>\n",
       "      <td>NaN</td>\n",
       "    </tr>\n",
       "    <tr>\n",
       "      <th>16718</th>\n",
       "      <td>Winning Post 8 2016</td>\n",
       "      <td>PSV</td>\n",
       "      <td>2016.0</td>\n",
       "      <td>Simulation</td>\n",
       "      <td>Tecmo Koei</td>\n",
       "      <td>0.00</td>\n",
       "      <td>0.00</td>\n",
       "      <td>0.01</td>\n",
       "      <td>0.0</td>\n",
       "      <td>0.01</td>\n",
       "      <td>NaN</td>\n",
       "      <td>NaN</td>\n",
       "      <td>NaN</td>\n",
       "      <td>NaN</td>\n",
       "      <td>NaN</td>\n",
       "      <td>NaN</td>\n",
       "    </tr>\n",
       "  </tbody>\n",
       "</table>\n",
       "</div>"
      ],
      "text/plain": [
       "                                Name Platform  Year_of_Release       Genre  \\\n",
       "16714  Samurai Warriors: Sanada Maru      PS3           2016.0      Action   \n",
       "16715               LMA Manager 2007     X360           2006.0      Sports   \n",
       "16716        Haitaka no Psychedelica      PSV           2016.0   Adventure   \n",
       "16717               Spirits & Spells      GBA           2003.0    Platform   \n",
       "16718            Winning Post 8 2016      PSV           2016.0  Simulation   \n",
       "\n",
       "          Publisher  NA_Sales  EU_Sales  JP_Sales  Other_Sales  Global_Sales  \\\n",
       "16714    Tecmo Koei      0.00      0.00      0.01          0.0          0.01   \n",
       "16715   Codemasters      0.00      0.01      0.00          0.0          0.01   \n",
       "16716  Idea Factory      0.00      0.00      0.01          0.0          0.01   \n",
       "16717       Wanadoo      0.01      0.00      0.00          0.0          0.01   \n",
       "16718    Tecmo Koei      0.00      0.00      0.01          0.0          0.01   \n",
       "\n",
       "       Critic_Score  Critic_Count  User_Score  User_Count Developer Rating  \n",
       "16714           NaN           NaN         NaN         NaN       NaN    NaN  \n",
       "16715           NaN           NaN         NaN         NaN       NaN    NaN  \n",
       "16716           NaN           NaN         NaN         NaN       NaN    NaN  \n",
       "16717           NaN           NaN         NaN         NaN       NaN    NaN  \n",
       "16718           NaN           NaN         NaN         NaN       NaN    NaN  "
      ]
     },
     "execution_count": 3,
     "metadata": {},
     "output_type": "execute_result"
    }
   ],
   "source": [
    "# Viewing the last 5 rows of data\n",
    "VideoGameSales.tail(5)"
   ]
  },
  {
   "cell_type": "code",
   "execution_count": 4,
   "metadata": {},
   "outputs": [
    {
     "data": {
      "text/plain": [
       "(16719, 16)"
      ]
     },
     "execution_count": 4,
     "metadata": {},
     "output_type": "execute_result"
    }
   ],
   "source": [
    "# Viewing the number of rows and columns in the data\n",
    "VideoGameSales.shape"
   ]
  },
  {
   "cell_type": "code",
   "execution_count": 5,
   "metadata": {},
   "outputs": [
    {
     "data": {
      "text/plain": [
       "Name                  2\n",
       "Platform              0\n",
       "Year_of_Release     269\n",
       "Genre                 2\n",
       "Publisher            54\n",
       "NA_Sales              0\n",
       "EU_Sales              0\n",
       "JP_Sales              0\n",
       "Other_Sales           0\n",
       "Global_Sales          0\n",
       "Critic_Score       8582\n",
       "Critic_Count       8582\n",
       "User_Score         9129\n",
       "User_Count         9129\n",
       "Developer          6623\n",
       "Rating             6769\n",
       "dtype: int64"
      ]
     },
     "execution_count": 5,
     "metadata": {},
     "output_type": "execute_result"
    }
   ],
   "source": [
    "# Checking the count of null values in the columns\n",
    "VideoGameSales.isnull().sum()"
   ]
  },
  {
   "cell_type": "code",
   "execution_count": 6,
   "metadata": {},
   "outputs": [
    {
     "data": {
      "text/plain": [
       "0"
      ]
     },
     "execution_count": 6,
     "metadata": {},
     "output_type": "execute_result"
    }
   ],
   "source": [
    "# Checking for duplicates in data\n",
    "VideoGameSales.duplicated().sum()"
   ]
  },
  {
   "cell_type": "code",
   "execution_count": 7,
   "metadata": {},
   "outputs": [],
   "source": [
    "# Removing columns not needed for analysis\n",
    "VideoGameSalesNew = VideoGameSales.drop([\"Critic_Score\", \"Critic_Count\", \"User_Score\", \"User_Count\", \"Developer\", \"Rating\"], axis=1)"
   ]
  },
  {
   "cell_type": "code",
   "execution_count": 8,
   "metadata": {},
   "outputs": [
    {
     "data": {
      "text/plain": [
       "Name                 2\n",
       "Platform             0\n",
       "Year_of_Release    269\n",
       "Genre                2\n",
       "Publisher           54\n",
       "NA_Sales             0\n",
       "EU_Sales             0\n",
       "JP_Sales             0\n",
       "Other_Sales          0\n",
       "Global_Sales         0\n",
       "dtype: int64"
      ]
     },
     "execution_count": 8,
     "metadata": {},
     "output_type": "execute_result"
    }
   ],
   "source": [
    "# Checking nulls for subset data\n",
    "VideoGameSalesNew.isnull().sum()"
   ]
  },
  {
   "cell_type": "code",
   "execution_count": 9,
   "metadata": {},
   "outputs": [],
   "source": [
    "# Using only rows that are not N/A from Year_of_Release column\n",
    "VideoGameSalesNew = VideoGameSalesNew[VideoGameSalesNew[\"Year_of_Release\"].notna()]"
   ]
  },
  {
   "cell_type": "code",
   "execution_count": 10,
   "metadata": {},
   "outputs": [
    {
     "data": {
      "text/plain": [
       "Name                2\n",
       "Platform            0\n",
       "Year_of_Release     0\n",
       "Genre               2\n",
       "Publisher          32\n",
       "NA_Sales            0\n",
       "EU_Sales            0\n",
       "JP_Sales            0\n",
       "Other_Sales         0\n",
       "Global_Sales        0\n",
       "dtype: int64"
      ]
     },
     "execution_count": 10,
     "metadata": {},
     "output_type": "execute_result"
    }
   ],
   "source": [
    "# Checking that \"Year_of_Release\" column is updated\n",
    "VideoGameSalesNew.isnull().sum()"
   ]
  },
  {
   "cell_type": "code",
   "execution_count": 11,
   "metadata": {},
   "outputs": [
    {
     "name": "stdout",
     "output_type": "stream",
     "text": [
      "<class 'pandas.core.frame.DataFrame'>\n",
      "Int64Index: 16450 entries, 0 to 16718\n",
      "Data columns (total 10 columns):\n",
      " #   Column           Non-Null Count  Dtype  \n",
      "---  ------           --------------  -----  \n",
      " 0   Name             16448 non-null  object \n",
      " 1   Platform         16450 non-null  object \n",
      " 2   Year_of_Release  16450 non-null  float64\n",
      " 3   Genre            16448 non-null  object \n",
      " 4   Publisher        16418 non-null  object \n",
      " 5   NA_Sales         16450 non-null  float64\n",
      " 6   EU_Sales         16450 non-null  float64\n",
      " 7   JP_Sales         16450 non-null  float64\n",
      " 8   Other_Sales      16450 non-null  float64\n",
      " 9   Global_Sales     16450 non-null  float64\n",
      "dtypes: float64(6), object(4)\n",
      "memory usage: 1.4+ MB\n"
     ]
    }
   ],
   "source": [
    "# Checking if datatypes are correct\n",
    "VideoGameSalesNew.info()"
   ]
  },
  {
   "cell_type": "code",
   "execution_count": 12,
   "metadata": {},
   "outputs": [],
   "source": [
    "# Changing \"Year_of_Release\" datatype from float to int\n",
    "VideoGameSalesNew[\"Year_of_Release\"] = VideoGameSalesNew[\"Year_of_Release\"].astype(int)"
   ]
  },
  {
   "cell_type": "code",
   "execution_count": 13,
   "metadata": {},
   "outputs": [
    {
     "name": "stdout",
     "output_type": "stream",
     "text": [
      "<class 'pandas.core.frame.DataFrame'>\n",
      "Int64Index: 16450 entries, 0 to 16718\n",
      "Data columns (total 10 columns):\n",
      " #   Column           Non-Null Count  Dtype  \n",
      "---  ------           --------------  -----  \n",
      " 0   Name             16448 non-null  object \n",
      " 1   Platform         16450 non-null  object \n",
      " 2   Year_of_Release  16450 non-null  int32  \n",
      " 3   Genre            16448 non-null  object \n",
      " 4   Publisher        16418 non-null  object \n",
      " 5   NA_Sales         16450 non-null  float64\n",
      " 6   EU_Sales         16450 non-null  float64\n",
      " 7   JP_Sales         16450 non-null  float64\n",
      " 8   Other_Sales      16450 non-null  float64\n",
      " 9   Global_Sales     16450 non-null  float64\n",
      "dtypes: float64(5), int32(1), object(4)\n",
      "memory usage: 1.3+ MB\n"
     ]
    }
   ],
   "source": [
    "# Checking that \"Year_of_Release\" datatype has been updated\n",
    "VideoGameSalesNew.info()"
   ]
  },
  {
   "cell_type": "code",
   "execution_count": 14,
   "metadata": {},
   "outputs": [],
   "source": [
    "# Converting \"Year_of_Release\" column to date format\n",
    "VideoGameSalesNew[\"Year_of_Release\"] = pd.to_datetime(VideoGameSalesNew[\"Year_of_Release\"].astype(str), format=\"%Y\")"
   ]
  },
  {
   "cell_type": "code",
   "execution_count": 15,
   "metadata": {},
   "outputs": [
    {
     "name": "stdout",
     "output_type": "stream",
     "text": [
      "<class 'pandas.core.frame.DataFrame'>\n",
      "Int64Index: 16450 entries, 0 to 16718\n",
      "Data columns (total 10 columns):\n",
      " #   Column           Non-Null Count  Dtype         \n",
      "---  ------           --------------  -----         \n",
      " 0   Name             16448 non-null  object        \n",
      " 1   Platform         16450 non-null  object        \n",
      " 2   Year_of_Release  16450 non-null  datetime64[ns]\n",
      " 3   Genre            16448 non-null  object        \n",
      " 4   Publisher        16418 non-null  object        \n",
      " 5   NA_Sales         16450 non-null  float64       \n",
      " 6   EU_Sales         16450 non-null  float64       \n",
      " 7   JP_Sales         16450 non-null  float64       \n",
      " 8   Other_Sales      16450 non-null  float64       \n",
      " 9   Global_Sales     16450 non-null  float64       \n",
      "dtypes: datetime64[ns](1), float64(5), object(4)\n",
      "memory usage: 1.4+ MB\n"
     ]
    },
    {
     "data": {
      "text/html": [
       "<div>\n",
       "<style scoped>\n",
       "    .dataframe tbody tr th:only-of-type {\n",
       "        vertical-align: middle;\n",
       "    }\n",
       "\n",
       "    .dataframe tbody tr th {\n",
       "        vertical-align: top;\n",
       "    }\n",
       "\n",
       "    .dataframe thead th {\n",
       "        text-align: right;\n",
       "    }\n",
       "</style>\n",
       "<table border=\"1\" class=\"dataframe\">\n",
       "  <thead>\n",
       "    <tr style=\"text-align: right;\">\n",
       "      <th></th>\n",
       "      <th>Name</th>\n",
       "      <th>Platform</th>\n",
       "      <th>Year_of_Release</th>\n",
       "      <th>Genre</th>\n",
       "      <th>Publisher</th>\n",
       "      <th>NA_Sales</th>\n",
       "      <th>EU_Sales</th>\n",
       "      <th>JP_Sales</th>\n",
       "      <th>Other_Sales</th>\n",
       "      <th>Global_Sales</th>\n",
       "    </tr>\n",
       "  </thead>\n",
       "  <tbody>\n",
       "    <tr>\n",
       "      <th>0</th>\n",
       "      <td>Wii Sports</td>\n",
       "      <td>Wii</td>\n",
       "      <td>2006-01-01</td>\n",
       "      <td>Sports</td>\n",
       "      <td>Nintendo</td>\n",
       "      <td>41.36</td>\n",
       "      <td>28.96</td>\n",
       "      <td>3.77</td>\n",
       "      <td>8.45</td>\n",
       "      <td>82.53</td>\n",
       "    </tr>\n",
       "    <tr>\n",
       "      <th>1</th>\n",
       "      <td>Super Mario Bros.</td>\n",
       "      <td>NES</td>\n",
       "      <td>1985-01-01</td>\n",
       "      <td>Platform</td>\n",
       "      <td>Nintendo</td>\n",
       "      <td>29.08</td>\n",
       "      <td>3.58</td>\n",
       "      <td>6.81</td>\n",
       "      <td>0.77</td>\n",
       "      <td>40.24</td>\n",
       "    </tr>\n",
       "    <tr>\n",
       "      <th>2</th>\n",
       "      <td>Mario Kart Wii</td>\n",
       "      <td>Wii</td>\n",
       "      <td>2008-01-01</td>\n",
       "      <td>Racing</td>\n",
       "      <td>Nintendo</td>\n",
       "      <td>15.68</td>\n",
       "      <td>12.76</td>\n",
       "      <td>3.79</td>\n",
       "      <td>3.29</td>\n",
       "      <td>35.52</td>\n",
       "    </tr>\n",
       "  </tbody>\n",
       "</table>\n",
       "</div>"
      ],
      "text/plain": [
       "                Name Platform Year_of_Release     Genre Publisher  NA_Sales  \\\n",
       "0         Wii Sports      Wii      2006-01-01    Sports  Nintendo     41.36   \n",
       "1  Super Mario Bros.      NES      1985-01-01  Platform  Nintendo     29.08   \n",
       "2     Mario Kart Wii      Wii      2008-01-01    Racing  Nintendo     15.68   \n",
       "\n",
       "   EU_Sales  JP_Sales  Other_Sales  Global_Sales  \n",
       "0     28.96      3.77         8.45         82.53  \n",
       "1      3.58      6.81         0.77         40.24  \n",
       "2     12.76      3.79         3.29         35.52  "
      ]
     },
     "execution_count": 15,
     "metadata": {},
     "output_type": "execute_result"
    }
   ],
   "source": [
    "# Checking that \"Year_of_Release\" datatype has been updated\n",
    "VideoGameSalesNew.info()\n",
    "\n",
    "# Viewing first 3 rows of data\n",
    "VideoGameSalesNew.head(3)"
   ]
  },
  {
   "cell_type": "code",
   "execution_count": 16,
   "metadata": {},
   "outputs": [],
   "source": [
    "# Setting the \"Year_of_Release\" column in just the year format\n",
    "VideoGameSalesNew.Year_of_Release = VideoGameSalesNew[\"Year_of_Release\"].dt.year"
   ]
  },
  {
   "cell_type": "code",
   "execution_count": 17,
   "metadata": {},
   "outputs": [
    {
     "data": {
      "text/plain": [
       "0        2006\n",
       "1        1985\n",
       "2        2008\n",
       "3        2009\n",
       "4        1996\n",
       "         ... \n",
       "16714    2016\n",
       "16715    2006\n",
       "16716    2016\n",
       "16717    2003\n",
       "16718    2016\n",
       "Name: Year_of_Release, Length: 16450, dtype: int64"
      ]
     },
     "execution_count": 17,
     "metadata": {},
     "output_type": "execute_result"
    }
   ],
   "source": [
    "# Checking that the changes updated to the column\n",
    "VideoGameSalesNew[\"Year_of_Release\"]"
   ]
  },
  {
   "cell_type": "code",
   "execution_count": 18,
   "metadata": {},
   "outputs": [
    {
     "data": {
      "text/plain": [
       "(16450, 10)"
      ]
     },
     "execution_count": 18,
     "metadata": {},
     "output_type": "execute_result"
    }
   ],
   "source": [
    "# Rechecking size of data \n",
    "VideoGameSalesNew.shape"
   ]
  },
  {
   "cell_type": "code",
   "execution_count": 19,
   "metadata": {},
   "outputs": [
    {
     "data": {
      "text/html": [
       "<div>\n",
       "<style scoped>\n",
       "    .dataframe tbody tr th:only-of-type {\n",
       "        vertical-align: middle;\n",
       "    }\n",
       "\n",
       "    .dataframe tbody tr th {\n",
       "        vertical-align: top;\n",
       "    }\n",
       "\n",
       "    .dataframe thead th {\n",
       "        text-align: right;\n",
       "    }\n",
       "</style>\n",
       "<table border=\"1\" class=\"dataframe\">\n",
       "  <thead>\n",
       "    <tr style=\"text-align: right;\">\n",
       "      <th></th>\n",
       "      <th>Year_of_Release</th>\n",
       "      <th>NA_Sales</th>\n",
       "      <th>EU_Sales</th>\n",
       "      <th>JP_Sales</th>\n",
       "      <th>Other_Sales</th>\n",
       "      <th>Global_Sales</th>\n",
       "    </tr>\n",
       "  </thead>\n",
       "  <tbody>\n",
       "    <tr>\n",
       "      <th>count</th>\n",
       "      <td>16450.000000</td>\n",
       "      <td>16450.000000</td>\n",
       "      <td>16450.000000</td>\n",
       "      <td>16450.000000</td>\n",
       "      <td>16450.000000</td>\n",
       "      <td>16450.000000</td>\n",
       "    </tr>\n",
       "    <tr>\n",
       "      <th>mean</th>\n",
       "      <td>2006.487356</td>\n",
       "      <td>0.264041</td>\n",
       "      <td>0.145909</td>\n",
       "      <td>0.078464</td>\n",
       "      <td>0.047582</td>\n",
       "      <td>0.536252</td>\n",
       "    </tr>\n",
       "    <tr>\n",
       "      <th>std</th>\n",
       "      <td>5.878995</td>\n",
       "      <td>0.818324</td>\n",
       "      <td>0.506639</td>\n",
       "      <td>0.311046</td>\n",
       "      <td>0.187973</td>\n",
       "      <td>1.558437</td>\n",
       "    </tr>\n",
       "    <tr>\n",
       "      <th>min</th>\n",
       "      <td>1980.000000</td>\n",
       "      <td>0.000000</td>\n",
       "      <td>0.000000</td>\n",
       "      <td>0.000000</td>\n",
       "      <td>0.000000</td>\n",
       "      <td>0.010000</td>\n",
       "    </tr>\n",
       "    <tr>\n",
       "      <th>25%</th>\n",
       "      <td>2003.000000</td>\n",
       "      <td>0.000000</td>\n",
       "      <td>0.000000</td>\n",
       "      <td>0.000000</td>\n",
       "      <td>0.000000</td>\n",
       "      <td>0.060000</td>\n",
       "    </tr>\n",
       "    <tr>\n",
       "      <th>50%</th>\n",
       "      <td>2007.000000</td>\n",
       "      <td>0.080000</td>\n",
       "      <td>0.020000</td>\n",
       "      <td>0.000000</td>\n",
       "      <td>0.010000</td>\n",
       "      <td>0.170000</td>\n",
       "    </tr>\n",
       "    <tr>\n",
       "      <th>75%</th>\n",
       "      <td>2010.000000</td>\n",
       "      <td>0.240000</td>\n",
       "      <td>0.110000</td>\n",
       "      <td>0.040000</td>\n",
       "      <td>0.030000</td>\n",
       "      <td>0.470000</td>\n",
       "    </tr>\n",
       "    <tr>\n",
       "      <th>max</th>\n",
       "      <td>2020.000000</td>\n",
       "      <td>41.360000</td>\n",
       "      <td>28.960000</td>\n",
       "      <td>10.220000</td>\n",
       "      <td>10.570000</td>\n",
       "      <td>82.530000</td>\n",
       "    </tr>\n",
       "  </tbody>\n",
       "</table>\n",
       "</div>"
      ],
      "text/plain": [
       "       Year_of_Release      NA_Sales      EU_Sales      JP_Sales  \\\n",
       "count     16450.000000  16450.000000  16450.000000  16450.000000   \n",
       "mean       2006.487356      0.264041      0.145909      0.078464   \n",
       "std           5.878995      0.818324      0.506639      0.311046   \n",
       "min        1980.000000      0.000000      0.000000      0.000000   \n",
       "25%        2003.000000      0.000000      0.000000      0.000000   \n",
       "50%        2007.000000      0.080000      0.020000      0.000000   \n",
       "75%        2010.000000      0.240000      0.110000      0.040000   \n",
       "max        2020.000000     41.360000     28.960000     10.220000   \n",
       "\n",
       "        Other_Sales  Global_Sales  \n",
       "count  16450.000000  16450.000000  \n",
       "mean       0.047582      0.536252  \n",
       "std        0.187973      1.558437  \n",
       "min        0.000000      0.010000  \n",
       "25%        0.000000      0.060000  \n",
       "50%        0.010000      0.170000  \n",
       "75%        0.030000      0.470000  \n",
       "max       10.570000     82.530000  "
      ]
     },
     "execution_count": 19,
     "metadata": {},
     "output_type": "execute_result"
    }
   ],
   "source": [
    "# checking statistical data\n",
    "VideoGameSalesNew.describe()"
   ]
  },
  {
   "cell_type": "code",
   "execution_count": 20,
   "metadata": {},
   "outputs": [
    {
     "data": {
      "text/html": [
       "<div>\n",
       "<style scoped>\n",
       "    .dataframe tbody tr th:only-of-type {\n",
       "        vertical-align: middle;\n",
       "    }\n",
       "\n",
       "    .dataframe tbody tr th {\n",
       "        vertical-align: top;\n",
       "    }\n",
       "\n",
       "    .dataframe thead th {\n",
       "        text-align: right;\n",
       "    }\n",
       "</style>\n",
       "<table border=\"1\" class=\"dataframe\">\n",
       "  <thead>\n",
       "    <tr style=\"text-align: right;\">\n",
       "      <th></th>\n",
       "      <th>Name</th>\n",
       "      <th>Platform</th>\n",
       "      <th>Genre</th>\n",
       "      <th>Publisher</th>\n",
       "    </tr>\n",
       "  </thead>\n",
       "  <tbody>\n",
       "    <tr>\n",
       "      <th>count</th>\n",
       "      <td>16448</td>\n",
       "      <td>16450</td>\n",
       "      <td>16448</td>\n",
       "      <td>16418</td>\n",
       "    </tr>\n",
       "    <tr>\n",
       "      <th>unique</th>\n",
       "      <td>11429</td>\n",
       "      <td>31</td>\n",
       "      <td>12</td>\n",
       "      <td>580</td>\n",
       "    </tr>\n",
       "    <tr>\n",
       "      <th>top</th>\n",
       "      <td>Need for Speed: Most Wanted</td>\n",
       "      <td>PS2</td>\n",
       "      <td>Action</td>\n",
       "      <td>Electronic Arts</td>\n",
       "    </tr>\n",
       "    <tr>\n",
       "      <th>freq</th>\n",
       "      <td>12</td>\n",
       "      <td>2127</td>\n",
       "      <td>3308</td>\n",
       "      <td>1344</td>\n",
       "    </tr>\n",
       "  </tbody>\n",
       "</table>\n",
       "</div>"
      ],
      "text/plain": [
       "                               Name Platform   Genre        Publisher\n",
       "count                         16448    16450   16448            16418\n",
       "unique                        11429       31      12              580\n",
       "top     Need for Speed: Most Wanted      PS2  Action  Electronic Arts\n",
       "freq                             12     2127    3308             1344"
      ]
     },
     "execution_count": 20,
     "metadata": {},
     "output_type": "execute_result"
    }
   ],
   "source": [
    "# Checking categorical data\n",
    "VideoGameSalesNew.describe(include=\"object\") "
   ]
  },
  {
   "cell_type": "code",
   "execution_count": 21,
   "metadata": {},
   "outputs": [
    {
     "name": "stdout",
     "output_type": "stream",
     "text": [
      "Name has 11429 unique values\n",
      "Platform has 31 unique values\n",
      "Year_of_Release has 39 unique values\n",
      "Genre has 12 unique values\n",
      "Publisher has 580 unique values\n",
      "NA_Sales has 401 unique values\n",
      "EU_Sales has 307 unique values\n",
      "JP_Sales has 244 unique values\n",
      "Other_Sales has 155 unique values\n",
      "Global_Sales has 628 unique values\n"
     ]
    }
   ],
   "source": [
    "# Checking unique values in all columms\n",
    "for col in VideoGameSalesNew.columns:\n",
    "    unique_count = VideoGameSalesNew[col].nunique()\n",
    "    print(f\"{col} has {str(unique_count)} unique values\")"
   ]
  },
  {
   "cell_type": "markdown",
   "metadata": {},
   "source": [
    "EDA AND VISUALIZATIONS"
   ]
  },
  {
   "cell_type": "code",
   "execution_count": 22,
   "metadata": {},
   "outputs": [
    {
     "data": {
      "text/html": [
       "<div>\n",
       "<style scoped>\n",
       "    .dataframe tbody tr th:only-of-type {\n",
       "        vertical-align: middle;\n",
       "    }\n",
       "\n",
       "    .dataframe tbody tr th {\n",
       "        vertical-align: top;\n",
       "    }\n",
       "\n",
       "    .dataframe thead th {\n",
       "        text-align: right;\n",
       "    }\n",
       "</style>\n",
       "<table border=\"1\" class=\"dataframe\">\n",
       "  <thead>\n",
       "    <tr style=\"text-align: right;\">\n",
       "      <th></th>\n",
       "      <th>Name</th>\n",
       "    </tr>\n",
       "  </thead>\n",
       "  <tbody>\n",
       "    <tr>\n",
       "      <th>Need for Speed: Most Wanted</th>\n",
       "      <td>12</td>\n",
       "    </tr>\n",
       "    <tr>\n",
       "      <th>FIFA 14</th>\n",
       "      <td>9</td>\n",
       "    </tr>\n",
       "    <tr>\n",
       "      <th>LEGO Marvel Super Heroes</th>\n",
       "      <td>9</td>\n",
       "    </tr>\n",
       "    <tr>\n",
       "      <th>Ratatouille</th>\n",
       "      <td>9</td>\n",
       "    </tr>\n",
       "    <tr>\n",
       "      <th>Madden NFL 08</th>\n",
       "      <td>8</td>\n",
       "    </tr>\n",
       "    <tr>\n",
       "      <th>Angry Birds Star Wars</th>\n",
       "      <td>8</td>\n",
       "    </tr>\n",
       "    <tr>\n",
       "      <th>Lego Batman 3: Beyond Gotham</th>\n",
       "      <td>8</td>\n",
       "    </tr>\n",
       "    <tr>\n",
       "      <th>LEGO The Hobbit</th>\n",
       "      <td>8</td>\n",
       "    </tr>\n",
       "    <tr>\n",
       "      <th>Cars</th>\n",
       "      <td>8</td>\n",
       "    </tr>\n",
       "    <tr>\n",
       "      <th>FIFA Soccer 13</th>\n",
       "      <td>8</td>\n",
       "    </tr>\n",
       "  </tbody>\n",
       "</table>\n",
       "</div>"
      ],
      "text/plain": [
       "                              Name\n",
       "Need for Speed: Most Wanted     12\n",
       "FIFA 14                          9\n",
       "LEGO Marvel Super Heroes         9\n",
       "Ratatouille                      9\n",
       "Madden NFL 08                    8\n",
       "Angry Birds Star Wars            8\n",
       "Lego Batman 3: Beyond Gotham     8\n",
       "LEGO The Hobbit                  8\n",
       "Cars                             8\n",
       "FIFA Soccer 13                   8"
      ]
     },
     "execution_count": 22,
     "metadata": {},
     "output_type": "execute_result"
    }
   ],
   "source": [
    "# Top 10 count of Names of games across all platforms\n",
    "TopGames = VideoGameSalesNew[\"Name\"].value_counts()[:10]\n",
    "TopGames = pd.DataFrame(TopGames)\n",
    "TopGames"
   ]
  },
  {
   "cell_type": "code",
   "execution_count": 23,
   "metadata": {},
   "outputs": [
    {
     "data": {
      "text/html": [
       "<div>\n",
       "<style scoped>\n",
       "    .dataframe tbody tr th:only-of-type {\n",
       "        vertical-align: middle;\n",
       "    }\n",
       "\n",
       "    .dataframe tbody tr th {\n",
       "        vertical-align: top;\n",
       "    }\n",
       "\n",
       "    .dataframe thead th {\n",
       "        text-align: right;\n",
       "    }\n",
       "</style>\n",
       "<table border=\"1\" class=\"dataframe\">\n",
       "  <thead>\n",
       "    <tr style=\"text-align: right;\">\n",
       "      <th></th>\n",
       "      <th>Platform</th>\n",
       "    </tr>\n",
       "  </thead>\n",
       "  <tbody>\n",
       "    <tr>\n",
       "      <th>PS2</th>\n",
       "      <td>2127</td>\n",
       "    </tr>\n",
       "    <tr>\n",
       "      <th>DS</th>\n",
       "      <td>2122</td>\n",
       "    </tr>\n",
       "    <tr>\n",
       "      <th>PS3</th>\n",
       "      <td>1306</td>\n",
       "    </tr>\n",
       "    <tr>\n",
       "      <th>Wii</th>\n",
       "      <td>1286</td>\n",
       "    </tr>\n",
       "    <tr>\n",
       "      <th>X360</th>\n",
       "      <td>1232</td>\n",
       "    </tr>\n",
       "    <tr>\n",
       "      <th>PSP</th>\n",
       "      <td>1193</td>\n",
       "    </tr>\n",
       "    <tr>\n",
       "      <th>PS</th>\n",
       "      <td>1190</td>\n",
       "    </tr>\n",
       "    <tr>\n",
       "      <th>PC</th>\n",
       "      <td>957</td>\n",
       "    </tr>\n",
       "    <tr>\n",
       "      <th>GBA</th>\n",
       "      <td>811</td>\n",
       "    </tr>\n",
       "    <tr>\n",
       "      <th>XB</th>\n",
       "      <td>803</td>\n",
       "    </tr>\n",
       "  </tbody>\n",
       "</table>\n",
       "</div>"
      ],
      "text/plain": [
       "      Platform\n",
       "PS2       2127\n",
       "DS        2122\n",
       "PS3       1306\n",
       "Wii       1286\n",
       "X360      1232\n",
       "PSP       1193\n",
       "PS        1190\n",
       "PC         957\n",
       "GBA        811\n",
       "XB         803"
      ]
     },
     "execution_count": 23,
     "metadata": {},
     "output_type": "execute_result"
    }
   ],
   "source": [
    "# Top 10 Platforms for all games\n",
    "TopPlatforms = VideoGameSalesNew[\"Platform\"].value_counts()[:10]\n",
    "TopPlatforms = pd.DataFrame(TopPlatforms)\n",
    "TopPlatforms"
   ]
  },
  {
   "cell_type": "code",
   "execution_count": 24,
   "metadata": {},
   "outputs": [
    {
     "name": "stdout",
     "output_type": "stream",
     "text": [
      "This graph represents the platform that produced the most games\n"
     ]
    },
    {
     "data": {
      "image/png": "[encoded data removed]",
      "text/plain": [
       "<Figure size 640x480 with 1 Axes>"
      ]
     },
     "metadata": {},
     "output_type": "display_data"
    }
   ],
   "source": [
    "# Graph of Top 10 Platforms for all games\n",
    "TopPlatforms.plot(kind=\"bar\", rot=0),\n",
    "plt.title(\"Top 10 Platforms For All Games\", fontsize=20),\n",
    "plt.ylabel(\"\"),\n",
    "plt.legend(\"\")\n",
    "ticks = list(range(0, 2500, 250))\n",
    "plt.yticks(ticks, [f\"{x} units\" for x in ticks])\n",
    "sns.set_style(\"darkgrid\")\n",
    "print(\"This graph represents the platform that produced the most games\")"
   ]
  },
  {
   "cell_type": "code",
   "execution_count": 25,
   "metadata": {},
   "outputs": [
    {
     "data": {
      "text/html": [
       "<div>\n",
       "<style scoped>\n",
       "    .dataframe tbody tr th:only-of-type {\n",
       "        vertical-align: middle;\n",
       "    }\n",
       "\n",
       "    .dataframe tbody tr th {\n",
       "        vertical-align: top;\n",
       "    }\n",
       "\n",
       "    .dataframe thead th {\n",
       "        text-align: right;\n",
       "    }\n",
       "</style>\n",
       "<table border=\"1\" class=\"dataframe\">\n",
       "  <thead>\n",
       "    <tr style=\"text-align: right;\">\n",
       "      <th></th>\n",
       "      <th></th>\n",
       "      <th>NA_Sales</th>\n",
       "    </tr>\n",
       "    <tr>\n",
       "      <th>Year_of_Release</th>\n",
       "      <th>Platform</th>\n",
       "      <th></th>\n",
       "    </tr>\n",
       "  </thead>\n",
       "  <tbody>\n",
       "    <tr>\n",
       "      <th>2009</th>\n",
       "      <th>Wii</th>\n",
       "      <td>114.55</td>\n",
       "    </tr>\n",
       "    <tr>\n",
       "      <th>2010</th>\n",
       "      <th>X360</th>\n",
       "      <td>107.38</td>\n",
       "    </tr>\n",
       "    <tr>\n",
       "      <th>2008</th>\n",
       "      <th>Wii</th>\n",
       "      <td>97.12</td>\n",
       "    </tr>\n",
       "    <tr>\n",
       "      <th>2004</th>\n",
       "      <th>PS2</th>\n",
       "      <td>96.78</td>\n",
       "    </tr>\n",
       "    <tr>\n",
       "      <th>2002</th>\n",
       "      <th>PS2</th>\n",
       "      <td>96.54</td>\n",
       "    </tr>\n",
       "    <tr>\n",
       "      <th>2011</th>\n",
       "      <th>X360</th>\n",
       "      <td>86.75</td>\n",
       "    </tr>\n",
       "    <tr>\n",
       "      <th>2005</th>\n",
       "      <th>PS2</th>\n",
       "      <td>85.60</td>\n",
       "    </tr>\n",
       "    <tr>\n",
       "      <th>2003</th>\n",
       "      <th>PS2</th>\n",
       "      <td>83.54</td>\n",
       "    </tr>\n",
       "    <tr>\n",
       "      <th>1998</th>\n",
       "      <th>PS</th>\n",
       "      <td>83.22</td>\n",
       "    </tr>\n",
       "    <tr>\n",
       "      <th>2007</th>\n",
       "      <th>Wii</th>\n",
       "      <td>83.14</td>\n",
       "    </tr>\n",
       "  </tbody>\n",
       "</table>\n",
       "</div>"
      ],
      "text/plain": [
       "                          NA_Sales\n",
       "Year_of_Release Platform          \n",
       "2009            Wii         114.55\n",
       "2010            X360        107.38\n",
       "2008            Wii          97.12\n",
       "2004            PS2          96.78\n",
       "2002            PS2          96.54\n",
       "2011            X360         86.75\n",
       "2005            PS2          85.60\n",
       "2003            PS2          83.54\n",
       "1998            PS           83.22\n",
       "2007            Wii          83.14"
      ]
     },
     "execution_count": 25,
     "metadata": {},
     "output_type": "execute_result"
    }
   ],
   "source": [
    "# Top 10 Platforms and Year_of_Release with most NA_Sales\n",
    "TopPlatformsbyNASalesPerYear = VideoGameSalesNew.groupby([\"Year_of_Release\", \"Platform\"]).sum()[\"NA_Sales\"].sort_values(ascending=False)[:10]\n",
    "TopPlatformsbyNASalesPerYear = pd.DataFrame(TopPlatformsbyNASalesPerYear)\n",
    "TopPlatformsbyNASalesPerYear\n",
    "\n"
   ]
  },
  {
   "cell_type": "code",
   "execution_count": 26,
   "metadata": {},
   "outputs": [
    {
     "name": "stdout",
     "output_type": "stream",
     "text": [
      "This graph shows that the platform Wii in the year 2009, produced the most NA sales.\n"
     ]
    },
    {
     "data": {
      "image/png": "[encoded data removed]",
      "text/plain": [
       "<Figure size 640x480 with 1 Axes>"
      ]
     },
     "metadata": {},
     "output_type": "display_data"
    }
   ],
   "source": [
    "# Graph of Top 10 Platforms and Year_of_Release with most NA_Sales\n",
    "TopPlatformsbyNASalesPerYear.plot(kind=\"barh\"),\n",
    "plt.title(\"Top 10 Platforms and Years with most NA Sales\", fontsize=20), \n",
    "plt.xlabel(\"NA Sales\"),\n",
    "plt.xlabel(\"\"),\n",
    "plt.ylabel(\"\"),\n",
    "plt.legend(\"\")\n",
    "ticks = list(range(0, 140, 20))\n",
    "plt.xticks(ticks, [f\"${x} M\" for x in ticks]),\n",
    "sns.set_style(\"darkgrid\")\n",
    "print(\"This graph shows that the platform Wii in the year 2009, produced the most NA sales.\")"
   ]
  },
  {
   "cell_type": "code",
   "execution_count": 27,
   "metadata": {},
   "outputs": [
    {
     "data": {
      "text/html": [
       "<div>\n",
       "<style scoped>\n",
       "    .dataframe tbody tr th:only-of-type {\n",
       "        vertical-align: middle;\n",
       "    }\n",
       "\n",
       "    .dataframe tbody tr th {\n",
       "        vertical-align: top;\n",
       "    }\n",
       "\n",
       "    .dataframe thead th {\n",
       "        text-align: right;\n",
       "    }\n",
       "</style>\n",
       "<table border=\"1\" class=\"dataframe\">\n",
       "  <thead>\n",
       "    <tr style=\"text-align: right;\">\n",
       "      <th></th>\n",
       "      <th>NA_Sales</th>\n",
       "    </tr>\n",
       "    <tr>\n",
       "      <th>Year_of_Release</th>\n",
       "      <th></th>\n",
       "    </tr>\n",
       "  </thead>\n",
       "  <tbody>\n",
       "    <tr>\n",
       "      <th>2008</th>\n",
       "      <td>348.69</td>\n",
       "    </tr>\n",
       "    <tr>\n",
       "      <th>2009</th>\n",
       "      <td>335.55</td>\n",
       "    </tr>\n",
       "    <tr>\n",
       "      <th>2007</th>\n",
       "      <td>309.89</td>\n",
       "    </tr>\n",
       "    <tr>\n",
       "      <th>2010</th>\n",
       "      <td>300.65</td>\n",
       "    </tr>\n",
       "    <tr>\n",
       "      <th>2006</th>\n",
       "      <td>262.13</td>\n",
       "    </tr>\n",
       "    <tr>\n",
       "      <th>2005</th>\n",
       "      <td>242.15</td>\n",
       "    </tr>\n",
       "    <tr>\n",
       "      <th>2011</th>\n",
       "      <td>238.79</td>\n",
       "    </tr>\n",
       "    <tr>\n",
       "      <th>2004</th>\n",
       "      <td>222.51</td>\n",
       "    </tr>\n",
       "    <tr>\n",
       "      <th>2002</th>\n",
       "      <td>216.19</td>\n",
       "    </tr>\n",
       "    <tr>\n",
       "      <th>2003</th>\n",
       "      <td>193.61</td>\n",
       "    </tr>\n",
       "  </tbody>\n",
       "</table>\n",
       "</div>"
      ],
      "text/plain": [
       "                 NA_Sales\n",
       "Year_of_Release          \n",
       "2008               348.69\n",
       "2009               335.55\n",
       "2007               309.89\n",
       "2010               300.65\n",
       "2006               262.13\n",
       "2005               242.15\n",
       "2011               238.79\n",
       "2004               222.51\n",
       "2002               216.19\n",
       "2003               193.61"
      ]
     },
     "execution_count": 27,
     "metadata": {},
     "output_type": "execute_result"
    }
   ],
   "source": [
    "# Top 10 Year_of_Release with most NA_Sales\n",
    "TopNASalesByYear = VideoGameSalesNew.groupby(\"Year_of_Release\").sum()[\"NA_Sales\"].sort_values(ascending=False)[:10]\n",
    "TopNASalesByYear = pd.DataFrame(TopNASalesByYear)\n",
    "TopNASalesByYear"
   ]
  },
  {
   "cell_type": "code",
   "execution_count": 28,
   "metadata": {},
   "outputs": [
    {
     "name": "stdout",
     "output_type": "stream",
     "text": [
      "This graphs shows that the year 2008 produced the most NA sales.\n"
     ]
    },
    {
     "data": {
      "image/png": "[encoded data removed]",
      "text/plain": [
       "<Figure size 640x480 with 1 Axes>"
      ]
     },
     "metadata": {},
     "output_type": "display_data"
    }
   ],
   "source": [
    "# Graph of Top 10 Year_of_Release with most NA_Sales\n",
    "TopNASalesByYear.plot(kind=\"bar\", rot=0),\n",
    "plt.title(\"Top 10 Release Years with most NA Sales\", fontsize=20),\n",
    "plt.ylabel(\"\"),\n",
    "plt.xlabel(\"\"),\n",
    "plt.legend(\"\")\n",
    "ticks = list(range(0, 400, 50))\n",
    "plt.yticks(ticks, [f\"${x} M\" for x in ticks]),\n",
    "sns.set_style(\"darkgrid\")\n",
    "print(\"This graphs shows that the year 2008 produced the most NA sales.\")\n"
   ]
  },
  {
   "cell_type": "code",
   "execution_count": 29,
   "metadata": {},
   "outputs": [
    {
     "data": {
      "text/html": [
       "<div>\n",
       "<style scoped>\n",
       "    .dataframe tbody tr th:only-of-type {\n",
       "        vertical-align: middle;\n",
       "    }\n",
       "\n",
       "    .dataframe tbody tr th {\n",
       "        vertical-align: top;\n",
       "    }\n",
       "\n",
       "    .dataframe thead th {\n",
       "        text-align: right;\n",
       "    }\n",
       "</style>\n",
       "<table border=\"1\" class=\"dataframe\">\n",
       "  <thead>\n",
       "    <tr style=\"text-align: right;\">\n",
       "      <th></th>\n",
       "      <th></th>\n",
       "      <th>EU_Sales</th>\n",
       "    </tr>\n",
       "    <tr>\n",
       "      <th>Year_of_Release</th>\n",
       "      <th>Platform</th>\n",
       "      <th></th>\n",
       "    </tr>\n",
       "  </thead>\n",
       "  <tbody>\n",
       "    <tr>\n",
       "      <th>2002</th>\n",
       "      <th>PS2</th>\n",
       "      <td>65.27</td>\n",
       "    </tr>\n",
       "    <tr>\n",
       "      <th>2003</th>\n",
       "      <th>PS2</th>\n",
       "      <td>61.20</td>\n",
       "    </tr>\n",
       "    <tr>\n",
       "      <th>2009</th>\n",
       "      <th>Wii</th>\n",
       "      <td>58.31</td>\n",
       "    </tr>\n",
       "    <tr>\n",
       "      <th>2011</th>\n",
       "      <th>PS3</th>\n",
       "      <td>56.24</td>\n",
       "    </tr>\n",
       "    <tr>\n",
       "      <th>2004</th>\n",
       "      <th>PS2</th>\n",
       "      <td>56.01</td>\n",
       "    </tr>\n",
       "    <tr>\n",
       "      <th>2001</th>\n",
       "      <th>PS2</th>\n",
       "      <td>52.37</td>\n",
       "    </tr>\n",
       "    <tr>\n",
       "      <th>2015</th>\n",
       "      <th>PS4</th>\n",
       "      <td>51.76</td>\n",
       "    </tr>\n",
       "    <tr>\n",
       "      <th>2010</th>\n",
       "      <th>PS3</th>\n",
       "      <td>50.50</td>\n",
       "    </tr>\n",
       "    <tr>\n",
       "      <th>1998</th>\n",
       "      <th>PS</th>\n",
       "      <td>48.74</td>\n",
       "    </tr>\n",
       "    <tr>\n",
       "      <th>2008</th>\n",
       "      <th>Wii</th>\n",
       "      <td>46.52</td>\n",
       "    </tr>\n",
       "  </tbody>\n",
       "</table>\n",
       "</div>"
      ],
      "text/plain": [
       "                          EU_Sales\n",
       "Year_of_Release Platform          \n",
       "2002            PS2          65.27\n",
       "2003            PS2          61.20\n",
       "2009            Wii          58.31\n",
       "2011            PS3          56.24\n",
       "2004            PS2          56.01\n",
       "2001            PS2          52.37\n",
       "2015            PS4          51.76\n",
       "2010            PS3          50.50\n",
       "1998            PS           48.74\n",
       "2008            Wii          46.52"
      ]
     },
     "execution_count": 29,
     "metadata": {},
     "output_type": "execute_result"
    }
   ],
   "source": [
    "# Top 10 Platforms and Year_of_Release with most EU_Sales\n",
    "TopPlatformsbyEUSalesPerYear = VideoGameSalesNew.groupby([\"Year_of_Release\", \"Platform\"]).sum()[\"EU_Sales\"].sort_values(ascending=False)[:10]\n",
    "TopPlatformsbyEUSalesPerYear = pd.DataFrame(TopPlatformsbyEUSalesPerYear)\n",
    "TopPlatformsbyEUSalesPerYear"
   ]
  },
  {
   "cell_type": "code",
   "execution_count": 30,
   "metadata": {},
   "outputs": [
    {
     "name": "stdout",
     "output_type": "stream",
     "text": [
      "This graph is a represents the platfor PS2 in the year 2002, as having the most EU sales.\n"
     ]
    },
    {
     "data": {
      "image/png": "[encoded data removed]",
      "text/plain": [
       "<Figure size 640x480 with 1 Axes>"
      ]
     },
     "metadata": {},
     "output_type": "display_data"
    }
   ],
   "source": [
    "# Graph of Top 10 Platforms and Year_of_Release with most EU_Sales\n",
    "TopPlatformsbyEUSalesPerYear.plot(kind=\"bar\", rot=45),\n",
    "plt.title(\"Top 10 Platform and Years with most EU Sales\", fontsize=20), \n",
    "plt.ylabel(\"\"),\n",
    "plt.xlabel(\"\"),\n",
    "plt.legend(\"\"),\n",
    "ticks = list(range(0, 70, 10))\n",
    "plt.yticks(ticks, [f\"${x} M\" for x in ticks])\n",
    "sns.set_style(\"darkgrid\")\n",
    "print(\"This graph is a represents the platfor PS2 in the year 2002, as having the most EU sales.\")"
   ]
  },
  {
   "cell_type": "code",
   "execution_count": 31,
   "metadata": {},
   "outputs": [
    {
     "data": {
      "text/html": [
       "<div>\n",
       "<style scoped>\n",
       "    .dataframe tbody tr th:only-of-type {\n",
       "        vertical-align: middle;\n",
       "    }\n",
       "\n",
       "    .dataframe tbody tr th {\n",
       "        vertical-align: top;\n",
       "    }\n",
       "\n",
       "    .dataframe thead th {\n",
       "        text-align: right;\n",
       "    }\n",
       "</style>\n",
       "<table border=\"1\" class=\"dataframe\">\n",
       "  <thead>\n",
       "    <tr style=\"text-align: right;\">\n",
       "      <th></th>\n",
       "      <th>EU_Sales</th>\n",
       "    </tr>\n",
       "    <tr>\n",
       "      <th>Year_of_Release</th>\n",
       "      <th></th>\n",
       "    </tr>\n",
       "  </thead>\n",
       "  <tbody>\n",
       "    <tr>\n",
       "      <th>2009</th>\n",
       "      <td>187.94</td>\n",
       "    </tr>\n",
       "    <tr>\n",
       "      <th>2008</th>\n",
       "      <td>181.14</td>\n",
       "    </tr>\n",
       "    <tr>\n",
       "      <th>2010</th>\n",
       "      <td>171.42</td>\n",
       "    </tr>\n",
       "    <tr>\n",
       "      <th>2011</th>\n",
       "      <td>162.97</td>\n",
       "    </tr>\n",
       "    <tr>\n",
       "      <th>2007</th>\n",
       "      <td>157.82</td>\n",
       "    </tr>\n",
       "    <tr>\n",
       "      <th>2006</th>\n",
       "      <td>127.89</td>\n",
       "    </tr>\n",
       "    <tr>\n",
       "      <th>2014</th>\n",
       "      <td>122.74</td>\n",
       "    </tr>\n",
       "    <tr>\n",
       "      <th>2013</th>\n",
       "      <td>121.55</td>\n",
       "    </tr>\n",
       "    <tr>\n",
       "      <th>2005</th>\n",
       "      <td>121.11</td>\n",
       "    </tr>\n",
       "    <tr>\n",
       "      <th>2012</th>\n",
       "      <td>114.59</td>\n",
       "    </tr>\n",
       "  </tbody>\n",
       "</table>\n",
       "</div>"
      ],
      "text/plain": [
       "                 EU_Sales\n",
       "Year_of_Release          \n",
       "2009               187.94\n",
       "2008               181.14\n",
       "2010               171.42\n",
       "2011               162.97\n",
       "2007               157.82\n",
       "2006               127.89\n",
       "2014               122.74\n",
       "2013               121.55\n",
       "2005               121.11\n",
       "2012               114.59"
      ]
     },
     "execution_count": 31,
     "metadata": {},
     "output_type": "execute_result"
    }
   ],
   "source": [
    "# Top 10 Year_of_Release with most EU_Sales\n",
    "TopEUSalesByYear = VideoGameSalesNew.groupby(\"Year_of_Release\").sum()[\"EU_Sales\"].sort_values(ascending=False)[:10]\n",
    "TopEUSalesByYear = pd.DataFrame(TopEUSalesByYear)\n",
    "TopEUSalesByYear"
   ]
  },
  {
   "cell_type": "code",
   "execution_count": 32,
   "metadata": {},
   "outputs": [
    {
     "name": "stdout",
     "output_type": "stream",
     "text": [
      "This graph represents the year 2009 as having the most EU sales.\n"
     ]
    },
    {
     "data": {
      "image/png": "[encoded data removed]",
      "text/plain": [
       "<Figure size 640x480 with 1 Axes>"
      ]
     },
     "metadata": {},
     "output_type": "display_data"
    }
   ],
   "source": [
    "# Graph of Top 10 Year_of_Releas with most EU_Sales\n",
    "TopEUSalesByYear.plot(kind=\"bar\", rot=0),\n",
    "plt.title(\"Top 10 Years with most EU Sales\", fontsize=20), \n",
    "plt.xlabel(\"\"),\n",
    "plt.ylabel(\"\"),\n",
    "plt.legend(\"\"),\n",
    "ticks = list(range(0, 200, 25))\n",
    "plt.yticks(ticks, [f\"${x} M\" for x in ticks]),\n",
    "sns.set_style(\"darkgrid\")\n",
    "print(\"This graph represents the year 2009 as having the most EU sales.\")"
   ]
  },
  {
   "cell_type": "code",
   "execution_count": 33,
   "metadata": {},
   "outputs": [
    {
     "data": {
      "text/html": [
       "<div>\n",
       "<style scoped>\n",
       "    .dataframe tbody tr th:only-of-type {\n",
       "        vertical-align: middle;\n",
       "    }\n",
       "\n",
       "    .dataframe tbody tr th {\n",
       "        vertical-align: top;\n",
       "    }\n",
       "\n",
       "    .dataframe thead th {\n",
       "        text-align: right;\n",
       "    }\n",
       "</style>\n",
       "<table border=\"1\" class=\"dataframe\">\n",
       "  <thead>\n",
       "    <tr style=\"text-align: right;\">\n",
       "      <th></th>\n",
       "      <th></th>\n",
       "      <th>JP_Sales</th>\n",
       "    </tr>\n",
       "    <tr>\n",
       "      <th>Year_of_Release</th>\n",
       "      <th>Platform</th>\n",
       "      <th></th>\n",
       "    </tr>\n",
       "  </thead>\n",
       "  <tbody>\n",
       "    <tr>\n",
       "      <th>2006</th>\n",
       "      <th>DS</th>\n",
       "      <td>38.56</td>\n",
       "    </tr>\n",
       "    <tr>\n",
       "      <th>1997</th>\n",
       "      <th>PS</th>\n",
       "      <td>33.10</td>\n",
       "    </tr>\n",
       "    <tr>\n",
       "      <th>2005</th>\n",
       "      <th>DS</th>\n",
       "      <td>29.86</td>\n",
       "    </tr>\n",
       "    <tr>\n",
       "      <th>1998</th>\n",
       "      <th>PS</th>\n",
       "      <td>28.48</td>\n",
       "    </tr>\n",
       "    <tr>\n",
       "      <th>1999</th>\n",
       "      <th>PS</th>\n",
       "      <td>28.07</td>\n",
       "    </tr>\n",
       "    <tr>\n",
       "      <th>2007</th>\n",
       "      <th>DS</th>\n",
       "      <td>26.81</td>\n",
       "    </tr>\n",
       "    <tr>\n",
       "      <th>2009</th>\n",
       "      <th>DS</th>\n",
       "      <td>24.21</td>\n",
       "    </tr>\n",
       "    <tr>\n",
       "      <th>2008</th>\n",
       "      <th>DS</th>\n",
       "      <td>24.01</td>\n",
       "    </tr>\n",
       "    <tr>\n",
       "      <th>2013</th>\n",
       "      <th>3DS</th>\n",
       "      <td>23.57</td>\n",
       "    </tr>\n",
       "    <tr>\n",
       "      <th>1993</th>\n",
       "      <th>SNES</th>\n",
       "      <td>23.21</td>\n",
       "    </tr>\n",
       "  </tbody>\n",
       "</table>\n",
       "</div>"
      ],
      "text/plain": [
       "                          JP_Sales\n",
       "Year_of_Release Platform          \n",
       "2006            DS           38.56\n",
       "1997            PS           33.10\n",
       "2005            DS           29.86\n",
       "1998            PS           28.48\n",
       "1999            PS           28.07\n",
       "2007            DS           26.81\n",
       "2009            DS           24.21\n",
       "2008            DS           24.01\n",
       "2013            3DS          23.57\n",
       "1993            SNES         23.21"
      ]
     },
     "execution_count": 33,
     "metadata": {},
     "output_type": "execute_result"
    }
   ],
   "source": [
    "# Top 10 Platforms and Year_of_Release with most JP_Sales\n",
    "TopPlatformsbyJPSalesPerYear = VideoGameSalesNew.groupby([\"Year_of_Release\", \"Platform\"]).sum()[\"JP_Sales\"].sort_values(ascending=False)[:10]\n",
    "TopPlatformsbyJPSalesPerYear = pd.DataFrame(TopPlatformsbyJPSalesPerYear)\n",
    "TopPlatformsbyJPSalesPerYear"
   ]
  },
  {
   "cell_type": "code",
   "execution_count": 34,
   "metadata": {},
   "outputs": [
    {
     "name": "stdout",
     "output_type": "stream",
     "text": [
      "This graph represents the platform DS in the year 2006, having the most JP sales.  \n"
     ]
    },
    {
     "data": {
      "image/png": "[encoded data removed]",
      "text/plain": [
       "<Figure size 640x480 with 1 Axes>"
      ]
     },
     "metadata": {},
     "output_type": "display_data"
    }
   ],
   "source": [
    "# Graph of Top 10 Platforms and Year_of_Release with most JP_Sales\n",
    "TopPlatformsbyJPSalesPerYear.plot(kind=\"barh\"),\n",
    "plt.title(\"Top 10 Platforms and Years with most JP Sales\", fontsize=20),\n",
    "plt.ylabel(\"\"),\n",
    "plt.xlabel(\"\"),\n",
    "plt.legend(\"\"),\n",
    "ticks = list(range(0, 45, 5))\n",
    "plt.xticks(ticks, [f\"${x} M\" for x in ticks]),\n",
    "sns.set_style(\"darkgrid\")\n",
    "print(\"This graph represents the platform DS in the year 2006, having the most JP sales.  \")"
   ]
  },
  {
   "cell_type": "code",
   "execution_count": 35,
   "metadata": {},
   "outputs": [
    {
     "data": {
      "text/html": [
       "<div>\n",
       "<style scoped>\n",
       "    .dataframe tbody tr th:only-of-type {\n",
       "        vertical-align: middle;\n",
       "    }\n",
       "\n",
       "    .dataframe tbody tr th {\n",
       "        vertical-align: top;\n",
       "    }\n",
       "\n",
       "    .dataframe thead th {\n",
       "        text-align: right;\n",
       "    }\n",
       "</style>\n",
       "<table border=\"1\" class=\"dataframe\">\n",
       "  <thead>\n",
       "    <tr style=\"text-align: right;\">\n",
       "      <th></th>\n",
       "      <th>JP_Sales</th>\n",
       "    </tr>\n",
       "    <tr>\n",
       "      <th>Year_of_Release</th>\n",
       "      <th></th>\n",
       "    </tr>\n",
       "  </thead>\n",
       "  <tbody>\n",
       "    <tr>\n",
       "      <th>2006</th>\n",
       "      <td>73.74</td>\n",
       "    </tr>\n",
       "    <tr>\n",
       "      <th>2009</th>\n",
       "      <td>61.89</td>\n",
       "    </tr>\n",
       "    <tr>\n",
       "      <th>2007</th>\n",
       "      <td>60.29</td>\n",
       "    </tr>\n",
       "    <tr>\n",
       "      <th>2008</th>\n",
       "      <td>60.25</td>\n",
       "    </tr>\n",
       "    <tr>\n",
       "      <th>2010</th>\n",
       "      <td>59.49</td>\n",
       "    </tr>\n",
       "    <tr>\n",
       "      <th>1996</th>\n",
       "      <td>57.44</td>\n",
       "    </tr>\n",
       "    <tr>\n",
       "      <th>2005</th>\n",
       "      <td>54.27</td>\n",
       "    </tr>\n",
       "    <tr>\n",
       "      <th>2011</th>\n",
       "      <td>53.07</td>\n",
       "    </tr>\n",
       "    <tr>\n",
       "      <th>1999</th>\n",
       "      <td>52.34</td>\n",
       "    </tr>\n",
       "    <tr>\n",
       "      <th>2012</th>\n",
       "      <td>51.80</td>\n",
       "    </tr>\n",
       "  </tbody>\n",
       "</table>\n",
       "</div>"
      ],
      "text/plain": [
       "                 JP_Sales\n",
       "Year_of_Release          \n",
       "2006                73.74\n",
       "2009                61.89\n",
       "2007                60.29\n",
       "2008                60.25\n",
       "2010                59.49\n",
       "1996                57.44\n",
       "2005                54.27\n",
       "2011                53.07\n",
       "1999                52.34\n",
       "2012                51.80"
      ]
     },
     "execution_count": 35,
     "metadata": {},
     "output_type": "execute_result"
    }
   ],
   "source": [
    "# Top 10 Year_of_Release with most JP_Sales\n",
    "TopJPSalesByYear = VideoGameSalesNew.groupby(\"Year_of_Release\").sum()[\"JP_Sales\"].sort_values(ascending=False)[:10]\n",
    "TopJPSalesByYear = pd.DataFrame(TopJPSalesByYear)\n",
    "TopJPSalesByYear"
   ]
  },
  {
   "cell_type": "code",
   "execution_count": 36,
   "metadata": {},
   "outputs": [
    {
     "name": "stdout",
     "output_type": "stream",
     "text": [
      "This graph shows that the year 2008 had the most sales.\n"
     ]
    },
    {
     "data": {
      "image/png": "[encoded data removed]",
      "text/plain": [
       "<Figure size 640x480 with 1 Axes>"
      ]
     },
     "metadata": {},
     "output_type": "display_data"
    }
   ],
   "source": [
    "# Graph of Top 10 Year_of_Release with most JP_Sales\n",
    "TopJPSalesByYear.plot(kind=\"bar\", rot=0),\n",
    "plt.title(\"Top 10 Years with most JP Sales\", fontsize=20),\n",
    "plt.legend(\"\"),\n",
    "plt.xlabel(\"\"),\n",
    "plt.ylabel(\"\"),\n",
    "ticks = list(range(0, 70, 10))\n",
    "plt.yticks(ticks, [f\"${x} M\" for x in ticks])\n",
    "sns.set_style(\"darkgrid\")\n",
    "print(\"This graph shows that the year 2008 had the most sales.\")"
   ]
  },
  {
   "cell_type": "code",
   "execution_count": 37,
   "metadata": {},
   "outputs": [
    {
     "data": {
      "text/html": [
       "<div>\n",
       "<style scoped>\n",
       "    .dataframe tbody tr th:only-of-type {\n",
       "        vertical-align: middle;\n",
       "    }\n",
       "\n",
       "    .dataframe tbody tr th {\n",
       "        vertical-align: top;\n",
       "    }\n",
       "\n",
       "    .dataframe thead th {\n",
       "        text-align: right;\n",
       "    }\n",
       "</style>\n",
       "<table border=\"1\" class=\"dataframe\">\n",
       "  <thead>\n",
       "    <tr style=\"text-align: right;\">\n",
       "      <th></th>\n",
       "      <th></th>\n",
       "      <th>Other_Sales</th>\n",
       "    </tr>\n",
       "    <tr>\n",
       "      <th>Year_of_Release</th>\n",
       "      <th>Platform</th>\n",
       "      <th></th>\n",
       "    </tr>\n",
       "  </thead>\n",
       "  <tbody>\n",
       "    <tr>\n",
       "      <th>2004</th>\n",
       "      <th>PS2</th>\n",
       "      <td>39.85</td>\n",
       "    </tr>\n",
       "    <tr>\n",
       "      <th>2007</th>\n",
       "      <th>PS2</th>\n",
       "      <td>23.69</td>\n",
       "    </tr>\n",
       "    <tr>\n",
       "      <th>2002</th>\n",
       "      <th>PS2</th>\n",
       "      <td>21.72</td>\n",
       "    </tr>\n",
       "    <tr>\n",
       "      <th>2011</th>\n",
       "      <th>PS3</th>\n",
       "      <td>21.56</td>\n",
       "    </tr>\n",
       "    <tr>\n",
       "      <th>2010</th>\n",
       "      <th>PS3</th>\n",
       "      <td>20.81</td>\n",
       "    </tr>\n",
       "    <tr>\n",
       "      <th>2003</th>\n",
       "      <th>PS2</th>\n",
       "      <td>20.69</td>\n",
       "    </tr>\n",
       "    <tr>\n",
       "      <th>2008</th>\n",
       "      <th>PS2</th>\n",
       "      <td>19.31</td>\n",
       "    </tr>\n",
       "    <tr>\n",
       "      <th>2005</th>\n",
       "      <th>PS2</th>\n",
       "      <td>19.15</td>\n",
       "    </tr>\n",
       "    <tr>\n",
       "      <th>2015</th>\n",
       "      <th>PS4</th>\n",
       "      <td>18.46</td>\n",
       "    </tr>\n",
       "    <tr>\n",
       "      <th>2009</th>\n",
       "      <th>PS3</th>\n",
       "      <td>17.85</td>\n",
       "    </tr>\n",
       "  </tbody>\n",
       "</table>\n",
       "</div>"
      ],
      "text/plain": [
       "                          Other_Sales\n",
       "Year_of_Release Platform             \n",
       "2004            PS2             39.85\n",
       "2007            PS2             23.69\n",
       "2002            PS2             21.72\n",
       "2011            PS3             21.56\n",
       "2010            PS3             20.81\n",
       "2003            PS2             20.69\n",
       "2008            PS2             19.31\n",
       "2005            PS2             19.15\n",
       "2015            PS4             18.46\n",
       "2009            PS3             17.85"
      ]
     },
     "execution_count": 37,
     "metadata": {},
     "output_type": "execute_result"
    }
   ],
   "source": [
    "# Top 10 Platforms and Year_of_Release with most Other_Sales\n",
    "TopPlatformsbyOtherSalesPerYear = VideoGameSalesNew.groupby([\"Year_of_Release\", \"Platform\"]).sum()[\"Other_Sales\"].sort_values(ascending=False)[:10]\n",
    "TopPlatformsbyOtherSalesPerYear = pd.DataFrame(TopPlatformsbyOtherSalesPerYear)\n",
    "TopPlatformsbyOtherSalesPerYear"
   ]
  },
  {
   "cell_type": "code",
   "execution_count": 38,
   "metadata": {},
   "outputs": [
    {
     "name": "stdout",
     "output_type": "stream",
     "text": [
      "This graph represents the platform PS2 and the year 2004, having the most Other sales.\n"
     ]
    },
    {
     "data": {
      "image/png": "[encoded data removed]",
      "text/plain": [
       "<Figure size 640x480 with 1 Axes>"
      ]
     },
     "metadata": {},
     "output_type": "display_data"
    }
   ],
   "source": [
    "# Graph of Top 10 Platforms and Year_of_Release with most Other_Sales\n",
    "TopPlatformsbyOtherSalesPerYear.plot(kind=\"bar\", rot=45),\n",
    "plt.title(\"Top 10 Platform and Years with most Other Sales\", fontsize=20),\n",
    "plt.legend(\"\"),\n",
    "plt.xlabel(\"\"),\n",
    "plt.ylabel(\"\"),\n",
    "ticks = list(range(0, 40, 5))\n",
    "plt.yticks(ticks, [f\"${x} M\" for x in ticks]),\n",
    "sns.set_style(\"darkgrid\")\n",
    "print(\"This graph represents the platform PS2 and the year 2004, having the most Other sales.\")"
   ]
  },
  {
   "cell_type": "code",
   "execution_count": 39,
   "metadata": {},
   "outputs": [
    {
     "data": {
      "text/html": [
       "<div>\n",
       "<style scoped>\n",
       "    .dataframe tbody tr th:only-of-type {\n",
       "        vertical-align: middle;\n",
       "    }\n",
       "\n",
       "    .dataframe tbody tr th {\n",
       "        vertical-align: top;\n",
       "    }\n",
       "\n",
       "    .dataframe thead th {\n",
       "        text-align: right;\n",
       "    }\n",
       "</style>\n",
       "<table border=\"1\" class=\"dataframe\">\n",
       "  <thead>\n",
       "    <tr style=\"text-align: right;\">\n",
       "      <th></th>\n",
       "      <th>Other_Sales</th>\n",
       "    </tr>\n",
       "    <tr>\n",
       "      <th>Year_of_Release</th>\n",
       "      <th></th>\n",
       "    </tr>\n",
       "  </thead>\n",
       "  <tbody>\n",
       "    <tr>\n",
       "      <th>2008</th>\n",
       "      <td>81.42</td>\n",
       "    </tr>\n",
       "    <tr>\n",
       "      <th>2007</th>\n",
       "      <td>76.75</td>\n",
       "    </tr>\n",
       "    <tr>\n",
       "      <th>2009</th>\n",
       "      <td>73.44</td>\n",
       "    </tr>\n",
       "    <tr>\n",
       "      <th>2010</th>\n",
       "      <td>58.57</td>\n",
       "    </tr>\n",
       "    <tr>\n",
       "      <th>2006</th>\n",
       "      <td>53.95</td>\n",
       "    </tr>\n",
       "    <tr>\n",
       "      <th>2011</th>\n",
       "      <td>52.75</td>\n",
       "    </tr>\n",
       "    <tr>\n",
       "      <th>2004</th>\n",
       "      <td>47.24</td>\n",
       "    </tr>\n",
       "    <tr>\n",
       "      <th>2005</th>\n",
       "      <td>40.29</td>\n",
       "    </tr>\n",
       "    <tr>\n",
       "      <th>2013</th>\n",
       "      <td>38.35</td>\n",
       "    </tr>\n",
       "    <tr>\n",
       "      <th>2014</th>\n",
       "      <td>36.83</td>\n",
       "    </tr>\n",
       "  </tbody>\n",
       "</table>\n",
       "</div>"
      ],
      "text/plain": [
       "                 Other_Sales\n",
       "Year_of_Release             \n",
       "2008                   81.42\n",
       "2007                   76.75\n",
       "2009                   73.44\n",
       "2010                   58.57\n",
       "2006                   53.95\n",
       "2011                   52.75\n",
       "2004                   47.24\n",
       "2005                   40.29\n",
       "2013                   38.35\n",
       "2014                   36.83"
      ]
     },
     "execution_count": 39,
     "metadata": {},
     "output_type": "execute_result"
    }
   ],
   "source": [
    "# Top 10 Year_of_Release with most Other_Sales\n",
    "TopOtherSalesByYear = VideoGameSalesNew.groupby(\"Year_of_Release\").sum()[\"Other_Sales\"].sort_values(ascending=False)[:10]\n",
    "TopOtherSalesByYear = pd.DataFrame(TopOtherSalesByYear)\n",
    "TopOtherSalesByYear"
   ]
  },
  {
   "cell_type": "code",
   "execution_count": 40,
   "metadata": {},
   "outputs": [
    {
     "name": "stdout",
     "output_type": "stream",
     "text": [
      "This graphs represents the top 10 years with the most 'Other Sales', with 2008 being number one.\n"
     ]
    },
    {
     "data": {
      "image/png": "[encoded data removed]",
      "text/plain": [
       "<Figure size 640x480 with 1 Axes>"
      ]
     },
     "metadata": {},
     "output_type": "display_data"
    }
   ],
   "source": [
    "# Graph of Top 10 Year_of_Release with most Other_Sales\n",
    "TopOtherSalesByYear.plot(kind=\"bar\", rot=0),\n",
    "plt.title(\"Top 10 Years with most Other Sales\", fontsize=20),\n",
    "plt.legend(\"\"),\n",
    "plt.xlabel(\"\"),\n",
    "plt.ylabel(\"\"),\n",
    "ticks = list(range(0, 80, 10))\n",
    "plt.yticks(ticks, [f\"${x} M\" for x in ticks]),\n",
    "sns.set_style(\"darkgrid\")\n",
    "print(f\"This graphs represents the top 10 years with the most 'Other Sales', with 2008 being number one.\")"
   ]
  },
  {
   "cell_type": "code",
   "execution_count": 41,
   "metadata": {},
   "outputs": [
    {
     "data": {
      "text/html": [
       "<div>\n",
       "<style scoped>\n",
       "    .dataframe tbody tr th:only-of-type {\n",
       "        vertical-align: middle;\n",
       "    }\n",
       "\n",
       "    .dataframe tbody tr th {\n",
       "        vertical-align: top;\n",
       "    }\n",
       "\n",
       "    .dataframe thead th {\n",
       "        text-align: right;\n",
       "    }\n",
       "</style>\n",
       "<table border=\"1\" class=\"dataframe\">\n",
       "  <thead>\n",
       "    <tr style=\"text-align: right;\">\n",
       "      <th></th>\n",
       "      <th></th>\n",
       "      <th>Global_Sales</th>\n",
       "    </tr>\n",
       "    <tr>\n",
       "      <th>Year_of_Release</th>\n",
       "      <th>Platform</th>\n",
       "      <th></th>\n",
       "    </tr>\n",
       "  </thead>\n",
       "  <tbody>\n",
       "    <tr>\n",
       "      <th>2004</th>\n",
       "      <th>PS2</th>\n",
       "      <td>211.78</td>\n",
       "    </tr>\n",
       "    <tr>\n",
       "      <th>2009</th>\n",
       "      <th>Wii</th>\n",
       "      <td>207.08</td>\n",
       "    </tr>\n",
       "    <tr>\n",
       "      <th>2002</th>\n",
       "      <th>PS2</th>\n",
       "      <td>205.40</td>\n",
       "    </tr>\n",
       "    <tr>\n",
       "      <th>2003</th>\n",
       "      <th>PS2</th>\n",
       "      <td>184.29</td>\n",
       "    </tr>\n",
       "    <tr>\n",
       "      <th>2008</th>\n",
       "      <th>Wii</th>\n",
       "      <td>171.45</td>\n",
       "    </tr>\n",
       "    <tr>\n",
       "      <th>2010</th>\n",
       "      <th>X360</th>\n",
       "      <td>170.08</td>\n",
       "    </tr>\n",
       "    <tr>\n",
       "      <th>1998</th>\n",
       "      <th>PS</th>\n",
       "      <td>169.58</td>\n",
       "    </tr>\n",
       "    <tr>\n",
       "      <th>2001</th>\n",
       "      <th>PS2</th>\n",
       "      <td>166.43</td>\n",
       "    </tr>\n",
       "    <tr>\n",
       "      <th>2005</th>\n",
       "      <th>PS2</th>\n",
       "      <td>160.65</td>\n",
       "    </tr>\n",
       "    <tr>\n",
       "      <th>2011</th>\n",
       "      <th>PS3</th>\n",
       "      <td>156.79</td>\n",
       "    </tr>\n",
       "  </tbody>\n",
       "</table>\n",
       "</div>"
      ],
      "text/plain": [
       "                          Global_Sales\n",
       "Year_of_Release Platform              \n",
       "2004            PS2             211.78\n",
       "2009            Wii             207.08\n",
       "2002            PS2             205.40\n",
       "2003            PS2             184.29\n",
       "2008            Wii             171.45\n",
       "2010            X360            170.08\n",
       "1998            PS              169.58\n",
       "2001            PS2             166.43\n",
       "2005            PS2             160.65\n",
       "2011            PS3             156.79"
      ]
     },
     "execution_count": 41,
     "metadata": {},
     "output_type": "execute_result"
    }
   ],
   "source": [
    "# Top 10 Platforms and Year_of_Release with most Global_Sales\n",
    "TopPlatformsbyGlobalSalesPerYear = VideoGameSalesNew.groupby([\"Year_of_Release\", \"Platform\"]).sum()[\"Global_Sales\"].sort_values(ascending=False)[:10]\n",
    "TopPlatformsbyGlobalSalesPerYear = pd.DataFrame(TopPlatformsbyGlobalSalesPerYear)\n",
    "TopPlatformsbyGlobalSalesPerYear"
   ]
  },
  {
   "cell_type": "code",
   "execution_count": 42,
   "metadata": {},
   "outputs": [
    {
     "name": "stdout",
     "output_type": "stream",
     "text": [
      "This graph shows us that the platform PS2, in the year 2004, produced the most global sales!\n"
     ]
    },
    {
     "data": {
      "image/png": "[encoded data removed]",
      "text/plain": [
       "<Figure size 640x480 with 1 Axes>"
      ]
     },
     "metadata": {},
     "output_type": "display_data"
    }
   ],
   "source": [
    "# Graph of Top 10 Platforms and Year_of_Release with most Global_Sales\n",
    "TopPlatformsbyGlobalSalesPerYear.plot(kind=\"barh\"),\n",
    "plt.title(\"Top 10 Platforms and Years with most Global Sales\", fontsize=20),\n",
    "plt.legend(\"\"),\n",
    "plt.ylabel(\"\"),\n",
    "plt.xlabel(\"\"),\n",
    "ticks = list(range(0, 200, 25))\n",
    "plt.xticks(ticks, [f\"${x} M\" for x in ticks]),\n",
    "sns.set_style(\"darkgrid\")\n",
    "print(f\"This graph shows us that the platform PS2, in the year 2004, produced the most global sales!\")"
   ]
  },
  {
   "cell_type": "code",
   "execution_count": 43,
   "metadata": {},
   "outputs": [
    {
     "data": {
      "text/html": [
       "<div>\n",
       "<style scoped>\n",
       "    .dataframe tbody tr th:only-of-type {\n",
       "        vertical-align: middle;\n",
       "    }\n",
       "\n",
       "    .dataframe tbody tr th {\n",
       "        vertical-align: top;\n",
       "    }\n",
       "\n",
       "    .dataframe thead th {\n",
       "        text-align: right;\n",
       "    }\n",
       "</style>\n",
       "<table border=\"1\" class=\"dataframe\">\n",
       "  <thead>\n",
       "    <tr style=\"text-align: right;\">\n",
       "      <th></th>\n",
       "      <th>Global_Sales</th>\n",
       "    </tr>\n",
       "    <tr>\n",
       "      <th>Year_of_Release</th>\n",
       "      <th></th>\n",
       "    </tr>\n",
       "  </thead>\n",
       "  <tbody>\n",
       "    <tr>\n",
       "      <th>2008</th>\n",
       "      <td>671.79</td>\n",
       "    </tr>\n",
       "    <tr>\n",
       "      <th>2009</th>\n",
       "      <td>658.88</td>\n",
       "    </tr>\n",
       "    <tr>\n",
       "      <th>2007</th>\n",
       "      <td>605.37</td>\n",
       "    </tr>\n",
       "    <tr>\n",
       "      <th>2010</th>\n",
       "      <td>590.59</td>\n",
       "    </tr>\n",
       "    <tr>\n",
       "      <th>2006</th>\n",
       "      <td>518.22</td>\n",
       "    </tr>\n",
       "    <tr>\n",
       "      <th>2011</th>\n",
       "      <td>507.79</td>\n",
       "    </tr>\n",
       "    <tr>\n",
       "      <th>2005</th>\n",
       "      <td>458.31</td>\n",
       "    </tr>\n",
       "    <tr>\n",
       "      <th>2004</th>\n",
       "      <td>419.05</td>\n",
       "    </tr>\n",
       "    <tr>\n",
       "      <th>2002</th>\n",
       "      <td>395.51</td>\n",
       "    </tr>\n",
       "    <tr>\n",
       "      <th>2013</th>\n",
       "      <td>361.24</td>\n",
       "    </tr>\n",
       "  </tbody>\n",
       "</table>\n",
       "</div>"
      ],
      "text/plain": [
       "                 Global_Sales\n",
       "Year_of_Release              \n",
       "2008                   671.79\n",
       "2009                   658.88\n",
       "2007                   605.37\n",
       "2010                   590.59\n",
       "2006                   518.22\n",
       "2011                   507.79\n",
       "2005                   458.31\n",
       "2004                   419.05\n",
       "2002                   395.51\n",
       "2013                   361.24"
      ]
     },
     "execution_count": 43,
     "metadata": {},
     "output_type": "execute_result"
    }
   ],
   "source": [
    "# Top 10 Year_of_Release with most Global_Sales\n",
    "TopGlobalSalesByYear = VideoGameSalesNew.groupby(\"Year_of_Release\").sum()[\"Global_Sales\"].sort_values(ascending=False)[:10]\n",
    "TopGlobalSalesByYear = pd.DataFrame(TopGlobalSalesByYear)\n",
    "TopGlobalSalesByYear\n"
   ]
  },
  {
   "cell_type": "code",
   "execution_count": 44,
   "metadata": {},
   "outputs": [
    {
     "name": "stdout",
     "output_type": "stream",
     "text": [
      "This graph shows us that the year 2008 produced the most global sales.\n"
     ]
    },
    {
     "data": {
      "image/png": "[encoded data removed]",
      "text/plain": [
       "<Figure size 640x480 with 1 Axes>"
      ]
     },
     "metadata": {},
     "output_type": "display_data"
    }
   ],
   "source": [
    "# Graph of Top 10 Year_of_Release with most Global_Sales\n",
    "TopGlobalSalesByYear.plot(kind=\"bar\", rot=0),\n",
    "plt.title(\"Top 10 Years with most Global Sales\", fontsize=20),\n",
    "plt.legend(\"\"),\n",
    "plt.xlabel(\"\"),\n",
    "plt.ylabel(\"\"),\n",
    "ticks = list(range(0, 700, 100))\n",
    "plt.yticks(ticks, [f\"${x} M\" for x in ticks]),\n",
    "sns.set_style(\"darkgrid\")\n",
    "print(f\"This graph shows us that the year 2008 produced the most global sales.\")"
   ]
  },
  {
   "cell_type": "code",
   "execution_count": 45,
   "metadata": {},
   "outputs": [
    {
     "name": "stdout",
     "output_type": "stream",
     "text": [
      "Total sales for NA_Sales = 4343.47\n"
     ]
    }
   ],
   "source": [
    "# Calculating the total saled for the NA region\n",
    "NA_Sales_Total = VideoGameSalesNew[\"NA_Sales\"].sum()\n",
    "NA_Sales_Total\n",
    "print(\"Total sales for NA_Sales =\", NA_Sales_Total)\n"
   ]
  },
  {
   "cell_type": "code",
   "execution_count": 46,
   "metadata": {},
   "outputs": [
    {
     "name": "stdout",
     "output_type": "stream",
     "text": [
      "Total sales for EU_Sales = 2400.21\n"
     ]
    }
   ],
   "source": [
    "# Calculating the total sales for the EU region\n",
    "EU_Sales_Total = VideoGameSalesNew[\"EU_Sales\"].sum()\n",
    "EU_Sales_Total\n",
    "print(\"Total sales for EU_Sales =\", EU_Sales_Total)"
   ]
  },
  {
   "cell_type": "code",
   "execution_count": 47,
   "metadata": {},
   "outputs": [
    {
     "name": "stdout",
     "output_type": "stream",
     "text": [
      "Total sales for JP_Sales = 1290.7299999999998\n"
     ]
    }
   ],
   "source": [
    "# Calculating the total sales for the JP region\n",
    "JP_Sales_Total = VideoGameSalesNew[\"JP_Sales\"].sum()\n",
    "JP_Sales_Total\n",
    "print(\"Total sales for JP_Sales =\", JP_Sales_Total)"
   ]
  },
  {
   "cell_type": "code",
   "execution_count": 48,
   "metadata": {},
   "outputs": [
    {
     "name": "stdout",
     "output_type": "stream",
     "text": [
      "Total sales for Other_Sales = 782.73\n"
     ]
    }
   ],
   "source": [
    "# Calculating the total sales for the Other region\n",
    "Other_Sales_Total = VideoGameSalesNew[\"Other_Sales\"].sum()\n",
    "Other_Sales_Total\n",
    "print(\"Total sales for Other_Sales =\", Other_Sales_Total)"
   ]
  },
  {
   "cell_type": "code",
   "execution_count": 49,
   "metadata": {},
   "outputs": [
    {
     "data": {
      "text/html": [
       "<div>\n",
       "<style scoped>\n",
       "    .dataframe tbody tr th:only-of-type {\n",
       "        vertical-align: middle;\n",
       "    }\n",
       "\n",
       "    .dataframe tbody tr th {\n",
       "        vertical-align: top;\n",
       "    }\n",
       "\n",
       "    .dataframe thead th {\n",
       "        text-align: right;\n",
       "    }\n",
       "</style>\n",
       "<table border=\"1\" class=\"dataframe\">\n",
       "  <thead>\n",
       "    <tr style=\"text-align: right;\">\n",
       "      <th></th>\n",
       "      <th>Name</th>\n",
       "      <th>Profit</th>\n",
       "    </tr>\n",
       "  </thead>\n",
       "  <tbody>\n",
       "    <tr>\n",
       "      <th>0</th>\n",
       "      <td>NA</td>\n",
       "      <td>4343.47</td>\n",
       "    </tr>\n",
       "    <tr>\n",
       "      <th>1</th>\n",
       "      <td>EU</td>\n",
       "      <td>2400.21</td>\n",
       "    </tr>\n",
       "    <tr>\n",
       "      <th>2</th>\n",
       "      <td>JP</td>\n",
       "      <td>1290.73</td>\n",
       "    </tr>\n",
       "    <tr>\n",
       "      <th>3</th>\n",
       "      <td>Other</td>\n",
       "      <td>782.73</td>\n",
       "    </tr>\n",
       "  </tbody>\n",
       "</table>\n",
       "</div>"
      ],
      "text/plain": [
       "    Name   Profit\n",
       "0     NA  4343.47\n",
       "1     EU  2400.21\n",
       "2     JP  1290.73\n",
       "3  Other   782.73"
      ]
     },
     "execution_count": 49,
     "metadata": {},
     "output_type": "execute_result"
    }
   ],
   "source": [
    "# Creating a DataFrame for the total sales of all regions\n",
    "Sales = {\"Name\": [\"NA\", \"EU\", \"JP\", \"Other\"],\n",
    "         \"Profit\": pd.Series([NA_Sales_Total, EU_Sales_Total, JP_Sales_Total, Other_Sales_Total])}\n",
    "Game_Sales = pd.DataFrame(Sales)\n",
    "Game_Sales      "
   ]
  },
  {
   "cell_type": "code",
   "execution_count": 53,
   "metadata": {},
   "outputs": [
    {
     "name": "stdout",
     "output_type": "stream",
     "text": [
      "This bar graph shows us that the North American regions has generated the most Sales of all regions.\n"
     ]
    },
    {
     "data": {
      "image/png": "[encoded data removed]",
      "text/plain": [
       "<Figure size 640x480 with 1 Axes>"
      ]
     },
     "metadata": {},
     "output_type": "display_data"
    }
   ],
   "source": [
    "\n",
    "# Graph of the Total Sales of all Regions\n",
    "Game_Sales.plot(kind=\"bar\", rot=0),\n",
    "plt.title(\"Total Sales by Region\", fontsize=20), \n",
    "plt.legend(\"\"),\n",
    "plt.ylabel(\"\"),\n",
    "ticks = list(range(0, 5000, 1000))\n",
    "plt.yticks(ticks, [f\"${x} M\" for x in ticks])\n",
    "plt.xticks([0,1,2,3], [\"NA\", \"EU\", \"JP\", \"Other\"]),\n",
    "sns.set_style(\"darkgrid\")\n",
    "print(f\"This bar graph shows us that the North American regions has generated the most Sales of all regions.\")"
   ]
  },
  {
   "cell_type": "code",
   "execution_count": null,
   "metadata": {},
   "outputs": [
    {
     "name": "stdout",
     "output_type": "stream",
     "text": [
      "This pie chart illustrates how much of the total sales per region are distributed.\n"
     ]
    },
    {
     "data": {
      "image/png": "[encoded data removed]",
      "text/plain": [
       "<Figure size 640x480 with 1 Axes>"
      ]
     },
     "metadata": {},
     "output_type": "display_data"
    }
   ],
   "source": [
    "# Plotting a Pie Chart of Percent of Total Sales by Region\n",
    "e = [0.1,0, 0, 0]\n",
    "plt.pie(Game_Sales[\"Profit\"], labels=Game_Sales[\"Name\"], autopct=\"%1.1f%%\", explode=e, shadow=True),\n",
    "plt.title(\" Percentage of Total Sales by Region\", fontsize=20)\n",
    "print(f\"This pie chart illustrates how much of the total sales per region are distributed.\")"
   ]
  }
 ],
 "metadata": {
  "kernelspec": {
   "display_name": "base",
   "language": "python",
   "name": "python3"
  },
  "language_info": {
   "codemirror_mode": {
    "name": "ipython",
    "version": 3
   },
   "file_extension": ".py",
   "mimetype": "text/x-python",
   "name": "python",
   "nbconvert_exporter": "python",
   "pygments_lexer": "ipython3",
   "version": "3.9.13"
  }
 },
 "nbformat": 4,
 "nbformat_minor": 2
}

{
 "cells": [
  {
   "cell_type": "markdown",
   "metadata": {},
   "source": [
    "This dataset is from the mavenanalytics.io website. In this project, we will be analyzing a quarter's worth of orders from a fictitious restaurant serving international cuisisne, including the date and time of each order, the itmes ordered, and additional details on the type, name, and price of the items. \n",
    "\n",
    "Objective: The owner of the restaurant has reached out to us and asked us to comb through the data to identify any trends and to answer a few business questions. This task will completed by utilizing the power of python and its packages. \n",
    "\n",
    "Questions:\n",
    "\n",
    "What were the least and most ordered items?\n",
    "\n",
    "What categories weer they in?\n",
    "\n",
    "What do the highest spent orders look like?\n",
    "\n",
    "Which items did they buy and how much did they spend?\n",
    "\n",
    "Were there certain times that had more or less orders?\n",
    "\n",
    "Which cuisines should we focus on developing more menu items for based on the data?\n",
    "\n",
    "\n",
    "\n",
    "\n",
    "###### Lets begin with importing the neccessary libraries for proper analysis."
   ]
  },
  {
   "cell_type": "code",
   "execution_count": 4,
   "metadata": {},
   "outputs": [],
   "source": [
    "import numpy as np\n",
    "import pandas as pd   \n",
    "pd.set_option(\"display.max_columns\", None)\n",
    "pd.set_option(\"display.max_rows\", None)\n",
    "import matplotlib.pyplot as plt                \n",
    "from matplotlib import style \n",
    "style.use(\"ggplot\")\n",
    "%matplotlib inline \n",
    "import seaborn as sns   \n",
    "sns.set_style(\"darkgrid\")"
   ]
  },
  {
   "cell_type": "markdown",
   "metadata": {},
   "source": [
    "For this project, there are two different datasets that are associated with it. I will read those datasets into a dataframe and view the first and last three rows of that data to check for consistency."
   ]
  },
  {
   "cell_type": "code",
   "execution_count": 5,
   "metadata": {},
   "outputs": [],
   "source": [
    "menu_items = pd.read_csv(r\"C:\\Users\\mjaso\\Downloads\\Restaurant+Orders+CSV_Project\\menu_items.csv\")\n",
    "order_details = pd.read_csv(r\"C:\\Users\\mjaso\\Downloads\\Restaurant+Orders+CSV_Project\\order_details.csv\")"
   ]
  },
  {
   "cell_type": "code",
   "execution_count": 6,
   "metadata": {},
   "outputs": [
    {
     "data": {
      "text/html": [
       "<div>\n",
       "<style scoped>\n",
       "    .dataframe tbody tr th:only-of-type {\n",
       "        vertical-align: middle;\n",
       "    }\n",
       "\n",
       "    .dataframe tbody tr th {\n",
       "        vertical-align: top;\n",
       "    }\n",
       "\n",
       "    .dataframe thead th {\n",
       "        text-align: right;\n",
       "    }\n",
       "</style>\n",
       "<table border=\"1\" class=\"dataframe\">\n",
       "  <thead>\n",
       "    <tr style=\"text-align: right;\">\n",
       "      <th></th>\n",
       "      <th>menu_item_id</th>\n",
       "      <th>item_name</th>\n",
       "      <th>category</th>\n",
       "      <th>price</th>\n",
       "    </tr>\n",
       "  </thead>\n",
       "  <tbody>\n",
       "    <tr>\n",
       "      <th>0</th>\n",
       "      <td>101</td>\n",
       "      <td>Hamburger</td>\n",
       "      <td>American</td>\n",
       "      <td>12.95</td>\n",
       "    </tr>\n",
       "    <tr>\n",
       "      <th>1</th>\n",
       "      <td>102</td>\n",
       "      <td>Cheeseburger</td>\n",
       "      <td>American</td>\n",
       "      <td>13.95</td>\n",
       "    </tr>\n",
       "    <tr>\n",
       "      <th>2</th>\n",
       "      <td>103</td>\n",
       "      <td>Hot Dog</td>\n",
       "      <td>American</td>\n",
       "      <td>9.00</td>\n",
       "    </tr>\n",
       "  </tbody>\n",
       "</table>\n",
       "</div>"
      ],
      "text/plain": [
       "   menu_item_id     item_name  category  price\n",
       "0           101     Hamburger  American  12.95\n",
       "1           102  Cheeseburger  American  13.95\n",
       "2           103       Hot Dog  American   9.00"
      ]
     },
     "execution_count": 6,
     "metadata": {},
     "output_type": "execute_result"
    }
   ],
   "source": [
    "menu_items.head(3)"
   ]
  },
  {
   "cell_type": "code",
   "execution_count": 7,
   "metadata": {},
   "outputs": [
    {
     "data": {
      "text/html": [
       "<div>\n",
       "<style scoped>\n",
       "    .dataframe tbody tr th:only-of-type {\n",
       "        vertical-align: middle;\n",
       "    }\n",
       "\n",
       "    .dataframe tbody tr th {\n",
       "        vertical-align: top;\n",
       "    }\n",
       "\n",
       "    .dataframe thead th {\n",
       "        text-align: right;\n",
       "    }\n",
       "</style>\n",
       "<table border=\"1\" class=\"dataframe\">\n",
       "  <thead>\n",
       "    <tr style=\"text-align: right;\">\n",
       "      <th></th>\n",
       "      <th>menu_item_id</th>\n",
       "      <th>item_name</th>\n",
       "      <th>category</th>\n",
       "      <th>price</th>\n",
       "    </tr>\n",
       "  </thead>\n",
       "  <tbody>\n",
       "    <tr>\n",
       "      <th>29</th>\n",
       "      <td>130</td>\n",
       "      <td>Shrimp Scampi</td>\n",
       "      <td>Italian</td>\n",
       "      <td>19.95</td>\n",
       "    </tr>\n",
       "    <tr>\n",
       "      <th>30</th>\n",
       "      <td>131</td>\n",
       "      <td>Chicken Parmesan</td>\n",
       "      <td>Italian</td>\n",
       "      <td>17.95</td>\n",
       "    </tr>\n",
       "    <tr>\n",
       "      <th>31</th>\n",
       "      <td>132</td>\n",
       "      <td>Eggplant Parmesan</td>\n",
       "      <td>Italian</td>\n",
       "      <td>16.95</td>\n",
       "    </tr>\n",
       "  </tbody>\n",
       "</table>\n",
       "</div>"
      ],
      "text/plain": [
       "    menu_item_id          item_name category  price\n",
       "29           130      Shrimp Scampi  Italian  19.95\n",
       "30           131   Chicken Parmesan  Italian  17.95\n",
       "31           132  Eggplant Parmesan  Italian  16.95"
      ]
     },
     "execution_count": 7,
     "metadata": {},
     "output_type": "execute_result"
    }
   ],
   "source": [
    "menu_items.tail(3)"
   ]
  },
  {
   "cell_type": "code",
   "execution_count": 8,
   "metadata": {},
   "outputs": [
    {
     "data": {
      "text/html": [
       "<div>\n",
       "<style scoped>\n",
       "    .dataframe tbody tr th:only-of-type {\n",
       "        vertical-align: middle;\n",
       "    }\n",
       "\n",
       "    .dataframe tbody tr th {\n",
       "        vertical-align: top;\n",
       "    }\n",
       "\n",
       "    .dataframe thead th {\n",
       "        text-align: right;\n",
       "    }\n",
       "</style>\n",
       "<table border=\"1\" class=\"dataframe\">\n",
       "  <thead>\n",
       "    <tr style=\"text-align: right;\">\n",
       "      <th></th>\n",
       "      <th>order_details_id</th>\n",
       "      <th>order_id</th>\n",
       "      <th>order_date</th>\n",
       "      <th>order_time</th>\n",
       "      <th>item_id</th>\n",
       "    </tr>\n",
       "  </thead>\n",
       "  <tbody>\n",
       "    <tr>\n",
       "      <th>0</th>\n",
       "      <td>1</td>\n",
       "      <td>1</td>\n",
       "      <td>1/1/23</td>\n",
       "      <td>11:38:36 AM</td>\n",
       "      <td>109.0</td>\n",
       "    </tr>\n",
       "    <tr>\n",
       "      <th>1</th>\n",
       "      <td>2</td>\n",
       "      <td>2</td>\n",
       "      <td>1/1/23</td>\n",
       "      <td>11:57:40 AM</td>\n",
       "      <td>108.0</td>\n",
       "    </tr>\n",
       "    <tr>\n",
       "      <th>2</th>\n",
       "      <td>3</td>\n",
       "      <td>2</td>\n",
       "      <td>1/1/23</td>\n",
       "      <td>11:57:40 AM</td>\n",
       "      <td>124.0</td>\n",
       "    </tr>\n",
       "  </tbody>\n",
       "</table>\n",
       "</div>"
      ],
      "text/plain": [
       "   order_details_id  order_id order_date   order_time  item_id\n",
       "0                 1         1     1/1/23  11:38:36 AM    109.0\n",
       "1                 2         2     1/1/23  11:57:40 AM    108.0\n",
       "2                 3         2     1/1/23  11:57:40 AM    124.0"
      ]
     },
     "execution_count": 8,
     "metadata": {},
     "output_type": "execute_result"
    }
   ],
   "source": [
    "order_details.head(3)"
   ]
  },
  {
   "cell_type": "code",
   "execution_count": 9,
   "metadata": {},
   "outputs": [
    {
     "data": {
      "text/html": [
       "<div>\n",
       "<style scoped>\n",
       "    .dataframe tbody tr th:only-of-type {\n",
       "        vertical-align: middle;\n",
       "    }\n",
       "\n",
       "    .dataframe tbody tr th {\n",
       "        vertical-align: top;\n",
       "    }\n",
       "\n",
       "    .dataframe thead th {\n",
       "        text-align: right;\n",
       "    }\n",
       "</style>\n",
       "<table border=\"1\" class=\"dataframe\">\n",
       "  <thead>\n",
       "    <tr style=\"text-align: right;\">\n",
       "      <th></th>\n",
       "      <th>order_details_id</th>\n",
       "      <th>order_id</th>\n",
       "      <th>order_date</th>\n",
       "      <th>order_time</th>\n",
       "      <th>item_id</th>\n",
       "    </tr>\n",
       "  </thead>\n",
       "  <tbody>\n",
       "    <tr>\n",
       "      <th>12231</th>\n",
       "      <td>12232</td>\n",
       "      <td>5369</td>\n",
       "      <td>3/31/23</td>\n",
       "      <td>10:05:04 PM</td>\n",
       "      <td>120.0</td>\n",
       "    </tr>\n",
       "    <tr>\n",
       "      <th>12232</th>\n",
       "      <td>12233</td>\n",
       "      <td>5369</td>\n",
       "      <td>3/31/23</td>\n",
       "      <td>10:05:04 PM</td>\n",
       "      <td>122.0</td>\n",
       "    </tr>\n",
       "    <tr>\n",
       "      <th>12233</th>\n",
       "      <td>12234</td>\n",
       "      <td>5370</td>\n",
       "      <td>3/31/23</td>\n",
       "      <td>10:15:48 PM</td>\n",
       "      <td>122.0</td>\n",
       "    </tr>\n",
       "  </tbody>\n",
       "</table>\n",
       "</div>"
      ],
      "text/plain": [
       "       order_details_id  order_id order_date   order_time  item_id\n",
       "12231             12232      5369    3/31/23  10:05:04 PM    120.0\n",
       "12232             12233      5369    3/31/23  10:05:04 PM    122.0\n",
       "12233             12234      5370    3/31/23  10:15:48 PM    122.0"
      ]
     },
     "execution_count": 9,
     "metadata": {},
     "output_type": "execute_result"
    }
   ],
   "source": [
    "order_details.tail(3)"
   ]
  },
  {
   "cell_type": "markdown",
   "metadata": {},
   "source": [
    "Before I begin my analysis, I will check to make sure all of my datatypes are in the correct format. If there are any neccessary changes, I will do my data cleaning and transformation before proceeding.\n",
    "\n",
    "I'll begin by checking the datatypes of each dataset."
   ]
  },
  {
   "cell_type": "code",
   "execution_count": 10,
   "metadata": {},
   "outputs": [
    {
     "name": "stdout",
     "output_type": "stream",
     "text": [
      "<class 'pandas.core.frame.DataFrame'>\n",
      "RangeIndex: 32 entries, 0 to 31\n",
      "Data columns (total 4 columns):\n",
      " #   Column        Non-Null Count  Dtype  \n",
      "---  ------        --------------  -----  \n",
      " 0   menu_item_id  32 non-null     int64  \n",
      " 1   item_name     32 non-null     object \n",
      " 2   category      32 non-null     object \n",
      " 3   price         32 non-null     float64\n",
      "dtypes: float64(1), int64(1), object(2)\n",
      "memory usage: 1.1+ KB\n"
     ]
    }
   ],
   "source": [
    "menu_items.info()"
   ]
  },
  {
   "cell_type": "markdown",
   "metadata": {},
   "source": [
    "All datatypes are correct for the first dataset, I will look into the second dataset."
   ]
  },
  {
   "cell_type": "code",
   "execution_count": 11,
   "metadata": {},
   "outputs": [
    {
     "name": "stdout",
     "output_type": "stream",
     "text": [
      "<class 'pandas.core.frame.DataFrame'>\n",
      "RangeIndex: 12234 entries, 0 to 12233\n",
      "Data columns (total 5 columns):\n",
      " #   Column            Non-Null Count  Dtype  \n",
      "---  ------            --------------  -----  \n",
      " 0   order_details_id  12234 non-null  int64  \n",
      " 1   order_id          12234 non-null  int64  \n",
      " 2   order_date        12234 non-null  object \n",
      " 3   order_time        12234 non-null  object \n",
      " 4   item_id           12097 non-null  float64\n",
      "dtypes: float64(1), int64(2), object(2)\n",
      "memory usage: 478.0+ KB\n"
     ]
    }
   ],
   "source": [
    "order_details.info()"
   ]
  },
  {
   "cell_type": "markdown",
   "metadata": {},
   "source": [
    "So the 'order_date', 'order_time\", and 'item_id' columns are formatted with the wrong datatype. I will need to utilize pandas datetime function to correct those."
   ]
  },
  {
   "cell_type": "code",
   "execution_count": 12,
   "metadata": {},
   "outputs": [],
   "source": [
    "order_details[\"order_date\"] = pd.to_datetime(order_details[\"order_date\"])\n",
    "order_details[\"order_time\"] = pd.to_datetime(order_details[\"order_time\"])\n",
    "order_details[\"item_id\"].replace(\"NULL\", \" \", regex=True)\n",
    "order_details[\"item_id\"] = order_details[\"item_id\"].replace(\" \", \"\").astype(float)\n",
    "order_details.dropna(subset=[\"item_id\"], inplace=True)\n",
    "order_details[\"item_id\"] = order_details[\"item_id\"].astype(int)"
   ]
  },
  {
   "cell_type": "markdown",
   "metadata": {},
   "source": [
    "I will now check for verification"
   ]
  },
  {
   "cell_type": "code",
   "execution_count": 13,
   "metadata": {},
   "outputs": [
    {
     "name": "stdout",
     "output_type": "stream",
     "text": [
      "<class 'pandas.core.frame.DataFrame'>\n",
      "Int64Index: 12097 entries, 0 to 12233\n",
      "Data columns (total 5 columns):\n",
      " #   Column            Non-Null Count  Dtype         \n",
      "---  ------            --------------  -----         \n",
      " 0   order_details_id  12097 non-null  int64         \n",
      " 1   order_id          12097 non-null  int64         \n",
      " 2   order_date        12097 non-null  datetime64[ns]\n",
      " 3   order_time        12097 non-null  datetime64[ns]\n",
      " 4   item_id           12097 non-null  int32         \n",
      "dtypes: datetime64[ns](2), int32(1), int64(2)\n",
      "memory usage: 519.8 KB\n"
     ]
    }
   ],
   "source": [
    "order_details.info()"
   ]
  },
  {
   "cell_type": "markdown",
   "metadata": {},
   "source": [
    "All datatypes are now in the correct format, I can now continue with analyzing my data and moving on to answering the business questions. \n",
    "\n",
    "First, I want to get some more information from the data to get a better understanding of what I am looking at. I'll look at some statistical information from both datasets to begin. "
   ]
  },
  {
   "cell_type": "code",
   "execution_count": 14,
   "metadata": {},
   "outputs": [
    {
     "data": {
      "text/html": [
       "<div>\n",
       "<style scoped>\n",
       "    .dataframe tbody tr th:only-of-type {\n",
       "        vertical-align: middle;\n",
       "    }\n",
       "\n",
       "    .dataframe tbody tr th {\n",
       "        vertical-align: top;\n",
       "    }\n",
       "\n",
       "    .dataframe thead th {\n",
       "        text-align: right;\n",
       "    }\n",
       "</style>\n",
       "<table border=\"1\" class=\"dataframe\">\n",
       "  <thead>\n",
       "    <tr style=\"text-align: right;\">\n",
       "      <th></th>\n",
       "      <th>menu_item_id</th>\n",
       "      <th>price</th>\n",
       "    </tr>\n",
       "  </thead>\n",
       "  <tbody>\n",
       "    <tr>\n",
       "      <th>count</th>\n",
       "      <td>32.000000</td>\n",
       "      <td>32.000000</td>\n",
       "    </tr>\n",
       "    <tr>\n",
       "      <th>mean</th>\n",
       "      <td>116.500000</td>\n",
       "      <td>13.285937</td>\n",
       "    </tr>\n",
       "    <tr>\n",
       "      <th>std</th>\n",
       "      <td>9.380832</td>\n",
       "      <td>3.858071</td>\n",
       "    </tr>\n",
       "    <tr>\n",
       "      <th>min</th>\n",
       "      <td>101.000000</td>\n",
       "      <td>5.000000</td>\n",
       "    </tr>\n",
       "    <tr>\n",
       "      <th>25%</th>\n",
       "      <td>108.750000</td>\n",
       "      <td>10.500000</td>\n",
       "    </tr>\n",
       "    <tr>\n",
       "      <th>50%</th>\n",
       "      <td>116.500000</td>\n",
       "      <td>13.950000</td>\n",
       "    </tr>\n",
       "    <tr>\n",
       "      <th>75%</th>\n",
       "      <td>124.250000</td>\n",
       "      <td>15.750000</td>\n",
       "    </tr>\n",
       "    <tr>\n",
       "      <th>max</th>\n",
       "      <td>132.000000</td>\n",
       "      <td>19.950000</td>\n",
       "    </tr>\n",
       "  </tbody>\n",
       "</table>\n",
       "</div>"
      ],
      "text/plain": [
       "       menu_item_id      price\n",
       "count     32.000000  32.000000\n",
       "mean     116.500000  13.285937\n",
       "std        9.380832   3.858071\n",
       "min      101.000000   5.000000\n",
       "25%      108.750000  10.500000\n",
       "50%      116.500000  13.950000\n",
       "75%      124.250000  15.750000\n",
       "max      132.000000  19.950000"
      ]
     },
     "execution_count": 14,
     "metadata": {},
     "output_type": "execute_result"
    }
   ],
   "source": [
    "menu_items.describe()"
   ]
  },
  {
   "cell_type": "code",
   "execution_count": 15,
   "metadata": {},
   "outputs": [
    {
     "data": {
      "text/html": [
       "<div>\n",
       "<style scoped>\n",
       "    .dataframe tbody tr th:only-of-type {\n",
       "        vertical-align: middle;\n",
       "    }\n",
       "\n",
       "    .dataframe tbody tr th {\n",
       "        vertical-align: top;\n",
       "    }\n",
       "\n",
       "    .dataframe thead th {\n",
       "        text-align: right;\n",
       "    }\n",
       "</style>\n",
       "<table border=\"1\" class=\"dataframe\">\n",
       "  <thead>\n",
       "    <tr style=\"text-align: right;\">\n",
       "      <th></th>\n",
       "      <th>item_name</th>\n",
       "      <th>category</th>\n",
       "    </tr>\n",
       "  </thead>\n",
       "  <tbody>\n",
       "    <tr>\n",
       "      <th>count</th>\n",
       "      <td>32</td>\n",
       "      <td>32</td>\n",
       "    </tr>\n",
       "    <tr>\n",
       "      <th>unique</th>\n",
       "      <td>32</td>\n",
       "      <td>4</td>\n",
       "    </tr>\n",
       "    <tr>\n",
       "      <th>top</th>\n",
       "      <td>Hamburger</td>\n",
       "      <td>Mexican</td>\n",
       "    </tr>\n",
       "    <tr>\n",
       "      <th>freq</th>\n",
       "      <td>1</td>\n",
       "      <td>9</td>\n",
       "    </tr>\n",
       "  </tbody>\n",
       "</table>\n",
       "</div>"
      ],
      "text/plain": [
       "        item_name category\n",
       "count          32       32\n",
       "unique         32        4\n",
       "top     Hamburger  Mexican\n",
       "freq            1        9"
      ]
     },
     "execution_count": 15,
     "metadata": {},
     "output_type": "execute_result"
    }
   ],
   "source": [
    "menu_items.describe(include=\"object\")"
   ]
  },
  {
   "cell_type": "code",
   "execution_count": 16,
   "metadata": {},
   "outputs": [
    {
     "data": {
      "text/html": [
       "<div>\n",
       "<style scoped>\n",
       "    .dataframe tbody tr th:only-of-type {\n",
       "        vertical-align: middle;\n",
       "    }\n",
       "\n",
       "    .dataframe tbody tr th {\n",
       "        vertical-align: top;\n",
       "    }\n",
       "\n",
       "    .dataframe thead th {\n",
       "        text-align: right;\n",
       "    }\n",
       "</style>\n",
       "<table border=\"1\" class=\"dataframe\">\n",
       "  <thead>\n",
       "    <tr style=\"text-align: right;\">\n",
       "      <th></th>\n",
       "      <th>order_details_id</th>\n",
       "      <th>order_id</th>\n",
       "      <th>item_id</th>\n",
       "    </tr>\n",
       "  </thead>\n",
       "  <tbody>\n",
       "    <tr>\n",
       "      <th>count</th>\n",
       "      <td>12097.000000</td>\n",
       "      <td>12097.000000</td>\n",
       "      <td>12097.000000</td>\n",
       "    </tr>\n",
       "    <tr>\n",
       "      <th>mean</th>\n",
       "      <td>6118.950897</td>\n",
       "      <td>2692.569149</td>\n",
       "      <td>115.202282</td>\n",
       "    </tr>\n",
       "    <tr>\n",
       "      <th>std</th>\n",
       "      <td>3531.337208</td>\n",
       "      <td>1545.826452</td>\n",
       "      <td>9.387580</td>\n",
       "    </tr>\n",
       "    <tr>\n",
       "      <th>min</th>\n",
       "      <td>1.000000</td>\n",
       "      <td>1.000000</td>\n",
       "      <td>101.000000</td>\n",
       "    </tr>\n",
       "    <tr>\n",
       "      <th>25%</th>\n",
       "      <td>3064.000000</td>\n",
       "      <td>1353.000000</td>\n",
       "      <td>107.000000</td>\n",
       "    </tr>\n",
       "    <tr>\n",
       "      <th>50%</th>\n",
       "      <td>6119.000000</td>\n",
       "      <td>2711.000000</td>\n",
       "      <td>114.000000</td>\n",
       "    </tr>\n",
       "    <tr>\n",
       "      <th>75%</th>\n",
       "      <td>9175.000000</td>\n",
       "      <td>4020.000000</td>\n",
       "      <td>123.000000</td>\n",
       "    </tr>\n",
       "    <tr>\n",
       "      <th>max</th>\n",
       "      <td>12234.000000</td>\n",
       "      <td>5370.000000</td>\n",
       "      <td>132.000000</td>\n",
       "    </tr>\n",
       "  </tbody>\n",
       "</table>\n",
       "</div>"
      ],
      "text/plain": [
       "       order_details_id      order_id       item_id\n",
       "count      12097.000000  12097.000000  12097.000000\n",
       "mean        6118.950897   2692.569149    115.202282\n",
       "std         3531.337208   1545.826452      9.387580\n",
       "min            1.000000      1.000000    101.000000\n",
       "25%         3064.000000   1353.000000    107.000000\n",
       "50%         6119.000000   2711.000000    114.000000\n",
       "75%         9175.000000   4020.000000    123.000000\n",
       "max        12234.000000   5370.000000    132.000000"
      ]
     },
     "execution_count": 16,
     "metadata": {},
     "output_type": "execute_result"
    }
   ],
   "source": [
    "order_details.describe()"
   ]
  },
  {
   "cell_type": "markdown",
   "metadata": {},
   "source": [
    "I now have a better understanding of the numerical and categorical variable within both of the datasets. \n",
    "\n",
    "I'll continue on with checking for duplicate values in both datasets."
   ]
  },
  {
   "cell_type": "code",
   "execution_count": 17,
   "metadata": {},
   "outputs": [
    {
     "name": "stdout",
     "output_type": "stream",
     "text": [
      "There are 0 rows of data in the menu_items dataset.\n"
     ]
    }
   ],
   "source": [
    "menu_items_duplicates = menu_items.duplicated().sum()\n",
    "print(f\"There are {menu_items_duplicates} rows of data in the menu_items dataset.\")"
   ]
  },
  {
   "cell_type": "code",
   "execution_count": 18,
   "metadata": {},
   "outputs": [
    {
     "name": "stdout",
     "output_type": "stream",
     "text": [
      "There are 0 rows of data in the order_details dataset.\n"
     ]
    }
   ],
   "source": [
    "order_details_duplicates = order_details.duplicated().sum()\n",
    "print(f\"There are {order_details_duplicates} rows of data in the order_details dataset.\")"
   ]
  },
  {
   "cell_type": "markdown",
   "metadata": {},
   "source": [
    "Now I'll check for any null values in either dataset, as they can cause complications in accurate analysis."
   ]
  },
  {
   "cell_type": "code",
   "execution_count": 19,
   "metadata": {},
   "outputs": [
    {
     "name": "stdout",
     "output_type": "stream",
     "text": [
      "There are 0 null values in the column menu_item_id.\n",
      "There are 0 null values in the column item_name.\n",
      "There are 0 null values in the column category.\n",
      "There are 0 null values in the column price.\n"
     ]
    }
   ],
   "source": [
    "for null in menu_items.columns:\n",
    "    null_val = menu_items[null].isnull().sum()\n",
    "    print(f\"There are {null_val} null values in the column {null}.\")"
   ]
  },
  {
   "cell_type": "code",
   "execution_count": 20,
   "metadata": {},
   "outputs": [
    {
     "name": "stdout",
     "output_type": "stream",
     "text": [
      "There are 0 n/a values in the column order_details_id.\n",
      "There are 0 n/a values in the column order_id.\n",
      "There are 0 n/a values in the column order_date.\n",
      "There are 0 n/a values in the column order_time.\n",
      "There are 0 n/a values in the column item_id.\n"
     ]
    }
   ],
   "source": [
    "for na in order_details.columns:\n",
    "    na_val = order_details[na].isna().sum()\n",
    "    print(f\"There are {na_val} n/a values in the column {na}.\")"
   ]
  },
  {
   "cell_type": "markdown",
   "metadata": {},
   "source": [
    "I will now check for all unique values within both datasets"
   ]
  },
  {
   "cell_type": "code",
   "execution_count": 21,
   "metadata": {},
   "outputs": [
    {
     "name": "stdout",
     "output_type": "stream",
     "text": [
      "There are 32 unique values in the column menu_item_id.\n",
      "There are 32 unique values in the column item_name.\n",
      "There are 4 unique values in the column category.\n",
      "There are 14 unique values in the column price.\n"
     ]
    }
   ],
   "source": [
    "for unique in menu_items.columns:\n",
    "    unique_vals = menu_items[unique].nunique()\n",
    "    print(f\"There are {unique_vals} unique values in the column {unique}.\")"
   ]
  },
  {
   "cell_type": "code",
   "execution_count": 22,
   "metadata": {},
   "outputs": [
    {
     "name": "stdout",
     "output_type": "stream",
     "text": [
      "There are 12097 unique values in the column order_details_id.\n",
      "There are 5343 unique values in the column order_id.\n",
      "There are 90 unique values in the column order_date.\n",
      "There are 4985 unique values in the column order_time.\n",
      "There are 32 unique values in the column item_id.\n"
     ]
    }
   ],
   "source": [
    "for unique in order_details.columns:\n",
    "    unique_vals = order_details[unique].nunique()\n",
    "    print(f\"There are {unique_vals} unique values in the column {unique}.\")"
   ]
  },
  {
   "cell_type": "markdown",
   "metadata": {},
   "source": [
    "I now have a better understanding of the datasets that I am working with and all of my data cleaning has been performed. The datasets are now ready for analysis.\n",
    "\n",
    "Time to answer the business questions.\n",
    "\n",
    "1) What were the least and most ordered items?"
   ]
  },
  {
   "cell_type": "code",
   "execution_count": 23,
   "metadata": {},
   "outputs": [
    {
     "data": {
      "text/html": [
       "<div>\n",
       "<style scoped>\n",
       "    .dataframe tbody tr th:only-of-type {\n",
       "        vertical-align: middle;\n",
       "    }\n",
       "\n",
       "    .dataframe tbody tr th {\n",
       "        vertical-align: top;\n",
       "    }\n",
       "\n",
       "    .dataframe thead th {\n",
       "        text-align: right;\n",
       "    }\n",
       "</style>\n",
       "<table border=\"1\" class=\"dataframe\">\n",
       "  <thead>\n",
       "    <tr style=\"text-align: right;\">\n",
       "      <th></th>\n",
       "      <th>order_details_id</th>\n",
       "      <th>order_id</th>\n",
       "      <th>order_date</th>\n",
       "      <th>order_time</th>\n",
       "      <th>menu_item_id</th>\n",
       "      <th>item_name</th>\n",
       "      <th>category</th>\n",
       "      <th>price</th>\n",
       "    </tr>\n",
       "  </thead>\n",
       "  <tbody>\n",
       "    <tr>\n",
       "      <th>0</th>\n",
       "      <td>1</td>\n",
       "      <td>1</td>\n",
       "      <td>2023-01-01</td>\n",
       "      <td>2024-04-18 11:38:36</td>\n",
       "      <td>109</td>\n",
       "      <td>Korean Beef Bowl</td>\n",
       "      <td>Asian</td>\n",
       "      <td>17.95</td>\n",
       "    </tr>\n",
       "  </tbody>\n",
       "</table>\n",
       "</div>"
      ],
      "text/plain": [
       "   order_details_id  order_id order_date          order_time  menu_item_id  \\\n",
       "0                 1         1 2023-01-01 2024-04-18 11:38:36           109   \n",
       "\n",
       "          item_name category  price  \n",
       "0  Korean Beef Bowl    Asian  17.95  "
      ]
     },
     "execution_count": 23,
     "metadata": {},
     "output_type": "execute_result"
    }
   ],
   "source": [
    "order_details.rename(columns={\"item_id\": \"menu_item_id\"}, inplace=True) \n",
    "\n",
    "order_details_menu_items = pd.merge(order_details, menu_items, \n",
    "                                    how=\"inner\",\n",
    "                                    on=\"menu_item_id\")\n",
    "order_details_menu_items.head(1)"
   ]
  },
  {
   "cell_type": "code",
   "execution_count": 93,
   "metadata": {},
   "outputs": [
    {
     "data": {
      "text/html": [
       "<div>\n",
       "<style scoped>\n",
       "    .dataframe tbody tr th:only-of-type {\n",
       "        vertical-align: middle;\n",
       "    }\n",
       "\n",
       "    .dataframe tbody tr th {\n",
       "        vertical-align: top;\n",
       "    }\n",
       "\n",
       "    .dataframe thead th {\n",
       "        text-align: right;\n",
       "    }\n",
       "</style>\n",
       "<table border=\"1\" class=\"dataframe\">\n",
       "  <thead>\n",
       "    <tr style=\"text-align: right;\">\n",
       "      <th></th>\n",
       "      <th>item_name</th>\n",
       "      <th>order_id</th>\n",
       "    </tr>\n",
       "  </thead>\n",
       "  <tbody>\n",
       "    <tr>\n",
       "      <th>0</th>\n",
       "      <td>Edamame</td>\n",
       "      <td>596</td>\n",
       "    </tr>\n",
       "    <tr>\n",
       "      <th>31</th>\n",
       "      <td>Chicken Tacos</td>\n",
       "      <td>123</td>\n",
       "    </tr>\n",
       "  </tbody>\n",
       "</table>\n",
       "</div>"
      ],
      "text/plain": [
       "        item_name  order_id\n",
       "0         Edamame       596\n",
       "31  Chicken Tacos       123"
      ]
     },
     "execution_count": 93,
     "metadata": {},
     "output_type": "execute_result"
    }
   ],
   "source": [
    "most_least_ordered = order_details_menu_items.groupby(\"item_name\").nunique()[\"order_id\"].sort_values(ascending=False).reset_index()\n",
    "most_least_ordered = most_least_ordered.loc[(most_least_ordered[\"order_id\"] == 596) | (most_least_ordered[\"order_id\"] == 123)]\n",
    "most_least_ordered"
   ]
  },
  {
   "cell_type": "markdown",
   "metadata": {},
   "source": [
    "I'll put these results in a visual."
   ]
  },
  {
   "cell_type": "code",
   "execution_count": 103,
   "metadata": {},
   "outputs": [
    {
     "data": {
      "text/plain": [
       "<matplotlib.legend.Legend at 0x2242e4dc760>"
      ]
     },
     "execution_count": 103,
     "metadata": {},
     "output_type": "execute_result"
    },
    {
     "data": {
      "image/png": "[encoded data removed]",
      "text/plain": [
       "<Figure size 640x480 with 1 Axes>"
      ]
     },
     "metadata": {},
     "output_type": "display_data"
    }
   ],
   "source": [
    "e = [0.07, 0]\n",
    "plt.pie(most_least_ordered[\"order_id\"],\n",
    "        labels=most_least_ordered[\"item_name\"],\n",
    "        autopct=\"%1.1f%%\",\n",
    "        explode=e,\n",
    "        shadow=True,\n",
    "        pctdistance=0.5)\n",
    "plt.title(\"Percentage of Least vs Most Ordered Items\",\n",
    "          color=\"black\",\n",
    "          fontsize=20)\n",
    "plt.legend(\"\")\n"
   ]
  },
  {
   "cell_type": "markdown",
   "metadata": {},
   "source": [
    "2) What categories were they in?"
   ]
  },
  {
   "cell_type": "code",
   "execution_count": 104,
   "metadata": {},
   "outputs": [
    {
     "data": {
      "text/html": [
       "<div>\n",
       "<style scoped>\n",
       "    .dataframe tbody tr th:only-of-type {\n",
       "        vertical-align: middle;\n",
       "    }\n",
       "\n",
       "    .dataframe tbody tr th {\n",
       "        vertical-align: top;\n",
       "    }\n",
       "\n",
       "    .dataframe thead th {\n",
       "        text-align: right;\n",
       "    }\n",
       "</style>\n",
       "<table border=\"1\" class=\"dataframe\">\n",
       "  <thead>\n",
       "    <tr style=\"text-align: right;\">\n",
       "      <th></th>\n",
       "      <th>item_name</th>\n",
       "      <th>category</th>\n",
       "      <th>order_id</th>\n",
       "    </tr>\n",
       "  </thead>\n",
       "  <tbody>\n",
       "    <tr>\n",
       "      <th>0</th>\n",
       "      <td>Edamame</td>\n",
       "      <td>Asian</td>\n",
       "      <td>596</td>\n",
       "    </tr>\n",
       "    <tr>\n",
       "      <th>31</th>\n",
       "      <td>Chicken Tacos</td>\n",
       "      <td>Mexican</td>\n",
       "      <td>123</td>\n",
       "    </tr>\n",
       "  </tbody>\n",
       "</table>\n",
       "</div>"
      ],
      "text/plain": [
       "        item_name category  order_id\n",
       "0         Edamame    Asian       596\n",
       "31  Chicken Tacos  Mexican       123"
      ]
     },
     "execution_count": 104,
     "metadata": {},
     "output_type": "execute_result"
    }
   ],
   "source": [
    "most_least_categories = order_details_menu_items.groupby([\"item_name\", \"category\"])[\"order_id\"].nunique().sort_values(ascending=False).reset_index()\n",
    "most_least_categories.loc[(most_least_categories[\"order_id\"] == 596) | (most_least_categories[\"order_id\"] == 123)]"
   ]
  },
  {
   "cell_type": "markdown",
   "metadata": {},
   "source": [
    "3) What do the highest spend orders look like?"
   ]
  },
  {
   "cell_type": "code",
   "execution_count": 107,
   "metadata": {},
   "outputs": [
    {
     "data": {
      "text/html": [
       "<div>\n",
       "<style scoped>\n",
       "    .dataframe tbody tr th:only-of-type {\n",
       "        vertical-align: middle;\n",
       "    }\n",
       "\n",
       "    .dataframe tbody tr th {\n",
       "        vertical-align: top;\n",
       "    }\n",
       "\n",
       "    .dataframe thead th {\n",
       "        text-align: right;\n",
       "    }\n",
       "</style>\n",
       "<table border=\"1\" class=\"dataframe\">\n",
       "  <thead>\n",
       "    <tr style=\"text-align: right;\">\n",
       "      <th></th>\n",
       "      <th>category</th>\n",
       "      <th>item_name</th>\n",
       "      <th>num_of_orders</th>\n",
       "      <th>total_spent</th>\n",
       "    </tr>\n",
       "  </thead>\n",
       "  <tbody>\n",
       "    <tr>\n",
       "      <th>0</th>\n",
       "      <td>Asian</td>\n",
       "      <td>Korean Beef Bowl</td>\n",
       "      <td>588</td>\n",
       "      <td>10554.60</td>\n",
       "    </tr>\n",
       "    <tr>\n",
       "      <th>1</th>\n",
       "      <td>Italian</td>\n",
       "      <td>Spaghetti &amp; Meatballs</td>\n",
       "      <td>470</td>\n",
       "      <td>8436.50</td>\n",
       "    </tr>\n",
       "    <tr>\n",
       "      <th>2</th>\n",
       "      <td>Asian</td>\n",
       "      <td>Tofu Pad Thai</td>\n",
       "      <td>562</td>\n",
       "      <td>8149.00</td>\n",
       "    </tr>\n",
       "    <tr>\n",
       "      <th>3</th>\n",
       "      <td>American</td>\n",
       "      <td>Cheeseburger</td>\n",
       "      <td>583</td>\n",
       "      <td>8132.85</td>\n",
       "    </tr>\n",
       "    <tr>\n",
       "      <th>4</th>\n",
       "      <td>American</td>\n",
       "      <td>Hamburger</td>\n",
       "      <td>622</td>\n",
       "      <td>8054.90</td>\n",
       "    </tr>\n",
       "    <tr>\n",
       "      <th>5</th>\n",
       "      <td>Asian</td>\n",
       "      <td>Orange Chicken</td>\n",
       "      <td>456</td>\n",
       "      <td>7524.00</td>\n",
       "    </tr>\n",
       "    <tr>\n",
       "      <th>6</th>\n",
       "      <td>Italian</td>\n",
       "      <td>Eggplant Parmesan</td>\n",
       "      <td>420</td>\n",
       "      <td>7119.00</td>\n",
       "    </tr>\n",
       "    <tr>\n",
       "      <th>7</th>\n",
       "      <td>Mexican</td>\n",
       "      <td>Steak Torta</td>\n",
       "      <td>489</td>\n",
       "      <td>6821.55</td>\n",
       "    </tr>\n",
       "    <tr>\n",
       "      <th>8</th>\n",
       "      <td>Italian</td>\n",
       "      <td>Chicken Parmesan</td>\n",
       "      <td>364</td>\n",
       "      <td>6533.80</td>\n",
       "    </tr>\n",
       "    <tr>\n",
       "      <th>9</th>\n",
       "      <td>Asian</td>\n",
       "      <td>Pork Ramen</td>\n",
       "      <td>360</td>\n",
       "      <td>6462.00</td>\n",
       "    </tr>\n",
       "  </tbody>\n",
       "</table>\n",
       "</div>"
      ],
      "text/plain": [
       "   category              item_name  num_of_orders  total_spent\n",
       "0     Asian       Korean Beef Bowl            588     10554.60\n",
       "1   Italian  Spaghetti & Meatballs            470      8436.50\n",
       "2     Asian          Tofu Pad Thai            562      8149.00\n",
       "3  American           Cheeseburger            583      8132.85\n",
       "4  American              Hamburger            622      8054.90\n",
       "5     Asian         Orange Chicken            456      7524.00\n",
       "6   Italian      Eggplant Parmesan            420      7119.00\n",
       "7   Mexican            Steak Torta            489      6821.55\n",
       "8   Italian       Chicken Parmesan            364      6533.80\n",
       "9     Asian             Pork Ramen            360      6462.00"
      ]
     },
     "execution_count": 107,
     "metadata": {},
     "output_type": "execute_result"
    }
   ],
   "source": [
    "high = order_details_menu_items.groupby([\"item_name\", \"category\"])[\"order_id\"].nunique().sort_values()\n",
    "high\n",
    "\n",
    "highest_spent = order_details_menu_items.groupby([\"category\", \"item_name\"]).agg(num_of_orders=(\"order_id\", \"count\"), total_spent=(\"price\", \"sum\")).sort_values(by=[\"total_spent\"], ascending=[False]).reset_index()\n",
    "highest_spent[:10]"
   ]
  },
  {
   "cell_type": "markdown",
   "metadata": {},
   "source": [
    "I will visualize these results in a bar graph"
   ]
  },
  {
   "cell_type": "code",
   "execution_count": 120,
   "metadata": {},
   "outputs": [
    {
     "name": "stdout",
     "output_type": "stream",
     "text": [
      "The bar graph represents the top 10 highest spent orders by item.\n"
     ]
    },
    {
     "data": {
      "image/png": "[encoded data removed]",
      "text/plain": [
       "<Figure size 640x480 with 1 Axes>"
      ]
     },
     "metadata": {},
     "output_type": "display_data"
    }
   ],
   "source": [
    "highest_spent[:10].plot(kind=\"bar\",\n",
    "                        rot=75)\n",
    "plt.title(\"Highest Spent Orders\",\n",
    "          color=\"black\",\n",
    "          fontsize=20)\n",
    "plt.xticks([0,1,2,3,4,5,6,7,8,9],\n",
    "           [\"Korean Beef Bowl\",\"Spaghetti & Meetballs\",\n",
    "            \"Tofu Pad Thai\",\"Cheeseburger\",\"Hamburger\",\n",
    "            \"Orange Chicken\",\"Eggplant Parmesan\",\"Steak Torta\",\n",
    "            \"Chicken Parmesan\",\"Pork Ramen\"])\n",
    "totals = list(range(0,11000,1000))\n",
    "plt.yticks(totals,[f\"{t}\" for t in totals],\n",
    "           color=\"black\")\n",
    "print(\"The bar graph represents the top 10 highest spent orders by item.\")"
   ]
  },
  {
   "cell_type": "markdown",
   "metadata": {},
   "source": [
    "4) Which items did the buy and how much did they spend?\n",
    "\n",
    "This question can also be answered by the above chart results, which I will display below."
   ]
  },
  {
   "cell_type": "code",
   "execution_count": 121,
   "metadata": {},
   "outputs": [
    {
     "data": {
      "text/html": [
       "<div>\n",
       "<style scoped>\n",
       "    .dataframe tbody tr th:only-of-type {\n",
       "        vertical-align: middle;\n",
       "    }\n",
       "\n",
       "    .dataframe tbody tr th {\n",
       "        vertical-align: top;\n",
       "    }\n",
       "\n",
       "    .dataframe thead th {\n",
       "        text-align: right;\n",
       "    }\n",
       "</style>\n",
       "<table border=\"1\" class=\"dataframe\">\n",
       "  <thead>\n",
       "    <tr style=\"text-align: right;\">\n",
       "      <th></th>\n",
       "      <th>category</th>\n",
       "      <th>item_name</th>\n",
       "      <th>num_of_orders</th>\n",
       "      <th>total_spent</th>\n",
       "    </tr>\n",
       "  </thead>\n",
       "  <tbody>\n",
       "    <tr>\n",
       "      <th>0</th>\n",
       "      <td>Asian</td>\n",
       "      <td>Korean Beef Bowl</td>\n",
       "      <td>588</td>\n",
       "      <td>10554.60</td>\n",
       "    </tr>\n",
       "    <tr>\n",
       "      <th>1</th>\n",
       "      <td>Italian</td>\n",
       "      <td>Spaghetti &amp; Meatballs</td>\n",
       "      <td>470</td>\n",
       "      <td>8436.50</td>\n",
       "    </tr>\n",
       "    <tr>\n",
       "      <th>2</th>\n",
       "      <td>Asian</td>\n",
       "      <td>Tofu Pad Thai</td>\n",
       "      <td>562</td>\n",
       "      <td>8149.00</td>\n",
       "    </tr>\n",
       "    <tr>\n",
       "      <th>3</th>\n",
       "      <td>American</td>\n",
       "      <td>Cheeseburger</td>\n",
       "      <td>583</td>\n",
       "      <td>8132.85</td>\n",
       "    </tr>\n",
       "    <tr>\n",
       "      <th>4</th>\n",
       "      <td>American</td>\n",
       "      <td>Hamburger</td>\n",
       "      <td>622</td>\n",
       "      <td>8054.90</td>\n",
       "    </tr>\n",
       "    <tr>\n",
       "      <th>5</th>\n",
       "      <td>Asian</td>\n",
       "      <td>Orange Chicken</td>\n",
       "      <td>456</td>\n",
       "      <td>7524.00</td>\n",
       "    </tr>\n",
       "    <tr>\n",
       "      <th>6</th>\n",
       "      <td>Italian</td>\n",
       "      <td>Eggplant Parmesan</td>\n",
       "      <td>420</td>\n",
       "      <td>7119.00</td>\n",
       "    </tr>\n",
       "    <tr>\n",
       "      <th>7</th>\n",
       "      <td>Mexican</td>\n",
       "      <td>Steak Torta</td>\n",
       "      <td>489</td>\n",
       "      <td>6821.55</td>\n",
       "    </tr>\n",
       "    <tr>\n",
       "      <th>8</th>\n",
       "      <td>Italian</td>\n",
       "      <td>Chicken Parmesan</td>\n",
       "      <td>364</td>\n",
       "      <td>6533.80</td>\n",
       "    </tr>\n",
       "    <tr>\n",
       "      <th>9</th>\n",
       "      <td>Asian</td>\n",
       "      <td>Pork Ramen</td>\n",
       "      <td>360</td>\n",
       "      <td>6462.00</td>\n",
       "    </tr>\n",
       "    <tr>\n",
       "      <th>10</th>\n",
       "      <td>Mexican</td>\n",
       "      <td>Chicken Burrito</td>\n",
       "      <td>455</td>\n",
       "      <td>5892.25</td>\n",
       "    </tr>\n",
       "    <tr>\n",
       "      <th>11</th>\n",
       "      <td>Italian</td>\n",
       "      <td>Mushroom Ravioli</td>\n",
       "      <td>359</td>\n",
       "      <td>5564.50</td>\n",
       "    </tr>\n",
       "    <tr>\n",
       "      <th>12</th>\n",
       "      <td>Italian</td>\n",
       "      <td>Spaghetti</td>\n",
       "      <td>367</td>\n",
       "      <td>5321.50</td>\n",
       "    </tr>\n",
       "    <tr>\n",
       "      <th>13</th>\n",
       "      <td>Mexican</td>\n",
       "      <td>Steak Burrito</td>\n",
       "      <td>354</td>\n",
       "      <td>5292.30</td>\n",
       "    </tr>\n",
       "    <tr>\n",
       "      <th>14</th>\n",
       "      <td>Italian</td>\n",
       "      <td>Meat Lasagna</td>\n",
       "      <td>273</td>\n",
       "      <td>4900.35</td>\n",
       "    </tr>\n",
       "    <tr>\n",
       "      <th>15</th>\n",
       "      <td>Asian</td>\n",
       "      <td>Salmon Roll</td>\n",
       "      <td>324</td>\n",
       "      <td>4843.80</td>\n",
       "    </tr>\n",
       "    <tr>\n",
       "      <th>16</th>\n",
       "      <td>Italian</td>\n",
       "      <td>Shrimp Scampi</td>\n",
       "      <td>239</td>\n",
       "      <td>4768.05</td>\n",
       "    </tr>\n",
       "    <tr>\n",
       "      <th>17</th>\n",
       "      <td>Mexican</td>\n",
       "      <td>Chicken Torta</td>\n",
       "      <td>379</td>\n",
       "      <td>4529.05</td>\n",
       "    </tr>\n",
       "    <tr>\n",
       "      <th>18</th>\n",
       "      <td>Asian</td>\n",
       "      <td>California Roll</td>\n",
       "      <td>355</td>\n",
       "      <td>4242.25</td>\n",
       "    </tr>\n",
       "    <tr>\n",
       "      <th>19</th>\n",
       "      <td>American</td>\n",
       "      <td>French Fries</td>\n",
       "      <td>571</td>\n",
       "      <td>3997.00</td>\n",
       "    </tr>\n",
       "    <tr>\n",
       "      <th>20</th>\n",
       "      <td>Italian</td>\n",
       "      <td>Fettuccine Alfredo</td>\n",
       "      <td>249</td>\n",
       "      <td>3610.50</td>\n",
       "    </tr>\n",
       "    <tr>\n",
       "      <th>21</th>\n",
       "      <td>American</td>\n",
       "      <td>Mac &amp; Cheese</td>\n",
       "      <td>463</td>\n",
       "      <td>3241.00</td>\n",
       "    </tr>\n",
       "    <tr>\n",
       "      <th>22</th>\n",
       "      <td>Mexican</td>\n",
       "      <td>Chips &amp; Salsa</td>\n",
       "      <td>461</td>\n",
       "      <td>3227.00</td>\n",
       "    </tr>\n",
       "    <tr>\n",
       "      <th>23</th>\n",
       "      <td>Italian</td>\n",
       "      <td>Cheese Lasagna</td>\n",
       "      <td>207</td>\n",
       "      <td>3208.50</td>\n",
       "    </tr>\n",
       "    <tr>\n",
       "      <th>24</th>\n",
       "      <td>Asian</td>\n",
       "      <td>Edamame</td>\n",
       "      <td>620</td>\n",
       "      <td>3100.00</td>\n",
       "    </tr>\n",
       "    <tr>\n",
       "      <th>25</th>\n",
       "      <td>Mexican</td>\n",
       "      <td>Steak Tacos</td>\n",
       "      <td>214</td>\n",
       "      <td>2985.30</td>\n",
       "    </tr>\n",
       "    <tr>\n",
       "      <th>26</th>\n",
       "      <td>American</td>\n",
       "      <td>Veggie Burger</td>\n",
       "      <td>238</td>\n",
       "      <td>2499.00</td>\n",
       "    </tr>\n",
       "    <tr>\n",
       "      <th>27</th>\n",
       "      <td>Mexican</td>\n",
       "      <td>Cheese Quesadillas</td>\n",
       "      <td>233</td>\n",
       "      <td>2446.50</td>\n",
       "    </tr>\n",
       "    <tr>\n",
       "      <th>28</th>\n",
       "      <td>American</td>\n",
       "      <td>Hot Dog</td>\n",
       "      <td>257</td>\n",
       "      <td>2313.00</td>\n",
       "    </tr>\n",
       "    <tr>\n",
       "      <th>29</th>\n",
       "      <td>Mexican</td>\n",
       "      <td>Chips &amp; Guacamole</td>\n",
       "      <td>237</td>\n",
       "      <td>2133.00</td>\n",
       "    </tr>\n",
       "    <tr>\n",
       "      <th>30</th>\n",
       "      <td>Asian</td>\n",
       "      <td>Potstickers</td>\n",
       "      <td>205</td>\n",
       "      <td>1845.00</td>\n",
       "    </tr>\n",
       "    <tr>\n",
       "      <th>31</th>\n",
       "      <td>Mexican</td>\n",
       "      <td>Chicken Tacos</td>\n",
       "      <td>123</td>\n",
       "      <td>1469.85</td>\n",
       "    </tr>\n",
       "  </tbody>\n",
       "</table>\n",
       "</div>"
      ],
      "text/plain": [
       "    category              item_name  num_of_orders  total_spent\n",
       "0      Asian       Korean Beef Bowl            588     10554.60\n",
       "1    Italian  Spaghetti & Meatballs            470      8436.50\n",
       "2      Asian          Tofu Pad Thai            562      8149.00\n",
       "3   American           Cheeseburger            583      8132.85\n",
       "4   American              Hamburger            622      8054.90\n",
       "5      Asian         Orange Chicken            456      7524.00\n",
       "6    Italian      Eggplant Parmesan            420      7119.00\n",
       "7    Mexican            Steak Torta            489      6821.55\n",
       "8    Italian       Chicken Parmesan            364      6533.80\n",
       "9      Asian             Pork Ramen            360      6462.00\n",
       "10   Mexican        Chicken Burrito            455      5892.25\n",
       "11   Italian       Mushroom Ravioli            359      5564.50\n",
       "12   Italian              Spaghetti            367      5321.50\n",
       "13   Mexican          Steak Burrito            354      5292.30\n",
       "14   Italian           Meat Lasagna            273      4900.35\n",
       "15     Asian            Salmon Roll            324      4843.80\n",
       "16   Italian          Shrimp Scampi            239      4768.05\n",
       "17   Mexican          Chicken Torta            379      4529.05\n",
       "18     Asian        California Roll            355      4242.25\n",
       "19  American           French Fries            571      3997.00\n",
       "20   Italian     Fettuccine Alfredo            249      3610.50\n",
       "21  American           Mac & Cheese            463      3241.00\n",
       "22   Mexican          Chips & Salsa            461      3227.00\n",
       "23   Italian         Cheese Lasagna            207      3208.50\n",
       "24     Asian                Edamame            620      3100.00\n",
       "25   Mexican            Steak Tacos            214      2985.30\n",
       "26  American          Veggie Burger            238      2499.00\n",
       "27   Mexican     Cheese Quesadillas            233      2446.50\n",
       "28  American                Hot Dog            257      2313.00\n",
       "29   Mexican      Chips & Guacamole            237      2133.00\n",
       "30     Asian            Potstickers            205      1845.00\n",
       "31   Mexican          Chicken Tacos            123      1469.85"
      ]
     },
     "execution_count": 121,
     "metadata": {},
     "output_type": "execute_result"
    }
   ],
   "source": [
    "highest_spent"
   ]
  },
  {
   "cell_type": "markdown",
   "metadata": {},
   "source": [
    "5) Were there certain times that had more or less orders?\n",
    "\n",
    "For this question, I will extract the hour from the time column in the order_details dataset to answer this business question."
   ]
  },
  {
   "cell_type": "code",
   "execution_count": 125,
   "metadata": {},
   "outputs": [],
   "source": [
    "order_details[\"hour\"] = order_details[\"order_time\"].dt.hour"
   ]
  },
  {
   "cell_type": "code",
   "execution_count": 129,
   "metadata": {},
   "outputs": [
    {
     "data": {
      "text/html": [
       "<div>\n",
       "<style scoped>\n",
       "    .dataframe tbody tr th:only-of-type {\n",
       "        vertical-align: middle;\n",
       "    }\n",
       "\n",
       "    .dataframe tbody tr th {\n",
       "        vertical-align: top;\n",
       "    }\n",
       "\n",
       "    .dataframe thead th {\n",
       "        text-align: right;\n",
       "    }\n",
       "</style>\n",
       "<table border=\"1\" class=\"dataframe\">\n",
       "  <thead>\n",
       "    <tr style=\"text-align: right;\">\n",
       "      <th></th>\n",
       "      <th>hour</th>\n",
       "      <th>num of orders</th>\n",
       "    </tr>\n",
       "  </thead>\n",
       "  <tbody>\n",
       "    <tr>\n",
       "      <th>0</th>\n",
       "      <td>12</td>\n",
       "      <td>1659</td>\n",
       "    </tr>\n",
       "    <tr>\n",
       "      <th>1</th>\n",
       "      <td>13</td>\n",
       "      <td>1558</td>\n",
       "    </tr>\n",
       "    <tr>\n",
       "      <th>2</th>\n",
       "      <td>17</td>\n",
       "      <td>1355</td>\n",
       "    </tr>\n",
       "    <tr>\n",
       "      <th>3</th>\n",
       "      <td>18</td>\n",
       "      <td>1290</td>\n",
       "    </tr>\n",
       "    <tr>\n",
       "      <th>4</th>\n",
       "      <td>19</td>\n",
       "      <td>1074</td>\n",
       "    </tr>\n",
       "    <tr>\n",
       "      <th>5</th>\n",
       "      <td>16</td>\n",
       "      <td>1035</td>\n",
       "    </tr>\n",
       "    <tr>\n",
       "      <th>6</th>\n",
       "      <td>14</td>\n",
       "      <td>956</td>\n",
       "    </tr>\n",
       "    <tr>\n",
       "      <th>7</th>\n",
       "      <td>20</td>\n",
       "      <td>882</td>\n",
       "    </tr>\n",
       "    <tr>\n",
       "      <th>8</th>\n",
       "      <td>15</td>\n",
       "      <td>743</td>\n",
       "    </tr>\n",
       "    <tr>\n",
       "      <th>9</th>\n",
       "      <td>11</td>\n",
       "      <td>624</td>\n",
       "    </tr>\n",
       "    <tr>\n",
       "      <th>10</th>\n",
       "      <td>21</td>\n",
       "      <td>600</td>\n",
       "    </tr>\n",
       "    <tr>\n",
       "      <th>11</th>\n",
       "      <td>22</td>\n",
       "      <td>305</td>\n",
       "    </tr>\n",
       "    <tr>\n",
       "      <th>12</th>\n",
       "      <td>23</td>\n",
       "      <td>11</td>\n",
       "    </tr>\n",
       "    <tr>\n",
       "      <th>13</th>\n",
       "      <td>10</td>\n",
       "      <td>5</td>\n",
       "    </tr>\n",
       "  </tbody>\n",
       "</table>\n",
       "</div>"
      ],
      "text/plain": [
       "    hour  num of orders\n",
       "0     12           1659\n",
       "1     13           1558\n",
       "2     17           1355\n",
       "3     18           1290\n",
       "4     19           1074\n",
       "5     16           1035\n",
       "6     14            956\n",
       "7     20            882\n",
       "8     15            743\n",
       "9     11            624\n",
       "10    21            600\n",
       "11    22            305\n",
       "12    23             11\n",
       "13    10              5"
      ]
     },
     "execution_count": 129,
     "metadata": {},
     "output_type": "execute_result"
    }
   ],
   "source": [
    "times = order_details.groupby([\"hour\"])[\"order_details_id\"].nunique().sort_values(ascending=False).reset_index()\n",
    "times.rename(columns={\"order_details_id\": \"num of orders\"}, inplace=True)\n",
    "times"
   ]
  },
  {
   "cell_type": "markdown",
   "metadata": {},
   "source": [
    "Here is a chart of the top 5 busiest hours."
   ]
  },
  {
   "cell_type": "code",
   "execution_count": 137,
   "metadata": {},
   "outputs": [
    {
     "name": "stdout",
     "output_type": "stream",
     "text": [
      "The graphic shows the top 5 busy hours for the restaurant.\n"
     ]
    },
    {
     "data": {
      "image/png": "[encoded data removed]",
      "text/plain": [
       "<Figure size 640x480 with 1 Axes>"
      ]
     },
     "metadata": {},
     "output_type": "display_data"
    }
   ],
   "source": [
    "times[:5].plot(kind=\"bar\",\n",
    "               rot=0)\n",
    "plt.title(\"Top 5 Busiest Hours\",\n",
    "          color=\"black\",\n",
    "          fontsize=20)\n",
    "plt.xticks([0,1,2,3,4],\n",
    "           [\"12PM\",\"1PM\",\"5PM\",\"6PM\",\"7PM\"])\n",
    "orders = list(range(0,1900,200))\n",
    "plt.yticks(orders,[f\"{o} orders\" for o in orders],\n",
    "           color=\"green\")\n",
    "print(\"The graphic shows the top 5 busy hours for the restaurant.\")\n",
    "\n"
   ]
  },
  {
   "cell_type": "markdown",
   "metadata": {},
   "source": [
    "6) Which cuisines should we focus on developing more menu items for based on the data?"
   ]
  },
  {
   "cell_type": "code",
   "execution_count": 140,
   "metadata": {},
   "outputs": [
    {
     "data": {
      "text/html": [
       "<div>\n",
       "<style scoped>\n",
       "    .dataframe tbody tr th:only-of-type {\n",
       "        vertical-align: middle;\n",
       "    }\n",
       "\n",
       "    .dataframe tbody tr th {\n",
       "        vertical-align: top;\n",
       "    }\n",
       "\n",
       "    .dataframe thead th {\n",
       "        text-align: right;\n",
       "    }\n",
       "</style>\n",
       "<table border=\"1\" class=\"dataframe\">\n",
       "  <thead>\n",
       "    <tr style=\"text-align: right;\">\n",
       "      <th></th>\n",
       "      <th>category</th>\n",
       "      <th>item_name</th>\n",
       "      <th>num_of_orders</th>\n",
       "      <th>total_spent</th>\n",
       "    </tr>\n",
       "  </thead>\n",
       "  <tbody>\n",
       "    <tr>\n",
       "      <th>31</th>\n",
       "      <td>Mexican</td>\n",
       "      <td>Chicken Tacos</td>\n",
       "      <td>123</td>\n",
       "      <td>1469.85</td>\n",
       "    </tr>\n",
       "    <tr>\n",
       "      <th>30</th>\n",
       "      <td>Asian</td>\n",
       "      <td>Potstickers</td>\n",
       "      <td>205</td>\n",
       "      <td>1845.00</td>\n",
       "    </tr>\n",
       "    <tr>\n",
       "      <th>29</th>\n",
       "      <td>Mexican</td>\n",
       "      <td>Chips &amp; Guacamole</td>\n",
       "      <td>237</td>\n",
       "      <td>2133.00</td>\n",
       "    </tr>\n",
       "    <tr>\n",
       "      <th>28</th>\n",
       "      <td>American</td>\n",
       "      <td>Hot Dog</td>\n",
       "      <td>257</td>\n",
       "      <td>2313.00</td>\n",
       "    </tr>\n",
       "    <tr>\n",
       "      <th>27</th>\n",
       "      <td>Mexican</td>\n",
       "      <td>Cheese Quesadillas</td>\n",
       "      <td>233</td>\n",
       "      <td>2446.50</td>\n",
       "    </tr>\n",
       "    <tr>\n",
       "      <th>26</th>\n",
       "      <td>American</td>\n",
       "      <td>Veggie Burger</td>\n",
       "      <td>238</td>\n",
       "      <td>2499.00</td>\n",
       "    </tr>\n",
       "    <tr>\n",
       "      <th>25</th>\n",
       "      <td>Mexican</td>\n",
       "      <td>Steak Tacos</td>\n",
       "      <td>214</td>\n",
       "      <td>2985.30</td>\n",
       "    </tr>\n",
       "    <tr>\n",
       "      <th>24</th>\n",
       "      <td>Asian</td>\n",
       "      <td>Edamame</td>\n",
       "      <td>620</td>\n",
       "      <td>3100.00</td>\n",
       "    </tr>\n",
       "    <tr>\n",
       "      <th>23</th>\n",
       "      <td>Italian</td>\n",
       "      <td>Cheese Lasagna</td>\n",
       "      <td>207</td>\n",
       "      <td>3208.50</td>\n",
       "    </tr>\n",
       "    <tr>\n",
       "      <th>22</th>\n",
       "      <td>Mexican</td>\n",
       "      <td>Chips &amp; Salsa</td>\n",
       "      <td>461</td>\n",
       "      <td>3227.00</td>\n",
       "    </tr>\n",
       "  </tbody>\n",
       "</table>\n",
       "</div>"
      ],
      "text/plain": [
       "    category           item_name  num_of_orders  total_spent\n",
       "31   Mexican       Chicken Tacos            123      1469.85\n",
       "30     Asian         Potstickers            205      1845.00\n",
       "29   Mexican   Chips & Guacamole            237      2133.00\n",
       "28  American             Hot Dog            257      2313.00\n",
       "27   Mexican  Cheese Quesadillas            233      2446.50\n",
       "26  American       Veggie Burger            238      2499.00\n",
       "25   Mexican         Steak Tacos            214      2985.30\n",
       "24     Asian             Edamame            620      3100.00\n",
       "23   Italian      Cheese Lasagna            207      3208.50\n",
       "22   Mexican       Chips & Salsa            461      3227.00"
      ]
     },
     "execution_count": 140,
     "metadata": {},
     "output_type": "execute_result"
    }
   ],
   "source": [
    "lowest_spent = highest_spent.sort_values(by=[\"total_spent\"], ascending=True)\n",
    "lowest_spent[:10]"
   ]
  },
  {
   "cell_type": "markdown",
   "metadata": {},
   "source": [
    "Recommendations:\n",
    "\n",
    "Based on the data, the top 10 lowest spent items on the menu should have the most attention focused on them. These dishes can perhaps benefit from some kind of promotion or recipe change."
   ]
  }
 ],
 "metadata": {
  "kernelspec": {
   "display_name": "Python 3",
   "language": "python",
   "name": "python3"
  },
  "language_info": {
   "codemirror_mode": {
    "name": "ipython",
    "version": 3
   },
   "file_extension": ".py",
   "mimetype": "text/x-python",
   "name": "python",
   "nbconvert_exporter": "python",
   "pygments_lexer": "ipython3",
   "version": "3.9.13"
  }
 },
 "nbformat": 4,
 "nbformat_minor": 2
}

{
 "cells": [
  {
   "cell_type": "markdown",
   "metadata": {},
   "source": [
    "This is a dataset on Chicago traffic crashes and was retrieved from the Kaggle website. This dataset consist of accident related data from the years 2015 through 2023. In this python project I will write code to answer the folowing questions below:\n",
    "\n",
    "How many accidents/type of accidents by year?\n",
    "How many accidents/type of accidents by month?\n",
    "How many accidents/type of accidents by day?\n",
    "Average time for police to be notified from the time of accident?\n",
    "Average time for police to be notified from the time of a fatal accident?\n",
    "What was the maximum time it took for police to be notified from the time of an accident?\n",
    "Total fatal injuries?\n",
    "Total incapacitating injuries?\n",
    "Total non-incapacitating injuries?\n",
    "Total injuries and percentage of total with respect to most severe injury?\n",
    "Maximum injuries by roadway surface condition?\n",
    "Monthly trend showing comparinson of injuries for current year and previous year?\n",
    "Maximum injuries by first crash type for current year?\n",
    "Distribution of total injuries by damage?\n",
    "Relation between fatal injuries by crash type?\n",
    "\n",
    "In this project I will demonstrate reading data into a dataframe utilizing the pandas library, data cleaning by removing existing or adding additional columns and removing any null or duplicated values as needed, data transformation by correcting any datatypes that may be in the incorrect format, data processing by performing mathematical calculations on numerical columns utilizing the numpy library, and creating visuals utilizing the matplotlib and seaborn libraries.\n",
    "\n",
    "\n",
    "Now I will import a few of the libraries that I will use for this project and set a few options:"
   ]
  },
  {
   "cell_type": "code",
   "execution_count": 1,
   "metadata": {},
   "outputs": [],
   "source": [
    "import numpy as np\n",
    "import pandas as pd\n",
    "pd.set_option(\"display.max_columns\", None)\n",
    "pd.set_option(\"display.max_rows\", None)\n",
    "import matplotlib.pyplot as plt\n",
    "from matplotlib import style\n",
    "%matplotlib inline\n",
    "import seaborn as sns\n",
    "sns.set_style(\"darkgrid\")\n",
    "import plotly.express as px\n",
    "style.use(\"ggplot\") "
   ]
  },
  {
   "cell_type": "markdown",
   "metadata": {},
   "source": [
    "Time to read my data into a pandas dataframe:"
   ]
  },
  {
   "cell_type": "code",
   "execution_count": 2,
   "metadata": {},
   "outputs": [],
   "source": [
    "# chicago_crashes = pd.read_excel(r\"C:\\Users\\mjaso\\OneDrive\\ChicagoTrafficCrashes.xlsx\")\n",
    "chicago_crashes = pd.read_excel(r\"C:\\Users\\Jason\\OneDrive\\ChicagoTrafficCrashes.xlsx\")"
   ]
  },
  {
   "cell_type": "markdown",
   "metadata": {},
   "source": [
    "Now that the data is into a dataframe, lets take a look at the first and last 5 rows of the data to check its consistency, here is the first 5 rows:"
   ]
  },
  {
   "cell_type": "code",
   "execution_count": 3,
   "metadata": {},
   "outputs": [
    {
     "data": {
      "text/html": [
       "<div>\n",
       "<style scoped>\n",
       "    .dataframe tbody tr th:only-of-type {\n",
       "        vertical-align: middle;\n",
       "    }\n",
       "\n",
       "    .dataframe tbody tr th {\n",
       "        vertical-align: top;\n",
       "    }\n",
       "\n",
       "    .dataframe thead th {\n",
       "        text-align: right;\n",
       "    }\n",
       "</style>\n",
       "<table border=\"1\" class=\"dataframe\">\n",
       "  <thead>\n",
       "    <tr style=\"text-align: right;\">\n",
       "      <th></th>\n",
       "      <th>CRASH_RECORD_ID</th>\n",
       "      <th>CRASH_DATE</th>\n",
       "      <th>POSTED_SPEED_LIMIT</th>\n",
       "      <th>TRAFFIC_CONTROL_DEVICE</th>\n",
       "      <th>DEVICE_CONDITION</th>\n",
       "      <th>WEATHER_CONDITION</th>\n",
       "      <th>LIGHTING_CONDITION</th>\n",
       "      <th>FIRST_CRASH_TYPE</th>\n",
       "      <th>TRAFFICWAY_TYPE</th>\n",
       "      <th>ALIGNMENT</th>\n",
       "      <th>ROADWAY_SURFACE_COND</th>\n",
       "      <th>ROAD_DEFECT</th>\n",
       "      <th>REPORT_TYPE</th>\n",
       "      <th>CRASH_TYPE</th>\n",
       "      <th>DAMAGE</th>\n",
       "      <th>DATE_POLICE_NOTIFIED</th>\n",
       "      <th>PRIM_CONTRIBUTORY_CAUSE</th>\n",
       "      <th>STREET_NO</th>\n",
       "      <th>STREET_DIRECTION</th>\n",
       "      <th>STREET_NAME</th>\n",
       "      <th>BEAT_OF_OCCURRENCE</th>\n",
       "      <th>NUM_UNITS</th>\n",
       "      <th>MOST_SEVERE_INJURY</th>\n",
       "      <th>INJURIES_TOTAL</th>\n",
       "      <th>INJURIES_FATAL</th>\n",
       "      <th>INJURIES_INCAPACITATING</th>\n",
       "      <th>INJURIES_NON_INCAPACITATING</th>\n",
       "      <th>INJURIES_REPORTED_NOT_EVIDENT</th>\n",
       "      <th>INJURIES_NO_INDICATION</th>\n",
       "      <th>INJURIES_UNKNOWN</th>\n",
       "      <th>CRASH_HOUR</th>\n",
       "      <th>CRASH_DAY_OF_WEEK</th>\n",
       "      <th>CRASH_MONTH</th>\n",
       "    </tr>\n",
       "  </thead>\n",
       "  <tbody>\n",
       "    <tr>\n",
       "      <th>0</th>\n",
       "      <td>23a79931ef555d54118f64dc9be2cf2dbf59636ce253f7...</td>\n",
       "      <td>2023-09-05 19:05:00</td>\n",
       "      <td>30</td>\n",
       "      <td>TRAFFIC SIGNAL</td>\n",
       "      <td>FUNCTIONING PROPERLY</td>\n",
       "      <td>CLEAR</td>\n",
       "      <td>DUSK</td>\n",
       "      <td>ANGLE</td>\n",
       "      <td>FIVE POINT, OR MORE</td>\n",
       "      <td>STRAIGHT AND LEVEL</td>\n",
       "      <td>DRY</td>\n",
       "      <td>NO DEFECTS</td>\n",
       "      <td>ON SCENE</td>\n",
       "      <td>INJURY AND / OR TOW DUE TO CRASH</td>\n",
       "      <td>OVER $1,500</td>\n",
       "      <td>2023-09-05 19:05:00</td>\n",
       "      <td>UNABLE TO DETERMINE</td>\n",
       "      <td>5500</td>\n",
       "      <td>S</td>\n",
       "      <td>WENTWORTH AVE</td>\n",
       "      <td>225.0</td>\n",
       "      <td>2</td>\n",
       "      <td>INCAPACITATING INJURY</td>\n",
       "      <td>3.0</td>\n",
       "      <td>0.0</td>\n",
       "      <td>1.0</td>\n",
       "      <td>2.0</td>\n",
       "      <td>0.0</td>\n",
       "      <td>2.0</td>\n",
       "      <td>0.0</td>\n",
       "      <td>19</td>\n",
       "      <td>3</td>\n",
       "      <td>9</td>\n",
       "    </tr>\n",
       "    <tr>\n",
       "      <th>1</th>\n",
       "      <td>2675c13fd0f474d730a5b780968b3cafc7c12d7adb661f...</td>\n",
       "      <td>2023-09-22 18:45:00</td>\n",
       "      <td>50</td>\n",
       "      <td>NO CONTROLS</td>\n",
       "      <td>NO CONTROLS</td>\n",
       "      <td>CLEAR</td>\n",
       "      <td>DARKNESS, LIGHTED ROAD</td>\n",
       "      <td>REAR END</td>\n",
       "      <td>DIVIDED - W/MEDIAN BARRIER</td>\n",
       "      <td>STRAIGHT AND LEVEL</td>\n",
       "      <td>DRY</td>\n",
       "      <td>NO DEFECTS</td>\n",
       "      <td>ON SCENE</td>\n",
       "      <td>NO INJURY / DRIVE AWAY</td>\n",
       "      <td>OVER $1,500</td>\n",
       "      <td>2023-09-22 18:50:00</td>\n",
       "      <td>FOLLOWING TOO CLOSELY</td>\n",
       "      <td>7900</td>\n",
       "      <td>S</td>\n",
       "      <td>CHICAGO SKYWAY OB</td>\n",
       "      <td>411.0</td>\n",
       "      <td>2</td>\n",
       "      <td>NO INDICATION OF INJURY</td>\n",
       "      <td>0.0</td>\n",
       "      <td>0.0</td>\n",
       "      <td>0.0</td>\n",
       "      <td>0.0</td>\n",
       "      <td>0.0</td>\n",
       "      <td>2.0</td>\n",
       "      <td>0.0</td>\n",
       "      <td>18</td>\n",
       "      <td>6</td>\n",
       "      <td>9</td>\n",
       "    </tr>\n",
       "    <tr>\n",
       "      <th>2</th>\n",
       "      <td>5f54a59fcb087b12ae5b1acff96a3caf4f2d37e79f8db4...</td>\n",
       "      <td>2023-07-29 14:45:00</td>\n",
       "      <td>30</td>\n",
       "      <td>TRAFFIC SIGNAL</td>\n",
       "      <td>FUNCTIONING PROPERLY</td>\n",
       "      <td>CLEAR</td>\n",
       "      <td>DAYLIGHT</td>\n",
       "      <td>PARKED MOTOR VEHICLE</td>\n",
       "      <td>DIVIDED - W/MEDIAN (NOT RAISED)</td>\n",
       "      <td>STRAIGHT AND LEVEL</td>\n",
       "      <td>DRY</td>\n",
       "      <td>NO DEFECTS</td>\n",
       "      <td>ON SCENE</td>\n",
       "      <td>NO INJURY / DRIVE AWAY</td>\n",
       "      <td>OVER $1,500</td>\n",
       "      <td>2023-07-29 14:45:00</td>\n",
       "      <td>FAILING TO REDUCE SPEED TO AVOID CRASH</td>\n",
       "      <td>2101</td>\n",
       "      <td>S</td>\n",
       "      <td>ASHLAND AVE</td>\n",
       "      <td>1235.0</td>\n",
       "      <td>4</td>\n",
       "      <td>NO INDICATION OF INJURY</td>\n",
       "      <td>0.0</td>\n",
       "      <td>0.0</td>\n",
       "      <td>0.0</td>\n",
       "      <td>0.0</td>\n",
       "      <td>0.0</td>\n",
       "      <td>1.0</td>\n",
       "      <td>0.0</td>\n",
       "      <td>14</td>\n",
       "      <td>7</td>\n",
       "      <td>7</td>\n",
       "    </tr>\n",
       "    <tr>\n",
       "      <th>3</th>\n",
       "      <td>7ebf015016f83d09b321afd671a836d6b148330535d5df...</td>\n",
       "      <td>2023-08-09 23:00:00</td>\n",
       "      <td>30</td>\n",
       "      <td>NO CONTROLS</td>\n",
       "      <td>NO CONTROLS</td>\n",
       "      <td>CLEAR</td>\n",
       "      <td>DARKNESS, LIGHTED ROAD</td>\n",
       "      <td>SIDESWIPE SAME DIRECTION</td>\n",
       "      <td>NOT DIVIDED</td>\n",
       "      <td>STRAIGHT AND LEVEL</td>\n",
       "      <td>DRY</td>\n",
       "      <td>NO DEFECTS</td>\n",
       "      <td>ON SCENE</td>\n",
       "      <td>NO INJURY / DRIVE AWAY</td>\n",
       "      <td>OVER $1,500</td>\n",
       "      <td>2023-08-09 23:40:00</td>\n",
       "      <td>FAILING TO YIELD RIGHT-OF-WAY</td>\n",
       "      <td>10020</td>\n",
       "      <td>W</td>\n",
       "      <td>BALMORAL AVE</td>\n",
       "      <td>1650.0</td>\n",
       "      <td>2</td>\n",
       "      <td>NO INDICATION OF INJURY</td>\n",
       "      <td>0.0</td>\n",
       "      <td>0.0</td>\n",
       "      <td>0.0</td>\n",
       "      <td>0.0</td>\n",
       "      <td>0.0</td>\n",
       "      <td>2.0</td>\n",
       "      <td>0.0</td>\n",
       "      <td>23</td>\n",
       "      <td>4</td>\n",
       "      <td>8</td>\n",
       "    </tr>\n",
       "    <tr>\n",
       "      <th>4</th>\n",
       "      <td>6c1659069e9c6285a650e70d6f9b574ed5f64c12888479...</td>\n",
       "      <td>2023-08-18 12:50:00</td>\n",
       "      <td>15</td>\n",
       "      <td>OTHER</td>\n",
       "      <td>FUNCTIONING PROPERLY</td>\n",
       "      <td>CLEAR</td>\n",
       "      <td>DAYLIGHT</td>\n",
       "      <td>REAR END</td>\n",
       "      <td>OTHER</td>\n",
       "      <td>STRAIGHT AND LEVEL</td>\n",
       "      <td>DRY</td>\n",
       "      <td>NO DEFECTS</td>\n",
       "      <td>ON SCENE</td>\n",
       "      <td>INJURY AND / OR TOW DUE TO CRASH</td>\n",
       "      <td>OVER $1,500</td>\n",
       "      <td>2023-08-18 12:55:00</td>\n",
       "      <td>FOLLOWING TOO CLOSELY</td>\n",
       "      <td>700</td>\n",
       "      <td>W</td>\n",
       "      <td>OHARE ST</td>\n",
       "      <td>1654.0</td>\n",
       "      <td>2</td>\n",
       "      <td>NONINCAPACITATING INJURY</td>\n",
       "      <td>1.0</td>\n",
       "      <td>0.0</td>\n",
       "      <td>0.0</td>\n",
       "      <td>1.0</td>\n",
       "      <td>0.0</td>\n",
       "      <td>1.0</td>\n",
       "      <td>0.0</td>\n",
       "      <td>12</td>\n",
       "      <td>6</td>\n",
       "      <td>8</td>\n",
       "    </tr>\n",
       "  </tbody>\n",
       "</table>\n",
       "</div>"
      ],
      "text/plain": [
       "                                     CRASH_RECORD_ID          CRASH_DATE  \\\n",
       "0  23a79931ef555d54118f64dc9be2cf2dbf59636ce253f7... 2023-09-05 19:05:00   \n",
       "1  2675c13fd0f474d730a5b780968b3cafc7c12d7adb661f... 2023-09-22 18:45:00   \n",
       "2  5f54a59fcb087b12ae5b1acff96a3caf4f2d37e79f8db4... 2023-07-29 14:45:00   \n",
       "3  7ebf015016f83d09b321afd671a836d6b148330535d5df... 2023-08-09 23:00:00   \n",
       "4  6c1659069e9c6285a650e70d6f9b574ed5f64c12888479... 2023-08-18 12:50:00   \n",
       "\n",
       "   POSTED_SPEED_LIMIT TRAFFIC_CONTROL_DEVICE      DEVICE_CONDITION  \\\n",
       "0                  30         TRAFFIC SIGNAL  FUNCTIONING PROPERLY   \n",
       "1                  50            NO CONTROLS           NO CONTROLS   \n",
       "2                  30         TRAFFIC SIGNAL  FUNCTIONING PROPERLY   \n",
       "3                  30            NO CONTROLS           NO CONTROLS   \n",
       "4                  15                  OTHER  FUNCTIONING PROPERLY   \n",
       "\n",
       "  WEATHER_CONDITION      LIGHTING_CONDITION          FIRST_CRASH_TYPE  \\\n",
       "0             CLEAR                    DUSK                     ANGLE   \n",
       "1             CLEAR  DARKNESS, LIGHTED ROAD                  REAR END   \n",
       "2             CLEAR                DAYLIGHT      PARKED MOTOR VEHICLE   \n",
       "3             CLEAR  DARKNESS, LIGHTED ROAD  SIDESWIPE SAME DIRECTION   \n",
       "4             CLEAR                DAYLIGHT                  REAR END   \n",
       "\n",
       "                   TRAFFICWAY_TYPE           ALIGNMENT ROADWAY_SURFACE_COND  \\\n",
       "0              FIVE POINT, OR MORE  STRAIGHT AND LEVEL                  DRY   \n",
       "1       DIVIDED - W/MEDIAN BARRIER  STRAIGHT AND LEVEL                  DRY   \n",
       "2  DIVIDED - W/MEDIAN (NOT RAISED)  STRAIGHT AND LEVEL                  DRY   \n",
       "3                      NOT DIVIDED  STRAIGHT AND LEVEL                  DRY   \n",
       "4                            OTHER  STRAIGHT AND LEVEL                  DRY   \n",
       "\n",
       "  ROAD_DEFECT REPORT_TYPE                        CRASH_TYPE       DAMAGE  \\\n",
       "0  NO DEFECTS    ON SCENE  INJURY AND / OR TOW DUE TO CRASH  OVER $1,500   \n",
       "1  NO DEFECTS    ON SCENE            NO INJURY / DRIVE AWAY  OVER $1,500   \n",
       "2  NO DEFECTS    ON SCENE            NO INJURY / DRIVE AWAY  OVER $1,500   \n",
       "3  NO DEFECTS    ON SCENE            NO INJURY / DRIVE AWAY  OVER $1,500   \n",
       "4  NO DEFECTS    ON SCENE  INJURY AND / OR TOW DUE TO CRASH  OVER $1,500   \n",
       "\n",
       "  DATE_POLICE_NOTIFIED                 PRIM_CONTRIBUTORY_CAUSE  STREET_NO  \\\n",
       "0  2023-09-05 19:05:00                     UNABLE TO DETERMINE       5500   \n",
       "1  2023-09-22 18:50:00                   FOLLOWING TOO CLOSELY       7900   \n",
       "2  2023-07-29 14:45:00  FAILING TO REDUCE SPEED TO AVOID CRASH       2101   \n",
       "3  2023-08-09 23:40:00           FAILING TO YIELD RIGHT-OF-WAY      10020   \n",
       "4  2023-08-18 12:55:00                   FOLLOWING TOO CLOSELY        700   \n",
       "\n",
       "  STREET_DIRECTION        STREET_NAME  BEAT_OF_OCCURRENCE  NUM_UNITS  \\\n",
       "0                S      WENTWORTH AVE               225.0          2   \n",
       "1                S  CHICAGO SKYWAY OB               411.0          2   \n",
       "2                S        ASHLAND AVE              1235.0          4   \n",
       "3                W       BALMORAL AVE              1650.0          2   \n",
       "4                W           OHARE ST              1654.0          2   \n",
       "\n",
       "         MOST_SEVERE_INJURY  INJURIES_TOTAL  INJURIES_FATAL  \\\n",
       "0     INCAPACITATING INJURY             3.0             0.0   \n",
       "1   NO INDICATION OF INJURY             0.0             0.0   \n",
       "2   NO INDICATION OF INJURY             0.0             0.0   \n",
       "3   NO INDICATION OF INJURY             0.0             0.0   \n",
       "4  NONINCAPACITATING INJURY             1.0             0.0   \n",
       "\n",
       "   INJURIES_INCAPACITATING  INJURIES_NON_INCAPACITATING  \\\n",
       "0                      1.0                          2.0   \n",
       "1                      0.0                          0.0   \n",
       "2                      0.0                          0.0   \n",
       "3                      0.0                          0.0   \n",
       "4                      0.0                          1.0   \n",
       "\n",
       "   INJURIES_REPORTED_NOT_EVIDENT  INJURIES_NO_INDICATION  INJURIES_UNKNOWN  \\\n",
       "0                            0.0                     2.0               0.0   \n",
       "1                            0.0                     2.0               0.0   \n",
       "2                            0.0                     1.0               0.0   \n",
       "3                            0.0                     2.0               0.0   \n",
       "4                            0.0                     1.0               0.0   \n",
       "\n",
       "   CRASH_HOUR  CRASH_DAY_OF_WEEK  CRASH_MONTH  \n",
       "0          19                  3            9  \n",
       "1          18                  6            9  \n",
       "2          14                  7            7  \n",
       "3          23                  4            8  \n",
       "4          12                  6            8  "
      ]
     },
     "execution_count": 3,
     "metadata": {},
     "output_type": "execute_result"
    }
   ],
   "source": [
    "chicago_crashes.head(5)\n"
   ]
  },
  {
   "cell_type": "markdown",
   "metadata": {},
   "source": [
    "And now the last 5 rows:"
   ]
  },
  {
   "cell_type": "code",
   "execution_count": 4,
   "metadata": {},
   "outputs": [
    {
     "data": {
      "text/html": [
       "<div>\n",
       "<style scoped>\n",
       "    .dataframe tbody tr th:only-of-type {\n",
       "        vertical-align: middle;\n",
       "    }\n",
       "\n",
       "    .dataframe tbody tr th {\n",
       "        vertical-align: top;\n",
       "    }\n",
       "\n",
       "    .dataframe thead th {\n",
       "        text-align: right;\n",
       "    }\n",
       "</style>\n",
       "<table border=\"1\" class=\"dataframe\">\n",
       "  <thead>\n",
       "    <tr style=\"text-align: right;\">\n",
       "      <th></th>\n",
       "      <th>CRASH_RECORD_ID</th>\n",
       "      <th>CRASH_DATE</th>\n",
       "      <th>POSTED_SPEED_LIMIT</th>\n",
       "      <th>TRAFFIC_CONTROL_DEVICE</th>\n",
       "      <th>DEVICE_CONDITION</th>\n",
       "      <th>WEATHER_CONDITION</th>\n",
       "      <th>LIGHTING_CONDITION</th>\n",
       "      <th>FIRST_CRASH_TYPE</th>\n",
       "      <th>TRAFFICWAY_TYPE</th>\n",
       "      <th>ALIGNMENT</th>\n",
       "      <th>ROADWAY_SURFACE_COND</th>\n",
       "      <th>ROAD_DEFECT</th>\n",
       "      <th>REPORT_TYPE</th>\n",
       "      <th>CRASH_TYPE</th>\n",
       "      <th>DAMAGE</th>\n",
       "      <th>DATE_POLICE_NOTIFIED</th>\n",
       "      <th>PRIM_CONTRIBUTORY_CAUSE</th>\n",
       "      <th>STREET_NO</th>\n",
       "      <th>STREET_DIRECTION</th>\n",
       "      <th>STREET_NAME</th>\n",
       "      <th>BEAT_OF_OCCURRENCE</th>\n",
       "      <th>NUM_UNITS</th>\n",
       "      <th>MOST_SEVERE_INJURY</th>\n",
       "      <th>INJURIES_TOTAL</th>\n",
       "      <th>INJURIES_FATAL</th>\n",
       "      <th>INJURIES_INCAPACITATING</th>\n",
       "      <th>INJURIES_NON_INCAPACITATING</th>\n",
       "      <th>INJURIES_REPORTED_NOT_EVIDENT</th>\n",
       "      <th>INJURIES_NO_INDICATION</th>\n",
       "      <th>INJURIES_UNKNOWN</th>\n",
       "      <th>CRASH_HOUR</th>\n",
       "      <th>CRASH_DAY_OF_WEEK</th>\n",
       "      <th>CRASH_MONTH</th>\n",
       "    </tr>\n",
       "  </thead>\n",
       "  <tbody>\n",
       "    <tr>\n",
       "      <th>794951</th>\n",
       "      <td>b4944ab32a9f692cf95c2645b6683f032e74932532947d...</td>\n",
       "      <td>2023-11-06 07:00:00</td>\n",
       "      <td>30</td>\n",
       "      <td>NO CONTROLS</td>\n",
       "      <td>NO CONTROLS</td>\n",
       "      <td>CLEAR</td>\n",
       "      <td>DAYLIGHT</td>\n",
       "      <td>PARKED MOTOR VEHICLE</td>\n",
       "      <td>ONE-WAY</td>\n",
       "      <td>STRAIGHT AND LEVEL</td>\n",
       "      <td>DRY</td>\n",
       "      <td>NO DEFECTS</td>\n",
       "      <td>NOT ON SCENE (DESK REPORT)</td>\n",
       "      <td>NO INJURY / DRIVE AWAY</td>\n",
       "      <td>$501 - $1,500</td>\n",
       "      <td>2023-11-06 14:12:00</td>\n",
       "      <td>IMPROPER BACKING</td>\n",
       "      <td>1110</td>\n",
       "      <td>W</td>\n",
       "      <td>BELDEN AVE</td>\n",
       "      <td>1811.0</td>\n",
       "      <td>2</td>\n",
       "      <td>NO INDICATION OF INJURY</td>\n",
       "      <td>0.0</td>\n",
       "      <td>0.0</td>\n",
       "      <td>0.0</td>\n",
       "      <td>0.0</td>\n",
       "      <td>0.0</td>\n",
       "      <td>1.0</td>\n",
       "      <td>0.0</td>\n",
       "      <td>7</td>\n",
       "      <td>2</td>\n",
       "      <td>11</td>\n",
       "    </tr>\n",
       "    <tr>\n",
       "      <th>794952</th>\n",
       "      <td>d4bca3b24c17b9af828558fc95699da3c57fe7ea07daf5...</td>\n",
       "      <td>2023-10-31 18:30:00</td>\n",
       "      <td>30</td>\n",
       "      <td>NO CONTROLS</td>\n",
       "      <td>NO CONTROLS</td>\n",
       "      <td>UNKNOWN</td>\n",
       "      <td>UNKNOWN</td>\n",
       "      <td>SIDESWIPE SAME DIRECTION</td>\n",
       "      <td>OTHER</td>\n",
       "      <td>STRAIGHT AND LEVEL</td>\n",
       "      <td>UNKNOWN</td>\n",
       "      <td>UNKNOWN</td>\n",
       "      <td>NOT ON SCENE (DESK REPORT)</td>\n",
       "      <td>NO INJURY / DRIVE AWAY</td>\n",
       "      <td>$501 - $1,500</td>\n",
       "      <td>2023-11-07 19:14:00</td>\n",
       "      <td>UNABLE TO DETERMINE</td>\n",
       "      <td>9500</td>\n",
       "      <td>S</td>\n",
       "      <td>STONY ISLAND AVE</td>\n",
       "      <td>511.0</td>\n",
       "      <td>2</td>\n",
       "      <td>NO INDICATION OF INJURY</td>\n",
       "      <td>0.0</td>\n",
       "      <td>0.0</td>\n",
       "      <td>0.0</td>\n",
       "      <td>0.0</td>\n",
       "      <td>0.0</td>\n",
       "      <td>2.0</td>\n",
       "      <td>0.0</td>\n",
       "      <td>18</td>\n",
       "      <td>3</td>\n",
       "      <td>10</td>\n",
       "    </tr>\n",
       "    <tr>\n",
       "      <th>794953</th>\n",
       "      <td>ef84ea51375f9e29d55d99fb2b1dfaf8ea9d1fbc0f667e...</td>\n",
       "      <td>2023-11-04 23:00:00</td>\n",
       "      <td>30</td>\n",
       "      <td>NO CONTROLS</td>\n",
       "      <td>NO CONTROLS</td>\n",
       "      <td>CLEAR</td>\n",
       "      <td>DAYLIGHT</td>\n",
       "      <td>PARKED MOTOR VEHICLE</td>\n",
       "      <td>ONE-WAY</td>\n",
       "      <td>STRAIGHT AND LEVEL</td>\n",
       "      <td>DRY</td>\n",
       "      <td>NO DEFECTS</td>\n",
       "      <td>NOT ON SCENE (DESK REPORT)</td>\n",
       "      <td>NO INJURY / DRIVE AWAY</td>\n",
       "      <td>OVER $1,500</td>\n",
       "      <td>2023-11-07 16:50:00</td>\n",
       "      <td>IMPROPER BACKING</td>\n",
       "      <td>44</td>\n",
       "      <td>E</td>\n",
       "      <td>104TH ST</td>\n",
       "      <td>512.0</td>\n",
       "      <td>3</td>\n",
       "      <td>NO INDICATION OF INJURY</td>\n",
       "      <td>0.0</td>\n",
       "      <td>0.0</td>\n",
       "      <td>0.0</td>\n",
       "      <td>0.0</td>\n",
       "      <td>0.0</td>\n",
       "      <td>1.0</td>\n",
       "      <td>0.0</td>\n",
       "      <td>23</td>\n",
       "      <td>7</td>\n",
       "      <td>11</td>\n",
       "    </tr>\n",
       "    <tr>\n",
       "      <th>794954</th>\n",
       "      <td>9ba7b0e570841fc865b62892fb4931684ce4abe8162ee1...</td>\n",
       "      <td>2023-11-06 18:35:00</td>\n",
       "      <td>30</td>\n",
       "      <td>NO CONTROLS</td>\n",
       "      <td>NO CONTROLS</td>\n",
       "      <td>CLEAR</td>\n",
       "      <td>DARKNESS, LIGHTED ROAD</td>\n",
       "      <td>TURNING</td>\n",
       "      <td>NOT DIVIDED</td>\n",
       "      <td>STRAIGHT AND LEVEL</td>\n",
       "      <td>DRY</td>\n",
       "      <td>NO DEFECTS</td>\n",
       "      <td>ON SCENE</td>\n",
       "      <td>INJURY AND / OR TOW DUE TO CRASH</td>\n",
       "      <td>OVER $1,500</td>\n",
       "      <td>2023-11-06 18:40:00</td>\n",
       "      <td>UNABLE TO DETERMINE</td>\n",
       "      <td>5115</td>\n",
       "      <td>W</td>\n",
       "      <td>63RD ST</td>\n",
       "      <td>813.0</td>\n",
       "      <td>2</td>\n",
       "      <td>NO INDICATION OF INJURY</td>\n",
       "      <td>0.0</td>\n",
       "      <td>0.0</td>\n",
       "      <td>0.0</td>\n",
       "      <td>0.0</td>\n",
       "      <td>0.0</td>\n",
       "      <td>4.0</td>\n",
       "      <td>0.0</td>\n",
       "      <td>18</td>\n",
       "      <td>2</td>\n",
       "      <td>11</td>\n",
       "    </tr>\n",
       "    <tr>\n",
       "      <th>794955</th>\n",
       "      <td>b2bd97994325bbc4c059742f1d87453b6364e6eb245809...</td>\n",
       "      <td>2023-11-06 19:00:00</td>\n",
       "      <td>30</td>\n",
       "      <td>NO CONTROLS</td>\n",
       "      <td>NO CONTROLS</td>\n",
       "      <td>CLEAR</td>\n",
       "      <td>DARKNESS, LIGHTED ROAD</td>\n",
       "      <td>ANGLE</td>\n",
       "      <td>NOT DIVIDED</td>\n",
       "      <td>STRAIGHT AND LEVEL</td>\n",
       "      <td>UNKNOWN</td>\n",
       "      <td>UNKNOWN</td>\n",
       "      <td>ON SCENE</td>\n",
       "      <td>NO INJURY / DRIVE AWAY</td>\n",
       "      <td>OVER $1,500</td>\n",
       "      <td>2023-11-06 20:30:00</td>\n",
       "      <td>FAILING TO YIELD RIGHT-OF-WAY</td>\n",
       "      <td>4653</td>\n",
       "      <td>S</td>\n",
       "      <td>WESTERN AVE</td>\n",
       "      <td>922.0</td>\n",
       "      <td>2</td>\n",
       "      <td>NO INDICATION OF INJURY</td>\n",
       "      <td>0.0</td>\n",
       "      <td>0.0</td>\n",
       "      <td>0.0</td>\n",
       "      <td>0.0</td>\n",
       "      <td>0.0</td>\n",
       "      <td>2.0</td>\n",
       "      <td>0.0</td>\n",
       "      <td>19</td>\n",
       "      <td>2</td>\n",
       "      <td>11</td>\n",
       "    </tr>\n",
       "  </tbody>\n",
       "</table>\n",
       "</div>"
      ],
      "text/plain": [
       "                                          CRASH_RECORD_ID          CRASH_DATE  \\\n",
       "794951  b4944ab32a9f692cf95c2645b6683f032e74932532947d... 2023-11-06 07:00:00   \n",
       "794952  d4bca3b24c17b9af828558fc95699da3c57fe7ea07daf5... 2023-10-31 18:30:00   \n",
       "794953  ef84ea51375f9e29d55d99fb2b1dfaf8ea9d1fbc0f667e... 2023-11-04 23:00:00   \n",
       "794954  9ba7b0e570841fc865b62892fb4931684ce4abe8162ee1... 2023-11-06 18:35:00   \n",
       "794955  b2bd97994325bbc4c059742f1d87453b6364e6eb245809... 2023-11-06 19:00:00   \n",
       "\n",
       "        POSTED_SPEED_LIMIT TRAFFIC_CONTROL_DEVICE DEVICE_CONDITION  \\\n",
       "794951                  30            NO CONTROLS      NO CONTROLS   \n",
       "794952                  30            NO CONTROLS      NO CONTROLS   \n",
       "794953                  30            NO CONTROLS      NO CONTROLS   \n",
       "794954                  30            NO CONTROLS      NO CONTROLS   \n",
       "794955                  30            NO CONTROLS      NO CONTROLS   \n",
       "\n",
       "       WEATHER_CONDITION      LIGHTING_CONDITION          FIRST_CRASH_TYPE  \\\n",
       "794951             CLEAR                DAYLIGHT      PARKED MOTOR VEHICLE   \n",
       "794952           UNKNOWN                 UNKNOWN  SIDESWIPE SAME DIRECTION   \n",
       "794953             CLEAR                DAYLIGHT      PARKED MOTOR VEHICLE   \n",
       "794954             CLEAR  DARKNESS, LIGHTED ROAD                   TURNING   \n",
       "794955             CLEAR  DARKNESS, LIGHTED ROAD                     ANGLE   \n",
       "\n",
       "       TRAFFICWAY_TYPE           ALIGNMENT ROADWAY_SURFACE_COND ROAD_DEFECT  \\\n",
       "794951         ONE-WAY  STRAIGHT AND LEVEL                  DRY  NO DEFECTS   \n",
       "794952           OTHER  STRAIGHT AND LEVEL              UNKNOWN     UNKNOWN   \n",
       "794953         ONE-WAY  STRAIGHT AND LEVEL                  DRY  NO DEFECTS   \n",
       "794954     NOT DIVIDED  STRAIGHT AND LEVEL                  DRY  NO DEFECTS   \n",
       "794955     NOT DIVIDED  STRAIGHT AND LEVEL              UNKNOWN     UNKNOWN   \n",
       "\n",
       "                       REPORT_TYPE                        CRASH_TYPE  \\\n",
       "794951  NOT ON SCENE (DESK REPORT)            NO INJURY / DRIVE AWAY   \n",
       "794952  NOT ON SCENE (DESK REPORT)            NO INJURY / DRIVE AWAY   \n",
       "794953  NOT ON SCENE (DESK REPORT)            NO INJURY / DRIVE AWAY   \n",
       "794954                    ON SCENE  INJURY AND / OR TOW DUE TO CRASH   \n",
       "794955                    ON SCENE            NO INJURY / DRIVE AWAY   \n",
       "\n",
       "               DAMAGE DATE_POLICE_NOTIFIED        PRIM_CONTRIBUTORY_CAUSE  \\\n",
       "794951  $501 - $1,500  2023-11-06 14:12:00               IMPROPER BACKING   \n",
       "794952  $501 - $1,500  2023-11-07 19:14:00            UNABLE TO DETERMINE   \n",
       "794953    OVER $1,500  2023-11-07 16:50:00               IMPROPER BACKING   \n",
       "794954    OVER $1,500  2023-11-06 18:40:00            UNABLE TO DETERMINE   \n",
       "794955    OVER $1,500  2023-11-06 20:30:00  FAILING TO YIELD RIGHT-OF-WAY   \n",
       "\n",
       "        STREET_NO STREET_DIRECTION       STREET_NAME  BEAT_OF_OCCURRENCE  \\\n",
       "794951       1110                W        BELDEN AVE              1811.0   \n",
       "794952       9500                S  STONY ISLAND AVE               511.0   \n",
       "794953         44                E          104TH ST               512.0   \n",
       "794954       5115                W           63RD ST               813.0   \n",
       "794955       4653                S       WESTERN AVE               922.0   \n",
       "\n",
       "        NUM_UNITS       MOST_SEVERE_INJURY  INJURIES_TOTAL  INJURIES_FATAL  \\\n",
       "794951          2  NO INDICATION OF INJURY             0.0             0.0   \n",
       "794952          2  NO INDICATION OF INJURY             0.0             0.0   \n",
       "794953          3  NO INDICATION OF INJURY             0.0             0.0   \n",
       "794954          2  NO INDICATION OF INJURY             0.0             0.0   \n",
       "794955          2  NO INDICATION OF INJURY             0.0             0.0   \n",
       "\n",
       "        INJURIES_INCAPACITATING  INJURIES_NON_INCAPACITATING  \\\n",
       "794951                      0.0                          0.0   \n",
       "794952                      0.0                          0.0   \n",
       "794953                      0.0                          0.0   \n",
       "794954                      0.0                          0.0   \n",
       "794955                      0.0                          0.0   \n",
       "\n",
       "        INJURIES_REPORTED_NOT_EVIDENT  INJURIES_NO_INDICATION  \\\n",
       "794951                            0.0                     1.0   \n",
       "794952                            0.0                     2.0   \n",
       "794953                            0.0                     1.0   \n",
       "794954                            0.0                     4.0   \n",
       "794955                            0.0                     2.0   \n",
       "\n",
       "        INJURIES_UNKNOWN  CRASH_HOUR  CRASH_DAY_OF_WEEK  CRASH_MONTH  \n",
       "794951               0.0           7                  2           11  \n",
       "794952               0.0          18                  3           10  \n",
       "794953               0.0          23                  7           11  \n",
       "794954               0.0          18                  2           11  \n",
       "794955               0.0          19                  2           11  "
      ]
     },
     "execution_count": 4,
     "metadata": {},
     "output_type": "execute_result"
    }
   ],
   "source": [
    "chicago_crashes.tail(5)"
   ]
  },
  {
   "cell_type": "markdown",
   "metadata": {},
   "source": [
    "Lets take a look at the size of this dataset:"
   ]
  },
  {
   "cell_type": "code",
   "execution_count": 5,
   "metadata": {},
   "outputs": [
    {
     "name": "stdout",
     "output_type": "stream",
     "text": [
      "There are 794956 rows and 33 columns of data.\n"
     ]
    }
   ],
   "source": [
    "chicago_crashes.shape\n",
    "print(f\"There are {chicago_crashes.shape[0]} rows and {chicago_crashes.shape[1]} columns of data.\") "
   ]
  },
  {
   "cell_type": "markdown",
   "metadata": {},
   "source": [
    "Now lets see what type of datatypes each column has:"
   ]
  },
  {
   "cell_type": "code",
   "execution_count": 6,
   "metadata": {},
   "outputs": [
    {
     "name": "stdout",
     "output_type": "stream",
     "text": [
      "<class 'pandas.core.frame.DataFrame'>\n",
      "RangeIndex: 794956 entries, 0 to 794955\n",
      "Data columns (total 33 columns):\n",
      " #   Column                         Non-Null Count   Dtype         \n",
      "---  ------                         --------------   -----         \n",
      " 0   CRASH_RECORD_ID                794956 non-null  object        \n",
      " 1   CRASH_DATE                     794956 non-null  datetime64[ns]\n",
      " 2   POSTED_SPEED_LIMIT             794956 non-null  int64         \n",
      " 3   TRAFFIC_CONTROL_DEVICE         794956 non-null  object        \n",
      " 4   DEVICE_CONDITION               794956 non-null  object        \n",
      " 5   WEATHER_CONDITION              794956 non-null  object        \n",
      " 6   LIGHTING_CONDITION             794956 non-null  object        \n",
      " 7   FIRST_CRASH_TYPE               794956 non-null  object        \n",
      " 8   TRAFFICWAY_TYPE                794956 non-null  object        \n",
      " 9   ALIGNMENT                      794956 non-null  object        \n",
      " 10  ROADWAY_SURFACE_COND           794956 non-null  object        \n",
      " 11  ROAD_DEFECT                    794956 non-null  object        \n",
      " 12  REPORT_TYPE                    771698 non-null  object        \n",
      " 13  CRASH_TYPE                     794956 non-null  object        \n",
      " 14  DAMAGE                         794956 non-null  object        \n",
      " 15  DATE_POLICE_NOTIFIED           794956 non-null  datetime64[ns]\n",
      " 16  PRIM_CONTRIBUTORY_CAUSE        794956 non-null  object        \n",
      " 17  STREET_NO                      794956 non-null  int64         \n",
      " 18  STREET_DIRECTION               794952 non-null  object        \n",
      " 19  STREET_NAME                    794955 non-null  object        \n",
      " 20  BEAT_OF_OCCURRENCE             794951 non-null  float64       \n",
      " 21  NUM_UNITS                      794956 non-null  int64         \n",
      " 22  MOST_SEVERE_INJURY             793204 non-null  object        \n",
      " 23  INJURIES_TOTAL                 793215 non-null  float64       \n",
      " 24  INJURIES_FATAL                 793215 non-null  float64       \n",
      " 25  INJURIES_INCAPACITATING        793215 non-null  float64       \n",
      " 26  INJURIES_NON_INCAPACITATING    793215 non-null  float64       \n",
      " 27  INJURIES_REPORTED_NOT_EVIDENT  793215 non-null  float64       \n",
      " 28  INJURIES_NO_INDICATION         793215 non-null  float64       \n",
      " 29  INJURIES_UNKNOWN               793215 non-null  float64       \n",
      " 30  CRASH_HOUR                     794956 non-null  int64         \n",
      " 31  CRASH_DAY_OF_WEEK              794956 non-null  int64         \n",
      " 32  CRASH_MONTH                    794956 non-null  int64         \n",
      "dtypes: datetime64[ns](2), float64(8), int64(6), object(17)\n",
      "memory usage: 200.1+ MB\n"
     ]
    }
   ],
   "source": [
    "chicago_crashes.info()"
   ]
  },
  {
   "cell_type": "markdown",
   "metadata": {},
   "source": [
    "After peeking at the datatypes for the columns, it looks like we have a few columns that have decimals as their datatypes. These columns should be formatted as integers. We have a little data cleaning to be done. In this data cleaning process, we will begin by checking for and removing any null and duplicated values from the dataset. Once that has been completed, we will then change all float datatypes to the correct integer datatype. After that, we will extract the year, month, day, and time from the 'CRASH_DATE' and 'DATE_POLICE_NOTIFIED' columns and create new columns in the process, which is known as data transformation. Then, we will create another column named 'POLICE_RESPONSE_TIME' based on the difference from the 'DATE_POLICE_NOTIFIED' and 'CRASH_DATE', this step is known as data processing.\n",
    "\n",
    "\n",
    "\n",
    "Lets check for any duplicated rows of data:"
   ]
  },
  {
   "cell_type": "code",
   "execution_count": 7,
   "metadata": {},
   "outputs": [
    {
     "name": "stdout",
     "output_type": "stream",
     "text": [
      "There are 0 rows of duplicated data in this dataset.\n"
     ]
    }
   ],
   "source": [
    "chicago_crashes.duplicated().sum()\n",
    "print(f\"There are {chicago_crashes.duplicated().sum()} rows of duplicated data in this dataset.\") "
   ]
  },
  {
   "cell_type": "markdown",
   "metadata": {},
   "source": [
    "Lets have a look at the the number of N/A values per column:"
   ]
  },
  {
   "cell_type": "code",
   "execution_count": 8,
   "metadata": {},
   "outputs": [
    {
     "name": "stdout",
     "output_type": "stream",
     "text": [
      "The column CRASH_RECORD_ID has 0 N/A values\n",
      "The column CRASH_DATE has 0 N/A values\n",
      "The column POSTED_SPEED_LIMIT has 0 N/A values\n",
      "The column TRAFFIC_CONTROL_DEVICE has 0 N/A values\n",
      "The column DEVICE_CONDITION has 0 N/A values\n",
      "The column WEATHER_CONDITION has 0 N/A values\n",
      "The column LIGHTING_CONDITION has 0 N/A values\n",
      "The column FIRST_CRASH_TYPE has 0 N/A values\n",
      "The column TRAFFICWAY_TYPE has 0 N/A values\n",
      "The column ALIGNMENT has 0 N/A values\n",
      "The column ROADWAY_SURFACE_COND has 0 N/A values\n",
      "The column ROAD_DEFECT has 0 N/A values\n",
      "The column REPORT_TYPE has 23258 N/A values\n",
      "The column CRASH_TYPE has 0 N/A values\n",
      "The column DAMAGE has 0 N/A values\n",
      "The column DATE_POLICE_NOTIFIED has 0 N/A values\n",
      "The column PRIM_CONTRIBUTORY_CAUSE has 0 N/A values\n",
      "The column STREET_NO has 0 N/A values\n",
      "The column STREET_DIRECTION has 4 N/A values\n",
      "The column STREET_NAME has 1 N/A values\n",
      "The column BEAT_OF_OCCURRENCE has 5 N/A values\n",
      "The column NUM_UNITS has 0 N/A values\n",
      "The column MOST_SEVERE_INJURY has 1752 N/A values\n",
      "The column INJURIES_TOTAL has 1741 N/A values\n",
      "The column INJURIES_FATAL has 1741 N/A values\n",
      "The column INJURIES_INCAPACITATING has 1741 N/A values\n",
      "The column INJURIES_NON_INCAPACITATING has 1741 N/A values\n",
      "The column INJURIES_REPORTED_NOT_EVIDENT has 1741 N/A values\n",
      "The column INJURIES_NO_INDICATION has 1741 N/A values\n",
      "The column INJURIES_UNKNOWN has 1741 N/A values\n",
      "The column CRASH_HOUR has 0 N/A values\n",
      "The column CRASH_DAY_OF_WEEK has 0 N/A values\n",
      "The column CRASH_MONTH has 0 N/A values\n"
     ]
    }
   ],
   "source": [
    "for col in chicago_crashes.columns:\n",
    "    null_values = chicago_crashes[col].isnull().sum()\n",
    "    print(f\"The column {col} has {null_values} N/A values\") "
   ]
  },
  {
   "cell_type": "markdown",
   "metadata": {},
   "source": [
    "As we can see, we only have a few columns with null values. However, it is essential that the null values be addressed in order to proceed with accurate analysis. There are a few options to achieve that goal but in this case, we will simply remove all null values from the dataset."
   ]
  },
  {
   "cell_type": "code",
   "execution_count": 9,
   "metadata": {},
   "outputs": [],
   "source": [
    "chicago_crashes.dropna(inplace=True)"
   ]
  },
  {
   "cell_type": "markdown",
   "metadata": {},
   "source": [
    "Great! Now all of the null rows of data have been removed, so we will verify this by rechecking the rows of data:"
   ]
  },
  {
   "cell_type": "code",
   "execution_count": 10,
   "metadata": {},
   "outputs": [
    {
     "name": "stdout",
     "output_type": "stream",
     "text": [
      "The column CRASH_RECORD_ID now has 0 N/A values\n",
      "The column CRASH_DATE now has 0 N/A values\n",
      "The column POSTED_SPEED_LIMIT now has 0 N/A values\n",
      "The column TRAFFIC_CONTROL_DEVICE now has 0 N/A values\n",
      "The column DEVICE_CONDITION now has 0 N/A values\n",
      "The column WEATHER_CONDITION now has 0 N/A values\n",
      "The column LIGHTING_CONDITION now has 0 N/A values\n",
      "The column FIRST_CRASH_TYPE now has 0 N/A values\n",
      "The column TRAFFICWAY_TYPE now has 0 N/A values\n",
      "The column ALIGNMENT now has 0 N/A values\n",
      "The column ROADWAY_SURFACE_COND now has 0 N/A values\n",
      "The column ROAD_DEFECT now has 0 N/A values\n",
      "The column REPORT_TYPE now has 0 N/A values\n",
      "The column CRASH_TYPE now has 0 N/A values\n",
      "The column DAMAGE now has 0 N/A values\n",
      "The column DATE_POLICE_NOTIFIED now has 0 N/A values\n",
      "The column PRIM_CONTRIBUTORY_CAUSE now has 0 N/A values\n",
      "The column STREET_NO now has 0 N/A values\n",
      "The column STREET_DIRECTION now has 0 N/A values\n",
      "The column STREET_NAME now has 0 N/A values\n",
      "The column BEAT_OF_OCCURRENCE now has 0 N/A values\n",
      "The column NUM_UNITS now has 0 N/A values\n",
      "The column MOST_SEVERE_INJURY now has 0 N/A values\n",
      "The column INJURIES_TOTAL now has 0 N/A values\n",
      "The column INJURIES_FATAL now has 0 N/A values\n",
      "The column INJURIES_INCAPACITATING now has 0 N/A values\n",
      "The column INJURIES_NON_INCAPACITATING now has 0 N/A values\n",
      "The column INJURIES_REPORTED_NOT_EVIDENT now has 0 N/A values\n",
      "The column INJURIES_NO_INDICATION now has 0 N/A values\n",
      "The column INJURIES_UNKNOWN now has 0 N/A values\n",
      "The column CRASH_HOUR now has 0 N/A values\n",
      "The column CRASH_DAY_OF_WEEK now has 0 N/A values\n",
      "The column CRASH_MONTH now has 0 N/A values\n"
     ]
    }
   ],
   "source": [
    "for col in chicago_crashes.columns:\n",
    "    null_values = chicago_crashes[col].isnull().sum()\n",
    "    print(f\"The column {col} now has {null_values} N/A values\") "
   ]
  },
  {
   "cell_type": "markdown",
   "metadata": {},
   "source": [
    "Lets look at how the dataset has changed now:"
   ]
  },
  {
   "cell_type": "code",
   "execution_count": 11,
   "metadata": {},
   "outputs": [
    {
     "name": "stdout",
     "output_type": "stream",
     "text": [
      "We now have 769981 rows and 33 columns of data now.\n"
     ]
    }
   ],
   "source": [
    "print(f\"We now have {chicago_crashes.shape[0]} rows and {chicago_crashes.shape[1]} columns of data now.\")"
   ]
  },
  {
   "cell_type": "markdown",
   "metadata": {},
   "source": [
    "Now lets change all float datatypes to the correct integer datatypes:"
   ]
  },
  {
   "cell_type": "code",
   "execution_count": 12,
   "metadata": {},
   "outputs": [],
   "source": [
    "chicago_crashes[\"BEAT_OF_OCCURRENCE\"] = chicago_crashes[\"BEAT_OF_OCCURRENCE\"].astype(int)\n",
    "chicago_crashes[\"INJURIES_TOTAL\"] = chicago_crashes[\"INJURIES_TOTAL\"].astype(int)\n",
    "chicago_crashes[\"INJURIES_FATAL\"] = chicago_crashes[\"INJURIES_FATAL\"].astype(int)\n",
    "chicago_crashes[\"INJURIES_INCAPACITATING\"] = chicago_crashes[\"INJURIES_INCAPACITATING\"].astype(int)\n",
    "chicago_crashes[\"INJURIES_NON_INCAPACITATING\"] = chicago_crashes[\"INJURIES_NON_INCAPACITATING\"].astype(int)\n",
    "chicago_crashes[\"INJURIES_REPORTED_NOT_EVIDENT\"] = chicago_crashes[\"INJURIES_REPORTED_NOT_EVIDENT\"].astype(int)\n",
    "chicago_crashes[\"INJURIES_NO_INDICATION\"] = chicago_crashes[\"INJURIES_NO_INDICATION\"].astype(int)\n",
    "chicago_crashes[\"INJURIES_UNKNOWN\"] = chicago_crashes[\"INJURIES_UNKNOWN\"].astype(int)"
   ]
  },
  {
   "cell_type": "markdown",
   "metadata": {},
   "source": [
    "Lets check the datatypes to vefify that our changes have been properly made:"
   ]
  },
  {
   "cell_type": "code",
   "execution_count": 13,
   "metadata": {},
   "outputs": [
    {
     "name": "stdout",
     "output_type": "stream",
     "text": [
      "<class 'pandas.core.frame.DataFrame'>\n",
      "Int64Index: 769981 entries, 0 to 794955\n",
      "Data columns (total 33 columns):\n",
      " #   Column                         Non-Null Count   Dtype         \n",
      "---  ------                         --------------   -----         \n",
      " 0   CRASH_RECORD_ID                769981 non-null  object        \n",
      " 1   CRASH_DATE                     769981 non-null  datetime64[ns]\n",
      " 2   POSTED_SPEED_LIMIT             769981 non-null  int64         \n",
      " 3   TRAFFIC_CONTROL_DEVICE         769981 non-null  object        \n",
      " 4   DEVICE_CONDITION               769981 non-null  object        \n",
      " 5   WEATHER_CONDITION              769981 non-null  object        \n",
      " 6   LIGHTING_CONDITION             769981 non-null  object        \n",
      " 7   FIRST_CRASH_TYPE               769981 non-null  object        \n",
      " 8   TRAFFICWAY_TYPE                769981 non-null  object        \n",
      " 9   ALIGNMENT                      769981 non-null  object        \n",
      " 10  ROADWAY_SURFACE_COND           769981 non-null  object        \n",
      " 11  ROAD_DEFECT                    769981 non-null  object        \n",
      " 12  REPORT_TYPE                    769981 non-null  object        \n",
      " 13  CRASH_TYPE                     769981 non-null  object        \n",
      " 14  DAMAGE                         769981 non-null  object        \n",
      " 15  DATE_POLICE_NOTIFIED           769981 non-null  datetime64[ns]\n",
      " 16  PRIM_CONTRIBUTORY_CAUSE        769981 non-null  object        \n",
      " 17  STREET_NO                      769981 non-null  int64         \n",
      " 18  STREET_DIRECTION               769981 non-null  object        \n",
      " 19  STREET_NAME                    769981 non-null  object        \n",
      " 20  BEAT_OF_OCCURRENCE             769981 non-null  int32         \n",
      " 21  NUM_UNITS                      769981 non-null  int64         \n",
      " 22  MOST_SEVERE_INJURY             769981 non-null  object        \n",
      " 23  INJURIES_TOTAL                 769981 non-null  int32         \n",
      " 24  INJURIES_FATAL                 769981 non-null  int32         \n",
      " 25  INJURIES_INCAPACITATING        769981 non-null  int32         \n",
      " 26  INJURIES_NON_INCAPACITATING    769981 non-null  int32         \n",
      " 27  INJURIES_REPORTED_NOT_EVIDENT  769981 non-null  int32         \n",
      " 28  INJURIES_NO_INDICATION         769981 non-null  int32         \n",
      " 29  INJURIES_UNKNOWN               769981 non-null  int32         \n",
      " 30  CRASH_HOUR                     769981 non-null  int64         \n",
      " 31  CRASH_DAY_OF_WEEK              769981 non-null  int64         \n",
      " 32  CRASH_MONTH                    769981 non-null  int64         \n",
      "dtypes: datetime64[ns](2), int32(8), int64(6), object(17)\n",
      "memory usage: 176.2+ MB\n"
     ]
    }
   ],
   "source": [
    "chicago_crashes.info()"
   ]
  },
  {
   "cell_type": "markdown",
   "metadata": {},
   "source": [
    "Perfect! We will now extract the year, month, and day from the 'CRASH_DATE\" and 'DATE_POLICE_NOTIFIED' columns to create thier own seperate columns for analysis:"
   ]
  },
  {
   "cell_type": "code",
   "execution_count": 14,
   "metadata": {},
   "outputs": [],
   "source": [
    "chicago_crashes[\"CRASH_YEAR\"] = chicago_crashes[\"CRASH_DATE\"].dt.year\n",
    "chicago_crashes[\"POLICE_NOTIFIED_YEAR\"] = chicago_crashes[\"DATE_POLICE_NOTIFIED\"].dt.year\n",
    "chicago_crashes[\"CRASH_DAY\"] = chicago_crashes[\"CRASH_DATE\"].dt.day_name()\n",
    "chicago_crashes[\"POLICE_NOTIFIED_DAY\"] = chicago_crashes[\"DATE_POLICE_NOTIFIED\"].dt.day_name()"
   ]
  },
  {
   "cell_type": "markdown",
   "metadata": {},
   "source": [
    "Lets take a look at our columns to verify that the correct changes have been made:"
   ]
  },
  {
   "cell_type": "code",
   "execution_count": 15,
   "metadata": {},
   "outputs": [
    {
     "data": {
      "text/plain": [
       "Index(['CRASH_RECORD_ID', 'CRASH_DATE', 'POSTED_SPEED_LIMIT',\n",
       "       'TRAFFIC_CONTROL_DEVICE', 'DEVICE_CONDITION', 'WEATHER_CONDITION',\n",
       "       'LIGHTING_CONDITION', 'FIRST_CRASH_TYPE', 'TRAFFICWAY_TYPE',\n",
       "       'ALIGNMENT', 'ROADWAY_SURFACE_COND', 'ROAD_DEFECT', 'REPORT_TYPE',\n",
       "       'CRASH_TYPE', 'DAMAGE', 'DATE_POLICE_NOTIFIED',\n",
       "       'PRIM_CONTRIBUTORY_CAUSE', 'STREET_NO', 'STREET_DIRECTION',\n",
       "       'STREET_NAME', 'BEAT_OF_OCCURRENCE', 'NUM_UNITS', 'MOST_SEVERE_INJURY',\n",
       "       'INJURIES_TOTAL', 'INJURIES_FATAL', 'INJURIES_INCAPACITATING',\n",
       "       'INJURIES_NON_INCAPACITATING', 'INJURIES_REPORTED_NOT_EVIDENT',\n",
       "       'INJURIES_NO_INDICATION', 'INJURIES_UNKNOWN', 'CRASH_HOUR',\n",
       "       'CRASH_DAY_OF_WEEK', 'CRASH_MONTH', 'CRASH_YEAR',\n",
       "       'POLICE_NOTIFIED_YEAR', 'CRASH_DAY', 'POLICE_NOTIFIED_DAY'],\n",
       "      dtype='object')"
      ]
     },
     "execution_count": 15,
     "metadata": {},
     "output_type": "execute_result"
    }
   ],
   "source": [
    "chicago_crashes.columns"
   ]
  },
  {
   "cell_type": "markdown",
   "metadata": {},
   "source": [
    "As we can see, the four new columns have been added to our dataset as expected.\n",
    "\n",
    "Now we will create a column called 'POLICE_RESPONSE_TIME' based on the difference between the time the police were notified and the crash time. To complete this, we will first need to create a 'CRASH_TIME' and 'POLICE_NOTIFIED_TIME' column:"
   ]
  },
  {
   "cell_type": "code",
   "execution_count": 16,
   "metadata": {},
   "outputs": [],
   "source": [
    "chicago_crashes[\"CRASH_TIME\"] = chicago_crashes[\"CRASH_DATE\"].dt.time\n",
    "chicago_crashes[\"POLICE_NOTIFIED_TIME\"] = chicago_crashes[\"DATE_POLICE_NOTIFIED\"].dt.time\n"
   ]
  },
  {
   "cell_type": "markdown",
   "metadata": {},
   "source": [
    "Lets check the first 3 values in each row of the columns to verify that all of the data is correct:"
   ]
  },
  {
   "cell_type": "code",
   "execution_count": 17,
   "metadata": {},
   "outputs": [
    {
     "data": {
      "text/html": [
       "<div>\n",
       "<style scoped>\n",
       "    .dataframe tbody tr th:only-of-type {\n",
       "        vertical-align: middle;\n",
       "    }\n",
       "\n",
       "    .dataframe tbody tr th {\n",
       "        vertical-align: top;\n",
       "    }\n",
       "\n",
       "    .dataframe thead th {\n",
       "        text-align: right;\n",
       "    }\n",
       "</style>\n",
       "<table border=\"1\" class=\"dataframe\">\n",
       "  <thead>\n",
       "    <tr style=\"text-align: right;\">\n",
       "      <th></th>\n",
       "      <th>CRASH_RECORD_ID</th>\n",
       "      <th>CRASH_DATE</th>\n",
       "      <th>POSTED_SPEED_LIMIT</th>\n",
       "      <th>TRAFFIC_CONTROL_DEVICE</th>\n",
       "      <th>DEVICE_CONDITION</th>\n",
       "      <th>WEATHER_CONDITION</th>\n",
       "      <th>LIGHTING_CONDITION</th>\n",
       "      <th>FIRST_CRASH_TYPE</th>\n",
       "      <th>TRAFFICWAY_TYPE</th>\n",
       "      <th>ALIGNMENT</th>\n",
       "      <th>ROADWAY_SURFACE_COND</th>\n",
       "      <th>ROAD_DEFECT</th>\n",
       "      <th>REPORT_TYPE</th>\n",
       "      <th>CRASH_TYPE</th>\n",
       "      <th>DAMAGE</th>\n",
       "      <th>DATE_POLICE_NOTIFIED</th>\n",
       "      <th>PRIM_CONTRIBUTORY_CAUSE</th>\n",
       "      <th>STREET_NO</th>\n",
       "      <th>STREET_DIRECTION</th>\n",
       "      <th>STREET_NAME</th>\n",
       "      <th>BEAT_OF_OCCURRENCE</th>\n",
       "      <th>NUM_UNITS</th>\n",
       "      <th>MOST_SEVERE_INJURY</th>\n",
       "      <th>INJURIES_TOTAL</th>\n",
       "      <th>INJURIES_FATAL</th>\n",
       "      <th>INJURIES_INCAPACITATING</th>\n",
       "      <th>INJURIES_NON_INCAPACITATING</th>\n",
       "      <th>INJURIES_REPORTED_NOT_EVIDENT</th>\n",
       "      <th>INJURIES_NO_INDICATION</th>\n",
       "      <th>INJURIES_UNKNOWN</th>\n",
       "      <th>CRASH_HOUR</th>\n",
       "      <th>CRASH_DAY_OF_WEEK</th>\n",
       "      <th>CRASH_MONTH</th>\n",
       "      <th>CRASH_YEAR</th>\n",
       "      <th>POLICE_NOTIFIED_YEAR</th>\n",
       "      <th>CRASH_DAY</th>\n",
       "      <th>POLICE_NOTIFIED_DAY</th>\n",
       "      <th>CRASH_TIME</th>\n",
       "      <th>POLICE_NOTIFIED_TIME</th>\n",
       "    </tr>\n",
       "  </thead>\n",
       "  <tbody>\n",
       "    <tr>\n",
       "      <th>0</th>\n",
       "      <td>23a79931ef555d54118f64dc9be2cf2dbf59636ce253f7...</td>\n",
       "      <td>2023-09-05 19:05:00</td>\n",
       "      <td>30</td>\n",
       "      <td>TRAFFIC SIGNAL</td>\n",
       "      <td>FUNCTIONING PROPERLY</td>\n",
       "      <td>CLEAR</td>\n",
       "      <td>DUSK</td>\n",
       "      <td>ANGLE</td>\n",
       "      <td>FIVE POINT, OR MORE</td>\n",
       "      <td>STRAIGHT AND LEVEL</td>\n",
       "      <td>DRY</td>\n",
       "      <td>NO DEFECTS</td>\n",
       "      <td>ON SCENE</td>\n",
       "      <td>INJURY AND / OR TOW DUE TO CRASH</td>\n",
       "      <td>OVER $1,500</td>\n",
       "      <td>2023-09-05 19:05:00</td>\n",
       "      <td>UNABLE TO DETERMINE</td>\n",
       "      <td>5500</td>\n",
       "      <td>S</td>\n",
       "      <td>WENTWORTH AVE</td>\n",
       "      <td>225</td>\n",
       "      <td>2</td>\n",
       "      <td>INCAPACITATING INJURY</td>\n",
       "      <td>3</td>\n",
       "      <td>0</td>\n",
       "      <td>1</td>\n",
       "      <td>2</td>\n",
       "      <td>0</td>\n",
       "      <td>2</td>\n",
       "      <td>0</td>\n",
       "      <td>19</td>\n",
       "      <td>3</td>\n",
       "      <td>9</td>\n",
       "      <td>2023</td>\n",
       "      <td>2023</td>\n",
       "      <td>Tuesday</td>\n",
       "      <td>Tuesday</td>\n",
       "      <td>19:05:00</td>\n",
       "      <td>19:05:00</td>\n",
       "    </tr>\n",
       "    <tr>\n",
       "      <th>1</th>\n",
       "      <td>2675c13fd0f474d730a5b780968b3cafc7c12d7adb661f...</td>\n",
       "      <td>2023-09-22 18:45:00</td>\n",
       "      <td>50</td>\n",
       "      <td>NO CONTROLS</td>\n",
       "      <td>NO CONTROLS</td>\n",
       "      <td>CLEAR</td>\n",
       "      <td>DARKNESS, LIGHTED ROAD</td>\n",
       "      <td>REAR END</td>\n",
       "      <td>DIVIDED - W/MEDIAN BARRIER</td>\n",
       "      <td>STRAIGHT AND LEVEL</td>\n",
       "      <td>DRY</td>\n",
       "      <td>NO DEFECTS</td>\n",
       "      <td>ON SCENE</td>\n",
       "      <td>NO INJURY / DRIVE AWAY</td>\n",
       "      <td>OVER $1,500</td>\n",
       "      <td>2023-09-22 18:50:00</td>\n",
       "      <td>FOLLOWING TOO CLOSELY</td>\n",
       "      <td>7900</td>\n",
       "      <td>S</td>\n",
       "      <td>CHICAGO SKYWAY OB</td>\n",
       "      <td>411</td>\n",
       "      <td>2</td>\n",
       "      <td>NO INDICATION OF INJURY</td>\n",
       "      <td>0</td>\n",
       "      <td>0</td>\n",
       "      <td>0</td>\n",
       "      <td>0</td>\n",
       "      <td>0</td>\n",
       "      <td>2</td>\n",
       "      <td>0</td>\n",
       "      <td>18</td>\n",
       "      <td>6</td>\n",
       "      <td>9</td>\n",
       "      <td>2023</td>\n",
       "      <td>2023</td>\n",
       "      <td>Friday</td>\n",
       "      <td>Friday</td>\n",
       "      <td>18:45:00</td>\n",
       "      <td>18:50:00</td>\n",
       "    </tr>\n",
       "    <tr>\n",
       "      <th>2</th>\n",
       "      <td>5f54a59fcb087b12ae5b1acff96a3caf4f2d37e79f8db4...</td>\n",
       "      <td>2023-07-29 14:45:00</td>\n",
       "      <td>30</td>\n",
       "      <td>TRAFFIC SIGNAL</td>\n",
       "      <td>FUNCTIONING PROPERLY</td>\n",
       "      <td>CLEAR</td>\n",
       "      <td>DAYLIGHT</td>\n",
       "      <td>PARKED MOTOR VEHICLE</td>\n",
       "      <td>DIVIDED - W/MEDIAN (NOT RAISED)</td>\n",
       "      <td>STRAIGHT AND LEVEL</td>\n",
       "      <td>DRY</td>\n",
       "      <td>NO DEFECTS</td>\n",
       "      <td>ON SCENE</td>\n",
       "      <td>NO INJURY / DRIVE AWAY</td>\n",
       "      <td>OVER $1,500</td>\n",
       "      <td>2023-07-29 14:45:00</td>\n",
       "      <td>FAILING TO REDUCE SPEED TO AVOID CRASH</td>\n",
       "      <td>2101</td>\n",
       "      <td>S</td>\n",
       "      <td>ASHLAND AVE</td>\n",
       "      <td>1235</td>\n",
       "      <td>4</td>\n",
       "      <td>NO INDICATION OF INJURY</td>\n",
       "      <td>0</td>\n",
       "      <td>0</td>\n",
       "      <td>0</td>\n",
       "      <td>0</td>\n",
       "      <td>0</td>\n",
       "      <td>1</td>\n",
       "      <td>0</td>\n",
       "      <td>14</td>\n",
       "      <td>7</td>\n",
       "      <td>7</td>\n",
       "      <td>2023</td>\n",
       "      <td>2023</td>\n",
       "      <td>Saturday</td>\n",
       "      <td>Saturday</td>\n",
       "      <td>14:45:00</td>\n",
       "      <td>14:45:00</td>\n",
       "    </tr>\n",
       "  </tbody>\n",
       "</table>\n",
       "</div>"
      ],
      "text/plain": [
       "                                     CRASH_RECORD_ID          CRASH_DATE  \\\n",
       "0  23a79931ef555d54118f64dc9be2cf2dbf59636ce253f7... 2023-09-05 19:05:00   \n",
       "1  2675c13fd0f474d730a5b780968b3cafc7c12d7adb661f... 2023-09-22 18:45:00   \n",
       "2  5f54a59fcb087b12ae5b1acff96a3caf4f2d37e79f8db4... 2023-07-29 14:45:00   \n",
       "\n",
       "   POSTED_SPEED_LIMIT TRAFFIC_CONTROL_DEVICE      DEVICE_CONDITION  \\\n",
       "0                  30         TRAFFIC SIGNAL  FUNCTIONING PROPERLY   \n",
       "1                  50            NO CONTROLS           NO CONTROLS   \n",
       "2                  30         TRAFFIC SIGNAL  FUNCTIONING PROPERLY   \n",
       "\n",
       "  WEATHER_CONDITION      LIGHTING_CONDITION      FIRST_CRASH_TYPE  \\\n",
       "0             CLEAR                    DUSK                 ANGLE   \n",
       "1             CLEAR  DARKNESS, LIGHTED ROAD              REAR END   \n",
       "2             CLEAR                DAYLIGHT  PARKED MOTOR VEHICLE   \n",
       "\n",
       "                   TRAFFICWAY_TYPE           ALIGNMENT ROADWAY_SURFACE_COND  \\\n",
       "0              FIVE POINT, OR MORE  STRAIGHT AND LEVEL                  DRY   \n",
       "1       DIVIDED - W/MEDIAN BARRIER  STRAIGHT AND LEVEL                  DRY   \n",
       "2  DIVIDED - W/MEDIAN (NOT RAISED)  STRAIGHT AND LEVEL                  DRY   \n",
       "\n",
       "  ROAD_DEFECT REPORT_TYPE                        CRASH_TYPE       DAMAGE  \\\n",
       "0  NO DEFECTS    ON SCENE  INJURY AND / OR TOW DUE TO CRASH  OVER $1,500   \n",
       "1  NO DEFECTS    ON SCENE            NO INJURY / DRIVE AWAY  OVER $1,500   \n",
       "2  NO DEFECTS    ON SCENE            NO INJURY / DRIVE AWAY  OVER $1,500   \n",
       "\n",
       "  DATE_POLICE_NOTIFIED                 PRIM_CONTRIBUTORY_CAUSE  STREET_NO  \\\n",
       "0  2023-09-05 19:05:00                     UNABLE TO DETERMINE       5500   \n",
       "1  2023-09-22 18:50:00                   FOLLOWING TOO CLOSELY       7900   \n",
       "2  2023-07-29 14:45:00  FAILING TO REDUCE SPEED TO AVOID CRASH       2101   \n",
       "\n",
       "  STREET_DIRECTION        STREET_NAME  BEAT_OF_OCCURRENCE  NUM_UNITS  \\\n",
       "0                S      WENTWORTH AVE                 225          2   \n",
       "1                S  CHICAGO SKYWAY OB                 411          2   \n",
       "2                S        ASHLAND AVE                1235          4   \n",
       "\n",
       "        MOST_SEVERE_INJURY  INJURIES_TOTAL  INJURIES_FATAL  \\\n",
       "0    INCAPACITATING INJURY               3               0   \n",
       "1  NO INDICATION OF INJURY               0               0   \n",
       "2  NO INDICATION OF INJURY               0               0   \n",
       "\n",
       "   INJURIES_INCAPACITATING  INJURIES_NON_INCAPACITATING  \\\n",
       "0                        1                            2   \n",
       "1                        0                            0   \n",
       "2                        0                            0   \n",
       "\n",
       "   INJURIES_REPORTED_NOT_EVIDENT  INJURIES_NO_INDICATION  INJURIES_UNKNOWN  \\\n",
       "0                              0                       2                 0   \n",
       "1                              0                       2                 0   \n",
       "2                              0                       1                 0   \n",
       "\n",
       "   CRASH_HOUR  CRASH_DAY_OF_WEEK  CRASH_MONTH  CRASH_YEAR  \\\n",
       "0          19                  3            9        2023   \n",
       "1          18                  6            9        2023   \n",
       "2          14                  7            7        2023   \n",
       "\n",
       "   POLICE_NOTIFIED_YEAR CRASH_DAY POLICE_NOTIFIED_DAY CRASH_TIME  \\\n",
       "0                  2023   Tuesday             Tuesday   19:05:00   \n",
       "1                  2023    Friday              Friday   18:45:00   \n",
       "2                  2023  Saturday            Saturday   14:45:00   \n",
       "\n",
       "  POLICE_NOTIFIED_TIME  \n",
       "0             19:05:00  \n",
       "1             18:50:00  \n",
       "2             14:45:00  "
      ]
     },
     "execution_count": 17,
     "metadata": {},
     "output_type": "execute_result"
    }
   ],
   "source": [
    "chicago_crashes.head(3)"
   ]
  },
  {
   "cell_type": "markdown",
   "metadata": {},
   "source": [
    "Ok, everything looks as it should. Now its time that we calculate the police response time to each accident. To do this, we will create a new column named 'POLICE_RESPONSE_TIME' and fill it with the difference between the 'POLICE_NOTIFIED_TIME' and 'CRASH_TIME' in minutes:"
   ]
  },
  {
   "cell_type": "code",
   "execution_count": 18,
   "metadata": {},
   "outputs": [
    {
     "data": {
      "text/plain": [
       "0     0\n",
       "1     5\n",
       "2     0\n",
       "3    40\n",
       "4     5\n",
       "Name: MINS_FOR_POLICE_TO_BE_NOTIFIED, dtype: int64"
      ]
     },
     "execution_count": 18,
     "metadata": {},
     "output_type": "execute_result"
    }
   ],
   "source": [
    "chicago_crashes[\"MINS_FOR_POLICE_TO_BE_NOTIFIED\"] = chicago_crashes[\"DATE_POLICE_NOTIFIED\"].dt.minute - chicago_crashes[\"CRASH_DATE\"].dt.minute\n",
    "chicago_crashes[\"MINS_FOR_POLICE_TO_BE_NOTIFIED\"][:5]"
   ]
  },
  {
   "cell_type": "markdown",
   "metadata": {},
   "source": [
    "Great. Now that I've previewed the first 5 rows of that newly calculated column, we will now begin to answer a few questions:\n",
    "\n",
    "\n",
    "What year had the most accidents?"
   ]
  },
  {
   "cell_type": "code",
   "execution_count": 19,
   "metadata": {},
   "outputs": [
    {
     "data": {
      "text/plain": [
       "CRASH_YEAR\n",
       "2013         2\n",
       "2014         6\n",
       "2015      9807\n",
       "2016     43948\n",
       "2017     81983\n",
       "2018    115598\n",
       "2019    113870\n",
       "2020     89190\n",
       "2021    105127\n",
       "2022    104095\n",
       "2023    105863\n",
       "2024       492\n",
       "Name: CRASH_RECORD_ID, dtype: int64"
      ]
     },
     "execution_count": 19,
     "metadata": {},
     "output_type": "execute_result"
    }
   ],
   "source": [
    "chicago_crashes.groupby(\"CRASH_YEAR\")[\"CRASH_RECORD_ID\"].nunique()"
   ]
  },
  {
   "cell_type": "markdown",
   "metadata": {},
   "source": [
    "It appears that the year 2018 has experienced the most traffic accidents in the city of Chicago. Now lets visualize that in a bar graph."
   ]
  },
  {
   "cell_type": "code",
   "execution_count": 20,
   "metadata": {},
   "outputs": [
    {
     "name": "stdout",
     "output_type": "stream",
     "text": [
      "2018 had the most accidents by year, while 2013 had the least.\n"
     ]
    },
    {
     "data": {
      "image/png": "[encoded data removed]",
      "text/plain": [
       "<Figure size 1000x600 with 1 Axes>"
      ]
     },
     "metadata": {},
     "output_type": "display_data"
    }
   ],
   "source": [
    "plt.figure(figsize=(10, 6))\n",
    "chicago_crashes.groupby(\"CRASH_YEAR\")[\"CRASH_RECORD_ID\"].nunique().sort_values(ascending=False).plot(kind=\"bar\", \n",
    "                                                                                                     rot=0, \n",
    "                                                                                                     color=\"blue\"),\n",
    "plt.title(\"Accidents by Year\", \n",
    "          color=\"black\", \n",
    "          fontsize=20),\n",
    "ticks = list(range(0, 124000, 20000))\n",
    "plt.yticks(ticks, [f\"{x} Accidents\" for x in ticks], \n",
    "           color=\"orange\"),\n",
    "plt.ylabel(\"\"),\n",
    "plt.xlabel(\"\"),\n",
    "plt.xticks(color=\"Black\")\n",
    "print(f\"2018 had the most accidents by year, while 2013 had the least.\")"
   ]
  },
  {
   "cell_type": "markdown",
   "metadata": {},
   "source": [
    "What year had the most fatal accidents?"
   ]
  },
  {
   "cell_type": "code",
   "execution_count": 21,
   "metadata": {},
   "outputs": [
    {
     "data": {
      "text/plain": [
       "CRASH_YEAR\n",
       "2015      3\n",
       "2016     13\n",
       "2017     67\n",
       "2018     85\n",
       "2019     79\n",
       "2020    102\n",
       "2021    120\n",
       "2022    107\n",
       "2023    112\n",
       "Name: CRASH_RECORD_ID, dtype: int64"
      ]
     },
     "execution_count": 21,
     "metadata": {},
     "output_type": "execute_result"
    }
   ],
   "source": [
    "# chicago_crashes.groupby(\"CRASH_YEAR\")[\"INJURIES_FATAL\"].value_counts()\n",
    "chicago_crashes[chicago_crashes[\"INJURIES_FATAL\"] >= 1].groupby(\"CRASH_YEAR\")[\"CRASH_RECORD_ID\"].nunique()"
   ]
  },
  {
   "cell_type": "markdown",
   "metadata": {},
   "source": [
    "The year 2021 experienced the most fatal accidents in the city of Chicago. Lets visualize that!"
   ]
  },
  {
   "cell_type": "code",
   "execution_count": 22,
   "metadata": {},
   "outputs": [
    {
     "name": "stdout",
     "output_type": "stream",
     "text": [
      "The year 2021 had the most fatal accidents with 120, while the year 2015 experienced the least with a total of 3.\n"
     ]
    },
    {
     "data": {
      "image/png": "[encoded data removed]",
      "text/plain": [
       "<Figure size 1000x600 with 1 Axes>"
      ]
     },
     "metadata": {},
     "output_type": "display_data"
    }
   ],
   "source": [
    "plt.figure(figsize=(10, 6))\n",
    "chicago_crashes[chicago_crashes[\"INJURIES_FATAL\"] >= 1].groupby(\"CRASH_YEAR\")[\"CRASH_RECORD_ID\"].nunique().sort_values(ascending=True).plot(kind=\"barh\", \n",
    "                                                                                                                                            color=\"red\"),\n",
    "plt.title(\"Fatal Accidents by Year\", \n",
    "          color=\"black\", \n",
    "          fontsize=20),\n",
    "ticks = list(range(0, 140, 20))\n",
    "plt.xticks(ticks, [f\"{x} deaths\" for x in ticks], \n",
    "           color=\"black\")\n",
    "plt.ylabel(\"\"),\n",
    "plt.yticks(color=\"black\"),\n",
    "plt.xticks(color=\"black\")\n",
    "print(\"The year 2021 had the most fatal accidents with 120, while the year 2015 experienced the least with a total of 3.\")\n"
   ]
  },
  {
   "cell_type": "markdown",
   "metadata": {},
   "source": [
    "How many incapacitating accidents were there by year?"
   ]
  },
  {
   "cell_type": "code",
   "execution_count": 23,
   "metadata": {},
   "outputs": [
    {
     "data": {
      "text/plain": [
       "CRASH_YEAR\n",
       "2015      52\n",
       "2016     274\n",
       "2017    1205\n",
       "2018    2046\n",
       "2019    1872\n",
       "2020    1795\n",
       "2021    1916\n",
       "2022    1815\n",
       "2023    1747\n",
       "2024       8\n",
       "Name: CRASH_RECORD_ID, dtype: int64"
      ]
     },
     "execution_count": 23,
     "metadata": {},
     "output_type": "execute_result"
    }
   ],
   "source": [
    "chicago_crashes[chicago_crashes[\"INJURIES_INCAPACITATING\"] >= 1].groupby(\"CRASH_YEAR\")[\"CRASH_RECORD_ID\"].nunique()"
   ]
  },
  {
   "cell_type": "markdown",
   "metadata": {},
   "source": [
    "Now lets visualize these results in a line graph."
   ]
  },
  {
   "cell_type": "code",
   "execution_count": 24,
   "metadata": {},
   "outputs": [
    {
     "name": "stdout",
     "output_type": "stream",
     "text": [
      "The line graph helps us easily identify the trend in the accidents by year.\n"
     ]
    },
    {
     "data": {
      "image/png": "[encoded data removed]",
      "text/plain": [
       "<Figure size 1000x600 with 1 Axes>"
      ]
     },
     "metadata": {},
     "output_type": "display_data"
    }
   ],
   "source": [
    "plt.figure(figsize=(10, 6))\n",
    "chicago_crashes[chicago_crashes[\"INJURIES_INCAPACITATING\"] >= 1].groupby(\"CRASH_YEAR\")[\"CRASH_RECORD_ID\"].nunique().plot(kind=\"line\", \n",
    "                                                                                                                         color=\"skyblue\", \n",
    "                                                                                                                         linestyle=\"--\", \n",
    "                                                                                                                         marker=\"o\", \n",
    "                                                                                                                         label=\"line with marker\") \n",
    "plt.title(\"Incapacitating Accidents by Year\", \n",
    "          fontsize=20, \n",
    "          color=\"red\")\n",
    "acc = list(range(0, 2500, 250))\n",
    "plt.yticks(acc, [f\"{x} Accidents\" for x in acc], \n",
    "           color=\"black\")\n",
    "plt.xlabel(\" \")\n",
    "print(\"The line graph helps us easily identify the trend in the accidents by year.\")"
   ]
  },
  {
   "cell_type": "markdown",
   "metadata": {},
   "source": [
    "How many total accidents were there by month?"
   ]
  },
  {
   "cell_type": "code",
   "execution_count": 25,
   "metadata": {},
   "outputs": [
    {
     "data": {
      "text/plain": [
       "CRASH_MONTH\n",
       "1     56455\n",
       "2     55769\n",
       "3     56881\n",
       "4     55305\n",
       "5     64458\n",
       "6     65408\n",
       "7     66731\n",
       "8     68665\n",
       "9     70206\n",
       "10    74355\n",
       "11    67211\n",
       "12    68537\n",
       "Name: CRASH_RECORD_ID, dtype: int64"
      ]
     },
     "execution_count": 25,
     "metadata": {},
     "output_type": "execute_result"
    }
   ],
   "source": [
    "chicago_crashes.groupby(\"CRASH_MONTH\")[\"CRASH_RECORD_ID\"].nunique()"
   ]
  },
  {
   "cell_type": "code",
   "execution_count": 26,
   "metadata": {},
   "outputs": [
    {
     "name": "stdout",
     "output_type": "stream",
     "text": [
      "We can see a trend of fewer accidents in the first four months of the year and then gradually increasing each month until October, then decreasing in November and rising slightly in December.\n"
     ]
    },
    {
     "data": {
      "image/png": "[encoded data removed]",
      "text/plain": [
       "<Figure size 1000x600 with 1 Axes>"
      ]
     },
     "metadata": {},
     "output_type": "display_data"
    }
   ],
   "source": [
    "plt.figure(figsize=(10, 6))\n",
    "chicago_crashes.groupby(\"CRASH_MONTH\")[\"CRASH_RECORD_ID\"].nunique().plot(kind=\"bar\", \n",
    "                                                                         color=\"cyan\", \n",
    "                                                                         rot=0)\n",
    "plt.title(\"Accidents by Month\", \n",
    "          color=\"black\", \n",
    "          fontsize=20)\n",
    "accident = list(range(0,90000,10000))\n",
    "plt.yticks(accident, [f\"{a} accidents\" for a in accident], \n",
    "           color=\"red\")\n",
    "plt.xlabel(\"\") \n",
    "plt.xticks([0,1,2,3,4,5,6,7,8,9,10,11], \n",
    "           [\"Jan\", \"Feb\", \"March\", \"April\", \"May\", \"June\", \"July\", \"Aug\", \"Sept\", \"Oct\", \"Nov\", \"Dec\"], \n",
    "           color=\"black\")\n",
    "print(\"We can see a trend of fewer accidents in the first four months of the year and then gradually increasing each month until October, then decreasing in November and rising slightly in December.\")"
   ]
  },
  {
   "cell_type": "markdown",
   "metadata": {},
   "source": [
    "How many fatal accidents are there by month?"
   ]
  },
  {
   "cell_type": "code",
   "execution_count": 27,
   "metadata": {},
   "outputs": [
    {
     "data": {
      "text/plain": [
       "CRASH_MONTH\n",
       "1     51\n",
       "2     44\n",
       "3     38\n",
       "4     37\n",
       "5     57\n",
       "6     61\n",
       "7     76\n",
       "8     71\n",
       "9     68\n",
       "10    65\n",
       "11    54\n",
       "12    66\n",
       "Name: CRASH_RECORD_ID, dtype: int64"
      ]
     },
     "execution_count": 27,
     "metadata": {},
     "output_type": "execute_result"
    }
   ],
   "source": [
    "chicago_crashes[chicago_crashes[\"INJURIES_FATAL\"] >= 1].groupby(\"CRASH_MONTH\")[\"CRASH_RECORD_ID\"].nunique()"
   ]
  },
  {
   "cell_type": "markdown",
   "metadata": {},
   "source": [
    "Lets visualize the number of fatal accidents by month over a line graph."
   ]
  },
  {
   "cell_type": "code",
   "execution_count": 28,
   "metadata": {},
   "outputs": [
    {
     "name": "stdout",
     "output_type": "stream",
     "text": [
      "The number of fatal accidents begins at 51 in January and gradually decreases until the month of April where they hit 37. They amount of fatal accidents increases continually in the month of May\n",
      "where they are at 57 until the month of July, where they are 76 and begin to gradually decrease until the month of November where they hit 54. The number of fatal accidents then begin to increase \n",
      "again in the month of December to 66.\n"
     ]
    },
    {
     "data": {
      "image/png": "[encoded data removed]",
      "text/plain": [
       "<Figure size 1000x600 with 1 Axes>"
      ]
     },
     "metadata": {},
     "output_type": "display_data"
    }
   ],
   "source": [
    "plt.figure(figsize=(10, 6))\n",
    "chicago_crashes[chicago_crashes[\"INJURIES_FATAL\"] >= 1].groupby(\"CRASH_MONTH\")[\"CRASH_RECORD_ID\"].nunique().plot(kind=\"line\", \n",
    "                                                                                                                 color=\"purple\", \n",
    "                                                                                                                 linestyle=\"--\", \n",
    "                                                                                                                 marker=\"o\", \n",
    "                                                                                                                 label=\"line with markder\") \n",
    "plt.title(\"Fatal Accidents by Month\", \n",
    "          color=\"red\", \n",
    "          fontsize=20)\n",
    "ticks = list(range(35, 85, 5))\n",
    "plt.yticks(ticks, [f\"{x} accidents\" for x in ticks], color=\"black\")\n",
    "plt.xticks([1,2,3,4,5,6,7,8,9,10,11,12], \n",
    "           [\"Jan\", \"Feb\", \"March\", \"April\", \"May\", \"June\", \"July\", \"Aug\", \"Sept\", \"Oct\", \"Nov\", \"Dec\"], \n",
    "           color=\"black\")\n",
    "plt.xlabel(\"\")\n",
    "print(\"\"\"The number of fatal accidents begins at 51 in January and gradually decreases until the month of April where they hit 37. They amount of fatal accidents increases continually in the month of May\n",
    "where they are at 57 until the month of July, where they are 76 and begin to gradually decrease until the month of November where they hit 54. The number of fatal accidents then begin to increase \n",
    "again in the month of December to 66.\"\"\")"
   ]
  },
  {
   "cell_type": "markdown",
   "metadata": {},
   "source": [
    "What was the average amount of time (in minutes) for police to be notified after an accident?"
   ]
  },
  {
   "cell_type": "code",
   "execution_count": 29,
   "metadata": {},
   "outputs": [
    {
     "name": "stdout",
     "output_type": "stream",
     "text": [
      "On average, it took police around 2.28 minutes to be notified to an accident.\n"
     ]
    }
   ],
   "source": [
    "avg_response_time = round(chicago_crashes[\"MINS_FOR_POLICE_TO_BE_NOTIFIED\"].mean(), 2)\n",
    "print(f\"On average, it took police around {avg_response_time} minutes to be notified to an accident.\")"
   ]
  },
  {
   "cell_type": "markdown",
   "metadata": {},
   "source": [
    "What was the maximum amount of time (in minutes) for police to be notified after an accident?"
   ]
  },
  {
   "cell_type": "code",
   "execution_count": 30,
   "metadata": {},
   "outputs": [
    {
     "name": "stdout",
     "output_type": "stream",
     "text": [
      "The maximum response time for the police to be notified to an accident was 59 minutes.\n"
     ]
    }
   ],
   "source": [
    "max_response_time = round(chicago_crashes[\"MINS_FOR_POLICE_TO_BE_NOTIFIED\"].max(), 2)\n",
    "print(f\"The maximum response time for the police to be notified to an accident was {max_response_time} minutes.\") "
   ]
  },
  {
   "cell_type": "markdown",
   "metadata": {},
   "source": [
    "What was the minimum amount of time (in minutes) for police to be notified after an accident?"
   ]
  },
  {
   "cell_type": "code",
   "execution_count": 31,
   "metadata": {},
   "outputs": [
    {
     "name": "stdout",
     "output_type": "stream",
     "text": [
      "The minimum response time for the police to be notified to an accident was 0 minutes. Essentially the police were called as soon as the accident occured!\n"
     ]
    }
   ],
   "source": [
    "min_response_time = chicago_crashes[chicago_crashes[\"MINS_FOR_POLICE_TO_BE_NOTIFIED\"] >= 0][\"MINS_FOR_POLICE_TO_BE_NOTIFIED\"].min()\n",
    "print(f\"The minimum response time for the police to be notified to an accident was {min_response_time} minutes. Essentially the police were called as soon as the accident occured!\") "
   ]
  },
  {
   "cell_type": "markdown",
   "metadata": {},
   "source": [
    "How many total injuries were there in respect to the most severe injuries?"
   ]
  },
  {
   "cell_type": "code",
   "execution_count": 32,
   "metadata": {},
   "outputs": [
    {
     "data": {
      "text/plain": [
       "MOST_SEVERE_INJURY\n",
       "FATAL                        1187\n",
       "INCAPACITATING INJURY       18680\n",
       "NO INDICATION OF INJURY         0\n",
       "NONINCAPACITATING INJURY    80094\n",
       "REPORTED, NOT EVIDENT       41213\n",
       "Name: INJURIES_TOTAL, dtype: int32"
      ]
     },
     "execution_count": 32,
     "metadata": {},
     "output_type": "execute_result"
    }
   ],
   "source": [
    "chicago_crashes.groupby(\"MOST_SEVERE_INJURY\")[\"INJURIES_TOTAL\"].sum()"
   ]
  },
  {
   "cell_type": "markdown",
   "metadata": {},
   "source": [
    "OK, now lets visualize the percentages of the most severe injuries in contrast to the total injuries."
   ]
  },
  {
   "cell_type": "code",
   "execution_count": 33,
   "metadata": {},
   "outputs": [
    {
     "name": "stdout",
     "output_type": "stream",
     "text": [
      "According to the data, less than 1 percent of all injury types are fatal.\n"
     ]
    },
    {
     "data": {
      "image/png": "[encoded data removed]",
      "text/plain": [
       "<Figure size 1000x600 with 1 Axes>"
      ]
     },
     "metadata": {},
     "output_type": "display_data"
    }
   ],
   "source": [
    "plt.figure(figsize=(10, 6))\n",
    "e = [0.1, 0, 0, 0, 0]\n",
    "chicago_crashes.groupby(\"MOST_SEVERE_INJURY\")[\"INJURIES_TOTAL\"].sum().plot(kind=\"pie\", \n",
    "                                                                           shadow=True, \n",
    "                                                                           startangle=90, \n",
    "                                                                           autopct=\"%1.1ff%%\", \n",
    "                                                                           pctdistance=0.8, \n",
    "                                                                           explode=e)\n",
    "plt.title(\"Percentage of Injury Types\", \n",
    "          color=\"red\", \n",
    "          fontsize=20)\n",
    "plt.ylabel(\"\")\n",
    "print(f\"According to the data, less than 1 percent of all injury types are fatal.\") \n"
   ]
  },
  {
   "cell_type": "markdown",
   "metadata": {},
   "source": [
    "Now, lets take a look at year over year growth for total injuries:\n",
    "\n",
    "What is the year over year growth for total injuries for the year 2023/22?\n",
    "\n",
    "###### The formula for YOY Growth = (Current Year-Previous Year) / Previoys Year. So what we will do to answer this question is first create two variables, one being the total injuries for the year 2023, and the next being the total injuries for the year 2022. Then we will simply plug those variables into the YOY Growth formula to get the value that we are searching for. "
   ]
  },
  {
   "cell_type": "code",
   "execution_count": 34,
   "metadata": {},
   "outputs": [
    {
     "name": "stdout",
     "output_type": "stream",
     "text": [
      "The Year over year growth for total injuries for the 2023/2022 year is 0.05%.\n"
     ]
    }
   ],
   "source": [
    "Injury_Total_23 = chicago_crashes[chicago_crashes[\"CRASH_YEAR\"] == 2023][\"INJURIES_TOTAL\"].sum()\n",
    "Injury_Total_23\n",
    "\n",
    "Injury_Total_22 = chicago_crashes[chicago_crashes[\"CRASH_YEAR\"] == 2022][\"INJURIES_TOTAL\"].sum()\n",
    "Injury_Total_22\n",
    "\n",
    "Total_YoY_Growth_23 = round((Injury_Total_23 - Injury_Total_22) / Injury_Total_22, 2)\n",
    "Total_YoY_Growth_23\n",
    "\n",
    "print(f\"The Year over year growth for total injuries for the 2023/2022 year is {Total_YoY_Growth_23}%.\") "
   ]
  },
  {
   "cell_type": "markdown",
   "metadata": {},
   "source": [
    "What is the year over year growth for fatal injuries for the year 2024/23?"
   ]
  },
  {
   "cell_type": "code",
   "execution_count": 35,
   "metadata": {},
   "outputs": [
    {
     "name": "stdout",
     "output_type": "stream",
     "text": [
      "The Year over year growth for total injuries for the 2023/2022 year is -1.0%.\n"
     ]
    }
   ],
   "source": [
    "Fatal_Injury_Total_24 = chicago_crashes[chicago_crashes[\"CRASH_YEAR\"] == 2024][\"INJURIES_FATAL\"].sum()\n",
    "Fatal_Injury_Total_24\n",
    "\n",
    "Fatal_Injury_Total_23 = chicago_crashes[chicago_crashes[\"CRASH_YEAR\"] == 2023][\"INJURIES_FATAL\"].sum()\n",
    "Fatal_Injury_Total_23\n",
    "\n",
    "Fatal_YoY_Growth_24 = round((Fatal_Injury_Total_24 - Fatal_Injury_Total_23) / Fatal_Injury_Total_23, 2)\n",
    "Fatal_YoY_Growth_24\n",
    "\n",
    "print(f\"The Year over year growth for total injuries for the 2023/2022 year is {Fatal_YoY_Growth_24}%.\") "
   ]
  },
  {
   "cell_type": "markdown",
   "metadata": {},
   "source": [
    "What is the distribution of total injuries by damage?"
   ]
  },
  {
   "cell_type": "code",
   "execution_count": 36,
   "metadata": {},
   "outputs": [
    {
     "data": {
      "text/plain": [
       "DAMAGE\n",
       "$500 OR LESS      88914\n",
       "$501 - $1,500    206575\n",
       "OVER $1,500      474492\n",
       "Name: INJURIES_TOTAL, dtype: int64"
      ]
     },
     "execution_count": 36,
     "metadata": {},
     "output_type": "execute_result"
    }
   ],
   "source": [
    "chicago_crashes.groupby(\"DAMAGE\")[\"INJURIES_TOTAL\"].count()"
   ]
  },
  {
   "cell_type": "markdown",
   "metadata": {},
   "source": [
    "Lets visualize the above results in the form of a bar graph:"
   ]
  },
  {
   "cell_type": "code",
   "execution_count": 37,
   "metadata": {},
   "outputs": [
    {
     "name": "stdout",
     "output_type": "stream",
     "text": [
      "Majority of the total injuries by damage fell in the 'over $1500' category, with the total being 474,492.\n"
     ]
    },
    {
     "data": {
      "image/png": "[encoded data removed]",
      "text/plain": [
       "<Figure size 640x480 with 1 Axes>"
      ]
     },
     "metadata": {},
     "output_type": "display_data"
    }
   ],
   "source": [
    "c = [\"green\", \n",
    "     \"yellow\", \n",
    "     \"red\"]\n",
    "chicago_crashes.groupby(\"DAMAGE\")[\"INJURIES_TOTAL\"].count().plot(kind=\"bar\", \n",
    "                                                                 color=c, \n",
    "                                                                 rot=0)\n",
    "plt.title(\"Injuries By Damage Amount\", \n",
    "          color=\"black\", \n",
    "          fontsize=20)\n",
    "accident = list(range(0,600000, 100000))\n",
    "plt.yticks(accident, [f\"{a} accidents\" for a in accident], \n",
    "           color=\"red\")\n",
    "plt.xlabel(\"\") \n",
    "plt.xticks(color=\"black\")\n",
    "print(\"Majority of the total injuries by damage fell in the 'over $1500' category, with the total being 474,492.\")"
   ]
  },
  {
   "cell_type": "markdown",
   "metadata": {},
   "source": [
    "What is the distributioin of fatal injuries by damage?"
   ]
  },
  {
   "cell_type": "code",
   "execution_count": 41,
   "metadata": {},
   "outputs": [
    {
     "data": {
      "text/plain": [
       "DAMAGE\n",
       "$500 OR LESS      56\n",
       "$501 - $1,500     42\n",
       "OVER $1,500      590\n",
       "Name: INJURIES_FATAL, dtype: int64"
      ]
     },
     "execution_count": 41,
     "metadata": {},
     "output_type": "execute_result"
    }
   ],
   "source": [
    "chicago_crashes[chicago_crashes[\"INJURIES_FATAL\"] >= 1].groupby(\"DAMAGE\")[\"INJURIES_FATAL\"].count()"
   ]
  },
  {
   "cell_type": "markdown",
   "metadata": {},
   "source": [
    "We will now visualize the percentage of fatal injuries by damage with a pie chart:"
   ]
  },
  {
   "cell_type": "code",
   "execution_count": 42,
   "metadata": {},
   "outputs": [
    {
     "name": "stdout",
     "output_type": "stream",
     "text": [
      "85% of fatal injuries by damage fall in the 'over $1,500' category.\n"
     ]
    },
    {
     "data": {
      "image/png": "[encoded data removed]",
      "text/plain": [
       "<Figure size 1000x600 with 1 Axes>"
      ]
     },
     "metadata": {},
     "output_type": "display_data"
    }
   ],
   "source": [
    "plt.figure(figsize=(10,6))\n",
    "e = [0, 0, 0.1]\n",
    "chicago_crashes[chicago_crashes[\"INJURIES_FATAL\"] >= 1].groupby(\"DAMAGE\")[\"INJURIES_FATAL\"].count().plot(kind=\"pie\", \n",
    "                                                                                                         shadow=True, \n",
    "                                                                                                         autopct=\"%.2f%%\", \n",
    "                                                                                                         explode=e)\n",
    "plt.title(\"Percentage of Fatal Injuries by Damage\",\n",
    "          color=\"Red\",\n",
    "          fontsize=20)\n",
    "plt.ylabel(\"\") \n",
    "print(f\"85% of fatal injuries by damage fall in the 'over $1,500' category.\")\n"
   ]
  },
  {
   "cell_type": "markdown",
   "metadata": {},
   "source": [
    "This concludes our analysis of this dataset. We have demonstrated how to read data into a dataframe utilizing pandas, process and calculate data utilizing numpy, transform and manipulate data by extracting info from and creating new data columns, and visualize data in the form of a variety of different graphs utilizing matplotlib. In conjunction to using all of these skills, we were able to answer a host of questions related to the data to help us get a better understanding of what story the data has to tell. "
   ]
  }
 ],
 "metadata": {
  "kernelspec": {
   "display_name": "Python 3",
   "language": "python",
   "name": "python3"
  },
  "language_info": {
   "codemirror_mode": {
    "name": "ipython",
    "version": 3
   },
   "file_extension": ".py",
   "mimetype": "text/x-python",
   "name": "python",
   "nbconvert_exporter": "python",
   "pygments_lexer": "ipython3",
   "version": "3.9.13"
  }
 },
 "nbformat": 4,
 "nbformat_minor": 2
}
